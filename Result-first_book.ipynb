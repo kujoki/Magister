{
 "cells": [
  {
   "cell_type": "code",
   "execution_count": 155,
   "id": "dfc1f444",
   "metadata": {},
   "outputs": [],
   "source": [
    "import pandas as pd"
   ]
  },
  {
   "cell_type": "code",
   "execution_count": 156,
   "id": "9b7cb959",
   "metadata": {},
   "outputs": [],
   "source": [
    "import re"
   ]
  },
  {
   "cell_type": "code",
   "execution_count": 157,
   "id": "e08389d9",
   "metadata": {},
   "outputs": [],
   "source": [
    "from sklearn.impute import KNNImputer"
   ]
  },
  {
   "cell_type": "code",
   "execution_count": 158,
   "id": "7681cb5e",
   "metadata": {},
   "outputs": [],
   "source": [
    "import time\n",
    "import datetime"
   ]
  },
  {
   "cell_type": "markdown",
   "id": "46c6db4f",
   "metadata": {},
   "source": [
    "Подгрузка первого файла"
   ]
  },
  {
   "cell_type": "code",
   "execution_count": 159,
   "id": "8996daab",
   "metadata": {},
   "outputs": [
    {
     "name": "stderr",
     "output_type": "stream",
     "text": [
      "/usr/lib/python3/dist-packages/openpyxl/worksheet/header_footer.py:48: UserWarning: Cannot parse header or footer so it will be ignored\n",
      "  warn(\"\"\"Cannot parse header or footer so it will be ignored\"\"\")\n"
     ]
    }
   ],
   "source": [
    "data = pd.read_excel('строки 2020 до июля 2021_без ФИО.xlsx')"
   ]
  },
  {
   "cell_type": "code",
   "execution_count": 160,
   "id": "87e8f77e",
   "metadata": {},
   "outputs": [
    {
     "data": {
      "text/html": [
       "<div>\n",
       "<style scoped>\n",
       "    .dataframe tbody tr th:only-of-type {\n",
       "        vertical-align: middle;\n",
       "    }\n",
       "\n",
       "    .dataframe tbody tr th {\n",
       "        vertical-align: top;\n",
       "    }\n",
       "\n",
       "    .dataframe thead th {\n",
       "        text-align: right;\n",
       "    }\n",
       "</style>\n",
       "<table border=\"1\" class=\"dataframe\">\n",
       "  <thead>\n",
       "    <tr style=\"text-align: right;\">\n",
       "      <th></th>\n",
       "      <th>Фамилия</th>\n",
       "      <th>карта №</th>\n",
       "      <th>ФИО пациента</th>\n",
       "      <th>Возраст</th>\n",
       "      <th>Дата рождения</th>\n",
       "      <th>Диагноз</th>\n",
       "      <th>Диагноз, строка</th>\n",
       "      <th>Продолжительность бесплодия</th>\n",
       "      <th>Дата пункции</th>\n",
       "      <th>Дата переноса</th>\n",
       "      <th>...</th>\n",
       "      <th>MEDECINS_ID</th>\n",
       "      <th>Своевременность</th>\n",
       "      <th>Пол</th>\n",
       "      <th>Рост</th>\n",
       "      <th>Вес.1</th>\n",
       "      <th>Вид клин.бер</th>\n",
       "      <th>Срок родов</th>\n",
       "      <th>Возраст СМ</th>\n",
       "      <th>MOTCONSU_ID_Исхода</th>\n",
       "      <th>Осложнения во время беременности</th>\n",
       "    </tr>\n",
       "  </thead>\n",
       "  <tbody>\n",
       "    <tr>\n",
       "      <th>0</th>\n",
       "      <td>Савина</td>\n",
       "      <td>NaN</td>\n",
       "      <td>NaN</td>\n",
       "      <td>NaN</td>\n",
       "      <td>NaN</td>\n",
       "      <td>NaN</td>\n",
       "      <td>NaN</td>\n",
       "      <td>NaN</td>\n",
       "      <td>NaN</td>\n",
       "      <td>18.02.2020 14:49:43</td>\n",
       "      <td>...</td>\n",
       "      <td>613.0</td>\n",
       "      <td>NaN</td>\n",
       "      <td>NaN</td>\n",
       "      <td>NaN</td>\n",
       "      <td>NaN</td>\n",
       "      <td>NaN</td>\n",
       "      <td>NaN</td>\n",
       "      <td>NaN</td>\n",
       "      <td>NaN</td>\n",
       "      <td>NaN</td>\n",
       "    </tr>\n",
       "    <tr>\n",
       "      <th>1</th>\n",
       "      <td>Исакова</td>\n",
       "      <td>NaN</td>\n",
       "      <td>NaN</td>\n",
       "      <td>NaN</td>\n",
       "      <td>NaN</td>\n",
       "      <td>NaN</td>\n",
       "      <td>NaN</td>\n",
       "      <td>NaN</td>\n",
       "      <td>NaN</td>\n",
       "      <td>18.02.2020 15:06:26</td>\n",
       "      <td>...</td>\n",
       "      <td>360.0</td>\n",
       "      <td>NaN</td>\n",
       "      <td>NaN</td>\n",
       "      <td>NaN</td>\n",
       "      <td>NaN</td>\n",
       "      <td>NaN</td>\n",
       "      <td>NaN</td>\n",
       "      <td>NaN</td>\n",
       "      <td>NaN</td>\n",
       "      <td>NaN</td>\n",
       "    </tr>\n",
       "    <tr>\n",
       "      <th>2</th>\n",
       "      <td>Исакова</td>\n",
       "      <td>NaN</td>\n",
       "      <td>NaN</td>\n",
       "      <td>NaN</td>\n",
       "      <td>NaN</td>\n",
       "      <td>NaN</td>\n",
       "      <td>NaN</td>\n",
       "      <td>NaN</td>\n",
       "      <td>NaN</td>\n",
       "      <td>26.02.2020 12:15:36</td>\n",
       "      <td>...</td>\n",
       "      <td>360.0</td>\n",
       "      <td>NaN</td>\n",
       "      <td>NaN</td>\n",
       "      <td>NaN</td>\n",
       "      <td>NaN</td>\n",
       "      <td>NaN</td>\n",
       "      <td>NaN</td>\n",
       "      <td>NaN</td>\n",
       "      <td>407760.0</td>\n",
       "      <td>NaN</td>\n",
       "    </tr>\n",
       "    <tr>\n",
       "      <th>3</th>\n",
       "      <td>Кирсанов</td>\n",
       "      <td>NaN</td>\n",
       "      <td>NaN</td>\n",
       "      <td>NaN</td>\n",
       "      <td>NaN</td>\n",
       "      <td>NaN</td>\n",
       "      <td>NaN</td>\n",
       "      <td>NaN</td>\n",
       "      <td>NaN</td>\n",
       "      <td>08.10.2020 09:54:12</td>\n",
       "      <td>...</td>\n",
       "      <td>361.0</td>\n",
       "      <td>NaN</td>\n",
       "      <td>NaN</td>\n",
       "      <td>NaN</td>\n",
       "      <td>NaN</td>\n",
       "      <td>NaN</td>\n",
       "      <td>NaN</td>\n",
       "      <td>NaN</td>\n",
       "      <td>NaN</td>\n",
       "      <td>NaN</td>\n",
       "    </tr>\n",
       "    <tr>\n",
       "      <th>4</th>\n",
       "      <td>Исакова</td>\n",
       "      <td>NaN</td>\n",
       "      <td>NaN</td>\n",
       "      <td>NaN</td>\n",
       "      <td>NaN</td>\n",
       "      <td>NaN</td>\n",
       "      <td>NaN</td>\n",
       "      <td>NaN</td>\n",
       "      <td>NaN</td>\n",
       "      <td>23.01.2021 10:51:06</td>\n",
       "      <td>...</td>\n",
       "      <td>360.0</td>\n",
       "      <td>NaN</td>\n",
       "      <td>NaN</td>\n",
       "      <td>NaN</td>\n",
       "      <td>NaN</td>\n",
       "      <td>NaN</td>\n",
       "      <td>NaN</td>\n",
       "      <td>NaN</td>\n",
       "      <td>NaN</td>\n",
       "      <td>NaN</td>\n",
       "    </tr>\n",
       "    <tr>\n",
       "      <th>...</th>\n",
       "      <td>...</td>\n",
       "      <td>...</td>\n",
       "      <td>...</td>\n",
       "      <td>...</td>\n",
       "      <td>...</td>\n",
       "      <td>...</td>\n",
       "      <td>...</td>\n",
       "      <td>...</td>\n",
       "      <td>...</td>\n",
       "      <td>...</td>\n",
       "      <td>...</td>\n",
       "      <td>...</td>\n",
       "      <td>...</td>\n",
       "      <td>...</td>\n",
       "      <td>...</td>\n",
       "      <td>...</td>\n",
       "      <td>...</td>\n",
       "      <td>...</td>\n",
       "      <td>...</td>\n",
       "      <td>...</td>\n",
       "      <td>...</td>\n",
       "    </tr>\n",
       "    <tr>\n",
       "      <th>2965</th>\n",
       "      <td>Исакова</td>\n",
       "      <td>97330омс</td>\n",
       "      <td>NaN</td>\n",
       "      <td>38.0</td>\n",
       "      <td>21.07.1982</td>\n",
       "      <td>Бесплодие_x000D_\\nI.Хронически_x000D_\\nй_x000D...</td>\n",
       "      <td>Бесплодие I.Хронический_x000D_\\nсальпингоофори...</td>\n",
       "      <td>18.0</td>\n",
       "      <td>NaN</td>\n",
       "      <td>22.05.2021 11:28:25</td>\n",
       "      <td>...</td>\n",
       "      <td>360.0</td>\n",
       "      <td>NaN</td>\n",
       "      <td>NaN</td>\n",
       "      <td>NaN</td>\n",
       "      <td>NaN</td>\n",
       "      <td>NaN</td>\n",
       "      <td>NaN</td>\n",
       "      <td>NaN</td>\n",
       "      <td>463763.0</td>\n",
       "      <td>NaN</td>\n",
       "    </tr>\n",
       "    <tr>\n",
       "      <th>2966</th>\n",
       "      <td>NaN</td>\n",
       "      <td>NaN</td>\n",
       "      <td>NaN</td>\n",
       "      <td>NaN</td>\n",
       "      <td>NaN</td>\n",
       "      <td>фактор.N97.4_x000D_\\n.</td>\n",
       "      <td>NaN</td>\n",
       "      <td>NaN</td>\n",
       "      <td>NaN</td>\n",
       "      <td>NaN</td>\n",
       "      <td>...</td>\n",
       "      <td>NaN</td>\n",
       "      <td>NaN</td>\n",
       "      <td>NaN</td>\n",
       "      <td>NaN</td>\n",
       "      <td>NaN</td>\n",
       "      <td>NaN</td>\n",
       "      <td>NaN</td>\n",
       "      <td>NaN</td>\n",
       "      <td>NaN</td>\n",
       "      <td>NaN</td>\n",
       "    </tr>\n",
       "    <tr>\n",
       "      <th>2967</th>\n",
       "      <td>Исакова</td>\n",
       "      <td>97729</td>\n",
       "      <td>NaN</td>\n",
       "      <td>36.0</td>\n",
       "      <td>28.02.1985</td>\n",
       "      <td>Бесплодие_x000D_\\nI.Хронически_x000D_\\nй_x000D...</td>\n",
       "      <td>Бесплодие I.Хронический_x000D_\\nсальпингоофори...</td>\n",
       "      <td>NaN</td>\n",
       "      <td>28.04.2021 11:30:00</td>\n",
       "      <td>28.05.2021 15:20:00</td>\n",
       "      <td>...</td>\n",
       "      <td>360.0</td>\n",
       "      <td>преждевременные</td>\n",
       "      <td>мальчик</td>\n",
       "      <td>30.0</td>\n",
       "      <td>1732.0</td>\n",
       "      <td>NaN</td>\n",
       "      <td>28-32</td>\n",
       "      <td>NaN</td>\n",
       "      <td>464505.0</td>\n",
       "      <td>NaN</td>\n",
       "    </tr>\n",
       "    <tr>\n",
       "      <th>2968</th>\n",
       "      <td>Исакова</td>\n",
       "      <td>97729</td>\n",
       "      <td>NaN</td>\n",
       "      <td>36.0</td>\n",
       "      <td>28.02.1985</td>\n",
       "      <td>Бесплодие_x000D_\\nI.Хронически_x000D_\\nй_x000D...</td>\n",
       "      <td>Бесплодие I.Хронический_x000D_\\nсальпингоофори...</td>\n",
       "      <td>NaN</td>\n",
       "      <td>28.04.2021 11:30:00</td>\n",
       "      <td>28.05.2021 15:20:00</td>\n",
       "      <td>...</td>\n",
       "      <td>360.0</td>\n",
       "      <td>преждевременные</td>\n",
       "      <td>мальчик</td>\n",
       "      <td>30.0</td>\n",
       "      <td>1732.0</td>\n",
       "      <td>NaN</td>\n",
       "      <td>28-32</td>\n",
       "      <td>NaN</td>\n",
       "      <td>464505.0</td>\n",
       "      <td>NaN</td>\n",
       "    </tr>\n",
       "    <tr>\n",
       "      <th>2969</th>\n",
       "      <td>Исакова</td>\n",
       "      <td>96918</td>\n",
       "      <td>NaN</td>\n",
       "      <td>51.0</td>\n",
       "      <td>04.06.1970</td>\n",
       "      <td>Бесплодие II._x000D_\\nПриобретенн_x000D_\\nое_x...</td>\n",
       "      <td>Бесплодие II. Приобретенное отсутствие_x000D_\\...</td>\n",
       "      <td>10.0</td>\n",
       "      <td>10.05.2021 11:27:26</td>\n",
       "      <td>29.06.2021 15:40:00</td>\n",
       "      <td>...</td>\n",
       "      <td>360.0</td>\n",
       "      <td>NaN</td>\n",
       "      <td>NaN</td>\n",
       "      <td>NaN</td>\n",
       "      <td>NaN</td>\n",
       "      <td>NaN</td>\n",
       "      <td>NaN</td>\n",
       "      <td>34.0</td>\n",
       "      <td>469029.0</td>\n",
       "      <td>NaN</td>\n",
       "    </tr>\n",
       "  </tbody>\n",
       "</table>\n",
       "<p>2970 rows × 99 columns</p>\n",
       "</div>"
      ],
      "text/plain": [
       "       Фамилия   карта №  ФИО пациента  Возраст Дата рождения  \\\n",
       "0       Савина       NaN           NaN      NaN           NaN   \n",
       "1      Исакова       NaN           NaN      NaN           NaN   \n",
       "2      Исакова       NaN           NaN      NaN           NaN   \n",
       "3     Кирсанов       NaN           NaN      NaN           NaN   \n",
       "4      Исакова       NaN           NaN      NaN           NaN   \n",
       "...        ...       ...           ...      ...           ...   \n",
       "2965   Исакова  97330омс           NaN     38.0    21.07.1982   \n",
       "2966       NaN       NaN           NaN      NaN           NaN   \n",
       "2967   Исакова     97729           NaN     36.0    28.02.1985   \n",
       "2968   Исакова     97729           NaN     36.0    28.02.1985   \n",
       "2969   Исакова     96918           NaN     51.0    04.06.1970   \n",
       "\n",
       "                                                Диагноз  \\\n",
       "0                                                   NaN   \n",
       "1                                                   NaN   \n",
       "2                                                   NaN   \n",
       "3                                                   NaN   \n",
       "4                                                   NaN   \n",
       "...                                                 ...   \n",
       "2965  Бесплодие_x000D_\\nI.Хронически_x000D_\\nй_x000D...   \n",
       "2966                             фактор.N97.4_x000D_\\n.   \n",
       "2967  Бесплодие_x000D_\\nI.Хронически_x000D_\\nй_x000D...   \n",
       "2968  Бесплодие_x000D_\\nI.Хронически_x000D_\\nй_x000D...   \n",
       "2969  Бесплодие II._x000D_\\nПриобретенн_x000D_\\nое_x...   \n",
       "\n",
       "                                        Диагноз, строка  \\\n",
       "0                                                   NaN   \n",
       "1                                                   NaN   \n",
       "2                                                   NaN   \n",
       "3                                                   NaN   \n",
       "4                                                   NaN   \n",
       "...                                                 ...   \n",
       "2965  Бесплодие I.Хронический_x000D_\\nсальпингоофори...   \n",
       "2966                                                NaN   \n",
       "2967  Бесплодие I.Хронический_x000D_\\nсальпингоофори...   \n",
       "2968  Бесплодие I.Хронический_x000D_\\nсальпингоофори...   \n",
       "2969  Бесплодие II. Приобретенное отсутствие_x000D_\\...   \n",
       "\n",
       "      Продолжительность бесплодия         Дата пункции        Дата переноса  \\\n",
       "0                             NaN                  NaN  18.02.2020 14:49:43   \n",
       "1                             NaN                  NaN  18.02.2020 15:06:26   \n",
       "2                             NaN                  NaN  26.02.2020 12:15:36   \n",
       "3                             NaN                  NaN  08.10.2020 09:54:12   \n",
       "4                             NaN                  NaN  23.01.2021 10:51:06   \n",
       "...                           ...                  ...                  ...   \n",
       "2965                         18.0                  NaN  22.05.2021 11:28:25   \n",
       "2966                          NaN                  NaN                  NaN   \n",
       "2967                          NaN  28.04.2021 11:30:00  28.05.2021 15:20:00   \n",
       "2968                          NaN  28.04.2021 11:30:00  28.05.2021 15:20:00   \n",
       "2969                         10.0  10.05.2021 11:27:26  29.06.2021 15:40:00   \n",
       "\n",
       "      ...  MEDECINS_ID  Своевременность      Пол  Рост   Вес.1 Вид клин.бер  \\\n",
       "0     ...        613.0              NaN      NaN   NaN     NaN          NaN   \n",
       "1     ...        360.0              NaN      NaN   NaN     NaN          NaN   \n",
       "2     ...        360.0              NaN      NaN   NaN     NaN          NaN   \n",
       "3     ...        361.0              NaN      NaN   NaN     NaN          NaN   \n",
       "4     ...        360.0              NaN      NaN   NaN     NaN          NaN   \n",
       "...   ...          ...              ...      ...   ...     ...          ...   \n",
       "2965  ...        360.0              NaN      NaN   NaN     NaN          NaN   \n",
       "2966  ...          NaN              NaN      NaN   NaN     NaN          NaN   \n",
       "2967  ...        360.0  преждевременные  мальчик  30.0  1732.0          NaN   \n",
       "2968  ...        360.0  преждевременные  мальчик  30.0  1732.0          NaN   \n",
       "2969  ...        360.0              NaN      NaN   NaN     NaN          NaN   \n",
       "\n",
       "     Срок родов Возраст СМ  MOTCONSU_ID_Исхода  \\\n",
       "0           NaN        NaN                 NaN   \n",
       "1           NaN        NaN                 NaN   \n",
       "2           NaN        NaN            407760.0   \n",
       "3           NaN        NaN                 NaN   \n",
       "4           NaN        NaN                 NaN   \n",
       "...         ...        ...                 ...   \n",
       "2965        NaN        NaN            463763.0   \n",
       "2966        NaN        NaN                 NaN   \n",
       "2967      28-32        NaN            464505.0   \n",
       "2968      28-32        NaN            464505.0   \n",
       "2969        NaN       34.0            469029.0   \n",
       "\n",
       "      Осложнения во время беременности  \n",
       "0                                  NaN  \n",
       "1                                  NaN  \n",
       "2                                  NaN  \n",
       "3                                  NaN  \n",
       "4                                  NaN  \n",
       "...                                ...  \n",
       "2965                               NaN  \n",
       "2966                               NaN  \n",
       "2967                               NaN  \n",
       "2968                               NaN  \n",
       "2969                               NaN  \n",
       "\n",
       "[2970 rows x 99 columns]"
      ]
     },
     "execution_count": 160,
     "metadata": {},
     "output_type": "execute_result"
    }
   ],
   "source": [
    "data"
   ]
  },
  {
   "cell_type": "code",
   "execution_count": 161,
   "id": "c2270038",
   "metadata": {},
   "outputs": [
    {
     "name": "stdout",
     "output_type": "stream",
     "text": [
      "<class 'pandas.core.frame.DataFrame'>\n",
      "RangeIndex: 2970 entries, 0 to 2969\n",
      "Data columns (total 99 columns):\n",
      " #   Column                                         Non-Null Count  Dtype  \n",
      "---  ------                                         --------------  -----  \n",
      " 0   Фамилия                                        2453 non-null   object \n",
      " 1   карта №                                        2446 non-null   object \n",
      " 2   ФИО пациента                                   0 non-null      float64\n",
      " 3   Возраст                                        2446 non-null   float64\n",
      " 4   Дата рождения                                  2446 non-null   object \n",
      " 5   Диагноз                                        2838 non-null   object \n",
      " 6   Диагноз, строка                                2323 non-null   object \n",
      " 7   Продолжительность бесплодия                    1823 non-null   float64\n",
      " 8   Дата пункции                                   2402 non-null   object \n",
      " 9   Дата переноса                                  2453 non-null   object \n",
      " 10  Номер попытки                                  2385 non-null   float64\n",
      " 11  Рост женщины                                   2446 non-null   float64\n",
      " 12  Вес женщины                                    2437 non-null   float64\n",
      " 13  ИМТ женщины                                    2446 non-null   float64\n",
      " 14  Вид протокола                                  2264 non-null   object \n",
      " 15  Гонадотропины                                  2372 non-null   object \n",
      " 16  Стартовая доза                                 2372 non-null   object \n",
      " 17  Триггер                                        2282 non-null   object \n",
      " 18  Продол-ть ОС                                   2270 non-null   float64\n",
      " 19  День цикла пункция                             2395 non-null   float64\n",
      " 20  День цикла перенос                             2383 non-null   float64\n",
      " 21  Пунктировано                                   2234 non-null   float64\n",
      " 22  Промыто                                        887 non-null    float64\n",
      " 23  Ооцитов                                        2401 non-null   float64\n",
      " 24  кол-во М II                                    2453 non-null   float64\n",
      " 25  Толщина эндометрия мм                          2281 non-null   float64\n",
      " 26  Эмбриолог перенос                              2433 non-null   object \n",
      " 27  Время культ.                                   2453 non-null   float64\n",
      " 28  ПГД                                            2453 non-null   float64\n",
      " 29  Метод ПГД                                      405 non-null    object \n",
      " 30  ЭКО                                            2453 non-null   float64\n",
      " 31  ИКСИ                                           2453 non-null   float64\n",
      " 32  DATA_PMT_ART17_ID                              2446 non-null   float64\n",
      " 33  Ссылка на исходную запись протокола            2446 non-null   float64\n",
      " 34  Ссылка на предыдущую запись протокола          1313 non-null   float64\n",
      " 35  КриооцитыПациентки                             2453 non-null   float64\n",
      " 36  ДО крио                                        2453 non-null   float64\n",
      " 37  ДО свеж                                        2453 non-null   float64\n",
      " 38  ДС                                             2453 non-null   float64\n",
      " 39  ДЕ после ПГД                                   2453 non-null   float64\n",
      " 40  MOTCONSU_ID                                    2446 non-null   float64\n",
      " 41  ДЕ без ПГД                                     2453 non-null   float64\n",
      " 42  КРИОсперма                                     2453 non-null   float64\n",
      " 43  Сперма свежая                                  2453 non-null   float64\n",
      " 44  сперма, полученная хир путем разморож          6 non-null      object \n",
      " 45  Сперма, полученная хир путем свежая            44 non-null     object \n",
      " 46  Криоперенос                                    2453 non-null   float64\n",
      " 47  КолПер                                         2453 non-null   float64\n",
      " 48  Объём эякулята (мл)                            2217 non-null   object \n",
      " 49  Концентрация круглых клеток                    1 non-null      object \n",
      " 50  Концентрация сперматозойдов (млн на мл)        2220 non-null   object \n",
      " 51  Подвижность сперматозойдов (A+B) (%)           2198 non-null   object \n",
      " 52  Нормальные формы (%)                           13 non-null     float64\n",
      " 53  Морфологические аномальные в нативном образце  2131 non-null   float64\n",
      " 54  Нормальные формы расчет                        2453 non-null   float64\n",
      " 55  Нормальные формы Пред                          977 non-null    float64\n",
      " 56  GR1                                            2453 non-null   float64\n",
      " 57  GR1-2                                          2453 non-null   float64\n",
      " 58  GR2                                            2453 non-null   float64\n",
      " 59  GR2-3                                          2453 non-null   float64\n",
      " 60  GR3                                            2453 non-null   float64\n",
      " 61  Грэйд                                          2440 non-null   object \n",
      " 62  КолЗам                                         2453 non-null   float64\n",
      " 63  ПовтЗам                                        2453 non-null   float64\n",
      " 64  Номер эмбриона                                 2446 non-null   float64\n",
      " 65  СМ                                             2453 non-null   float64\n",
      " 66  Исход лечения                                  2440 non-null   object \n",
      " 67  Количество плодов                              1096 non-null   float64\n",
      " 68  Исход беременности                             0 non-null      float64\n",
      " 69  Возраст мужчины                                2332 non-null   float64\n",
      " 70  МАР - тест (lgG)                               9 non-null      object \n",
      " 71  Рост М                                         524 non-null    float64\n",
      " 72  Вес                                            519 non-null    float64\n",
      " 73  Алкоголь                                       2453 non-null   float64\n",
      " 74  лечение варикоцеле                             2453 non-null   float64\n",
      " 75  ЗППП                                           2453 non-null   float64\n",
      " 76  крипторхизм                                    2453 non-null   float64\n",
      " 77  простатит                                      2453 non-null   float64\n",
      " 78  Событие, к которому относится запись           2446 non-null   float64\n",
      " 79  Дата записи                                    2453 non-null   object \n",
      " 80  Код                                            1543 non-null   object \n",
      " 81  МАР-тест                                       827 non-null    object \n",
      " 82  карта супруга                                  2334 non-null   object \n",
      " 83  ФИО супруга                                    0 non-null      float64\n",
      " 84  Возраст супруга                                2332 non-null   float64\n",
      " 85  ИсхDATA_PMT_ART17_ID                           2446 non-null   float64\n",
      " 86  Название процедуры                             2446 non-null   object \n",
      " 87  Стимуляция                                     2446 non-null   object \n",
      " 88  Вид прот.перенос                               2146 non-null   object \n",
      " 89  MEDECINS_ID                                    2453 non-null   float64\n",
      " 90  Своевременность                                627 non-null    object \n",
      " 91  Пол                                            626 non-null    object \n",
      " 92  Рост                                           553 non-null    float64\n",
      " 93  Вес.1                                          569 non-null    float64\n",
      " 94  Вид клин.бер                                   230 non-null    object \n",
      " 95  Срок родов                                     623 non-null    object \n",
      " 96  Возраст СМ                                     87 non-null     float64\n",
      " 97  MOTCONSU_ID_Исхода                             2441 non-null   float64\n",
      " 98  Осложнения во время беременности               40 non-null     object \n",
      "dtypes: float64(65), object(34)\n",
      "memory usage: 2.2+ MB\n"
     ]
    }
   ],
   "source": [
    "data.info()"
   ]
  },
  {
   "cell_type": "code",
   "execution_count": 162,
   "id": "54e36ec0",
   "metadata": {},
   "outputs": [
    {
     "data": {
      "text/plain": [
       "Пункционная биопсия придатков, яичков,_x000D_\\nаспирационная (PESA, TESЕ)    6\n",
       "Name: сперма, полученная хир путем разморож, dtype: int64"
      ]
     },
     "execution_count": 162,
     "metadata": {},
     "output_type": "execute_result"
    }
   ],
   "source": [
    "data['сперма, полученная хир путем разморож'].value_counts()"
   ]
  },
  {
   "cell_type": "code",
   "execution_count": 163,
   "id": "8f70f7f0",
   "metadata": {},
   "outputs": [
    {
     "data": {
      "text/plain": [
       "Пункционная биопсия придатков, яичков,_x000D_\\nаспирационная (PESA, TESЕ)    35\n",
       "Открытая биопсия яичек, придатков MECA,_x000D_\\nTECE                          5\n",
       "Микрохирургическая экстракция_x000D_\\nсперматозоидов из яичек                 4\n",
       "Name: Сперма, полученная хир путем свежая, dtype: int64"
      ]
     },
     "execution_count": 163,
     "metadata": {},
     "output_type": "execute_result"
    }
   ],
   "source": [
    "data['Сперма, полученная хир путем свежая'].value_counts()"
   ]
  },
  {
   "cell_type": "code",
   "execution_count": 164,
   "id": "33c30c19",
   "metadata": {},
   "outputs": [
    {
     "data": {
      "text/plain": [
       "1.0    1313\n",
       "0.0    1140\n",
       "Name: Криоперенос, dtype: int64"
      ]
     },
     "execution_count": 164,
     "metadata": {},
     "output_type": "execute_result"
    }
   ],
   "source": [
    "data['Криоперенос'].value_counts()"
   ]
  },
  {
   "cell_type": "code",
   "execution_count": 165,
   "id": "2d608db1",
   "metadata": {},
   "outputs": [],
   "source": [
    "data = data[~data['Фамилия'].isnull()]"
   ]
  },
  {
   "cell_type": "code",
   "execution_count": 166,
   "id": "bef26c58",
   "metadata": {},
   "outputs": [
    {
     "name": "stdout",
     "output_type": "stream",
     "text": [
      "<class 'pandas.core.frame.DataFrame'>\n",
      "Int64Index: 2453 entries, 0 to 2969\n",
      "Data columns (total 99 columns):\n",
      " #   Column                                         Non-Null Count  Dtype  \n",
      "---  ------                                         --------------  -----  \n",
      " 0   Фамилия                                        2453 non-null   object \n",
      " 1   карта №                                        2446 non-null   object \n",
      " 2   ФИО пациента                                   0 non-null      float64\n",
      " 3   Возраст                                        2446 non-null   float64\n",
      " 4   Дата рождения                                  2446 non-null   object \n",
      " 5   Диагноз                                        2323 non-null   object \n",
      " 6   Диагноз, строка                                2323 non-null   object \n",
      " 7   Продолжительность бесплодия                    1823 non-null   float64\n",
      " 8   Дата пункции                                   2402 non-null   object \n",
      " 9   Дата переноса                                  2453 non-null   object \n",
      " 10  Номер попытки                                  2385 non-null   float64\n",
      " 11  Рост женщины                                   2446 non-null   float64\n",
      " 12  Вес женщины                                    2437 non-null   float64\n",
      " 13  ИМТ женщины                                    2446 non-null   float64\n",
      " 14  Вид протокола                                  2264 non-null   object \n",
      " 15  Гонадотропины                                  2372 non-null   object \n",
      " 16  Стартовая доза                                 2372 non-null   object \n",
      " 17  Триггер                                        2282 non-null   object \n",
      " 18  Продол-ть ОС                                   2270 non-null   float64\n",
      " 19  День цикла пункция                             2395 non-null   float64\n",
      " 20  День цикла перенос                             2383 non-null   float64\n",
      " 21  Пунктировано                                   2234 non-null   float64\n",
      " 22  Промыто                                        887 non-null    float64\n",
      " 23  Ооцитов                                        2401 non-null   float64\n",
      " 24  кол-во М II                                    2453 non-null   float64\n",
      " 25  Толщина эндометрия мм                          2281 non-null   float64\n",
      " 26  Эмбриолог перенос                              2433 non-null   object \n",
      " 27  Время культ.                                   2453 non-null   float64\n",
      " 28  ПГД                                            2453 non-null   float64\n",
      " 29  Метод ПГД                                      405 non-null    object \n",
      " 30  ЭКО                                            2453 non-null   float64\n",
      " 31  ИКСИ                                           2453 non-null   float64\n",
      " 32  DATA_PMT_ART17_ID                              2446 non-null   float64\n",
      " 33  Ссылка на исходную запись протокола            2446 non-null   float64\n",
      " 34  Ссылка на предыдущую запись протокола          1313 non-null   float64\n",
      " 35  КриооцитыПациентки                             2453 non-null   float64\n",
      " 36  ДО крио                                        2453 non-null   float64\n",
      " 37  ДО свеж                                        2453 non-null   float64\n",
      " 38  ДС                                             2453 non-null   float64\n",
      " 39  ДЕ после ПГД                                   2453 non-null   float64\n",
      " 40  MOTCONSU_ID                                    2446 non-null   float64\n",
      " 41  ДЕ без ПГД                                     2453 non-null   float64\n",
      " 42  КРИОсперма                                     2453 non-null   float64\n",
      " 43  Сперма свежая                                  2453 non-null   float64\n",
      " 44  сперма, полученная хир путем разморож          6 non-null      object \n",
      " 45  Сперма, полученная хир путем свежая            44 non-null     object \n",
      " 46  Криоперенос                                    2453 non-null   float64\n",
      " 47  КолПер                                         2453 non-null   float64\n",
      " 48  Объём эякулята (мл)                            2217 non-null   object \n",
      " 49  Концентрация круглых клеток                    1 non-null      object \n",
      " 50  Концентрация сперматозойдов (млн на мл)        2220 non-null   object \n",
      " 51  Подвижность сперматозойдов (A+B) (%)           2198 non-null   object \n",
      " 52  Нормальные формы (%)                           13 non-null     float64\n",
      " 53  Морфологические аномальные в нативном образце  2131 non-null   float64\n",
      " 54  Нормальные формы расчет                        2453 non-null   float64\n",
      " 55  Нормальные формы Пред                          977 non-null    float64\n",
      " 56  GR1                                            2453 non-null   float64\n",
      " 57  GR1-2                                          2453 non-null   float64\n",
      " 58  GR2                                            2453 non-null   float64\n",
      " 59  GR2-3                                          2453 non-null   float64\n",
      " 60  GR3                                            2453 non-null   float64\n",
      " 61  Грэйд                                          2440 non-null   object \n",
      " 62  КолЗам                                         2453 non-null   float64\n",
      " 63  ПовтЗам                                        2453 non-null   float64\n",
      " 64  Номер эмбриона                                 2446 non-null   float64\n",
      " 65  СМ                                             2453 non-null   float64\n",
      " 66  Исход лечения                                  2440 non-null   object \n",
      " 67  Количество плодов                              1096 non-null   float64\n",
      " 68  Исход беременности                             0 non-null      float64\n",
      " 69  Возраст мужчины                                2332 non-null   float64\n",
      " 70  МАР - тест (lgG)                               9 non-null      object \n",
      " 71  Рост М                                         524 non-null    float64\n",
      " 72  Вес                                            519 non-null    float64\n",
      " 73  Алкоголь                                       2453 non-null   float64\n",
      " 74  лечение варикоцеле                             2453 non-null   float64\n",
      " 75  ЗППП                                           2453 non-null   float64\n",
      " 76  крипторхизм                                    2453 non-null   float64\n",
      " 77  простатит                                      2453 non-null   float64\n",
      " 78  Событие, к которому относится запись           2446 non-null   float64\n",
      " 79  Дата записи                                    2453 non-null   object \n",
      " 80  Код                                            1543 non-null   object \n",
      " 81  МАР-тест                                       827 non-null    object \n",
      " 82  карта супруга                                  2334 non-null   object \n",
      " 83  ФИО супруга                                    0 non-null      float64\n",
      " 84  Возраст супруга                                2332 non-null   float64\n",
      " 85  ИсхDATA_PMT_ART17_ID                           2446 non-null   float64\n",
      " 86  Название процедуры                             2446 non-null   object \n",
      " 87  Стимуляция                                     2446 non-null   object \n",
      " 88  Вид прот.перенос                               2146 non-null   object \n",
      " 89  MEDECINS_ID                                    2453 non-null   float64\n",
      " 90  Своевременность                                627 non-null    object \n",
      " 91  Пол                                            626 non-null    object \n",
      " 92  Рост                                           553 non-null    float64\n",
      " 93  Вес.1                                          569 non-null    float64\n",
      " 94  Вид клин.бер                                   230 non-null    object \n",
      " 95  Срок родов                                     623 non-null    object \n",
      " 96  Возраст СМ                                     87 non-null     float64\n",
      " 97  MOTCONSU_ID_Исхода                             2441 non-null   float64\n",
      " 98  Осложнения во время беременности               38 non-null     object \n",
      "dtypes: float64(65), object(34)\n",
      "memory usage: 1.9+ MB\n"
     ]
    }
   ],
   "source": [
    "data.info()"
   ]
  },
  {
   "cell_type": "code",
   "execution_count": 167,
   "id": "6c541922",
   "metadata": {},
   "outputs": [],
   "source": [
    "data = data.drop(columns = ['ФИО пациента','ФИО супруга'])"
   ]
  },
  {
   "cell_type": "code",
   "execution_count": 168,
   "id": "9685152f",
   "metadata": {},
   "outputs": [
    {
     "data": {
      "text/plain": [
       "447800.0    2\n",
       "448647.0    2\n",
       "452822.0    2\n",
       "452758.0    2\n",
       "457568.0    2\n",
       "           ..\n",
       "461579.0    1\n",
       "461642.0    1\n",
       "461560.0    1\n",
       "461379.0    1\n",
       "469029.0    1\n",
       "Name: MOTCONSU_ID_Исхода, Length: 1836, dtype: int64"
      ]
     },
     "execution_count": 168,
     "metadata": {},
     "output_type": "execute_result"
    }
   ],
   "source": [
    "data['MOTCONSU_ID_Исхода'].value_counts()"
   ]
  },
  {
   "cell_type": "code",
   "execution_count": 169,
   "id": "585eb9df",
   "metadata": {},
   "outputs": [
    {
     "data": {
      "text/plain": [
       "<AxesSubplot:>"
      ]
     },
     "execution_count": 169,
     "metadata": {},
     "output_type": "execute_result"
    },
    {
     "data": {
      "image/png": "[encoded data removed]",
      "text/plain": [
       "<Figure size 432x288 with 1 Axes>"
      ]
     },
     "metadata": {
      "needs_background": "light"
     },
     "output_type": "display_data"
    }
   ],
   "source": [
    "data['Возраст'].hist()"
   ]
  },
  {
   "cell_type": "code",
   "execution_count": 170,
   "id": "1653f5e9",
   "metadata": {},
   "outputs": [
    {
     "data": {
      "text/plain": [
       "Index(['Фамилия', 'карта №', 'Возраст', 'Дата рождения', 'Диагноз',\n",
       "       'Диагноз, строка', 'Продолжительность бесплодия', 'Дата пункции',\n",
       "       'Дата переноса', 'Номер попытки', 'Рост женщины', 'Вес женщины',\n",
       "       'ИМТ женщины', 'Вид протокола', 'Гонадотропины', 'Стартовая доза',\n",
       "       'Триггер', 'Продол-ть ОС', 'День цикла пункция', 'День цикла перенос',\n",
       "       'Пунктировано', 'Промыто', 'Ооцитов', 'кол-во М II',\n",
       "       'Толщина эндометрия мм', 'Эмбриолог перенос', 'Время культ.', 'ПГД',\n",
       "       'Метод ПГД', 'ЭКО', 'ИКСИ', 'DATA_PMT_ART17_ID',\n",
       "       'Ссылка на исходную запись протокола',\n",
       "       'Ссылка на предыдущую запись протокола', 'КриооцитыПациентки',\n",
       "       'ДО крио', 'ДО свеж', 'ДС', 'ДЕ после ПГД', 'MOTCONSU_ID', 'ДЕ без ПГД',\n",
       "       'КРИОсперма', 'Сперма свежая', 'сперма, полученная хир путем разморож',\n",
       "       'Сперма, полученная хир путем свежая', 'Криоперенос', 'КолПер',\n",
       "       'Объём эякулята (мл)', 'Концентрация круглых клеток',\n",
       "       'Концентрация сперматозойдов (млн на мл)',\n",
       "       'Подвижность сперматозойдов (A+B) (%)', 'Нормальные формы (%)',\n",
       "       'Морфологические аномальные в нативном образце',\n",
       "       'Нормальные формы расчет', 'Нормальные формы Пред', 'GR1', 'GR1-2',\n",
       "       'GR2', 'GR2-3', 'GR3', 'Грэйд', 'КолЗам', 'ПовтЗам', 'Номер эмбриона',\n",
       "       'СМ', 'Исход лечения', 'Количество плодов', 'Исход беременности',\n",
       "       'Возраст мужчины', 'МАР - тест (lgG)', 'Рост М', 'Вес', 'Алкоголь',\n",
       "       'лечение варикоцеле', 'ЗППП', 'крипторхизм', 'простатит',\n",
       "       'Событие, к которому относится запись', 'Дата записи', 'Код',\n",
       "       'МАР-тест', 'карта супруга', 'Возраст супруга', 'ИсхDATA_PMT_ART17_ID',\n",
       "       'Название процедуры', 'Стимуляция', 'Вид прот.перенос', 'MEDECINS_ID',\n",
       "       'Своевременность', 'Пол', 'Рост', 'Вес.1', 'Вид клин.бер', 'Срок родов',\n",
       "       'Возраст СМ', 'MOTCONSU_ID_Исхода', 'Осложнения во время беременности'],\n",
       "      dtype='object')"
      ]
     },
     "execution_count": 170,
     "metadata": {},
     "output_type": "execute_result"
    }
   ],
   "source": [
    "data.columns"
   ]
  },
  {
   "cell_type": "code",
   "execution_count": 171,
   "id": "a8c28e00",
   "metadata": {},
   "outputs": [],
   "source": [
    "data = data.drop(columns = ['Дата рождения'])"
   ]
  },
  {
   "cell_type": "code",
   "execution_count": 172,
   "id": "809fd192",
   "metadata": {},
   "outputs": [],
   "source": [
    "data = data.rename(columns={\"Фамилия\": \"doctor\", \"карта №\": \"id\", \"Возраст\": \"age\", 'Диагноз': 'w_diagnosis',\n",
    "       'Диагноз, строка': 'w_diagnosis_mkb', 'Продолжительность бесплодия' : 'duration_of_infertility', 'Дата пункции': 'egg_collection_day_time',\n",
    "       'Дата переноса': 'date_of_embryo_transfer', \n",
    "        'Номер попытки' : 'number_of_eco-tries', 'Рост женщины' : 'w_height', 'Вес женщины': 'w_weight',\n",
    "       'ИМТ женщины' : 'w_bmi'})"
   ]
  },
  {
   "cell_type": "code",
   "execution_count": 173,
   "id": "66ca7804",
   "metadata": {},
   "outputs": [
    {
     "data": {
      "text/html": [
       "<div>\n",
       "<style scoped>\n",
       "    .dataframe tbody tr th:only-of-type {\n",
       "        vertical-align: middle;\n",
       "    }\n",
       "\n",
       "    .dataframe tbody tr th {\n",
       "        vertical-align: top;\n",
       "    }\n",
       "\n",
       "    .dataframe thead th {\n",
       "        text-align: right;\n",
       "    }\n",
       "</style>\n",
       "<table border=\"1\" class=\"dataframe\">\n",
       "  <thead>\n",
       "    <tr style=\"text-align: right;\">\n",
       "      <th></th>\n",
       "      <th>doctor</th>\n",
       "      <th>id</th>\n",
       "      <th>age</th>\n",
       "      <th>w_diagnosis</th>\n",
       "      <th>w_diagnosis_mkb</th>\n",
       "      <th>duration_of_infertility</th>\n",
       "      <th>egg_collection_day_time</th>\n",
       "      <th>date_of_embryo_transfer</th>\n",
       "      <th>number_of_eco-tries</th>\n",
       "      <th>w_height</th>\n",
       "      <th>...</th>\n",
       "      <th>MEDECINS_ID</th>\n",
       "      <th>Своевременность</th>\n",
       "      <th>Пол</th>\n",
       "      <th>Рост</th>\n",
       "      <th>Вес.1</th>\n",
       "      <th>Вид клин.бер</th>\n",
       "      <th>Срок родов</th>\n",
       "      <th>Возраст СМ</th>\n",
       "      <th>MOTCONSU_ID_Исхода</th>\n",
       "      <th>Осложнения во время беременности</th>\n",
       "    </tr>\n",
       "  </thead>\n",
       "  <tbody>\n",
       "    <tr>\n",
       "      <th>0</th>\n",
       "      <td>Савина</td>\n",
       "      <td>NaN</td>\n",
       "      <td>NaN</td>\n",
       "      <td>NaN</td>\n",
       "      <td>NaN</td>\n",
       "      <td>NaN</td>\n",
       "      <td>NaN</td>\n",
       "      <td>18.02.2020 14:49:43</td>\n",
       "      <td>NaN</td>\n",
       "      <td>NaN</td>\n",
       "      <td>...</td>\n",
       "      <td>613.0</td>\n",
       "      <td>NaN</td>\n",
       "      <td>NaN</td>\n",
       "      <td>NaN</td>\n",
       "      <td>NaN</td>\n",
       "      <td>NaN</td>\n",
       "      <td>NaN</td>\n",
       "      <td>NaN</td>\n",
       "      <td>NaN</td>\n",
       "      <td>NaN</td>\n",
       "    </tr>\n",
       "    <tr>\n",
       "      <th>1</th>\n",
       "      <td>Исакова</td>\n",
       "      <td>NaN</td>\n",
       "      <td>NaN</td>\n",
       "      <td>NaN</td>\n",
       "      <td>NaN</td>\n",
       "      <td>NaN</td>\n",
       "      <td>NaN</td>\n",
       "      <td>18.02.2020 15:06:26</td>\n",
       "      <td>NaN</td>\n",
       "      <td>NaN</td>\n",
       "      <td>...</td>\n",
       "      <td>360.0</td>\n",
       "      <td>NaN</td>\n",
       "      <td>NaN</td>\n",
       "      <td>NaN</td>\n",
       "      <td>NaN</td>\n",
       "      <td>NaN</td>\n",
       "      <td>NaN</td>\n",
       "      <td>NaN</td>\n",
       "      <td>NaN</td>\n",
       "      <td>NaN</td>\n",
       "    </tr>\n",
       "    <tr>\n",
       "      <th>2</th>\n",
       "      <td>Исакова</td>\n",
       "      <td>NaN</td>\n",
       "      <td>NaN</td>\n",
       "      <td>NaN</td>\n",
       "      <td>NaN</td>\n",
       "      <td>NaN</td>\n",
       "      <td>NaN</td>\n",
       "      <td>26.02.2020 12:15:36</td>\n",
       "      <td>NaN</td>\n",
       "      <td>NaN</td>\n",
       "      <td>...</td>\n",
       "      <td>360.0</td>\n",
       "      <td>NaN</td>\n",
       "      <td>NaN</td>\n",
       "      <td>NaN</td>\n",
       "      <td>NaN</td>\n",
       "      <td>NaN</td>\n",
       "      <td>NaN</td>\n",
       "      <td>NaN</td>\n",
       "      <td>407760.0</td>\n",
       "      <td>NaN</td>\n",
       "    </tr>\n",
       "    <tr>\n",
       "      <th>3</th>\n",
       "      <td>Кирсанов</td>\n",
       "      <td>NaN</td>\n",
       "      <td>NaN</td>\n",
       "      <td>NaN</td>\n",
       "      <td>NaN</td>\n",
       "      <td>NaN</td>\n",
       "      <td>NaN</td>\n",
       "      <td>08.10.2020 09:54:12</td>\n",
       "      <td>NaN</td>\n",
       "      <td>NaN</td>\n",
       "      <td>...</td>\n",
       "      <td>361.0</td>\n",
       "      <td>NaN</td>\n",
       "      <td>NaN</td>\n",
       "      <td>NaN</td>\n",
       "      <td>NaN</td>\n",
       "      <td>NaN</td>\n",
       "      <td>NaN</td>\n",
       "      <td>NaN</td>\n",
       "      <td>NaN</td>\n",
       "      <td>NaN</td>\n",
       "    </tr>\n",
       "    <tr>\n",
       "      <th>4</th>\n",
       "      <td>Исакова</td>\n",
       "      <td>NaN</td>\n",
       "      <td>NaN</td>\n",
       "      <td>NaN</td>\n",
       "      <td>NaN</td>\n",
       "      <td>NaN</td>\n",
       "      <td>NaN</td>\n",
       "      <td>23.01.2021 10:51:06</td>\n",
       "      <td>NaN</td>\n",
       "      <td>NaN</td>\n",
       "      <td>...</td>\n",
       "      <td>360.0</td>\n",
       "      <td>NaN</td>\n",
       "      <td>NaN</td>\n",
       "      <td>NaN</td>\n",
       "      <td>NaN</td>\n",
       "      <td>NaN</td>\n",
       "      <td>NaN</td>\n",
       "      <td>NaN</td>\n",
       "      <td>NaN</td>\n",
       "      <td>NaN</td>\n",
       "    </tr>\n",
       "    <tr>\n",
       "      <th>5</th>\n",
       "      <td>Исакова</td>\n",
       "      <td>NaN</td>\n",
       "      <td>NaN</td>\n",
       "      <td>NaN</td>\n",
       "      <td>NaN</td>\n",
       "      <td>NaN</td>\n",
       "      <td>NaN</td>\n",
       "      <td>25.02.2021 08:00:00</td>\n",
       "      <td>NaN</td>\n",
       "      <td>NaN</td>\n",
       "      <td>...</td>\n",
       "      <td>360.0</td>\n",
       "      <td>NaN</td>\n",
       "      <td>NaN</td>\n",
       "      <td>NaN</td>\n",
       "      <td>NaN</td>\n",
       "      <td>NaN</td>\n",
       "      <td>NaN</td>\n",
       "      <td>NaN</td>\n",
       "      <td>NaN</td>\n",
       "      <td>NaN</td>\n",
       "    </tr>\n",
       "    <tr>\n",
       "      <th>6</th>\n",
       "      <td>Самойлович</td>\n",
       "      <td>NaN</td>\n",
       "      <td>NaN</td>\n",
       "      <td>NaN</td>\n",
       "      <td>NaN</td>\n",
       "      <td>NaN</td>\n",
       "      <td>NaN</td>\n",
       "      <td>09.06.2021 13:09:48</td>\n",
       "      <td>NaN</td>\n",
       "      <td>NaN</td>\n",
       "      <td>...</td>\n",
       "      <td>582.0</td>\n",
       "      <td>NaN</td>\n",
       "      <td>NaN</td>\n",
       "      <td>NaN</td>\n",
       "      <td>NaN</td>\n",
       "      <td>NaN</td>\n",
       "      <td>NaN</td>\n",
       "      <td>NaN</td>\n",
       "      <td>466702.0</td>\n",
       "      <td>NaN</td>\n",
       "    </tr>\n",
       "    <tr>\n",
       "      <th>7</th>\n",
       "      <td>Васильева</td>\n",
       "      <td>73373</td>\n",
       "      <td>41.0</td>\n",
       "      <td>NaN</td>\n",
       "      <td>NaN</td>\n",
       "      <td>NaN</td>\n",
       "      <td>30.12.2019 09:00:00</td>\n",
       "      <td>04.01.2020 12:29:02</td>\n",
       "      <td>1.0</td>\n",
       "      <td>167.0</td>\n",
       "      <td>...</td>\n",
       "      <td>362.0</td>\n",
       "      <td>своевременные</td>\n",
       "      <td>мальчик</td>\n",
       "      <td>52.0</td>\n",
       "      <td>3112.0</td>\n",
       "      <td>NaN</td>\n",
       "      <td>37-41</td>\n",
       "      <td>NaN</td>\n",
       "      <td>399700.0</td>\n",
       "      <td>NaN</td>\n",
       "    </tr>\n",
       "    <tr>\n",
       "      <th>8</th>\n",
       "      <td>Исакова</td>\n",
       "      <td>90239</td>\n",
       "      <td>29.0</td>\n",
       "      <td>Бесплодие_x000D_\\nI.Первичная_x000D_\\nолигомен...</td>\n",
       "      <td>Бесплодие I.Первичная олигоменоррея._x000D_\\nN...</td>\n",
       "      <td>10.0</td>\n",
       "      <td>06.01.2020 10:00:00</td>\n",
       "      <td>10.01.2020 15:15:00</td>\n",
       "      <td>1.0</td>\n",
       "      <td>160.0</td>\n",
       "      <td>...</td>\n",
       "      <td>360.0</td>\n",
       "      <td>своевременные</td>\n",
       "      <td>мальчик</td>\n",
       "      <td>51.0</td>\n",
       "      <td>3500.0</td>\n",
       "      <td>NaN</td>\n",
       "      <td>37-41</td>\n",
       "      <td>NaN</td>\n",
       "      <td>400119.0</td>\n",
       "      <td>NaN</td>\n",
       "    </tr>\n",
       "    <tr>\n",
       "      <th>9</th>\n",
       "      <td>Исакова</td>\n",
       "      <td>90239</td>\n",
       "      <td>29.0</td>\n",
       "      <td>Бесплодие_x000D_\\nI.Первичная_x000D_\\nолигомен...</td>\n",
       "      <td>Бесплодие I.Первичная олигоменоррея._x000D_\\nN...</td>\n",
       "      <td>10.0</td>\n",
       "      <td>06.01.2020 10:00:00</td>\n",
       "      <td>10.01.2020 15:15:00</td>\n",
       "      <td>1.0</td>\n",
       "      <td>160.0</td>\n",
       "      <td>...</td>\n",
       "      <td>360.0</td>\n",
       "      <td>своевременные</td>\n",
       "      <td>мальчик</td>\n",
       "      <td>51.0</td>\n",
       "      <td>3500.0</td>\n",
       "      <td>NaN</td>\n",
       "      <td>37-41</td>\n",
       "      <td>NaN</td>\n",
       "      <td>400119.0</td>\n",
       "      <td>NaN</td>\n",
       "    </tr>\n",
       "    <tr>\n",
       "      <th>10</th>\n",
       "      <td>Исакова</td>\n",
       "      <td>88248</td>\n",
       "      <td>46.0</td>\n",
       "      <td>Бесплодие II._x000D_\\nХронический_x000D_\\nсаль...</td>\n",
       "      <td>Бесплодие II. Хронический_x000D_\\nсальпингоофо...</td>\n",
       "      <td>2.0</td>\n",
       "      <td>08.01.2020 10:30:00</td>\n",
       "      <td>13.01.2020 15:00:00</td>\n",
       "      <td>1.0</td>\n",
       "      <td>149.0</td>\n",
       "      <td>...</td>\n",
       "      <td>360.0</td>\n",
       "      <td>NaN</td>\n",
       "      <td>NaN</td>\n",
       "      <td>NaN</td>\n",
       "      <td>NaN</td>\n",
       "      <td>Выкидыш</td>\n",
       "      <td>NaN</td>\n",
       "      <td>NaN</td>\n",
       "      <td>400375.0</td>\n",
       "      <td>NaN</td>\n",
       "    </tr>\n",
       "    <tr>\n",
       "      <th>12</th>\n",
       "      <td>Исакова</td>\n",
       "      <td>86497</td>\n",
       "      <td>33.0</td>\n",
       "      <td>Бесплодие_x000D_\\nII.Фолликуля_x000D_\\nрная ки...</td>\n",
       "      <td>Бесплодие II.Фолликулярная киста правого_x000D...</td>\n",
       "      <td>NaN</td>\n",
       "      <td>09.01.2020 10:00:00</td>\n",
       "      <td>13.01.2020 12:21:23</td>\n",
       "      <td>1.0</td>\n",
       "      <td>168.0</td>\n",
       "      <td>...</td>\n",
       "      <td>360.0</td>\n",
       "      <td>NaN</td>\n",
       "      <td>NaN</td>\n",
       "      <td>NaN</td>\n",
       "      <td>NaN</td>\n",
       "      <td>Неразвиваю_x000D_\\nщаяся</td>\n",
       "      <td>NaN</td>\n",
       "      <td>NaN</td>\n",
       "      <td>400317.0</td>\n",
       "      <td>NaN</td>\n",
       "    </tr>\n",
       "    <tr>\n",
       "      <th>13</th>\n",
       "      <td>Исакова</td>\n",
       "      <td>86497</td>\n",
       "      <td>33.0</td>\n",
       "      <td>Бесплодие_x000D_\\nII.Фолликуля_x000D_\\nрная ки...</td>\n",
       "      <td>Бесплодие II.Фолликулярная киста правого_x000D...</td>\n",
       "      <td>NaN</td>\n",
       "      <td>09.01.2020 10:00:00</td>\n",
       "      <td>13.01.2020 12:21:23</td>\n",
       "      <td>1.0</td>\n",
       "      <td>168.0</td>\n",
       "      <td>...</td>\n",
       "      <td>360.0</td>\n",
       "      <td>NaN</td>\n",
       "      <td>NaN</td>\n",
       "      <td>NaN</td>\n",
       "      <td>NaN</td>\n",
       "      <td>Неразвиваю_x000D_\\nщаяся</td>\n",
       "      <td>NaN</td>\n",
       "      <td>NaN</td>\n",
       "      <td>400317.0</td>\n",
       "      <td>NaN</td>\n",
       "    </tr>\n",
       "    <tr>\n",
       "      <th>14</th>\n",
       "      <td>Васильева</td>\n",
       "      <td>89047омс2</td>\n",
       "      <td>31.0</td>\n",
       "      <td>Бесплодие I_x000D_\\n(N97.1_x000D_\\nженское_x00...</td>\n",
       "      <td>Бесплодие I (N97.1 женское бесплодие_x000D_\\nт...</td>\n",
       "      <td>NaN</td>\n",
       "      <td>08.01.2020 09:00:00</td>\n",
       "      <td>13.01.2020 12:40:00</td>\n",
       "      <td>1.0</td>\n",
       "      <td>168.0</td>\n",
       "      <td>...</td>\n",
       "      <td>362.0</td>\n",
       "      <td>NaN</td>\n",
       "      <td>NaN</td>\n",
       "      <td>NaN</td>\n",
       "      <td>NaN</td>\n",
       "      <td>NaN</td>\n",
       "      <td>NaN</td>\n",
       "      <td>NaN</td>\n",
       "      <td>400341.0</td>\n",
       "      <td>NaN</td>\n",
       "    </tr>\n",
       "    <tr>\n",
       "      <th>15</th>\n",
       "      <td>Васильева</td>\n",
       "      <td>88498омс2</td>\n",
       "      <td>24.0</td>\n",
       "      <td>Бесплодие_x000D_\\nI.Снижение_x000D_\\nовариальн...</td>\n",
       "      <td>Бесплодие I.Снижение овариального_x000D_\\nрезе...</td>\n",
       "      <td>1.0</td>\n",
       "      <td>17.01.2020 12:30:00</td>\n",
       "      <td>20.01.2020 12:35:00</td>\n",
       "      <td>1.0</td>\n",
       "      <td>168.0</td>\n",
       "      <td>...</td>\n",
       "      <td>362.0</td>\n",
       "      <td>NaN</td>\n",
       "      <td>NaN</td>\n",
       "      <td>NaN</td>\n",
       "      <td>NaN</td>\n",
       "      <td>NaN</td>\n",
       "      <td>NaN</td>\n",
       "      <td>NaN</td>\n",
       "      <td>401260.0</td>\n",
       "      <td>NaN</td>\n",
       "    </tr>\n",
       "    <tr>\n",
       "      <th>16</th>\n",
       "      <td>Самойлович</td>\n",
       "      <td>88878</td>\n",
       "      <td>30.0</td>\n",
       "      <td>Бесплодие_x000D_\\nI.Гиперпрола_x000D_\\nктинеми...</td>\n",
       "      <td>Бесплодие I.Гиперпролактинемия._x000D_\\nE22.1....</td>\n",
       "      <td>4.0</td>\n",
       "      <td>20.01.2020 12:00:00</td>\n",
       "      <td>25.01.2020 10:30:00</td>\n",
       "      <td>1.0</td>\n",
       "      <td>164.0</td>\n",
       "      <td>...</td>\n",
       "      <td>582.0</td>\n",
       "      <td>NaN</td>\n",
       "      <td>NaN</td>\n",
       "      <td>NaN</td>\n",
       "      <td>NaN</td>\n",
       "      <td>NaN</td>\n",
       "      <td>NaN</td>\n",
       "      <td>NaN</td>\n",
       "      <td>401940.0</td>\n",
       "      <td>NaN</td>\n",
       "    </tr>\n",
       "    <tr>\n",
       "      <th>17</th>\n",
       "      <td>Савина</td>\n",
       "      <td>75314</td>\n",
       "      <td>40.0</td>\n",
       "      <td>Бесплодие_x000D_\\nвторичное,_x000D_\\nтрубно-пе...</td>\n",
       "      <td>Бесплодие вторичное,_x000D_\\nтрубно-перитонеал...</td>\n",
       "      <td>2.0</td>\n",
       "      <td>20.01.2020 09:00:00</td>\n",
       "      <td>25.01.2020 09:00:00</td>\n",
       "      <td>1.0</td>\n",
       "      <td>172.0</td>\n",
       "      <td>...</td>\n",
       "      <td>613.0</td>\n",
       "      <td>NaN</td>\n",
       "      <td>NaN</td>\n",
       "      <td>NaN</td>\n",
       "      <td>NaN</td>\n",
       "      <td>NaN</td>\n",
       "      <td>NaN</td>\n",
       "      <td>NaN</td>\n",
       "      <td>401916.0</td>\n",
       "      <td>NaN</td>\n",
       "    </tr>\n",
       "    <tr>\n",
       "      <th>18</th>\n",
       "      <td>Радионова</td>\n",
       "      <td>87941омс</td>\n",
       "      <td>38.0</td>\n",
       "      <td>Бесплодие II,_x000D_\\nмужской_x000D_\\nфактор.</td>\n",
       "      <td>Бесплодие II, мужской фактор.</td>\n",
       "      <td>8.0</td>\n",
       "      <td>10.02.2020 11:00:00</td>\n",
       "      <td>14.02.2020 13:00:00</td>\n",
       "      <td>1.0</td>\n",
       "      <td>170.0</td>\n",
       "      <td>...</td>\n",
       "      <td>622.0</td>\n",
       "      <td>своевременные</td>\n",
       "      <td>мальчик</td>\n",
       "      <td>57.0</td>\n",
       "      <td>3820.0</td>\n",
       "      <td>NaN</td>\n",
       "      <td>37-41</td>\n",
       "      <td>NaN</td>\n",
       "      <td>405362.0</td>\n",
       "      <td>NaN</td>\n",
       "    </tr>\n",
       "    <tr>\n",
       "      <th>19</th>\n",
       "      <td>Радионова</td>\n",
       "      <td>87941омс</td>\n",
       "      <td>38.0</td>\n",
       "      <td>Бесплодие II,_x000D_\\nмужской_x000D_\\nфактор.</td>\n",
       "      <td>Бесплодие II, мужской фактор.</td>\n",
       "      <td>8.0</td>\n",
       "      <td>10.02.2020 11:00:00</td>\n",
       "      <td>14.02.2020 13:00:00</td>\n",
       "      <td>1.0</td>\n",
       "      <td>170.0</td>\n",
       "      <td>...</td>\n",
       "      <td>622.0</td>\n",
       "      <td>своевременные</td>\n",
       "      <td>мальчик</td>\n",
       "      <td>57.0</td>\n",
       "      <td>3820.0</td>\n",
       "      <td>NaN</td>\n",
       "      <td>37-41</td>\n",
       "      <td>NaN</td>\n",
       "      <td>405362.0</td>\n",
       "      <td>NaN</td>\n",
       "    </tr>\n",
       "    <tr>\n",
       "      <th>20</th>\n",
       "      <td>Васильева</td>\n",
       "      <td>82306омс</td>\n",
       "      <td>39.0</td>\n",
       "      <td>Бесплодие_x000D_\\nI,эндокринно_x000D_\\nе_x000D...</td>\n",
       "      <td>Бесплодие I,эндокринное_x000D_\\nЭктопия шейки ...</td>\n",
       "      <td>NaN</td>\n",
       "      <td>24.01.2020 10:00:00</td>\n",
       "      <td>29.01.2020 12:40:00</td>\n",
       "      <td>1.0</td>\n",
       "      <td>162.0</td>\n",
       "      <td>...</td>\n",
       "      <td>362.0</td>\n",
       "      <td>NaN</td>\n",
       "      <td>NaN</td>\n",
       "      <td>NaN</td>\n",
       "      <td>NaN</td>\n",
       "      <td>Неразвиваю_x000D_\\nщаяся</td>\n",
       "      <td>NaN</td>\n",
       "      <td>NaN</td>\n",
       "      <td>402565.0</td>\n",
       "      <td>NaN</td>\n",
       "    </tr>\n",
       "  </tbody>\n",
       "</table>\n",
       "<p>20 rows × 96 columns</p>\n",
       "</div>"
      ],
      "text/plain": [
       "        doctor         id   age  \\\n",
       "0       Савина        NaN   NaN   \n",
       "1      Исакова        NaN   NaN   \n",
       "2      Исакова        NaN   NaN   \n",
       "3     Кирсанов        NaN   NaN   \n",
       "4      Исакова        NaN   NaN   \n",
       "5      Исакова        NaN   NaN   \n",
       "6   Самойлович        NaN   NaN   \n",
       "7    Васильева      73373  41.0   \n",
       "8      Исакова      90239  29.0   \n",
       "9      Исакова      90239  29.0   \n",
       "10     Исакова      88248  46.0   \n",
       "12     Исакова      86497  33.0   \n",
       "13     Исакова      86497  33.0   \n",
       "14   Васильева  89047омс2  31.0   \n",
       "15   Васильева  88498омс2  24.0   \n",
       "16  Самойлович      88878  30.0   \n",
       "17      Савина      75314  40.0   \n",
       "18   Радионова   87941омс  38.0   \n",
       "19   Радионова   87941омс  38.0   \n",
       "20   Васильева   82306омс  39.0   \n",
       "\n",
       "                                          w_diagnosis  \\\n",
       "0                                                 NaN   \n",
       "1                                                 NaN   \n",
       "2                                                 NaN   \n",
       "3                                                 NaN   \n",
       "4                                                 NaN   \n",
       "5                                                 NaN   \n",
       "6                                                 NaN   \n",
       "7                                                 NaN   \n",
       "8   Бесплодие_x000D_\\nI.Первичная_x000D_\\nолигомен...   \n",
       "9   Бесплодие_x000D_\\nI.Первичная_x000D_\\nолигомен...   \n",
       "10  Бесплодие II._x000D_\\nХронический_x000D_\\nсаль...   \n",
       "12  Бесплодие_x000D_\\nII.Фолликуля_x000D_\\nрная ки...   \n",
       "13  Бесплодие_x000D_\\nII.Фолликуля_x000D_\\nрная ки...   \n",
       "14  Бесплодие I_x000D_\\n(N97.1_x000D_\\nженское_x00...   \n",
       "15  Бесплодие_x000D_\\nI.Снижение_x000D_\\nовариальн...   \n",
       "16  Бесплодие_x000D_\\nI.Гиперпрола_x000D_\\nктинеми...   \n",
       "17  Бесплодие_x000D_\\nвторичное,_x000D_\\nтрубно-пе...   \n",
       "18      Бесплодие II,_x000D_\\nмужской_x000D_\\nфактор.   \n",
       "19      Бесплодие II,_x000D_\\nмужской_x000D_\\nфактор.   \n",
       "20  Бесплодие_x000D_\\nI,эндокринно_x000D_\\nе_x000D...   \n",
       "\n",
       "                                      w_diagnosis_mkb  \\\n",
       "0                                                 NaN   \n",
       "1                                                 NaN   \n",
       "2                                                 NaN   \n",
       "3                                                 NaN   \n",
       "4                                                 NaN   \n",
       "5                                                 NaN   \n",
       "6                                                 NaN   \n",
       "7                                                 NaN   \n",
       "8   Бесплодие I.Первичная олигоменоррея._x000D_\\nN...   \n",
       "9   Бесплодие I.Первичная олигоменоррея._x000D_\\nN...   \n",
       "10  Бесплодие II. Хронический_x000D_\\nсальпингоофо...   \n",
       "12  Бесплодие II.Фолликулярная киста правого_x000D...   \n",
       "13  Бесплодие II.Фолликулярная киста правого_x000D...   \n",
       "14  Бесплодие I (N97.1 женское бесплодие_x000D_\\nт...   \n",
       "15  Бесплодие I.Снижение овариального_x000D_\\nрезе...   \n",
       "16  Бесплодие I.Гиперпролактинемия._x000D_\\nE22.1....   \n",
       "17  Бесплодие вторичное,_x000D_\\nтрубно-перитонеал...   \n",
       "18                      Бесплодие II, мужской фактор.   \n",
       "19                      Бесплодие II, мужской фактор.   \n",
       "20  Бесплодие I,эндокринное_x000D_\\nЭктопия шейки ...   \n",
       "\n",
       "    duration_of_infertility egg_collection_day_time date_of_embryo_transfer  \\\n",
       "0                       NaN                     NaN     18.02.2020 14:49:43   \n",
       "1                       NaN                     NaN     18.02.2020 15:06:26   \n",
       "2                       NaN                     NaN     26.02.2020 12:15:36   \n",
       "3                       NaN                     NaN     08.10.2020 09:54:12   \n",
       "4                       NaN                     NaN     23.01.2021 10:51:06   \n",
       "5                       NaN                     NaN     25.02.2021 08:00:00   \n",
       "6                       NaN                     NaN     09.06.2021 13:09:48   \n",
       "7                       NaN     30.12.2019 09:00:00     04.01.2020 12:29:02   \n",
       "8                      10.0     06.01.2020 10:00:00     10.01.2020 15:15:00   \n",
       "9                      10.0     06.01.2020 10:00:00     10.01.2020 15:15:00   \n",
       "10                      2.0     08.01.2020 10:30:00     13.01.2020 15:00:00   \n",
       "12                      NaN     09.01.2020 10:00:00     13.01.2020 12:21:23   \n",
       "13                      NaN     09.01.2020 10:00:00     13.01.2020 12:21:23   \n",
       "14                      NaN     08.01.2020 09:00:00     13.01.2020 12:40:00   \n",
       "15                      1.0     17.01.2020 12:30:00     20.01.2020 12:35:00   \n",
       "16                      4.0     20.01.2020 12:00:00     25.01.2020 10:30:00   \n",
       "17                      2.0     20.01.2020 09:00:00     25.01.2020 09:00:00   \n",
       "18                      8.0     10.02.2020 11:00:00     14.02.2020 13:00:00   \n",
       "19                      8.0     10.02.2020 11:00:00     14.02.2020 13:00:00   \n",
       "20                      NaN     24.01.2020 10:00:00     29.01.2020 12:40:00   \n",
       "\n",
       "    number_of_eco-tries  w_height  ...  MEDECINS_ID  Своевременность      Пол  \\\n",
       "0                   NaN       NaN  ...        613.0              NaN      NaN   \n",
       "1                   NaN       NaN  ...        360.0              NaN      NaN   \n",
       "2                   NaN       NaN  ...        360.0              NaN      NaN   \n",
       "3                   NaN       NaN  ...        361.0              NaN      NaN   \n",
       "4                   NaN       NaN  ...        360.0              NaN      NaN   \n",
       "5                   NaN       NaN  ...        360.0              NaN      NaN   \n",
       "6                   NaN       NaN  ...        582.0              NaN      NaN   \n",
       "7                   1.0     167.0  ...        362.0    своевременные  мальчик   \n",
       "8                   1.0     160.0  ...        360.0    своевременные  мальчик   \n",
       "9                   1.0     160.0  ...        360.0    своевременные  мальчик   \n",
       "10                  1.0     149.0  ...        360.0              NaN      NaN   \n",
       "12                  1.0     168.0  ...        360.0              NaN      NaN   \n",
       "13                  1.0     168.0  ...        360.0              NaN      NaN   \n",
       "14                  1.0     168.0  ...        362.0              NaN      NaN   \n",
       "15                  1.0     168.0  ...        362.0              NaN      NaN   \n",
       "16                  1.0     164.0  ...        582.0              NaN      NaN   \n",
       "17                  1.0     172.0  ...        613.0              NaN      NaN   \n",
       "18                  1.0     170.0  ...        622.0    своевременные  мальчик   \n",
       "19                  1.0     170.0  ...        622.0    своевременные  мальчик   \n",
       "20                  1.0     162.0  ...        362.0              NaN      NaN   \n",
       "\n",
       "    Рост   Вес.1              Вид клин.бер  Срок родов  Возраст СМ  \\\n",
       "0    NaN     NaN                       NaN         NaN         NaN   \n",
       "1    NaN     NaN                       NaN         NaN         NaN   \n",
       "2    NaN     NaN                       NaN         NaN         NaN   \n",
       "3    NaN     NaN                       NaN         NaN         NaN   \n",
       "4    NaN     NaN                       NaN         NaN         NaN   \n",
       "5    NaN     NaN                       NaN         NaN         NaN   \n",
       "6    NaN     NaN                       NaN         NaN         NaN   \n",
       "7   52.0  3112.0                       NaN       37-41         NaN   \n",
       "8   51.0  3500.0                       NaN       37-41         NaN   \n",
       "9   51.0  3500.0                       NaN       37-41         NaN   \n",
       "10   NaN     NaN                   Выкидыш         NaN         NaN   \n",
       "12   NaN     NaN  Неразвиваю_x000D_\\nщаяся         NaN         NaN   \n",
       "13   NaN     NaN  Неразвиваю_x000D_\\nщаяся         NaN         NaN   \n",
       "14   NaN     NaN                       NaN         NaN         NaN   \n",
       "15   NaN     NaN                       NaN         NaN         NaN   \n",
       "16   NaN     NaN                       NaN         NaN         NaN   \n",
       "17   NaN     NaN                       NaN         NaN         NaN   \n",
       "18  57.0  3820.0                       NaN       37-41         NaN   \n",
       "19  57.0  3820.0                       NaN       37-41         NaN   \n",
       "20   NaN     NaN  Неразвиваю_x000D_\\nщаяся         NaN         NaN   \n",
       "\n",
       "    MOTCONSU_ID_Исхода  Осложнения во время беременности  \n",
       "0                  NaN                               NaN  \n",
       "1                  NaN                               NaN  \n",
       "2             407760.0                               NaN  \n",
       "3                  NaN                               NaN  \n",
       "4                  NaN                               NaN  \n",
       "5                  NaN                               NaN  \n",
       "6             466702.0                               NaN  \n",
       "7             399700.0                               NaN  \n",
       "8             400119.0                               NaN  \n",
       "9             400119.0                               NaN  \n",
       "10            400375.0                               NaN  \n",
       "12            400317.0                               NaN  \n",
       "13            400317.0                               NaN  \n",
       "14            400341.0                               NaN  \n",
       "15            401260.0                               NaN  \n",
       "16            401940.0                               NaN  \n",
       "17            401916.0                               NaN  \n",
       "18            405362.0                               NaN  \n",
       "19            405362.0                               NaN  \n",
       "20            402565.0                               NaN  \n",
       "\n",
       "[20 rows x 96 columns]"
      ]
     },
     "execution_count": 173,
     "metadata": {},
     "output_type": "execute_result"
    }
   ],
   "source": [
    "data.head(20)"
   ]
  },
  {
   "cell_type": "code",
   "execution_count": 174,
   "id": "2318fef3",
   "metadata": {},
   "outputs": [
    {
     "data": {
      "text/plain": [
       "АНТ    1897\n",
       "КП      111\n",
       "ДЛ       93\n",
       "СО       85\n",
       "КЛЦ      45\n",
       "ЗГТ      17\n",
       "ЕЦ       12\n",
       "МЕЦ       3\n",
       "СДЛ       1\n",
       "Name: Вид протокола, dtype: int64"
      ]
     },
     "execution_count": 174,
     "metadata": {},
     "output_type": "execute_result"
    }
   ],
   "source": [
    "data['Вид протокола'].value_counts()"
   ]
  },
  {
   "cell_type": "code",
   "execution_count": 175,
   "id": "96e79c2c",
   "metadata": {},
   "outputs": [
    {
     "data": {
      "text/plain": [
       "129607.0    2\n",
       "278224.0    2\n",
       "139469.0    2\n",
       "295229.0    2\n",
       "295232.0    2\n",
       "           ..\n",
       "309630.0    1\n",
       "309603.0    1\n",
       "309319.0    1\n",
       "309609.0    1\n",
       "317202.0    1\n",
       "Name: Ссылка на исходную запись протокола, Length: 2440, dtype: int64"
      ]
     },
     "execution_count": 175,
     "metadata": {},
     "output_type": "execute_result"
    }
   ],
   "source": [
    "data['Ссылка на исходную запись протокола'].value_counts()"
   ]
  },
  {
   "cell_type": "code",
   "execution_count": 176,
   "id": "35db4784",
   "metadata": {},
   "outputs": [],
   "source": [
    "data = data.drop(columns = ['DATA_PMT_ART17_ID',\n",
    "       'Ссылка на исходную запись протокола',\n",
    "       'Ссылка на предыдущую запись протокола'])"
   ]
  },
  {
   "cell_type": "code",
   "execution_count": 177,
   "id": "e0e47ec3",
   "metadata": {},
   "outputs": [],
   "source": [
    "data = data.rename(columns={'Вид протокола':'protocol', 'Гонадотропины': 'gonadotropins', 'Стартовая доза': 'starting_dose ',\n",
    "       'Триггер': 'trigger', 'Продол-ть ОС' : 'duration_of_ovarian_stimulation ', 'День цикла пункция': 'cycle_day_puncture', \n",
    "        'День цикла перенос': 'cycle_day_transfer',\n",
    "       'Пунктировано':'punctuated', 'Промыто':'flushed', 'Ооцитов': 'num_oocytes', 'кол-во М II': 'mature_oocytes',\n",
    "       'Толщина эндометрия мм':'endometrial_thickness_mm', 'Эмбриолог перенос': 'embryologist', 'Время культ.' : 'num_of_cultivation_hours', \n",
    "        'ПГД': 'embryo_biopsy',\n",
    "       'Метод ПГД': 'method_embryo_biopsy', 'ЭКО': 'ECO', 'ИКСИ': 'sperm_injection', 'КриооцитыПациентки': 'own_frozen_oocytes'})"
   ]
  },
  {
   "cell_type": "code",
   "execution_count": 178,
   "id": "9cbb0147",
   "metadata": {},
   "outputs": [
    {
     "data": {
      "text/html": [
       "<div>\n",
       "<style scoped>\n",
       "    .dataframe tbody tr th:only-of-type {\n",
       "        vertical-align: middle;\n",
       "    }\n",
       "\n",
       "    .dataframe tbody tr th {\n",
       "        vertical-align: top;\n",
       "    }\n",
       "\n",
       "    .dataframe thead th {\n",
       "        text-align: right;\n",
       "    }\n",
       "</style>\n",
       "<table border=\"1\" class=\"dataframe\">\n",
       "  <thead>\n",
       "    <tr style=\"text-align: right;\">\n",
       "      <th></th>\n",
       "      <th>doctor</th>\n",
       "      <th>id</th>\n",
       "      <th>age</th>\n",
       "      <th>w_diagnosis</th>\n",
       "      <th>w_diagnosis_mkb</th>\n",
       "      <th>duration_of_infertility</th>\n",
       "      <th>egg_collection_day_time</th>\n",
       "      <th>date_of_embryo_transfer</th>\n",
       "      <th>number_of_eco-tries</th>\n",
       "      <th>w_height</th>\n",
       "      <th>...</th>\n",
       "      <th>MEDECINS_ID</th>\n",
       "      <th>Своевременность</th>\n",
       "      <th>Пол</th>\n",
       "      <th>Рост</th>\n",
       "      <th>Вес.1</th>\n",
       "      <th>Вид клин.бер</th>\n",
       "      <th>Срок родов</th>\n",
       "      <th>Возраст СМ</th>\n",
       "      <th>MOTCONSU_ID_Исхода</th>\n",
       "      <th>Осложнения во время беременности</th>\n",
       "    </tr>\n",
       "  </thead>\n",
       "  <tbody>\n",
       "    <tr>\n",
       "      <th>0</th>\n",
       "      <td>Савина</td>\n",
       "      <td>NaN</td>\n",
       "      <td>NaN</td>\n",
       "      <td>NaN</td>\n",
       "      <td>NaN</td>\n",
       "      <td>NaN</td>\n",
       "      <td>NaN</td>\n",
       "      <td>18.02.2020 14:49:43</td>\n",
       "      <td>NaN</td>\n",
       "      <td>NaN</td>\n",
       "      <td>...</td>\n",
       "      <td>613.0</td>\n",
       "      <td>NaN</td>\n",
       "      <td>NaN</td>\n",
       "      <td>NaN</td>\n",
       "      <td>NaN</td>\n",
       "      <td>NaN</td>\n",
       "      <td>NaN</td>\n",
       "      <td>NaN</td>\n",
       "      <td>NaN</td>\n",
       "      <td>NaN</td>\n",
       "    </tr>\n",
       "    <tr>\n",
       "      <th>1</th>\n",
       "      <td>Исакова</td>\n",
       "      <td>NaN</td>\n",
       "      <td>NaN</td>\n",
       "      <td>NaN</td>\n",
       "      <td>NaN</td>\n",
       "      <td>NaN</td>\n",
       "      <td>NaN</td>\n",
       "      <td>18.02.2020 15:06:26</td>\n",
       "      <td>NaN</td>\n",
       "      <td>NaN</td>\n",
       "      <td>...</td>\n",
       "      <td>360.0</td>\n",
       "      <td>NaN</td>\n",
       "      <td>NaN</td>\n",
       "      <td>NaN</td>\n",
       "      <td>NaN</td>\n",
       "      <td>NaN</td>\n",
       "      <td>NaN</td>\n",
       "      <td>NaN</td>\n",
       "      <td>NaN</td>\n",
       "      <td>NaN</td>\n",
       "    </tr>\n",
       "    <tr>\n",
       "      <th>2</th>\n",
       "      <td>Исакова</td>\n",
       "      <td>NaN</td>\n",
       "      <td>NaN</td>\n",
       "      <td>NaN</td>\n",
       "      <td>NaN</td>\n",
       "      <td>NaN</td>\n",
       "      <td>NaN</td>\n",
       "      <td>26.02.2020 12:15:36</td>\n",
       "      <td>NaN</td>\n",
       "      <td>NaN</td>\n",
       "      <td>...</td>\n",
       "      <td>360.0</td>\n",
       "      <td>NaN</td>\n",
       "      <td>NaN</td>\n",
       "      <td>NaN</td>\n",
       "      <td>NaN</td>\n",
       "      <td>NaN</td>\n",
       "      <td>NaN</td>\n",
       "      <td>NaN</td>\n",
       "      <td>407760.0</td>\n",
       "      <td>NaN</td>\n",
       "    </tr>\n",
       "    <tr>\n",
       "      <th>3</th>\n",
       "      <td>Кирсанов</td>\n",
       "      <td>NaN</td>\n",
       "      <td>NaN</td>\n",
       "      <td>NaN</td>\n",
       "      <td>NaN</td>\n",
       "      <td>NaN</td>\n",
       "      <td>NaN</td>\n",
       "      <td>08.10.2020 09:54:12</td>\n",
       "      <td>NaN</td>\n",
       "      <td>NaN</td>\n",
       "      <td>...</td>\n",
       "      <td>361.0</td>\n",
       "      <td>NaN</td>\n",
       "      <td>NaN</td>\n",
       "      <td>NaN</td>\n",
       "      <td>NaN</td>\n",
       "      <td>NaN</td>\n",
       "      <td>NaN</td>\n",
       "      <td>NaN</td>\n",
       "      <td>NaN</td>\n",
       "      <td>NaN</td>\n",
       "    </tr>\n",
       "    <tr>\n",
       "      <th>4</th>\n",
       "      <td>Исакова</td>\n",
       "      <td>NaN</td>\n",
       "      <td>NaN</td>\n",
       "      <td>NaN</td>\n",
       "      <td>NaN</td>\n",
       "      <td>NaN</td>\n",
       "      <td>NaN</td>\n",
       "      <td>23.01.2021 10:51:06</td>\n",
       "      <td>NaN</td>\n",
       "      <td>NaN</td>\n",
       "      <td>...</td>\n",
       "      <td>360.0</td>\n",
       "      <td>NaN</td>\n",
       "      <td>NaN</td>\n",
       "      <td>NaN</td>\n",
       "      <td>NaN</td>\n",
       "      <td>NaN</td>\n",
       "      <td>NaN</td>\n",
       "      <td>NaN</td>\n",
       "      <td>NaN</td>\n",
       "      <td>NaN</td>\n",
       "    </tr>\n",
       "  </tbody>\n",
       "</table>\n",
       "<p>5 rows × 93 columns</p>\n",
       "</div>"
      ],
      "text/plain": [
       "     doctor   id  age w_diagnosis w_diagnosis_mkb  duration_of_infertility  \\\n",
       "0    Савина  NaN  NaN         NaN             NaN                      NaN   \n",
       "1   Исакова  NaN  NaN         NaN             NaN                      NaN   \n",
       "2   Исакова  NaN  NaN         NaN             NaN                      NaN   \n",
       "3  Кирсанов  NaN  NaN         NaN             NaN                      NaN   \n",
       "4   Исакова  NaN  NaN         NaN             NaN                      NaN   \n",
       "\n",
       "  egg_collection_day_time date_of_embryo_transfer  number_of_eco-tries  \\\n",
       "0                     NaN     18.02.2020 14:49:43                  NaN   \n",
       "1                     NaN     18.02.2020 15:06:26                  NaN   \n",
       "2                     NaN     26.02.2020 12:15:36                  NaN   \n",
       "3                     NaN     08.10.2020 09:54:12                  NaN   \n",
       "4                     NaN     23.01.2021 10:51:06                  NaN   \n",
       "\n",
       "   w_height  ...  MEDECINS_ID  Своевременность  Пол Рост Вес.1 Вид клин.бер  \\\n",
       "0       NaN  ...        613.0              NaN  NaN  NaN   NaN          NaN   \n",
       "1       NaN  ...        360.0              NaN  NaN  NaN   NaN          NaN   \n",
       "2       NaN  ...        360.0              NaN  NaN  NaN   NaN          NaN   \n",
       "3       NaN  ...        361.0              NaN  NaN  NaN   NaN          NaN   \n",
       "4       NaN  ...        360.0              NaN  NaN  NaN   NaN          NaN   \n",
       "\n",
       "   Срок родов  Возраст СМ  MOTCONSU_ID_Исхода  \\\n",
       "0         NaN         NaN                 NaN   \n",
       "1         NaN         NaN                 NaN   \n",
       "2         NaN         NaN            407760.0   \n",
       "3         NaN         NaN                 NaN   \n",
       "4         NaN         NaN                 NaN   \n",
       "\n",
       "   Осложнения во время беременности  \n",
       "0                               NaN  \n",
       "1                               NaN  \n",
       "2                               NaN  \n",
       "3                               NaN  \n",
       "4                               NaN  \n",
       "\n",
       "[5 rows x 93 columns]"
      ]
     },
     "execution_count": 178,
     "metadata": {},
     "output_type": "execute_result"
    }
   ],
   "source": [
    "data.head()"
   ]
  },
  {
   "cell_type": "code",
   "execution_count": 179,
   "id": "51125f04",
   "metadata": {},
   "outputs": [],
   "source": [
    "data = data.drop(columns = ['MOTCONSU_ID'])"
   ]
  },
  {
   "cell_type": "code",
   "execution_count": 180,
   "id": "49a1391f",
   "metadata": {},
   "outputs": [],
   "source": [
    "data = data.rename(columns={ 'ДО крио':'crio_donor_oocytes', 'ДО свеж':'fresh_donor_oocytes', 'ДС': 'donor_sperm',\n",
    "                            'ДЕ после ПГД' : 'donor_embryos_after_testing', 'ДЕ без ПГД' : 'donor_embryos_without_testing',\n",
    "       'КРИОсперма': 'crio_sperm', 'Сперма свежая': 'fresh_sperm', 'сперма, полученная хир путем разморож': 'crio_sperm_obtained_surgery',\n",
    "       'Сперма, полученная хир путем свежая': 'fresh_sperm_obtained_surgery', \n",
    "        'Криоперенос': 'thawed_embryos', 'КолПер': 'num_embryos_transferred',\n",
    "       'Объём эякулята (мл)': 'ejaculate_volume_ml', 'Концентрация круглых клеток': 'concen_of_round_cells',\n",
    "       'Концентрация сперматозойдов (млн на мл)': 'concen_sperm_cells',\n",
    "       'Подвижность сперматозойдов (A+B) (%)': 'mobility_of_sperm_%', 'Нормальные формы (%)': 'norm_sperm_%',\n",
    "       'Морфологические аномальные в нативном образце': 'anomal_sperm_%'})"
   ]
  },
  {
   "cell_type": "code",
   "execution_count": 181,
   "id": "b4dfc9a0",
   "metadata": {},
   "outputs": [],
   "source": [
    "data = data[~data['id'].isnull()]"
   ]
  },
  {
   "cell_type": "code",
   "execution_count": 182,
   "id": "9135d1b9",
   "metadata": {},
   "outputs": [
    {
     "data": {
      "text/plain": [
       "1448"
      ]
     },
     "execution_count": 182,
     "metadata": {},
     "output_type": "execute_result"
    }
   ],
   "source": [
    "data.id.nunique()"
   ]
  },
  {
   "cell_type": "code",
   "execution_count": 183,
   "id": "060e713e",
   "metadata": {},
   "outputs": [
    {
     "name": "stdout",
     "output_type": "stream",
     "text": [
      "<class 'pandas.core.frame.DataFrame'>\n",
      "Int64Index: 2446 entries, 7 to 2969\n",
      "Data columns (total 92 columns):\n",
      " #   Column                                Non-Null Count  Dtype  \n",
      "---  ------                                --------------  -----  \n",
      " 0   doctor                                2446 non-null   object \n",
      " 1   id                                    2446 non-null   object \n",
      " 2   age                                   2446 non-null   float64\n",
      " 3   w_diagnosis                           2323 non-null   object \n",
      " 4   w_diagnosis_mkb                       2323 non-null   object \n",
      " 5   duration_of_infertility               1823 non-null   float64\n",
      " 6   egg_collection_day_time               2402 non-null   object \n",
      " 7   date_of_embryo_transfer               2446 non-null   object \n",
      " 8   number_of_eco-tries                   2385 non-null   float64\n",
      " 9   w_height                              2446 non-null   float64\n",
      " 10  w_weight                              2437 non-null   float64\n",
      " 11  w_bmi                                 2446 non-null   float64\n",
      " 12  protocol                              2264 non-null   object \n",
      " 13  gonadotropins                         2372 non-null   object \n",
      " 14  starting_dose                         2372 non-null   object \n",
      " 15  trigger                               2282 non-null   object \n",
      " 16  duration_of_ovarian_stimulation       2270 non-null   float64\n",
      " 17  cycle_day_puncture                    2395 non-null   float64\n",
      " 18  cycle_day_transfer                    2377 non-null   float64\n",
      " 19  punctuated                            2234 non-null   float64\n",
      " 20  flushed                               887 non-null    float64\n",
      " 21  num_oocytes                           2401 non-null   float64\n",
      " 22  mature_oocytes                        2446 non-null   float64\n",
      " 23  endometrial_thickness_mm              2281 non-null   float64\n",
      " 24  embryologist                          2432 non-null   object \n",
      " 25  num_of_cultivation_hours              2446 non-null   float64\n",
      " 26  embryo_biopsy                         2446 non-null   float64\n",
      " 27  method_embryo_biopsy                  405 non-null    object \n",
      " 28  ECO                                   2446 non-null   float64\n",
      " 29  sperm_injection                       2446 non-null   float64\n",
      " 30  own_frozen_oocytes                    2446 non-null   float64\n",
      " 31  crio_donor_oocytes                    2446 non-null   float64\n",
      " 32  fresh_donor_oocytes                   2446 non-null   float64\n",
      " 33  donor_sperm                           2446 non-null   float64\n",
      " 34  donor_embryos_after_testing           2446 non-null   float64\n",
      " 35  donor_embryos_without_testing         2446 non-null   float64\n",
      " 36  crio_sperm                            2446 non-null   float64\n",
      " 37  fresh_sperm                           2446 non-null   float64\n",
      " 38  crio_sperm_obtained_surgery           6 non-null      object \n",
      " 39  fresh_sperm_obtained_surgery          44 non-null     object \n",
      " 40  thawed_embryos                        2446 non-null   float64\n",
      " 41  num_embryos_transferred               2446 non-null   float64\n",
      " 42  ejaculate_volume_ml                   2217 non-null   object \n",
      " 43  concen_of_round_cells                 1 non-null      object \n",
      " 44  concen_sperm_cells                    2220 non-null   object \n",
      " 45  mobility_of_sperm_%                   2198 non-null   object \n",
      " 46  norm_sperm_%                          13 non-null     float64\n",
      " 47  anomal_sperm_%                        2131 non-null   float64\n",
      " 48  Нормальные формы расчет               2446 non-null   float64\n",
      " 49  Нормальные формы Пред                 977 non-null    float64\n",
      " 50  GR1                                   2446 non-null   float64\n",
      " 51  GR1-2                                 2446 non-null   float64\n",
      " 52  GR2                                   2446 non-null   float64\n",
      " 53  GR2-3                                 2446 non-null   float64\n",
      " 54  GR3                                   2446 non-null   float64\n",
      " 55  Грэйд                                 2440 non-null   object \n",
      " 56  КолЗам                                2446 non-null   float64\n",
      " 57  ПовтЗам                               2446 non-null   float64\n",
      " 58  Номер эмбриона                        2446 non-null   float64\n",
      " 59  СМ                                    2446 non-null   float64\n",
      " 60  Исход лечения                         2438 non-null   object \n",
      " 61  Количество плодов                     1096 non-null   float64\n",
      " 62  Исход беременности                    0 non-null      float64\n",
      " 63  Возраст мужчины                       2332 non-null   float64\n",
      " 64  МАР - тест (lgG)                      9 non-null      object \n",
      " 65  Рост М                                524 non-null    float64\n",
      " 66  Вес                                   519 non-null    float64\n",
      " 67  Алкоголь                              2446 non-null   float64\n",
      " 68  лечение варикоцеле                    2446 non-null   float64\n",
      " 69  ЗППП                                  2446 non-null   float64\n",
      " 70  крипторхизм                           2446 non-null   float64\n",
      " 71  простатит                             2446 non-null   float64\n",
      " 72  Событие, к которому относится запись  2446 non-null   float64\n",
      " 73  Дата записи                           2446 non-null   object \n",
      " 74  Код                                   1542 non-null   object \n",
      " 75  МАР-тест                              827 non-null    object \n",
      " 76  карта супруга                         2334 non-null   object \n",
      " 77  Возраст супруга                       2332 non-null   float64\n",
      " 78  ИсхDATA_PMT_ART17_ID                  2446 non-null   float64\n",
      " 79  Название процедуры                    2446 non-null   object \n",
      " 80  Стимуляция                            2446 non-null   object \n",
      " 81  Вид прот.перенос                      2146 non-null   object \n",
      " 82  MEDECINS_ID                           2446 non-null   float64\n",
      " 83  Своевременность                       627 non-null    object \n",
      " 84  Пол                                   626 non-null    object \n",
      " 85  Рост                                  553 non-null    float64\n",
      " 86  Вес.1                                 569 non-null    float64\n",
      " 87  Вид клин.бер                          230 non-null    object \n",
      " 88  Срок родов                            623 non-null    object \n",
      " 89  Возраст СМ                            87 non-null     float64\n",
      " 90  MOTCONSU_ID_Исхода                    2439 non-null   float64\n",
      " 91  Осложнения во время беременности      38 non-null     object \n",
      "dtypes: float64(59), object(33)\n",
      "memory usage: 1.7+ MB\n"
     ]
    }
   ],
   "source": [
    "data.info()"
   ]
  },
  {
   "cell_type": "code",
   "execution_count": 185,
   "id": "a4e33ab6",
   "metadata": {},
   "outputs": [
    {
     "data": {
      "text/plain": [
       "Index(['doctor', 'id', 'age', 'w_diagnosis', 'w_diagnosis_mkb',\n",
       "       'duration_of_infertility', 'egg_collection_day_time',\n",
       "       'date_of_embryo_transfer', 'number_of_eco-tries', 'w_height',\n",
       "       'w_weight', 'w_bmi', 'protocol', 'gonadotropins', 'starting_dose ',\n",
       "       'trigger', 'duration_of_ovarian_stimulation ', 'cycle_day_puncture',\n",
       "       'cycle_day_transfer', 'punctuated', 'flushed', 'num_oocytes',\n",
       "       'mature_oocytes', 'endometrial_thickness_mm', 'embryologist',\n",
       "       'num_of_cultivation_hours', 'embryo_biopsy', 'method_embryo_biopsy',\n",
       "       'ECO', 'sperm_injection', 'own_frozen_oocytes', 'crio_donor_oocytes',\n",
       "       'fresh_donor_oocytes', 'donor_sperm', 'donor_embryos_after_testing',\n",
       "       'donor_embryos_without_testing', 'crio_sperm', 'fresh_sperm',\n",
       "       'crio_sperm_obtained_surgery', 'fresh_sperm_obtained_surgery',\n",
       "       'thawed_embryos', 'num_embryos_transferred', 'ejaculate_volume_ml',\n",
       "       'concen_of_round_cells', 'concen_sperm_cells', 'mobility_of_sperm_%',\n",
       "       'norm_sperm_%', 'anomal_sperm_%', 'Нормальные формы расчет',\n",
       "       'Нормальные формы Пред', 'GR1', 'GR1-2', 'GR2', 'GR2-3', 'GR3', 'Грэйд',\n",
       "       'КолЗам', 'ПовтЗам', 'Номер эмбриона', 'СМ', 'Исход лечения',\n",
       "       'Количество плодов', 'Исход беременности', 'Возраст мужчины',\n",
       "       'МАР - тест (lgG)', 'Рост М', 'Вес', 'Алкоголь', 'лечение варикоцеле',\n",
       "       'ЗППП', 'крипторхизм', 'простатит',\n",
       "       'Событие, к которому относится запись', 'Дата записи', 'Код',\n",
       "       'МАР-тест', 'карта супруга', 'Возраст супруга', 'ИсхDATA_PMT_ART17_ID',\n",
       "       'Название процедуры', 'Стимуляция', 'Вид прот.перенос', 'MEDECINS_ID',\n",
       "       'Своевременность', 'Пол', 'Рост', 'Вес.1', 'Вид клин.бер', 'Срок родов',\n",
       "       'Возраст СМ', 'MOTCONSU_ID_Исхода', 'Осложнения во время беременности'],\n",
       "      dtype='object')"
      ]
     },
     "execution_count": 185,
     "metadata": {},
     "output_type": "execute_result"
    }
   ],
   "source": [
    "data.columns"
   ]
  },
  {
   "cell_type": "code",
   "execution_count": 186,
   "id": "18ccc1d6",
   "metadata": {},
   "outputs": [
    {
     "data": {
      "text/plain": [
       "7        ЕЦ\n",
       "8       NaN\n",
       "9       NaN\n",
       "10      NaN\n",
       "12      NaN\n",
       "       ... \n",
       "2963     ЕЦ\n",
       "2965     ЕЦ\n",
       "2967    ЗГТ\n",
       "2968    ЗГТ\n",
       "2969    NaN\n",
       "Name: Вид прот.перенос, Length: 2446, dtype: object"
      ]
     },
     "execution_count": 186,
     "metadata": {},
     "output_type": "execute_result"
    }
   ],
   "source": [
    "data['Вид прот.перенос']"
   ]
  },
  {
   "cell_type": "code",
   "execution_count": 187,
   "id": "06e206c5",
   "metadata": {},
   "outputs": [],
   "source": [
    "data = data.drop(columns = ['Событие, к которому относится запись', 'Дата записи', 'Грэйд',\n",
    "                           'ИсхDATA_PMT_ART17_ID', 'MOTCONSU_ID_Исхода', 'Возраст супруга'])"
   ]
  },
  {
   "cell_type": "code",
   "execution_count": 188,
   "id": "08ddcf01",
   "metadata": {},
   "outputs": [],
   "source": [
    "data = data.rename(columns={'Нормальные формы расчет': 'normal_sperm_by_embryologist', 'Нормальные формы Пред': 'normal_sperm_by_biologists',\n",
    "                            'GR1': 'gr1', 'GR1-2' : 'gr1_2',\n",
    "       'GR2': 'gr2', 'GR2-3': 'gr2_3', 'GR3': 'gr3',\n",
    "         'КолЗам': 'num_crio_embrions', 'ПовтЗам': 'refreezing_embrions', 'Номер эмбриона': 'embryo_number',\n",
    "       'СМ': 'surrogate_mother', 'Исход лечения': 'outcome_treatment', 'Количество плодов': 'num_of_fetuses', 'Исход беременности': 'outcome_pregnancy',\n",
    "       'Возраст мужчины': 'm_age', 'МАР - тест (lgG)': 'МАР_lgG', 'Рост М': 'm_height', 'Вес': 'm_weight', 'Алкоголь': 'm_alcho',\n",
    "       'лечение варикоцеле': 'm_varicocele', 'ЗППП': 'm_STDs', 'крипторхизм': 'm_cryptorchidism', 'простатит': 'm_prostatitis','Код': 'health_insurance',\n",
    "       'МАР-тест': 'MAP_test', 'карта супруга': 'm_id',\n",
    "       'Название процедуры': 'procedure_name', 'Стимуляция': 'stimulation', 'Вид прот.перенос': 'protocol_before_transfer',\n",
    "       'Своевременность': 'timeliness_of_delivery', 'Пол': 'fetal_sex', 'Рост': 'fetal_height', 'Вес.1': 'fetal_weight', 'Вид клин.бер': 'localization_of_pregnancy',\n",
    "        'Срок родов': 'due_date',\n",
    "       'Возраст СМ': 'age_surrogate_mother', 'Осложнения во время беременности': 'complications_during_pregnancy'})"
   ]
  },
  {
   "cell_type": "code",
   "execution_count": 189,
   "id": "4a7c2529",
   "metadata": {},
   "outputs": [
    {
     "data": {
      "text/html": [
       "<div>\n",
       "<style scoped>\n",
       "    .dataframe tbody tr th:only-of-type {\n",
       "        vertical-align: middle;\n",
       "    }\n",
       "\n",
       "    .dataframe tbody tr th {\n",
       "        vertical-align: top;\n",
       "    }\n",
       "\n",
       "    .dataframe thead th {\n",
       "        text-align: right;\n",
       "    }\n",
       "</style>\n",
       "<table border=\"1\" class=\"dataframe\">\n",
       "  <thead>\n",
       "    <tr style=\"text-align: right;\">\n",
       "      <th></th>\n",
       "      <th>doctor</th>\n",
       "      <th>id</th>\n",
       "      <th>age</th>\n",
       "      <th>w_diagnosis</th>\n",
       "      <th>w_diagnosis_mkb</th>\n",
       "      <th>duration_of_infertility</th>\n",
       "      <th>egg_collection_day_time</th>\n",
       "      <th>date_of_embryo_transfer</th>\n",
       "      <th>number_of_eco-tries</th>\n",
       "      <th>w_height</th>\n",
       "      <th>...</th>\n",
       "      <th>protocol_before_transfer</th>\n",
       "      <th>MEDECINS_ID</th>\n",
       "      <th>timeliness_of_delivery</th>\n",
       "      <th>fetal_sex</th>\n",
       "      <th>fetal_height</th>\n",
       "      <th>fetal_weight</th>\n",
       "      <th>localization_of_pregnancy</th>\n",
       "      <th>due_date</th>\n",
       "      <th>age_surrogate_mother</th>\n",
       "      <th>complications_during_pregnancy</th>\n",
       "    </tr>\n",
       "  </thead>\n",
       "  <tbody>\n",
       "    <tr>\n",
       "      <th>7</th>\n",
       "      <td>Васильева</td>\n",
       "      <td>73373</td>\n",
       "      <td>41.0</td>\n",
       "      <td>NaN</td>\n",
       "      <td>NaN</td>\n",
       "      <td>NaN</td>\n",
       "      <td>30.12.2019 09:00:00</td>\n",
       "      <td>04.01.2020 12:29:02</td>\n",
       "      <td>1.0</td>\n",
       "      <td>167.0</td>\n",
       "      <td>...</td>\n",
       "      <td>ЕЦ</td>\n",
       "      <td>362.0</td>\n",
       "      <td>своевременные</td>\n",
       "      <td>мальчик</td>\n",
       "      <td>52.0</td>\n",
       "      <td>3112.0</td>\n",
       "      <td>NaN</td>\n",
       "      <td>37-41</td>\n",
       "      <td>NaN</td>\n",
       "      <td>NaN</td>\n",
       "    </tr>\n",
       "    <tr>\n",
       "      <th>8</th>\n",
       "      <td>Исакова</td>\n",
       "      <td>90239</td>\n",
       "      <td>29.0</td>\n",
       "      <td>Бесплодие_x000D_\\nI.Первичная_x000D_\\nолигомен...</td>\n",
       "      <td>Бесплодие I.Первичная олигоменоррея._x000D_\\nN...</td>\n",
       "      <td>10.0</td>\n",
       "      <td>06.01.2020 10:00:00</td>\n",
       "      <td>10.01.2020 15:15:00</td>\n",
       "      <td>1.0</td>\n",
       "      <td>160.0</td>\n",
       "      <td>...</td>\n",
       "      <td>NaN</td>\n",
       "      <td>360.0</td>\n",
       "      <td>своевременные</td>\n",
       "      <td>мальчик</td>\n",
       "      <td>51.0</td>\n",
       "      <td>3500.0</td>\n",
       "      <td>NaN</td>\n",
       "      <td>37-41</td>\n",
       "      <td>NaN</td>\n",
       "      <td>NaN</td>\n",
       "    </tr>\n",
       "    <tr>\n",
       "      <th>9</th>\n",
       "      <td>Исакова</td>\n",
       "      <td>90239</td>\n",
       "      <td>29.0</td>\n",
       "      <td>Бесплодие_x000D_\\nI.Первичная_x000D_\\nолигомен...</td>\n",
       "      <td>Бесплодие I.Первичная олигоменоррея._x000D_\\nN...</td>\n",
       "      <td>10.0</td>\n",
       "      <td>06.01.2020 10:00:00</td>\n",
       "      <td>10.01.2020 15:15:00</td>\n",
       "      <td>1.0</td>\n",
       "      <td>160.0</td>\n",
       "      <td>...</td>\n",
       "      <td>NaN</td>\n",
       "      <td>360.0</td>\n",
       "      <td>своевременные</td>\n",
       "      <td>мальчик</td>\n",
       "      <td>51.0</td>\n",
       "      <td>3500.0</td>\n",
       "      <td>NaN</td>\n",
       "      <td>37-41</td>\n",
       "      <td>NaN</td>\n",
       "      <td>NaN</td>\n",
       "    </tr>\n",
       "    <tr>\n",
       "      <th>10</th>\n",
       "      <td>Исакова</td>\n",
       "      <td>88248</td>\n",
       "      <td>46.0</td>\n",
       "      <td>Бесплодие II._x000D_\\nХронический_x000D_\\nсаль...</td>\n",
       "      <td>Бесплодие II. Хронический_x000D_\\nсальпингоофо...</td>\n",
       "      <td>2.0</td>\n",
       "      <td>08.01.2020 10:30:00</td>\n",
       "      <td>13.01.2020 15:00:00</td>\n",
       "      <td>1.0</td>\n",
       "      <td>149.0</td>\n",
       "      <td>...</td>\n",
       "      <td>NaN</td>\n",
       "      <td>360.0</td>\n",
       "      <td>NaN</td>\n",
       "      <td>NaN</td>\n",
       "      <td>NaN</td>\n",
       "      <td>NaN</td>\n",
       "      <td>Выкидыш</td>\n",
       "      <td>NaN</td>\n",
       "      <td>NaN</td>\n",
       "      <td>NaN</td>\n",
       "    </tr>\n",
       "    <tr>\n",
       "      <th>12</th>\n",
       "      <td>Исакова</td>\n",
       "      <td>86497</td>\n",
       "      <td>33.0</td>\n",
       "      <td>Бесплодие_x000D_\\nII.Фолликуля_x000D_\\nрная ки...</td>\n",
       "      <td>Бесплодие II.Фолликулярная киста правого_x000D...</td>\n",
       "      <td>NaN</td>\n",
       "      <td>09.01.2020 10:00:00</td>\n",
       "      <td>13.01.2020 12:21:23</td>\n",
       "      <td>1.0</td>\n",
       "      <td>168.0</td>\n",
       "      <td>...</td>\n",
       "      <td>NaN</td>\n",
       "      <td>360.0</td>\n",
       "      <td>NaN</td>\n",
       "      <td>NaN</td>\n",
       "      <td>NaN</td>\n",
       "      <td>NaN</td>\n",
       "      <td>Неразвиваю_x000D_\\nщаяся</td>\n",
       "      <td>NaN</td>\n",
       "      <td>NaN</td>\n",
       "      <td>NaN</td>\n",
       "    </tr>\n",
       "    <tr>\n",
       "      <th>...</th>\n",
       "      <td>...</td>\n",
       "      <td>...</td>\n",
       "      <td>...</td>\n",
       "      <td>...</td>\n",
       "      <td>...</td>\n",
       "      <td>...</td>\n",
       "      <td>...</td>\n",
       "      <td>...</td>\n",
       "      <td>...</td>\n",
       "      <td>...</td>\n",
       "      <td>...</td>\n",
       "      <td>...</td>\n",
       "      <td>...</td>\n",
       "      <td>...</td>\n",
       "      <td>...</td>\n",
       "      <td>...</td>\n",
       "      <td>...</td>\n",
       "      <td>...</td>\n",
       "      <td>...</td>\n",
       "      <td>...</td>\n",
       "      <td>...</td>\n",
       "    </tr>\n",
       "    <tr>\n",
       "      <th>2963</th>\n",
       "      <td>Исакова</td>\n",
       "      <td>97330омс</td>\n",
       "      <td>38.0</td>\n",
       "      <td>Бесплодие_x000D_\\nI.Хронически_x000D_\\nй_x000D...</td>\n",
       "      <td>Бесплодие I.Хронический_x000D_\\nсальпингоофори...</td>\n",
       "      <td>18.0</td>\n",
       "      <td>NaN</td>\n",
       "      <td>22.05.2021 11:28:25</td>\n",
       "      <td>2.0</td>\n",
       "      <td>165.0</td>\n",
       "      <td>...</td>\n",
       "      <td>ЕЦ</td>\n",
       "      <td>360.0</td>\n",
       "      <td>NaN</td>\n",
       "      <td>NaN</td>\n",
       "      <td>NaN</td>\n",
       "      <td>NaN</td>\n",
       "      <td>NaN</td>\n",
       "      <td>NaN</td>\n",
       "      <td>NaN</td>\n",
       "      <td>NaN</td>\n",
       "    </tr>\n",
       "    <tr>\n",
       "      <th>2965</th>\n",
       "      <td>Исакова</td>\n",
       "      <td>97330омс</td>\n",
       "      <td>38.0</td>\n",
       "      <td>Бесплодие_x000D_\\nI.Хронически_x000D_\\nй_x000D...</td>\n",
       "      <td>Бесплодие I.Хронический_x000D_\\nсальпингоофори...</td>\n",
       "      <td>18.0</td>\n",
       "      <td>NaN</td>\n",
       "      <td>22.05.2021 11:28:25</td>\n",
       "      <td>2.0</td>\n",
       "      <td>165.0</td>\n",
       "      <td>...</td>\n",
       "      <td>ЕЦ</td>\n",
       "      <td>360.0</td>\n",
       "      <td>NaN</td>\n",
       "      <td>NaN</td>\n",
       "      <td>NaN</td>\n",
       "      <td>NaN</td>\n",
       "      <td>NaN</td>\n",
       "      <td>NaN</td>\n",
       "      <td>NaN</td>\n",
       "      <td>NaN</td>\n",
       "    </tr>\n",
       "    <tr>\n",
       "      <th>2967</th>\n",
       "      <td>Исакова</td>\n",
       "      <td>97729</td>\n",
       "      <td>36.0</td>\n",
       "      <td>Бесплодие_x000D_\\nI.Хронически_x000D_\\nй_x000D...</td>\n",
       "      <td>Бесплодие I.Хронический_x000D_\\nсальпингоофори...</td>\n",
       "      <td>NaN</td>\n",
       "      <td>28.04.2021 11:30:00</td>\n",
       "      <td>28.05.2021 15:20:00</td>\n",
       "      <td>1.0</td>\n",
       "      <td>160.0</td>\n",
       "      <td>...</td>\n",
       "      <td>ЗГТ</td>\n",
       "      <td>360.0</td>\n",
       "      <td>преждевременные</td>\n",
       "      <td>мальчик</td>\n",
       "      <td>30.0</td>\n",
       "      <td>1732.0</td>\n",
       "      <td>NaN</td>\n",
       "      <td>28-32</td>\n",
       "      <td>NaN</td>\n",
       "      <td>NaN</td>\n",
       "    </tr>\n",
       "    <tr>\n",
       "      <th>2968</th>\n",
       "      <td>Исакова</td>\n",
       "      <td>97729</td>\n",
       "      <td>36.0</td>\n",
       "      <td>Бесплодие_x000D_\\nI.Хронически_x000D_\\nй_x000D...</td>\n",
       "      <td>Бесплодие I.Хронический_x000D_\\nсальпингоофори...</td>\n",
       "      <td>NaN</td>\n",
       "      <td>28.04.2021 11:30:00</td>\n",
       "      <td>28.05.2021 15:20:00</td>\n",
       "      <td>1.0</td>\n",
       "      <td>160.0</td>\n",
       "      <td>...</td>\n",
       "      <td>ЗГТ</td>\n",
       "      <td>360.0</td>\n",
       "      <td>преждевременные</td>\n",
       "      <td>мальчик</td>\n",
       "      <td>30.0</td>\n",
       "      <td>1732.0</td>\n",
       "      <td>NaN</td>\n",
       "      <td>28-32</td>\n",
       "      <td>NaN</td>\n",
       "      <td>NaN</td>\n",
       "    </tr>\n",
       "    <tr>\n",
       "      <th>2969</th>\n",
       "      <td>Исакова</td>\n",
       "      <td>96918</td>\n",
       "      <td>51.0</td>\n",
       "      <td>Бесплодие II._x000D_\\nПриобретенн_x000D_\\nое_x...</td>\n",
       "      <td>Бесплодие II. Приобретенное отсутствие_x000D_\\...</td>\n",
       "      <td>10.0</td>\n",
       "      <td>10.05.2021 11:27:26</td>\n",
       "      <td>29.06.2021 15:40:00</td>\n",
       "      <td>1.0</td>\n",
       "      <td>0.0</td>\n",
       "      <td>...</td>\n",
       "      <td>NaN</td>\n",
       "      <td>360.0</td>\n",
       "      <td>NaN</td>\n",
       "      <td>NaN</td>\n",
       "      <td>NaN</td>\n",
       "      <td>NaN</td>\n",
       "      <td>NaN</td>\n",
       "      <td>NaN</td>\n",
       "      <td>34.0</td>\n",
       "      <td>NaN</td>\n",
       "    </tr>\n",
       "  </tbody>\n",
       "</table>\n",
       "<p>2446 rows × 86 columns</p>\n",
       "</div>"
      ],
      "text/plain": [
       "         doctor        id   age  \\\n",
       "7     Васильева     73373  41.0   \n",
       "8       Исакова     90239  29.0   \n",
       "9       Исакова     90239  29.0   \n",
       "10      Исакова     88248  46.0   \n",
       "12      Исакова     86497  33.0   \n",
       "...         ...       ...   ...   \n",
       "2963    Исакова  97330омс  38.0   \n",
       "2965    Исакова  97330омс  38.0   \n",
       "2967    Исакова     97729  36.0   \n",
       "2968    Исакова     97729  36.0   \n",
       "2969    Исакова     96918  51.0   \n",
       "\n",
       "                                            w_diagnosis  \\\n",
       "7                                                   NaN   \n",
       "8     Бесплодие_x000D_\\nI.Первичная_x000D_\\nолигомен...   \n",
       "9     Бесплодие_x000D_\\nI.Первичная_x000D_\\nолигомен...   \n",
       "10    Бесплодие II._x000D_\\nХронический_x000D_\\nсаль...   \n",
       "12    Бесплодие_x000D_\\nII.Фолликуля_x000D_\\nрная ки...   \n",
       "...                                                 ...   \n",
       "2963  Бесплодие_x000D_\\nI.Хронически_x000D_\\nй_x000D...   \n",
       "2965  Бесплодие_x000D_\\nI.Хронически_x000D_\\nй_x000D...   \n",
       "2967  Бесплодие_x000D_\\nI.Хронически_x000D_\\nй_x000D...   \n",
       "2968  Бесплодие_x000D_\\nI.Хронически_x000D_\\nй_x000D...   \n",
       "2969  Бесплодие II._x000D_\\nПриобретенн_x000D_\\nое_x...   \n",
       "\n",
       "                                        w_diagnosis_mkb  \\\n",
       "7                                                   NaN   \n",
       "8     Бесплодие I.Первичная олигоменоррея._x000D_\\nN...   \n",
       "9     Бесплодие I.Первичная олигоменоррея._x000D_\\nN...   \n",
       "10    Бесплодие II. Хронический_x000D_\\nсальпингоофо...   \n",
       "12    Бесплодие II.Фолликулярная киста правого_x000D...   \n",
       "...                                                 ...   \n",
       "2963  Бесплодие I.Хронический_x000D_\\nсальпингоофори...   \n",
       "2965  Бесплодие I.Хронический_x000D_\\nсальпингоофори...   \n",
       "2967  Бесплодие I.Хронический_x000D_\\nсальпингоофори...   \n",
       "2968  Бесплодие I.Хронический_x000D_\\nсальпингоофори...   \n",
       "2969  Бесплодие II. Приобретенное отсутствие_x000D_\\...   \n",
       "\n",
       "      duration_of_infertility egg_collection_day_time date_of_embryo_transfer  \\\n",
       "7                         NaN     30.12.2019 09:00:00     04.01.2020 12:29:02   \n",
       "8                        10.0     06.01.2020 10:00:00     10.01.2020 15:15:00   \n",
       "9                        10.0     06.01.2020 10:00:00     10.01.2020 15:15:00   \n",
       "10                        2.0     08.01.2020 10:30:00     13.01.2020 15:00:00   \n",
       "12                        NaN     09.01.2020 10:00:00     13.01.2020 12:21:23   \n",
       "...                       ...                     ...                     ...   \n",
       "2963                     18.0                     NaN     22.05.2021 11:28:25   \n",
       "2965                     18.0                     NaN     22.05.2021 11:28:25   \n",
       "2967                      NaN     28.04.2021 11:30:00     28.05.2021 15:20:00   \n",
       "2968                      NaN     28.04.2021 11:30:00     28.05.2021 15:20:00   \n",
       "2969                     10.0     10.05.2021 11:27:26     29.06.2021 15:40:00   \n",
       "\n",
       "      number_of_eco-tries  w_height  ...  protocol_before_transfer  \\\n",
       "7                     1.0     167.0  ...                        ЕЦ   \n",
       "8                     1.0     160.0  ...                       NaN   \n",
       "9                     1.0     160.0  ...                       NaN   \n",
       "10                    1.0     149.0  ...                       NaN   \n",
       "12                    1.0     168.0  ...                       NaN   \n",
       "...                   ...       ...  ...                       ...   \n",
       "2963                  2.0     165.0  ...                        ЕЦ   \n",
       "2965                  2.0     165.0  ...                        ЕЦ   \n",
       "2967                  1.0     160.0  ...                       ЗГТ   \n",
       "2968                  1.0     160.0  ...                       ЗГТ   \n",
       "2969                  1.0       0.0  ...                       NaN   \n",
       "\n",
       "      MEDECINS_ID timeliness_of_delivery fetal_sex fetal_height fetal_weight  \\\n",
       "7           362.0          своевременные   мальчик         52.0       3112.0   \n",
       "8           360.0          своевременные   мальчик         51.0       3500.0   \n",
       "9           360.0          своевременные   мальчик         51.0       3500.0   \n",
       "10          360.0                    NaN       NaN          NaN          NaN   \n",
       "12          360.0                    NaN       NaN          NaN          NaN   \n",
       "...           ...                    ...       ...          ...          ...   \n",
       "2963        360.0                    NaN       NaN          NaN          NaN   \n",
       "2965        360.0                    NaN       NaN          NaN          NaN   \n",
       "2967        360.0        преждевременные   мальчик         30.0       1732.0   \n",
       "2968        360.0        преждевременные   мальчик         30.0       1732.0   \n",
       "2969        360.0                    NaN       NaN          NaN          NaN   \n",
       "\n",
       "      localization_of_pregnancy  due_date  age_surrogate_mother  \\\n",
       "7                           NaN     37-41                   NaN   \n",
       "8                           NaN     37-41                   NaN   \n",
       "9                           NaN     37-41                   NaN   \n",
       "10                      Выкидыш       NaN                   NaN   \n",
       "12     Неразвиваю_x000D_\\nщаяся       NaN                   NaN   \n",
       "...                         ...       ...                   ...   \n",
       "2963                        NaN       NaN                   NaN   \n",
       "2965                        NaN       NaN                   NaN   \n",
       "2967                        NaN     28-32                   NaN   \n",
       "2968                        NaN     28-32                   NaN   \n",
       "2969                        NaN       NaN                  34.0   \n",
       "\n",
       "      complications_during_pregnancy  \n",
       "7                                NaN  \n",
       "8                                NaN  \n",
       "9                                NaN  \n",
       "10                               NaN  \n",
       "12                               NaN  \n",
       "...                              ...  \n",
       "2963                             NaN  \n",
       "2965                             NaN  \n",
       "2967                             NaN  \n",
       "2968                             NaN  \n",
       "2969                             NaN  \n",
       "\n",
       "[2446 rows x 86 columns]"
      ]
     },
     "execution_count": 189,
     "metadata": {},
     "output_type": "execute_result"
    }
   ],
   "source": [
    "data.head()"
   ]
  },
  {
   "cell_type": "code",
   "execution_count": 190,
   "id": "e5d95dd2",
   "metadata": {},
   "outputs": [],
   "source": [
    "data.age_surrogate_mother = data.age_surrogate_mother.fillna(0)"
   ]
  },
  {
   "cell_type": "code",
   "execution_count": 191,
   "id": "8b606f3f",
   "metadata": {},
   "outputs": [
    {
     "name": "stdout",
     "output_type": "stream",
     "text": [
      "<class 'pandas.core.frame.DataFrame'>\n",
      "Int64Index: 2446 entries, 7 to 2969\n",
      "Data columns (total 86 columns):\n",
      " #   Column                            Non-Null Count  Dtype  \n",
      "---  ------                            --------------  -----  \n",
      " 0   doctor                            2446 non-null   object \n",
      " 1   id                                2446 non-null   object \n",
      " 2   age                               2446 non-null   float64\n",
      " 3   w_diagnosis                       2323 non-null   object \n",
      " 4   w_diagnosis_mkb                   2323 non-null   object \n",
      " 5   duration_of_infertility           1823 non-null   float64\n",
      " 6   egg_collection_day_time           2402 non-null   object \n",
      " 7   date_of_embryo_transfer           2446 non-null   object \n",
      " 8   number_of_eco-tries               2385 non-null   float64\n",
      " 9   w_height                          2446 non-null   float64\n",
      " 10  w_weight                          2437 non-null   float64\n",
      " 11  w_bmi                             2446 non-null   float64\n",
      " 12  protocol                          2264 non-null   object \n",
      " 13  gonadotropins                     2372 non-null   object \n",
      " 14  starting_dose                     2372 non-null   object \n",
      " 15  trigger                           2282 non-null   object \n",
      " 16  duration_of_ovarian_stimulation   2270 non-null   float64\n",
      " 17  cycle_day_puncture                2395 non-null   float64\n",
      " 18  cycle_day_transfer                2377 non-null   float64\n",
      " 19  punctuated                        2234 non-null   float64\n",
      " 20  flushed                           887 non-null    float64\n",
      " 21  num_oocytes                       2401 non-null   float64\n",
      " 22  mature_oocytes                    2446 non-null   float64\n",
      " 23  endometrial_thickness_mm          2281 non-null   float64\n",
      " 24  embryologist                      2432 non-null   object \n",
      " 25  num_of_cultivation_hours          2446 non-null   float64\n",
      " 26  embryo_biopsy                     2446 non-null   float64\n",
      " 27  method_embryo_biopsy              405 non-null    object \n",
      " 28  ECO                               2446 non-null   float64\n",
      " 29  sperm_injection                   2446 non-null   float64\n",
      " 30  own_frozen_oocytes                2446 non-null   float64\n",
      " 31  crio_donor_oocytes                2446 non-null   float64\n",
      " 32  fresh_donor_oocytes               2446 non-null   float64\n",
      " 33  donor_sperm                       2446 non-null   float64\n",
      " 34  donor_embryos_after_testing       2446 non-null   float64\n",
      " 35  donor_embryos_without_testing     2446 non-null   float64\n",
      " 36  crio_sperm                        2446 non-null   float64\n",
      " 37  fresh_sperm                       2446 non-null   float64\n",
      " 38  crio_sperm_obtained_surgery       6 non-null      object \n",
      " 39  fresh_sperm_obtained_surgery      44 non-null     object \n",
      " 40  thawed_embryos                    2446 non-null   float64\n",
      " 41  num_embryos_transferred           2446 non-null   float64\n",
      " 42  ejaculate_volume_ml               2217 non-null   object \n",
      " 43  concen_of_round_cells             1 non-null      object \n",
      " 44  concen_sperm_cells                2220 non-null   object \n",
      " 45  mobility_of_sperm_%               2198 non-null   object \n",
      " 46  norm_sperm_%                      13 non-null     float64\n",
      " 47  anomal_sperm_%                    2131 non-null   float64\n",
      " 48  normal_sperm_by_embryologist      2446 non-null   float64\n",
      " 49  normal_sperm_by_biologists        977 non-null    float64\n",
      " 50  gr1                               2446 non-null   float64\n",
      " 51  gr1_2                             2446 non-null   float64\n",
      " 52  gr2                               2446 non-null   float64\n",
      " 53  gr2_3                             2446 non-null   float64\n",
      " 54  gr3                               2446 non-null   float64\n",
      " 55  num_crio_embrions                 2446 non-null   float64\n",
      " 56  refreezing_embrions               2446 non-null   float64\n",
      " 57  embryo_number                     2446 non-null   float64\n",
      " 58  surrogate_mother                  2446 non-null   float64\n",
      " 59  outcome_treatment                 2438 non-null   object \n",
      " 60  num_of_fetuses                    1096 non-null   float64\n",
      " 61  outcome_pregnancy                 0 non-null      float64\n",
      " 62  m_age                             2332 non-null   float64\n",
      " 63  МАР_lgG                           9 non-null      object \n",
      " 64  m_height                          524 non-null    float64\n",
      " 65  m_weight                          519 non-null    float64\n",
      " 66  m_alcho                           2446 non-null   float64\n",
      " 67  m_varicocele                      2446 non-null   float64\n",
      " 68  m_STDs                            2446 non-null   float64\n",
      " 69  m_cryptorchidism                  2446 non-null   float64\n",
      " 70  m_prostatitis                     2446 non-null   float64\n",
      " 71  health_insurance                  1542 non-null   object \n",
      " 72  MAP_test                          827 non-null    object \n",
      " 73  m_id                              2334 non-null   object \n",
      " 74  procedure_name                    2446 non-null   object \n",
      " 75  stimulation                       2446 non-null   object \n",
      " 76  protocol_before_transfer          2146 non-null   object \n",
      " 77  MEDECINS_ID                       2446 non-null   float64\n",
      " 78  timeliness_of_delivery            627 non-null    object \n",
      " 79  fetal_sex                         626 non-null    object \n",
      " 80  fetal_height                      553 non-null    float64\n",
      " 81  fetal_weight                      569 non-null    float64\n",
      " 82  localization_of_pregnancy         230 non-null    object \n",
      " 83  due_date                          623 non-null    object \n",
      " 84  age_surrogate_mother              2446 non-null   float64\n",
      " 85  complications_during_pregnancy    38 non-null     object \n",
      "dtypes: float64(55), object(31)\n",
      "memory usage: 1.6+ MB\n"
     ]
    }
   ],
   "source": [
    "data.info()"
   ]
  },
  {
   "cell_type": "markdown",
   "id": "c41b3331",
   "metadata": {},
   "source": [
    "Создание списка с названиями столбцов, в которых все значения заполнены\n",
    "Создание списка с названиями столбцов, в которых не все значения заполнены"
   ]
  },
  {
   "cell_type": "code",
   "execution_count": 192,
   "id": "7a038f8e",
   "metadata": {},
   "outputs": [],
   "source": [
    "list_of_unnull = []"
   ]
  },
  {
   "cell_type": "code",
   "execution_count": 193,
   "id": "104b0417",
   "metadata": {},
   "outputs": [],
   "source": [
    "list_of_null = []"
   ]
  },
  {
   "cell_type": "code",
   "execution_count": 194,
   "id": "b39dd4da",
   "metadata": {},
   "outputs": [],
   "source": [
    "for name in data.columns:\n",
    "    if getattr(data, name).isnull().any(axis=0) == False:\n",
    "        list_of_unnull.append(name)\n",
    "    else:\n",
    "        list_of_null.append(name)\n",
    "    "
   ]
  },
  {
   "cell_type": "code",
   "execution_count": 195,
   "id": "91da7b05",
   "metadata": {},
   "outputs": [
    {
     "data": {
      "text/plain": [
       "['doctor',\n",
       " 'id',\n",
       " 'age',\n",
       " 'date_of_embryo_transfer',\n",
       " 'w_height',\n",
       " 'w_bmi',\n",
       " 'mature_oocytes',\n",
       " 'num_of_cultivation_hours',\n",
       " 'embryo_biopsy',\n",
       " 'ECO',\n",
       " 'sperm_injection',\n",
       " 'own_frozen_oocytes',\n",
       " 'crio_donor_oocytes',\n",
       " 'fresh_donor_oocytes',\n",
       " 'donor_sperm',\n",
       " 'donor_embryos_after_testing',\n",
       " 'donor_embryos_without_testing',\n",
       " 'crio_sperm',\n",
       " 'fresh_sperm',\n",
       " 'thawed_embryos',\n",
       " 'num_embryos_transferred',\n",
       " 'normal_sperm_by_embryologist',\n",
       " 'gr1',\n",
       " 'gr1_2',\n",
       " 'gr2',\n",
       " 'gr2_3',\n",
       " 'gr3',\n",
       " 'num_crio_embrions',\n",
       " 'refreezing_embrions',\n",
       " 'embryo_number',\n",
       " 'surrogate_mother',\n",
       " 'm_alcho',\n",
       " 'm_varicocele',\n",
       " 'm_STDs',\n",
       " 'm_cryptorchidism',\n",
       " 'm_prostatitis',\n",
       " 'procedure_name',\n",
       " 'stimulation',\n",
       " 'MEDECINS_ID',\n",
       " 'age_surrogate_mother']"
      ]
     },
     "execution_count": 195,
     "metadata": {},
     "output_type": "execute_result"
    }
   ],
   "source": [
    "list_of_unnull"
   ]
  },
  {
   "cell_type": "code",
   "execution_count": 196,
   "id": "ff4159ed",
   "metadata": {},
   "outputs": [
    {
     "data": {
      "text/plain": [
       "['w_diagnosis',\n",
       " 'w_diagnosis_mkb',\n",
       " 'duration_of_infertility',\n",
       " 'egg_collection_day_time',\n",
       " 'number_of_eco-tries',\n",
       " 'w_weight',\n",
       " 'protocol',\n",
       " 'gonadotropins',\n",
       " 'starting_dose ',\n",
       " 'trigger',\n",
       " 'duration_of_ovarian_stimulation ',\n",
       " 'cycle_day_puncture',\n",
       " 'cycle_day_transfer',\n",
       " 'punctuated',\n",
       " 'flushed',\n",
       " 'num_oocytes',\n",
       " 'endometrial_thickness_mm',\n",
       " 'embryologist',\n",
       " 'method_embryo_biopsy',\n",
       " 'crio_sperm_obtained_surgery',\n",
       " 'fresh_sperm_obtained_surgery',\n",
       " 'ejaculate_volume_ml',\n",
       " 'concen_of_round_cells',\n",
       " 'concen_sperm_cells',\n",
       " 'mobility_of_sperm_%',\n",
       " 'norm_sperm_%',\n",
       " 'anomal_sperm_%',\n",
       " 'normal_sperm_by_biologists',\n",
       " 'outcome_treatment',\n",
       " 'num_of_fetuses',\n",
       " 'outcome_pregnancy',\n",
       " 'm_age',\n",
       " 'МАР_lgG',\n",
       " 'm_height',\n",
       " 'm_weight',\n",
       " 'health_insurance',\n",
       " 'MAP_test',\n",
       " 'm_id',\n",
       " 'protocol_before_transfer',\n",
       " 'timeliness_of_delivery',\n",
       " 'fetal_sex',\n",
       " 'fetal_height',\n",
       " 'fetal_weight',\n",
       " 'localization_of_pregnancy',\n",
       " 'due_date',\n",
       " 'complications_during_pregnancy']"
      ]
     },
     "execution_count": 196,
     "metadata": {},
     "output_type": "execute_result"
    }
   ],
   "source": [
    "list_of_null"
   ]
  },
  {
   "cell_type": "code",
   "execution_count": 197,
   "id": "92db80df",
   "metadata": {},
   "outputs": [],
   "source": [
    "one_change = list_of_unnull + ['w_weight']"
   ]
  },
  {
   "cell_type": "code",
   "execution_count": 198,
   "id": "4d849112",
   "metadata": {},
   "outputs": [
    {
     "name": "stdout",
     "output_type": "stream",
     "text": [
      "<class 'pandas.core.frame.DataFrame'>\n",
      "Int64Index: 2446 entries, 7 to 2969\n",
      "Data columns (total 41 columns):\n",
      " #   Column                         Non-Null Count  Dtype  \n",
      "---  ------                         --------------  -----  \n",
      " 0   doctor                         2446 non-null   object \n",
      " 1   id                             2446 non-null   object \n",
      " 2   age                            2446 non-null   float64\n",
      " 3   date_of_embryo_transfer        2446 non-null   object \n",
      " 4   w_height                       2446 non-null   float64\n",
      " 5   w_bmi                          2446 non-null   float64\n",
      " 6   mature_oocytes                 2446 non-null   float64\n",
      " 7   num_of_cultivation_hours       2446 non-null   float64\n",
      " 8   embryo_biopsy                  2446 non-null   float64\n",
      " 9   ECO                            2446 non-null   float64\n",
      " 10  sperm_injection                2446 non-null   float64\n",
      " 11  own_frozen_oocytes             2446 non-null   float64\n",
      " 12  crio_donor_oocytes             2446 non-null   float64\n",
      " 13  fresh_donor_oocytes            2446 non-null   float64\n",
      " 14  donor_sperm                    2446 non-null   float64\n",
      " 15  donor_embryos_after_testing    2446 non-null   float64\n",
      " 16  donor_embryos_without_testing  2446 non-null   float64\n",
      " 17  crio_sperm                     2446 non-null   float64\n",
      " 18  fresh_sperm                    2446 non-null   float64\n",
      " 19  thawed_embryos                 2446 non-null   float64\n",
      " 20  num_embryos_transferred        2446 non-null   float64\n",
      " 21  normal_sperm_by_embryologist   2446 non-null   float64\n",
      " 22  gr1                            2446 non-null   float64\n",
      " 23  gr1_2                          2446 non-null   float64\n",
      " 24  gr2                            2446 non-null   float64\n",
      " 25  gr2_3                          2446 non-null   float64\n",
      " 26  gr3                            2446 non-null   float64\n",
      " 27  num_crio_embrions              2446 non-null   float64\n",
      " 28  refreezing_embrions            2446 non-null   float64\n",
      " 29  embryo_number                  2446 non-null   float64\n",
      " 30  surrogate_mother               2446 non-null   float64\n",
      " 31  m_alcho                        2446 non-null   float64\n",
      " 32  m_varicocele                   2446 non-null   float64\n",
      " 33  m_STDs                         2446 non-null   float64\n",
      " 34  m_cryptorchidism               2446 non-null   float64\n",
      " 35  m_prostatitis                  2446 non-null   float64\n",
      " 36  procedure_name                 2446 non-null   object \n",
      " 37  stimulation                    2446 non-null   object \n",
      " 38  MEDECINS_ID                    2446 non-null   float64\n",
      " 39  age_surrogate_mother           2446 non-null   float64\n",
      " 40  w_weight                       2437 non-null   float64\n",
      "dtypes: float64(36), object(5)\n",
      "memory usage: 802.6+ KB\n"
     ]
    }
   ],
   "source": [
    "data[one_change].info()"
   ]
  },
  {
   "cell_type": "code",
   "execution_count": 199,
   "id": "b4b77561",
   "metadata": {},
   "outputs": [
    {
     "data": {
      "text/plain": [
       "array(['Васильева', 'Исакова', 'Самойлович', 'Савина', 'Радионова',\n",
       "       'Кирсанов', 'Меньшикова', 'Денисова', 'Бриедж'], dtype=object)"
      ]
     },
     "execution_count": 199,
     "metadata": {},
     "output_type": "execute_result"
    }
   ],
   "source": [
    "data.doctor.unique()"
   ]
  },
  {
   "cell_type": "code",
   "execution_count": 200,
   "id": "71e6c781",
   "metadata": {},
   "outputs": [
    {
     "data": {
      "text/plain": [
       "1448"
      ]
     },
     "execution_count": 200,
     "metadata": {},
     "output_type": "execute_result"
    }
   ],
   "source": [
    "len(data.id.unique())"
   ]
  },
  {
   "cell_type": "markdown",
   "id": "2b3c1855",
   "metadata": {},
   "source": [
    "Очищение столбца с id, удаление всех омс приставок"
   ]
  },
  {
   "cell_type": "code",
   "execution_count": 201,
   "id": "36d3dd42",
   "metadata": {},
   "outputs": [
    {
     "data": {
      "text/plain": [
       "14      89047омс2\n",
       "15      88498омс2\n",
       "18       87941омс\n",
       "19       87941омс\n",
       "20       82306омс\n",
       "          ...    \n",
       "2959    83079омс4\n",
       "2961    96502омс2\n",
       "2962     80552омс\n",
       "2963     97330омс\n",
       "2965     97330омс\n",
       "Name: id, Length: 1707, dtype: object"
      ]
     },
     "execution_count": 201,
     "metadata": {},
     "output_type": "execute_result"
    }
   ],
   "source": [
    "data.id[data.id.str.count(r'(.омс.*)')==1]"
   ]
  },
  {
   "cell_type": "code",
   "execution_count": 202,
   "id": "ba007f06",
   "metadata": {},
   "outputs": [
    {
     "data": {
      "text/plain": [
       "7          73373\n",
       "8          90239\n",
       "9          90239\n",
       "10         88248\n",
       "12         86497\n",
       "          ...   \n",
       "2963    97330омс\n",
       "2965    97330омс\n",
       "2967       97729\n",
       "2968       97729\n",
       "2969       96918\n",
       "Name: id, Length: 2446, dtype: object"
      ]
     },
     "execution_count": 202,
     "metadata": {},
     "output_type": "execute_result"
    }
   ],
   "source": [
    "data.id"
   ]
  },
  {
   "cell_type": "code",
   "execution_count": 203,
   "id": "a972bc9b",
   "metadata": {},
   "outputs": [
    {
     "data": {
      "text/plain": [
       "7       73373\n",
       "8       90239\n",
       "9       90239\n",
       "10      88248\n",
       "12      86497\n",
       "        ...  \n",
       "2946    93293\n",
       "2960    97368\n",
       "2967    97729\n",
       "2968    97729\n",
       "2969    96918\n",
       "Name: id, Length: 739, dtype: object"
      ]
     },
     "execution_count": 203,
     "metadata": {},
     "output_type": "execute_result"
    }
   ],
   "source": [
    "data.id[data.id.str.count(r'(.омс.*)')!=1]"
   ]
  },
  {
   "cell_type": "code",
   "execution_count": 204,
   "id": "219e2943",
   "metadata": {},
   "outputs": [],
   "source": [
    "s = data.id.str"
   ]
  },
  {
   "cell_type": "code",
   "execution_count": 205,
   "id": "e7ff103f",
   "metadata": {},
   "outputs": [
    {
     "name": "stderr",
     "output_type": "stream",
     "text": [
      "/tmp/ipykernel_5478/2513175758.py:1: FutureWarning: The default value of regex will change from True to False in a future version.\n",
      "  data.id[data.id.str.count(r'(омс.*)')==1] = data.id[data.id.str.count(r'(омс.*)')==1].str.replace(r'(омс.*)', '')\n",
      "/tmp/ipykernel_5478/2513175758.py:1: SettingWithCopyWarning: \n",
      "A value is trying to be set on a copy of a slice from a DataFrame\n",
      "\n",
      "See the caveats in the documentation: https://pandas.pydata.org/pandas-docs/stable/user_guide/indexing.html#returning-a-view-versus-a-copy\n",
      "  data.id[data.id.str.count(r'(омс.*)')==1] = data.id[data.id.str.count(r'(омс.*)')==1].str.replace(r'(омс.*)', '')\n"
     ]
    }
   ],
   "source": [
    "data.id[data.id.str.count(r'(омс.*)')==1] = data.id[data.id.str.count(r'(омс.*)')==1].str.replace(r'(омс.*)', '')"
   ]
  },
  {
   "cell_type": "code",
   "execution_count": 207,
   "id": "fc9bf1d7",
   "metadata": {},
   "outputs": [
    {
     "data": {
      "text/plain": [
       "1315     87535сотром_x000D_\\nс\n",
       "1316     87535сотром_x000D_\\nс\n",
       "2255    56508сотром_x000D_\\nс2\n",
       "Name: id, dtype: object"
      ]
     },
     "execution_count": 207,
     "metadata": {},
     "output_type": "execute_result"
    }
   ],
   "source": [
    "data.id[data.id.str.count(r'(.сотр.)') ==1]"
   ]
  },
  {
   "cell_type": "code",
   "execution_count": 208,
   "id": "a3885f38",
   "metadata": {},
   "outputs": [
    {
     "data": {
      "text/plain": [
       "Series([], Name: id, dtype: object)"
      ]
     },
     "execution_count": 208,
     "metadata": {},
     "output_type": "execute_result"
    }
   ],
   "source": [
    "data.id[data.id.str.count(r'(сотрО_x000D_\\nМС4)') ==1]"
   ]
  },
  {
   "cell_type": "code",
   "execution_count": 206,
   "id": "bfe454de",
   "metadata": {},
   "outputs": [
    {
     "name": "stderr",
     "output_type": "stream",
     "text": [
      "/tmp/ipykernel_5478/1950946380.py:1: FutureWarning: The default value of regex will change from True to False in a future version.\n",
      "  data.id[data.id.str.count(r'(сотрО_x000D_\\nМС4)') ==1] = data.id[data.id.str.count(r'(сотрО_x000D_\\nМС4)') ==1].str.replace(r'(сотрО_x000D_\\nМС4)', '')\n",
      "/tmp/ipykernel_5478/1950946380.py:1: SettingWithCopyWarning: \n",
      "A value is trying to be set on a copy of a slice from a DataFrame\n",
      "\n",
      "See the caveats in the documentation: https://pandas.pydata.org/pandas-docs/stable/user_guide/indexing.html#returning-a-view-versus-a-copy\n",
      "  data.id[data.id.str.count(r'(сотрО_x000D_\\nМС4)') ==1] = data.id[data.id.str.count(r'(сотрО_x000D_\\nМС4)') ==1].str.replace(r'(сотрО_x000D_\\nМС4)', '')\n"
     ]
    }
   ],
   "source": [
    "data.id[data.id.str.count(r'(сотрО_x000D_\\nМС4)') ==1] = data.id[data.id.str.count(r'(сотрО_x000D_\\nМС4)') ==1].str.replace(r'(сотрО_x000D_\\nМС4)', '')"
   ]
  },
  {
   "cell_type": "code",
   "execution_count": 209,
   "id": "8eb62337",
   "metadata": {},
   "outputs": [
    {
     "data": {
      "text/plain": [
       "1315     87535сотром_x000D_\\nс\n",
       "1316     87535сотром_x000D_\\nс\n",
       "2255    56508сотром_x000D_\\nс2\n",
       "Name: id, dtype: object"
      ]
     },
     "execution_count": 209,
     "metadata": {},
     "output_type": "execute_result"
    }
   ],
   "source": [
    "data.id[data.id.str.count(r'(.сотр.)') ==1]"
   ]
  },
  {
   "cell_type": "code",
   "execution_count": 210,
   "id": "e0578327",
   "metadata": {},
   "outputs": [
    {
     "name": "stderr",
     "output_type": "stream",
     "text": [
      "/tmp/ipykernel_5478/3214927614.py:1: FutureWarning: The default value of regex will change from True to False in a future version.\n",
      "  data.id[data.id.str.count(r'(сотром_x000D_\\nс.)') ==1] = data.id[data.id.str.count(r'(сотром_x000D_\\nс.)') ==1].str.replace(r'(сотром_x000D_\\nс.)', '')\n",
      "/tmp/ipykernel_5478/3214927614.py:1: SettingWithCopyWarning: \n",
      "A value is trying to be set on a copy of a slice from a DataFrame\n",
      "\n",
      "See the caveats in the documentation: https://pandas.pydata.org/pandas-docs/stable/user_guide/indexing.html#returning-a-view-versus-a-copy\n",
      "  data.id[data.id.str.count(r'(сотром_x000D_\\nс.)') ==1] = data.id[data.id.str.count(r'(сотром_x000D_\\nс.)') ==1].str.replace(r'(сотром_x000D_\\nс.)', '')\n"
     ]
    }
   ],
   "source": [
    "data.id[data.id.str.count(r'(сотром_x000D_\\nс.)') ==1] = data.id[data.id.str.count(r'(сотром_x000D_\\nс.)') ==1].str.replace(r'(сотром_x000D_\\nс.)', '')"
   ]
  },
  {
   "cell_type": "code",
   "execution_count": 211,
   "id": "e8a2b8a5",
   "metadata": {},
   "outputs": [
    {
     "data": {
      "text/plain": [
       "1315    87535сотром_x000D_\\nс\n",
       "1316    87535сотром_x000D_\\nс\n",
       "Name: id, dtype: object"
      ]
     },
     "execution_count": 211,
     "metadata": {},
     "output_type": "execute_result"
    }
   ],
   "source": [
    "data.id[data.id.str.count(r'(.сотр.)') ==1]"
   ]
  },
  {
   "cell_type": "code",
   "execution_count": 212,
   "id": "6993c300",
   "metadata": {},
   "outputs": [
    {
     "name": "stderr",
     "output_type": "stream",
     "text": [
      "/tmp/ipykernel_5478/2475565001.py:1: FutureWarning: The default value of regex will change from True to False in a future version.\n",
      "  data.id[data.id.str.count(r'(сотром_x000D_\\nс)') ==1] = data.id[data.id.str.count(r'(сотром_x000D_\\nс)') ==1].str.replace(r'(сотром_x000D_\\nс)', '')\n",
      "/tmp/ipykernel_5478/2475565001.py:1: SettingWithCopyWarning: \n",
      "A value is trying to be set on a copy of a slice from a DataFrame\n",
      "\n",
      "See the caveats in the documentation: https://pandas.pydata.org/pandas-docs/stable/user_guide/indexing.html#returning-a-view-versus-a-copy\n",
      "  data.id[data.id.str.count(r'(сотром_x000D_\\nс)') ==1] = data.id[data.id.str.count(r'(сотром_x000D_\\nс)') ==1].str.replace(r'(сотром_x000D_\\nс)', '')\n"
     ]
    }
   ],
   "source": [
    "data.id[data.id.str.count(r'(сотром_x000D_\\nс)') ==1] = data.id[data.id.str.count(r'(сотром_x000D_\\nс)') ==1].str.replace(r'(сотром_x000D_\\nс)', '')"
   ]
  },
  {
   "cell_type": "code",
   "execution_count": 213,
   "id": "d2ae5e31",
   "metadata": {},
   "outputs": [
    {
     "data": {
      "text/plain": [
       "Series([], Name: id, dtype: object)"
      ]
     },
     "execution_count": 213,
     "metadata": {},
     "output_type": "execute_result"
    }
   ],
   "source": [
    "data.id[data.id.str.count(r'(.сотр.)') ==1]"
   ]
  },
  {
   "cell_type": "code",
   "execution_count": 214,
   "id": "f33d5df2",
   "metadata": {},
   "outputs": [
    {
     "data": {
      "text/plain": [
       "7       73373\n",
       "8       90239\n",
       "9       90239\n",
       "10      88248\n",
       "12      86497\n",
       "        ...  \n",
       "2963    97330\n",
       "2965    97330\n",
       "2967    97729\n",
       "2968    97729\n",
       "2969    96918\n",
       "Name: id, Length: 2446, dtype: object"
      ]
     },
     "execution_count": 214,
     "metadata": {},
     "output_type": "execute_result"
    }
   ],
   "source": [
    "data.id"
   ]
  },
  {
   "cell_type": "code",
   "execution_count": 215,
   "id": "4cc885de",
   "metadata": {},
   "outputs": [],
   "source": [
    "data[\"id\"] = pd.to_numeric(data[\"id\"], downcast=\"integer\")"
   ]
  },
  {
   "cell_type": "code",
   "execution_count": 216,
   "id": "d8047c14",
   "metadata": {},
   "outputs": [
    {
     "name": "stdout",
     "output_type": "stream",
     "text": [
      "<class 'pandas.core.frame.DataFrame'>\n",
      "Int64Index: 2446 entries, 7 to 2969\n",
      "Data columns (total 41 columns):\n",
      " #   Column                         Non-Null Count  Dtype  \n",
      "---  ------                         --------------  -----  \n",
      " 0   doctor                         2446 non-null   object \n",
      " 1   id                             2446 non-null   int32  \n",
      " 2   age                            2446 non-null   float64\n",
      " 3   date_of_embryo_transfer        2446 non-null   object \n",
      " 4   w_height                       2446 non-null   float64\n",
      " 5   w_bmi                          2446 non-null   float64\n",
      " 6   mature_oocytes                 2446 non-null   float64\n",
      " 7   num_of_cultivation_hours       2446 non-null   float64\n",
      " 8   embryo_biopsy                  2446 non-null   float64\n",
      " 9   ECO                            2446 non-null   float64\n",
      " 10  sperm_injection                2446 non-null   float64\n",
      " 11  own_frozen_oocytes             2446 non-null   float64\n",
      " 12  crio_donor_oocytes             2446 non-null   float64\n",
      " 13  fresh_donor_oocytes            2446 non-null   float64\n",
      " 14  donor_sperm                    2446 non-null   float64\n",
      " 15  donor_embryos_after_testing    2446 non-null   float64\n",
      " 16  donor_embryos_without_testing  2446 non-null   float64\n",
      " 17  crio_sperm                     2446 non-null   float64\n",
      " 18  fresh_sperm                    2446 non-null   float64\n",
      " 19  thawed_embryos                 2446 non-null   float64\n",
      " 20  num_embryos_transferred        2446 non-null   float64\n",
      " 21  normal_sperm_by_embryologist   2446 non-null   float64\n",
      " 22  gr1                            2446 non-null   float64\n",
      " 23  gr1_2                          2446 non-null   float64\n",
      " 24  gr2                            2446 non-null   float64\n",
      " 25  gr2_3                          2446 non-null   float64\n",
      " 26  gr3                            2446 non-null   float64\n",
      " 27  num_crio_embrions              2446 non-null   float64\n",
      " 28  refreezing_embrions            2446 non-null   float64\n",
      " 29  embryo_number                  2446 non-null   float64\n",
      " 30  surrogate_mother               2446 non-null   float64\n",
      " 31  m_alcho                        2446 non-null   float64\n",
      " 32  m_varicocele                   2446 non-null   float64\n",
      " 33  m_STDs                         2446 non-null   float64\n",
      " 34  m_cryptorchidism               2446 non-null   float64\n",
      " 35  m_prostatitis                  2446 non-null   float64\n",
      " 36  procedure_name                 2446 non-null   object \n",
      " 37  stimulation                    2446 non-null   object \n",
      " 38  MEDECINS_ID                    2446 non-null   float64\n",
      " 39  age_surrogate_mother           2446 non-null   float64\n",
      " 40  w_weight                       2437 non-null   float64\n",
      "dtypes: float64(36), int32(1), object(4)\n",
      "memory usage: 857.6+ KB\n"
     ]
    }
   ],
   "source": [
    "data[one_change].info()"
   ]
  },
  {
   "cell_type": "code",
   "execution_count": 217,
   "id": "a0cec7be",
   "metadata": {},
   "outputs": [
    {
     "data": {
      "text/plain": [
       "7       04.01.2020 12:29:02\n",
       "8       10.01.2020 15:15:00\n",
       "9       10.01.2020 15:15:00\n",
       "10      13.01.2020 15:00:00\n",
       "12      13.01.2020 12:21:23\n",
       "               ...         \n",
       "2963    22.05.2021 11:28:25\n",
       "2965    22.05.2021 11:28:25\n",
       "2967    28.05.2021 15:20:00\n",
       "2968    28.05.2021 15:20:00\n",
       "2969    29.06.2021 15:40:00\n",
       "Name: date_of_embryo_transfer, Length: 2446, dtype: object"
      ]
     },
     "execution_count": 217,
     "metadata": {},
     "output_type": "execute_result"
    }
   ],
   "source": [
    "data.date_of_embryo_transfer"
   ]
  },
  {
   "cell_type": "code",
   "execution_count": 218,
   "id": "4385e791",
   "metadata": {},
   "outputs": [
    {
     "data": {
      "text/plain": [
       "1578130142.0"
      ]
     },
     "execution_count": 218,
     "metadata": {},
     "output_type": "execute_result"
    }
   ],
   "source": [
    "s = \"04.01.2020 12:29:02\"\n",
    "time.mktime(datetime.datetime.strptime(s, \"%d.%m.%Y  %H:%M:%S\").timetuple())\n"
   ]
  },
  {
   "cell_type": "code",
   "execution_count": 219,
   "id": "56c9f04b",
   "metadata": {},
   "outputs": [
    {
     "data": {
      "text/plain": [
       "7       04.01.2020 12:29:02\n",
       "8       10.01.2020 15:15:00\n",
       "9       10.01.2020 15:15:00\n",
       "10      13.01.2020 15:00:00\n",
       "12      13.01.2020 12:21:23\n",
       "               ...         \n",
       "2963    22.05.2021 11:28:25\n",
       "2965    22.05.2021 11:28:25\n",
       "2967    28.05.2021 15:20:00\n",
       "2968    28.05.2021 15:20:00\n",
       "2969    29.06.2021 15:40:00\n",
       "Name: date_of_embryo_transfer, Length: 2446, dtype: object"
      ]
     },
     "execution_count": 219,
     "metadata": {},
     "output_type": "execute_result"
    }
   ],
   "source": [
    "data.date_of_embryo_transfer"
   ]
  },
  {
   "cell_type": "code",
   "execution_count": 220,
   "id": "cd8d9b26",
   "metadata": {},
   "outputs": [],
   "source": [
    "data.date_of_embryo_transfer = data.date_of_embryo_transfer.apply(lambda x: time.mktime(datetime.datetime.strptime(x, \"%d.%m.%Y  %H:%M:%S\").timetuple()))"
   ]
  },
  {
   "cell_type": "code",
   "execution_count": 221,
   "id": "d5a4a8ac",
   "metadata": {},
   "outputs": [
    {
     "data": {
      "text/plain": [
       "Перенос размороженных эмбрионов    1235\n",
       "ЭКО/ИКСИ                           1211\n",
       "Name: procedure_name, dtype: int64"
      ]
     },
     "execution_count": 221,
     "metadata": {},
     "output_type": "execute_result"
    }
   ],
   "source": [
    "data.procedure_name.value_counts()"
   ]
  },
  {
   "cell_type": "code",
   "execution_count": 222,
   "id": "37c5b13d",
   "metadata": {},
   "outputs": [
    {
     "data": {
      "text/plain": [
       "с индукцией овуляции                           1128\n",
       "на фоне заместительной гормональной терапии     944\n",
       "в естественном цикле                            291\n",
       "Заказчик                                         83\n",
       "Name: stimulation, dtype: int64"
      ]
     },
     "execution_count": 222,
     "metadata": {},
     "output_type": "execute_result"
    }
   ],
   "source": [
    "data.stimulation.value_counts()"
   ]
  },
  {
   "cell_type": "code",
   "execution_count": 223,
   "id": "7e84ff38",
   "metadata": {},
   "outputs": [],
   "source": [
    "cat_features = ['doctor','stimulation','procedure_name']"
   ]
  },
  {
   "cell_type": "code",
   "execution_count": 224,
   "id": "88de29c2",
   "metadata": {},
   "outputs": [
    {
     "data": {
      "text/html": [
       "<div>\n",
       "<style scoped>\n",
       "    .dataframe tbody tr th:only-of-type {\n",
       "        vertical-align: middle;\n",
       "    }\n",
       "\n",
       "    .dataframe tbody tr th {\n",
       "        vertical-align: top;\n",
       "    }\n",
       "\n",
       "    .dataframe thead th {\n",
       "        text-align: right;\n",
       "    }\n",
       "</style>\n",
       "<table border=\"1\" class=\"dataframe\">\n",
       "  <thead>\n",
       "    <tr style=\"text-align: right;\">\n",
       "      <th></th>\n",
       "      <th>doctor_Бриедж</th>\n",
       "      <th>doctor_Васильева</th>\n",
       "      <th>doctor_Денисова</th>\n",
       "      <th>doctor_Исакова</th>\n",
       "      <th>doctor_Кирсанов</th>\n",
       "      <th>doctor_Меньшикова</th>\n",
       "      <th>doctor_Радионова</th>\n",
       "      <th>doctor_Савина</th>\n",
       "      <th>doctor_Самойлович</th>\n",
       "      <th>stimulation_Заказчик</th>\n",
       "      <th>stimulation_в естественном цикле</th>\n",
       "      <th>stimulation_на фоне заместительной гормональной терапии</th>\n",
       "      <th>stimulation_с индукцией овуляции</th>\n",
       "      <th>procedure_name_Перенос размороженных эмбрионов</th>\n",
       "      <th>procedure_name_ЭКО/ИКСИ</th>\n",
       "    </tr>\n",
       "  </thead>\n",
       "  <tbody>\n",
       "    <tr>\n",
       "      <th>7</th>\n",
       "      <td>0</td>\n",
       "      <td>1</td>\n",
       "      <td>0</td>\n",
       "      <td>0</td>\n",
       "      <td>0</td>\n",
       "      <td>0</td>\n",
       "      <td>0</td>\n",
       "      <td>0</td>\n",
       "      <td>0</td>\n",
       "      <td>0</td>\n",
       "      <td>1</td>\n",
       "      <td>0</td>\n",
       "      <td>0</td>\n",
       "      <td>0</td>\n",
       "      <td>1</td>\n",
       "    </tr>\n",
       "    <tr>\n",
       "      <th>8</th>\n",
       "      <td>0</td>\n",
       "      <td>0</td>\n",
       "      <td>0</td>\n",
       "      <td>1</td>\n",
       "      <td>0</td>\n",
       "      <td>0</td>\n",
       "      <td>0</td>\n",
       "      <td>0</td>\n",
       "      <td>0</td>\n",
       "      <td>0</td>\n",
       "      <td>0</td>\n",
       "      <td>0</td>\n",
       "      <td>1</td>\n",
       "      <td>0</td>\n",
       "      <td>1</td>\n",
       "    </tr>\n",
       "    <tr>\n",
       "      <th>9</th>\n",
       "      <td>0</td>\n",
       "      <td>0</td>\n",
       "      <td>0</td>\n",
       "      <td>1</td>\n",
       "      <td>0</td>\n",
       "      <td>0</td>\n",
       "      <td>0</td>\n",
       "      <td>0</td>\n",
       "      <td>0</td>\n",
       "      <td>0</td>\n",
       "      <td>0</td>\n",
       "      <td>0</td>\n",
       "      <td>1</td>\n",
       "      <td>0</td>\n",
       "      <td>1</td>\n",
       "    </tr>\n",
       "    <tr>\n",
       "      <th>10</th>\n",
       "      <td>0</td>\n",
       "      <td>0</td>\n",
       "      <td>0</td>\n",
       "      <td>1</td>\n",
       "      <td>0</td>\n",
       "      <td>0</td>\n",
       "      <td>0</td>\n",
       "      <td>0</td>\n",
       "      <td>0</td>\n",
       "      <td>0</td>\n",
       "      <td>0</td>\n",
       "      <td>1</td>\n",
       "      <td>0</td>\n",
       "      <td>0</td>\n",
       "      <td>1</td>\n",
       "    </tr>\n",
       "    <tr>\n",
       "      <th>12</th>\n",
       "      <td>0</td>\n",
       "      <td>0</td>\n",
       "      <td>0</td>\n",
       "      <td>1</td>\n",
       "      <td>0</td>\n",
       "      <td>0</td>\n",
       "      <td>0</td>\n",
       "      <td>0</td>\n",
       "      <td>0</td>\n",
       "      <td>0</td>\n",
       "      <td>0</td>\n",
       "      <td>0</td>\n",
       "      <td>1</td>\n",
       "      <td>0</td>\n",
       "      <td>1</td>\n",
       "    </tr>\n",
       "  </tbody>\n",
       "</table>\n",
       "</div>"
      ],
      "text/plain": [
       "    doctor_Бриедж  doctor_Васильева  doctor_Денисова  doctor_Исакова  \\\n",
       "7               0                 1                0               0   \n",
       "8               0                 0                0               1   \n",
       "9               0                 0                0               1   \n",
       "10              0                 0                0               1   \n",
       "12              0                 0                0               1   \n",
       "\n",
       "    doctor_Кирсанов  doctor_Меньшикова  doctor_Радионова  doctor_Савина  \\\n",
       "7                 0                  0                 0              0   \n",
       "8                 0                  0                 0              0   \n",
       "9                 0                  0                 0              0   \n",
       "10                0                  0                 0              0   \n",
       "12                0                  0                 0              0   \n",
       "\n",
       "    doctor_Самойлович  stimulation_Заказчик  stimulation_в естественном цикле  \\\n",
       "7                   0                     0                                 1   \n",
       "8                   0                     0                                 0   \n",
       "9                   0                     0                                 0   \n",
       "10                  0                     0                                 0   \n",
       "12                  0                     0                                 0   \n",
       "\n",
       "    stimulation_на фоне заместительной гормональной терапии  \\\n",
       "7                                                   0         \n",
       "8                                                   0         \n",
       "9                                                   0         \n",
       "10                                                  1         \n",
       "12                                                  0         \n",
       "\n",
       "    stimulation_с индукцией овуляции  \\\n",
       "7                                  0   \n",
       "8                                  1   \n",
       "9                                  1   \n",
       "10                                 0   \n",
       "12                                 1   \n",
       "\n",
       "    procedure_name_Перенос размороженных эмбрионов  procedure_name_ЭКО/ИКСИ  \n",
       "7                                                0                        1  \n",
       "8                                                0                        1  \n",
       "9                                                0                        1  \n",
       "10                                               0                        1  \n",
       "12                                               0                        1  "
      ]
     },
     "execution_count": 224,
     "metadata": {},
     "output_type": "execute_result"
    }
   ],
   "source": [
    "cat_variables = data[cat_features]\n",
    "cat_dummies = pd.get_dummies(cat_variables, prefix=['doctor','stimulation','procedure_name'])\n",
    "cat_dummies.head()"
   ]
  },
  {
   "cell_type": "code",
   "execution_count": 225,
   "id": "7dced5ef",
   "metadata": {},
   "outputs": [
    {
     "data": {
      "text/plain": [
       "Index(['doctor_Бриедж', 'doctor_Васильева', 'doctor_Денисова',\n",
       "       'doctor_Исакова', 'doctor_Кирсанов', 'doctor_Меньшикова',\n",
       "       'doctor_Радионова', 'doctor_Савина', 'doctor_Самойлович',\n",
       "       'stimulation_Заказчик', 'stimulation_в естественном цикле',\n",
       "       'stimulation_на фоне заместительной гормональной терапии',\n",
       "       'stimulation_с индукцией овуляции',\n",
       "       'procedure_name_Перенос размороженных эмбрионов',\n",
       "       'procedure_name_ЭКО/ИКСИ'],\n",
       "      dtype='object')"
      ]
     },
     "execution_count": 225,
     "metadata": {},
     "output_type": "execute_result"
    }
   ],
   "source": [
    "cat_dummies.columns"
   ]
  },
  {
   "cell_type": "code",
   "execution_count": 226,
   "id": "492f44ff",
   "metadata": {},
   "outputs": [],
   "source": [
    "cat_dummies = cat_dummies.rename(columns={'doctor_Бриедж':'doctor_briege', 'doctor_Васильева': 'doctor_vasilyeva', 'doctor_Денисова': 'doctor_denisova',\n",
    "       'doctor_Исакова':'doctor_isacova', 'doctor_Кирсанов': 'doctor_kirsanov', 'doctor_Меньшикова': 'doctor_menshikova',\n",
    "       'doctor_Радионова': 'doctor_radionova', 'doctor_Савина': 'doctor_savina', 'doctor_Самойлович': 'doctor_samoilovich',\n",
    "       'stimulation_Заказчик': 'stimulation_client', 'stimulation_в естественном цикле': 'stimulation_natural_cycle',\n",
    "       'stimulation_на фоне заместительной гормональной терапии': 'stimulation_hormone_replacement_therapy',\n",
    "       'stimulation_с индукцией овуляции': 'stimulation_with_ovulation_induction',\n",
    "       'procedure_name_Перенос размороженных эмбрионов' : 'procedure_name_transfer_defrosted_embryos',\n",
    "       'procedure_name_ЭКО/ИКСИ': 'procedure_name_eco/icsi'})"
   ]
  },
  {
   "cell_type": "code",
   "execution_count": 227,
   "id": "0a1d7d85",
   "metadata": {},
   "outputs": [
    {
     "data": {
      "text/plain": [
       "Index(['doctor_briege', 'doctor_vasilyeva', 'doctor_denisova',\n",
       "       'doctor_isacova', 'doctor_kirsanov', 'doctor_menshikova',\n",
       "       'doctor_radionova', 'doctor_savina', 'doctor_samoilovich',\n",
       "       'stimulation_client', 'stimulation_natural_cycle',\n",
       "       'stimulation_hormone_replacement_therapy',\n",
       "       'stimulation_with_ovulation_induction',\n",
       "       'procedure_name_transfer_defrosted_embryos', 'procedure_name_eco/icsi'],\n",
       "      dtype='object')"
      ]
     },
     "execution_count": 227,
     "metadata": {},
     "output_type": "execute_result"
    }
   ],
   "source": [
    "cat_dummies.columns"
   ]
  },
  {
   "cell_type": "code",
   "execution_count": 228,
   "id": "446a687a",
   "metadata": {},
   "outputs": [
    {
     "data": {
      "text/html": [
       "<div>\n",
       "<style scoped>\n",
       "    .dataframe tbody tr th:only-of-type {\n",
       "        vertical-align: middle;\n",
       "    }\n",
       "\n",
       "    .dataframe tbody tr th {\n",
       "        vertical-align: top;\n",
       "    }\n",
       "\n",
       "    .dataframe thead th {\n",
       "        text-align: right;\n",
       "    }\n",
       "</style>\n",
       "<table border=\"1\" class=\"dataframe\">\n",
       "  <thead>\n",
       "    <tr style=\"text-align: right;\">\n",
       "      <th></th>\n",
       "      <th>id</th>\n",
       "      <th>age</th>\n",
       "      <th>w_diagnosis</th>\n",
       "      <th>w_diagnosis_mkb</th>\n",
       "      <th>duration_of_infertility</th>\n",
       "      <th>egg_collection_day_time</th>\n",
       "      <th>date_of_embryo_transfer</th>\n",
       "      <th>number_of_eco-tries</th>\n",
       "      <th>w_height</th>\n",
       "      <th>w_weight</th>\n",
       "      <th>...</th>\n",
       "      <th>doctor_menshikova</th>\n",
       "      <th>doctor_radionova</th>\n",
       "      <th>doctor_savina</th>\n",
       "      <th>doctor_samoilovich</th>\n",
       "      <th>stimulation_client</th>\n",
       "      <th>stimulation_natural_cycle</th>\n",
       "      <th>stimulation_hormone_replacement_therapy</th>\n",
       "      <th>stimulation_with_ovulation_induction</th>\n",
       "      <th>procedure_name_transfer_defrosted_embryos</th>\n",
       "      <th>procedure_name_eco/icsi</th>\n",
       "    </tr>\n",
       "  </thead>\n",
       "  <tbody>\n",
       "    <tr>\n",
       "      <th>7</th>\n",
       "      <td>73373</td>\n",
       "      <td>41.0</td>\n",
       "      <td>NaN</td>\n",
       "      <td>NaN</td>\n",
       "      <td>NaN</td>\n",
       "      <td>30.12.2019 09:00:00</td>\n",
       "      <td>1.578130e+09</td>\n",
       "      <td>1.0</td>\n",
       "      <td>167.0</td>\n",
       "      <td>63.0</td>\n",
       "      <td>...</td>\n",
       "      <td>0</td>\n",
       "      <td>0</td>\n",
       "      <td>0</td>\n",
       "      <td>0</td>\n",
       "      <td>0</td>\n",
       "      <td>1</td>\n",
       "      <td>0</td>\n",
       "      <td>0</td>\n",
       "      <td>0</td>\n",
       "      <td>1</td>\n",
       "    </tr>\n",
       "    <tr>\n",
       "      <th>8</th>\n",
       "      <td>90239</td>\n",
       "      <td>29.0</td>\n",
       "      <td>Бесплодие_x000D_\\nI.Первичная_x000D_\\nолигомен...</td>\n",
       "      <td>Бесплодие I.Первичная олигоменоррея._x000D_\\nN...</td>\n",
       "      <td>10.0</td>\n",
       "      <td>06.01.2020 10:00:00</td>\n",
       "      <td>1.578658e+09</td>\n",
       "      <td>1.0</td>\n",
       "      <td>160.0</td>\n",
       "      <td>80.0</td>\n",
       "      <td>...</td>\n",
       "      <td>0</td>\n",
       "      <td>0</td>\n",
       "      <td>0</td>\n",
       "      <td>0</td>\n",
       "      <td>0</td>\n",
       "      <td>0</td>\n",
       "      <td>0</td>\n",
       "      <td>1</td>\n",
       "      <td>0</td>\n",
       "      <td>1</td>\n",
       "    </tr>\n",
       "    <tr>\n",
       "      <th>9</th>\n",
       "      <td>90239</td>\n",
       "      <td>29.0</td>\n",
       "      <td>Бесплодие_x000D_\\nI.Первичная_x000D_\\nолигомен...</td>\n",
       "      <td>Бесплодие I.Первичная олигоменоррея._x000D_\\nN...</td>\n",
       "      <td>10.0</td>\n",
       "      <td>06.01.2020 10:00:00</td>\n",
       "      <td>1.578658e+09</td>\n",
       "      <td>1.0</td>\n",
       "      <td>160.0</td>\n",
       "      <td>80.0</td>\n",
       "      <td>...</td>\n",
       "      <td>0</td>\n",
       "      <td>0</td>\n",
       "      <td>0</td>\n",
       "      <td>0</td>\n",
       "      <td>0</td>\n",
       "      <td>0</td>\n",
       "      <td>0</td>\n",
       "      <td>1</td>\n",
       "      <td>0</td>\n",
       "      <td>1</td>\n",
       "    </tr>\n",
       "    <tr>\n",
       "      <th>10</th>\n",
       "      <td>88248</td>\n",
       "      <td>46.0</td>\n",
       "      <td>Бесплодие II._x000D_\\nХронический_x000D_\\nсаль...</td>\n",
       "      <td>Бесплодие II. Хронический_x000D_\\nсальпингоофо...</td>\n",
       "      <td>2.0</td>\n",
       "      <td>08.01.2020 10:30:00</td>\n",
       "      <td>1.578917e+09</td>\n",
       "      <td>1.0</td>\n",
       "      <td>149.0</td>\n",
       "      <td>66.0</td>\n",
       "      <td>...</td>\n",
       "      <td>0</td>\n",
       "      <td>0</td>\n",
       "      <td>0</td>\n",
       "      <td>0</td>\n",
       "      <td>0</td>\n",
       "      <td>0</td>\n",
       "      <td>1</td>\n",
       "      <td>0</td>\n",
       "      <td>0</td>\n",
       "      <td>1</td>\n",
       "    </tr>\n",
       "    <tr>\n",
       "      <th>12</th>\n",
       "      <td>86497</td>\n",
       "      <td>33.0</td>\n",
       "      <td>Бесплодие_x000D_\\nII.Фолликуля_x000D_\\nрная ки...</td>\n",
       "      <td>Бесплодие II.Фолликулярная киста правого_x000D...</td>\n",
       "      <td>NaN</td>\n",
       "      <td>09.01.2020 10:00:00</td>\n",
       "      <td>1.578907e+09</td>\n",
       "      <td>1.0</td>\n",
       "      <td>168.0</td>\n",
       "      <td>87.0</td>\n",
       "      <td>...</td>\n",
       "      <td>0</td>\n",
       "      <td>0</td>\n",
       "      <td>0</td>\n",
       "      <td>0</td>\n",
       "      <td>0</td>\n",
       "      <td>0</td>\n",
       "      <td>0</td>\n",
       "      <td>1</td>\n",
       "      <td>0</td>\n",
       "      <td>1</td>\n",
       "    </tr>\n",
       "  </tbody>\n",
       "</table>\n",
       "<p>5 rows × 98 columns</p>\n",
       "</div>"
      ],
      "text/plain": [
       "       id   age                                        w_diagnosis  \\\n",
       "7   73373  41.0                                                NaN   \n",
       "8   90239  29.0  Бесплодие_x000D_\\nI.Первичная_x000D_\\nолигомен...   \n",
       "9   90239  29.0  Бесплодие_x000D_\\nI.Первичная_x000D_\\nолигомен...   \n",
       "10  88248  46.0  Бесплодие II._x000D_\\nХронический_x000D_\\nсаль...   \n",
       "12  86497  33.0  Бесплодие_x000D_\\nII.Фолликуля_x000D_\\nрная ки...   \n",
       "\n",
       "                                      w_diagnosis_mkb  \\\n",
       "7                                                 NaN   \n",
       "8   Бесплодие I.Первичная олигоменоррея._x000D_\\nN...   \n",
       "9   Бесплодие I.Первичная олигоменоррея._x000D_\\nN...   \n",
       "10  Бесплодие II. Хронический_x000D_\\nсальпингоофо...   \n",
       "12  Бесплодие II.Фолликулярная киста правого_x000D...   \n",
       "\n",
       "    duration_of_infertility egg_collection_day_time  date_of_embryo_transfer  \\\n",
       "7                       NaN     30.12.2019 09:00:00             1.578130e+09   \n",
       "8                      10.0     06.01.2020 10:00:00             1.578658e+09   \n",
       "9                      10.0     06.01.2020 10:00:00             1.578658e+09   \n",
       "10                      2.0     08.01.2020 10:30:00             1.578917e+09   \n",
       "12                      NaN     09.01.2020 10:00:00             1.578907e+09   \n",
       "\n",
       "    number_of_eco-tries  w_height  w_weight  ...  doctor_menshikova  \\\n",
       "7                   1.0     167.0      63.0  ...                  0   \n",
       "8                   1.0     160.0      80.0  ...                  0   \n",
       "9                   1.0     160.0      80.0  ...                  0   \n",
       "10                  1.0     149.0      66.0  ...                  0   \n",
       "12                  1.0     168.0      87.0  ...                  0   \n",
       "\n",
       "   doctor_radionova doctor_savina doctor_samoilovich stimulation_client  \\\n",
       "7                 0             0                  0                  0   \n",
       "8                 0             0                  0                  0   \n",
       "9                 0             0                  0                  0   \n",
       "10                0             0                  0                  0   \n",
       "12                0             0                  0                  0   \n",
       "\n",
       "    stimulation_natural_cycle  stimulation_hormone_replacement_therapy  \\\n",
       "7                           1                                        0   \n",
       "8                           0                                        0   \n",
       "9                           0                                        0   \n",
       "10                          0                                        1   \n",
       "12                          0                                        0   \n",
       "\n",
       "    stimulation_with_ovulation_induction  \\\n",
       "7                                      0   \n",
       "8                                      1   \n",
       "9                                      1   \n",
       "10                                     0   \n",
       "12                                     1   \n",
       "\n",
       "    procedure_name_transfer_defrosted_embryos  procedure_name_eco/icsi  \n",
       "7                                           0                        1  \n",
       "8                                           0                        1  \n",
       "9                                           0                        1  \n",
       "10                                          0                        1  \n",
       "12                                          0                        1  \n",
       "\n",
       "[5 rows x 98 columns]"
      ]
     },
     "execution_count": 228,
     "metadata": {},
     "output_type": "execute_result"
    }
   ],
   "source": [
    "data = data.drop(cat_features, axis=1)\n",
    "data = pd.concat([data, cat_dummies], axis=1)\n",
    "data.head()"
   ]
  },
  {
   "cell_type": "code",
   "execution_count": 229,
   "id": "d8f56449",
   "metadata": {},
   "outputs": [],
   "source": [
    "list_of_unnull = []\n",
    "list_of_null = []"
   ]
  },
  {
   "cell_type": "code",
   "execution_count": 230,
   "id": "5d5ba3a2",
   "metadata": {},
   "outputs": [],
   "source": [
    "for name in data.columns:\n",
    "    if getattr(data, name).isnull().any(axis=0) == False:\n",
    "        list_of_unnull.append(name)\n",
    "    else:\n",
    "        list_of_null.append(name)"
   ]
  },
  {
   "cell_type": "code",
   "execution_count": 231,
   "id": "987e03e8",
   "metadata": {},
   "outputs": [
    {
     "data": {
      "text/plain": [
       "['id',\n",
       " 'age',\n",
       " 'date_of_embryo_transfer',\n",
       " 'w_height',\n",
       " 'w_bmi',\n",
       " 'mature_oocytes',\n",
       " 'num_of_cultivation_hours',\n",
       " 'embryo_biopsy',\n",
       " 'ECO',\n",
       " 'sperm_injection',\n",
       " 'own_frozen_oocytes',\n",
       " 'crio_donor_oocytes',\n",
       " 'fresh_donor_oocytes',\n",
       " 'donor_sperm',\n",
       " 'donor_embryos_after_testing',\n",
       " 'donor_embryos_without_testing',\n",
       " 'crio_sperm',\n",
       " 'fresh_sperm',\n",
       " 'thawed_embryos',\n",
       " 'num_embryos_transferred',\n",
       " 'normal_sperm_by_embryologist',\n",
       " 'gr1',\n",
       " 'gr1_2',\n",
       " 'gr2',\n",
       " 'gr2_3',\n",
       " 'gr3',\n",
       " 'num_crio_embrions',\n",
       " 'refreezing_embrions',\n",
       " 'embryo_number',\n",
       " 'surrogate_mother',\n",
       " 'm_alcho',\n",
       " 'm_varicocele',\n",
       " 'm_STDs',\n",
       " 'm_cryptorchidism',\n",
       " 'm_prostatitis',\n",
       " 'MEDECINS_ID',\n",
       " 'age_surrogate_mother',\n",
       " 'doctor_briege',\n",
       " 'doctor_vasilyeva',\n",
       " 'doctor_denisova',\n",
       " 'doctor_isacova',\n",
       " 'doctor_kirsanov',\n",
       " 'doctor_menshikova',\n",
       " 'doctor_radionova',\n",
       " 'doctor_savina',\n",
       " 'doctor_samoilovich',\n",
       " 'stimulation_client',\n",
       " 'stimulation_natural_cycle',\n",
       " 'stimulation_hormone_replacement_therapy',\n",
       " 'stimulation_with_ovulation_induction',\n",
       " 'procedure_name_transfer_defrosted_embryos',\n",
       " 'procedure_name_eco/icsi']"
      ]
     },
     "execution_count": 231,
     "metadata": {},
     "output_type": "execute_result"
    }
   ],
   "source": [
    "list_of_unnull"
   ]
  },
  {
   "cell_type": "code",
   "execution_count": 232,
   "id": "8e3356eb",
   "metadata": {},
   "outputs": [],
   "source": [
    "one_change = list_of_unnull + ['w_weight']"
   ]
  },
  {
   "cell_type": "code",
   "execution_count": 233,
   "id": "5f8dc562",
   "metadata": {},
   "outputs": [
    {
     "name": "stdout",
     "output_type": "stream",
     "text": [
      "<class 'pandas.core.frame.DataFrame'>\n",
      "Int64Index: 2446 entries, 7 to 2969\n",
      "Data columns (total 53 columns):\n",
      " #   Column                                     Non-Null Count  Dtype  \n",
      "---  ------                                     --------------  -----  \n",
      " 0   id                                         2446 non-null   int32  \n",
      " 1   age                                        2446 non-null   float64\n",
      " 2   date_of_embryo_transfer                    2446 non-null   float64\n",
      " 3   w_height                                   2446 non-null   float64\n",
      " 4   w_bmi                                      2446 non-null   float64\n",
      " 5   mature_oocytes                             2446 non-null   float64\n",
      " 6   num_of_cultivation_hours                   2446 non-null   float64\n",
      " 7   embryo_biopsy                              2446 non-null   float64\n",
      " 8   ECO                                        2446 non-null   float64\n",
      " 9   sperm_injection                            2446 non-null   float64\n",
      " 10  own_frozen_oocytes                         2446 non-null   float64\n",
      " 11  crio_donor_oocytes                         2446 non-null   float64\n",
      " 12  fresh_donor_oocytes                        2446 non-null   float64\n",
      " 13  donor_sperm                                2446 non-null   float64\n",
      " 14  donor_embryos_after_testing                2446 non-null   float64\n",
      " 15  donor_embryos_without_testing              2446 non-null   float64\n",
      " 16  crio_sperm                                 2446 non-null   float64\n",
      " 17  fresh_sperm                                2446 non-null   float64\n",
      " 18  thawed_embryos                             2446 non-null   float64\n",
      " 19  num_embryos_transferred                    2446 non-null   float64\n",
      " 20  normal_sperm_by_embryologist               2446 non-null   float64\n",
      " 21  gr1                                        2446 non-null   float64\n",
      " 22  gr1_2                                      2446 non-null   float64\n",
      " 23  gr2                                        2446 non-null   float64\n",
      " 24  gr2_3                                      2446 non-null   float64\n",
      " 25  gr3                                        2446 non-null   float64\n",
      " 26  num_crio_embrions                          2446 non-null   float64\n",
      " 27  refreezing_embrions                        2446 non-null   float64\n",
      " 28  embryo_number                              2446 non-null   float64\n",
      " 29  surrogate_mother                           2446 non-null   float64\n",
      " 30  m_alcho                                    2446 non-null   float64\n",
      " 31  m_varicocele                               2446 non-null   float64\n",
      " 32  m_STDs                                     2446 non-null   float64\n",
      " 33  m_cryptorchidism                           2446 non-null   float64\n",
      " 34  m_prostatitis                              2446 non-null   float64\n",
      " 35  MEDECINS_ID                                2446 non-null   float64\n",
      " 36  age_surrogate_mother                       2446 non-null   float64\n",
      " 37  doctor_briege                              2446 non-null   uint8  \n",
      " 38  doctor_vasilyeva                           2446 non-null   uint8  \n",
      " 39  doctor_denisova                            2446 non-null   uint8  \n",
      " 40  doctor_isacova                             2446 non-null   uint8  \n",
      " 41  doctor_kirsanov                            2446 non-null   uint8  \n",
      " 42  doctor_menshikova                          2446 non-null   uint8  \n",
      " 43  doctor_radionova                           2446 non-null   uint8  \n",
      " 44  doctor_savina                              2446 non-null   uint8  \n",
      " 45  doctor_samoilovich                         2446 non-null   uint8  \n",
      " 46  stimulation_client                         2446 non-null   uint8  \n",
      " 47  stimulation_natural_cycle                  2446 non-null   uint8  \n",
      " 48  stimulation_hormone_replacement_therapy    2446 non-null   uint8  \n",
      " 49  stimulation_with_ovulation_induction       2446 non-null   uint8  \n",
      " 50  procedure_name_transfer_defrosted_embryos  2446 non-null   uint8  \n",
      " 51  procedure_name_eco/icsi                    2446 non-null   uint8  \n",
      " 52  w_weight                                   2437 non-null   float64\n",
      "dtypes: float64(37), int32(1), uint8(15)\n",
      "memory usage: 836.1 KB\n"
     ]
    }
   ],
   "source": [
    "data[one_change].info()"
   ]
  },
  {
   "cell_type": "code",
   "execution_count": 234,
   "id": "981bafde",
   "metadata": {},
   "outputs": [],
   "source": [
    "imputer = KNNImputer(n_neighbors=5)"
   ]
  },
  {
   "cell_type": "code",
   "execution_count": 235,
   "id": "b2a53750",
   "metadata": {},
   "outputs": [],
   "source": [
    "df = pd.DataFrame(imputer.fit_transform(data[one_change]),columns = data[one_change].columns)"
   ]
  },
  {
   "cell_type": "code",
   "execution_count": 236,
   "id": "d8556576",
   "metadata": {},
   "outputs": [
    {
     "data": {
      "text/plain": [
       "53"
      ]
     },
     "execution_count": 236,
     "metadata": {},
     "output_type": "execute_result"
    }
   ],
   "source": [
    "len(df.columns)"
   ]
  },
  {
   "cell_type": "code",
   "execution_count": 237,
   "id": "a6053e27",
   "metadata": {},
   "outputs": [
    {
     "data": {
      "image/png": "[encoded data removed]",
      "text/plain": [
       "<Figure size 1440x1440 with 56 Axes>"
      ]
     },
     "metadata": {
      "needs_background": "light"
     },
     "output_type": "display_data"
    }
   ],
   "source": [
    "df.hist(bins=30, figsize=(20, 20));"
   ]
  },
  {
   "cell_type": "code",
   "execution_count": 238,
   "id": "e105f0e7",
   "metadata": {},
   "outputs": [
    {
     "name": "stdout",
     "output_type": "stream",
     "text": [
      "<class 'pandas.core.frame.DataFrame'>\n",
      "Int64Index: 2446 entries, 7 to 2969\n",
      "Data columns (total 46 columns):\n",
      " #   Column                            Non-Null Count  Dtype  \n",
      "---  ------                            --------------  -----  \n",
      " 0   w_diagnosis                       2323 non-null   object \n",
      " 1   w_diagnosis_mkb                   2323 non-null   object \n",
      " 2   duration_of_infertility           1823 non-null   float64\n",
      " 3   egg_collection_day_time           2402 non-null   object \n",
      " 4   number_of_eco-tries               2385 non-null   float64\n",
      " 5   w_weight                          2437 non-null   float64\n",
      " 6   protocol                          2264 non-null   object \n",
      " 7   gonadotropins                     2372 non-null   object \n",
      " 8   starting_dose                     2372 non-null   object \n",
      " 9   trigger                           2282 non-null   object \n",
      " 10  duration_of_ovarian_stimulation   2270 non-null   float64\n",
      " 11  cycle_day_puncture                2395 non-null   float64\n",
      " 12  cycle_day_transfer                2377 non-null   float64\n",
      " 13  punctuated                        2234 non-null   float64\n",
      " 14  flushed                           887 non-null    float64\n",
      " 15  num_oocytes                       2401 non-null   float64\n",
      " 16  endometrial_thickness_mm          2281 non-null   float64\n",
      " 17  embryologist                      2432 non-null   object \n",
      " 18  method_embryo_biopsy              405 non-null    object \n",
      " 19  crio_sperm_obtained_surgery       6 non-null      object \n",
      " 20  fresh_sperm_obtained_surgery      44 non-null     object \n",
      " 21  ejaculate_volume_ml               2217 non-null   object \n",
      " 22  concen_of_round_cells             1 non-null      object \n",
      " 23  concen_sperm_cells                2220 non-null   object \n",
      " 24  mobility_of_sperm_%               2198 non-null   object \n",
      " 25  norm_sperm_%                      13 non-null     float64\n",
      " 26  anomal_sperm_%                    2131 non-null   float64\n",
      " 27  normal_sperm_by_biologists        977 non-null    float64\n",
      " 28  outcome_treatment                 2438 non-null   object \n",
      " 29  num_of_fetuses                    1096 non-null   float64\n",
      " 30  outcome_pregnancy                 0 non-null      float64\n",
      " 31  m_age                             2332 non-null   float64\n",
      " 32  МАР_lgG                           9 non-null      object \n",
      " 33  m_height                          524 non-null    float64\n",
      " 34  m_weight                          519 non-null    float64\n",
      " 35  health_insurance                  1542 non-null   object \n",
      " 36  MAP_test                          827 non-null    object \n",
      " 37  m_id                              2334 non-null   object \n",
      " 38  protocol_before_transfer          2146 non-null   object \n",
      " 39  timeliness_of_delivery            627 non-null    object \n",
      " 40  fetal_sex                         626 non-null    object \n",
      " 41  fetal_height                      553 non-null    float64\n",
      " 42  fetal_weight                      569 non-null    float64\n",
      " 43  localization_of_pregnancy         230 non-null    object \n",
      " 44  due_date                          623 non-null    object \n",
      " 45  complications_during_pregnancy    38 non-null     object \n",
      "dtypes: float64(20), object(26)\n",
      "memory usage: 962.7+ KB\n"
     ]
    }
   ],
   "source": [
    "data[list_of_null].info()"
   ]
  },
  {
   "cell_type": "code",
   "execution_count": 239,
   "id": "c645ffd3",
   "metadata": {},
   "outputs": [
    {
     "data": {
      "text/plain": [
       "Бесплодие I._x000D_\\nМужской_x000D_\\nфактор.N97.4                                                                                                                                                                                                                                                                                                                                         18\n",
       "Бесплодие II._x000D_\\nМужской_x000D_\\nфактор.N97.4                                                                                                                                                                                                                                                                                                                                        10\n",
       "Бесплодие II_x000D_\\nтрубное.                                                                                                                                                                                                                                                                                                                                                              9\n",
       "Бесплодие II_x000D_\\n(N97.4_x000D_\\nженское_x000D_\\nбесплодие,_x000D_\\nобусловленн_x000D_\\nое мужским_x000D_\\nфактором).                                                                                                                                                                                                                                                                   6\n",
       "Бесплодие_x000D_\\nI.СПЯ._x000D_\\nE28.2.Анову_x000D_\\nляция. N97.0_x000D_\\nИзбыточная_x000D_\\nмасса тела.                                                                                                                                                                                                                                                                                   6\n",
       "                                                                                                                                                                                                                                                                                                                                                                                          ..\n",
       "Бесплодие I_x000D_\\n(N97.1_x000D_\\nженское_x000D_\\nтрубгно-пери_x000D_\\nтонеальное)._x000D_\\nХронический_x000D_\\nсальпингооф_x000D_\\nорит (N70.1),_x000D_\\nремиссия._x000D_\\nСпаечный_x000D_\\nпроцесс в_x000D_\\nмалом тазу_x000D_\\n(N99.4)._x000D_\\nПоздний_x000D_\\nрепродуктив_x000D_\\nный возраст._x000D_\\nАутоиммунн_x000D_\\nый тиреоидит_x000D_\\n(E06.3),_x000D_\\nэутиреоз.            1\n",
       "Бесплодие II._x000D_\\nХронический_x000D_\\nсальпингооф_x000D_\\nорит._x000D_\\nN70.1.Миома_x000D_\\nматки._x000D_\\nD25.Спаечны_x000D_\\nй процесс в_x000D_\\nмалом тазу._x000D_\\nN99.4.Поздн_x000D_\\nий_x000D_\\nрепродуктив_x000D_\\nный_x000D_\\nвозраст.Сниж_x000D_\\nение_x000D_\\nовариальног_x000D_\\nо резерва._x000D_\\nНарушение_x000D_\\nжирового_x000D_\\nобмена I_x000D_\\nстепени.Инсу        1\n",
       "Бесплодие I,_x000D_\\nтрубно-перит_x000D_\\nонеальное._x000D_\\nХронический_x000D_\\nсальпингооф_x000D_\\nорит с_x000D_\\nполной_x000D_\\nокклюзией_x000D_\\nобеих_x000D_\\nматочных_x000D_\\nтруб в_x000D_\\nистмическом_x000D_\\nотделе._x000D_\\nN70.1._x000D_\\nМужской_x000D_\\nфактор._x000D_\\nЭрозия_x000D_\\nшейки матки.                                                                          1\n",
       "Бесплодие II,_x000D_\\nмужской_x000D_\\nфактор._x000D_\\nМиома_x000D_\\nматки. D25._x000D_\\nРубец на_x000D_\\nматке после_x000D_\\nоперации_x000D_\\nКесарево_x000D_\\nсечение в_x000D_\\n2013 г.,_x000D_\\nконсервативн_x000D_\\nой_x000D_\\nмиомэктомии_x000D_\\n._x000D_\\nCтоматоплас_x000D_\\nтика в 2013г._x000D_\\nпо поводу_x000D_\\nправосторон_x000D_\\nнего_x000D_\\nсактосальпин_x000D_\\nкса.     1\n",
       "Бесплодие II._x000D_\\nПриобретенн_x000D_\\nое_x000D_\\nотсутствие_x000D_\\nоргана_x000D_\\n(двухсторонн_x000D_\\nяя_x000D_\\nоварэктомия)_x000D_\\n. Z90. Рак_x000D_\\nмолочной_x000D_\\nжелезы в_x000D_\\nанамнезе._x000D_\\nМенопауза.                                                                                                                                                              1\n",
       "Name: w_diagnosis, Length: 1477, dtype: int64"
      ]
     },
     "execution_count": 239,
     "metadata": {},
     "output_type": "execute_result"
    }
   ],
   "source": [
    "data.w_diagnosis.value_counts()"
   ]
  },
  {
   "cell_type": "code",
   "execution_count": 241,
   "id": "52730a5a",
   "metadata": {},
   "outputs": [
    {
     "data": {
      "text/plain": [
       "215         Бесплодие I_x000D_\\nN97.4\n",
       "327     Бесплодие II_x000D_\\nтрубное.\n",
       "328     Бесплодие II_x000D_\\nтрубное.\n",
       "551     Бесплодие II_x000D_\\nтрубное.\n",
       "552     Бесплодие II_x000D_\\nтрубное.\n",
       "1410      Бесплодие II_x000D_\\nN 97.4\n",
       "1411      Бесплодие II_x000D_\\nN 97.4\n",
       "2115    Бесплодие II_x000D_\\nтрубное.\n",
       "2116    Бесплодие II_x000D_\\nтрубное.\n",
       "2117    Бесплодие II_x000D_\\nтрубное.\n",
       "2118    Бесплодие II_x000D_\\nтрубное.\n",
       "2428    Бесплодие II_x000D_\\nтрубное.\n",
       "Name: w_diagnosis, dtype: object"
      ]
     },
     "execution_count": 241,
     "metadata": {},
     "output_type": "execute_result"
    }
   ],
   "source": [
    "data.w_diagnosis[data.w_diagnosis.str.count(r'(_x000D_\\n)')==1]"
   ]
  },
  {
   "cell_type": "code",
   "execution_count": 242,
   "id": "ac13a915",
   "metadata": {},
   "outputs": [
    {
     "data": {
      "text/plain": [
       "8       Бесплодие_x000D_\\nI.Первичная_x000D_\\nолигомен...\n",
       "9       Бесплодие_x000D_\\nI.Первичная_x000D_\\nолигомен...\n",
       "12      Бесплодие_x000D_\\nII.Фолликуля_x000D_\\nрная ки...\n",
       "13      Бесплодие_x000D_\\nII.Фолликуля_x000D_\\nрная ки...\n",
       "14      Бесплодие I_x000D_\\n(N97.1_x000D_\\nженское_x00...\n",
       "                              ...                        \n",
       "2956    Бесплодие II._x000D_\\nХронический_x000D_\\nсаль...\n",
       "2960    Бесплодие II._x000D_\\nПривычное_x000D_\\nневына...\n",
       "2962    Бесплодие I_x000D_\\nсложное_x000D_\\n(N97.4_x00...\n",
       "2967    Бесплодие_x000D_\\nI.Хронически_x000D_\\nй_x000D...\n",
       "2968    Бесплодие_x000D_\\nI.Хронически_x000D_\\nй_x000D...\n",
       "Name: w_diagnosis, Length: 887, dtype: object"
      ]
     },
     "execution_count": 242,
     "metadata": {},
     "output_type": "execute_result"
    }
   ],
   "source": [
    "data.w_diagnosis[data.w_diagnosis.str.count(r'(\\d_x000D_\\n)')==1]"
   ]
  },
  {
   "cell_type": "code",
   "execution_count": 243,
   "id": "d22404e7",
   "metadata": {},
   "outputs": [
    {
     "name": "stderr",
     "output_type": "stream",
     "text": [
      "/tmp/ipykernel_5478/4267495441.py:1: FutureWarning: The default value of regex will change from True to False in a future version.\n",
      "  data.w_diagnosis[data.w_diagnosis.str.count(r'(\\d_x000D_\\n)')==1] = data.w_diagnosis[data.w_diagnosis.str.count(r'(\\d_x000D_\\n)')==1].str.replace(r'(_x000D_\\n)', '.')\n",
      "/tmp/ipykernel_5478/4267495441.py:1: SettingWithCopyWarning: \n",
      "A value is trying to be set on a copy of a slice from a DataFrame\n",
      "\n",
      "See the caveats in the documentation: https://pandas.pydata.org/pandas-docs/stable/user_guide/indexing.html#returning-a-view-versus-a-copy\n",
      "  data.w_diagnosis[data.w_diagnosis.str.count(r'(\\d_x000D_\\n)')==1] = data.w_diagnosis[data.w_diagnosis.str.count(r'(\\d_x000D_\\n)')==1].str.replace(r'(_x000D_\\n)', '.')\n"
     ]
    }
   ],
   "source": [
    "data.w_diagnosis[data.w_diagnosis.str.count(r'(\\d_x000D_\\n)')==1] = data.w_diagnosis[data.w_diagnosis.str.count(r'(\\d_x000D_\\n)')==1].str.replace(r'(_x000D_\\n)', '.')"
   ]
  },
  {
   "cell_type": "code",
   "execution_count": 244,
   "id": "21bef02d",
   "metadata": {},
   "outputs": [
    {
     "data": {
      "text/plain": [
       "'Бесплодие.I.Гиперпрола.ктинемия..E22.1.Мужск.ой.фактор.N97.4.(азоосперми.я).'"
      ]
     },
     "execution_count": 244,
     "metadata": {},
     "output_type": "execute_result"
    }
   ],
   "source": [
    "data.w_diagnosis.iloc[8]"
   ]
  },
  {
   "cell_type": "code",
   "execution_count": 245,
   "id": "6d8ddbad",
   "metadata": {},
   "outputs": [
    {
     "name": "stderr",
     "output_type": "stream",
     "text": [
      "/tmp/ipykernel_5478/117447602.py:1: FutureWarning: The default value of regex will change from True to False in a future version.\n",
      "  data.w_diagnosis[data.w_diagnosis.str.count(r'(\\D_x000D_\\n)')==1] = data.w_diagnosis[data.w_diagnosis.str.count(r'(\\D_x000D_\\n)')==1].str.replace(r'(_x000D_\\n)', '.')\n",
      "/tmp/ipykernel_5478/117447602.py:1: SettingWithCopyWarning: \n",
      "A value is trying to be set on a copy of a slice from a DataFrame\n",
      "\n",
      "See the caveats in the documentation: https://pandas.pydata.org/pandas-docs/stable/user_guide/indexing.html#returning-a-view-versus-a-copy\n",
      "  data.w_diagnosis[data.w_diagnosis.str.count(r'(\\D_x000D_\\n)')==1] = data.w_diagnosis[data.w_diagnosis.str.count(r'(\\D_x000D_\\n)')==1].str.replace(r'(_x000D_\\n)', '.')\n"
     ]
    }
   ],
   "source": [
    "data.w_diagnosis[data.w_diagnosis.str.count(r'(\\D_x000D_\\n)')==1] = data.w_diagnosis[data.w_diagnosis.str.count(r'(\\D_x000D_\\n)')==1].str.replace(r'(_x000D_\\n)', '.')"
   ]
  },
  {
   "cell_type": "code",
   "execution_count": 246,
   "id": "3c43fe19",
   "metadata": {},
   "outputs": [
    {
     "name": "stderr",
     "output_type": "stream",
     "text": [
      "/tmp/ipykernel_5478/1981508870.py:1: FutureWarning: The default value of regex will change from True to False in a future version.\n",
      "  data.w_diagnosis[data.w_diagnosis.str.count(r'(_x000D_\\n)')==1] = data.w_diagnosis[data.w_diagnosis.str.count(r'(_x000D_\\n)')==1].str.replace(r'(_x000D_\\n)', '.')\n",
      "/tmp/ipykernel_5478/1981508870.py:1: SettingWithCopyWarning: \n",
      "A value is trying to be set on a copy of a slice from a DataFrame\n",
      "\n",
      "See the caveats in the documentation: https://pandas.pydata.org/pandas-docs/stable/user_guide/indexing.html#returning-a-view-versus-a-copy\n",
      "  data.w_diagnosis[data.w_diagnosis.str.count(r'(_x000D_\\n)')==1] = data.w_diagnosis[data.w_diagnosis.str.count(r'(_x000D_\\n)')==1].str.replace(r'(_x000D_\\n)', '.')\n"
     ]
    }
   ],
   "source": [
    "data.w_diagnosis[data.w_diagnosis.str.count(r'(_x000D_\\n)')==1] = data.w_diagnosis[data.w_diagnosis.str.count(r'(_x000D_\\n)')==1].str.replace(r'(_x000D_\\n)', '.')"
   ]
  },
  {
   "cell_type": "code",
   "execution_count": 247,
   "id": "6c315450",
   "metadata": {},
   "outputs": [
    {
     "data": {
      "text/plain": [
       "Series([], Name: w_diagnosis, dtype: object)"
      ]
     },
     "execution_count": 247,
     "metadata": {},
     "output_type": "execute_result"
    }
   ],
   "source": [
    "data.w_diagnosis[data.w_diagnosis.str.count(r'(_x000D_\\n)')==1]"
   ]
  },
  {
   "cell_type": "code",
   "execution_count": 248,
   "id": "053c1ec6",
   "metadata": {},
   "outputs": [
    {
     "data": {
      "text/plain": [
       "'Бесплодие I_x000D_\\nмужской_x000D_\\nфактор.'"
      ]
     },
     "execution_count": 248,
     "metadata": {},
     "output_type": "execute_result"
    }
   ],
   "source": [
    "data.w_diagnosis.iloc[215]"
   ]
  },
  {
   "cell_type": "code",
   "execution_count": 249,
   "id": "d7b7e3be",
   "metadata": {},
   "outputs": [
    {
     "data": {
      "text/plain": [
       "Бесплодие I._x000D_\\nМужской_x000D_\\nфактор.N97.4                                                                                                                                                                                                                                                                                                                                         18\n",
       "Бесплодие II._x000D_\\nМужской_x000D_\\nфактор.N97.4                                                                                                                                                                                                                                                                                                                                        10\n",
       "Бесплодие II.трубное.                                                                                                                                                                                                                                                                                                                                                                      9\n",
       "Бесплодие II.(N97.4.женское.бесплодие,.обусловленн.ое мужским.фактором).                                                                                                                                                                                                                                                                                                                   6\n",
       "Бесплодие.I.СПЯ..E28.2.Анову.ляция. N97.0.Избыточная.масса тела.                                                                                                                                                                                                                                                                                                                           6\n",
       "                                                                                                                                                                                                                                                                                                                                                                                          ..\n",
       "Бесплодие I.(N97.1.женское.трубгно-пери.тонеальное)..Хронический.сальпингооф.орит (N70.1),.ремиссия..Спаечный.процесс в.малом тазу.(N99.4)..Поздний.репродуктив.ный возраст..Аутоиммунн.ый тиреоидит.(E06.3),.эутиреоз.                                                                                                                                                                    1\n",
       "Бесплодие II._x000D_\\nХронический_x000D_\\nсальпингооф_x000D_\\nорит._x000D_\\nN70.1.Миома_x000D_\\nматки._x000D_\\nD25.Спаечны_x000D_\\nй процесс в_x000D_\\nмалом тазу._x000D_\\nN99.4.Поздн_x000D_\\nий_x000D_\\nрепродуктив_x000D_\\nный_x000D_\\nвозраст.Сниж_x000D_\\nение_x000D_\\nовариальног_x000D_\\nо резерва._x000D_\\nНарушение_x000D_\\nжирового_x000D_\\nобмена I_x000D_\\nстепени.Инсу        1\n",
       "Бесплодие I,_x000D_\\nтрубно-перит_x000D_\\nонеальное._x000D_\\nХронический_x000D_\\nсальпингооф_x000D_\\nорит с_x000D_\\nполной_x000D_\\nокклюзией_x000D_\\nобеих_x000D_\\nматочных_x000D_\\nтруб в_x000D_\\nистмическом_x000D_\\nотделе._x000D_\\nN70.1._x000D_\\nМужской_x000D_\\nфактор._x000D_\\nЭрозия_x000D_\\nшейки матки.                                                                          1\n",
       "Бесплодие II,_x000D_\\nмужской_x000D_\\nфактор._x000D_\\nМиома_x000D_\\nматки. D25._x000D_\\nРубец на_x000D_\\nматке после_x000D_\\nоперации_x000D_\\nКесарево_x000D_\\nсечение в_x000D_\\n2013 г.,_x000D_\\nконсервативн_x000D_\\nой_x000D_\\nмиомэктомии_x000D_\\n._x000D_\\nCтоматоплас_x000D_\\nтика в 2013г._x000D_\\nпо поводу_x000D_\\nправосторон_x000D_\\nнего_x000D_\\nсактосальпин_x000D_\\nкса.     1\n",
       "Бесплодие II._x000D_\\nПриобретенн_x000D_\\nое_x000D_\\nотсутствие_x000D_\\nоргана_x000D_\\n(двухсторонн_x000D_\\nяя_x000D_\\nоварэктомия)_x000D_\\n. Z90. Рак_x000D_\\nмолочной_x000D_\\nжелезы в_x000D_\\nанамнезе._x000D_\\nМенопауза.                                                                                                                                                              1\n",
       "Name: w_diagnosis, Length: 1477, dtype: int64"
      ]
     },
     "execution_count": 249,
     "metadata": {},
     "output_type": "execute_result"
    }
   ],
   "source": [
    "data.w_diagnosis.value_counts()"
   ]
  },
  {
   "cell_type": "code",
   "execution_count": 250,
   "id": "4dd9c790",
   "metadata": {},
   "outputs": [],
   "source": [
    "series = data.w_diagnosis.value_counts()"
   ]
  },
  {
   "cell_type": "code",
   "execution_count": 251,
   "id": "f5df8969",
   "metadata": {},
   "outputs": [
    {
     "data": {
      "text/plain": [
       "1477"
      ]
     },
     "execution_count": 251,
     "metadata": {},
     "output_type": "execute_result"
    }
   ],
   "source": [
    "data.w_diagnosis.nunique()"
   ]
  },
  {
   "cell_type": "code",
   "execution_count": 252,
   "id": "471ad4b3",
   "metadata": {},
   "outputs": [
    {
     "name": "stderr",
     "output_type": "stream",
     "text": [
      "/tmp/ipykernel_5478/610825383.py:1: SettingWithCopyWarning: \n",
      "A value is trying to be set on a copy of a slice from a DataFrame\n",
      "\n",
      "See the caveats in the documentation: https://pandas.pydata.org/pandas-docs/stable/user_guide/indexing.html#returning-a-view-versus-a-copy\n",
      "  data.w_diagnosis[data.w_diagnosis.notnull()]= data.w_diagnosis[data.w_diagnosis.notnull()].apply(lambda x: x.lower())\n"
     ]
    }
   ],
   "source": [
    "data.w_diagnosis[data.w_diagnosis.notnull()]= data.w_diagnosis[data.w_diagnosis.notnull()].apply(lambda x: x.lower())"
   ]
  },
  {
   "cell_type": "code",
   "execution_count": 254,
   "id": "ac6df415",
   "metadata": {},
   "outputs": [
    {
     "data": {
      "text/plain": [
       "7                                                     NaN\n",
       "8       бесплодие.i.первичная.олигоменорр.ея..n91.3.сп...\n",
       "9       бесплодие.i.первичная.олигоменорр.ея..n91.3.сп...\n",
       "10      бесплодие ii._x000d_\\nхронический_x000d_\\nсаль...\n",
       "12      бесплодие.ii.фолликуля.рная киста.правого.яичн...\n",
       "                              ...                        \n",
       "2963    бесплодие_x000d_\\ni.хронически_x000d_\\nй_x000d...\n",
       "2965    бесплодие_x000d_\\ni.хронически_x000d_\\nй_x000d...\n",
       "2967    бесплодие.i.хронически.й.сальпингооф.орит..n70...\n",
       "2968    бесплодие.i.хронически.й.сальпингооф.орит..n70...\n",
       "2969    бесплодие ii._x000d_\\nприобретенн_x000d_\\nое_x...\n",
       "Name: w_diagnosis, Length: 2446, dtype: object"
      ]
     },
     "execution_count": 254,
     "metadata": {},
     "output_type": "execute_result"
    }
   ],
   "source": [
    "data.w_diagnosis"
   ]
  },
  {
   "cell_type": "code",
   "execution_count": 256,
   "id": "b8aa3620",
   "metadata": {},
   "outputs": [
    {
     "data": {
      "text/plain": [
       "8       бесплодиеiпервичнаяолигоменорреяn913спяe282ано...\n",
       "9       бесплодиеiпервичнаяолигоменорреяn913спяe282ано...\n",
       "10      бесплодие ii_x000d_\\nхронический_x000d_\\nсальп...\n",
       "12      бесплодиеiiфолликулярная кистаправогояичникагэ...\n",
       "13      бесплодиеiiфолликулярная кистаправогояичникагэ...\n",
       "                              ...                        \n",
       "2963    бесплодие_x000d_\\niхронически_x000d_\\nй_x000d_...\n",
       "2965    бесплодие_x000d_\\niхронически_x000d_\\nй_x000d_...\n",
       "2967    бесплодиеiхроническийсальпингоофоритn701днзe04...\n",
       "2968    бесплодиеiхроническийсальпингоофоритn701днзe04...\n",
       "2969    бесплодие ii_x000d_\\nприобретенн_x000d_\\nое_x0...\n",
       "Name: w_diagnosis, Length: 2323, dtype: object"
      ]
     },
     "execution_count": 256,
     "metadata": {},
     "output_type": "execute_result"
    }
   ],
   "source": [
    "data.w_diagnosis[data.w_diagnosis.notnull()].apply(lambda x: re.sub(r'[^\\w\\s]','', x))"
   ]
  },
  {
   "cell_type": "code",
   "execution_count": null,
   "id": "49b4ac7c",
   "metadata": {},
   "outputs": [],
   "source": [
    "data.w_diagnosis[data.w_diagnosis.notnull()]="
   ]
  },
  {
   "cell_type": "code",
   "execution_count": 98,
   "id": "fcfb74d0",
   "metadata": {},
   "outputs": [],
   "source": [
    "df = pd.DataFrame(zip(data.w_diagnosis.index, data.w_diagnosis.str.split(' ')))"
   ]
  },
  {
   "cell_type": "code",
   "execution_count": 99,
   "id": "73cce114",
   "metadata": {},
   "outputs": [],
   "source": [
    "df.to_csv('output.csv')"
   ]
  },
  {
   "cell_type": "code",
   "execution_count": 460,
   "id": "76d17ff8",
   "metadata": {},
   "outputs": [],
   "source": [
    "df = pd.read_csv('output.csv')"
   ]
  },
  {
   "cell_type": "code",
   "execution_count": 461,
   "id": "a888a0eb",
   "metadata": {},
   "outputs": [],
   "source": [
    "df = df.drop(columns = 'Unnamed: 0')"
   ]
  },
  {
   "cell_type": "code",
   "execution_count": 462,
   "id": "dbcf5527",
   "metadata": {},
   "outputs": [],
   "source": [
    "df = df.set_index('0')"
   ]
  },
  {
   "cell_type": "code",
   "execution_count": 463,
   "id": "054a689d",
   "metadata": {},
   "outputs": [],
   "source": [
    "df = df.rename({'1': 'w_diagnosis'})"
   ]
  },
  {
   "cell_type": "code",
   "execution_count": 464,
   "id": "5c6ce4db",
   "metadata": {},
   "outputs": [
    {
     "data": {
      "text/html": [
       "<div>\n",
       "<style scoped>\n",
       "    .dataframe tbody tr th:only-of-type {\n",
       "        vertical-align: middle;\n",
       "    }\n",
       "\n",
       "    .dataframe tbody tr th {\n",
       "        vertical-align: top;\n",
       "    }\n",
       "\n",
       "    .dataframe thead th {\n",
       "        text-align: right;\n",
       "    }\n",
       "</style>\n",
       "<table border=\"1\" class=\"dataframe\">\n",
       "  <thead>\n",
       "    <tr style=\"text-align: right;\">\n",
       "      <th></th>\n",
       "      <th>1</th>\n",
       "    </tr>\n",
       "    <tr>\n",
       "      <th>0</th>\n",
       "      <th></th>\n",
       "    </tr>\n",
       "  </thead>\n",
       "  <tbody>\n",
       "    <tr>\n",
       "      <th>7</th>\n",
       "      <td>NaN</td>\n",
       "    </tr>\n",
       "    <tr>\n",
       "      <th>8</th>\n",
       "      <td>['БесплодиеI.Первичнаяолигоменоррея.N91.3.СПЯ....</td>\n",
       "    </tr>\n",
       "    <tr>\n",
       "      <th>9</th>\n",
       "      <td>['БесплодиеI.Первичнаяолигоменоррея.N91.3.СПЯ....</td>\n",
       "    </tr>\n",
       "    <tr>\n",
       "      <th>10</th>\n",
       "      <td>['Бесплодие', 'II.Хроническийсальпингоофорит.N...</td>\n",
       "    </tr>\n",
       "    <tr>\n",
       "      <th>12</th>\n",
       "      <td>['БесплодиеII.Фолликулярная', 'кистаправогояич...</td>\n",
       "    </tr>\n",
       "    <tr>\n",
       "      <th>...</th>\n",
       "      <td>...</td>\n",
       "    </tr>\n",
       "    <tr>\n",
       "      <th>2963</th>\n",
       "      <td>['БесплодиеI.Хроническийсальпингоофорит.', 'N7...</td>\n",
       "    </tr>\n",
       "    <tr>\n",
       "      <th>2965</th>\n",
       "      <td>['БесплодиеI.Хроническийсальпингоофорит.', 'N7...</td>\n",
       "    </tr>\n",
       "    <tr>\n",
       "      <th>2967</th>\n",
       "      <td>['БесплодиеI.Хроническийсальпингоофорит.N70.1....</td>\n",
       "    </tr>\n",
       "    <tr>\n",
       "      <th>2968</th>\n",
       "      <td>['БесплодиеI.Хроническийсальпингоофорит.N70.1....</td>\n",
       "    </tr>\n",
       "    <tr>\n",
       "      <th>2969</th>\n",
       "      <td>['Бесплодие', 'II.Приобретенноеотсутствиеорган...</td>\n",
       "    </tr>\n",
       "  </tbody>\n",
       "</table>\n",
       "<p>2446 rows × 1 columns</p>\n",
       "</div>"
      ],
      "text/plain": [
       "                                                      1\n",
       "0                                                      \n",
       "7                                                   NaN\n",
       "8     ['БесплодиеI.Первичнаяолигоменоррея.N91.3.СПЯ....\n",
       "9     ['БесплодиеI.Первичнаяолигоменоррея.N91.3.СПЯ....\n",
       "10    ['Бесплодие', 'II.Хроническийсальпингоофорит.N...\n",
       "12    ['БесплодиеII.Фолликулярная', 'кистаправогояич...\n",
       "...                                                 ...\n",
       "2963  ['БесплодиеI.Хроническийсальпингоофорит.', 'N7...\n",
       "2965  ['БесплодиеI.Хроническийсальпингоофорит.', 'N7...\n",
       "2967  ['БесплодиеI.Хроническийсальпингоофорит.N70.1....\n",
       "2968  ['БесплодиеI.Хроническийсальпингоофорит.N70.1....\n",
       "2969  ['Бесплодие', 'II.Приобретенноеотсутствиеорган...\n",
       "\n",
       "[2446 rows x 1 columns]"
      ]
     },
     "execution_count": 464,
     "metadata": {},
     "output_type": "execute_result"
    }
   ],
   "source": [
    "df"
   ]
  },
  {
   "cell_type": "code",
   "execution_count": 465,
   "id": "54b73ef6",
   "metadata": {},
   "outputs": [],
   "source": [
    "data = pd.merge(data, df, left_index=True, right_index=True)"
   ]
  },
  {
   "cell_type": "code",
   "execution_count": 466,
   "id": "cbbac133",
   "metadata": {},
   "outputs": [],
   "source": [
    "data = data.drop(columns = 'w_diagnosis')"
   ]
  },
  {
   "cell_type": "code",
   "execution_count": 467,
   "id": "bb6fa2e5",
   "metadata": {},
   "outputs": [],
   "source": [
    "data = data.rename({'1': 'w_diagnosis'}, axis='columns')"
   ]
  },
  {
   "cell_type": "code",
   "execution_count": 468,
   "id": "9b6e0216",
   "metadata": {},
   "outputs": [
    {
     "data": {
      "text/plain": [
       "Index(['id', 'age', 'w_diagnosis_mkb', 'duration_of_infertility',\n",
       "       'egg_collection_day_time', 'date_of_embryo_transfer',\n",
       "       'number_of_eco-tries', 'w_height', 'w_weight', 'w_bmi', 'protocol',\n",
       "       'gonadotropins', 'starting_dose ', 'trigger',\n",
       "       'duration_of_ovarian_stimulation ', 'cycle_day_puncture',\n",
       "       'cycle_day_transfer', 'punctuated', 'flushed', 'num_oocytes',\n",
       "       'mature_oocytes', 'endometrial_thickness_mm', 'embryologist',\n",
       "       'num_of_cultivation_hours', 'embryo_biopsy', 'method_embryo_biopsy',\n",
       "       'ECO', 'sperm_injection', 'own_frozen_oocytes', 'crio_donor_oocytes',\n",
       "       'fresh_donor_oocytes', 'donor_sperm', 'donor_embryos_after_testing',\n",
       "       'donor_embryos_without_testing', 'crio_sperm', 'fresh_sperm',\n",
       "       'crio_sperm_obtained_surgery', 'fresh_sperm_obtained_surgery',\n",
       "       'thawed_embryos', 'num_embryos_transferred', 'ejaculate_volume_ml',\n",
       "       'concen_of_round_cells', 'concen_sperm_cells', 'mobility_of_sperm_%',\n",
       "       'norm_sperm_%', 'anomal_sperm_%', 'normal_sperm_by_embryologist',\n",
       "       'normal_sperm_by_biologists', 'gr1', 'gr1_2', 'gr2', 'gr2_3', 'gr3',\n",
       "       'num_crio_embrions', 'refreezing_embrions', 'embryo_number',\n",
       "       'surrogate_mother', 'outcome_treatment', 'num_of_fetuses',\n",
       "       'outcome_pregnancy', 'm_age', 'МАР_lgG', 'm_height', 'm_weight',\n",
       "       'm_alcho', 'm_varicocele', 'm_STDs', 'm_cryptorchidism',\n",
       "       'm_prostatitis', 'health_insurance', 'MAP_test', 'm_id',\n",
       "       'protocol_before_transfer', 'MEDECINS_ID', 'timeliness_of_delivery',\n",
       "       'fetal_sex', 'fetal_height', 'fetal_weight',\n",
       "       'localization_of_pregnancy', 'due_date', 'age_surrogate_mother',\n",
       "       'complications_during_pregnancy', 'doctor_briege', 'doctor_vasilyeva',\n",
       "       'doctor_denisova', 'doctor_isacova', 'doctor_kirsanov',\n",
       "       'doctor_menshikova', 'doctor_radionova', 'doctor_savina',\n",
       "       'doctor_samoilovich', 'stimulation_client', 'stimulation_natural_cycle',\n",
       "       'stimulation_hormone_replacement_therapy',\n",
       "       'stimulation_with_ovulation_induction',\n",
       "       'procedure_name_transfer_defrosted_embryos', 'procedure_name_eco/icsi',\n",
       "       'w_diagnosis'],\n",
       "      dtype='object')"
      ]
     },
     "execution_count": 468,
     "metadata": {},
     "output_type": "execute_result"
    }
   ],
   "source": [
    "data.columns"
   ]
  },
  {
   "cell_type": "code",
   "execution_count": 469,
   "id": "ba9f9484",
   "metadata": {},
   "outputs": [
    {
     "data": {
      "text/html": [
       "<div>\n",
       "<style scoped>\n",
       "    .dataframe tbody tr th:only-of-type {\n",
       "        vertical-align: middle;\n",
       "    }\n",
       "\n",
       "    .dataframe tbody tr th {\n",
       "        vertical-align: top;\n",
       "    }\n",
       "\n",
       "    .dataframe thead th {\n",
       "        text-align: right;\n",
       "    }\n",
       "</style>\n",
       "<table border=\"1\" class=\"dataframe\">\n",
       "  <thead>\n",
       "    <tr style=\"text-align: right;\">\n",
       "      <th></th>\n",
       "      <th>id</th>\n",
       "      <th>age</th>\n",
       "      <th>w_diagnosis_mkb</th>\n",
       "      <th>duration_of_infertility</th>\n",
       "      <th>egg_collection_day_time</th>\n",
       "      <th>date_of_embryo_transfer</th>\n",
       "      <th>number_of_eco-tries</th>\n",
       "      <th>w_height</th>\n",
       "      <th>w_weight</th>\n",
       "      <th>w_bmi</th>\n",
       "      <th>...</th>\n",
       "      <th>doctor_radionova</th>\n",
       "      <th>doctor_savina</th>\n",
       "      <th>doctor_samoilovich</th>\n",
       "      <th>stimulation_client</th>\n",
       "      <th>stimulation_natural_cycle</th>\n",
       "      <th>stimulation_hormone_replacement_therapy</th>\n",
       "      <th>stimulation_with_ovulation_induction</th>\n",
       "      <th>procedure_name_transfer_defrosted_embryos</th>\n",
       "      <th>procedure_name_eco/icsi</th>\n",
       "      <th>w_diagnosis</th>\n",
       "    </tr>\n",
       "  </thead>\n",
       "  <tbody>\n",
       "    <tr>\n",
       "      <th>7</th>\n",
       "      <td>73373</td>\n",
       "      <td>41.0</td>\n",
       "      <td>NaN</td>\n",
       "      <td>NaN</td>\n",
       "      <td>30.12.2019 09:00:00</td>\n",
       "      <td>1.578130e+09</td>\n",
       "      <td>1.0</td>\n",
       "      <td>167.0</td>\n",
       "      <td>63.0</td>\n",
       "      <td>0.00000</td>\n",
       "      <td>...</td>\n",
       "      <td>0</td>\n",
       "      <td>0</td>\n",
       "      <td>0</td>\n",
       "      <td>0</td>\n",
       "      <td>1</td>\n",
       "      <td>0</td>\n",
       "      <td>0</td>\n",
       "      <td>0</td>\n",
       "      <td>1</td>\n",
       "      <td>NaN</td>\n",
       "    </tr>\n",
       "    <tr>\n",
       "      <th>8</th>\n",
       "      <td>90239</td>\n",
       "      <td>29.0</td>\n",
       "      <td>Бесплодие I.Первичная олигоменоррея._x000D_\\nN...</td>\n",
       "      <td>10.0</td>\n",
       "      <td>06.01.2020 10:00:00</td>\n",
       "      <td>1.578658e+09</td>\n",
       "      <td>1.0</td>\n",
       "      <td>160.0</td>\n",
       "      <td>80.0</td>\n",
       "      <td>31.25000</td>\n",
       "      <td>...</td>\n",
       "      <td>0</td>\n",
       "      <td>0</td>\n",
       "      <td>0</td>\n",
       "      <td>0</td>\n",
       "      <td>0</td>\n",
       "      <td>0</td>\n",
       "      <td>1</td>\n",
       "      <td>0</td>\n",
       "      <td>1</td>\n",
       "      <td>['БесплодиеI.Первичнаяолигоменоррея.N91.3.СПЯ....</td>\n",
       "    </tr>\n",
       "    <tr>\n",
       "      <th>9</th>\n",
       "      <td>90239</td>\n",
       "      <td>29.0</td>\n",
       "      <td>Бесплодие I.Первичная олигоменоррея._x000D_\\nN...</td>\n",
       "      <td>10.0</td>\n",
       "      <td>06.01.2020 10:00:00</td>\n",
       "      <td>1.578658e+09</td>\n",
       "      <td>1.0</td>\n",
       "      <td>160.0</td>\n",
       "      <td>80.0</td>\n",
       "      <td>31.25000</td>\n",
       "      <td>...</td>\n",
       "      <td>0</td>\n",
       "      <td>0</td>\n",
       "      <td>0</td>\n",
       "      <td>0</td>\n",
       "      <td>0</td>\n",
       "      <td>0</td>\n",
       "      <td>1</td>\n",
       "      <td>0</td>\n",
       "      <td>1</td>\n",
       "      <td>['БесплодиеI.Первичнаяолигоменоррея.N91.3.СПЯ....</td>\n",
       "    </tr>\n",
       "    <tr>\n",
       "      <th>10</th>\n",
       "      <td>88248</td>\n",
       "      <td>46.0</td>\n",
       "      <td>Бесплодие II. Хронический_x000D_\\nсальпингоофо...</td>\n",
       "      <td>2.0</td>\n",
       "      <td>08.01.2020 10:30:00</td>\n",
       "      <td>1.578917e+09</td>\n",
       "      <td>1.0</td>\n",
       "      <td>149.0</td>\n",
       "      <td>66.0</td>\n",
       "      <td>0.00000</td>\n",
       "      <td>...</td>\n",
       "      <td>0</td>\n",
       "      <td>0</td>\n",
       "      <td>0</td>\n",
       "      <td>0</td>\n",
       "      <td>0</td>\n",
       "      <td>1</td>\n",
       "      <td>0</td>\n",
       "      <td>0</td>\n",
       "      <td>1</td>\n",
       "      <td>['Бесплодие', 'II.Хроническийсальпингоофорит.N...</td>\n",
       "    </tr>\n",
       "    <tr>\n",
       "      <th>12</th>\n",
       "      <td>86497</td>\n",
       "      <td>33.0</td>\n",
       "      <td>Бесплодие II.Фолликулярная киста правого_x000D...</td>\n",
       "      <td>NaN</td>\n",
       "      <td>09.01.2020 10:00:00</td>\n",
       "      <td>1.578907e+09</td>\n",
       "      <td>1.0</td>\n",
       "      <td>168.0</td>\n",
       "      <td>87.0</td>\n",
       "      <td>30.82483</td>\n",
       "      <td>...</td>\n",
       "      <td>0</td>\n",
       "      <td>0</td>\n",
       "      <td>0</td>\n",
       "      <td>0</td>\n",
       "      <td>0</td>\n",
       "      <td>0</td>\n",
       "      <td>1</td>\n",
       "      <td>0</td>\n",
       "      <td>1</td>\n",
       "      <td>['БесплодиеII.Фолликулярная', 'кистаправогояич...</td>\n",
       "    </tr>\n",
       "  </tbody>\n",
       "</table>\n",
       "<p>5 rows × 98 columns</p>\n",
       "</div>"
      ],
      "text/plain": [
       "       id   age                                    w_diagnosis_mkb  \\\n",
       "7   73373  41.0                                                NaN   \n",
       "8   90239  29.0  Бесплодие I.Первичная олигоменоррея._x000D_\\nN...   \n",
       "9   90239  29.0  Бесплодие I.Первичная олигоменоррея._x000D_\\nN...   \n",
       "10  88248  46.0  Бесплодие II. Хронический_x000D_\\nсальпингоофо...   \n",
       "12  86497  33.0  Бесплодие II.Фолликулярная киста правого_x000D...   \n",
       "\n",
       "    duration_of_infertility egg_collection_day_time  date_of_embryo_transfer  \\\n",
       "7                       NaN     30.12.2019 09:00:00             1.578130e+09   \n",
       "8                      10.0     06.01.2020 10:00:00             1.578658e+09   \n",
       "9                      10.0     06.01.2020 10:00:00             1.578658e+09   \n",
       "10                      2.0     08.01.2020 10:30:00             1.578917e+09   \n",
       "12                      NaN     09.01.2020 10:00:00             1.578907e+09   \n",
       "\n",
       "    number_of_eco-tries  w_height  w_weight     w_bmi  ... doctor_radionova  \\\n",
       "7                   1.0     167.0      63.0   0.00000  ...                0   \n",
       "8                   1.0     160.0      80.0  31.25000  ...                0   \n",
       "9                   1.0     160.0      80.0  31.25000  ...                0   \n",
       "10                  1.0     149.0      66.0   0.00000  ...                0   \n",
       "12                  1.0     168.0      87.0  30.82483  ...                0   \n",
       "\n",
       "   doctor_savina doctor_samoilovich stimulation_client  \\\n",
       "7              0                  0                  0   \n",
       "8              0                  0                  0   \n",
       "9              0                  0                  0   \n",
       "10             0                  0                  0   \n",
       "12             0                  0                  0   \n",
       "\n",
       "    stimulation_natural_cycle  stimulation_hormone_replacement_therapy  \\\n",
       "7                           1                                        0   \n",
       "8                           0                                        0   \n",
       "9                           0                                        0   \n",
       "10                          0                                        1   \n",
       "12                          0                                        0   \n",
       "\n",
       "    stimulation_with_ovulation_induction  \\\n",
       "7                                      0   \n",
       "8                                      1   \n",
       "9                                      1   \n",
       "10                                     0   \n",
       "12                                     1   \n",
       "\n",
       "    procedure_name_transfer_defrosted_embryos  procedure_name_eco/icsi  \\\n",
       "7                                           0                        1   \n",
       "8                                           0                        1   \n",
       "9                                           0                        1   \n",
       "10                                          0                        1   \n",
       "12                                          0                        1   \n",
       "\n",
       "                                          w_diagnosis  \n",
       "7                                                 NaN  \n",
       "8   ['БесплодиеI.Первичнаяолигоменоррея.N91.3.СПЯ....  \n",
       "9   ['БесплодиеI.Первичнаяолигоменоррея.N91.3.СПЯ....  \n",
       "10  ['Бесплодие', 'II.Хроническийсальпингоофорит.N...  \n",
       "12  ['БесплодиеII.Фолликулярная', 'кистаправогояич...  \n",
       "\n",
       "[5 rows x 98 columns]"
      ]
     },
     "execution_count": 469,
     "metadata": {},
     "output_type": "execute_result"
    }
   ],
   "source": [
    "data.head()"
   ]
  },
  {
   "cell_type": "code",
   "execution_count": 470,
   "id": "89daa509",
   "metadata": {},
   "outputs": [],
   "source": [
    "data.to_csv('data_premium.csv')"
   ]
  },
  {
   "cell_type": "code",
   "execution_count": 471,
   "id": "44cb72d1",
   "metadata": {},
   "outputs": [],
   "source": [
    "data = pd.read_csv('data_premium.csv')"
   ]
  },
  {
   "cell_type": "code",
   "execution_count": 473,
   "id": "7b37b370",
   "metadata": {},
   "outputs": [
    {
     "name": "stdout",
     "output_type": "stream",
     "text": [
      "<class 'pandas.core.frame.DataFrame'>\n",
      "RangeIndex: 2446 entries, 0 to 2445\n",
      "Data columns (total 99 columns):\n",
      " #   Column                                     Non-Null Count  Dtype  \n",
      "---  ------                                     --------------  -----  \n",
      " 0   Unnamed: 0                                 2446 non-null   int64  \n",
      " 1   id                                         2446 non-null   int64  \n",
      " 2   age                                        2446 non-null   int64  \n",
      " 3   w_diagnosis_mkb                            2323 non-null   object \n",
      " 4   duration_of_infertility                    1823 non-null   float64\n",
      " 5   egg_collection_day_time                    2402 non-null   object \n",
      " 6   date_of_embryo_transfer                    2446 non-null   int64  \n",
      " 7   number_of_eco-tries                        2385 non-null   float64\n",
      " 8   w_height                                   2446 non-null   int64  \n",
      " 9   w_weight                                   2437 non-null   float64\n",
      " 10  w_bmi                                      2446 non-null   float64\n",
      " 11  protocol                                   2264 non-null   object \n",
      " 12  gonadotropins                              2372 non-null   object \n",
      " 13  starting_dose                              2372 non-null   object \n",
      " 14  trigger                                    2282 non-null   object \n",
      " 15  duration_of_ovarian_stimulation            2270 non-null   float64\n",
      " 16  cycle_day_puncture                         2395 non-null   float64\n",
      " 17  cycle_day_transfer                         2377 non-null   float64\n",
      " 18  punctuated                                 2234 non-null   float64\n",
      " 19  flushed                                    887 non-null    float64\n",
      " 20  num_oocytes                                2401 non-null   float64\n",
      " 21  mature_oocytes                             2446 non-null   int64  \n",
      " 22  endometrial_thickness_mm                   2281 non-null   float64\n",
      " 23  embryologist                               2432 non-null   object \n",
      " 24  num_of_cultivation_hours                   2446 non-null   int64  \n",
      " 25  embryo_biopsy                              2446 non-null   int64  \n",
      " 26  method_embryo_biopsy                       405 non-null    object \n",
      " 27  ECO                                        2446 non-null   int64  \n",
      " 28  sperm_injection                            2446 non-null   int64  \n",
      " 29  own_frozen_oocytes                         2446 non-null   int64  \n",
      " 30  crio_donor_oocytes                         2446 non-null   int64  \n",
      " 31  fresh_donor_oocytes                        2446 non-null   int64  \n",
      " 32  donor_sperm                                2446 non-null   int64  \n",
      " 33  donor_embryos_after_testing                2446 non-null   int64  \n",
      " 34  donor_embryos_without_testing              2446 non-null   int64  \n",
      " 35  crio_sperm                                 2446 non-null   int64  \n",
      " 36  fresh_sperm                                2446 non-null   int64  \n",
      " 37  crio_sperm_obtained_surgery                6 non-null      object \n",
      " 38  fresh_sperm_obtained_surgery               44 non-null     object \n",
      " 39  thawed_embryos                             2446 non-null   int64  \n",
      " 40  num_embryos_transferred                    2446 non-null   int64  \n",
      " 41  ejaculate_volume_ml                        2217 non-null   object \n",
      " 42  concen_of_round_cells                      1 non-null      object \n",
      " 43  concen_sperm_cells                         2220 non-null   object \n",
      " 44  mobility_of_sperm_%                        2198 non-null   object \n",
      " 45  norm_sperm_%                               13 non-null     float64\n",
      " 46  anomal_sperm_%                             2131 non-null   float64\n",
      " 47  normal_sperm_by_embryologist               2446 non-null   int64  \n",
      " 48  normal_sperm_by_biologists                 977 non-null    float64\n",
      " 49  gr1                                        2446 non-null   int64  \n",
      " 50  gr1_2                                      2446 non-null   int64  \n",
      " 51  gr2                                        2446 non-null   int64  \n",
      " 52  gr2_3                                      2446 non-null   int64  \n",
      " 53  gr3                                        2446 non-null   int64  \n",
      " 54  num_crio_embrions                          2446 non-null   int64  \n",
      " 55  refreezing_embrions                        2446 non-null   int64  \n",
      " 56  embryo_number                              2446 non-null   int64  \n",
      " 57  surrogate_mother                           2446 non-null   int64  \n",
      " 58  outcome_treatment                          2438 non-null   object \n",
      " 59  num_of_fetuses                             1096 non-null   float64\n",
      " 60  outcome_pregnancy                          0 non-null      float64\n",
      " 61  m_age                                      2332 non-null   float64\n",
      " 62  МАР_lgG                                    9 non-null      object \n",
      " 63  m_height                                   524 non-null    float64\n",
      " 64  m_weight                                   519 non-null    float64\n",
      " 65  m_alcho                                    2446 non-null   int64  \n",
      " 66  m_varicocele                               2446 non-null   int64  \n",
      " 67  m_STDs                                     2446 non-null   int64  \n",
      " 68  m_cryptorchidism                           2446 non-null   int64  \n",
      " 69  m_prostatitis                              2446 non-null   int64  \n",
      " 70  health_insurance                           1542 non-null   object \n",
      " 71  MAP_test                                   827 non-null    object \n",
      " 72  m_id                                       2334 non-null   object \n",
      " 73  protocol_before_transfer                   2146 non-null   object \n",
      " 74  MEDECINS_ID                                2446 non-null   int64  \n",
      " 75  timeliness_of_delivery                     627 non-null    object \n",
      " 76  fetal_sex                                  626 non-null    object \n",
      " 77  fetal_height                               553 non-null    float64\n",
      " 78  fetal_weight                               569 non-null    float64\n",
      " 79  localization_of_pregnancy                  230 non-null    object \n",
      " 80  due_date                                   623 non-null    object \n",
      " 81  age_surrogate_mother                       2446 non-null   int64  \n",
      " 82  complications_during_pregnancy             38 non-null     object \n",
      " 83  doctor_briege                              2446 non-null   int64  \n",
      " 84  doctor_vasilyeva                           2446 non-null   int64  \n",
      " 85  doctor_denisova                            2446 non-null   int64  \n",
      " 86  doctor_isacova                             2446 non-null   int64  \n",
      " 87  doctor_kirsanov                            2446 non-null   int64  \n",
      " 88  doctor_menshikova                          2446 non-null   int64  \n",
      " 89  doctor_radionova                           2446 non-null   int64  \n",
      " 90  doctor_savina                              2446 non-null   int64  \n",
      " 91  doctor_samoilovich                         2446 non-null   int64  \n",
      " 92  stimulation_client                         2446 non-null   int64  \n",
      " 93  stimulation_natural_cycle                  2446 non-null   int64  \n",
      " 94  stimulation_hormone_replacement_therapy    2446 non-null   int64  \n",
      " 95  stimulation_with_ovulation_induction       2446 non-null   int64  \n",
      " 96  procedure_name_transfer_defrosted_embryos  2446 non-null   int64  \n",
      " 97  procedure_name_eco/icsi                    2446 non-null   int64  \n",
      " 98  w_diagnosis                                2323 non-null   object \n",
      "dtypes: float64(21), int64(52), object(26)\n",
      "memory usage: 1.8+ MB\n"
     ]
    }
   ],
   "source": [
    "data.info()"
   ]
  },
  {
   "cell_type": "markdown",
   "id": "edb91fba",
   "metadata": {},
   "source": [
    "37  crio_sperm_obtained_surgery                6 non-null      object \n",
    "42  concen_of_round_cells                      1 non-null      object \n",
    "45  norm_sperm_%                               13 non-null     float64\n",
    "60  outcome_pregnancy                          0 non-null      float64\n",
    "62  МАР_lgG                                    9 non-null      object\n",
    "82  complications_during_pregnancy             38 non-null     object \n"
   ]
  },
  {
   "cell_type": "code",
   "execution_count": 475,
   "id": "c50a2324",
   "metadata": {},
   "outputs": [
    {
     "data": {
      "text/plain": [
       "Пункционная биопсия придатков, яичков,\\nаспирационная (PESA, TESЕ)    6\n",
       "Name: crio_sperm_obtained_surgery, dtype: int64"
      ]
     },
     "execution_count": 475,
     "metadata": {},
     "output_type": "execute_result"
    }
   ],
   "source": [
    "data.crio_sperm_obtained_surgery.value_counts()"
   ]
  },
  {
   "cell_type": "code",
   "execution_count": 478,
   "id": "d860e93e",
   "metadata": {},
   "outputs": [
    {
     "data": {
      "text/plain": [
       "гестационны\\nй сахарный\\nдиабет                                                                                                                                                                                                                3\n",
       "ни 1\\nгоспитализац\\nии не было,\\nвсе отлично                                                                                                                                                                                                   2\n",
       "анемия\\nартер\\nгипертензия\\nс 12 нед\\nотеки с 34\\nнед                                                                                                                                                                                          2\n",
       "КОВИД,\\nлегкое\\nтечение при\\nсроке 31 нед\\nбеременност\\nи - ИЦН -\\nАРП,\\nмноговодие.                                                                                                                                                           2\n",
       "умеренная\\nпреэклампси\\nя,\\nжелезодефиц\\nитная анемия\\nлегкой\\nстепени                                                                                                                                                                         2\n",
       "гестационны\\nй сах диабет                                                                                                                                                                                                                      2\n",
       "декомпенсир\\nованная\\nХПН. СЗР\\nплодов.\\nАнтенатальн\\nая гибель\\nодного\\nплода.\\nВторой\\nребенок\\nпогиб через\\n2 дня после\\nродов.                                                                                                             2\n",
       "ИЦН,\\nпессарий,\\nпреждеврем\\nенное\\nизлитие вод                                                                                                                                                                                                2\n",
       "все хорошо                                                                                                                                                                                                                                     2\n",
       "Первый\\nтриместр был\\nсильный\\nтоксикоз,\\nлежала в\\nбольнице\\nтри раза. На\\n16 недели\\nпоставили\\nпессарий,\\nпоследние 3\\nнедели до\\nродов были\\nсильные\\nотеки  только\\nна ногах.                                                             2\n",
       "КОВИД! при\\nбеременност\\nи 14-15 нед                                                                                                                                                                                                           1\n",
       "внутриутробн\\nая инфекция\\n- листериоз -\\nгипоксия -\\nкесарево                                                                                                                                                                                 1\n",
       "ИЦН в 20\\nнед - 8мм -\\nпессарий,\\nчерез 1\\nнеделю\\nшов, когда\\nсняли шов -\\nср роды в 41\\nнед                                                                                                                                                  1\n",
       "гепатоз\\nбеременных\\nв 34 нед                                                                                                                                                                                                                  1\n",
       "гестационны\\nй СД                                                                                                                                                                                                                              1\n",
       "преэклампси\\nя                                                                                                                                                                                                                                 1\n",
       "1) угр\\nраннего\\nсрока -\\nстационар\\n2) в ноябре\\n22 нед -\\nНСV,\\nАЛТ,АСТ - 10\\n000\\n3) КОВИД\\nпри сроке 26\\nнед, в\\nдекабре 38\\nградусов  6-7\\nдней\\n4) КОВИД\\nпри сроке 38\\nнед - темп 38\\n3 дня ,\\nмышечные\\nболи -\\nначались               1\n",
       "полное\\nпредлежание\\nплаценты,\\nврастание\\nплаценты в\\nрубец                                                                                                                                                                                   1\n",
       "пессарий в\\n32 нед                                                                                                                                                                                                                             1\n",
       "не было                                                                                                                                                                                                                                        1\n",
       "пессарий в\\n20 нед,\\nотслойка\\nплаценты -\\nЭКС                                                                                                                                                                                                 1\n",
       "клексан 0.4\\nмл всю\\nбеременност\\nь\\nшов на\\nш/матки в 15\\nнед\\nпол антитела\\nк ковиду при\\n18-20 нед                                                                                                                                          1\n",
       "В 12 недель\\nна скрининге\\nТВП 1,6 мм\\nпо крови\\nнизкий риск\\nхромосомной\\nпатологии. В\\n19 недель по\\nУЗИ\\nвыявлена\\nдвухсторонн\\nяя\\nпиелоэктазия\\n. В 23\\nнедели меня\\nотправили на\\nУЗИ в\\nобл.бльницу.\\nТам\\nпиелоэктазия\\nподтвердила    1\n",
       "гестационны\\nй сах диабет\\nс 22 нед,\\nинсулинотер\\nапия с 30\\nнед,\\nдиабетическ\\nая фетопатия\\nплода,\\nмноговодие,\\nанемия\\nбеременных                                                                                                         1\n",
       "5-6 нед - на\\nсохранении,\\nв 30 нед -\\nИЦН -\\nпреждеврем\\nенные роды                                                                                                                                                                           1\n",
       "нет                                                                                                                                                                                                                                            1\n",
       "полное\\nпредлежание\\nплаценты,\\n100%\\nврастание\\nплаценты,\\nдиагностиров\\nано при\\nбеременност\\nи                                                                                                                                              1\n",
       "Name: complications_during_pregnancy, dtype: int64"
      ]
     },
     "execution_count": 478,
     "metadata": {},
     "output_type": "execute_result"
    }
   ],
   "source": [
    "data.complications_during_pregnancy.value_counts()"
   ]
  },
  {
   "cell_type": "code",
   "execution_count": 476,
   "id": "8cb58c1b",
   "metadata": {},
   "outputs": [
    {
     "data": {
      "text/plain": [
       "1-2    1\n",
       "Name: concen_of_round_cells, dtype: int64"
      ]
     },
     "execution_count": 476,
     "metadata": {},
     "output_type": "execute_result"
    }
   ],
   "source": [
    "data.concen_of_round_cells.value_counts()"
   ]
  },
  {
   "cell_type": "code",
   "execution_count": 477,
   "id": "948ddcf5",
   "metadata": {},
   "outputs": [
    {
     "data": {
      "text/plain": [
       "<5%    6\n",
       "2%     2\n",
       "7%     1\n",
       "Name: МАР_lgG, dtype: int64"
      ]
     },
     "execution_count": 477,
     "metadata": {},
     "output_type": "execute_result"
    }
   ],
   "source": [
    "data.МАР_lgG.value_counts()"
   ]
  },
  {
   "cell_type": "code",
   "execution_count": 479,
   "id": "d82e8ebe",
   "metadata": {},
   "outputs": [],
   "source": [
    "data = data.drop(columns = ['norm_sperm_%','outcome_pregnancy','concen_of_round_cells'])"
   ]
  },
  {
   "cell_type": "code",
   "execution_count": 480,
   "id": "f1e7ed82",
   "metadata": {},
   "outputs": [
    {
     "data": {
      "text/plain": [
       "Беременность не наступила            1272\n",
       "Беременность клиническая             1118\n",
       "Биохимическая беременность             37\n",
       "Нет данных                              7\n",
       "CryoET по ОМС                           2\n",
       "Снята с цикла                           1\n",
       "Перенос эмбрионов не производился       1\n",
       "Name: outcome_treatment, dtype: int64"
      ]
     },
     "execution_count": 480,
     "metadata": {},
     "output_type": "execute_result"
    }
   ],
   "source": [
    " data.outcome_treatment.value_counts()"
   ]
  },
  {
   "cell_type": "code",
   "execution_count": 481,
   "id": "3fabecee",
   "metadata": {},
   "outputs": [
    {
     "name": "stdout",
     "output_type": "stream",
     "text": [
      "<class 'pandas.core.frame.DataFrame'>\n",
      "RangeIndex: 2446 entries, 0 to 2445\n",
      "Data columns (total 96 columns):\n",
      " #   Column                                     Non-Null Count  Dtype  \n",
      "---  ------                                     --------------  -----  \n",
      " 0   Unnamed: 0                                 2446 non-null   int64  \n",
      " 1   id                                         2446 non-null   int64  \n",
      " 2   age                                        2446 non-null   int64  \n",
      " 3   w_diagnosis_mkb                            2323 non-null   object \n",
      " 4   duration_of_infertility                    1823 non-null   float64\n",
      " 5   egg_collection_day_time                    2402 non-null   object \n",
      " 6   date_of_embryo_transfer                    2446 non-null   int64  \n",
      " 7   number_of_eco-tries                        2385 non-null   float64\n",
      " 8   w_height                                   2446 non-null   int64  \n",
      " 9   w_weight                                   2437 non-null   float64\n",
      " 10  w_bmi                                      2446 non-null   float64\n",
      " 11  protocol                                   2264 non-null   object \n",
      " 12  gonadotropins                              2372 non-null   object \n",
      " 13  starting_dose                              2372 non-null   object \n",
      " 14  trigger                                    2282 non-null   object \n",
      " 15  duration_of_ovarian_stimulation            2270 non-null   float64\n",
      " 16  cycle_day_puncture                         2395 non-null   float64\n",
      " 17  cycle_day_transfer                         2377 non-null   float64\n",
      " 18  punctuated                                 2234 non-null   float64\n",
      " 19  flushed                                    887 non-null    float64\n",
      " 20  num_oocytes                                2401 non-null   float64\n",
      " 21  mature_oocytes                             2446 non-null   int64  \n",
      " 22  endometrial_thickness_mm                   2281 non-null   float64\n",
      " 23  embryologist                               2432 non-null   object \n",
      " 24  num_of_cultivation_hours                   2446 non-null   int64  \n",
      " 25  embryo_biopsy                              2446 non-null   int64  \n",
      " 26  method_embryo_biopsy                       405 non-null    object \n",
      " 27  ECO                                        2446 non-null   int64  \n",
      " 28  sperm_injection                            2446 non-null   int64  \n",
      " 29  own_frozen_oocytes                         2446 non-null   int64  \n",
      " 30  crio_donor_oocytes                         2446 non-null   int64  \n",
      " 31  fresh_donor_oocytes                        2446 non-null   int64  \n",
      " 32  donor_sperm                                2446 non-null   int64  \n",
      " 33  donor_embryos_after_testing                2446 non-null   int64  \n",
      " 34  donor_embryos_without_testing              2446 non-null   int64  \n",
      " 35  crio_sperm                                 2446 non-null   int64  \n",
      " 36  fresh_sperm                                2446 non-null   int64  \n",
      " 37  crio_sperm_obtained_surgery                6 non-null      object \n",
      " 38  fresh_sperm_obtained_surgery               44 non-null     object \n",
      " 39  thawed_embryos                             2446 non-null   int64  \n",
      " 40  num_embryos_transferred                    2446 non-null   int64  \n",
      " 41  ejaculate_volume_ml                        2217 non-null   object \n",
      " 42  concen_sperm_cells                         2220 non-null   object \n",
      " 43  mobility_of_sperm_%                        2198 non-null   object \n",
      " 44  anomal_sperm_%                             2131 non-null   float64\n",
      " 45  normal_sperm_by_embryologist               2446 non-null   int64  \n",
      " 46  normal_sperm_by_biologists                 977 non-null    float64\n",
      " 47  gr1                                        2446 non-null   int64  \n",
      " 48  gr1_2                                      2446 non-null   int64  \n",
      " 49  gr2                                        2446 non-null   int64  \n",
      " 50  gr2_3                                      2446 non-null   int64  \n",
      " 51  gr3                                        2446 non-null   int64  \n",
      " 52  num_crio_embrions                          2446 non-null   int64  \n",
      " 53  refreezing_embrions                        2446 non-null   int64  \n",
      " 54  embryo_number                              2446 non-null   int64  \n",
      " 55  surrogate_mother                           2446 non-null   int64  \n",
      " 56  outcome_treatment                          2438 non-null   object \n",
      " 57  num_of_fetuses                             1096 non-null   float64\n",
      " 58  m_age                                      2332 non-null   float64\n",
      " 59  МАР_lgG                                    9 non-null      object \n",
      " 60  m_height                                   524 non-null    float64\n",
      " 61  m_weight                                   519 non-null    float64\n",
      " 62  m_alcho                                    2446 non-null   int64  \n",
      " 63  m_varicocele                               2446 non-null   int64  \n",
      " 64  m_STDs                                     2446 non-null   int64  \n",
      " 65  m_cryptorchidism                           2446 non-null   int64  \n",
      " 66  m_prostatitis                              2446 non-null   int64  \n",
      " 67  health_insurance                           1542 non-null   object \n",
      " 68  MAP_test                                   827 non-null    object \n",
      " 69  m_id                                       2334 non-null   object \n",
      " 70  protocol_before_transfer                   2146 non-null   object \n",
      " 71  MEDECINS_ID                                2446 non-null   int64  \n",
      " 72  timeliness_of_delivery                     627 non-null    object \n",
      " 73  fetal_sex                                  626 non-null    object \n",
      " 74  fetal_height                               553 non-null    float64\n",
      " 75  fetal_weight                               569 non-null    float64\n",
      " 76  localization_of_pregnancy                  230 non-null    object \n",
      " 77  due_date                                   623 non-null    object \n",
      " 78  age_surrogate_mother                       2446 non-null   int64  \n",
      " 79  complications_during_pregnancy             38 non-null     object \n",
      " 80  doctor_briege                              2446 non-null   int64  \n",
      " 81  doctor_vasilyeva                           2446 non-null   int64  \n",
      " 82  doctor_denisova                            2446 non-null   int64  \n",
      " 83  doctor_isacova                             2446 non-null   int64  \n",
      " 84  doctor_kirsanov                            2446 non-null   int64  \n",
      " 85  doctor_menshikova                          2446 non-null   int64  \n",
      " 86  doctor_radionova                           2446 non-null   int64  \n",
      " 87  doctor_savina                              2446 non-null   int64  \n",
      " 88  doctor_samoilovich                         2446 non-null   int64  \n",
      " 89  stimulation_client                         2446 non-null   int64  \n",
      " 90  stimulation_natural_cycle                  2446 non-null   int64  \n",
      " 91  stimulation_hormone_replacement_therapy    2446 non-null   int64  \n",
      " 92  stimulation_with_ovulation_induction       2446 non-null   int64  \n",
      " 93  procedure_name_transfer_defrosted_embryos  2446 non-null   int64  \n",
      " 94  procedure_name_eco/icsi                    2446 non-null   int64  \n",
      " 95  w_diagnosis                                2323 non-null   object \n",
      "dtypes: float64(19), int64(52), object(25)\n",
      "memory usage: 1.8+ MB\n"
     ]
    }
   ],
   "source": [
    "data.info()"
   ]
  },
  {
   "cell_type": "code",
   "execution_count": 482,
   "id": "106ca93b",
   "metadata": {},
   "outputs": [
    {
     "data": {
      "text/plain": [
       "Бесплодие II (N97.1 женское бесплодие\\nтрубно-перитонеальное). Хронический\\nсальпингоофорит (N70.1),     26\n",
       "Бесплодие I. Мужской фактор.N97.4                                                                        12\n",
       "Бесплодие II. Хронический\\nсальпингоофорит. N70.1.Приобретенное\\nотсутствие органа (2-сторонняя тубэк    10\n",
       "Бесплодие I (N97.1 женское бесплодие\\nтрубно-перитонеальное). Хронический\\nсальпингоофорит (N70.1), р    10\n",
       "Бесплодие II трубное.                                                                                     9\n",
       "                                                                                                         ..\n",
       "Бесплодие I сочетанное (N97.8 женское\\nбесплодие, обусловленное наружным\\nгенитальным эндометриозом +     1\n",
       "Бесплодие I (N97.1 женское\\nтрубгно-перитонеальное). Хронический\\nсальпингоофорит (N70.1), ремиссия.      1\n",
       "Бесплодие II. Хронический\\nсальпингоофорит. N70.1.Миома матки.\\nD25.Спаечный процесс в малом тазу. N9     1\n",
       "Бесплодие I, трубно-перитонеальное.\\nХронический сальпингоофорит с полной\\nокклюзией обеих маточных т     1\n",
       "Бесплодие II. Приобретенное отсутствие\\nоргана (двухсторонняя оварэктомия). Z90.\\nРак молочной железы     1\n",
       "Name: w_diagnosis_mkb, Length: 1392, dtype: int64"
      ]
     },
     "execution_count": 482,
     "metadata": {},
     "output_type": "execute_result"
    }
   ],
   "source": [
    "data.w_diagnosis_mkb.value_counts()"
   ]
  },
  {
   "cell_type": "code",
   "execution_count": 495,
   "id": "3ec11515",
   "metadata": {},
   "outputs": [],
   "source": [
    "list_of_index_II = data.w_diagnosis_mkb[data.w_diagnosis_mkb.str.count(r'(Бесплодие II)')==1].index"
   ]
  },
  {
   "cell_type": "code",
   "execution_count": 488,
   "id": "a53ec73b",
   "metadata": {},
   "outputs": [],
   "source": [
    "list_of_index_I = data.w_diagnosis_mkb[data.w_diagnosis_mkb.str.count(r'(Бесплодие I\\W)')==1].index"
   ]
  },
  {
   "cell_type": "code",
   "execution_count": 491,
   "id": "d3d2ceb7",
   "metadata": {},
   "outputs": [],
   "source": [
    "data['type_of_infertility'] = 0"
   ]
  },
  {
   "cell_type": "code",
   "execution_count": 493,
   "id": "4b502625",
   "metadata": {},
   "outputs": [
    {
     "name": "stderr",
     "output_type": "stream",
     "text": [
      "/tmp/ipykernel_5638/374932832.py:1: SettingWithCopyWarning: \n",
      "A value is trying to be set on a copy of a slice from a DataFrame\n",
      "\n",
      "See the caveats in the documentation: https://pandas.pydata.org/pandas-docs/stable/user_guide/indexing.html#returning-a-view-versus-a-copy\n",
      "  data['type_of_infertility'].iloc[list_of_index_I] = 1\n"
     ]
    }
   ],
   "source": [
    "data['type_of_infertility'].iloc[list_of_index_I] = 1"
   ]
  },
  {
   "cell_type": "code",
   "execution_count": 494,
   "id": "7efd464d",
   "metadata": {},
   "outputs": [
    {
     "data": {
      "text/plain": [
       "1       1\n",
       "2       1\n",
       "6       1\n",
       "7       1\n",
       "8       1\n",
       "       ..\n",
       "2440    1\n",
       "2441    1\n",
       "2442    1\n",
       "2443    1\n",
       "2444    1\n",
       "Name: type_of_infertility, Length: 1066, dtype: int64"
      ]
     },
     "execution_count": 494,
     "metadata": {},
     "output_type": "execute_result"
    }
   ],
   "source": [
    "data['type_of_infertility'].iloc[list_of_index_I]"
   ]
  },
  {
   "cell_type": "code",
   "execution_count": 496,
   "id": "d0a29034",
   "metadata": {},
   "outputs": [
    {
     "name": "stderr",
     "output_type": "stream",
     "text": [
      "/tmp/ipykernel_5638/3656330123.py:1: SettingWithCopyWarning: \n",
      "A value is trying to be set on a copy of a slice from a DataFrame\n",
      "\n",
      "See the caveats in the documentation: https://pandas.pydata.org/pandas-docs/stable/user_guide/indexing.html#returning-a-view-versus-a-copy\n",
      "  data['type_of_infertility'].iloc[list_of_index_II] = 2\n"
     ]
    }
   ],
   "source": [
    "data['type_of_infertility'].iloc[list_of_index_II] = 2"
   ]
  },
  {
   "cell_type": "code",
   "execution_count": 497,
   "id": "c91af091",
   "metadata": {},
   "outputs": [
    {
     "data": {
      "text/plain": [
       "2    1182\n",
       "1    1066\n",
       "0     198\n",
       "Name: type_of_infertility, dtype: int64"
      ]
     },
     "execution_count": 497,
     "metadata": {},
     "output_type": "execute_result"
    }
   ],
   "source": [
    "data['type_of_infertility'].value_counts()"
   ]
  },
  {
   "cell_type": "code",
   "execution_count": 508,
   "id": "e69a5e5a",
   "metadata": {},
   "outputs": [
    {
     "data": {
      "text/plain": [
       "0        True\n",
       "9       False\n",
       "145      True\n",
       "150      True\n",
       "320     False\n",
       "        ...  \n",
       "2414    False\n",
       "2415     True\n",
       "2416     True\n",
       "2429     True\n",
       "2430     True\n",
       "Name: w_diagnosis_mkb, Length: 198, dtype: bool"
      ]
     },
     "execution_count": 508,
     "metadata": {},
     "output_type": "execute_result"
    }
   ],
   "source": [
    "data.w_diagnosis_mkb[data.type_of_infertility == 0].isnull()"
   ]
  },
  {
   "cell_type": "code",
   "execution_count": 509,
   "id": "b46bbc55",
   "metadata": {},
   "outputs": [
    {
     "data": {
      "text/plain": [
       "16"
      ]
     },
     "execution_count": 509,
     "metadata": {},
     "output_type": "execute_result"
    }
   ],
   "source": [
    "len(data.w_diagnosis_mkb[data.w_diagnosis_mkb.str.count(r'(Бесплодие вторичное)')==1].index)"
   ]
  },
  {
   "cell_type": "code",
   "execution_count": 518,
   "id": "edf83a86",
   "metadata": {},
   "outputs": [
    {
     "name": "stderr",
     "output_type": "stream",
     "text": [
      "/tmp/ipykernel_5638/2923356166.py:1: SettingWithCopyWarning: \n",
      "A value is trying to be set on a copy of a slice from a DataFrame\n",
      "\n",
      "See the caveats in the documentation: https://pandas.pydata.org/pandas-docs/stable/user_guide/indexing.html#returning-a-view-versus-a-copy\n",
      "  data['type_of_infertility'].iloc[data.w_diagnosis_mkb[data.w_diagnosis_mkb.str.count(r'(Бесплодие вторичное)')==1].index] = 2\n"
     ]
    }
   ],
   "source": [
    "data['type_of_infertility'].iloc[data.w_diagnosis_mkb[data.w_diagnosis_mkb.str.count(r'(Бесплодие вторичное)')==1].index] = 2"
   ]
  },
  {
   "cell_type": "code",
   "execution_count": 510,
   "id": "027f8a3b",
   "metadata": {},
   "outputs": [
    {
     "data": {
      "text/plain": [
       "2"
      ]
     },
     "execution_count": 510,
     "metadata": {},
     "output_type": "execute_result"
    }
   ],
   "source": [
    "len(data.w_diagnosis_mkb[data.w_diagnosis_mkb.str.count(r'(Вторичное бесплодие)')==1].index)"
   ]
  },
  {
   "cell_type": "code",
   "execution_count": 519,
   "id": "81c866c6",
   "metadata": {},
   "outputs": [
    {
     "name": "stderr",
     "output_type": "stream",
     "text": [
      "/tmp/ipykernel_5638/2475204317.py:1: SettingWithCopyWarning: \n",
      "A value is trying to be set on a copy of a slice from a DataFrame\n",
      "\n",
      "See the caveats in the documentation: https://pandas.pydata.org/pandas-docs/stable/user_guide/indexing.html#returning-a-view-versus-a-copy\n",
      "  data['type_of_infertility'].iloc[data.w_diagnosis_mkb[data.w_diagnosis_mkb.str.count(r'(Вторичное бесплодие)')==1].index] = 2\n"
     ]
    }
   ],
   "source": [
    "data['type_of_infertility'].iloc[data.w_diagnosis_mkb[data.w_diagnosis_mkb.str.count(r'(Вторичное бесплодие)')==1].index] = 2"
   ]
  },
  {
   "cell_type": "code",
   "execution_count": 511,
   "id": "c92b2b4f",
   "metadata": {},
   "outputs": [
    {
     "data": {
      "text/plain": [
       "11"
      ]
     },
     "execution_count": 511,
     "metadata": {},
     "output_type": "execute_result"
    }
   ],
   "source": [
    "len(data.w_diagnosis_mkb[data.w_diagnosis_mkb.str.count(r'(Бесплодие 2)')==1].index)"
   ]
  },
  {
   "cell_type": "code",
   "execution_count": 520,
   "id": "72f87531",
   "metadata": {},
   "outputs": [
    {
     "name": "stderr",
     "output_type": "stream",
     "text": [
      "/tmp/ipykernel_5638/3652187685.py:1: SettingWithCopyWarning: \n",
      "A value is trying to be set on a copy of a slice from a DataFrame\n",
      "\n",
      "See the caveats in the documentation: https://pandas.pydata.org/pandas-docs/stable/user_guide/indexing.html#returning-a-view-versus-a-copy\n",
      "  data['type_of_infertility'].iloc[data.w_diagnosis_mkb[data.w_diagnosis_mkb.str.count(r'(Бесплодие 2)')==1].index] = 2\n"
     ]
    }
   ],
   "source": [
    "data['type_of_infertility'].iloc[data.w_diagnosis_mkb[data.w_diagnosis_mkb.str.count(r'(Бесплодие 2)')==1].index] = 2"
   ]
  },
  {
   "cell_type": "code",
   "execution_count": 512,
   "id": "d8181796",
   "metadata": {},
   "outputs": [
    {
     "data": {
      "text/plain": [
       "8"
      ]
     },
     "execution_count": 512,
     "metadata": {},
     "output_type": "execute_result"
    }
   ],
   "source": [
    "len(data.w_diagnosis_mkb[data.w_diagnosis_mkb.str.count(r'(Бесплодие 1)')==1].index)"
   ]
  },
  {
   "cell_type": "code",
   "execution_count": 521,
   "id": "536f90b7",
   "metadata": {},
   "outputs": [
    {
     "name": "stderr",
     "output_type": "stream",
     "text": [
      "/tmp/ipykernel_5638/1086863846.py:1: SettingWithCopyWarning: \n",
      "A value is trying to be set on a copy of a slice from a DataFrame\n",
      "\n",
      "See the caveats in the documentation: https://pandas.pydata.org/pandas-docs/stable/user_guide/indexing.html#returning-a-view-versus-a-copy\n",
      "  data['type_of_infertility'].iloc[data.w_diagnosis_mkb[data.w_diagnosis_mkb.str.count(r'(Бесплодие 1)')==1].index] = 1\n"
     ]
    }
   ],
   "source": [
    "data['type_of_infertility'].iloc[data.w_diagnosis_mkb[data.w_diagnosis_mkb.str.count(r'(Бесплодие 1)')==1].index] = 1"
   ]
  },
  {
   "cell_type": "code",
   "execution_count": 513,
   "id": "c01da92a",
   "metadata": {},
   "outputs": [
    {
     "data": {
      "text/plain": [
       "1"
      ]
     },
     "execution_count": 513,
     "metadata": {},
     "output_type": "execute_result"
    }
   ],
   "source": [
    "len(data.w_diagnosis_mkb[data.w_diagnosis_mkb.str.count(r'(Бесплодие1)')==1].index)"
   ]
  },
  {
   "cell_type": "code",
   "execution_count": 522,
   "id": "c1d73644",
   "metadata": {},
   "outputs": [
    {
     "name": "stderr",
     "output_type": "stream",
     "text": [
      "/tmp/ipykernel_5638/75494109.py:1: SettingWithCopyWarning: \n",
      "A value is trying to be set on a copy of a slice from a DataFrame\n",
      "\n",
      "See the caveats in the documentation: https://pandas.pydata.org/pandas-docs/stable/user_guide/indexing.html#returning-a-view-versus-a-copy\n",
      "  data['type_of_infertility'].iloc[data.w_diagnosis_mkb[data.w_diagnosis_mkb.str.count(r'(Бесплодие1)')==1].index] = 1\n"
     ]
    }
   ],
   "source": [
    "data['type_of_infertility'].iloc[data.w_diagnosis_mkb[data.w_diagnosis_mkb.str.count(r'(Бесплодие1)')==1].index] = 1"
   ]
  },
  {
   "cell_type": "code",
   "execution_count": 506,
   "id": "da0ff32c",
   "metadata": {},
   "outputs": [
    {
     "data": {
      "text/plain": [
       "Int64Index([], dtype='int64')"
      ]
     },
     "execution_count": 506,
     "metadata": {},
     "output_type": "execute_result"
    }
   ],
   "source": [
    "data.w_diagnosis_mkb[data.w_diagnosis_mkb.str.count(r'(Бесплодие2)')==1].index"
   ]
  },
  {
   "cell_type": "code",
   "execution_count": 515,
   "id": "e79a89b0",
   "metadata": {},
   "outputs": [
    {
     "data": {
      "text/plain": [
       "37"
      ]
     },
     "execution_count": 515,
     "metadata": {},
     "output_type": "execute_result"
    }
   ],
   "source": [
    "198 - 16 -2 - 11 -8 -1 - (2446-2323)"
   ]
  },
  {
   "cell_type": "code",
   "execution_count": 525,
   "id": "7cae5289",
   "metadata": {},
   "outputs": [
    {
     "data": {
      "text/plain": [
       "502     Снижение овариального резерва.\\nГипер/нормогон...\n",
       "610     Бесплодие первичное\\nБесплодие первичное\\nНГЭ ...\n",
       "623                        Плнирование беременности с ДС.\n",
       "624                        Плнирование беременности с ДС.\n",
       "738     Планирование беременности с ДС.\\nПоздний репро...\n",
       "872     Женское бесплодие, связанное с\\nмужскими факто...\n",
       "984     Бесплодие первичное. Поздний\\nрепродуктивный в...\n",
       "1039    Планирование беременности.Миома матки.\\nD25.ОГ...\n",
       "1040    Планирование беременности.Миома матки.\\nD25.ОГ...\n",
       "1158    НГЭ 4 ст в анамнезе, хр. сальпингоофорит.\\nСпа...\n",
       "1252    Женское бесплодие, связанное с\\nмужскими факто...\n",
       "1254    Женское бесплодие II сочетанное (N97.1\\nтрубно...\n",
       "1262    Первичное бесплодие. Аднексэктомия\\nсправа (20...\n",
       "1558    Женское бесплодие (вторичное) трубного\\nпорисх...\n",
       "1579    Женское бесплодие I, связанное с\\nмужским факт...\n",
       "1612    Женское бесплодие (первичное) трубного\\nпроисх...\n",
       "1627    Привычное невынашивание беременности.\\nN96. Пр...\n",
       "1677    Привычное невынашивание беременности.\\nN96Аден...\n",
       "1723    бесплодие II сочетанное (N97.1 женское\\nбеспло...\n",
       "1744    Привычное невынашивание беременности.\\nN96 Хро...\n",
       "1805    Бесплодие. Хронический сальпингоофорит.\\nN70.1...\n",
       "1810    Привычное невынашивание беременности.\\nN96 Аде...\n",
       "1912    Бесплодие первичное, обусловленное\\nмужским фа...\n",
       "1922    Планирование беременности. Неполное\\nудвоение ...\n",
       "1977    Привычное невынашивание беременности.\\nN96 .Му...\n",
       "2042    Привычное невынашивание беременности.\\nПоздний...\n",
       "2043    Привычное невынашивание беременности.\\nПоздний...\n",
       "2112    Бесплодие первичное, трубное.\\nДвусторонняя ту...\n",
       "2113    Бесплодие первичное, трубное.\\nДвусторонняя ту...\n",
       "2212    Бесплодие  (комбинированное). Мужской\\nфактор....\n",
       "2213    Бесплодие  (комбинированное). Мужской\\nфактор....\n",
       "2273    Cостояние после ОС. Бесплодие\\nI.Первичная оли...\n",
       "2291    Поздний репродуктивный возраст. Миома\\nматки. ...\n",
       "2307    Планирование беременности методом\\nЭКО+ПГТа. Н...\n",
       "2341                Привычное невынашивание беременности.\n",
       "2342                Привычное невынашивание беременности.\n",
       "2406     Планирование беременности с помощью\\nЭКО + ПГТ-А\n",
       "Name: w_diagnosis_mkb, dtype: object"
      ]
     },
     "execution_count": 525,
     "metadata": {},
     "output_type": "execute_result"
    }
   ],
   "source": [
    "data.w_diagnosis_mkb[(data.type_of_infertility == 0) & (data.w_diagnosis_mkb.notnull())]"
   ]
  },
  {
   "cell_type": "code",
   "execution_count": 526,
   "id": "95f7fb64",
   "metadata": {},
   "outputs": [
    {
     "name": "stderr",
     "output_type": "stream",
     "text": [
      "/tmp/ipykernel_5638/1586710951.py:1: SettingWithCopyWarning: \n",
      "A value is trying to be set on a copy of a slice from a DataFrame\n",
      "\n",
      "See the caveats in the documentation: https://pandas.pydata.org/pandas-docs/stable/user_guide/indexing.html#returning-a-view-versus-a-copy\n",
      "  data['type_of_infertility'].iloc[data.w_diagnosis_mkb[data.w_diagnosis_mkb.str.count(r'(Бесплодие первичное)')==1].index] = 1\n"
     ]
    }
   ],
   "source": [
    "data['type_of_infertility'].iloc[data.w_diagnosis_mkb[data.w_diagnosis_mkb.str.count(r'(Бесплодие первичное)')==1].index] = 1"
   ]
  },
  {
   "cell_type": "code",
   "execution_count": 528,
   "id": "b4faf10c",
   "metadata": {},
   "outputs": [
    {
     "name": "stderr",
     "output_type": "stream",
     "text": [
      "/tmp/ipykernel_5638/772143324.py:1: SettingWithCopyWarning: \n",
      "A value is trying to be set on a copy of a slice from a DataFrame\n",
      "\n",
      "See the caveats in the documentation: https://pandas.pydata.org/pandas-docs/stable/user_guide/indexing.html#returning-a-view-versus-a-copy\n",
      "  data['type_of_infertility'].iloc[data.w_diagnosis_mkb[data.w_diagnosis_mkb.str.count(r'(Женское бесплодие II)')==1].index] = 2\n"
     ]
    }
   ],
   "source": [
    "data['type_of_infertility'].iloc[data.w_diagnosis_mkb[data.w_diagnosis_mkb.str.count(r'(Женское бесплодие II)')==1].index] = 2"
   ]
  },
  {
   "cell_type": "code",
   "execution_count": 529,
   "id": "525e3fbe",
   "metadata": {},
   "outputs": [
    {
     "name": "stderr",
     "output_type": "stream",
     "text": [
      "/tmp/ipykernel_5638/2585645963.py:1: SettingWithCopyWarning: \n",
      "A value is trying to be set on a copy of a slice from a DataFrame\n",
      "\n",
      "See the caveats in the documentation: https://pandas.pydata.org/pandas-docs/stable/user_guide/indexing.html#returning-a-view-versus-a-copy\n",
      "  data['type_of_infertility'].iloc[data.w_diagnosis_mkb[data.w_diagnosis_mkb.str.count(r'(Женское бесплодие (вторичное))')==1].index] = 2\n"
     ]
    }
   ],
   "source": [
    "data['type_of_infertility'].iloc[data.w_diagnosis_mkb[data.w_diagnosis_mkb.str.count(r'(Женское бесплодие (вторичное))')==1].index] = 2"
   ]
  },
  {
   "cell_type": "markdown",
   "id": "f439fe2e",
   "metadata": {},
   "source": [
    "502     Снижение овариального резерва.\\nГипер/нормогон...\n",
    "610     Бесплодие первичное\\nБесплодие первичное\\nНГЭ ...\n",
    "623                        Плнирование беременности с ДС.\n",
    "624                        Плнирование беременности с ДС.\n",
    "738     Планирование беременности с ДС.\\nПоздний репро...\n",
    "872     Женское бесплодие, связанное с\\nмужскими факто...\n",
    "984     \n",
    "1039    Планирование беременности.Миома матки.\\nD25.ОГ...\n",
    "1040    Планирование беременности.Миома матки.\\nD25.ОГ...\n",
    "1158    НГЭ 4 ст в анамнезе, хр. сальпингоофорит.\\nСпа...\n",
    "1252    Женское бесплодие, связанное с\\nмужскими факто...\n",
    "1254    \n",
    "1262    Первичное бесплодие. Аднексэктомия\\nсправа (20...\n",
    "1558    \n",
    "1579    \n",
    "1612    \n",
    "1627    Привычное невынашивание беременности.\\nN96. Пр...\n",
    "1677    Привычное невынашивание беременности.\\nN96Аден...\n",
    "1723    \n",
    "1744    Привычное невынашивание беременности.\\nN96 Хро...\n",
    "1805    Бесплодие. Хронический сальпингоофорит.\\nN70.1...\n",
    "1810    Привычное невынашивание беременности.\\nN96 Аде...\n",
    "1912    Бесплодие первичное, обусловленное\\nмужским фа...\n",
    "1922    Планирование беременности. Неполное\\nудвоение ...\n",
    "1977    Привычное невынашивание беременности.\\nN96 .Му...\n",
    "2042    Привычное невынашивание беременности.\\nПоздний...\n",
    "2043    Привычное невынашивание беременности.\\nПоздний...\n",
    "2112    Бесплодие первичное, трубное.\\nДвусторонняя ту...\n",
    "2113    Бесплодие первичное, трубное.\\nДвусторонняя ту...\n",
    "2212    Бесплодие  (комбинированное). Мужской\\nфактор....\n",
    "2213    Бесплодие  (комбинированное). Мужской\\nфактор....\n",
    "2273    Cостояние после ОС. Бесплодие\\nI.Первичная оли...\n",
    "2291    Поздний репродуктивный возраст. Миома\\nматки. ...\n",
    "2307    Планирование беременности методом\\nЭКО+ПГТа. Н...\n",
    "2341                Привычное невынашивание беременности.\n",
    "2342                Привычное невынашивание беременности.\n",
    "2406     Планирование беременности с помощью\\nЭКО + ПГТ-А"
   ]
  },
  {
   "cell_type": "code",
   "execution_count": 530,
   "id": "d5870a56",
   "metadata": {},
   "outputs": [
    {
     "name": "stderr",
     "output_type": "stream",
     "text": [
      "/tmp/ipykernel_5638/1115135137.py:1: SettingWithCopyWarning: \n",
      "A value is trying to be set on a copy of a slice from a DataFrame\n",
      "\n",
      "See the caveats in the documentation: https://pandas.pydata.org/pandas-docs/stable/user_guide/indexing.html#returning-a-view-versus-a-copy\n",
      "  data['type_of_infertility'].iloc[data.w_diagnosis_mkb[data.w_diagnosis_mkb.str.count(r'(Женское бесплодие I)')==1].index] = 1\n",
      "/tmp/ipykernel_5638/1115135137.py:2: SettingWithCopyWarning: \n",
      "A value is trying to be set on a copy of a slice from a DataFrame\n",
      "\n",
      "See the caveats in the documentation: https://pandas.pydata.org/pandas-docs/stable/user_guide/indexing.html#returning-a-view-versus-a-copy\n",
      "  data['type_of_infertility'].iloc[data.w_diagnosis_mkb[data.w_diagnosis_mkb.str.count(r'(Женское бесплодие (первичное))')==1].index] = 1\n",
      "/tmp/ipykernel_5638/1115135137.py:3: SettingWithCopyWarning: \n",
      "A value is trying to be set on a copy of a slice from a DataFrame\n",
      "\n",
      "See the caveats in the documentation: https://pandas.pydata.org/pandas-docs/stable/user_guide/indexing.html#returning-a-view-versus-a-copy\n",
      "  data['type_of_infertility'].iloc[data.w_diagnosis_mkb[data.w_diagnosis_mkb.str.count(r'(бесплодие II)')==1].index] = 2\n",
      "/tmp/ipykernel_5638/1115135137.py:4: SettingWithCopyWarning: \n",
      "A value is trying to be set on a copy of a slice from a DataFrame\n",
      "\n",
      "See the caveats in the documentation: https://pandas.pydata.org/pandas-docs/stable/user_guide/indexing.html#returning-a-view-versus-a-copy\n",
      "  data['type_of_infertility'].iloc[data.w_diagnosis_mkb[data.w_diagnosis_mkb.str.count(r'(Бесплодие первичное)')==1].index] = 1\n"
     ]
    }
   ],
   "source": [
    "data['type_of_infertility'].iloc[data.w_diagnosis_mkb[data.w_diagnosis_mkb.str.count(r'(Женское бесплодие I)')==1].index] = 1\n",
    "data['type_of_infertility'].iloc[data.w_diagnosis_mkb[data.w_diagnosis_mkb.str.count(r'(Женское бесплодие (первичное))')==1].index] = 1\n",
    "data['type_of_infertility'].iloc[data.w_diagnosis_mkb[data.w_diagnosis_mkb.str.count(r'(бесплодие II)')==1].index] = 2\n",
    "data['type_of_infertility'].iloc[data.w_diagnosis_mkb[data.w_diagnosis_mkb.str.count(r'(Бесплодие первичное)')==1].index] = 1\n"
   ]
  },
  {
   "cell_type": "code",
   "execution_count": 531,
   "id": "00c287e7",
   "metadata": {},
   "outputs": [
    {
     "data": {
      "text/plain": [
       "502     Снижение овариального резерва.\\nГипер/нормогон...\n",
       "610     Бесплодие первичное\\nБесплодие первичное\\nНГЭ ...\n",
       "623                        Плнирование беременности с ДС.\n",
       "624                        Плнирование беременности с ДС.\n",
       "738     Планирование беременности с ДС.\\nПоздний репро...\n",
       "872     Женское бесплодие, связанное с\\nмужскими факто...\n",
       "1039    Планирование беременности.Миома матки.\\nD25.ОГ...\n",
       "1040    Планирование беременности.Миома матки.\\nD25.ОГ...\n",
       "1158    НГЭ 4 ст в анамнезе, хр. сальпингоофорит.\\nСпа...\n",
       "1252    Женское бесплодие, связанное с\\nмужскими факто...\n",
       "1262    Первичное бесплодие. Аднексэктомия\\nсправа (20...\n",
       "1558    Женское бесплодие (вторичное) трубного\\nпорисх...\n",
       "1612    Женское бесплодие (первичное) трубного\\nпроисх...\n",
       "1627    Привычное невынашивание беременности.\\nN96. Пр...\n",
       "1677    Привычное невынашивание беременности.\\nN96Аден...\n",
       "1744    Привычное невынашивание беременности.\\nN96 Хро...\n",
       "1805    Бесплодие. Хронический сальпингоофорит.\\nN70.1...\n",
       "1810    Привычное невынашивание беременности.\\nN96 Аде...\n",
       "1922    Планирование беременности. Неполное\\nудвоение ...\n",
       "1977    Привычное невынашивание беременности.\\nN96 .Му...\n",
       "2042    Привычное невынашивание беременности.\\nПоздний...\n",
       "2043    Привычное невынашивание беременности.\\nПоздний...\n",
       "2212    Бесплодие  (комбинированное). Мужской\\nфактор....\n",
       "2213    Бесплодие  (комбинированное). Мужской\\nфактор....\n",
       "2273    Cостояние после ОС. Бесплодие\\nI.Первичная оли...\n",
       "2291    Поздний репродуктивный возраст. Миома\\nматки. ...\n",
       "2307    Планирование беременности методом\\nЭКО+ПГТа. Н...\n",
       "2341                Привычное невынашивание беременности.\n",
       "2342                Привычное невынашивание беременности.\n",
       "2406     Планирование беременности с помощью\\nЭКО + ПГТ-А\n",
       "Name: w_diagnosis_mkb, dtype: object"
      ]
     },
     "execution_count": 531,
     "metadata": {},
     "output_type": "execute_result"
    }
   ],
   "source": [
    "data.w_diagnosis_mkb[(data.type_of_infertility == 0) & (data.w_diagnosis_mkb.notnull())]"
   ]
  },
  {
   "cell_type": "code",
   "execution_count": 532,
   "id": "9dd7c291",
   "metadata": {},
   "outputs": [
    {
     "name": "stderr",
     "output_type": "stream",
     "text": [
      "/tmp/ipykernel_5638/2347066866.py:1: SettingWithCopyWarning: \n",
      "A value is trying to be set on a copy of a slice from a DataFrame\n",
      "\n",
      "See the caveats in the documentation: https://pandas.pydata.org/pandas-docs/stable/user_guide/indexing.html#returning-a-view-versus-a-copy\n",
      "  data['type_of_infertility'].iloc[data.w_diagnosis_mkb[data.w_diagnosis_mkb.str.count(r'(Бесплодие первичное\\n)')==1].index] = 1\n",
      "/tmp/ipykernel_5638/2347066866.py:2: SettingWithCopyWarning: \n",
      "A value is trying to be set on a copy of a slice from a DataFrame\n",
      "\n",
      "See the caveats in the documentation: https://pandas.pydata.org/pandas-docs/stable/user_guide/indexing.html#returning-a-view-versus-a-copy\n",
      "  data['type_of_infertility'].iloc[data.w_diagnosis_mkb[data.w_diagnosis_mkb.str.count(r'(Первичное бесплодие.)')==1].index] = 1\n",
      "/tmp/ipykernel_5638/2347066866.py:3: SettingWithCopyWarning: \n",
      "A value is trying to be set on a copy of a slice from a DataFrame\n",
      "\n",
      "See the caveats in the documentation: https://pandas.pydata.org/pandas-docs/stable/user_guide/indexing.html#returning-a-view-versus-a-copy\n",
      "  data['type_of_infertility'].iloc[data.w_diagnosis_mkb[data.w_diagnosis_mkb.str.count(r'(Женское бесплодие (вторичное))')==1].index] = 2\n",
      "/tmp/ipykernel_5638/2347066866.py:4: SettingWithCopyWarning: \n",
      "A value is trying to be set on a copy of a slice from a DataFrame\n",
      "\n",
      "See the caveats in the documentation: https://pandas.pydata.org/pandas-docs/stable/user_guide/indexing.html#returning-a-view-versus-a-copy\n",
      "  data['type_of_infertility'].iloc[data.w_diagnosis_mkb[data.w_diagnosis_mkb.str.count(r'(Женское бесплодие (первичное))')==1].index] = 1\n"
     ]
    }
   ],
   "source": [
    "data['type_of_infertility'].iloc[data.w_diagnosis_mkb[data.w_diagnosis_mkb.str.count(r'(Бесплодие первичное\\n)')==1].index] = 1\n",
    "data['type_of_infertility'].iloc[data.w_diagnosis_mkb[data.w_diagnosis_mkb.str.count(r'(Первичное бесплодие.)')==1].index] = 1\n",
    "data['type_of_infertility'].iloc[data.w_diagnosis_mkb[data.w_diagnosis_mkb.str.count(r'(Женское бесплодие (вторичное))')==1].index] = 2\n",
    "data['type_of_infertility'].iloc[data.w_diagnosis_mkb[data.w_diagnosis_mkb.str.count(r'(Женское бесплодие (первичное))')==1].index] = 1"
   ]
  },
  {
   "cell_type": "code",
   "execution_count": 533,
   "id": "f03d672e",
   "metadata": {},
   "outputs": [
    {
     "data": {
      "text/plain": [
       "502     Снижение овариального резерва.\\nГипер/нормогон...\n",
       "610     Бесплодие первичное\\nБесплодие первичное\\nНГЭ ...\n",
       "623                        Плнирование беременности с ДС.\n",
       "624                        Плнирование беременности с ДС.\n",
       "738     Планирование беременности с ДС.\\nПоздний репро...\n",
       "872     Женское бесплодие, связанное с\\nмужскими факто...\n",
       "1039    Планирование беременности.Миома матки.\\nD25.ОГ...\n",
       "1040    Планирование беременности.Миома матки.\\nD25.ОГ...\n",
       "1158    НГЭ 4 ст в анамнезе, хр. сальпингоофорит.\\nСпа...\n",
       "1252    Женское бесплодие, связанное с\\nмужскими факто...\n",
       "1558    Женское бесплодие (вторичное) трубного\\nпорисх...\n",
       "1612    Женское бесплодие (первичное) трубного\\nпроисх...\n",
       "1627    Привычное невынашивание беременности.\\nN96. Пр...\n",
       "1677    Привычное невынашивание беременности.\\nN96Аден...\n",
       "1744    Привычное невынашивание беременности.\\nN96 Хро...\n",
       "1805    Бесплодие. Хронический сальпингоофорит.\\nN70.1...\n",
       "1810    Привычное невынашивание беременности.\\nN96 Аде...\n",
       "1922    Планирование беременности. Неполное\\nудвоение ...\n",
       "1977    Привычное невынашивание беременности.\\nN96 .Му...\n",
       "2042    Привычное невынашивание беременности.\\nПоздний...\n",
       "2043    Привычное невынашивание беременности.\\nПоздний...\n",
       "2212    Бесплодие  (комбинированное). Мужской\\nфактор....\n",
       "2213    Бесплодие  (комбинированное). Мужской\\nфактор....\n",
       "2273    Cостояние после ОС. Бесплодие\\nI.Первичная оли...\n",
       "2291    Поздний репродуктивный возраст. Миома\\nматки. ...\n",
       "2307    Планирование беременности методом\\nЭКО+ПГТа. Н...\n",
       "2341                Привычное невынашивание беременности.\n",
       "2342                Привычное невынашивание беременности.\n",
       "2406     Планирование беременности с помощью\\nЭКО + ПГТ-А\n",
       "Name: w_diagnosis_mkb, dtype: object"
      ]
     },
     "execution_count": 533,
     "metadata": {},
     "output_type": "execute_result"
    }
   ],
   "source": [
    "data.w_diagnosis_mkb[(data.type_of_infertility == 0) & (data.w_diagnosis_mkb.notnull())]"
   ]
  },
  {
   "cell_type": "code",
   "execution_count": 535,
   "id": "b7c1af4f",
   "metadata": {},
   "outputs": [
    {
     "name": "stderr",
     "output_type": "stream",
     "text": [
      "/tmp/ipykernel_5638/760397541.py:1: SettingWithCopyWarning: \n",
      "A value is trying to be set on a copy of a slice from a DataFrame\n",
      "\n",
      "See the caveats in the documentation: https://pandas.pydata.org/pandas-docs/stable/user_guide/indexing.html#returning-a-view-versus-a-copy\n",
      "  data['type_of_infertility'].iloc[1558] = 2\n",
      "/tmp/ipykernel_5638/760397541.py:2: SettingWithCopyWarning: \n",
      "A value is trying to be set on a copy of a slice from a DataFrame\n",
      "\n",
      "See the caveats in the documentation: https://pandas.pydata.org/pandas-docs/stable/user_guide/indexing.html#returning-a-view-versus-a-copy\n",
      "  data['type_of_infertility'].iloc[1612] = 1\n"
     ]
    }
   ],
   "source": [
    "data['type_of_infertility'].iloc[1558] = 2\n",
    "data['type_of_infertility'].iloc[1612] = 1"
   ]
  },
  {
   "cell_type": "code",
   "execution_count": 536,
   "id": "4a82861b",
   "metadata": {},
   "outputs": [
    {
     "data": {
      "text/plain": [
       "<AxesSubplot:>"
      ]
     },
     "execution_count": 536,
     "metadata": {},
     "output_type": "execute_result"
    },
    {
     "data": {
      "image/png": "[encoded data removed]",
      "text/plain": [
       "<Figure size 432x288 with 1 Axes>"
      ]
     },
     "metadata": {
      "needs_background": "light"
     },
     "output_type": "display_data"
    }
   ],
   "source": [
    "data['type_of_infertility'].hist()"
   ]
  },
  {
   "cell_type": "code",
   "execution_count": null,
   "id": "45aa9b20",
   "metadata": {},
   "outputs": [],
   "source": []
  },
  {
   "cell_type": "code",
   "execution_count": 537,
   "id": "a1b43a25",
   "metadata": {},
   "outputs": [],
   "source": [
    "s = 'Планирование беременности.Миома матки.\\nD25.ОГ'"
   ]
  },
  {
   "cell_type": "code",
   "execution_count": 539,
   "id": "c702b125",
   "metadata": {},
   "outputs": [
    {
     "data": {
      "text/plain": [
       "'планирование беременности.миома матки.\\nd25.ог'"
      ]
     },
     "execution_count": 539,
     "metadata": {},
     "output_type": "execute_result"
    }
   ],
   "source": [
    "s.lower()"
   ]
  },
  {
   "cell_type": "code",
   "execution_count": 541,
   "id": "4453d179",
   "metadata": {},
   "outputs": [
    {
     "data": {
      "text/plain": [
       "1       Бесплодие I.Первичная олигоменоррея.\\nN91.3.СП...\n",
       "2       Бесплодие I.Первичная олигоменоррея.\\nN91.3.СП...\n",
       "3       Бесплодие II. Хронический\\nсальпингоофорит. N7...\n",
       "4       Бесплодие II.Фолликулярная киста правого\\nяичн...\n",
       "5       Бесплодие II.Фолликулярная киста правого\\nяичн...\n",
       "                              ...                        \n",
       "2441    Бесплодие I.Хронический\\nсальпингоофорит. N70....\n",
       "2442    Бесплодие I.Хронический\\nсальпингоофорит. N70....\n",
       "2443    Бесплодие I.Хронический\\nсальпингоофорит. N70....\n",
       "2444    Бесплодие I.Хронический\\nсальпингоофорит. N70....\n",
       "2445    Бесплодие II. Приобретенное отсутствие\\nоргана...\n",
       "Name: w_diagnosis_mkb, Length: 2323, dtype: object"
      ]
     },
     "execution_count": 541,
     "metadata": {},
     "output_type": "execute_result"
    }
   ],
   "source": [
    "data.w_diagnosis_mkb[data.w_diagnosis_mkb.notnull()]"
   ]
  },
  {
   "cell_type": "code",
   "execution_count": 542,
   "id": "da2d4d79",
   "metadata": {},
   "outputs": [
    {
     "name": "stderr",
     "output_type": "stream",
     "text": [
      "/tmp/ipykernel_5638/3752462369.py:1: SettingWithCopyWarning: \n",
      "A value is trying to be set on a copy of a slice from a DataFrame\n",
      "\n",
      "See the caveats in the documentation: https://pandas.pydata.org/pandas-docs/stable/user_guide/indexing.html#returning-a-view-versus-a-copy\n",
      "  data.w_diagnosis_mkb[data.w_diagnosis_mkb.notnull()]= data.w_diagnosis_mkb[data.w_diagnosis_mkb.notnull()].apply(lambda x: x.lower())\n"
     ]
    }
   ],
   "source": [
    "data.w_diagnosis_mkb[data.w_diagnosis_mkb.notnull()]= data.w_diagnosis_mkb[data.w_diagnosis_mkb.notnull()].apply(lambda x: x.lower())"
   ]
  },
  {
   "cell_type": "code",
   "execution_count": 543,
   "id": "01c6b7b5",
   "metadata": {},
   "outputs": [
    {
     "data": {
      "text/plain": [
       "1       бесплодие i.первичная олигоменоррея.\\nn91.3.сп...\n",
       "2       бесплодие i.первичная олигоменоррея.\\nn91.3.сп...\n",
       "3       бесплодие ii. хронический\\nсальпингоофорит. n7...\n",
       "4       бесплодие ii.фолликулярная киста правого\\nяичн...\n",
       "5       бесплодие ii.фолликулярная киста правого\\nяичн...\n",
       "                              ...                        \n",
       "2441    бесплодие i.хронический\\nсальпингоофорит. n70....\n",
       "2442    бесплодие i.хронический\\nсальпингоофорит. n70....\n",
       "2443    бесплодие i.хронический\\nсальпингоофорит. n70....\n",
       "2444    бесплодие i.хронический\\nсальпингоофорит. n70....\n",
       "2445    бесплодие ii. приобретенное отсутствие\\nоргана...\n",
       "Name: w_diagnosis_mkb, Length: 2323, dtype: object"
      ]
     },
     "execution_count": 543,
     "metadata": {},
     "output_type": "execute_result"
    }
   ],
   "source": [
    "data.w_diagnosis_mkb[data.w_diagnosis_mkb.notnull()]"
   ]
  },
  {
   "cell_type": "code",
   "execution_count": 544,
   "id": "4dd8c539",
   "metadata": {},
   "outputs": [
    {
     "name": "stdout",
     "output_type": "stream",
     "text": [
      "<class 'pandas.core.frame.DataFrame'>\n",
      "RangeIndex: 2446 entries, 0 to 2445\n",
      "Data columns (total 97 columns):\n",
      " #   Column                                     Non-Null Count  Dtype  \n",
      "---  ------                                     --------------  -----  \n",
      " 0   Unnamed: 0                                 2446 non-null   int64  \n",
      " 1   id                                         2446 non-null   int64  \n",
      " 2   age                                        2446 non-null   int64  \n",
      " 3   w_diagnosis_mkb                            2323 non-null   object \n",
      " 4   duration_of_infertility                    1823 non-null   float64\n",
      " 5   egg_collection_day_time                    2402 non-null   object \n",
      " 6   date_of_embryo_transfer                    2446 non-null   int64  \n",
      " 7   number_of_eco-tries                        2385 non-null   float64\n",
      " 8   w_height                                   2446 non-null   int64  \n",
      " 9   w_weight                                   2437 non-null   float64\n",
      " 10  w_bmi                                      2446 non-null   float64\n",
      " 11  protocol                                   2264 non-null   object \n",
      " 12  gonadotropins                              2372 non-null   object \n",
      " 13  starting_dose                              2372 non-null   object \n",
      " 14  trigger                                    2282 non-null   object \n",
      " 15  duration_of_ovarian_stimulation            2270 non-null   float64\n",
      " 16  cycle_day_puncture                         2395 non-null   float64\n",
      " 17  cycle_day_transfer                         2377 non-null   float64\n",
      " 18  punctuated                                 2234 non-null   float64\n",
      " 19  flushed                                    887 non-null    float64\n",
      " 20  num_oocytes                                2401 non-null   float64\n",
      " 21  mature_oocytes                             2446 non-null   int64  \n",
      " 22  endometrial_thickness_mm                   2281 non-null   float64\n",
      " 23  embryologist                               2432 non-null   object \n",
      " 24  num_of_cultivation_hours                   2446 non-null   int64  \n",
      " 25  embryo_biopsy                              2446 non-null   int64  \n",
      " 26  method_embryo_biopsy                       405 non-null    object \n",
      " 27  ECO                                        2446 non-null   int64  \n",
      " 28  sperm_injection                            2446 non-null   int64  \n",
      " 29  own_frozen_oocytes                         2446 non-null   int64  \n",
      " 30  crio_donor_oocytes                         2446 non-null   int64  \n",
      " 31  fresh_donor_oocytes                        2446 non-null   int64  \n",
      " 32  donor_sperm                                2446 non-null   int64  \n",
      " 33  donor_embryos_after_testing                2446 non-null   int64  \n",
      " 34  donor_embryos_without_testing              2446 non-null   int64  \n",
      " 35  crio_sperm                                 2446 non-null   int64  \n",
      " 36  fresh_sperm                                2446 non-null   int64  \n",
      " 37  crio_sperm_obtained_surgery                6 non-null      object \n",
      " 38  fresh_sperm_obtained_surgery               44 non-null     object \n",
      " 39  thawed_embryos                             2446 non-null   int64  \n",
      " 40  num_embryos_transferred                    2446 non-null   int64  \n",
      " 41  ejaculate_volume_ml                        2217 non-null   object \n",
      " 42  concen_sperm_cells                         2220 non-null   object \n",
      " 43  mobility_of_sperm_%                        2198 non-null   object \n",
      " 44  anomal_sperm_%                             2131 non-null   float64\n",
      " 45  normal_sperm_by_embryologist               2446 non-null   int64  \n",
      " 46  normal_sperm_by_biologists                 977 non-null    float64\n",
      " 47  gr1                                        2446 non-null   int64  \n",
      " 48  gr1_2                                      2446 non-null   int64  \n",
      " 49  gr2                                        2446 non-null   int64  \n",
      " 50  gr2_3                                      2446 non-null   int64  \n",
      " 51  gr3                                        2446 non-null   int64  \n",
      " 52  num_crio_embrions                          2446 non-null   int64  \n",
      " 53  refreezing_embrions                        2446 non-null   int64  \n",
      " 54  embryo_number                              2446 non-null   int64  \n",
      " 55  surrogate_mother                           2446 non-null   int64  \n",
      " 56  outcome_treatment                          2438 non-null   object \n",
      " 57  num_of_fetuses                             1096 non-null   float64\n",
      " 58  m_age                                      2332 non-null   float64\n",
      " 59  МАР_lgG                                    9 non-null      object \n",
      " 60  m_height                                   524 non-null    float64\n",
      " 61  m_weight                                   519 non-null    float64\n",
      " 62  m_alcho                                    2446 non-null   int64  \n",
      " 63  m_varicocele                               2446 non-null   int64  \n",
      " 64  m_STDs                                     2446 non-null   int64  \n",
      " 65  m_cryptorchidism                           2446 non-null   int64  \n",
      " 66  m_prostatitis                              2446 non-null   int64  \n",
      " 67  health_insurance                           1542 non-null   object \n",
      " 68  MAP_test                                   827 non-null    object \n",
      " 69  m_id                                       2334 non-null   object \n",
      " 70  protocol_before_transfer                   2146 non-null   object \n",
      " 71  MEDECINS_ID                                2446 non-null   int64  \n",
      " 72  timeliness_of_delivery                     627 non-null    object \n",
      " 73  fetal_sex                                  626 non-null    object \n",
      " 74  fetal_height                               553 non-null    float64\n",
      " 75  fetal_weight                               569 non-null    float64\n",
      " 76  localization_of_pregnancy                  230 non-null    object \n",
      " 77  due_date                                   623 non-null    object \n",
      " 78  age_surrogate_mother                       2446 non-null   int64  \n",
      " 79  complications_during_pregnancy             38 non-null     object \n",
      " 80  doctor_briege                              2446 non-null   int64  \n",
      " 81  doctor_vasilyeva                           2446 non-null   int64  \n",
      " 82  doctor_denisova                            2446 non-null   int64  \n",
      " 83  doctor_isacova                             2446 non-null   int64  \n",
      " 84  doctor_kirsanov                            2446 non-null   int64  \n",
      " 85  doctor_menshikova                          2446 non-null   int64  \n",
      " 86  doctor_radionova                           2446 non-null   int64  \n",
      " 87  doctor_savina                              2446 non-null   int64  \n",
      " 88  doctor_samoilovich                         2446 non-null   int64  \n",
      " 89  stimulation_client                         2446 non-null   int64  \n",
      " 90  stimulation_natural_cycle                  2446 non-null   int64  \n",
      " 91  stimulation_hormone_replacement_therapy    2446 non-null   int64  \n",
      " 92  stimulation_with_ovulation_induction       2446 non-null   int64  \n",
      " 93  procedure_name_transfer_defrosted_embryos  2446 non-null   int64  \n",
      " 94  procedure_name_eco/icsi                    2446 non-null   int64  \n",
      " 95  w_diagnosis                                2323 non-null   object \n",
      " 96  type_of_infertility                        2446 non-null   int64  \n",
      "dtypes: float64(19), int64(53), object(25)\n",
      "memory usage: 1.8+ MB\n"
     ]
    }
   ],
   "source": [
    "data.info()"
   ]
  },
  {
   "cell_type": "code",
   "execution_count": null,
   "id": "dc82cfbf",
   "metadata": {},
   "outputs": [],
   "source": [
    "data.w_diagnosis_mkb[data.w_diagnosis_mkb.notnull()]= data.w_diagnosis_mkb[data.w_diagnosis_mkb.notnull()].apply(lambda x: x.lower())"
   ]
  },
  {
   "cell_type": "code",
   "execution_count": 545,
   "id": "bb6f9dbd",
   "metadata": {},
   "outputs": [
    {
     "name": "stderr",
     "output_type": "stream",
     "text": [
      "/tmp/ipykernel_5638/610825383.py:1: SettingWithCopyWarning: \n",
      "A value is trying to be set on a copy of a slice from a DataFrame\n",
      "\n",
      "See the caveats in the documentation: https://pandas.pydata.org/pandas-docs/stable/user_guide/indexing.html#returning-a-view-versus-a-copy\n",
      "  data.w_diagnosis[data.w_diagnosis.notnull()]= data.w_diagnosis[data.w_diagnosis.notnull()].apply(lambda x: x.lower())\n"
     ]
    }
   ],
   "source": [
    "data.w_diagnosis[data.w_diagnosis.notnull()]= data.w_diagnosis[data.w_diagnosis.notnull()].apply(lambda x: x.lower())"
   ]
  },
  {
   "cell_type": "code",
   "execution_count": 546,
   "id": "f1a01d77",
   "metadata": {},
   "outputs": [
    {
     "data": {
      "text/plain": [
       "0       30.12.2019 09:00:00\n",
       "1       06.01.2020 10:00:00\n",
       "2       06.01.2020 10:00:00\n",
       "3       08.01.2020 10:30:00\n",
       "4       09.01.2020 10:00:00\n",
       "               ...         \n",
       "2441                    NaN\n",
       "2442                    NaN\n",
       "2443    28.04.2021 11:30:00\n",
       "2444    28.04.2021 11:30:00\n",
       "2445    10.05.2021 11:27:26\n",
       "Name: egg_collection_day_time, Length: 2446, dtype: object"
      ]
     },
     "execution_count": 546,
     "metadata": {},
     "output_type": "execute_result"
    }
   ],
   "source": [
    "data.egg_collection_day_time"
   ]
  },
  {
   "cell_type": "code",
   "execution_count": 549,
   "id": "7172c916",
   "metadata": {},
   "outputs": [
    {
     "data": {
      "text/plain": [
       "1134    12.09.2012\n",
       "Name: egg_collection_day_time, dtype: object"
      ]
     },
     "execution_count": 549,
     "metadata": {},
     "output_type": "execute_result"
    }
   ],
   "source": [
    "data.egg_collection_day_time[data.egg_collection_day_time == '12.09.2012']"
   ]
  },
  {
   "cell_type": "code",
   "execution_count": 562,
   "id": "da8d3a3a",
   "metadata": {},
   "outputs": [
    {
     "data": {
      "text/plain": [
       "1135    08.05.2013\n",
       "Name: egg_collection_day_time, dtype: object"
      ]
     },
     "execution_count": 562,
     "metadata": {},
     "output_type": "execute_result"
    }
   ],
   "source": [
    "data.egg_collection_day_time[data.egg_collection_day_time == '08.05.2013']"
   ]
  },
  {
   "cell_type": "code",
   "execution_count": 563,
   "id": "4a96efc7",
   "metadata": {},
   "outputs": [
    {
     "data": {
      "text/plain": [
       "1135             08.05.2013\n",
       "1136             05.08.2013\n",
       "1137             05.08.2013\n",
       "1138    03.03.2014 11:30:00\n",
       "1139    03.03.2014 11:30:00\n",
       "               ...         \n",
       "2441                    NaN\n",
       "2442                    NaN\n",
       "2443    28.04.2021 11:30:00\n",
       "2444    28.04.2021 11:30:00\n",
       "2445    10.05.2021 11:27:26\n",
       "Name: egg_collection_day_time, Length: 1311, dtype: object"
      ]
     },
     "execution_count": 563,
     "metadata": {},
     "output_type": "execute_result"
    }
   ],
   "source": [
    "data.egg_collection_day_time.iloc[1135:1137]"
   ]
  },
  {
   "cell_type": "code",
   "execution_count": 564,
   "id": "ef513e72",
   "metadata": {},
   "outputs": [
    {
     "name": "stderr",
     "output_type": "stream",
     "text": [
      "/tmp/ipykernel_5638/1958946402.py:1: SettingWithCopyWarning: \n",
      "A value is trying to be set on a copy of a slice from a DataFrame\n",
      "\n",
      "See the caveats in the documentation: https://pandas.pydata.org/pandas-docs/stable/user_guide/indexing.html#returning-a-view-versus-a-copy\n",
      "  data.egg_collection_day_time.iloc[1135] = '08.05.2013 0:00:00'\n",
      "/tmp/ipykernel_5638/1958946402.py:2: SettingWithCopyWarning: \n",
      "A value is trying to be set on a copy of a slice from a DataFrame\n",
      "\n",
      "See the caveats in the documentation: https://pandas.pydata.org/pandas-docs/stable/user_guide/indexing.html#returning-a-view-versus-a-copy\n",
      "  data.egg_collection_day_time.iloc[1136] = '05.08.2013 0:00:00'\n",
      "/tmp/ipykernel_5638/1958946402.py:3: SettingWithCopyWarning: \n",
      "A value is trying to be set on a copy of a slice from a DataFrame\n",
      "\n",
      "See the caveats in the documentation: https://pandas.pydata.org/pandas-docs/stable/user_guide/indexing.html#returning-a-view-versus-a-copy\n",
      "  data.egg_collection_day_time.iloc[1137] = '05.08.2013 0:00:00'\n"
     ]
    }
   ],
   "source": [
    "data.egg_collection_day_time.iloc[1135] = '08.05.2013 0:00:00'\n",
    "data.egg_collection_day_time.iloc[1136] = '05.08.2013 0:00:00'\n",
    "data.egg_collection_day_time.iloc[1137] = '05.08.2013 0:00:00'"
   ]
  },
  {
   "cell_type": "code",
   "execution_count": 550,
   "id": "a7497433",
   "metadata": {},
   "outputs": [
    {
     "name": "stderr",
     "output_type": "stream",
     "text": [
      "/tmp/ipykernel_5638/1880753042.py:1: SettingWithCopyWarning: \n",
      "A value is trying to be set on a copy of a slice from a DataFrame\n",
      "\n",
      "See the caveats in the documentation: https://pandas.pydata.org/pandas-docs/stable/user_guide/indexing.html#returning-a-view-versus-a-copy\n",
      "  data.egg_collection_day_time.iloc[1134] = '12.09.2012 0:00:00'\n"
     ]
    }
   ],
   "source": [
    "data.egg_collection_day_time.iloc[1134] = '12.09.2012 0:00:00'"
   ]
  },
  {
   "cell_type": "code",
   "execution_count": 568,
   "id": "6867f36c",
   "metadata": {},
   "outputs": [
    {
     "name": "stderr",
     "output_type": "stream",
     "text": [
      "/tmp/ipykernel_5638/2215260111.py:1: SettingWithCopyWarning: \n",
      "A value is trying to be set on a copy of a slice from a DataFrame\n",
      "\n",
      "See the caveats in the documentation: https://pandas.pydata.org/pandas-docs/stable/user_guide/indexing.html#returning-a-view-versus-a-copy\n",
      "  data.egg_collection_day_time[data.egg_collection_day_time.notnull()] = data.egg_collection_day_time[data.egg_collection_day_time.notnull()].apply(lambda x: time_time(x))\n"
     ]
    }
   ],
   "source": [
    "data.egg_collection_day_time[data.egg_collection_day_time.notnull()] = data.egg_collection_day_time[data.egg_collection_day_time.notnull()].apply(lambda x: time_time(x))"
   ]
  },
  {
   "cell_type": "code",
   "execution_count": 566,
   "id": "e3d536aa",
   "metadata": {},
   "outputs": [],
   "source": [
    "def time_time(x):\n",
    "    try:\n",
    "        result = time.mktime(datetime.datetime.strptime(x, \"%d.%m.%Y  %H:%M:%S\").timetuple())\n",
    "    except:\n",
    "        result = time.mktime(datetime.datetime.strptime(x, \"%d.%m.%Y\").timetuple())\n",
    "    return result"
   ]
  },
  {
   "cell_type": "code",
   "execution_count": 570,
   "id": "5e1cd416",
   "metadata": {},
   "outputs": [
    {
     "data": {
      "text/plain": [
       "1.598422e+09    6\n",
       "1.595056e+09    6\n",
       "1.572331e+09    5\n",
       "1.578469e+09    5\n",
       "1.594451e+09    5\n",
       "               ..\n",
       "1.618209e+09    1\n",
       "1.618385e+09    1\n",
       "1.618558e+09    1\n",
       "1.618218e+09    1\n",
       "1.620635e+09    1\n",
       "Name: egg_collection_day_time, Length: 1531, dtype: int64"
      ]
     },
     "execution_count": 570,
     "metadata": {},
     "output_type": "execute_result"
    }
   ],
   "source": [
    "data.egg_collection_day_time.value_counts()"
   ]
  },
  {
   "cell_type": "code",
   "execution_count": 569,
   "id": "1aac25a7",
   "metadata": {},
   "outputs": [
    {
     "name": "stdout",
     "output_type": "stream",
     "text": [
      "<class 'pandas.core.frame.DataFrame'>\n",
      "RangeIndex: 2446 entries, 0 to 2445\n",
      "Data columns (total 97 columns):\n",
      " #   Column                                     Non-Null Count  Dtype  \n",
      "---  ------                                     --------------  -----  \n",
      " 0   Unnamed: 0                                 2446 non-null   int64  \n",
      " 1   id                                         2446 non-null   int64  \n",
      " 2   age                                        2446 non-null   int64  \n",
      " 3   w_diagnosis_mkb                            2323 non-null   object \n",
      " 4   duration_of_infertility                    1823 non-null   float64\n",
      " 5   egg_collection_day_time                    2402 non-null   object \n",
      " 6   date_of_embryo_transfer                    2446 non-null   int64  \n",
      " 7   number_of_eco-tries                        2385 non-null   float64\n",
      " 8   w_height                                   2446 non-null   int64  \n",
      " 9   w_weight                                   2437 non-null   float64\n",
      " 10  w_bmi                                      2446 non-null   float64\n",
      " 11  protocol                                   2264 non-null   object \n",
      " 12  gonadotropins                              2372 non-null   object \n",
      " 13  starting_dose                              2372 non-null   object \n",
      " 14  trigger                                    2282 non-null   object \n",
      " 15  duration_of_ovarian_stimulation            2270 non-null   float64\n",
      " 16  cycle_day_puncture                         2395 non-null   float64\n",
      " 17  cycle_day_transfer                         2377 non-null   float64\n",
      " 18  punctuated                                 2234 non-null   float64\n",
      " 19  flushed                                    887 non-null    float64\n",
      " 20  num_oocytes                                2401 non-null   float64\n",
      " 21  mature_oocytes                             2446 non-null   int64  \n",
      " 22  endometrial_thickness_mm                   2281 non-null   float64\n",
      " 23  embryologist                               2432 non-null   object \n",
      " 24  num_of_cultivation_hours                   2446 non-null   int64  \n",
      " 25  embryo_biopsy                              2446 non-null   int64  \n",
      " 26  method_embryo_biopsy                       405 non-null    object \n",
      " 27  ECO                                        2446 non-null   int64  \n",
      " 28  sperm_injection                            2446 non-null   int64  \n",
      " 29  own_frozen_oocytes                         2446 non-null   int64  \n",
      " 30  crio_donor_oocytes                         2446 non-null   int64  \n",
      " 31  fresh_donor_oocytes                        2446 non-null   int64  \n",
      " 32  donor_sperm                                2446 non-null   int64  \n",
      " 33  donor_embryos_after_testing                2446 non-null   int64  \n",
      " 34  donor_embryos_without_testing              2446 non-null   int64  \n",
      " 35  crio_sperm                                 2446 non-null   int64  \n",
      " 36  fresh_sperm                                2446 non-null   int64  \n",
      " 37  crio_sperm_obtained_surgery                6 non-null      object \n",
      " 38  fresh_sperm_obtained_surgery               44 non-null     object \n",
      " 39  thawed_embryos                             2446 non-null   int64  \n",
      " 40  num_embryos_transferred                    2446 non-null   int64  \n",
      " 41  ejaculate_volume_ml                        2217 non-null   object \n",
      " 42  concen_sperm_cells                         2220 non-null   object \n",
      " 43  mobility_of_sperm_%                        2198 non-null   object \n",
      " 44  anomal_sperm_%                             2131 non-null   float64\n",
      " 45  normal_sperm_by_embryologist               2446 non-null   int64  \n",
      " 46  normal_sperm_by_biologists                 977 non-null    float64\n",
      " 47  gr1                                        2446 non-null   int64  \n",
      " 48  gr1_2                                      2446 non-null   int64  \n",
      " 49  gr2                                        2446 non-null   int64  \n",
      " 50  gr2_3                                      2446 non-null   int64  \n",
      " 51  gr3                                        2446 non-null   int64  \n",
      " 52  num_crio_embrions                          2446 non-null   int64  \n",
      " 53  refreezing_embrions                        2446 non-null   int64  \n",
      " 54  embryo_number                              2446 non-null   int64  \n",
      " 55  surrogate_mother                           2446 non-null   int64  \n",
      " 56  outcome_treatment                          2438 non-null   object \n",
      " 57  num_of_fetuses                             1096 non-null   float64\n",
      " 58  m_age                                      2332 non-null   float64\n",
      " 59  МАР_lgG                                    9 non-null      object \n",
      " 60  m_height                                   524 non-null    float64\n",
      " 61  m_weight                                   519 non-null    float64\n",
      " 62  m_alcho                                    2446 non-null   int64  \n",
      " 63  m_varicocele                               2446 non-null   int64  \n",
      " 64  m_STDs                                     2446 non-null   int64  \n",
      " 65  m_cryptorchidism                           2446 non-null   int64  \n",
      " 66  m_prostatitis                              2446 non-null   int64  \n",
      " 67  health_insurance                           1542 non-null   object \n",
      " 68  MAP_test                                   827 non-null    object \n",
      " 69  m_id                                       2334 non-null   object \n",
      " 70  protocol_before_transfer                   2146 non-null   object \n",
      " 71  MEDECINS_ID                                2446 non-null   int64  \n",
      " 72  timeliness_of_delivery                     627 non-null    object \n",
      " 73  fetal_sex                                  626 non-null    object \n",
      " 74  fetal_height                               553 non-null    float64\n",
      " 75  fetal_weight                               569 non-null    float64\n",
      " 76  localization_of_pregnancy                  230 non-null    object \n",
      " 77  due_date                                   623 non-null    object \n",
      " 78  age_surrogate_mother                       2446 non-null   int64  \n",
      " 79  complications_during_pregnancy             38 non-null     object \n",
      " 80  doctor_briege                              2446 non-null   int64  \n",
      " 81  doctor_vasilyeva                           2446 non-null   int64  \n",
      " 82  doctor_denisova                            2446 non-null   int64  \n",
      " 83  doctor_isacova                             2446 non-null   int64  \n",
      " 84  doctor_kirsanov                            2446 non-null   int64  \n",
      " 85  doctor_menshikova                          2446 non-null   int64  \n",
      " 86  doctor_radionova                           2446 non-null   int64  \n",
      " 87  doctor_savina                              2446 non-null   int64  \n",
      " 88  doctor_samoilovich                         2446 non-null   int64  \n",
      " 89  stimulation_client                         2446 non-null   int64  \n",
      " 90  stimulation_natural_cycle                  2446 non-null   int64  \n",
      " 91  stimulation_hormone_replacement_therapy    2446 non-null   int64  \n",
      " 92  stimulation_with_ovulation_induction       2446 non-null   int64  \n",
      " 93  procedure_name_transfer_defrosted_embryos  2446 non-null   int64  \n",
      " 94  procedure_name_eco/icsi                    2446 non-null   int64  \n",
      " 95  w_diagnosis                                2323 non-null   object \n",
      " 96  type_of_infertility                        2446 non-null   int64  \n",
      "dtypes: float64(19), int64(53), object(25)\n",
      "memory usage: 1.8+ MB\n"
     ]
    }
   ],
   "source": [
    "data.info()"
   ]
  },
  {
   "cell_type": "markdown",
   "id": "b7ee2666",
   "metadata": {},
   "source": [
    "protocol                                   2264 non-null   object \n",
    " 12  gonadotropins                              2372 non-null   object \n",
    " 13  starting_dose                              2372 non-null   object \n",
    " 14  trigger                                    2282 non-null   object "
   ]
  },
  {
   "cell_type": "code",
   "execution_count": null,
   "id": "a9a267d8",
   "metadata": {},
   "outputs": [],
   "source": []
  },
  {
   "cell_type": "code",
   "execution_count": 572,
   "id": "a2ce6fe7",
   "metadata": {},
   "outputs": [
    {
     "data": {
      "text/plain": [
       "АНТ    1897\n",
       "КП      111\n",
       "ДЛ       93\n",
       "СО       85\n",
       "КЛЦ      45\n",
       "ЗГТ      17\n",
       "ЕЦ       12\n",
       "МЕЦ       3\n",
       "СДЛ       1\n",
       "Name: protocol, dtype: int64"
      ]
     },
     "execution_count": 572,
     "metadata": {},
     "output_type": "execute_result"
    }
   ],
   "source": [
    "data.protocol.value_counts()"
   ]
  },
  {
   "cell_type": "code",
   "execution_count": 577,
   "id": "fa246ba7",
   "metadata": {},
   "outputs": [
    {
     "data": {
      "text/plain": [
       "Гонал Ф         1252\n",
       "Менопур          534\n",
       "Пурегон          317\n",
       "МЕНОПУР 1200     111\n",
       "Перговерис        90\n",
       "МЕНОПУР           68\n",
       "Name: gonadotropins, dtype: int64"
      ]
     },
     "execution_count": 577,
     "metadata": {},
     "output_type": "execute_result"
    }
   ],
   "source": [
    "data.gonadotropins.value_counts()"
   ]
  },
  {
   "cell_type": "code",
   "execution_count": 576,
   "id": "5172fcc5",
   "metadata": {},
   "outputs": [
    {
     "data": {
      "text/plain": [
       "150       840\n",
       "225       595\n",
       "200       438\n",
       "300        96\n",
       "175        94\n",
       "75         74\n",
       "100        73\n",
       "2          46\n",
       "1          39\n",
       "250        17\n",
       "4          11\n",
       "187.5      10\n",
       "3          10\n",
       "375         6\n",
       "5           5\n",
       "125         5\n",
       "50          3\n",
       "0.25        2\n",
       "200 IU      2\n",
       "15          2\n",
       "22          2\n",
       "150 IU      1\n",
       "100 IU      1\n",
       "Name: starting_dose , dtype: int64"
      ]
     },
     "execution_count": 576,
     "metadata": {},
     "output_type": "execute_result"
    }
   ],
   "source": [
    "data['starting_dose '].value_counts()"
   ]
  },
  {
   "cell_type": "code",
   "execution_count": 574,
   "id": "18300fe4",
   "metadata": {},
   "outputs": [
    {
     "data": {
      "text/plain": [
       "ОВИТРЕЛЬ                          1157\n",
       "Декапептил, мг                     640\n",
       "хорионический гонадотропин, МЕ     415\n",
       "гонадотропин хорионический, МЕ      70\n",
       "Name: trigger, dtype: int64"
      ]
     },
     "execution_count": 574,
     "metadata": {},
     "output_type": "execute_result"
    }
   ],
   "source": [
    "data.trigger.value_counts()"
   ]
  },
  {
   "cell_type": "code",
   "execution_count": 575,
   "id": "6df59598",
   "metadata": {},
   "outputs": [
    {
     "data": {
      "text/plain": [
       "Index(['Unnamed: 0', 'id', 'age', 'w_diagnosis_mkb', 'duration_of_infertility',\n",
       "       'egg_collection_day_time', 'date_of_embryo_transfer',\n",
       "       'number_of_eco-tries', 'w_height', 'w_weight', 'w_bmi', 'protocol',\n",
       "       'gonadotropins', 'starting_dose ', 'trigger',\n",
       "       'duration_of_ovarian_stimulation ', 'cycle_day_puncture',\n",
       "       'cycle_day_transfer', 'punctuated', 'flushed', 'num_oocytes',\n",
       "       'mature_oocytes', 'endometrial_thickness_mm', 'embryologist',\n",
       "       'num_of_cultivation_hours', 'embryo_biopsy', 'method_embryo_biopsy',\n",
       "       'ECO', 'sperm_injection', 'own_frozen_oocytes', 'crio_donor_oocytes',\n",
       "       'fresh_donor_oocytes', 'donor_sperm', 'donor_embryos_after_testing',\n",
       "       'donor_embryos_without_testing', 'crio_sperm', 'fresh_sperm',\n",
       "       'crio_sperm_obtained_surgery', 'fresh_sperm_obtained_surgery',\n",
       "       'thawed_embryos', 'num_embryos_transferred', 'ejaculate_volume_ml',\n",
       "       'concen_sperm_cells', 'mobility_of_sperm_%', 'anomal_sperm_%',\n",
       "       'normal_sperm_by_embryologist', 'normal_sperm_by_biologists', 'gr1',\n",
       "       'gr1_2', 'gr2', 'gr2_3', 'gr3', 'num_crio_embrions',\n",
       "       'refreezing_embrions', 'embryo_number', 'surrogate_mother',\n",
       "       'outcome_treatment', 'num_of_fetuses', 'm_age', 'МАР_lgG', 'm_height',\n",
       "       'm_weight', 'm_alcho', 'm_varicocele', 'm_STDs', 'm_cryptorchidism',\n",
       "       'm_prostatitis', 'health_insurance', 'MAP_test', 'm_id',\n",
       "       'protocol_before_transfer', 'MEDECINS_ID', 'timeliness_of_delivery',\n",
       "       'fetal_sex', 'fetal_height', 'fetal_weight',\n",
       "       'localization_of_pregnancy', 'due_date', 'age_surrogate_mother',\n",
       "       'complications_during_pregnancy', 'doctor_briege', 'doctor_vasilyeva',\n",
       "       'doctor_denisova', 'doctor_isacova', 'doctor_kirsanov',\n",
       "       'doctor_menshikova', 'doctor_radionova', 'doctor_savina',\n",
       "       'doctor_samoilovich', 'stimulation_client', 'stimulation_natural_cycle',\n",
       "       'stimulation_hormone_replacement_therapy',\n",
       "       'stimulation_with_ovulation_induction',\n",
       "       'procedure_name_transfer_defrosted_embryos', 'procedure_name_eco/icsi',\n",
       "       'w_diagnosis', 'type_of_infertility'],\n",
       "      dtype='object')"
      ]
     },
     "execution_count": 575,
     "metadata": {},
     "output_type": "execute_result"
    }
   ],
   "source": [
    "data.columns"
   ]
  },
  {
   "cell_type": "code",
   "execution_count": 578,
   "id": "5707ffe4",
   "metadata": {},
   "outputs": [],
   "source": [
    "data.to_csv('showing_data.csv')"
   ]
  },
  {
   "cell_type": "code",
   "execution_count": 579,
   "id": "79fdefdf",
   "metadata": {},
   "outputs": [
    {
     "data": {
      "text/plain": [
       "Панина        652\n",
       "Невская       570\n",
       "Леонтьева     454\n",
       "Решетников    289\n",
       "Пастухова     273\n",
       "Бичевая       147\n",
       "Абдильдин      47\n",
       "Name: embryologist, dtype: int64"
      ]
     },
     "execution_count": 579,
     "metadata": {},
     "output_type": "execute_result"
    }
   ],
   "source": [
    "data.embryologist.value_counts()"
   ]
  },
  {
   "cell_type": "code",
   "execution_count": null,
   "id": "1bbca019",
   "metadata": {},
   "outputs": [],
   "source": []
  }
 ],
 "metadata": {
  "kernelspec": {
   "display_name": "Python 3 (ipykernel)",
   "language": "python",
   "name": "python3"
  },
  "language_info": {
   "codemirror_mode": {
    "name": "ipython",
    "version": 3
   },
   "file_extension": ".py",
   "mimetype": "text/x-python",
   "name": "python",
   "nbconvert_exporter": "python",
   "pygments_lexer": "ipython3",
   "version": "3.8.10"
  }
 },
 "nbformat": 4,
 "nbformat_minor": 5
}
