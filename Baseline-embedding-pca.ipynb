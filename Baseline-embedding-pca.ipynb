{
 "cells": [
  {
   "cell_type": "code",
   "execution_count": 1,
   "id": "9df50f42",
   "metadata": {},
   "outputs": [],
   "source": [
    "import pandas as pd"
   ]
  },
  {
   "cell_type": "code",
   "execution_count": 2,
   "id": "6138c048",
   "metadata": {},
   "outputs": [
    {
     "name": "stderr",
     "output_type": "stream",
     "text": [
      "<frozen importlib._bootstrap>:219: RuntimeWarning: scipy._lib.messagestream.MessageStream size changed, may indicate binary incompatibility. Expected 56 from C header, got 64 from PyObject\n"
     ]
    }
   ],
   "source": [
    "from skopt import BayesSearchCV"
   ]
  },
  {
   "cell_type": "code",
   "execution_count": 3,
   "id": "ea7d976c",
   "metadata": {},
   "outputs": [],
   "source": [
    "from sklearn.ensemble import RandomForestClassifier"
   ]
  },
  {
   "cell_type": "code",
   "execution_count": 4,
   "id": "6b4506e8",
   "metadata": {},
   "outputs": [],
   "source": [
    "data = pd.read_csv('showing_data.csv')"
   ]
  },
  {
   "cell_type": "code",
   "execution_count": 5,
   "id": "bfebc722",
   "metadata": {},
   "outputs": [
    {
     "name": "stdout",
     "output_type": "stream",
     "text": [
      "<class 'pandas.core.frame.DataFrame'>\n",
      "RangeIndex: 2446 entries, 0 to 2445\n",
      "Data columns (total 98 columns):\n",
      " #   Column                                     Non-Null Count  Dtype  \n",
      "---  ------                                     --------------  -----  \n",
      " 0   Unnamed: 0.1                               2446 non-null   int64  \n",
      " 1   Unnamed: 0                                 2446 non-null   int64  \n",
      " 2   id                                         2446 non-null   int64  \n",
      " 3   age                                        2446 non-null   int64  \n",
      " 4   w_diagnosis_mkb                            2323 non-null   object \n",
      " 5   duration_of_infertility                    1823 non-null   float64\n",
      " 6   egg_collection_day_time                    2402 non-null   float64\n",
      " 7   date_of_embryo_transfer                    2446 non-null   int64  \n",
      " 8   number_of_eco-tries                        2385 non-null   float64\n",
      " 9   w_height                                   2446 non-null   int64  \n",
      " 10  w_weight                                   2437 non-null   float64\n",
      " 11  w_bmi                                      2446 non-null   float64\n",
      " 12  protocol                                   2264 non-null   object \n",
      " 13  gonadotropins                              2372 non-null   object \n",
      " 14  starting_dose                              2372 non-null   object \n",
      " 15  trigger                                    2282 non-null   object \n",
      " 16  duration_of_ovarian_stimulation            2270 non-null   float64\n",
      " 17  cycle_day_puncture                         2395 non-null   float64\n",
      " 18  cycle_day_transfer                         2377 non-null   float64\n",
      " 19  punctuated                                 2234 non-null   float64\n",
      " 20  flushed                                    887 non-null    float64\n",
      " 21  num_oocytes                                2401 non-null   float64\n",
      " 22  mature_oocytes                             2446 non-null   int64  \n",
      " 23  endometrial_thickness_mm                   2281 non-null   float64\n",
      " 24  embryologist                               2432 non-null   object \n",
      " 25  num_of_cultivation_hours                   2446 non-null   int64  \n",
      " 26  embryo_biopsy                              2446 non-null   int64  \n",
      " 27  method_embryo_biopsy                       405 non-null    object \n",
      " 28  ECO                                        2446 non-null   int64  \n",
      " 29  sperm_injection                            2446 non-null   int64  \n",
      " 30  own_frozen_oocytes                         2446 non-null   int64  \n",
      " 31  crio_donor_oocytes                         2446 non-null   int64  \n",
      " 32  fresh_donor_oocytes                        2446 non-null   int64  \n",
      " 33  donor_sperm                                2446 non-null   int64  \n",
      " 34  donor_embryos_after_testing                2446 non-null   int64  \n",
      " 35  donor_embryos_without_testing              2446 non-null   int64  \n",
      " 36  crio_sperm                                 2446 non-null   int64  \n",
      " 37  fresh_sperm                                2446 non-null   int64  \n",
      " 38  crio_sperm_obtained_surgery                6 non-null      object \n",
      " 39  fresh_sperm_obtained_surgery               44 non-null     object \n",
      " 40  thawed_embryos                             2446 non-null   int64  \n",
      " 41  num_embryos_transferred                    2446 non-null   int64  \n",
      " 42  ejaculate_volume_ml                        2217 non-null   object \n",
      " 43  concen_sperm_cells                         2220 non-null   object \n",
      " 44  mobility_of_sperm_%                        2198 non-null   object \n",
      " 45  anomal_sperm_%                             2131 non-null   float64\n",
      " 46  normal_sperm_by_embryologist               2446 non-null   int64  \n",
      " 47  normal_sperm_by_biologists                 977 non-null    float64\n",
      " 48  gr1                                        2446 non-null   int64  \n",
      " 49  gr1_2                                      2446 non-null   int64  \n",
      " 50  gr2                                        2446 non-null   int64  \n",
      " 51  gr2_3                                      2446 non-null   int64  \n",
      " 52  gr3                                        2446 non-null   int64  \n",
      " 53  num_crio_embrions                          2446 non-null   int64  \n",
      " 54  refreezing_embrions                        2446 non-null   int64  \n",
      " 55  embryo_number                              2446 non-null   int64  \n",
      " 56  surrogate_mother                           2446 non-null   int64  \n",
      " 57  outcome_treatment                          2438 non-null   object \n",
      " 58  num_of_fetuses                             1096 non-null   float64\n",
      " 59  m_age                                      2332 non-null   float64\n",
      " 60  МАР_lgG                                    9 non-null      object \n",
      " 61  m_height                                   524 non-null    float64\n",
      " 62  m_weight                                   519 non-null    float64\n",
      " 63  m_alcho                                    2446 non-null   int64  \n",
      " 64  m_varicocele                               2446 non-null   int64  \n",
      " 65  m_STDs                                     2446 non-null   int64  \n",
      " 66  m_cryptorchidism                           2446 non-null   int64  \n",
      " 67  m_prostatitis                              2446 non-null   int64  \n",
      " 68  health_insurance                           1542 non-null   object \n",
      " 69  MAP_test                                   827 non-null    object \n",
      " 70  m_id                                       2334 non-null   object \n",
      " 71  protocol_before_transfer                   2146 non-null   object \n",
      " 72  MEDECINS_ID                                2446 non-null   int64  \n",
      " 73  timeliness_of_delivery                     627 non-null    object \n",
      " 74  fetal_sex                                  626 non-null    object \n",
      " 75  fetal_height                               553 non-null    float64\n",
      " 76  fetal_weight                               569 non-null    float64\n",
      " 77  localization_of_pregnancy                  230 non-null    object \n",
      " 78  due_date                                   623 non-null    object \n",
      " 79  age_surrogate_mother                       2446 non-null   int64  \n",
      " 80  complications_during_pregnancy             38 non-null     object \n",
      " 81  doctor_briege                              2446 non-null   int64  \n",
      " 82  doctor_vasilyeva                           2446 non-null   int64  \n",
      " 83  doctor_denisova                            2446 non-null   int64  \n",
      " 84  doctor_isacova                             2446 non-null   int64  \n",
      " 85  doctor_kirsanov                            2446 non-null   int64  \n",
      " 86  doctor_menshikova                          2446 non-null   int64  \n",
      " 87  doctor_radionova                           2446 non-null   int64  \n",
      " 88  doctor_savina                              2446 non-null   int64  \n",
      " 89  doctor_samoilovich                         2446 non-null   int64  \n",
      " 90  stimulation_client                         2446 non-null   int64  \n",
      " 91  stimulation_natural_cycle                  2446 non-null   int64  \n",
      " 92  stimulation_hormone_replacement_therapy    2446 non-null   int64  \n",
      " 93  stimulation_with_ovulation_induction       2446 non-null   int64  \n",
      " 94  procedure_name_transfer_defrosted_embryos  2446 non-null   int64  \n",
      " 95  procedure_name_eco/icsi                    2446 non-null   int64  \n",
      " 96  w_diagnosis                                2323 non-null   object \n",
      " 97  type_of_infertility                        2446 non-null   int64  \n",
      "dtypes: float64(20), int64(54), object(24)\n",
      "memory usage: 1.8+ MB\n"
     ]
    }
   ],
   "source": [
    "data.info()"
   ]
  },
  {
   "cell_type": "code",
   "execution_count": 6,
   "id": "382c1fb0",
   "metadata": {},
   "outputs": [],
   "source": [
    "data['complications'] = 0"
   ]
  },
  {
   "cell_type": "code",
   "execution_count": 7,
   "id": "c931a5e6",
   "metadata": {},
   "outputs": [
    {
     "name": "stderr",
     "output_type": "stream",
     "text": [
      "/tmp/ipykernel_5213/3843339653.py:1: SettingWithCopyWarning: \n",
      "A value is trying to be set on a copy of a slice from a DataFrame\n",
      "\n",
      "See the caveats in the documentation: https://pandas.pydata.org/pandas-docs/stable/user_guide/indexing.html#returning-a-view-versus-a-copy\n",
      "  data['complications'].iloc[data.complications_during_pregnancy.notnull()] = 1\n"
     ]
    }
   ],
   "source": [
    "data['complications'].iloc[data.complications_during_pregnancy.notnull()] = 1"
   ]
  },
  {
   "cell_type": "code",
   "execution_count": 8,
   "id": "8591226f",
   "metadata": {},
   "outputs": [
    {
     "data": {
      "text/plain": [
       "0    2408\n",
       "1      38\n",
       "Name: complications, dtype: int64"
      ]
     },
     "execution_count": 8,
     "metadata": {},
     "output_type": "execute_result"
    }
   ],
   "source": [
    "data.complications.value_counts()"
   ]
  },
  {
   "cell_type": "code",
   "execution_count": 9,
   "id": "cf563aed",
   "metadata": {},
   "outputs": [
    {
     "data": {
      "text/plain": [
       "ОМС ТерФонд                          542\n",
       "СОГАЗ СПб / ВТБ                      211\n",
       "Капитал МС СПб / РГС                 210\n",
       "ГСМК СПб                             161\n",
       "РЕСО СПб                             128\n",
       "ЛО РЕСО-МЕД                           76\n",
       "Капитал-Полис СПб                     58\n",
       "ВТБ/Росно СПб                         41\n",
       "ЛО СОГАЗ-Мед/ВТБ                      41\n",
       "МАКС СПб                              37\n",
       "Капитал МС ЛО                         27\n",
       "Альфа-страхование НОВГОРОД Сибирь      5\n",
       "Росно/ВТБ Новгород                     4\n",
       "ФСБ                                    1\n",
       "Name: health_insurance, dtype: int64"
      ]
     },
     "execution_count": 9,
     "metadata": {},
     "output_type": "execute_result"
    }
   ],
   "source": [
    "data['health_insurance'].value_counts()"
   ]
  },
  {
   "cell_type": "code",
   "execution_count": 10,
   "id": "e141a041",
   "metadata": {},
   "outputs": [
    {
     "data": {
      "text/plain": [
       "Беременность не наступила            1272\n",
       "Беременность клиническая             1118\n",
       "Биохимическая беременность             37\n",
       "Нет данных                              7\n",
       "CryoET по ОМС                           2\n",
       "Снята с цикла                           1\n",
       "Перенос эмбрионов не производился       1\n",
       "Name: outcome_treatment, dtype: int64"
      ]
     },
     "execution_count": 10,
     "metadata": {},
     "output_type": "execute_result"
    }
   ],
   "source": [
    "data['outcome_treatment'].value_counts()"
   ]
  },
  {
   "cell_type": "code",
   "execution_count": 11,
   "id": "d925fac7",
   "metadata": {},
   "outputs": [],
   "source": [
    "data['target'] = 0"
   ]
  },
  {
   "cell_type": "code",
   "execution_count": 12,
   "id": "3e2926ef",
   "metadata": {},
   "outputs": [
    {
     "name": "stderr",
     "output_type": "stream",
     "text": [
      "/tmp/ipykernel_5213/2699987630.py:1: SettingWithCopyWarning: \n",
      "A value is trying to be set on a copy of a slice from a DataFrame\n",
      "\n",
      "See the caveats in the documentation: https://pandas.pydata.org/pandas-docs/stable/user_guide/indexing.html#returning-a-view-versus-a-copy\n",
      "  data['target'].iloc[(data.outcome_treatment == 'Беременность клиническая') | (data.outcome_treatment == 'Биохимическая беременность')] = 1\n"
     ]
    }
   ],
   "source": [
    "data['target'].iloc[(data.outcome_treatment == 'Беременность клиническая') | (data.outcome_treatment == 'Биохимическая беременность')] = 1"
   ]
  },
  {
   "cell_type": "code",
   "execution_count": 13,
   "id": "b43de132",
   "metadata": {},
   "outputs": [
    {
     "data": {
      "text/plain": [
       "0    1291\n",
       "1    1155\n",
       "Name: target, dtype: int64"
      ]
     },
     "execution_count": 13,
     "metadata": {},
     "output_type": "execute_result"
    }
   ],
   "source": [
    "data['target'].value_counts()"
   ]
  },
  {
   "cell_type": "code",
   "execution_count": 14,
   "id": "2c4659f7",
   "metadata": {},
   "outputs": [],
   "source": [
    "list_of_strings = ['Нет данных','CryoET по ОМС','Снята с цикла','Перенос эмбрионов не производился']"
   ]
  },
  {
   "cell_type": "code",
   "execution_count": 15,
   "id": "2198a4c0",
   "metadata": {},
   "outputs": [],
   "source": [
    "data = data[~data['outcome_treatment'].isin(list_of_strings)]"
   ]
  },
  {
   "cell_type": "code",
   "execution_count": 16,
   "id": "980ae0b2",
   "metadata": {},
   "outputs": [
    {
     "name": "stdout",
     "output_type": "stream",
     "text": [
      "<class 'pandas.core.frame.DataFrame'>\n",
      "Int64Index: 2435 entries, 0 to 2445\n",
      "Data columns (total 100 columns):\n",
      " #   Column                                     Non-Null Count  Dtype  \n",
      "---  ------                                     --------------  -----  \n",
      " 0   Unnamed: 0.1                               2435 non-null   int64  \n",
      " 1   Unnamed: 0                                 2435 non-null   int64  \n",
      " 2   id                                         2435 non-null   int64  \n",
      " 3   age                                        2435 non-null   int64  \n",
      " 4   w_diagnosis_mkb                            2314 non-null   object \n",
      " 5   duration_of_infertility                    1817 non-null   float64\n",
      " 6   egg_collection_day_time                    2391 non-null   float64\n",
      " 7   date_of_embryo_transfer                    2435 non-null   int64  \n",
      " 8   number_of_eco-tries                        2374 non-null   float64\n",
      " 9   w_height                                   2435 non-null   int64  \n",
      " 10  w_weight                                   2426 non-null   float64\n",
      " 11  w_bmi                                      2435 non-null   float64\n",
      " 12  protocol                                   2255 non-null   object \n",
      " 13  gonadotropins                              2361 non-null   object \n",
      " 14  starting_dose                              2361 non-null   object \n",
      " 15  trigger                                    2272 non-null   object \n",
      " 16  duration_of_ovarian_stimulation            2260 non-null   float64\n",
      " 17  cycle_day_puncture                         2384 non-null   float64\n",
      " 18  cycle_day_transfer                         2368 non-null   float64\n",
      " 19  punctuated                                 2227 non-null   float64\n",
      " 20  flushed                                    886 non-null    float64\n",
      " 21  num_oocytes                                2390 non-null   float64\n",
      " 22  mature_oocytes                             2435 non-null   int64  \n",
      " 23  endometrial_thickness_mm                   2274 non-null   float64\n",
      " 24  embryologist                               2421 non-null   object \n",
      " 25  num_of_cultivation_hours                   2435 non-null   int64  \n",
      " 26  embryo_biopsy                              2435 non-null   int64  \n",
      " 27  method_embryo_biopsy                       402 non-null    object \n",
      " 28  ECO                                        2435 non-null   int64  \n",
      " 29  sperm_injection                            2435 non-null   int64  \n",
      " 30  own_frozen_oocytes                         2435 non-null   int64  \n",
      " 31  crio_donor_oocytes                         2435 non-null   int64  \n",
      " 32  fresh_donor_oocytes                        2435 non-null   int64  \n",
      " 33  donor_sperm                                2435 non-null   int64  \n",
      " 34  donor_embryos_after_testing                2435 non-null   int64  \n",
      " 35  donor_embryos_without_testing              2435 non-null   int64  \n",
      " 36  crio_sperm                                 2435 non-null   int64  \n",
      " 37  fresh_sperm                                2435 non-null   int64  \n",
      " 38  crio_sperm_obtained_surgery                6 non-null      object \n",
      " 39  fresh_sperm_obtained_surgery               44 non-null     object \n",
      " 40  thawed_embryos                             2435 non-null   int64  \n",
      " 41  num_embryos_transferred                    2435 non-null   int64  \n",
      " 42  ejaculate_volume_ml                        2208 non-null   object \n",
      " 43  concen_sperm_cells                         2211 non-null   object \n",
      " 44  mobility_of_sperm_%                        2189 non-null   object \n",
      " 45  anomal_sperm_%                             2122 non-null   float64\n",
      " 46  normal_sperm_by_embryologist               2435 non-null   int64  \n",
      " 47  normal_sperm_by_biologists                 976 non-null    float64\n",
      " 48  gr1                                        2435 non-null   int64  \n",
      " 49  gr1_2                                      2435 non-null   int64  \n",
      " 50  gr2                                        2435 non-null   int64  \n",
      " 51  gr2_3                                      2435 non-null   int64  \n",
      " 52  gr3                                        2435 non-null   int64  \n",
      " 53  num_crio_embrions                          2435 non-null   int64  \n",
      " 54  refreezing_embrions                        2435 non-null   int64  \n",
      " 55  embryo_number                              2435 non-null   int64  \n",
      " 56  surrogate_mother                           2435 non-null   int64  \n",
      " 57  outcome_treatment                          2427 non-null   object \n",
      " 58  num_of_fetuses                             1096 non-null   float64\n",
      " 59  m_age                                      2321 non-null   float64\n",
      " 60  МАР_lgG                                    9 non-null      object \n",
      " 61  m_height                                   524 non-null    float64\n",
      " 62  m_weight                                   519 non-null    float64\n",
      " 63  m_alcho                                    2435 non-null   int64  \n",
      " 64  m_varicocele                               2435 non-null   int64  \n",
      " 65  m_STDs                                     2435 non-null   int64  \n",
      " 66  m_cryptorchidism                           2435 non-null   int64  \n",
      " 67  m_prostatitis                              2435 non-null   int64  \n",
      " 68  health_insurance                           1539 non-null   object \n",
      " 69  MAP_test                                   826 non-null    object \n",
      " 70  m_id                                       2323 non-null   object \n",
      " 71  protocol_before_transfer                   2137 non-null   object \n",
      " 72  MEDECINS_ID                                2435 non-null   int64  \n",
      " 73  timeliness_of_delivery                     627 non-null    object \n",
      " 74  fetal_sex                                  626 non-null    object \n",
      " 75  fetal_height                               553 non-null    float64\n",
      " 76  fetal_weight                               569 non-null    float64\n",
      " 77  localization_of_pregnancy                  230 non-null    object \n",
      " 78  due_date                                   623 non-null    object \n",
      " 79  age_surrogate_mother                       2435 non-null   int64  \n",
      " 80  complications_during_pregnancy             38 non-null     object \n",
      " 81  doctor_briege                              2435 non-null   int64  \n",
      " 82  doctor_vasilyeva                           2435 non-null   int64  \n",
      " 83  doctor_denisova                            2435 non-null   int64  \n",
      " 84  doctor_isacova                             2435 non-null   int64  \n",
      " 85  doctor_kirsanov                            2435 non-null   int64  \n",
      " 86  doctor_menshikova                          2435 non-null   int64  \n",
      " 87  doctor_radionova                           2435 non-null   int64  \n",
      " 88  doctor_savina                              2435 non-null   int64  \n",
      " 89  doctor_samoilovich                         2435 non-null   int64  \n",
      " 90  stimulation_client                         2435 non-null   int64  \n",
      " 91  stimulation_natural_cycle                  2435 non-null   int64  \n",
      " 92  stimulation_hormone_replacement_therapy    2435 non-null   int64  \n",
      " 93  stimulation_with_ovulation_induction       2435 non-null   int64  \n",
      " 94  procedure_name_transfer_defrosted_embryos  2435 non-null   int64  \n",
      " 95  procedure_name_eco/icsi                    2435 non-null   int64  \n",
      " 96  w_diagnosis                                2314 non-null   object \n",
      " 97  type_of_infertility                        2435 non-null   int64  \n",
      " 98  complications                              2435 non-null   int64  \n",
      " 99  target                                     2435 non-null   int64  \n",
      "dtypes: float64(20), int64(56), object(24)\n",
      "memory usage: 1.9+ MB\n"
     ]
    }
   ],
   "source": [
    "data.info()"
   ]
  },
  {
   "cell_type": "code",
   "execution_count": 17,
   "id": "0949fa90",
   "metadata": {},
   "outputs": [
    {
     "data": {
      "text/plain": [
       "2    1210\n",
       "1    1077\n",
       "0     148\n",
       "Name: type_of_infertility, dtype: int64"
      ]
     },
     "execution_count": 17,
     "metadata": {},
     "output_type": "execute_result"
    }
   ],
   "source": [
    "data.type_of_infertility.value_counts()"
   ]
  },
  {
   "cell_type": "code",
   "execution_count": 18,
   "id": "407ca595",
   "metadata": {},
   "outputs": [],
   "source": [
    "data['male_factor'] = 0"
   ]
  },
  {
   "cell_type": "code",
   "execution_count": 19,
   "id": "fa71d515",
   "metadata": {},
   "outputs": [
    {
     "data": {
      "text/plain": [
       "0                                                     NaN\n",
       "1       бесплодие i.первичная олигоменоррея.\\nn91.3.сп...\n",
       "2       бесплодие i.первичная олигоменоррея.\\nn91.3.сп...\n",
       "3       бесплодие ii. хронический\\nсальпингоофорит. n7...\n",
       "4       бесплодие ii.фолликулярная киста правого\\nяичн...\n",
       "                              ...                        \n",
       "2441    бесплодие i.хронический\\nсальпингоофорит. n70....\n",
       "2442    бесплодие i.хронический\\nсальпингоофорит. n70....\n",
       "2443    бесплодие i.хронический\\nсальпингоофорит. n70....\n",
       "2444    бесплодие i.хронический\\nсальпингоофорит. n70....\n",
       "2445    бесплодие ii. приобретенное отсутствие\\nоргана...\n",
       "Name: w_diagnosis_mkb, Length: 2435, dtype: object"
      ]
     },
     "execution_count": 19,
     "metadata": {},
     "output_type": "execute_result"
    }
   ],
   "source": [
    "data.w_diagnosis_mkb"
   ]
  },
  {
   "cell_type": "code",
   "execution_count": 20,
   "id": "deded6d8",
   "metadata": {},
   "outputs": [
    {
     "data": {
      "text/plain": [
       "7       бесплодие i.снижение овариального\\nрезерва. му...\n",
       "8       бесплодие i.гиперпролактинемия.\\ne22.1.мужской...\n",
       "10                          бесплодие ii, мужской фактор.\n",
       "11                          бесплодие ii, мужской фактор.\n",
       "22      бесплодие ii. снижение овариального\\nрезерва. ...\n",
       "                              ...                        \n",
       "2434    бесплодие i.мужской фактор.n97.4\\nнарушение жи...\n",
       "2435    бесплодие ii (комбинированное) n97.8.\\nтрубног...\n",
       "2440    бесплодие i сложное (n97.4 женское\\nбесплодие,...\n",
       "2443    бесплодие i.хронический\\nсальпингоофорит. n70....\n",
       "2444    бесплодие i.хронический\\nсальпингоофорит. n70....\n",
       "Name: w_diagnosis_mkb, Length: 568, dtype: object"
      ]
     },
     "execution_count": 20,
     "metadata": {},
     "output_type": "execute_result"
    }
   ],
   "source": [
    "data.w_diagnosis_mkb[(data.w_diagnosis_mkb.str.count(r'(мужск)')==1) & (data.w_diagnosis_mkb.str.count(r'(фактор)')==1)]"
   ]
  },
  {
   "cell_type": "code",
   "execution_count": 21,
   "id": "3c31ca2a",
   "metadata": {},
   "outputs": [
    {
     "data": {
      "text/plain": [
       "43      бесплодие ii.  состояние после:  рубец на\\nмат...\n",
       "262     бесплодие i,\\nабсолютный трубный фактор\\nмужск...\n",
       "335     бесплодие i.миома матки. d25.диффузная\\nкистоз...\n",
       "383     бесплодие i. трубно-перитонеальный\\nфактор муж...\n",
       "429     бесплодие ii сочетанное (n97.1\\nтрубно-перитон...\n",
       "430     бесплодие ii сочетанное (n97.1\\nтрубно-перитон...\n",
       "736     бесплодие i (n 97.4 женское бесплодие,\\nобусло...\n",
       "737     бесплодие i (n 97.4 женское бесплодие,\\nобусло...\n",
       "752     бесплодие i.эрозия шейки матки. мутация\\nлейде...\n",
       "909     бесплодие i (n 97.4 женское бесплодие,\\nобусло...\n",
       "910     бесплодие i (n 97.4 женское бесплодие,\\nобусло...\n",
       "945     бесплодие ii.снижение овариального\\nрезерва..п...\n",
       "946     бесплодие ii.снижение овариального\\nрезерва..п...\n",
       "973     бесплодие ii, связанное с мужскими\\nфаторами n...\n",
       "1199    бесплодие ii. хронический\\nсальпингоофорит. n7...\n",
       "1335    бесплодие i.\\nабсолютный трубный фактор\\nмужск...\n",
       "1336    бесплодие i.\\nабсолютный трубный фактор\\nмужск...\n",
       "1633    бесплодие ii,\\nмиома матки\\nнгэ(?)\\nаденомиоз ...\n",
       "1634    бесплодие ii,\\nмиома матки\\nнгэ(?)\\nаденомиоз ...\n",
       "1735    бесплодие ii сочетанное: мужской фактор,\\nмато...\n",
       "1829    бесплодие ii. рубец на матке.\\nn85.8.аденомиоз...\n",
       "1840    бесплодие i. множественная миома матки.\\nd25.д...\n",
       "1841    бесплодие i. множественная миома матки.\\nd25.д...\n",
       "1847    бесплодие ii. хронический\\nсальпингоофорит. n7...\n",
       "1848    бесплодие ii. хронический\\nсальпингоофорит. n7...\n",
       "1864    бесплодие i, смешанное: мужской фактор\\n(иммун...\n",
       "1865    бесплодие i, смешанное: мужской фактор\\n(иммун...\n",
       "2003    бесплодие ii,\\nтрубно-перитонеальный фактор му...\n",
       "2104    бесплодие ii сочетанное: мужской фактор,\\nмато...\n",
       "2149    бесплодие i (сочетанное). спя.\\ne28.2.ановуляц...\n",
       "2150    бесплодие i (сочетанное). спя.\\ne28.2.ановуляц...\n",
       "2212    бесплодие  (комбинированное). мужской\\nфактор....\n",
       "2213    бесплодие  (комбинированное). мужской\\nфактор....\n",
       "2236    бесплодие i.снижение овариального\\nрезерва.обр...\n",
       "Name: w_diagnosis_mkb, dtype: object"
      ]
     },
     "execution_count": 21,
     "metadata": {},
     "output_type": "execute_result"
    }
   ],
   "source": [
    "data.w_diagnosis_mkb[(data.w_diagnosis_mkb.str.count(r'(мужск)')==1) & ~(data.w_diagnosis_mkb.str.count(r'(фактор)')==1)]"
   ]
  },
  {
   "cell_type": "code",
   "execution_count": 22,
   "id": "98a53712",
   "metadata": {},
   "outputs": [
    {
     "data": {
      "text/plain": [
       "7       бесплодие i.снижение овариального\\nрезерва. му...\n",
       "8       бесплодие i.гиперпролактинемия.\\ne22.1.мужской...\n",
       "10                          бесплодие ii, мужской фактор.\n",
       "11                          бесплодие ii, мужской фактор.\n",
       "22      бесплодие ii. снижение овариального\\nрезерва. ...\n",
       "                              ...                        \n",
       "2434    бесплодие i.мужской фактор.n97.4\\nнарушение жи...\n",
       "2435    бесплодие ii (комбинированное) n97.8.\\nтрубног...\n",
       "2440    бесплодие i сложное (n97.4 женское\\nбесплодие,...\n",
       "2443    бесплодие i.хронический\\nсальпингоофорит. n70....\n",
       "2444    бесплодие i.хронический\\nсальпингоофорит. n70....\n",
       "Name: w_diagnosis_mkb, Length: 602, dtype: object"
      ]
     },
     "execution_count": 22,
     "metadata": {},
     "output_type": "execute_result"
    }
   ],
   "source": [
    "data.w_diagnosis_mkb[(data.w_diagnosis_mkb.str.count(r'(мужск)')==1)]"
   ]
  },
  {
   "cell_type": "code",
   "execution_count": 23,
   "id": "39309a8a",
   "metadata": {},
   "outputs": [
    {
     "name": "stderr",
     "output_type": "stream",
     "text": [
      "/tmp/ipykernel_5213/3415369532.py:1: SettingWithCopyWarning: \n",
      "A value is trying to be set on a copy of a slice from a DataFrame\n",
      "\n",
      "See the caveats in the documentation: https://pandas.pydata.org/pandas-docs/stable/user_guide/indexing.html#returning-a-view-versus-a-copy\n",
      "  data['male_factor'].iloc[data.w_diagnosis_mkb.str.count(r'(мужск)')==1] = 1\n"
     ]
    }
   ],
   "source": [
    "data['male_factor'].iloc[data.w_diagnosis_mkb.str.count(r'(мужск)')==1] = 1"
   ]
  },
  {
   "cell_type": "code",
   "execution_count": 24,
   "id": "172ea7c7",
   "metadata": {},
   "outputs": [
    {
     "data": {
      "text/plain": [
       "0    1833\n",
       "1     602\n",
       "Name: male_factor, dtype: int64"
      ]
     },
     "execution_count": 24,
     "metadata": {},
     "output_type": "execute_result"
    }
   ],
   "source": [
    "data['male_factor'].value_counts()"
   ]
  },
  {
   "cell_type": "code",
   "execution_count": 25,
   "id": "9ff55954",
   "metadata": {},
   "outputs": [],
   "source": [
    "data.to_csv('data_for_baseline.csv')"
   ]
  },
  {
   "cell_type": "code",
   "execution_count": 26,
   "id": "5e8ccb8d",
   "metadata": {},
   "outputs": [],
   "source": [
    "import re"
   ]
  },
  {
   "cell_type": "code",
   "execution_count": 27,
   "id": "34fbdff1",
   "metadata": {},
   "outputs": [],
   "source": [
    "data.w_diagnosis_mkb[data.w_diagnosis_mkb.notnull()] = data.w_diagnosis_mkb[data.w_diagnosis_mkb.notnull()].apply(lambda x: re.sub(\"[^а-я]\", \" \", x))"
   ]
  },
  {
   "cell_type": "code",
   "execution_count": 28,
   "id": "7e7fece1",
   "metadata": {},
   "outputs": [],
   "source": [
    "data = data.drop(columns = 'w_diagnosis')"
   ]
  },
  {
   "cell_type": "code",
   "execution_count": 29,
   "id": "77015936",
   "metadata": {},
   "outputs": [
    {
     "name": "stdout",
     "output_type": "stream",
     "text": [
      "<class 'pandas.core.frame.DataFrame'>\n",
      "Int64Index: 2435 entries, 0 to 2445\n",
      "Data columns (total 100 columns):\n",
      " #   Column                                     Non-Null Count  Dtype  \n",
      "---  ------                                     --------------  -----  \n",
      " 0   Unnamed: 0.1                               2435 non-null   int64  \n",
      " 1   Unnamed: 0                                 2435 non-null   int64  \n",
      " 2   id                                         2435 non-null   int64  \n",
      " 3   age                                        2435 non-null   int64  \n",
      " 4   w_diagnosis_mkb                            2314 non-null   object \n",
      " 5   duration_of_infertility                    1817 non-null   float64\n",
      " 6   egg_collection_day_time                    2391 non-null   float64\n",
      " 7   date_of_embryo_transfer                    2435 non-null   int64  \n",
      " 8   number_of_eco-tries                        2374 non-null   float64\n",
      " 9   w_height                                   2435 non-null   int64  \n",
      " 10  w_weight                                   2426 non-null   float64\n",
      " 11  w_bmi                                      2435 non-null   float64\n",
      " 12  protocol                                   2255 non-null   object \n",
      " 13  gonadotropins                              2361 non-null   object \n",
      " 14  starting_dose                              2361 non-null   object \n",
      " 15  trigger                                    2272 non-null   object \n",
      " 16  duration_of_ovarian_stimulation            2260 non-null   float64\n",
      " 17  cycle_day_puncture                         2384 non-null   float64\n",
      " 18  cycle_day_transfer                         2368 non-null   float64\n",
      " 19  punctuated                                 2227 non-null   float64\n",
      " 20  flushed                                    886 non-null    float64\n",
      " 21  num_oocytes                                2390 non-null   float64\n",
      " 22  mature_oocytes                             2435 non-null   int64  \n",
      " 23  endometrial_thickness_mm                   2274 non-null   float64\n",
      " 24  embryologist                               2421 non-null   object \n",
      " 25  num_of_cultivation_hours                   2435 non-null   int64  \n",
      " 26  embryo_biopsy                              2435 non-null   int64  \n",
      " 27  method_embryo_biopsy                       402 non-null    object \n",
      " 28  ECO                                        2435 non-null   int64  \n",
      " 29  sperm_injection                            2435 non-null   int64  \n",
      " 30  own_frozen_oocytes                         2435 non-null   int64  \n",
      " 31  crio_donor_oocytes                         2435 non-null   int64  \n",
      " 32  fresh_donor_oocytes                        2435 non-null   int64  \n",
      " 33  donor_sperm                                2435 non-null   int64  \n",
      " 34  donor_embryos_after_testing                2435 non-null   int64  \n",
      " 35  donor_embryos_without_testing              2435 non-null   int64  \n",
      " 36  crio_sperm                                 2435 non-null   int64  \n",
      " 37  fresh_sperm                                2435 non-null   int64  \n",
      " 38  crio_sperm_obtained_surgery                6 non-null      object \n",
      " 39  fresh_sperm_obtained_surgery               44 non-null     object \n",
      " 40  thawed_embryos                             2435 non-null   int64  \n",
      " 41  num_embryos_transferred                    2435 non-null   int64  \n",
      " 42  ejaculate_volume_ml                        2208 non-null   object \n",
      " 43  concen_sperm_cells                         2211 non-null   object \n",
      " 44  mobility_of_sperm_%                        2189 non-null   object \n",
      " 45  anomal_sperm_%                             2122 non-null   float64\n",
      " 46  normal_sperm_by_embryologist               2435 non-null   int64  \n",
      " 47  normal_sperm_by_biologists                 976 non-null    float64\n",
      " 48  gr1                                        2435 non-null   int64  \n",
      " 49  gr1_2                                      2435 non-null   int64  \n",
      " 50  gr2                                        2435 non-null   int64  \n",
      " 51  gr2_3                                      2435 non-null   int64  \n",
      " 52  gr3                                        2435 non-null   int64  \n",
      " 53  num_crio_embrions                          2435 non-null   int64  \n",
      " 54  refreezing_embrions                        2435 non-null   int64  \n",
      " 55  embryo_number                              2435 non-null   int64  \n",
      " 56  surrogate_mother                           2435 non-null   int64  \n",
      " 57  outcome_treatment                          2427 non-null   object \n",
      " 58  num_of_fetuses                             1096 non-null   float64\n",
      " 59  m_age                                      2321 non-null   float64\n",
      " 60  МАР_lgG                                    9 non-null      object \n",
      " 61  m_height                                   524 non-null    float64\n",
      " 62  m_weight                                   519 non-null    float64\n",
      " 63  m_alcho                                    2435 non-null   int64  \n",
      " 64  m_varicocele                               2435 non-null   int64  \n",
      " 65  m_STDs                                     2435 non-null   int64  \n",
      " 66  m_cryptorchidism                           2435 non-null   int64  \n",
      " 67  m_prostatitis                              2435 non-null   int64  \n",
      " 68  health_insurance                           1539 non-null   object \n",
      " 69  MAP_test                                   826 non-null    object \n",
      " 70  m_id                                       2323 non-null   object \n",
      " 71  protocol_before_transfer                   2137 non-null   object \n",
      " 72  MEDECINS_ID                                2435 non-null   int64  \n",
      " 73  timeliness_of_delivery                     627 non-null    object \n",
      " 74  fetal_sex                                  626 non-null    object \n",
      " 75  fetal_height                               553 non-null    float64\n",
      " 76  fetal_weight                               569 non-null    float64\n",
      " 77  localization_of_pregnancy                  230 non-null    object \n",
      " 78  due_date                                   623 non-null    object \n",
      " 79  age_surrogate_mother                       2435 non-null   int64  \n",
      " 80  complications_during_pregnancy             38 non-null     object \n",
      " 81  doctor_briege                              2435 non-null   int64  \n",
      " 82  doctor_vasilyeva                           2435 non-null   int64  \n",
      " 83  doctor_denisova                            2435 non-null   int64  \n",
      " 84  doctor_isacova                             2435 non-null   int64  \n",
      " 85  doctor_kirsanov                            2435 non-null   int64  \n",
      " 86  doctor_menshikova                          2435 non-null   int64  \n",
      " 87  doctor_radionova                           2435 non-null   int64  \n",
      " 88  doctor_savina                              2435 non-null   int64  \n",
      " 89  doctor_samoilovich                         2435 non-null   int64  \n",
      " 90  stimulation_client                         2435 non-null   int64  \n",
      " 91  stimulation_natural_cycle                  2435 non-null   int64  \n",
      " 92  stimulation_hormone_replacement_therapy    2435 non-null   int64  \n",
      " 93  stimulation_with_ovulation_induction       2435 non-null   int64  \n",
      " 94  procedure_name_transfer_defrosted_embryos  2435 non-null   int64  \n",
      " 95  procedure_name_eco/icsi                    2435 non-null   int64  \n",
      " 96  type_of_infertility                        2435 non-null   int64  \n",
      " 97  complications                              2435 non-null   int64  \n",
      " 98  target                                     2435 non-null   int64  \n",
      " 99  male_factor                                2435 non-null   int64  \n",
      "dtypes: float64(20), int64(57), object(23)\n",
      "memory usage: 1.9+ MB\n"
     ]
    }
   ],
   "source": [
    "data.info()"
   ]
  },
  {
   "cell_type": "code",
   "execution_count": 30,
   "id": "4201c6b8",
   "metadata": {},
   "outputs": [],
   "source": [
    "data = data.drop(columns = ['Unnamed: 0.1','Unnamed: 0'])"
   ]
  },
  {
   "cell_type": "code",
   "execution_count": 31,
   "id": "9f35570b",
   "metadata": {},
   "outputs": [
    {
     "data": {
      "text/plain": [
       "'бесплодие   первичная олигоменоррея        спя        ановуляция        аит        гипотиреоз     '"
      ]
     },
     "execution_count": 31,
     "metadata": {},
     "output_type": "execute_result"
    }
   ],
   "source": [
    "data.w_diagnosis_mkb[1]"
   ]
  },
  {
   "cell_type": "code",
   "execution_count": 32,
   "id": "413bb431",
   "metadata": {},
   "outputs": [],
   "source": [
    "data.w_diagnosis_mkb = data.w_diagnosis_mkb.fillna('нет')"
   ]
  },
  {
   "cell_type": "code",
   "execution_count": 33,
   "id": "779f6b05",
   "metadata": {},
   "outputs": [
    {
     "name": "stdout",
     "output_type": "stream",
     "text": [
      "Defaulting to user installation because normal site-packages is not writeable\n",
      "Requirement already satisfied: umap-learn in /home/kate/.local/lib/python3.8/site-packages (0.5.3)\n",
      "Requirement already satisfied: pynndescent>=0.5 in /home/kate/.local/lib/python3.8/site-packages (from umap-learn) (0.5.7)\n",
      "Requirement already satisfied: scikit-learn>=0.22 in /home/kate/.local/lib/python3.8/site-packages (from umap-learn) (1.1.1)\n",
      "Requirement already satisfied: tqdm in /home/kate/.local/lib/python3.8/site-packages (from umap-learn) (4.64.0)\n",
      "Requirement already satisfied: numpy>=1.17 in /home/kate/.local/lib/python3.8/site-packages (from umap-learn) (1.22.4)\n",
      "Requirement already satisfied: numba>=0.49 in /home/kate/.local/lib/python3.8/site-packages (from umap-learn) (0.55.2)\n",
      "Requirement already satisfied: scipy>=1.0 in /home/kate/.local/lib/python3.8/site-packages (from umap-learn) (1.8.1)\n",
      "Requirement already satisfied: llvmlite<0.39,>=0.38.0rc1 in /home/kate/.local/lib/python3.8/site-packages (from numba>=0.49->umap-learn) (0.38.1)\n",
      "Requirement already satisfied: setuptools in /home/kate/.local/lib/python3.8/site-packages (from numba>=0.49->umap-learn) (63.2.0)\n",
      "Requirement already satisfied: joblib>=0.11 in /home/kate/.local/lib/python3.8/site-packages (from pynndescent>=0.5->umap-learn) (1.1.0)\n",
      "Requirement already satisfied: threadpoolctl>=2.0.0 in /home/kate/.local/lib/python3.8/site-packages (from scikit-learn>=0.22->umap-learn) (3.1.0)\n",
      "--- Logging error ---\n",
      "Traceback (most recent call last):\n",
      "  File \"/home/kate/.local/lib/python3.8/site-packages/pip/_internal/utils/logging.py\", line 177, in emit\n",
      "    self.console.print(renderable, overflow=\"ignore\", crop=False, style=style)\n",
      "  File \"/home/kate/.local/lib/python3.8/site-packages/pip/_vendor/rich/console.py\", line 1752, in print\n",
      "    extend(render(renderable, render_options))\n",
      "  File \"/home/kate/.local/lib/python3.8/site-packages/pip/_vendor/rich/console.py\", line 1390, in render\n",
      "    for render_output in iter_render:\n",
      "  File \"/home/kate/.local/lib/python3.8/site-packages/pip/_internal/utils/logging.py\", line 134, in __rich_console__\n",
      "    for line in lines:\n",
      "  File \"/home/kate/.local/lib/python3.8/site-packages/pip/_vendor/rich/segment.py\", line 245, in split_lines\n",
      "    for segment in segments:\n",
      "  File \"/home/kate/.local/lib/python3.8/site-packages/pip/_vendor/rich/console.py\", line 1368, in render\n",
      "    renderable = rich_cast(renderable)\n",
      "  File \"/home/kate/.local/lib/python3.8/site-packages/pip/_vendor/rich/protocol.py\", line 36, in rich_cast\n",
      "    renderable = cast_method()\n",
      "  File \"/home/kate/.local/lib/python3.8/site-packages/pip/_internal/self_outdated_check.py\", line 130, in __rich__\n",
      "    pip_cmd = get_best_invocation_for_this_pip()\n",
      "  File \"/home/kate/.local/lib/python3.8/site-packages/pip/_internal/utils/entrypoints.py\", line 58, in get_best_invocation_for_this_pip\n",
      "    if found_executable and os.path.samefile(\n",
      "  File \"/usr/lib/python3.8/genericpath.py\", line 101, in samefile\n",
      "    s2 = os.stat(f2)\n",
      "FileNotFoundError: [Errno 2] No such file or directory: '/usr/bin/pip3.8'\n",
      "Call stack:\n",
      "  File \"/home/kate/.local/bin/pip\", line 8, in <module>\n",
      "    sys.exit(main())\n",
      "  File \"/home/kate/.local/lib/python3.8/site-packages/pip/_internal/cli/main.py\", line 70, in main\n",
      "    return command.main(cmd_args)\n",
      "  File \"/home/kate/.local/lib/python3.8/site-packages/pip/_internal/cli/base_command.py\", line 101, in main\n",
      "    return self._main(args)\n",
      "  File \"/home/kate/.local/lib/python3.8/site-packages/pip/_internal/cli/base_command.py\", line 223, in _main\n",
      "    self.handle_pip_version_check(options)\n",
      "  File \"/home/kate/.local/lib/python3.8/site-packages/pip/_internal/cli/req_command.py\", line 148, in handle_pip_version_check\n",
      "    pip_self_version_check(session, options)\n",
      "  File \"/home/kate/.local/lib/python3.8/site-packages/pip/_internal/self_outdated_check.py\", line 237, in pip_self_version_check\n",
      "    logger.info(\"[present-rich] %s\", upgrade_prompt)\n",
      "  File \"/usr/lib/python3.8/logging/__init__.py\", line 1446, in info\n",
      "    self._log(INFO, msg, args, **kwargs)\n",
      "  File \"/usr/lib/python3.8/logging/__init__.py\", line 1589, in _log\n",
      "    self.handle(record)\n",
      "  File \"/usr/lib/python3.8/logging/__init__.py\", line 1599, in handle\n",
      "    self.callHandlers(record)\n",
      "  File \"/usr/lib/python3.8/logging/__init__.py\", line 1661, in callHandlers\n",
      "    hdlr.handle(record)\n",
      "  File \"/usr/lib/python3.8/logging/__init__.py\", line 954, in handle\n",
      "    self.emit(record)\n",
      "  File \"/home/kate/.local/lib/python3.8/site-packages/pip/_internal/utils/logging.py\", line 179, in emit\n",
      "    self.handleError(record)\n",
      "Message: '[present-rich] %s'\n",
      "Arguments: (UpgradePrompt(old='22.1.2', new='22.2.2'),)\n"
     ]
    }
   ],
   "source": [
    "!pip install umap-learn"
   ]
  },
  {
   "cell_type": "code",
   "execution_count": 34,
   "id": "18edbf3c",
   "metadata": {},
   "outputs": [
    {
     "name": "stdout",
     "output_type": "stream",
     "text": [
      "Defaulting to user installation because normal site-packages is not writeable\n",
      "Requirement already satisfied: gensim==3.8.3 in /home/kate/.local/lib/python3.8/site-packages (3.8.3)\n",
      "Requirement already satisfied: scipy>=0.18.1 in /home/kate/.local/lib/python3.8/site-packages (from gensim==3.8.3) (1.8.1)\n",
      "Requirement already satisfied: numpy>=1.11.3 in /home/kate/.local/lib/python3.8/site-packages (from gensim==3.8.3) (1.22.4)\n",
      "Requirement already satisfied: smart-open>=1.8.1 in /home/kate/.local/lib/python3.8/site-packages (from gensim==3.8.3) (5.2.1)\n",
      "Requirement already satisfied: six>=1.5.0 in /home/kate/.local/lib/python3.8/site-packages (from gensim==3.8.3) (1.16.0)\n",
      "--- Logging error ---\n",
      "Traceback (most recent call last):\n",
      "  File \"/home/kate/.local/lib/python3.8/site-packages/pip/_internal/utils/logging.py\", line 177, in emit\n",
      "    self.console.print(renderable, overflow=\"ignore\", crop=False, style=style)\n",
      "  File \"/home/kate/.local/lib/python3.8/site-packages/pip/_vendor/rich/console.py\", line 1752, in print\n",
      "    extend(render(renderable, render_options))\n",
      "  File \"/home/kate/.local/lib/python3.8/site-packages/pip/_vendor/rich/console.py\", line 1390, in render\n",
      "    for render_output in iter_render:\n",
      "  File \"/home/kate/.local/lib/python3.8/site-packages/pip/_internal/utils/logging.py\", line 134, in __rich_console__\n",
      "    for line in lines:\n",
      "  File \"/home/kate/.local/lib/python3.8/site-packages/pip/_vendor/rich/segment.py\", line 245, in split_lines\n",
      "    for segment in segments:\n",
      "  File \"/home/kate/.local/lib/python3.8/site-packages/pip/_vendor/rich/console.py\", line 1368, in render\n",
      "    renderable = rich_cast(renderable)\n",
      "  File \"/home/kate/.local/lib/python3.8/site-packages/pip/_vendor/rich/protocol.py\", line 36, in rich_cast\n",
      "    renderable = cast_method()\n",
      "  File \"/home/kate/.local/lib/python3.8/site-packages/pip/_internal/self_outdated_check.py\", line 130, in __rich__\n",
      "    pip_cmd = get_best_invocation_for_this_pip()\n",
      "  File \"/home/kate/.local/lib/python3.8/site-packages/pip/_internal/utils/entrypoints.py\", line 58, in get_best_invocation_for_this_pip\n",
      "    if found_executable and os.path.samefile(\n",
      "  File \"/usr/lib/python3.8/genericpath.py\", line 101, in samefile\n",
      "    s2 = os.stat(f2)\n",
      "FileNotFoundError: [Errno 2] No such file or directory: '/usr/bin/pip3.8'\n",
      "Call stack:\n",
      "  File \"/home/kate/.local/bin/pip\", line 8, in <module>\n",
      "    sys.exit(main())\n",
      "  File \"/home/kate/.local/lib/python3.8/site-packages/pip/_internal/cli/main.py\", line 70, in main\n",
      "    return command.main(cmd_args)\n",
      "  File \"/home/kate/.local/lib/python3.8/site-packages/pip/_internal/cli/base_command.py\", line 101, in main\n",
      "    return self._main(args)\n",
      "  File \"/home/kate/.local/lib/python3.8/site-packages/pip/_internal/cli/base_command.py\", line 223, in _main\n",
      "    self.handle_pip_version_check(options)\n",
      "  File \"/home/kate/.local/lib/python3.8/site-packages/pip/_internal/cli/req_command.py\", line 148, in handle_pip_version_check\n",
      "    pip_self_version_check(session, options)\n",
      "  File \"/home/kate/.local/lib/python3.8/site-packages/pip/_internal/self_outdated_check.py\", line 237, in pip_self_version_check\n",
      "    logger.info(\"[present-rich] %s\", upgrade_prompt)\n",
      "  File \"/usr/lib/python3.8/logging/__init__.py\", line 1446, in info\n",
      "    self._log(INFO, msg, args, **kwargs)\n",
      "  File \"/usr/lib/python3.8/logging/__init__.py\", line 1589, in _log\n",
      "    self.handle(record)\n",
      "  File \"/usr/lib/python3.8/logging/__init__.py\", line 1599, in handle\n",
      "    self.callHandlers(record)\n",
      "  File \"/usr/lib/python3.8/logging/__init__.py\", line 1661, in callHandlers\n",
      "    hdlr.handle(record)\n",
      "  File \"/usr/lib/python3.8/logging/__init__.py\", line 954, in handle\n",
      "    self.emit(record)\n",
      "  File \"/home/kate/.local/lib/python3.8/site-packages/pip/_internal/utils/logging.py\", line 179, in emit\n",
      "    self.handleError(record)\n",
      "Message: '[present-rich] %s'\n",
      "Arguments: (UpgradePrompt(old='22.1.2', new='22.2.2'),)\n"
     ]
    }
   ],
   "source": [
    "!pip install gensim==3.8.3"
   ]
  },
  {
   "cell_type": "code",
   "execution_count": 35,
   "id": "354c21a7",
   "metadata": {},
   "outputs": [
    {
     "name": "stderr",
     "output_type": "stream",
     "text": [
      "2022-10-06 12:01:02.225991: W tensorflow/stream_executor/platform/default/dso_loader.cc:64] Could not load dynamic library 'libcudart.so.11.0'; dlerror: libcudart.so.11.0: cannot open shared object file: No such file or directory\n",
      "2022-10-06 12:01:02.226049: I tensorflow/stream_executor/cuda/cudart_stub.cc:29] Ignore above cudart dlerror if you do not have a GPU set up on your machine.\n"
     ]
    }
   ],
   "source": [
    "import itertools\n",
    "import string\n",
    "\n",
    "import numpy as np\n",
    "import umap.umap_ as umap\n",
    "from nltk.tokenize import WordPunctTokenizer\n",
    "\n",
    "from matplotlib import pyplot as plt\n",
    "\n",
    "from IPython.display import clear_output"
   ]
  },
  {
   "cell_type": "code",
   "execution_count": 36,
   "id": "5d3a0331",
   "metadata": {},
   "outputs": [],
   "source": [
    "from gensim.models import Word2Vec"
   ]
  },
  {
   "cell_type": "code",
   "execution_count": 37,
   "id": "e38a3c0c",
   "metadata": {},
   "outputs": [],
   "source": [
    "tokenizer = WordPunctTokenizer()"
   ]
  },
  {
   "cell_type": "code",
   "execution_count": 38,
   "id": "fee57784",
   "metadata": {},
   "outputs": [
    {
     "name": "stdout",
     "output_type": "stream",
     "text": [
      "['бесплодие', 'первичная', 'олигоменоррея', 'спя', 'ановуляция', 'аит', 'гипотиреоз']\n"
     ]
    }
   ],
   "source": [
    "print(tokenizer.tokenize(data.w_diagnosis_mkb[1]))"
   ]
  },
  {
   "cell_type": "code",
   "execution_count": 40,
   "id": "a5cc2aa4",
   "metadata": {},
   "outputs": [],
   "source": [
    "#dataframe[dataframe.w_diagnosis.notnull()].w_diagnosis = dataframe[dataframe.w_diagnosis.notnull()].w_diagnosis.apply(lambda x: tokenizer.tokenize(x))"
   ]
  },
  {
   "cell_type": "code",
   "execution_count": 41,
   "id": "4caae327",
   "metadata": {},
   "outputs": [],
   "source": [
    "#dataframe.w_diagnosis = dataframe.w_diagnosis.apply(lambda x: tokenizer.tokenize(x))"
   ]
  },
  {
   "cell_type": "code",
   "execution_count": 39,
   "id": "d07de25b",
   "metadata": {},
   "outputs": [
    {
     "data": {
      "text/plain": [
       "Int64Index([   0,    1,    2,    3,    4,    5,    6,    7,    8,    9,\n",
       "            ...\n",
       "            2436, 2437, 2438, 2439, 2440, 2441, 2442, 2443, 2444, 2445],\n",
       "           dtype='int64', length=2435)"
      ]
     },
     "execution_count": 39,
     "metadata": {},
     "output_type": "execute_result"
    }
   ],
   "source": [
    "data.w_diagnosis_mkb.index"
   ]
  },
  {
   "cell_type": "code",
   "execution_count": 40,
   "id": "78a3648e",
   "metadata": {},
   "outputs": [],
   "source": [
    "from nltk.corpus import stopwords"
   ]
  },
  {
   "cell_type": "code",
   "execution_count": 41,
   "id": "5f4f75de",
   "metadata": {},
   "outputs": [
    {
     "name": "stderr",
     "output_type": "stream",
     "text": [
      "[nltk_data] Downloading package stopwords to /home/kate/nltk_data...\n",
      "[nltk_data]   Package stopwords is already up-to-date!\n"
     ]
    },
    {
     "data": {
      "text/plain": [
       "True"
      ]
     },
     "execution_count": 41,
     "metadata": {},
     "output_type": "execute_result"
    }
   ],
   "source": [
    "import nltk\n",
    "nltk.download('stopwords')"
   ]
  },
  {
   "cell_type": "code",
   "execution_count": 42,
   "id": "99863490",
   "metadata": {},
   "outputs": [],
   "source": [
    "stop_words = stopwords.words('russian') "
   ]
  },
  {
   "cell_type": "code",
   "execution_count": 43,
   "id": "93f8cc0c",
   "metadata": {},
   "outputs": [],
   "source": [
    "data_tok = []"
   ]
  },
  {
   "cell_type": "code",
   "execution_count": 44,
   "id": "a73e89a5",
   "metadata": {},
   "outputs": [],
   "source": [
    "for i in data.w_diagnosis_mkb.index:\n",
    "    temp = data.w_diagnosis_mkb[i].lower()\n",
    "    data_tok.append(tokenizer.tokenize(temp))\n"
   ]
  },
  {
   "cell_type": "code",
   "execution_count": 45,
   "id": "c835bcc7",
   "metadata": {},
   "outputs": [],
   "source": [
    "def magic(x):\n",
    "    return (tokenizer.tokenize(x))"
   ]
  },
  {
   "cell_type": "code",
   "execution_count": 46,
   "id": "d1b4e46e",
   "metadata": {},
   "outputs": [
    {
     "data": {
      "text/plain": [
       "0                                                   [нет]\n",
       "1       [бесплодие, первичная, олигоменоррея, спя, ано...\n",
       "2       [бесплодие, первичная, олигоменоррея, спя, ано...\n",
       "3       [бесплодие, хронический, сальпингоофорит, рубе...\n",
       "4       [бесплодие, фолликулярная, киста, правого, яич...\n",
       "                              ...                        \n",
       "2441    [бесплодие, хронический, сальпингоофорит, хрон...\n",
       "2442    [бесплодие, хронический, сальпингоофорит, хрон...\n",
       "2443    [бесплодие, хронический, сальпингоофорит, днз,...\n",
       "2444    [бесплодие, хронический, сальпингоофорит, днз,...\n",
       "2445    [бесплодие, приобретенное, отсутствие, органа,...\n",
       "Name: w_diagnosis_mkb, Length: 2435, dtype: object"
      ]
     },
     "execution_count": 46,
     "metadata": {},
     "output_type": "execute_result"
    }
   ],
   "source": [
    "data.w_diagnosis_mkb.apply(lambda x: magic(x))"
   ]
  },
  {
   "cell_type": "code",
   "execution_count": 47,
   "id": "04c7e7d0",
   "metadata": {},
   "outputs": [
    {
     "data": {
      "text/plain": [
       "0                                                   [нет]\n",
       "1       [бесплодие, первичная, олигоменоррея, спя, ано...\n",
       "2       [бесплодие, первичная, олигоменоррея, спя, ано...\n",
       "3       [бесплодие, хронический, сальпингоофорит, рубе...\n",
       "4       [бесплодие, фолликулярная, киста, правого, яич...\n",
       "                              ...                        \n",
       "2441    [бесплодие, хронический, сальпингоофорит, хрон...\n",
       "2442    [бесплодие, хронический, сальпингоофорит, хрон...\n",
       "2443    [бесплодие, хронический, сальпингоофорит, днз,...\n",
       "2444    [бесплодие, хронический, сальпингоофорит, днз,...\n",
       "2445    [бесплодие, приобретенное, отсутствие, органа,...\n",
       "Name: w_diagnosis_mkb, Length: 2435, dtype: object"
      ]
     },
     "execution_count": 47,
     "metadata": {},
     "output_type": "execute_result"
    }
   ],
   "source": [
    "data.w_diagnosis_mkb.apply(lambda x: tokenizer.tokenize(x))"
   ]
  },
  {
   "cell_type": "code",
   "execution_count": 48,
   "id": "a47b8fde",
   "metadata": {},
   "outputs": [
    {
     "data": {
      "text/plain": [
       "'бесплодие   первичная олигоменоррея        спя        ановуляция        аит        гипотиреоз     '"
      ]
     },
     "execution_count": 48,
     "metadata": {},
     "output_type": "execute_result"
    }
   ],
   "source": [
    "data.w_diagnosis_mkb[1]"
   ]
  },
  {
   "cell_type": "code",
   "execution_count": 49,
   "id": "d74577c8",
   "metadata": {},
   "outputs": [],
   "source": [
    "model = Word2Vec(data_tok, \n",
    "                 size=32,      # embedding vector size\n",
    "                 min_count=5,  # consider words that occured at least 5 times\n",
    "                 window=5).wv  # define context as a 5-word window around the target word"
   ]
  },
  {
   "cell_type": "code",
   "execution_count": 50,
   "id": "ce8be2da",
   "metadata": {},
   "outputs": [
    {
     "data": {
      "text/plain": [
       "array([ 0.15492454, -0.03686156, -0.33866453,  0.37278432,  0.32208297,\n",
       "       -0.709258  , -0.2366251 , -0.42903507,  0.48677692,  0.40551472,\n",
       "       -0.31861338, -0.16131885,  0.61793745, -0.28894264, -0.68131745,\n",
       "       -0.11689447,  0.07560371, -0.19500482,  0.22751264, -0.31834057,\n",
       "        0.1422354 , -0.18002084, -0.1701037 ,  0.38939518, -0.36620703,\n",
       "        0.16883339, -0.15168184,  0.38401812,  0.2978683 ,  0.19299974,\n",
       "       -0.24523363,  0.40988266], dtype=float32)"
      ]
     },
     "execution_count": 50,
     "metadata": {},
     "output_type": "execute_result"
    }
   ],
   "source": [
    "model.get_vector('бесплодие')"
   ]
  },
  {
   "cell_type": "code",
   "execution_count": 51,
   "id": "8b6672fd",
   "metadata": {},
   "outputs": [],
   "source": [
    "data_tok = data.w_diagnosis_mkb.to_numpy()"
   ]
  },
  {
   "cell_type": "code",
   "execution_count": 52,
   "id": "17cac12c",
   "metadata": {},
   "outputs": [],
   "source": [
    "#model.key_to_index[\"нет\"]"
   ]
  },
  {
   "cell_type": "code",
   "execution_count": 53,
   "id": "42406357",
   "metadata": {},
   "outputs": [
    {
     "data": {
      "text/plain": [
       "dict_keys(['нет', 'бесплодие', 'первичная', 'олигоменоррея', 'спя', 'ановуляция', 'аит', 'гипотиреоз', 'хронический', 'сальпингоофорит', 'рубец', 'на', 'матке', 'кесарево', 'сечение', 'в', 'г', 'фолликулярная', 'киста', 'правого', 'яичника', 'гэ', 'снижение', 'овариального', 'резерва', 'ожирение', 'женское', 'трубно', 'перитонеальное', 'эндометрит', 'мужской', 'фактор', 'азооспремия', 'гиперпролактинемия', 'азооспермия', 'вторичное', 'перитонеальный', 'недостаточность', 'яичников', 'по', 'эндокринное', 'эктопия', 'шейки', 'матки', 'гипогонадотропная', 'аменорея', 'згт', 'нгэ', 'рецидив', 'кисты', 'левого', 'ога', 'комбинированное', 'лечение', 'ст', 'анамнезе', 'неуточненное', 'после', 'миомэктомии', 'параовариальная', 'справа', 'нормогонадотропная', 'и', 'гг', 'рубца', 'субклинический', 'обусловленное', 'эндометриозом', 'эндометриоз', 'тазовой', 'брюшины', 'пр', 'поздний', 'репродуктивный', 'возраст', 'мужским', 'фактором', 'привычное', 'невынашивание', 'беременности', 'резус', 'вынужденное', 'гиперплазия', 'эндометрия', 'репродуктив', 'миома', 'кистозная', 'аденомиоз', 'абсолютный', 'трубный', 'приобретенное', 'сторонняя', 'тубэктомия', 'медикаментозно', 'комп', 'терапия', 'неудача', 'эко', 'возр', 'другие', 'формы', 'женского', 'бесплодия', 'состояние', 'операции', 'ф', 'отсутствие', 'органа', 'аднексэктомия', 'комбинированная', 'абсолютное', 'трубное', 'аномалии', 'кариотипа', 'х', 'хх', 'избыточная', 'масса', 'тела', 'множественная', 'диффузная', 'ма', 'тубэктомии', 'эутиреоз', 'у', 'тр', 'левосторонний', 'фкб', 'молочных', 'желез', 'мат', 'неясного', 'генеза', 'тубэк', 'цистэктомия', 'выраженное', 'мастопатия', 'левой', 'связанное', 'с', 'мужскими', 'факторами', 'хрон', 'б', 'неудачи', 'резекция', 'спаечный', 'процесс', 'малом', 'тазу', 'днз', 'дефицит', 'массы', 'ремиссия', 'сочетанное', 'астенозооспермия', 'мужа', 'полового', 'партнера', 'левосторонняя', 'другими', 'н', 'трубного', 'происхождения', 'тубэкто', 'гипергомоцистеинемия', 'возра', 'узловой', 'зоб', 'синехии', 'полости', 'кесарева', 'пролеченный', 'отрицательная', 'кровь', 'впр', 'хро', 'бе', 'микроаденома', 'гипофиза', 'мес', 'агнрг', 'цикла', 'диеногест', 'двусторонняя', 'эндомет', 'му', 'яич', 'форма', 'агонисты', 'гнрг', 'дв', 'маточное', 'наружный', 'генитальный', 'полип', 'эндом', 'ди', 'хронической', 'ановуляцией', 'синдром', 'поликистозных', 'визанна', 'комб', 'эндометри', 'репроду', 'о', 'слева', 'эндометрио', 'фам', 'тератозооспермия', 'а', 'двустороняя', 'наследственная', 'хр', 'эндометриома', 'аднексит', 'маточных', 'ху', 'доброкачественная', 'дисплазия', 'к', 'обсуловленное', 'оага', 'п', 'воз', 'нарушение', 'жирового', 'обмена', 'степени', 'эндо', 'мас', 'двусторонние', 'старший', 'начальной', 'бронхиальная', 'астма', 'деформация', 'миомэктомия', 'лск', 'вторичная', 'д', 'беременност', 'энд', 'э', 'ановуляторное', 'диффузный', 'резерв', 'отсутст', 'от', 'р', 'эндоме', 'абсолютно', 'м', 'обоих', 'оса', 'двуст', 'пролеч', 'сечения', 'регресс', 'истощение', 'преждевременное', 'гипергонадотропная', 'нормопролактинемическая', 'двусторонний', 'полной', 'окклюзией', 'размеров', 'период', 'хронич', 'тубэктоми', 'т', 'двухсторонняя', 'комбинир', 'смешанное', 'во', 'отсутств', 'малого', 'таза', 'оаа', 'году', 'двусторонней', 'носитель', 'мастопат', 'овариальног', 'тромбофилия', 'гомозиготная', 'мутация', 'обеих', 'гепатит', 'поводу', 'дву', 'запаса', 'приемом', 'правой', 'молочной', 'правосторонний', 'консервативной', 'правосторонняя', 'первичное', 'аменория', 'оварэктомия', 'невынашива', 'без', 'планирование', 'рубцовая', 'эрозия', 'железы', 'железистая', 'отсу', 'ампутация', 'хрони', 'пролечен', 'ан', 'правосторонней', 'трубной', 'брющины', 'консервативная', 'развития', 'года', 'нмц', 'маточный', 'тубэ', 'менопауза', 'криптозооспермия', 'пароовариальная', 'артерий', 'рокитанского', 'кюстнера', 'яичник'])"
      ]
     },
     "execution_count": 53,
     "metadata": {},
     "output_type": "execute_result"
    }
   ],
   "source": [
    "model.vocab.keys()"
   ]
  },
  {
   "cell_type": "code",
   "execution_count": 54,
   "id": "fd69c356",
   "metadata": {},
   "outputs": [
    {
     "data": {
      "text/plain": [
       "'words = sorted(model.key_to_index, \\n               key=lambda word: model.key_to_index[word],\\n               reverse=False)[:1000]\\n\\nprint(words)'"
      ]
     },
     "execution_count": 54,
     "metadata": {},
     "output_type": "execute_result"
    }
   ],
   "source": [
    "\n",
    "'''words = sorted(model.key_to_index, \n",
    "               key=lambda word: model.key_to_index[word],\n",
    "               reverse=False)[:1000]\n",
    "\n",
    "print(words)'''"
   ]
  },
  {
   "cell_type": "code",
   "execution_count": 55,
   "id": "db37fe90",
   "metadata": {},
   "outputs": [
    {
     "name": "stdout",
     "output_type": "stream",
     "text": [
      "['бесплодие', 'сторонняя', 'пролеч', 'бронхиальная']\n"
     ]
    }
   ],
   "source": [
    "words = sorted(model.vocab.keys(), \n",
    "               key=lambda word: model.vocab[word].count,\n",
    "               reverse=True)[:1000]\n",
    "\n",
    "print(words[::100])"
   ]
  },
  {
   "cell_type": "code",
   "execution_count": 56,
   "id": "bf475427",
   "metadata": {},
   "outputs": [],
   "source": [
    "word_vectors = np.array([model.get_vector(word) for word in words])"
   ]
  },
  {
   "cell_type": "code",
   "execution_count": 57,
   "id": "9acae0dd",
   "metadata": {},
   "outputs": [
    {
     "data": {
      "text/plain": [
       "(330, 32)"
      ]
     },
     "execution_count": 57,
     "metadata": {},
     "output_type": "execute_result"
    }
   ],
   "source": [
    "word_vectors.shape"
   ]
  },
  {
   "cell_type": "code",
   "execution_count": 58,
   "id": "756431d4",
   "metadata": {},
   "outputs": [],
   "source": [
    "from sklearn.decomposition import PCA\n",
    "from sklearn.preprocessing import StandardScaler\n",
    "pca = PCA(n_components=2)\n",
    "scaler = StandardScaler()\n",
    "# map word vectors onto 2d plane with PCA. Use good old sklearn api (fit, transform)\n",
    "# after that, normalize vectors to make sure they have zero mean and unit variance\n",
    "word_vectors_pca = pca.fit_transform(word_vectors)# YOUR CODE\n",
    "word_vectors_pca = scaler.fit_transform(word_vectors_pca)\n",
    "# and maybe MORE OF YOUR CODE here :)"
   ]
  },
  {
   "cell_type": "code",
   "execution_count": 59,
   "id": "fbbb8134",
   "metadata": {},
   "outputs": [
    {
     "data": {
      "text/html": [
       "<div class=\"bk-root\">\n",
       "        <a href=\"https://bokeh.org\" target=\"_blank\" class=\"bk-logo bk-logo-small bk-logo-notebook\"></a>\n",
       "        <span id=\"1002\">Loading BokehJS ...</span>\n",
       "    </div>\n"
      ]
     },
     "metadata": {},
     "output_type": "display_data"
    },
    {
     "data": {
      "application/javascript": [
       "(function(root) {\n",
       "  function now() {\n",
       "    return new Date();\n",
       "  }\n",
       "\n",
       "  const force = true;\n",
       "\n",
       "  if (typeof root._bokeh_onload_callbacks === \"undefined\" || force === true) {\n",
       "    root._bokeh_onload_callbacks = [];\n",
       "    root._bokeh_is_loading = undefined;\n",
       "  }\n",
       "\n",
       "const JS_MIME_TYPE = 'application/javascript';\n",
       "  const HTML_MIME_TYPE = 'text/html';\n",
       "  const EXEC_MIME_TYPE = 'application/vnd.bokehjs_exec.v0+json';\n",
       "  const CLASS_NAME = 'output_bokeh rendered_html';\n",
       "\n",
       "  /**\n",
       "   * Render data to the DOM node\n",
       "   */\n",
       "  function render(props, node) {\n",
       "    const script = document.createElement(\"script\");\n",
       "    node.appendChild(script);\n",
       "  }\n",
       "\n",
       "  /**\n",
       "   * Handle when an output is cleared or removed\n",
       "   */\n",
       "  function handleClearOutput(event, handle) {\n",
       "    const cell = handle.cell;\n",
       "\n",
       "    const id = cell.output_area._bokeh_element_id;\n",
       "    const server_id = cell.output_area._bokeh_server_id;\n",
       "    // Clean up Bokeh references\n",
       "    if (id != null && id in Bokeh.index) {\n",
       "      Bokeh.index[id].model.document.clear();\n",
       "      delete Bokeh.index[id];\n",
       "    }\n",
       "\n",
       "    if (server_id !== undefined) {\n",
       "      // Clean up Bokeh references\n",
       "      const cmd_clean = \"from bokeh.io.state import curstate; print(curstate().uuid_to_server['\" + server_id + \"'].get_sessions()[0].document.roots[0]._id)\";\n",
       "      cell.notebook.kernel.execute(cmd_clean, {\n",
       "        iopub: {\n",
       "          output: function(msg) {\n",
       "            const id = msg.content.text.trim();\n",
       "            if (id in Bokeh.index) {\n",
       "              Bokeh.index[id].model.document.clear();\n",
       "              delete Bokeh.index[id];\n",
       "            }\n",
       "          }\n",
       "        }\n",
       "      });\n",
       "      // Destroy server and session\n",
       "      const cmd_destroy = \"import bokeh.io.notebook as ion; ion.destroy_server('\" + server_id + \"')\";\n",
       "      cell.notebook.kernel.execute(cmd_destroy);\n",
       "    }\n",
       "  }\n",
       "\n",
       "  /**\n",
       "   * Handle when a new output is added\n",
       "   */\n",
       "  function handleAddOutput(event, handle) {\n",
       "    const output_area = handle.output_area;\n",
       "    const output = handle.output;\n",
       "\n",
       "    // limit handleAddOutput to display_data with EXEC_MIME_TYPE content only\n",
       "    if ((output.output_type != \"display_data\") || (!Object.prototype.hasOwnProperty.call(output.data, EXEC_MIME_TYPE))) {\n",
       "      return\n",
       "    }\n",
       "\n",
       "    const toinsert = output_area.element.find(\".\" + CLASS_NAME.split(' ')[0]);\n",
       "\n",
       "    if (output.metadata[EXEC_MIME_TYPE][\"id\"] !== undefined) {\n",
       "      toinsert[toinsert.length - 1].firstChild.textContent = output.data[JS_MIME_TYPE];\n",
       "      // store reference to embed id on output_area\n",
       "      output_area._bokeh_element_id = output.metadata[EXEC_MIME_TYPE][\"id\"];\n",
       "    }\n",
       "    if (output.metadata[EXEC_MIME_TYPE][\"server_id\"] !== undefined) {\n",
       "      const bk_div = document.createElement(\"div\");\n",
       "      bk_div.innerHTML = output.data[HTML_MIME_TYPE];\n",
       "      const script_attrs = bk_div.children[0].attributes;\n",
       "      for (let i = 0; i < script_attrs.length; i++) {\n",
       "        toinsert[toinsert.length - 1].firstChild.setAttribute(script_attrs[i].name, script_attrs[i].value);\n",
       "        toinsert[toinsert.length - 1].firstChild.textContent = bk_div.children[0].textContent\n",
       "      }\n",
       "      // store reference to server id on output_area\n",
       "      output_area._bokeh_server_id = output.metadata[EXEC_MIME_TYPE][\"server_id\"];\n",
       "    }\n",
       "  }\n",
       "\n",
       "  function register_renderer(events, OutputArea) {\n",
       "\n",
       "    function append_mime(data, metadata, element) {\n",
       "      // create a DOM node to render to\n",
       "      const toinsert = this.create_output_subarea(\n",
       "        metadata,\n",
       "        CLASS_NAME,\n",
       "        EXEC_MIME_TYPE\n",
       "      );\n",
       "      this.keyboard_manager.register_events(toinsert);\n",
       "      // Render to node\n",
       "      const props = {data: data, metadata: metadata[EXEC_MIME_TYPE]};\n",
       "      render(props, toinsert[toinsert.length - 1]);\n",
       "      element.append(toinsert);\n",
       "      return toinsert\n",
       "    }\n",
       "\n",
       "    /* Handle when an output is cleared or removed */\n",
       "    events.on('clear_output.CodeCell', handleClearOutput);\n",
       "    events.on('delete.Cell', handleClearOutput);\n",
       "\n",
       "    /* Handle when a new output is added */\n",
       "    events.on('output_added.OutputArea', handleAddOutput);\n",
       "\n",
       "    /**\n",
       "     * Register the mime type and append_mime function with output_area\n",
       "     */\n",
       "    OutputArea.prototype.register_mime_type(EXEC_MIME_TYPE, append_mime, {\n",
       "      /* Is output safe? */\n",
       "      safe: true,\n",
       "      /* Index of renderer in `output_area.display_order` */\n",
       "      index: 0\n",
       "    });\n",
       "  }\n",
       "\n",
       "  // register the mime type if in Jupyter Notebook environment and previously unregistered\n",
       "  if (root.Jupyter !== undefined) {\n",
       "    const events = require('base/js/events');\n",
       "    const OutputArea = require('notebook/js/outputarea').OutputArea;\n",
       "\n",
       "    if (OutputArea.prototype.mime_types().indexOf(EXEC_MIME_TYPE) == -1) {\n",
       "      register_renderer(events, OutputArea);\n",
       "    }\n",
       "  }\n",
       "  if (typeof (root._bokeh_timeout) === \"undefined\" || force === true) {\n",
       "    root._bokeh_timeout = Date.now() + 5000;\n",
       "    root._bokeh_failed_load = false;\n",
       "  }\n",
       "\n",
       "  const NB_LOAD_WARNING = {'data': {'text/html':\n",
       "     \"<div style='background-color: #fdd'>\\n\"+\n",
       "     \"<p>\\n\"+\n",
       "     \"BokehJS does not appear to have successfully loaded. If loading BokehJS from CDN, this \\n\"+\n",
       "     \"may be due to a slow or bad network connection. Possible fixes:\\n\"+\n",
       "     \"</p>\\n\"+\n",
       "     \"<ul>\\n\"+\n",
       "     \"<li>re-rerun `output_notebook()` to attempt to load from CDN again, or</li>\\n\"+\n",
       "     \"<li>use INLINE resources instead, as so:</li>\\n\"+\n",
       "     \"</ul>\\n\"+\n",
       "     \"<code>\\n\"+\n",
       "     \"from bokeh.resources import INLINE\\n\"+\n",
       "     \"output_notebook(resources=INLINE)\\n\"+\n",
       "     \"</code>\\n\"+\n",
       "     \"</div>\"}};\n",
       "\n",
       "  function display_loaded() {\n",
       "    const el = document.getElementById(\"1002\");\n",
       "    if (el != null) {\n",
       "      el.textContent = \"BokehJS is loading...\";\n",
       "    }\n",
       "    if (root.Bokeh !== undefined) {\n",
       "      if (el != null) {\n",
       "        el.textContent = \"BokehJS \" + root.Bokeh.version + \" successfully loaded.\";\n",
       "      }\n",
       "    } else if (Date.now() < root._bokeh_timeout) {\n",
       "      setTimeout(display_loaded, 100)\n",
       "    }\n",
       "  }\n",
       "\n",
       "  function run_callbacks() {\n",
       "    try {\n",
       "      root._bokeh_onload_callbacks.forEach(function(callback) {\n",
       "        if (callback != null)\n",
       "          callback();\n",
       "      });\n",
       "    } finally {\n",
       "      delete root._bokeh_onload_callbacks\n",
       "    }\n",
       "    console.debug(\"Bokeh: all callbacks have finished\");\n",
       "  }\n",
       "\n",
       "  function load_libs(css_urls, js_urls, callback) {\n",
       "    if (css_urls == null) css_urls = [];\n",
       "    if (js_urls == null) js_urls = [];\n",
       "\n",
       "    root._bokeh_onload_callbacks.push(callback);\n",
       "    if (root._bokeh_is_loading > 0) {\n",
       "      console.debug(\"Bokeh: BokehJS is being loaded, scheduling callback at\", now());\n",
       "      return null;\n",
       "    }\n",
       "    if (js_urls == null || js_urls.length === 0) {\n",
       "      run_callbacks();\n",
       "      return null;\n",
       "    }\n",
       "    console.debug(\"Bokeh: BokehJS not loaded, scheduling load and callback at\", now());\n",
       "    root._bokeh_is_loading = css_urls.length + js_urls.length;\n",
       "\n",
       "    function on_load() {\n",
       "      root._bokeh_is_loading--;\n",
       "      if (root._bokeh_is_loading === 0) {\n",
       "        console.debug(\"Bokeh: all BokehJS libraries/stylesheets loaded\");\n",
       "        run_callbacks()\n",
       "      }\n",
       "    }\n",
       "\n",
       "    function on_error(url) {\n",
       "      console.error(\"failed to load \" + url);\n",
       "    }\n",
       "\n",
       "    for (let i = 0; i < css_urls.length; i++) {\n",
       "      const url = css_urls[i];\n",
       "      const element = document.createElement(\"link\");\n",
       "      element.onload = on_load;\n",
       "      element.onerror = on_error.bind(null, url);\n",
       "      element.rel = \"stylesheet\";\n",
       "      element.type = \"text/css\";\n",
       "      element.href = url;\n",
       "      console.debug(\"Bokeh: injecting link tag for BokehJS stylesheet: \", url);\n",
       "      document.body.appendChild(element);\n",
       "    }\n",
       "\n",
       "    for (let i = 0; i < js_urls.length; i++) {\n",
       "      const url = js_urls[i];\n",
       "      const element = document.createElement('script');\n",
       "      element.onload = on_load;\n",
       "      element.onerror = on_error.bind(null, url);\n",
       "      element.async = false;\n",
       "      element.src = url;\n",
       "      console.debug(\"Bokeh: injecting script tag for BokehJS library: \", url);\n",
       "      document.head.appendChild(element);\n",
       "    }\n",
       "  };\n",
       "\n",
       "  function inject_raw_css(css) {\n",
       "    const element = document.createElement(\"style\");\n",
       "    element.appendChild(document.createTextNode(css));\n",
       "    document.body.appendChild(element);\n",
       "  }\n",
       "\n",
       "  const js_urls = [\"https://cdn.bokeh.org/bokeh/release/bokeh-2.4.3.min.js\", \"https://cdn.bokeh.org/bokeh/release/bokeh-gl-2.4.3.min.js\", \"https://cdn.bokeh.org/bokeh/release/bokeh-widgets-2.4.3.min.js\", \"https://cdn.bokeh.org/bokeh/release/bokeh-tables-2.4.3.min.js\", \"https://cdn.bokeh.org/bokeh/release/bokeh-mathjax-2.4.3.min.js\"];\n",
       "  const css_urls = [];\n",
       "\n",
       "  const inline_js = [    function(Bokeh) {\n",
       "      Bokeh.set_log_level(\"info\");\n",
       "    },\n",
       "function(Bokeh) {\n",
       "    }\n",
       "  ];\n",
       "\n",
       "  function run_inline_js() {\n",
       "    if (root.Bokeh !== undefined || force === true) {\n",
       "          for (let i = 0; i < inline_js.length; i++) {\n",
       "      inline_js[i].call(root, root.Bokeh);\n",
       "    }\n",
       "if (force === true) {\n",
       "        display_loaded();\n",
       "      }} else if (Date.now() < root._bokeh_timeout) {\n",
       "      setTimeout(run_inline_js, 100);\n",
       "    } else if (!root._bokeh_failed_load) {\n",
       "      console.log(\"Bokeh: BokehJS failed to load within specified timeout.\");\n",
       "      root._bokeh_failed_load = true;\n",
       "    } else if (force !== true) {\n",
       "      const cell = $(document.getElementById(\"1002\")).parents('.cell').data().cell;\n",
       "      cell.output_area.append_execute_result(NB_LOAD_WARNING)\n",
       "    }\n",
       "  }\n",
       "\n",
       "  if (root._bokeh_is_loading === 0) {\n",
       "    console.debug(\"Bokeh: BokehJS loaded, going straight to plotting\");\n",
       "    run_inline_js();\n",
       "  } else {\n",
       "    load_libs(css_urls, js_urls, function() {\n",
       "      console.debug(\"Bokeh: BokehJS plotting callback run at\", now());\n",
       "      run_inline_js();\n",
       "    });\n",
       "  }\n",
       "}(window));"
      ],
      "application/vnd.bokehjs_load.v0+json": "(function(root) {\n  function now() {\n    return new Date();\n  }\n\n  const force = true;\n\n  if (typeof root._bokeh_onload_callbacks === \"undefined\" || force === true) {\n    root._bokeh_onload_callbacks = [];\n    root._bokeh_is_loading = undefined;\n  }\n\n\n  if (typeof (root._bokeh_timeout) === \"undefined\" || force === true) {\n    root._bokeh_timeout = Date.now() + 5000;\n    root._bokeh_failed_load = false;\n  }\n\n  const NB_LOAD_WARNING = {'data': {'text/html':\n     \"<div style='background-color: #fdd'>\\n\"+\n     \"<p>\\n\"+\n     \"BokehJS does not appear to have successfully loaded. If loading BokehJS from CDN, this \\n\"+\n     \"may be due to a slow or bad network connection. Possible fixes:\\n\"+\n     \"</p>\\n\"+\n     \"<ul>\\n\"+\n     \"<li>re-rerun `output_notebook()` to attempt to load from CDN again, or</li>\\n\"+\n     \"<li>use INLINE resources instead, as so:</li>\\n\"+\n     \"</ul>\\n\"+\n     \"<code>\\n\"+\n     \"from bokeh.resources import INLINE\\n\"+\n     \"output_notebook(resources=INLINE)\\n\"+\n     \"</code>\\n\"+\n     \"</div>\"}};\n\n  function display_loaded() {\n    const el = document.getElementById(\"1002\");\n    if (el != null) {\n      el.textContent = \"BokehJS is loading...\";\n    }\n    if (root.Bokeh !== undefined) {\n      if (el != null) {\n        el.textContent = \"BokehJS \" + root.Bokeh.version + \" successfully loaded.\";\n      }\n    } else if (Date.now() < root._bokeh_timeout) {\n      setTimeout(display_loaded, 100)\n    }\n  }\n\n  function run_callbacks() {\n    try {\n      root._bokeh_onload_callbacks.forEach(function(callback) {\n        if (callback != null)\n          callback();\n      });\n    } finally {\n      delete root._bokeh_onload_callbacks\n    }\n    console.debug(\"Bokeh: all callbacks have finished\");\n  }\n\n  function load_libs(css_urls, js_urls, callback) {\n    if (css_urls == null) css_urls = [];\n    if (js_urls == null) js_urls = [];\n\n    root._bokeh_onload_callbacks.push(callback);\n    if (root._bokeh_is_loading > 0) {\n      console.debug(\"Bokeh: BokehJS is being loaded, scheduling callback at\", now());\n      return null;\n    }\n    if (js_urls == null || js_urls.length === 0) {\n      run_callbacks();\n      return null;\n    }\n    console.debug(\"Bokeh: BokehJS not loaded, scheduling load and callback at\", now());\n    root._bokeh_is_loading = css_urls.length + js_urls.length;\n\n    function on_load() {\n      root._bokeh_is_loading--;\n      if (root._bokeh_is_loading === 0) {\n        console.debug(\"Bokeh: all BokehJS libraries/stylesheets loaded\");\n        run_callbacks()\n      }\n    }\n\n    function on_error(url) {\n      console.error(\"failed to load \" + url);\n    }\n\n    for (let i = 0; i < css_urls.length; i++) {\n      const url = css_urls[i];\n      const element = document.createElement(\"link\");\n      element.onload = on_load;\n      element.onerror = on_error.bind(null, url);\n      element.rel = \"stylesheet\";\n      element.type = \"text/css\";\n      element.href = url;\n      console.debug(\"Bokeh: injecting link tag for BokehJS stylesheet: \", url);\n      document.body.appendChild(element);\n    }\n\n    for (let i = 0; i < js_urls.length; i++) {\n      const url = js_urls[i];\n      const element = document.createElement('script');\n      element.onload = on_load;\n      element.onerror = on_error.bind(null, url);\n      element.async = false;\n      element.src = url;\n      console.debug(\"Bokeh: injecting script tag for BokehJS library: \", url);\n      document.head.appendChild(element);\n    }\n  };\n\n  function inject_raw_css(css) {\n    const element = document.createElement(\"style\");\n    element.appendChild(document.createTextNode(css));\n    document.body.appendChild(element);\n  }\n\n  const js_urls = [\"https://cdn.bokeh.org/bokeh/release/bokeh-2.4.3.min.js\", \"https://cdn.bokeh.org/bokeh/release/bokeh-gl-2.4.3.min.js\", \"https://cdn.bokeh.org/bokeh/release/bokeh-widgets-2.4.3.min.js\", \"https://cdn.bokeh.org/bokeh/release/bokeh-tables-2.4.3.min.js\", \"https://cdn.bokeh.org/bokeh/release/bokeh-mathjax-2.4.3.min.js\"];\n  const css_urls = [];\n\n  const inline_js = [    function(Bokeh) {\n      Bokeh.set_log_level(\"info\");\n    },\nfunction(Bokeh) {\n    }\n  ];\n\n  function run_inline_js() {\n    if (root.Bokeh !== undefined || force === true) {\n          for (let i = 0; i < inline_js.length; i++) {\n      inline_js[i].call(root, root.Bokeh);\n    }\nif (force === true) {\n        display_loaded();\n      }} else if (Date.now() < root._bokeh_timeout) {\n      setTimeout(run_inline_js, 100);\n    } else if (!root._bokeh_failed_load) {\n      console.log(\"Bokeh: BokehJS failed to load within specified timeout.\");\n      root._bokeh_failed_load = true;\n    } else if (force !== true) {\n      const cell = $(document.getElementById(\"1002\")).parents('.cell').data().cell;\n      cell.output_area.append_execute_result(NB_LOAD_WARNING)\n    }\n  }\n\n  if (root._bokeh_is_loading === 0) {\n    console.debug(\"Bokeh: BokehJS loaded, going straight to plotting\");\n    run_inline_js();\n  } else {\n    load_libs(css_urls, js_urls, function() {\n      console.debug(\"Bokeh: BokehJS plotting callback run at\", now());\n      run_inline_js();\n    });\n  }\n}(window));"
     },
     "metadata": {},
     "output_type": "display_data"
    }
   ],
   "source": [
    "import bokeh.models as bm, bokeh.plotting as pl\n",
    "from bokeh.io import output_notebook\n",
    "output_notebook()\n",
    "\n",
    "def draw_vectors(x, y, radius=10, alpha=0.25, color='blue',\n",
    "                 width=600, height=400, show=True, **kwargs):\n",
    "    \"\"\" draws an interactive plot for data points with auxilirary info on hover \"\"\"\n",
    "    if isinstance(color, str): color = [color] * len(x)\n",
    "    data_source = bm.ColumnDataSource({ 'x' : x, 'y' : y, 'color': color, **kwargs })\n",
    "\n",
    "    fig = pl.figure(active_scroll='wheel_zoom', width=width, height=height)\n",
    "    fig.scatter('x', 'y', size=radius, color='color', alpha=alpha, source=data_source)\n",
    "\n",
    "    fig.add_tools(bm.HoverTool(tooltips=[(key, \"@\" + key) for key in kwargs.keys()]))\n",
    "    if show: pl.show(fig)\n",
    "    return fig"
   ]
  },
  {
   "cell_type": "code",
   "execution_count": 60,
   "id": "35998785",
   "metadata": {},
   "outputs": [
    {
     "data": {
      "text/html": [
       "\n",
       "  <div class=\"bk-root\" id=\"4ca2f8fb-951f-4ab3-b29c-8d5e2c4f9754\" data-root-id=\"1004\"></div>\n"
      ]
     },
     "metadata": {},
     "output_type": "display_data"
    },
    {
     "data": {
      "application/javascript": [
       "(function(root) {\n",
       "  function embed_document(root) {\n",
       "  const docs_json = {\"3b404305-dc75-4a0e-8608-1a768484be7e\":{\"defs\":[],\"roots\":{\"references\":[{\"attributes\":{\"below\":[{\"id\":\"1013\"}],\"center\":[{\"id\":\"1016\"},{\"id\":\"1020\"}],\"height\":400,\"left\":[{\"id\":\"1017\"}],\"renderers\":[{\"id\":\"1039\"}],\"title\":{\"id\":\"1043\"},\"toolbar\":{\"id\":\"1028\"},\"x_range\":{\"id\":\"1005\"},\"x_scale\":{\"id\":\"1009\"},\"y_range\":{\"id\":\"1007\"},\"y_scale\":{\"id\":\"1011\"}},\"id\":\"1004\",\"subtype\":\"Figure\",\"type\":\"Plot\"},{\"attributes\":{\"coordinates\":null,\"formatter\":{\"id\":\"1049\"},\"group\":null,\"major_label_policy\":{\"id\":\"1050\"},\"ticker\":{\"id\":\"1014\"}},\"id\":\"1013\",\"type\":\"LinearAxis\"},{\"attributes\":{\"axis\":{\"id\":\"1017\"},\"coordinates\":null,\"dimension\":1,\"group\":null,\"ticker\":null},\"id\":\"1020\",\"type\":\"Grid\"},{\"attributes\":{\"coordinates\":null,\"data_source\":{\"id\":\"1003\"},\"glyph\":{\"id\":\"1036\"},\"group\":null,\"hover_glyph\":null,\"muted_glyph\":{\"id\":\"1038\"},\"nonselection_glyph\":{\"id\":\"1037\"},\"view\":{\"id\":\"1040\"}},\"id\":\"1039\",\"type\":\"GlyphRenderer\"},{\"attributes\":{},\"id\":\"1049\",\"type\":\"BasicTickFormatter\"},{\"attributes\":{},\"id\":\"1047\",\"type\":\"AllLabels\"},{\"attributes\":{},\"id\":\"1018\",\"type\":\"BasicTicker\"},{\"attributes\":{\"fill_alpha\":{\"value\":0.2},\"fill_color\":{\"field\":\"color\"},\"hatch_alpha\":{\"value\":0.2},\"hatch_color\":{\"field\":\"color\"},\"line_alpha\":{\"value\":0.2},\"line_color\":{\"field\":\"color\"},\"size\":{\"value\":10},\"x\":{\"field\":\"x\"},\"y\":{\"field\":\"y\"}},\"id\":\"1038\",\"type\":\"Scatter\"},{\"attributes\":{\"coordinates\":null,\"formatter\":{\"id\":\"1046\"},\"group\":null,\"major_label_policy\":{\"id\":\"1047\"},\"ticker\":{\"id\":\"1018\"}},\"id\":\"1017\",\"type\":\"LinearAxis\"},{\"attributes\":{\"data\":{\"color\":[\"blue\",\"blue\",\"blue\",\"blue\",\"blue\",\"blue\",\"blue\",\"blue\",\"blue\",\"blue\",\"blue\",\"blue\",\"blue\",\"blue\",\"blue\",\"blue\",\"blue\",\"blue\",\"blue\",\"blue\",\"blue\",\"blue\",\"blue\",\"blue\",\"blue\",\"blue\",\"blue\",\"blue\",\"blue\",\"blue\",\"blue\",\"blue\",\"blue\",\"blue\",\"blue\",\"blue\",\"blue\",\"blue\",\"blue\",\"blue\",\"blue\",\"blue\",\"blue\",\"blue\",\"blue\",\"blue\",\"blue\",\"blue\",\"blue\",\"blue\",\"blue\",\"blue\",\"blue\",\"blue\",\"blue\",\"blue\",\"blue\",\"blue\",\"blue\",\"blue\",\"blue\",\"blue\",\"blue\",\"blue\",\"blue\",\"blue\",\"blue\",\"blue\",\"blue\",\"blue\",\"blue\",\"blue\",\"blue\",\"blue\",\"blue\",\"blue\",\"blue\",\"blue\",\"blue\",\"blue\",\"blue\",\"blue\",\"blue\",\"blue\",\"blue\",\"blue\",\"blue\",\"blue\",\"blue\",\"blue\",\"blue\",\"blue\",\"blue\",\"blue\",\"blue\",\"blue\",\"blue\",\"blue\",\"blue\",\"blue\",\"blue\",\"blue\",\"blue\",\"blue\",\"blue\",\"blue\",\"blue\",\"blue\",\"blue\",\"blue\",\"blue\",\"blue\",\"blue\",\"blue\",\"blue\",\"blue\",\"blue\",\"blue\",\"blue\",\"blue\",\"blue\",\"blue\",\"blue\",\"blue\",\"blue\",\"blue\",\"blue\",\"blue\",\"blue\",\"blue\",\"blue\",\"blue\",\"blue\",\"blue\",\"blue\",\"blue\",\"blue\",\"blue\",\"blue\",\"blue\",\"blue\",\"blue\",\"blue\",\"blue\",\"blue\",\"blue\",\"blue\",\"blue\",\"blue\",\"blue\",\"blue\",\"blue\",\"blue\",\"blue\",\"blue\",\"blue\",\"blue\",\"blue\",\"blue\",\"blue\",\"blue\",\"blue\",\"blue\",\"blue\",\"blue\",\"blue\",\"blue\",\"blue\",\"blue\",\"blue\",\"blue\",\"blue\",\"blue\",\"blue\",\"blue\",\"blue\",\"blue\",\"blue\",\"blue\",\"blue\",\"blue\",\"blue\",\"blue\",\"blue\",\"blue\",\"blue\",\"blue\",\"blue\",\"blue\",\"blue\",\"blue\",\"blue\",\"blue\",\"blue\",\"blue\",\"blue\",\"blue\",\"blue\",\"blue\",\"blue\",\"blue\",\"blue\",\"blue\",\"blue\",\"blue\",\"blue\",\"blue\",\"blue\",\"blue\",\"blue\",\"blue\",\"blue\",\"blue\",\"blue\",\"blue\",\"blue\",\"blue\",\"blue\",\"blue\",\"blue\",\"blue\",\"blue\",\"blue\",\"blue\",\"blue\",\"blue\",\"blue\",\"blue\",\"blue\",\"blue\",\"blue\",\"blue\",\"blue\",\"blue\",\"blue\",\"blue\",\"blue\",\"blue\",\"blue\",\"blue\",\"blue\",\"blue\",\"blue\",\"blue\",\"blue\",\"blue\",\"blue\",\"blue\",\"blue\",\"blue\",\"blue\",\"blue\",\"blue\",\"blue\",\"blue\",\"blue\",\"blue\",\"blue\",\"blue\",\"blue\",\"blue\",\"blue\",\"blue\",\"blue\",\"blue\",\"blue\",\"blue\",\"blue\",\"blue\",\"blue\",\"blue\",\"blue\",\"blue\",\"blue\",\"blue\",\"blue\",\"blue\",\"blue\",\"blue\",\"blue\",\"blue\",\"blue\",\"blue\",\"blue\",\"blue\",\"blue\",\"blue\",\"blue\",\"blue\",\"blue\",\"blue\",\"blue\",\"blue\",\"blue\",\"blue\",\"blue\",\"blue\",\"blue\",\"blue\",\"blue\",\"blue\",\"blue\",\"blue\",\"blue\",\"blue\",\"blue\",\"blue\",\"blue\",\"blue\",\"blue\",\"blue\",\"blue\",\"blue\",\"blue\",\"blue\",\"blue\",\"blue\",\"blue\",\"blue\",\"blue\",\"blue\",\"blue\",\"blue\",\"blue\",\"blue\",\"blue\",\"blue\",\"blue\",\"blue\",\"blue\"],\"token\":[\"\\u0431\\u0435\\u0441\\u043f\\u043b\\u043e\\u0434\\u0438\\u0435\",\"\\u0445\\u0440\\u043e\\u043d\\u0438\\u0447\\u0435\\u0441\\u043a\\u0438\\u0439\",\"\\u0444\\u0430\\u043a\\u0442\\u043e\\u0440\",\"\\u043c\\u0443\\u0436\\u0441\\u043a\\u043e\\u0439\",\"\\u0441\\u0430\\u043b\\u044c\\u043f\\u0438\\u043d\\u0433\\u043e\\u043e\\u0444\\u043e\\u0440\\u0438\\u0442\",\"\\u0432\",\"\\u0436\\u0435\\u043d\\u0441\\u043a\\u043e\\u0435\",\"\\u043c\\u0430\\u0442\\u043a\\u0438\",\"\\u0442\\u0440\\u0443\\u0431\\u043d\\u043e\",\"\\u043d\\u0433\\u044d\",\"\\u044d\\u043d\\u0434\\u043e\\u043c\\u0435\\u0442\\u0440\\u0438\\u0442\",\"\\u043f\\u0435\\u0440\\u0438\\u0442\\u043e\\u043d\\u0435\\u0430\\u043b\\u044c\\u043d\\u043e\\u0435\",\"\\u043c\\u0438\\u043e\\u043c\\u0430\",\"\\u043f\\u0440\\u0438\\u043e\\u0431\\u0440\\u0435\\u0442\\u0435\\u043d\\u043d\\u043e\\u0435\",\"\\u043e\\u0431\\u0443\\u0441\\u043b\\u043e\\u0432\\u043b\\u0435\\u043d\\u043d\\u043e\\u0435\",\"\\u043e\\u0442\\u0441\\u0443\\u0442\\u0441\\u0442\\u0432\\u0438\\u0435\",\"\\u0430\\u0434\\u0435\\u043d\\u043e\\u043c\\u0438\\u043e\\u0437\",\"\\u044d\\u043d\\u0434\\u043e\\u043c\\u0435\\u0442\\u0440\\u0438\\u043e\\u0437\",\"\\u043f\\u043e\\u0437\\u0434\\u043d\\u0438\\u0439\",\"\\u043e\\u0440\\u0433\\u0430\\u043d\\u0430\",\"\\u043d\\u0430\",\"\\u0433\",\"\\u043c\\u0430\\u0442\\u043a\\u0435\",\"\\u0440\\u0443\\u0431\\u0435\\u0446\",\"\\u0430\\u043d\\u0430\\u043c\\u043d\\u0435\\u0437\\u0435\",\"\\u0440\\u0435\\u043f\\u0440\\u043e\\u0434\\u0443\\u043a\\u0442\\u0438\\u0432\\u043d\\u044b\\u0439\",\"\\u0441\\u0442\",\"\\u0441\\u043d\\u0438\\u0436\\u0435\\u043d\\u0438\\u0435\",\"\\u0442\\u0443\\u0431\\u044d\\u043a\\u0442\\u043e\\u043c\\u0438\\u044f\",\"\\u043d\\u0435\\u0432\\u044b\\u043d\\u0430\\u0448\\u0438\\u0432\\u0430\\u043d\\u0438\\u0435\",\"\\u043c\\u0443\\u0436\\u0441\\u043a\\u0438\\u043c\",\"\\u0441\\u043e\\u0447\\u0435\\u0442\\u0430\\u043d\\u043d\\u043e\\u0435\",\"\\u0444\\u0430\\u043a\\u0442\\u043e\\u0440\\u043e\\u043c\",\"\\u043f\\u043e\\u0441\\u043b\\u0435\",\"\\u0430\\u043d\\u043e\\u0432\\u0443\\u043b\\u044f\\u0446\\u0438\\u044f\",\"\\u043d\\u0435\\u0442\",\"\\u044f\\u0438\\u0447\\u043d\\u0438\\u043a\\u043e\\u0432\",\"\\u043e\\u0432\\u0430\\u0440\\u0438\\u0430\\u043b\\u044c\\u043d\\u043e\\u0433\\u043e\",\"\\u0432\\u043e\\u0437\\u0440\\u0430\\u0441\\u0442\",\"\\u0442\\u0435\\u043b\\u0430\",\"\\u0442\\u0430\\u0437\\u043e\\u0432\\u043e\\u0439\",\"\\u0431\\u0435\\u0440\\u0435\\u043c\\u0435\\u043d\\u043d\\u043e\\u0441\\u0442\\u0438\",\"\\u0442\\u0440\\u0443\\u0431\\u043d\\u043e\\u0435\",\"\\u043e\\u0433\\u0430\",\"\\u0431\\u0440\\u044e\\u0448\\u0438\\u043d\\u044b\",\"\\u0441\",\"\\u0440\\u0435\\u0437\\u0435\\u0440\\u0432\\u0430\",\"\\u0441\\u043f\\u044f\",\"\\u044d\\u043d\\u0434\\u043e\\u043c\\u0435\\u0442\\u0440\\u0438\\u043e\\u0437\\u043e\\u043c\",\"\\u043d\\u0435\\u0443\\u0442\\u043e\\u0447\\u043d\\u0435\\u043d\\u043d\\u043e\\u0435\",\"\\u0434\\u0440\\u0443\\u0433\\u0438\\u0435\",\"\\u0444\\u043e\\u0440\\u043c\\u044b\",\"\\u0431\\u0435\\u0441\\u043f\\u043b\\u043e\\u0434\\u0438\\u044f\",\"\\u0436\\u0435\\u043d\\u0441\\u043a\\u043e\\u0433\\u043e\",\"\\u044f\\u0438\\u0447\\u043d\\u0438\\u043a\\u0430\",\"\\u0442\\u0440\\u0443\\u0431\\u043d\\u044b\\u0439\",\"\\u0438\\u0437\\u0431\\u044b\\u0442\\u043e\\u0447\\u043d\\u0430\\u044f\",\"\\u0441\\u043f\\u0430\\u0435\\u0447\\u043d\\u044b\\u0439\",\"\\u0440\\u0435\\u043c\\u0438\\u0441\\u0441\\u0438\\u044f\",\"\\u043a\\u043e\\u043c\\u0431\\u0438\\u043d\\u0438\\u0440\\u043e\\u0432\\u0430\\u043d\\u043d\\u043e\\u0435\",\"\\u043f\\u0440\\u0438\\u0432\\u044b\\u0447\\u043d\\u043e\\u0435\",\"\\u0430\\u0431\\u0441\\u043e\\u043b\\u044e\\u0442\\u043d\\u043e\\u0435\",\"\\u043c\\u0430\\u0441\\u0441\\u0430\",\"\\u0433\\u0435\\u043d\\u0435\\u0437\\u0430\",\"\\u0430\\u0438\\u0442\",\"\\u043b\\u0435\\u0447\\u0435\\u043d\\u0438\\u0435\",\"\\u043d\\u0435\\u044f\\u0441\\u043d\\u043e\\u0433\\u043e\",\"\\u043f\\u0440\\u043e\\u0446\\u0435\\u0441\\u0441\",\"\\u0440\\u0435\\u0437\\u0443\\u0441\",\"\\u0441\\u043e\\u0441\\u0442\\u043e\\u044f\\u043d\\u0438\\u0435\",\"\\u0438\",\"\\u043a\\u0435\\u0441\\u0430\\u0440\\u0435\\u0432\\u043e\",\"\\u0440\\u0435\\u0437\\u0435\\u043a\\u0446\\u0438\\u044f\",\"\\u0445\\u0440\",\"\\u0441\\u043f\\u0440\\u0430\\u0432\\u0430\",\"\\u0434\\u0435\\u0444\\u0438\\u0446\\u0438\\u0442\",\"\\u0441\\u0435\\u0447\\u0435\\u043d\\u0438\\u0435\",\"\\u043c\\u0430\\u0441\\u0441\\u044b\",\"\\u043e\\u0442\\u0440\\u0438\\u0446\\u0430\\u0442\\u0435\\u043b\\u044c\\u043d\\u0430\\u044f\",\"\\u043f\\u043e\",\"\\u043f\\u0440\\u0430\\u0432\\u043e\\u0433\\u043e\",\"\\u0441\\u0432\\u044f\\u0437\\u0430\\u043d\\u043d\\u043e\\u0435\",\"\\u043f\\u0440\\u043e\\u0438\\u0441\\u0445\\u043e\\u0436\\u0434\\u0435\\u043d\\u0438\\u044f\",\"\\u0442\\u0440\\u0443\\u0431\\u043d\\u043e\\u0433\\u043e\",\"\\u0434\\u0432\\u0443\\u0441\\u0442\\u043e\\u0440\\u043e\\u043d\\u043d\\u044f\\u044f\",\"\\u043a\\u0438\\u0441\\u0442\\u0430\",\"\\u043a\\u0440\\u043e\\u0432\\u044c\",\"\\u0434\\u0438\\u0444\\u0444\\u0443\\u0437\\u043d\\u0430\\u044f\",\"\\u043f\\u0435\\u0440\\u0438\\u0442\\u043e\\u043d\\u0435\\u0430\\u043b\\u044c\\u043d\\u044b\\u0439\",\"\\u0448\\u0435\\u0439\\u043a\\u0438\",\"\\u043c\\u0430\\u043b\\u043e\\u043c\",\"\\u0444\\u0430\\u043a\\u0442\\u043e\\u0440\\u0430\\u043c\\u0438\",\"\\u0441\\u043b\\u0435\\u0432\\u0430\",\"\\u043c\\u0438\\u043e\\u043c\\u044d\\u043a\\u0442\\u043e\\u043c\\u0438\\u044f\",\"\\u0443\",\"\\u0433\\u0438\\u043f\\u0435\\u0440\\u043f\\u0440\\u043e\\u043b\\u0430\\u043a\\u0442\\u0438\\u043d\\u0435\\u043c\\u0438\\u044f\",\"\\u044d\\u043d\\u0434\\u043e\\u043a\\u0440\\u0438\\u043d\\u043d\\u043e\\u0435\",\"\\u0442\\u0430\\u0437\\u0443\",\"\\u043b\\u0435\\u0432\\u043e\\u0433\\u043e\",\"\\u043c\\u0443\\u0436\\u0441\\u043a\\u0438\\u043c\\u0438\",\"\\u0441\\u0442\\u043e\\u0440\\u043e\\u043d\\u043d\\u044f\\u044f\",\"\\u043d\\u0435\\u0434\\u043e\\u0441\\u0442\\u0430\\u0442\\u043e\\u0447\\u043d\\u043e\\u0441\\u0442\\u044c\",\"\\u043c\\u0443\\u0436\\u0430\",\"\\u043d\\u0430\\u0440\\u0443\\u0448\\u0435\\u043d\\u0438\\u0435\",\"\\u0434\\u0432\\u0443\\u0445\\u0441\\u0442\\u043e\\u0440\\u043e\\u043d\\u043d\\u044f\\u044f\",\"\\u0430\\u0433\\u043d\\u0440\\u0433\",\"\\u044d\\u043d\\u0434\\u043e\\u043c\\u0435\\u0442\\u0440\\u0438\\u044f\",\"\\u043a\\u0438\\u0441\\u0442\\u043e\\u0437\\u043d\\u0430\\u044f\",\"\\u0430\\u0431\\u0441\\u043e\\u043b\\u044e\\u0442\\u043d\\u044b\\u0439\",\"\\u0442\\u0435\\u0440\\u0430\\u043f\\u0438\\u044f\",\"\\u0437\\u043e\\u0431\",\"\\u0430\\u0431\\u0441\\u043e\\u043b\\u044e\\u0442\\u043d\\u043e\",\"\\u043f\\u0435\\u0440\\u0432\\u0438\\u0447\\u043d\\u0430\\u044f\",\"\\u0433\\u0438\\u043f\\u043e\\u0442\\u0438\\u0440\\u0435\\u043e\\u0437\",\"\\u0430\\u0437\\u043e\\u043e\\u0441\\u043f\\u0435\\u0440\\u043c\\u0438\\u044f\",\"\\u043f\\u043e\\u043b\\u043e\\u0432\\u043e\\u0433\\u043e\",\"\\u043e\\u043b\\u0438\\u0433\\u043e\\u043c\\u0435\\u043d\\u043e\\u0440\\u0440\\u0435\\u044f\",\"\\u0438\\u0441\\u0442\\u043e\\u0449\\u0435\\u043d\\u0438\\u0435\",\"\\u044d\\u043a\\u043e\",\"\\u043f\\u043e\\u0432\\u043e\\u0434\\u0443\",\"\\u043f\\u043e\\u043b\\u0438\\u043f\",\"\\u0430\",\"\\u0440\",\"\\u043f\\u0430\\u0440\\u0442\\u043d\\u0435\\u0440\\u0430\",\"\\u0436\\u0438\\u0440\\u043e\\u0432\\u043e\\u0433\\u043e\",\"\\u043f\\u0440\\u0435\\u0436\\u0434\\u0435\\u0432\\u0440\\u0435\\u043c\\u0435\\u043d\\u043d\\u043e\\u0435\",\"\\u043e\\u0436\\u0438\\u0440\\u0435\\u043d\\u0438\\u0435\",\"\\u043c\\u0438\\u043e\\u043c\\u044d\\u043a\\u0442\\u043e\\u043c\\u0438\\u0438\",\"\\u0443\\u0437\\u043b\\u043e\\u0432\\u043e\\u0439\",\"\\u0446\\u0438\\u043a\\u043b\\u0430\",\"\\u043a\",\"\\u044d\\u0443\\u0442\\u0438\\u0440\\u0435\\u043e\\u0437\",\"\\u043a\\u0435\\u0441\\u0430\\u0440\\u0435\\u0432\\u0430\",\"\\u043b\\u0441\\u043a\",\"\\u043c\",\"\\u0432\\u0442\\u043e\\u0440\\u0438\\u0447\\u043d\\u043e\\u0435\",\"\\u0440\\u0435\\u0446\\u0438\\u0434\\u0438\\u0432\",\"\\u043a\\u0438\\u0441\\u0442\\u044b\",\"\\u043c\\u043d\\u043e\\u0436\\u0435\\u0441\\u0442\\u0432\\u0435\\u043d\\u043d\\u0430\\u044f\",\"\\u043c\\u0430\\u043b\\u043e\\u0433\\u043e\",\"\\u043b\\u0435\\u0432\\u043e\\u0441\\u0442\\u043e\\u0440\\u043e\\u043d\\u043d\\u0438\\u0439\",\"\\u0430\\u043d\\u043e\\u0432\\u0443\\u043b\\u044f\\u0446\\u0438\\u0435\\u0439\",\"\\u0442\\u0430\\u0437\\u0430\",\"\\u043c\\u043e\\u043b\\u043e\\u0447\\u043d\\u044b\\u0445\",\"\\u043f\\u043e\\u043b\\u043e\\u0441\\u0442\\u0438\",\"\\u043d\\u0430\\u0441\\u043b\\u0435\\u0434\\u0441\\u0442\\u0432\\u0435\\u043d\\u043d\\u0430\\u044f\",\"\\u0441\\u0435\\u0447\\u0435\\u043d\\u0438\\u044f\",\"\\u0434\\u0432\\u0443\\u0441\\u0442\\u043e\\u0440\\u043e\\u043d\\u043d\\u0438\\u0439\",\"\\u043d\\u0435\\u0443\\u0434\\u0430\\u0447\\u0438\",\"\\u0441\\u0438\\u043d\\u0434\\u0440\\u043e\\u043c\",\"\\u0444\\u0430\\u043c\",\"\\u043e\\u0431\\u043c\\u0435\\u043d\\u0430\",\"\\u043e\\u0442\",\"\\u043e\\u043f\\u0435\\u0440\\u0430\\u0446\\u0438\\u0438\",\"\\u0436\\u0435\\u043b\\u0435\\u0437\",\"\\u0442\\u0443\\u0431\\u044d\\u043a\",\"\\u043c\\u0435\\u0441\",\"\\u043c\\u0430\\u0442\\u043e\\u0447\\u043d\\u044b\\u0445\",\"\\u0434\\u0438\\u0441\\u043f\\u043b\\u0430\\u0437\\u0438\\u044f\",\"\\u043a\\u0430\\u0440\\u0438\\u043e\\u0442\\u0438\\u043f\\u0430\",\"\\u043e\\u0430\\u0433\\u0430\",\"\\u0441\\u0442\\u0435\\u043f\\u0435\\u043d\\u0438\",\"\\u043f\\u0435\\u0440\\u0438\\u043e\\u0434\",\"\\u043d\\u043e\\u0440\\u043c\\u043e\\u0433\\u043e\\u043d\\u0430\\u0434\\u043e\\u0442\\u0440\\u043e\\u043f\\u043d\\u0430\\u044f\",\"\\u0430\\u043d\\u043e\\u043c\\u0430\\u043b\\u0438\\u0438\",\"\\u0434\\u043d\\u0437\",\"\\u0433\\u0438\\u043f\\u043e\\u0444\\u0438\\u0437\\u0430\",\"\\u044d\\u043d\\u0434\\u043e\\u043c\\u0435\\u0442\",\"\\u043c\\u0430\\u0442\\u043e\\u0447\\u043d\\u043e\\u0435\",\"\\u044d\\u043d\\u0434\\u043e\\u043c\\u0435\\u0442\\u0440\\u0438\\u043e\\u043c\\u0430\",\"\\u0442\\u0440\\u043e\\u043c\\u0431\\u043e\\u0444\\u0438\\u043b\\u0438\\u044f\",\"\\u0430\\u043c\\u0435\\u043d\\u043e\\u0440\\u0435\\u044f\",\"\\u0433\\u0433\",\"\\u0432\\u044b\\u043d\\u0443\\u0436\\u0434\\u0435\\u043d\\u043d\\u043e\\u0435\",\"\\u0442\\u0443\\u0431\\u044d\\u043a\\u0442\\u043e\",\"\\u0441\\u0438\\u043d\\u0435\\u0445\\u0438\\u0438\",\"\\u0432\\u043f\\u0440\",\"\\u043c\\u0438\\u043a\\u0440\\u043e\\u0430\\u0434\\u0435\\u043d\\u043e\\u043c\\u0430\",\"\\u0434\\u0438\\u0435\\u043d\\u043e\\u0433\\u0435\\u0441\\u0442\",\"\\u0444\\u043e\\u0440\\u043c\\u0430\",\"\\u0434\\u043e\\u0431\\u0440\\u043e\\u043a\\u0430\\u0447\\u0435\\u0441\\u0442\\u0432\\u0435\\u043d\\u043d\\u0430\\u044f\",\"\\u044d\\u043d\\u0434\\u043e\\u043c\\u0435\",\"\\u043d\\u043e\\u0440\\u043c\\u043e\\u043f\\u0440\\u043e\\u043b\\u0430\\u043a\\u0442\\u0438\\u043d\\u0435\\u043c\\u0438\\u0447\\u0435\\u0441\\u043a\\u0430\\u044f\",\"\\u0433\\u0435\\u043f\\u0430\\u0442\\u0438\\u0442\",\"\\u043f\\u0435\\u0440\\u0432\\u0438\\u0447\\u043d\\u043e\\u0435\",\"\\u043a\\u043e\\u043c\\u0431\\u0438\\u043d\\u0438\\u0440\\u043e\\u0432\\u0430\\u043d\\u043d\\u0430\\u044f\",\"\\u0445\",\"\\u0432\\u044b\\u0440\\u0430\\u0436\\u0435\\u043d\\u043d\\u043e\\u0435\",\"\\u043c\\u0430\\u0441\\u0442\\u043e\\u043f\\u0430\\u0442\\u0438\\u044f\",\"\\u0431\",\"\\u0433\\u043d\\u0440\\u0433\",\"\\u0433\\u0435\\u043d\\u0438\\u0442\\u0430\\u043b\\u044c\\u043d\\u044b\\u0439\",\"\\u043a\\u043e\\u043c\\u0431\",\"\\u043e\",\"\\u0442\\u0435\\u0440\\u0430\\u0442\\u043e\\u0437\\u043e\\u043e\\u0441\\u043f\\u0435\\u0440\\u043c\\u0438\\u044f\",\"\\u044d\",\"\\u0442\\u0443\\u0431\\u044d\\u043a\\u0442\\u043e\\u043c\\u0438\",\"\\u0431\\u0435\\u0437\",\"\\u043f\\u0430\\u0440\\u0430\\u043e\\u0432\\u0430\\u0440\\u0438\\u0430\\u043b\\u044c\\u043d\\u0430\\u044f\",\"\\u0445\\u0440\\u043e\\u043d\\u0438\\u0447\\u0435\\u0441\\u043a\\u043e\\u0439\",\"\\u043f\\u0440\\u043e\\u043b\\u0435\\u0447\",\"\\u043f\\u043e\\u043b\\u043d\\u043e\\u0439\",\"\\u043c\\u0443\\u0442\\u0430\\u0446\\u0438\\u044f\",\"\\u0437\\u0433\\u0442\",\"\\u0430\\u0434\\u043d\\u0435\\u043a\\u0441\\u044d\\u043a\\u0442\\u043e\\u043c\\u0438\\u044f\",\"\\u043b\\u0435\\u0432\\u043e\\u0439\",\"\\u0430\\u0441\\u0442\\u0435\\u043d\\u043e\\u0437\\u043e\\u043e\\u0441\\u043f\\u0435\\u0440\\u043c\\u0438\\u044f\",\"\\u043d\\u0430\\u0440\\u0443\\u0436\\u043d\\u044b\\u0439\",\"\\u0434\\u0435\\u0444\\u043e\\u0440\\u043c\\u0430\\u0446\\u0438\\u044f\",\"\\u0430\\u043d\\u043e\\u0432\\u0443\\u043b\\u044f\\u0442\\u043e\\u0440\\u043d\\u043e\\u0435\",\"\\u043e\\u043a\\u043a\\u043b\\u044e\\u0437\\u0438\\u0435\\u0439\",\"\\u0442\",\"\\u0441\\u043c\\u0435\\u0448\\u0430\\u043d\\u043d\\u043e\\u0435\",\"\\u043f\\u0440\\u0430\\u0432\\u043e\\u0441\\u0442\\u043e\\u0440\\u043e\\u043d\\u043d\\u0438\\u0439\",\"\\u0433\\u044d\",\"\\u0440\\u0443\\u0431\\u0446\\u0430\",\"\\u0441\\u0443\\u0431\\u043a\\u043b\\u0438\\u043d\\u0438\\u0447\\u0435\\u0441\\u043a\\u0438\\u0439\",\"\\u043f\\u0440\",\"\\u0440\\u0435\\u043f\\u0440\\u043e\\u0434\\u0443\\u043a\\u0442\\u0438\\u0432\",\"\\u0442\\u0443\\u0431\\u044d\\u043a\\u0442\\u043e\\u043c\\u0438\\u0438\",\"\\u043c\\u0430\\u0442\",\"\\u043d\",\"\\u0432\\u043e\\u0437\\u0440\\u0430\",\"\\u0430\\u0433\\u043e\\u043d\\u0438\\u0441\\u0442\\u044b\",\"\\u044d\\u043d\\u0434\\u043e\\u043c\",\"\\u0430\\u0434\\u043d\\u0435\\u043a\\u0441\\u0438\\u0442\",\"\\u043f\",\"\\u0434\\u0432\\u0443\\u0441\\u0442\\u043e\\u0440\\u043e\\u043d\\u043d\\u0438\\u0435\",\"\\u044d\\u043d\\u0434\",\"\\u043e\\u0431\\u043e\\u0438\\u0445\",\"\\u0440\\u0435\\u0433\\u0440\\u0435\\u0441\\u0441\",\"\\u043a\\u043e\\u043c\\u0431\\u0438\\u043d\\u0438\\u0440\",\"\\u043a\\u043e\\u043d\\u0441\\u0435\\u0440\\u0432\\u0430\\u0442\\u0438\\u0432\\u043d\\u043e\\u0439\",\"\\u043d\\u0435\\u0432\\u044b\\u043d\\u0430\\u0448\\u0438\\u0432\\u0430\",\"\\u044d\\u043a\\u0442\\u043e\\u043f\\u0438\\u044f\",\"\\u0433\\u0438\\u043f\\u0435\\u0440\\u043f\\u043b\\u0430\\u0437\\u0438\\u044f\",\"\\u0445\\u0445\",\"\\u0442\\u0440\",\"\\u0444\\u043a\\u0431\",\"\\u0446\\u0438\\u0441\\u0442\\u044d\\u043a\\u0442\\u043e\\u043c\\u0438\\u044f\",\"\\u0433\\u0438\\u043f\\u0435\\u0440\\u0433\\u043e\\u043c\\u043e\\u0446\\u0438\\u0441\\u0442\\u0435\\u0438\\u043d\\u0435\\u043c\\u0438\\u044f\",\"\\u043f\\u0440\\u043e\\u043b\\u0435\\u0447\\u0435\\u043d\\u043d\\u044b\\u0439\",\"\\u0434\\u0438\",\"\\u043f\\u043e\\u043b\\u0438\\u043a\\u0438\\u0441\\u0442\\u043e\\u0437\\u043d\\u044b\\u0445\",\"\\u0434\\u0432\\u0443\\u0441\\u0442\\u043e\\u0440\\u043e\\u043d\\u044f\\u044f\",\"\\u043d\\u0430\\u0447\\u0430\\u043b\\u044c\\u043d\\u043e\\u0439\",\"\\u0434\\u0438\\u0444\\u0444\\u0443\\u0437\\u043d\\u044b\\u0439\",\"\\u0433\\u0438\\u043f\\u0435\\u0440\\u0433\\u043e\\u043d\\u0430\\u0434\\u043e\\u0442\\u0440\\u043e\\u043f\\u043d\\u0430\\u044f\",\"\\u043e\\u0442\\u0441\\u0443\\u0442\\u0441\\u0442\\u0432\",\"\\u043c\\u0430\\u0441\\u0442\\u043e\\u043f\\u0430\\u0442\",\"\\u0433\\u043e\\u043c\\u043e\\u0437\\u0438\\u0433\\u043e\\u0442\\u043d\\u0430\\u044f\",\"\\u043e\\u0431\\u0435\\u0438\\u0445\",\"\\u043e\\u0442\\u0441\\u0443\",\"\\u0442\\u0440\\u0443\\u0431\\u043d\\u043e\\u0439\",\"\\u0442\\u0443\\u0431\\u044d\",\"\\u0430\\u0437\\u043e\\u043e\\u0441\\u043f\\u0440\\u0435\\u043c\\u0438\\u044f\",\"\\u0433\\u0438\\u043f\\u043e\\u0433\\u043e\\u043d\\u0430\\u0434\\u043e\\u0442\\u0440\\u043e\\u043f\\u043d\\u0430\\u044f\",\"\\u043c\\u0435\\u0434\\u0438\\u043a\\u0430\\u043c\\u0435\\u043d\\u0442\\u043e\\u0437\\u043d\\u043e\",\"\\u043d\\u0435\\u0443\\u0434\\u0430\\u0447\\u0430\",\"\\u0432\\u043e\\u0437\\u0440\",\"\\u0444\",\"\\u043c\\u0430\",\"\\u0445\\u0440\\u043e\\u043d\",\"\\u0434\\u0440\\u0443\\u0433\\u0438\\u043c\\u0438\",\"\\u0432\\u0438\\u0437\\u0430\\u043d\\u043d\\u0430\",\"\\u0440\\u0435\\u043f\\u0440\\u043e\\u0434\\u0443\",\"\\u044d\\u043d\\u0434\\u043e\\u043c\\u0435\\u0442\\u0440\\u0438\\u043e\",\"\\u043e\\u0431\\u0441\\u0443\\u043b\\u043e\\u0432\\u043b\\u0435\\u043d\\u043d\\u043e\\u0435\",\"\\u0432\\u043e\\u0437\",\"\\u044d\\u043d\\u0434\\u043e\",\"\\u043c\\u0430\\u0441\",\"\\u0441\\u0442\\u0430\\u0440\\u0448\\u0438\\u0439\",\"\\u0432\\u0442\\u043e\\u0440\\u0438\\u0447\\u043d\\u0430\\u044f\",\"\\u0431\\u0435\\u0440\\u0435\\u043c\\u0435\\u043d\\u043d\\u043e\\u0441\\u0442\",\"\\u0440\\u0435\\u0437\\u0435\\u0440\\u0432\",\"\\u043e\\u0442\\u0441\\u0443\\u0442\\u0441\\u0442\",\"\\u0434\\u0432\\u0443\\u0441\\u0442\",\"\\u0434\\u0432\\u0443\\u0441\\u0442\\u043e\\u0440\\u043e\\u043d\\u043d\\u0435\\u0439\",\"\\u0434\\u0432\\u0443\",\"\\u043f\\u0440\\u0438\\u0435\\u043c\\u043e\\u043c\",\"\\u043f\\u0440\\u0430\\u0432\\u043e\\u0439\",\"\\u043f\\u0440\\u0430\\u0432\\u043e\\u0441\\u0442\\u043e\\u0440\\u043e\\u043d\\u043d\\u044f\\u044f\",\"\\u0430\\u043c\\u0435\\u043d\\u043e\\u0440\\u0438\\u044f\",\"\\u043f\\u043b\\u0430\\u043d\\u0438\\u0440\\u043e\\u0432\\u0430\\u043d\\u0438\\u0435\",\"\\u0440\\u0443\\u0431\\u0446\\u043e\\u0432\\u0430\\u044f\",\"\\u0436\\u0435\\u043b\\u0435\\u0437\\u044b\",\"\\u0430\\u043d\",\"\\u0431\\u0440\\u044e\\u0449\\u0438\\u043d\\u044b\",\"\\u043a\\u043e\\u043d\\u0441\\u0435\\u0440\\u0432\\u0430\\u0442\\u0438\\u0432\\u043d\\u0430\\u044f\",\"\\u043d\\u043c\\u0446\",\"\\u0444\\u043e\\u043b\\u043b\\u0438\\u043a\\u0443\\u043b\\u044f\\u0440\\u043d\\u0430\\u044f\",\"\\u043a\\u043e\\u043c\\u043f\",\"\\u043b\\u0435\\u0432\\u043e\\u0441\\u0442\\u043e\\u0440\\u043e\\u043d\\u043d\\u044f\\u044f\",\"\\u0445\\u0440\\u043e\",\"\\u0431\\u0435\",\"\\u043c\\u0443\",\"\\u044f\\u0438\\u0447\",\"\\u0434\\u0432\",\"\\u044d\\u043d\\u0434\\u043e\\u043c\\u0435\\u0442\\u0440\\u0438\",\"\\u0445\\u0443\",\"\\u0431\\u0440\\u043e\\u043d\\u0445\\u0438\\u0430\\u043b\\u044c\\u043d\\u0430\\u044f\",\"\\u0430\\u0441\\u0442\\u043c\\u0430\",\"\\u0434\",\"\\u043e\\u0441\\u0430\",\"\\u0440\\u0430\\u0437\\u043c\\u0435\\u0440\\u043e\\u0432\",\"\\u0445\\u0440\\u043e\\u043d\\u0438\\u0447\",\"\\u0432\\u043e\",\"\\u043e\\u0430\\u0430\",\"\\u0433\\u043e\\u0434\\u0443\",\"\\u043d\\u043e\\u0441\\u0438\\u0442\\u0435\\u043b\\u044c\",\"\\u043e\\u0432\\u0430\\u0440\\u0438\\u0430\\u043b\\u044c\\u043d\\u043e\\u0433\",\"\\u0437\\u0430\\u043f\\u0430\\u0441\\u0430\",\"\\u043c\\u043e\\u043b\\u043e\\u0447\\u043d\\u043e\\u0439\",\"\\u043e\\u0432\\u0430\\u0440\\u044d\\u043a\\u0442\\u043e\\u043c\\u0438\\u044f\",\"\\u044d\\u0440\\u043e\\u0437\\u0438\\u044f\",\"\\u0436\\u0435\\u043b\\u0435\\u0437\\u0438\\u0441\\u0442\\u0430\\u044f\",\"\\u0430\\u043c\\u043f\\u0443\\u0442\\u0430\\u0446\\u0438\\u044f\",\"\\u0445\\u0440\\u043e\\u043d\\u0438\",\"\\u043f\\u0440\\u043e\\u043b\\u0435\\u0447\\u0435\\u043d\",\"\\u043f\\u0440\\u0430\\u0432\\u043e\\u0441\\u0442\\u043e\\u0440\\u043e\\u043d\\u043d\\u0435\\u0439\",\"\\u0440\\u0430\\u0437\\u0432\\u0438\\u0442\\u0438\\u044f\",\"\\u0433\\u043e\\u0434\\u0430\",\"\\u043c\\u0430\\u0442\\u043e\\u0447\\u043d\\u044b\\u0439\",\"\\u043c\\u0435\\u043d\\u043e\\u043f\\u0430\\u0443\\u0437\\u0430\",\"\\u043a\\u0440\\u0438\\u043f\\u0442\\u043e\\u0437\\u043e\\u043e\\u0441\\u043f\\u0435\\u0440\\u043c\\u0438\\u044f\",\"\\u043f\\u0430\\u0440\\u043e\\u043e\\u0432\\u0430\\u0440\\u0438\\u0430\\u043b\\u044c\\u043d\\u0430\\u044f\",\"\\u0430\\u0440\\u0442\\u0435\\u0440\\u0438\\u0439\",\"\\u0440\\u043e\\u043a\\u0438\\u0442\\u0430\\u043d\\u0441\\u043a\\u043e\\u0433\\u043e\",\"\\u043a\\u044e\\u0441\\u0442\\u043d\\u0435\\u0440\\u0430\",\"\\u044f\\u0438\\u0447\\u043d\\u0438\\u043a\"],\"x\":{\"__ndarray__\":\"h76bP3OVdj8sIJ4/mb+MPwWVOj+u9ANAImwBP/3V3T8xtMg+1PCzP+Ergz+9eOw+1XJJP92jgT9BXnM//OizP0Gugz9RdI0/JKC5P2YakT9FI6E/LOf0P8Ssvz+Kdnk/kZSTP50/lD+ejOQ/o1h4P/z06T95uxI/g3YkP0MgBD//FVQ/C+brPw685z98yta/DrTpP3tMlz9kZjo/hgrsP+AVLD8hDmo/llp3P7UXuz8d5VA/b4QUQNHMQT9zRZI/mGA1P/w5Vj83N2c/TKV8P430rz+rLpM/Mw8NQEPq2T/VsrE/qXKXP5uyGj9CcB4/24dBP1Oroj78KXQ/EoGXP/i7qT+asvw/WuUTP6l84j/82bs/8BqjPyCO/D/ITx8/Pv91P7c8Tj9fVMU/S7B5P9idLD8f55E/0EiaP8kMCkDBsac/KENfP/C6wD99HYs/IyAjP8ue7D/k5TA/o52bP8qIqT6qjB5A0G5KP9cXB0AT2C4/LBAuPqLl5T8bKYs/JmMtP2YwPD8BqU4/uXGdPwjz+D5YHxM/AUGSP243oT+0GN2+Z8TIP+ClgD8mR3k/JuxEvuv4GT9iisY/4gQxPhAIdz/y1l8/q1b8vFPDWj+b0zA/NEp6Py51CD8V98E/wbK9Pk+Ugr4hV0q/DzIvP6t+kj/WH4o+rL/3vonA4b2KBOE+Lk+oP8z2AD/hGYo+BIkjPe0A4D7OU4k+9Cn1vnBZ3zyRoY0+tFfuvlfoET9TLgO/LHhjPh1qDj/Br5Q/svKQPkzapj28/tq9KXmXvtFE5j7ShAY+T4SbPjHbFD9YNWQ9BhrdviT5bj/Qw1a/YQsKP1+wnT61thU/ZxcGP1zFh77DMKa+GaUmv6Y8Db4XlPU+kVn0vjc3yLtG53i/uxtCv94WQ7+6IJA+zAOWPnJO2b5CFfm+9nddv+GTO79Pffu+KtVNvuhFBT5NkBS/AdFLPTZ9Nb8/K849DCAXvyL6vL5c0Oi+8oUevrXj9L6YWO89DVCOv+XOHT3WQom+Y/8xvzJ9Lb9NB8G+QcDnvtgzOb+8pvq+32envhSEG7+eZpO/Y0toPoUyhL4wTde+LEBfv2ZfDL802hO/7ZOYvhRFBL/3Wyy+AN1ePt/T4761sTG/QJeXvxnRVb8skYK/dLkvvw94br+G4Ia/4koDv4Ksbr8wlWi/VJypv9YpKb8LwJO/1I9dv6qegb8EX1G/mJ9rv1/hPL+nRFC/qJpOv4dkWr+03Wu/o1XTvowKPr9srwa/H6Vrv2V7Mr/VP9G+GIOFvwB4d78WmmK/kREHv/VBhb+/3oe/KZQ1vuAGvr7M3Ly/HFWFvwIo6b5dLIS+aLezv4zNY74OMaW/uGW1vzJT977e786+p8Uov1J2t79su5u/VMeiv/mrnr9AaWK/8ggrv8ucj7/uJoK/hdSqv+2duL/zXKW/AvWTv1swg7/sdIu/HDVpv4Pfqr9qE7y/MNmivyg+hL8wFJy/6ryYv7M+ar9Vo7S/NjxOv4aRgL+5VEO/5hoSv5HFjL+/C7W/p8Ruv8OzXL8Bk6a/wnFIv559tb8Vv4m/6qegv4T7h79IcJi/+U2ev6lLmr8OhZ6/IUwNvzAtEr+LiI6/xiWpv98/r7/gOpK/rA++v1BLg793HW+/MR2Pv6TOq7/L3He/ge0sv9cdqr/foCa/95clv3Siub/HoIe/fgKhvzmkwr5wt6a/5pVgv/7il79JhI2/LMiVv88jnL+nyqm/xLtQv1xJbL9vmru/\",\"dtype\":\"float32\",\"order\":\"little\",\"shape\":[330]},\"y\":{\"__ndarray__\":\"gucSwNHf/L9QaaO/S6fBvyvQUr8djjBAozZCwOgyuz6g9wfAUBwCvtltSL9f4vq/vUnFP+L0Xz9qQEDAsg9PP4IYBT8yl5W+g3JnvmTksD8nBapA9kxUQHUepkB/TJNAUwASP5L/pT4Wk+C9wkfpvpTZED98G9++AFMWwDxw/b/fdUDAZElxQF0FZr8xboY9MFMGPeKFK76UMck+EwW6v94vaL/DNrA9/vdev+eXmD6Culc/5pc5vx73Vr3fl5y/ALWav/3wML6hQba+pPBavjlDXz68uye/bve2PqMoLL5ArdG/B8d5v1xmQr9K516+sXUrP4sZbL8fDZC/n1DlPbYzV78g0FU/yf/dvAd9Q74LSym/rvVeP+km8b0AP85AWfAYP7GgA78gGSw/7tQZwINUr0DcqAHAmc7KvxVX5b6jg6g+Ttnav9kHYT0tLhU/2SaSvq3i5D7t6tO9H1dXv4NZJr6KgI28p9/ivuKkeb9e+LM9HvUaQKditj575uq+mSIVvxbujL86t9I+QHimv2W4lj7nFCu+0l8DP05e0r5XoLu92fIIvtleKb5Ei6y+DAs0PoOPOj8B7xA+mRTHPpAmSL8p/SG+HUQvv2uLHz5Q81K/4r09vzUiJz6Qi+4+ffT8PbMzzL659oK+Jp2OvQpx5LzehM89CNewPqQCmj/W58c+UmikPu3zhz79A/u+6WKmP/lGUz4Zx5w+rmkbvjhC8j7N7NM95HVkvr6+ED6zayU9bDtIvx+fmj3jVly+664nPzBXfj7MlKE/PTpdv2WU4T3AeBi+v+AvPhaBMb/PjE09PlO9P1mLH71wfQa/8aQJvjh6rL6FMLs9TWjQPqZ1C78TzR6/7doLvRZV276bYvu+606ivofwfbwlPK0+tmZpvvHkQr96xTU+9v8CvlH+zz6i5G0+DxLfPi3M5j3juzw+xbf3vc3TF76463E/nw/yPi00Qr2G4oe+mfY3vXjEcj3FJce+rc6PvplGCj8KeCw9ZISuPYqMtD4BdjG/G+O0vsSdtj7Ovo6+5CCJPsUA4T4zSOU+SYAoP2Ir+r4HuIm+tGKTvkFEqDxuoqw9sSdTPW7CxD3xyl++dY0SvipoLb9YCmY7pA17voUhTT2WXZA9z56OvGj4F79Zfjk8UQeUvSa7Gr6rgBA//XooP6iK57oFyJ6+77pWvhDeWT3XAXG+ZJOxvjR0M76rhWW+SPAbP5X3Iz9Xv4C+E2Q5PTnF4j6yJtM+WjumvUkIdz4bbLI+eHeuPamTKL8GbwQ/pBPdvtVAwr1lhPO9xBIHv6wmDj6XEas99iZmvsQ+j71m710+SVnjPQn2Gz00Xei+Fq8OP6uozb6jqRQ+Zy8Bvrw7y76DoRo9UiCzvoxEzD68VAY+snIBPtPDxD5Wo4S+jtiXPi3qXb6JyJw9HbF2vrzgkz6/RcK+dK9Pvmraiz49ViK+XOqQPl/SgDwd3gu+FPtePdbHuz0CSlY/KeXMvvcZAL9knF89RXJmvraR9r2bL949GEs8Pd6AKj4wIB0/7MsGP+TcjT5p9Ha+8WMPP2eQXD4UpZM+rblZvtEimz6Oros+5TBRvh4Rsj5ViII+qiixPGPGpD7GLr++r9rAvny3Az5F4Tk+GJLWvYnPlj52L6K+152AvtTo/L1bvPU9igajvsImxj4J3hC/Fk0Lvykvab0i5Rw+fM23vX5Euz0MdAY/YejAvRkPlL6uTpU+1tOhvYfApz7AdwO9zXuzuzLC4z6UELQ+\",\"dtype\":\"float32\",\"order\":\"little\",\"shape\":[330]}},\"selected\":{\"id\":\"1052\"},\"selection_policy\":{\"id\":\"1051\"}},\"id\":\"1003\",\"type\":\"ColumnDataSource\"},{\"attributes\":{\"axis\":{\"id\":\"1013\"},\"coordinates\":null,\"group\":null,\"ticker\":null},\"id\":\"1016\",\"type\":\"Grid\"},{\"attributes\":{},\"id\":\"1005\",\"type\":\"DataRange1d\"},{\"attributes\":{},\"id\":\"1046\",\"type\":\"BasicTickFormatter\"},{\"attributes\":{\"overlay\":{\"id\":\"1027\"}},\"id\":\"1023\",\"type\":\"BoxZoomTool\"},{\"attributes\":{\"active_scroll\":{\"id\":\"1022\"},\"tools\":[{\"id\":\"1021\"},{\"id\":\"1022\"},{\"id\":\"1023\"},{\"id\":\"1024\"},{\"id\":\"1025\"},{\"id\":\"1026\"},{\"id\":\"1041\"}]},\"id\":\"1028\",\"type\":\"Toolbar\"},{\"attributes\":{},\"id\":\"1052\",\"type\":\"Selection\"},{\"attributes\":{},\"id\":\"1026\",\"type\":\"HelpTool\"},{\"attributes\":{},\"id\":\"1021\",\"type\":\"PanTool\"},{\"attributes\":{},\"id\":\"1022\",\"type\":\"WheelZoomTool\"},{\"attributes\":{},\"id\":\"1024\",\"type\":\"SaveTool\"},{\"attributes\":{},\"id\":\"1025\",\"type\":\"ResetTool\"},{\"attributes\":{\"coordinates\":null,\"group\":null},\"id\":\"1043\",\"type\":\"Title\"},{\"attributes\":{},\"id\":\"1050\",\"type\":\"AllLabels\"},{\"attributes\":{\"callback\":null,\"tooltips\":[[\"token\",\"@token\"]]},\"id\":\"1041\",\"type\":\"HoverTool\"},{\"attributes\":{\"source\":{\"id\":\"1003\"}},\"id\":\"1040\",\"type\":\"CDSView\"},{\"attributes\":{},\"id\":\"1007\",\"type\":\"DataRange1d\"},{\"attributes\":{},\"id\":\"1051\",\"type\":\"UnionRenderers\"},{\"attributes\":{\"fill_alpha\":{\"value\":0.1},\"fill_color\":{\"field\":\"color\"},\"hatch_alpha\":{\"value\":0.1},\"hatch_color\":{\"field\":\"color\"},\"line_alpha\":{\"value\":0.1},\"line_color\":{\"field\":\"color\"},\"size\":{\"value\":10},\"x\":{\"field\":\"x\"},\"y\":{\"field\":\"y\"}},\"id\":\"1037\",\"type\":\"Scatter\"},{\"attributes\":{\"fill_alpha\":{\"value\":0.25},\"fill_color\":{\"field\":\"color\"},\"hatch_alpha\":{\"value\":0.25},\"hatch_color\":{\"field\":\"color\"},\"line_alpha\":{\"value\":0.25},\"line_color\":{\"field\":\"color\"},\"size\":{\"value\":10},\"x\":{\"field\":\"x\"},\"y\":{\"field\":\"y\"}},\"id\":\"1036\",\"type\":\"Scatter\"},{\"attributes\":{},\"id\":\"1009\",\"type\":\"LinearScale\"},{\"attributes\":{},\"id\":\"1014\",\"type\":\"BasicTicker\"},{\"attributes\":{},\"id\":\"1011\",\"type\":\"LinearScale\"},{\"attributes\":{\"bottom_units\":\"screen\",\"coordinates\":null,\"fill_alpha\":0.5,\"fill_color\":\"lightgrey\",\"group\":null,\"left_units\":\"screen\",\"level\":\"overlay\",\"line_alpha\":1.0,\"line_color\":\"black\",\"line_dash\":[4,4],\"line_width\":2,\"right_units\":\"screen\",\"syncable\":false,\"top_units\":\"screen\"},\"id\":\"1027\",\"type\":\"BoxAnnotation\"}],\"root_ids\":[\"1004\"]},\"title\":\"Bokeh Application\",\"version\":\"2.4.3\"}};\n",
       "  const render_items = [{\"docid\":\"3b404305-dc75-4a0e-8608-1a768484be7e\",\"root_ids\":[\"1004\"],\"roots\":{\"1004\":\"4ca2f8fb-951f-4ab3-b29c-8d5e2c4f9754\"}}];\n",
       "  root.Bokeh.embed.embed_items_notebook(docs_json, render_items);\n",
       "  }\n",
       "  if (root.Bokeh !== undefined) {\n",
       "    embed_document(root);\n",
       "  } else {\n",
       "    let attempts = 0;\n",
       "    const timer = setInterval(function(root) {\n",
       "      if (root.Bokeh !== undefined) {\n",
       "        clearInterval(timer);\n",
       "        embed_document(root);\n",
       "      } else {\n",
       "        attempts++;\n",
       "        if (attempts > 100) {\n",
       "          clearInterval(timer);\n",
       "          console.log(\"Bokeh: ERROR: Unable to run BokehJS code because BokehJS library is missing\");\n",
       "        }\n",
       "      }\n",
       "    }, 10, root)\n",
       "  }\n",
       "})(window);"
      ],
      "application/vnd.bokehjs_exec.v0+json": ""
     },
     "metadata": {
      "application/vnd.bokehjs_exec.v0+json": {
       "id": "1004"
      }
     },
     "output_type": "display_data"
    },
    {
     "data": {
      "text/html": [
       "<div style=\"display: table;\"><div style=\"display: table-row;\"><div style=\"display: table-cell;\"><b title=\"bokeh.plotting.figure.Figure\">Figure</b>(</div><div style=\"display: table-cell;\">id&nbsp;=&nbsp;'1004', <span id=\"1110\" style=\"cursor: pointer;\">&hellip;)</span></div></div><div class=\"1109\" style=\"display: none;\"><div style=\"display: table-cell;\"></div><div style=\"display: table-cell;\">above&nbsp;=&nbsp;[],</div></div><div class=\"1109\" style=\"display: none;\"><div style=\"display: table-cell;\"></div><div style=\"display: table-cell;\">align&nbsp;=&nbsp;'start',</div></div><div class=\"1109\" style=\"display: none;\"><div style=\"display: table-cell;\"></div><div style=\"display: table-cell;\">aspect_ratio&nbsp;=&nbsp;None,</div></div><div class=\"1109\" style=\"display: none;\"><div style=\"display: table-cell;\"></div><div style=\"display: table-cell;\">aspect_scale&nbsp;=&nbsp;1,</div></div><div class=\"1109\" style=\"display: none;\"><div style=\"display: table-cell;\"></div><div style=\"display: table-cell;\">background&nbsp;=&nbsp;None,</div></div><div class=\"1109\" style=\"display: none;\"><div style=\"display: table-cell;\"></div><div style=\"display: table-cell;\">background_fill_alpha&nbsp;=&nbsp;1.0,</div></div><div class=\"1109\" style=\"display: none;\"><div style=\"display: table-cell;\"></div><div style=\"display: table-cell;\">background_fill_color&nbsp;=&nbsp;'#ffffff',</div></div><div class=\"1109\" style=\"display: none;\"><div style=\"display: table-cell;\"></div><div style=\"display: table-cell;\">below&nbsp;=&nbsp;[LinearAxis(id='1013', ...)],</div></div><div class=\"1109\" style=\"display: none;\"><div style=\"display: table-cell;\"></div><div style=\"display: table-cell;\">border_fill_alpha&nbsp;=&nbsp;1.0,</div></div><div class=\"1109\" style=\"display: none;\"><div style=\"display: table-cell;\"></div><div style=\"display: table-cell;\">border_fill_color&nbsp;=&nbsp;'#ffffff',</div></div><div class=\"1109\" style=\"display: none;\"><div style=\"display: table-cell;\"></div><div style=\"display: table-cell;\">center&nbsp;=&nbsp;[Grid(id='1016', ...), Grid(id='1020', ...)],</div></div><div class=\"1109\" style=\"display: none;\"><div style=\"display: table-cell;\"></div><div style=\"display: table-cell;\">css_classes&nbsp;=&nbsp;[],</div></div><div class=\"1109\" style=\"display: none;\"><div style=\"display: table-cell;\"></div><div style=\"display: table-cell;\">disabled&nbsp;=&nbsp;False,</div></div><div class=\"1109\" style=\"display: none;\"><div style=\"display: table-cell;\"></div><div style=\"display: table-cell;\">extra_x_ranges&nbsp;=&nbsp;{},</div></div><div class=\"1109\" style=\"display: none;\"><div style=\"display: table-cell;\"></div><div style=\"display: table-cell;\">extra_x_scales&nbsp;=&nbsp;{},</div></div><div class=\"1109\" style=\"display: none;\"><div style=\"display: table-cell;\"></div><div style=\"display: table-cell;\">extra_y_ranges&nbsp;=&nbsp;{},</div></div><div class=\"1109\" style=\"display: none;\"><div style=\"display: table-cell;\"></div><div style=\"display: table-cell;\">extra_y_scales&nbsp;=&nbsp;{},</div></div><div class=\"1109\" style=\"display: none;\"><div style=\"display: table-cell;\"></div><div style=\"display: table-cell;\">frame_height&nbsp;=&nbsp;None,</div></div><div class=\"1109\" style=\"display: none;\"><div style=\"display: table-cell;\"></div><div style=\"display: table-cell;\">frame_width&nbsp;=&nbsp;None,</div></div><div class=\"1109\" style=\"display: none;\"><div style=\"display: table-cell;\"></div><div style=\"display: table-cell;\">height&nbsp;=&nbsp;400,</div></div><div class=\"1109\" style=\"display: none;\"><div style=\"display: table-cell;\"></div><div style=\"display: table-cell;\">height_policy&nbsp;=&nbsp;'auto',</div></div><div class=\"1109\" style=\"display: none;\"><div style=\"display: table-cell;\"></div><div style=\"display: table-cell;\">hidpi&nbsp;=&nbsp;True,</div></div><div class=\"1109\" style=\"display: none;\"><div style=\"display: table-cell;\"></div><div style=\"display: table-cell;\">inner_height&nbsp;=&nbsp;0,</div></div><div class=\"1109\" style=\"display: none;\"><div style=\"display: table-cell;\"></div><div style=\"display: table-cell;\">inner_width&nbsp;=&nbsp;0,</div></div><div class=\"1109\" style=\"display: none;\"><div style=\"display: table-cell;\"></div><div style=\"display: table-cell;\">js_event_callbacks&nbsp;=&nbsp;{},</div></div><div class=\"1109\" style=\"display: none;\"><div style=\"display: table-cell;\"></div><div style=\"display: table-cell;\">js_property_callbacks&nbsp;=&nbsp;{},</div></div><div class=\"1109\" style=\"display: none;\"><div style=\"display: table-cell;\"></div><div style=\"display: table-cell;\">left&nbsp;=&nbsp;[LinearAxis(id='1017', ...)],</div></div><div class=\"1109\" style=\"display: none;\"><div style=\"display: table-cell;\"></div><div style=\"display: table-cell;\">lod_factor&nbsp;=&nbsp;10,</div></div><div class=\"1109\" style=\"display: none;\"><div style=\"display: table-cell;\"></div><div style=\"display: table-cell;\">lod_interval&nbsp;=&nbsp;300,</div></div><div class=\"1109\" style=\"display: none;\"><div style=\"display: table-cell;\"></div><div style=\"display: table-cell;\">lod_threshold&nbsp;=&nbsp;2000,</div></div><div class=\"1109\" style=\"display: none;\"><div style=\"display: table-cell;\"></div><div style=\"display: table-cell;\">lod_timeout&nbsp;=&nbsp;500,</div></div><div class=\"1109\" style=\"display: none;\"><div style=\"display: table-cell;\"></div><div style=\"display: table-cell;\">margin&nbsp;=&nbsp;(0, 0, 0, 0),</div></div><div class=\"1109\" style=\"display: none;\"><div style=\"display: table-cell;\"></div><div style=\"display: table-cell;\">match_aspect&nbsp;=&nbsp;False,</div></div><div class=\"1109\" style=\"display: none;\"><div style=\"display: table-cell;\"></div><div style=\"display: table-cell;\">max_height&nbsp;=&nbsp;None,</div></div><div class=\"1109\" style=\"display: none;\"><div style=\"display: table-cell;\"></div><div style=\"display: table-cell;\">max_width&nbsp;=&nbsp;None,</div></div><div class=\"1109\" style=\"display: none;\"><div style=\"display: table-cell;\"></div><div style=\"display: table-cell;\">min_border&nbsp;=&nbsp;5,</div></div><div class=\"1109\" style=\"display: none;\"><div style=\"display: table-cell;\"></div><div style=\"display: table-cell;\">min_border_bottom&nbsp;=&nbsp;None,</div></div><div class=\"1109\" style=\"display: none;\"><div style=\"display: table-cell;\"></div><div style=\"display: table-cell;\">min_border_left&nbsp;=&nbsp;None,</div></div><div class=\"1109\" style=\"display: none;\"><div style=\"display: table-cell;\"></div><div style=\"display: table-cell;\">min_border_right&nbsp;=&nbsp;None,</div></div><div class=\"1109\" style=\"display: none;\"><div style=\"display: table-cell;\"></div><div style=\"display: table-cell;\">min_border_top&nbsp;=&nbsp;None,</div></div><div class=\"1109\" style=\"display: none;\"><div style=\"display: table-cell;\"></div><div style=\"display: table-cell;\">min_height&nbsp;=&nbsp;None,</div></div><div class=\"1109\" style=\"display: none;\"><div style=\"display: table-cell;\"></div><div style=\"display: table-cell;\">min_width&nbsp;=&nbsp;None,</div></div><div class=\"1109\" style=\"display: none;\"><div style=\"display: table-cell;\"></div><div style=\"display: table-cell;\">name&nbsp;=&nbsp;None,</div></div><div class=\"1109\" style=\"display: none;\"><div style=\"display: table-cell;\"></div><div style=\"display: table-cell;\">outer_height&nbsp;=&nbsp;0,</div></div><div class=\"1109\" style=\"display: none;\"><div style=\"display: table-cell;\"></div><div style=\"display: table-cell;\">outer_width&nbsp;=&nbsp;0,</div></div><div class=\"1109\" style=\"display: none;\"><div style=\"display: table-cell;\"></div><div style=\"display: table-cell;\">outline_line_alpha&nbsp;=&nbsp;1.0,</div></div><div class=\"1109\" style=\"display: none;\"><div style=\"display: table-cell;\"></div><div style=\"display: table-cell;\">outline_line_cap&nbsp;=&nbsp;'butt',</div></div><div class=\"1109\" style=\"display: none;\"><div style=\"display: table-cell;\"></div><div style=\"display: table-cell;\">outline_line_color&nbsp;=&nbsp;'#e5e5e5',</div></div><div class=\"1109\" style=\"display: none;\"><div style=\"display: table-cell;\"></div><div style=\"display: table-cell;\">outline_line_dash&nbsp;=&nbsp;[],</div></div><div class=\"1109\" style=\"display: none;\"><div style=\"display: table-cell;\"></div><div style=\"display: table-cell;\">outline_line_dash_offset&nbsp;=&nbsp;0,</div></div><div class=\"1109\" style=\"display: none;\"><div style=\"display: table-cell;\"></div><div style=\"display: table-cell;\">outline_line_join&nbsp;=&nbsp;'bevel',</div></div><div class=\"1109\" style=\"display: none;\"><div style=\"display: table-cell;\"></div><div style=\"display: table-cell;\">outline_line_width&nbsp;=&nbsp;1,</div></div><div class=\"1109\" style=\"display: none;\"><div style=\"display: table-cell;\"></div><div style=\"display: table-cell;\">output_backend&nbsp;=&nbsp;'canvas',</div></div><div class=\"1109\" style=\"display: none;\"><div style=\"display: table-cell;\"></div><div style=\"display: table-cell;\">renderers&nbsp;=&nbsp;[GlyphRenderer(id='1039', ...)],</div></div><div class=\"1109\" style=\"display: none;\"><div style=\"display: table-cell;\"></div><div style=\"display: table-cell;\">reset_policy&nbsp;=&nbsp;'standard',</div></div><div class=\"1109\" style=\"display: none;\"><div style=\"display: table-cell;\"></div><div style=\"display: table-cell;\">right&nbsp;=&nbsp;[],</div></div><div class=\"1109\" style=\"display: none;\"><div style=\"display: table-cell;\"></div><div style=\"display: table-cell;\">sizing_mode&nbsp;=&nbsp;None,</div></div><div class=\"1109\" style=\"display: none;\"><div style=\"display: table-cell;\"></div><div style=\"display: table-cell;\">subscribed_events&nbsp;=&nbsp;[],</div></div><div class=\"1109\" style=\"display: none;\"><div style=\"display: table-cell;\"></div><div style=\"display: table-cell;\">syncable&nbsp;=&nbsp;True,</div></div><div class=\"1109\" style=\"display: none;\"><div style=\"display: table-cell;\"></div><div style=\"display: table-cell;\">tags&nbsp;=&nbsp;[],</div></div><div class=\"1109\" style=\"display: none;\"><div style=\"display: table-cell;\"></div><div style=\"display: table-cell;\">title&nbsp;=&nbsp;Title(id='1043', ...),</div></div><div class=\"1109\" style=\"display: none;\"><div style=\"display: table-cell;\"></div><div style=\"display: table-cell;\">title_location&nbsp;=&nbsp;'above',</div></div><div class=\"1109\" style=\"display: none;\"><div style=\"display: table-cell;\"></div><div style=\"display: table-cell;\">toolbar&nbsp;=&nbsp;Toolbar(id='1028', ...),</div></div><div class=\"1109\" style=\"display: none;\"><div style=\"display: table-cell;\"></div><div style=\"display: table-cell;\">toolbar_location&nbsp;=&nbsp;'right',</div></div><div class=\"1109\" style=\"display: none;\"><div style=\"display: table-cell;\"></div><div style=\"display: table-cell;\">toolbar_sticky&nbsp;=&nbsp;True,</div></div><div class=\"1109\" style=\"display: none;\"><div style=\"display: table-cell;\"></div><div style=\"display: table-cell;\">visible&nbsp;=&nbsp;True,</div></div><div class=\"1109\" style=\"display: none;\"><div style=\"display: table-cell;\"></div><div style=\"display: table-cell;\">width&nbsp;=&nbsp;600,</div></div><div class=\"1109\" style=\"display: none;\"><div style=\"display: table-cell;\"></div><div style=\"display: table-cell;\">width_policy&nbsp;=&nbsp;'auto',</div></div><div class=\"1109\" style=\"display: none;\"><div style=\"display: table-cell;\"></div><div style=\"display: table-cell;\">x_range&nbsp;=&nbsp;DataRange1d(id='1005', ...),</div></div><div class=\"1109\" style=\"display: none;\"><div style=\"display: table-cell;\"></div><div style=\"display: table-cell;\">x_scale&nbsp;=&nbsp;LinearScale(id='1009', ...),</div></div><div class=\"1109\" style=\"display: none;\"><div style=\"display: table-cell;\"></div><div style=\"display: table-cell;\">y_range&nbsp;=&nbsp;DataRange1d(id='1007', ...),</div></div><div class=\"1109\" style=\"display: none;\"><div style=\"display: table-cell;\"></div><div style=\"display: table-cell;\">y_scale&nbsp;=&nbsp;LinearScale(id='1011', ...))</div></div></div>\n",
       "<script>\n",
       "(function() {\n",
       "  let expanded = false;\n",
       "  const ellipsis = document.getElementById(\"1110\");\n",
       "  ellipsis.addEventListener(\"click\", function() {\n",
       "    const rows = document.getElementsByClassName(\"1109\");\n",
       "    for (let i = 0; i < rows.length; i++) {\n",
       "      const el = rows[i];\n",
       "      el.style.display = expanded ? \"none\" : \"table-row\";\n",
       "    }\n",
       "    ellipsis.innerHTML = expanded ? \"&hellip;)\" : \"&lsaquo;&lsaquo;&lsaquo;\";\n",
       "    expanded = !expanded;\n",
       "  });\n",
       "})();\n",
       "</script>\n"
      ],
      "text/plain": [
       "Figure(id='1004', ...)"
      ]
     },
     "execution_count": 60,
     "metadata": {},
     "output_type": "execute_result"
    }
   ],
   "source": [
    "draw_vectors(word_vectors_pca[:, 0], word_vectors_pca[:, 1], token=words)"
   ]
  },
  {
   "cell_type": "code",
   "execution_count": 61,
   "id": "9d860e23",
   "metadata": {},
   "outputs": [],
   "source": [
    "embedding = umap.UMAP(n_neighbors=5).fit_transform(word_vectors) # преобразовываем"
   ]
  },
  {
   "cell_type": "code",
   "execution_count": 62,
   "id": "a08618b5",
   "metadata": {},
   "outputs": [
    {
     "data": {
      "text/html": [
       "\n",
       "  <div class=\"bk-root\" id=\"45882dcb-c4e2-48c9-b80d-569994c58e8e\" data-root-id=\"1114\"></div>\n"
      ]
     },
     "metadata": {},
     "output_type": "display_data"
    },
    {
     "data": {
      "application/javascript": [
       "(function(root) {\n",
       "  function embed_document(root) {\n",
       "  const docs_json = {\"543f6b38-1785-48b8-883f-0150dce6cfb4\":{\"defs\":[],\"roots\":{\"references\":[{\"attributes\":{\"below\":[{\"id\":\"1123\"}],\"center\":[{\"id\":\"1126\"},{\"id\":\"1130\"}],\"height\":400,\"left\":[{\"id\":\"1127\"}],\"renderers\":[{\"id\":\"1149\"}],\"title\":{\"id\":\"1164\"},\"toolbar\":{\"id\":\"1138\"},\"x_range\":{\"id\":\"1115\"},\"x_scale\":{\"id\":\"1119\"},\"y_range\":{\"id\":\"1117\"},\"y_scale\":{\"id\":\"1121\"}},\"id\":\"1114\",\"subtype\":\"Figure\",\"type\":\"Plot\"},{\"attributes\":{},\"id\":\"1117\",\"type\":\"DataRange1d\"},{\"attributes\":{\"coordinates\":null,\"formatter\":{\"id\":\"1170\"},\"group\":null,\"major_label_policy\":{\"id\":\"1171\"},\"ticker\":{\"id\":\"1124\"}},\"id\":\"1123\",\"type\":\"LinearAxis\"},{\"attributes\":{},\"id\":\"1128\",\"type\":\"BasicTicker\"},{\"attributes\":{},\"id\":\"1168\",\"type\":\"AllLabels\"},{\"attributes\":{},\"id\":\"1124\",\"type\":\"BasicTicker\"},{\"attributes\":{},\"id\":\"1136\",\"type\":\"HelpTool\"},{\"attributes\":{\"axis\":{\"id\":\"1123\"},\"coordinates\":null,\"group\":null,\"ticker\":null},\"id\":\"1126\",\"type\":\"Grid\"},{\"attributes\":{},\"id\":\"1121\",\"type\":\"LinearScale\"},{\"attributes\":{\"bottom_units\":\"screen\",\"coordinates\":null,\"fill_alpha\":0.5,\"fill_color\":\"lightgrey\",\"group\":null,\"left_units\":\"screen\",\"level\":\"overlay\",\"line_alpha\":1.0,\"line_color\":\"black\",\"line_dash\":[4,4],\"line_width\":2,\"right_units\":\"screen\",\"syncable\":false,\"top_units\":\"screen\"},\"id\":\"1137\",\"type\":\"BoxAnnotation\"},{\"attributes\":{\"coordinates\":null,\"data_source\":{\"id\":\"1113\"},\"glyph\":{\"id\":\"1146\"},\"group\":null,\"hover_glyph\":null,\"muted_glyph\":{\"id\":\"1148\"},\"nonselection_glyph\":{\"id\":\"1147\"},\"view\":{\"id\":\"1150\"}},\"id\":\"1149\",\"type\":\"GlyphRenderer\"},{\"attributes\":{},\"id\":\"1171\",\"type\":\"AllLabels\"},{\"attributes\":{},\"id\":\"1134\",\"type\":\"SaveTool\"},{\"attributes\":{\"fill_alpha\":{\"value\":0.2},\"fill_color\":{\"field\":\"color\"},\"hatch_alpha\":{\"value\":0.2},\"hatch_color\":{\"field\":\"color\"},\"line_alpha\":{\"value\":0.2},\"line_color\":{\"field\":\"color\"},\"size\":{\"value\":10},\"x\":{\"field\":\"x\"},\"y\":{\"field\":\"y\"}},\"id\":\"1148\",\"type\":\"Scatter\"},{\"attributes\":{\"coordinates\":null,\"group\":null},\"id\":\"1164\",\"type\":\"Title\"},{\"attributes\":{},\"id\":\"1135\",\"type\":\"ResetTool\"},{\"attributes\":{},\"id\":\"1167\",\"type\":\"BasicTickFormatter\"},{\"attributes\":{},\"id\":\"1170\",\"type\":\"BasicTickFormatter\"},{\"attributes\":{\"source\":{\"id\":\"1113\"}},\"id\":\"1150\",\"type\":\"CDSView\"},{\"attributes\":{\"data\":{\"color\":[\"blue\",\"blue\",\"blue\",\"blue\",\"blue\",\"blue\",\"blue\",\"blue\",\"blue\",\"blue\",\"blue\",\"blue\",\"blue\",\"blue\",\"blue\",\"blue\",\"blue\",\"blue\",\"blue\",\"blue\",\"blue\",\"blue\",\"blue\",\"blue\",\"blue\",\"blue\",\"blue\",\"blue\",\"blue\",\"blue\",\"blue\",\"blue\",\"blue\",\"blue\",\"blue\",\"blue\",\"blue\",\"blue\",\"blue\",\"blue\",\"blue\",\"blue\",\"blue\",\"blue\",\"blue\",\"blue\",\"blue\",\"blue\",\"blue\",\"blue\",\"blue\",\"blue\",\"blue\",\"blue\",\"blue\",\"blue\",\"blue\",\"blue\",\"blue\",\"blue\",\"blue\",\"blue\",\"blue\",\"blue\",\"blue\",\"blue\",\"blue\",\"blue\",\"blue\",\"blue\",\"blue\",\"blue\",\"blue\",\"blue\",\"blue\",\"blue\",\"blue\",\"blue\",\"blue\",\"blue\",\"blue\",\"blue\",\"blue\",\"blue\",\"blue\",\"blue\",\"blue\",\"blue\",\"blue\",\"blue\",\"blue\",\"blue\",\"blue\",\"blue\",\"blue\",\"blue\",\"blue\",\"blue\",\"blue\",\"blue\",\"blue\",\"blue\",\"blue\",\"blue\",\"blue\",\"blue\",\"blue\",\"blue\",\"blue\",\"blue\",\"blue\",\"blue\",\"blue\",\"blue\",\"blue\",\"blue\",\"blue\",\"blue\",\"blue\",\"blue\",\"blue\",\"blue\",\"blue\",\"blue\",\"blue\",\"blue\",\"blue\",\"blue\",\"blue\",\"blue\",\"blue\",\"blue\",\"blue\",\"blue\",\"blue\",\"blue\",\"blue\",\"blue\",\"blue\",\"blue\",\"blue\",\"blue\",\"blue\",\"blue\",\"blue\",\"blue\",\"blue\",\"blue\",\"blue\",\"blue\",\"blue\",\"blue\",\"blue\",\"blue\",\"blue\",\"blue\",\"blue\",\"blue\",\"blue\",\"blue\",\"blue\",\"blue\",\"blue\",\"blue\",\"blue\",\"blue\",\"blue\",\"blue\",\"blue\",\"blue\",\"blue\",\"blue\",\"blue\",\"blue\",\"blue\",\"blue\",\"blue\",\"blue\",\"blue\",\"blue\",\"blue\",\"blue\",\"blue\",\"blue\",\"blue\",\"blue\",\"blue\",\"blue\",\"blue\",\"blue\",\"blue\",\"blue\",\"blue\",\"blue\",\"blue\",\"blue\",\"blue\",\"blue\",\"blue\",\"blue\",\"blue\",\"blue\",\"blue\",\"blue\",\"blue\",\"blue\",\"blue\",\"blue\",\"blue\",\"blue\",\"blue\",\"blue\",\"blue\",\"blue\",\"blue\",\"blue\",\"blue\",\"blue\",\"blue\",\"blue\",\"blue\",\"blue\",\"blue\",\"blue\",\"blue\",\"blue\",\"blue\",\"blue\",\"blue\",\"blue\",\"blue\",\"blue\",\"blue\",\"blue\",\"blue\",\"blue\",\"blue\",\"blue\",\"blue\",\"blue\",\"blue\",\"blue\",\"blue\",\"blue\",\"blue\",\"blue\",\"blue\",\"blue\",\"blue\",\"blue\",\"blue\",\"blue\",\"blue\",\"blue\",\"blue\",\"blue\",\"blue\",\"blue\",\"blue\",\"blue\",\"blue\",\"blue\",\"blue\",\"blue\",\"blue\",\"blue\",\"blue\",\"blue\",\"blue\",\"blue\",\"blue\",\"blue\",\"blue\",\"blue\",\"blue\",\"blue\",\"blue\",\"blue\",\"blue\",\"blue\",\"blue\",\"blue\",\"blue\",\"blue\",\"blue\",\"blue\",\"blue\",\"blue\",\"blue\",\"blue\",\"blue\",\"blue\",\"blue\",\"blue\",\"blue\",\"blue\",\"blue\",\"blue\",\"blue\",\"blue\",\"blue\",\"blue\",\"blue\",\"blue\",\"blue\",\"blue\",\"blue\",\"blue\",\"blue\",\"blue\",\"blue\",\"blue\",\"blue\",\"blue\",\"blue\",\"blue\",\"blue\",\"blue\",\"blue\",\"blue\",\"blue\",\"blue\",\"blue\",\"blue\",\"blue\",\"blue\",\"blue\",\"blue\",\"blue\",\"blue\"],\"token\":[\"\\u0431\\u0435\\u0441\\u043f\\u043b\\u043e\\u0434\\u0438\\u0435\",\"\\u0445\\u0440\\u043e\\u043d\\u0438\\u0447\\u0435\\u0441\\u043a\\u0438\\u0439\",\"\\u0444\\u0430\\u043a\\u0442\\u043e\\u0440\",\"\\u043c\\u0443\\u0436\\u0441\\u043a\\u043e\\u0439\",\"\\u0441\\u0430\\u043b\\u044c\\u043f\\u0438\\u043d\\u0433\\u043e\\u043e\\u0444\\u043e\\u0440\\u0438\\u0442\",\"\\u0432\",\"\\u0436\\u0435\\u043d\\u0441\\u043a\\u043e\\u0435\",\"\\u043c\\u0430\\u0442\\u043a\\u0438\",\"\\u0442\\u0440\\u0443\\u0431\\u043d\\u043e\",\"\\u043d\\u0433\\u044d\",\"\\u044d\\u043d\\u0434\\u043e\\u043c\\u0435\\u0442\\u0440\\u0438\\u0442\",\"\\u043f\\u0435\\u0440\\u0438\\u0442\\u043e\\u043d\\u0435\\u0430\\u043b\\u044c\\u043d\\u043e\\u0435\",\"\\u043c\\u0438\\u043e\\u043c\\u0430\",\"\\u043f\\u0440\\u0438\\u043e\\u0431\\u0440\\u0435\\u0442\\u0435\\u043d\\u043d\\u043e\\u0435\",\"\\u043e\\u0431\\u0443\\u0441\\u043b\\u043e\\u0432\\u043b\\u0435\\u043d\\u043d\\u043e\\u0435\",\"\\u043e\\u0442\\u0441\\u0443\\u0442\\u0441\\u0442\\u0432\\u0438\\u0435\",\"\\u0430\\u0434\\u0435\\u043d\\u043e\\u043c\\u0438\\u043e\\u0437\",\"\\u044d\\u043d\\u0434\\u043e\\u043c\\u0435\\u0442\\u0440\\u0438\\u043e\\u0437\",\"\\u043f\\u043e\\u0437\\u0434\\u043d\\u0438\\u0439\",\"\\u043e\\u0440\\u0433\\u0430\\u043d\\u0430\",\"\\u043d\\u0430\",\"\\u0433\",\"\\u043c\\u0430\\u0442\\u043a\\u0435\",\"\\u0440\\u0443\\u0431\\u0435\\u0446\",\"\\u0430\\u043d\\u0430\\u043c\\u043d\\u0435\\u0437\\u0435\",\"\\u0440\\u0435\\u043f\\u0440\\u043e\\u0434\\u0443\\u043a\\u0442\\u0438\\u0432\\u043d\\u044b\\u0439\",\"\\u0441\\u0442\",\"\\u0441\\u043d\\u0438\\u0436\\u0435\\u043d\\u0438\\u0435\",\"\\u0442\\u0443\\u0431\\u044d\\u043a\\u0442\\u043e\\u043c\\u0438\\u044f\",\"\\u043d\\u0435\\u0432\\u044b\\u043d\\u0430\\u0448\\u0438\\u0432\\u0430\\u043d\\u0438\\u0435\",\"\\u043c\\u0443\\u0436\\u0441\\u043a\\u0438\\u043c\",\"\\u0441\\u043e\\u0447\\u0435\\u0442\\u0430\\u043d\\u043d\\u043e\\u0435\",\"\\u0444\\u0430\\u043a\\u0442\\u043e\\u0440\\u043e\\u043c\",\"\\u043f\\u043e\\u0441\\u043b\\u0435\",\"\\u0430\\u043d\\u043e\\u0432\\u0443\\u043b\\u044f\\u0446\\u0438\\u044f\",\"\\u043d\\u0435\\u0442\",\"\\u044f\\u0438\\u0447\\u043d\\u0438\\u043a\\u043e\\u0432\",\"\\u043e\\u0432\\u0430\\u0440\\u0438\\u0430\\u043b\\u044c\\u043d\\u043e\\u0433\\u043e\",\"\\u0432\\u043e\\u0437\\u0440\\u0430\\u0441\\u0442\",\"\\u0442\\u0435\\u043b\\u0430\",\"\\u0442\\u0430\\u0437\\u043e\\u0432\\u043e\\u0439\",\"\\u0431\\u0435\\u0440\\u0435\\u043c\\u0435\\u043d\\u043d\\u043e\\u0441\\u0442\\u0438\",\"\\u0442\\u0440\\u0443\\u0431\\u043d\\u043e\\u0435\",\"\\u043e\\u0433\\u0430\",\"\\u0431\\u0440\\u044e\\u0448\\u0438\\u043d\\u044b\",\"\\u0441\",\"\\u0440\\u0435\\u0437\\u0435\\u0440\\u0432\\u0430\",\"\\u0441\\u043f\\u044f\",\"\\u044d\\u043d\\u0434\\u043e\\u043c\\u0435\\u0442\\u0440\\u0438\\u043e\\u0437\\u043e\\u043c\",\"\\u043d\\u0435\\u0443\\u0442\\u043e\\u0447\\u043d\\u0435\\u043d\\u043d\\u043e\\u0435\",\"\\u0434\\u0440\\u0443\\u0433\\u0438\\u0435\",\"\\u0444\\u043e\\u0440\\u043c\\u044b\",\"\\u0431\\u0435\\u0441\\u043f\\u043b\\u043e\\u0434\\u0438\\u044f\",\"\\u0436\\u0435\\u043d\\u0441\\u043a\\u043e\\u0433\\u043e\",\"\\u044f\\u0438\\u0447\\u043d\\u0438\\u043a\\u0430\",\"\\u0442\\u0440\\u0443\\u0431\\u043d\\u044b\\u0439\",\"\\u0438\\u0437\\u0431\\u044b\\u0442\\u043e\\u0447\\u043d\\u0430\\u044f\",\"\\u0441\\u043f\\u0430\\u0435\\u0447\\u043d\\u044b\\u0439\",\"\\u0440\\u0435\\u043c\\u0438\\u0441\\u0441\\u0438\\u044f\",\"\\u043a\\u043e\\u043c\\u0431\\u0438\\u043d\\u0438\\u0440\\u043e\\u0432\\u0430\\u043d\\u043d\\u043e\\u0435\",\"\\u043f\\u0440\\u0438\\u0432\\u044b\\u0447\\u043d\\u043e\\u0435\",\"\\u0430\\u0431\\u0441\\u043e\\u043b\\u044e\\u0442\\u043d\\u043e\\u0435\",\"\\u043c\\u0430\\u0441\\u0441\\u0430\",\"\\u0433\\u0435\\u043d\\u0435\\u0437\\u0430\",\"\\u0430\\u0438\\u0442\",\"\\u043b\\u0435\\u0447\\u0435\\u043d\\u0438\\u0435\",\"\\u043d\\u0435\\u044f\\u0441\\u043d\\u043e\\u0433\\u043e\",\"\\u043f\\u0440\\u043e\\u0446\\u0435\\u0441\\u0441\",\"\\u0440\\u0435\\u0437\\u0443\\u0441\",\"\\u0441\\u043e\\u0441\\u0442\\u043e\\u044f\\u043d\\u0438\\u0435\",\"\\u0438\",\"\\u043a\\u0435\\u0441\\u0430\\u0440\\u0435\\u0432\\u043e\",\"\\u0440\\u0435\\u0437\\u0435\\u043a\\u0446\\u0438\\u044f\",\"\\u0445\\u0440\",\"\\u0441\\u043f\\u0440\\u0430\\u0432\\u0430\",\"\\u0434\\u0435\\u0444\\u0438\\u0446\\u0438\\u0442\",\"\\u0441\\u0435\\u0447\\u0435\\u043d\\u0438\\u0435\",\"\\u043c\\u0430\\u0441\\u0441\\u044b\",\"\\u043e\\u0442\\u0440\\u0438\\u0446\\u0430\\u0442\\u0435\\u043b\\u044c\\u043d\\u0430\\u044f\",\"\\u043f\\u043e\",\"\\u043f\\u0440\\u0430\\u0432\\u043e\\u0433\\u043e\",\"\\u0441\\u0432\\u044f\\u0437\\u0430\\u043d\\u043d\\u043e\\u0435\",\"\\u043f\\u0440\\u043e\\u0438\\u0441\\u0445\\u043e\\u0436\\u0434\\u0435\\u043d\\u0438\\u044f\",\"\\u0442\\u0440\\u0443\\u0431\\u043d\\u043e\\u0433\\u043e\",\"\\u0434\\u0432\\u0443\\u0441\\u0442\\u043e\\u0440\\u043e\\u043d\\u043d\\u044f\\u044f\",\"\\u043a\\u0438\\u0441\\u0442\\u0430\",\"\\u043a\\u0440\\u043e\\u0432\\u044c\",\"\\u0434\\u0438\\u0444\\u0444\\u0443\\u0437\\u043d\\u0430\\u044f\",\"\\u043f\\u0435\\u0440\\u0438\\u0442\\u043e\\u043d\\u0435\\u0430\\u043b\\u044c\\u043d\\u044b\\u0439\",\"\\u0448\\u0435\\u0439\\u043a\\u0438\",\"\\u043c\\u0430\\u043b\\u043e\\u043c\",\"\\u0444\\u0430\\u043a\\u0442\\u043e\\u0440\\u0430\\u043c\\u0438\",\"\\u0441\\u043b\\u0435\\u0432\\u0430\",\"\\u043c\\u0438\\u043e\\u043c\\u044d\\u043a\\u0442\\u043e\\u043c\\u0438\\u044f\",\"\\u0443\",\"\\u0433\\u0438\\u043f\\u0435\\u0440\\u043f\\u0440\\u043e\\u043b\\u0430\\u043a\\u0442\\u0438\\u043d\\u0435\\u043c\\u0438\\u044f\",\"\\u044d\\u043d\\u0434\\u043e\\u043a\\u0440\\u0438\\u043d\\u043d\\u043e\\u0435\",\"\\u0442\\u0430\\u0437\\u0443\",\"\\u043b\\u0435\\u0432\\u043e\\u0433\\u043e\",\"\\u043c\\u0443\\u0436\\u0441\\u043a\\u0438\\u043c\\u0438\",\"\\u0441\\u0442\\u043e\\u0440\\u043e\\u043d\\u043d\\u044f\\u044f\",\"\\u043d\\u0435\\u0434\\u043e\\u0441\\u0442\\u0430\\u0442\\u043e\\u0447\\u043d\\u043e\\u0441\\u0442\\u044c\",\"\\u043c\\u0443\\u0436\\u0430\",\"\\u043d\\u0430\\u0440\\u0443\\u0448\\u0435\\u043d\\u0438\\u0435\",\"\\u0434\\u0432\\u0443\\u0445\\u0441\\u0442\\u043e\\u0440\\u043e\\u043d\\u043d\\u044f\\u044f\",\"\\u0430\\u0433\\u043d\\u0440\\u0433\",\"\\u044d\\u043d\\u0434\\u043e\\u043c\\u0435\\u0442\\u0440\\u0438\\u044f\",\"\\u043a\\u0438\\u0441\\u0442\\u043e\\u0437\\u043d\\u0430\\u044f\",\"\\u0430\\u0431\\u0441\\u043e\\u043b\\u044e\\u0442\\u043d\\u044b\\u0439\",\"\\u0442\\u0435\\u0440\\u0430\\u043f\\u0438\\u044f\",\"\\u0437\\u043e\\u0431\",\"\\u0430\\u0431\\u0441\\u043e\\u043b\\u044e\\u0442\\u043d\\u043e\",\"\\u043f\\u0435\\u0440\\u0432\\u0438\\u0447\\u043d\\u0430\\u044f\",\"\\u0433\\u0438\\u043f\\u043e\\u0442\\u0438\\u0440\\u0435\\u043e\\u0437\",\"\\u0430\\u0437\\u043e\\u043e\\u0441\\u043f\\u0435\\u0440\\u043c\\u0438\\u044f\",\"\\u043f\\u043e\\u043b\\u043e\\u0432\\u043e\\u0433\\u043e\",\"\\u043e\\u043b\\u0438\\u0433\\u043e\\u043c\\u0435\\u043d\\u043e\\u0440\\u0440\\u0435\\u044f\",\"\\u0438\\u0441\\u0442\\u043e\\u0449\\u0435\\u043d\\u0438\\u0435\",\"\\u044d\\u043a\\u043e\",\"\\u043f\\u043e\\u0432\\u043e\\u0434\\u0443\",\"\\u043f\\u043e\\u043b\\u0438\\u043f\",\"\\u0430\",\"\\u0440\",\"\\u043f\\u0430\\u0440\\u0442\\u043d\\u0435\\u0440\\u0430\",\"\\u0436\\u0438\\u0440\\u043e\\u0432\\u043e\\u0433\\u043e\",\"\\u043f\\u0440\\u0435\\u0436\\u0434\\u0435\\u0432\\u0440\\u0435\\u043c\\u0435\\u043d\\u043d\\u043e\\u0435\",\"\\u043e\\u0436\\u0438\\u0440\\u0435\\u043d\\u0438\\u0435\",\"\\u043c\\u0438\\u043e\\u043c\\u044d\\u043a\\u0442\\u043e\\u043c\\u0438\\u0438\",\"\\u0443\\u0437\\u043b\\u043e\\u0432\\u043e\\u0439\",\"\\u0446\\u0438\\u043a\\u043b\\u0430\",\"\\u043a\",\"\\u044d\\u0443\\u0442\\u0438\\u0440\\u0435\\u043e\\u0437\",\"\\u043a\\u0435\\u0441\\u0430\\u0440\\u0435\\u0432\\u0430\",\"\\u043b\\u0441\\u043a\",\"\\u043c\",\"\\u0432\\u0442\\u043e\\u0440\\u0438\\u0447\\u043d\\u043e\\u0435\",\"\\u0440\\u0435\\u0446\\u0438\\u0434\\u0438\\u0432\",\"\\u043a\\u0438\\u0441\\u0442\\u044b\",\"\\u043c\\u043d\\u043e\\u0436\\u0435\\u0441\\u0442\\u0432\\u0435\\u043d\\u043d\\u0430\\u044f\",\"\\u043c\\u0430\\u043b\\u043e\\u0433\\u043e\",\"\\u043b\\u0435\\u0432\\u043e\\u0441\\u0442\\u043e\\u0440\\u043e\\u043d\\u043d\\u0438\\u0439\",\"\\u0430\\u043d\\u043e\\u0432\\u0443\\u043b\\u044f\\u0446\\u0438\\u0435\\u0439\",\"\\u0442\\u0430\\u0437\\u0430\",\"\\u043c\\u043e\\u043b\\u043e\\u0447\\u043d\\u044b\\u0445\",\"\\u043f\\u043e\\u043b\\u043e\\u0441\\u0442\\u0438\",\"\\u043d\\u0430\\u0441\\u043b\\u0435\\u0434\\u0441\\u0442\\u0432\\u0435\\u043d\\u043d\\u0430\\u044f\",\"\\u0441\\u0435\\u0447\\u0435\\u043d\\u0438\\u044f\",\"\\u0434\\u0432\\u0443\\u0441\\u0442\\u043e\\u0440\\u043e\\u043d\\u043d\\u0438\\u0439\",\"\\u043d\\u0435\\u0443\\u0434\\u0430\\u0447\\u0438\",\"\\u0441\\u0438\\u043d\\u0434\\u0440\\u043e\\u043c\",\"\\u0444\\u0430\\u043c\",\"\\u043e\\u0431\\u043c\\u0435\\u043d\\u0430\",\"\\u043e\\u0442\",\"\\u043e\\u043f\\u0435\\u0440\\u0430\\u0446\\u0438\\u0438\",\"\\u0436\\u0435\\u043b\\u0435\\u0437\",\"\\u0442\\u0443\\u0431\\u044d\\u043a\",\"\\u043c\\u0435\\u0441\",\"\\u043c\\u0430\\u0442\\u043e\\u0447\\u043d\\u044b\\u0445\",\"\\u0434\\u0438\\u0441\\u043f\\u043b\\u0430\\u0437\\u0438\\u044f\",\"\\u043a\\u0430\\u0440\\u0438\\u043e\\u0442\\u0438\\u043f\\u0430\",\"\\u043e\\u0430\\u0433\\u0430\",\"\\u0441\\u0442\\u0435\\u043f\\u0435\\u043d\\u0438\",\"\\u043f\\u0435\\u0440\\u0438\\u043e\\u0434\",\"\\u043d\\u043e\\u0440\\u043c\\u043e\\u0433\\u043e\\u043d\\u0430\\u0434\\u043e\\u0442\\u0440\\u043e\\u043f\\u043d\\u0430\\u044f\",\"\\u0430\\u043d\\u043e\\u043c\\u0430\\u043b\\u0438\\u0438\",\"\\u0434\\u043d\\u0437\",\"\\u0433\\u0438\\u043f\\u043e\\u0444\\u0438\\u0437\\u0430\",\"\\u044d\\u043d\\u0434\\u043e\\u043c\\u0435\\u0442\",\"\\u043c\\u0430\\u0442\\u043e\\u0447\\u043d\\u043e\\u0435\",\"\\u044d\\u043d\\u0434\\u043e\\u043c\\u0435\\u0442\\u0440\\u0438\\u043e\\u043c\\u0430\",\"\\u0442\\u0440\\u043e\\u043c\\u0431\\u043e\\u0444\\u0438\\u043b\\u0438\\u044f\",\"\\u0430\\u043c\\u0435\\u043d\\u043e\\u0440\\u0435\\u044f\",\"\\u0433\\u0433\",\"\\u0432\\u044b\\u043d\\u0443\\u0436\\u0434\\u0435\\u043d\\u043d\\u043e\\u0435\",\"\\u0442\\u0443\\u0431\\u044d\\u043a\\u0442\\u043e\",\"\\u0441\\u0438\\u043d\\u0435\\u0445\\u0438\\u0438\",\"\\u0432\\u043f\\u0440\",\"\\u043c\\u0438\\u043a\\u0440\\u043e\\u0430\\u0434\\u0435\\u043d\\u043e\\u043c\\u0430\",\"\\u0434\\u0438\\u0435\\u043d\\u043e\\u0433\\u0435\\u0441\\u0442\",\"\\u0444\\u043e\\u0440\\u043c\\u0430\",\"\\u0434\\u043e\\u0431\\u0440\\u043e\\u043a\\u0430\\u0447\\u0435\\u0441\\u0442\\u0432\\u0435\\u043d\\u043d\\u0430\\u044f\",\"\\u044d\\u043d\\u0434\\u043e\\u043c\\u0435\",\"\\u043d\\u043e\\u0440\\u043c\\u043e\\u043f\\u0440\\u043e\\u043b\\u0430\\u043a\\u0442\\u0438\\u043d\\u0435\\u043c\\u0438\\u0447\\u0435\\u0441\\u043a\\u0430\\u044f\",\"\\u0433\\u0435\\u043f\\u0430\\u0442\\u0438\\u0442\",\"\\u043f\\u0435\\u0440\\u0432\\u0438\\u0447\\u043d\\u043e\\u0435\",\"\\u043a\\u043e\\u043c\\u0431\\u0438\\u043d\\u0438\\u0440\\u043e\\u0432\\u0430\\u043d\\u043d\\u0430\\u044f\",\"\\u0445\",\"\\u0432\\u044b\\u0440\\u0430\\u0436\\u0435\\u043d\\u043d\\u043e\\u0435\",\"\\u043c\\u0430\\u0441\\u0442\\u043e\\u043f\\u0430\\u0442\\u0438\\u044f\",\"\\u0431\",\"\\u0433\\u043d\\u0440\\u0433\",\"\\u0433\\u0435\\u043d\\u0438\\u0442\\u0430\\u043b\\u044c\\u043d\\u044b\\u0439\",\"\\u043a\\u043e\\u043c\\u0431\",\"\\u043e\",\"\\u0442\\u0435\\u0440\\u0430\\u0442\\u043e\\u0437\\u043e\\u043e\\u0441\\u043f\\u0435\\u0440\\u043c\\u0438\\u044f\",\"\\u044d\",\"\\u0442\\u0443\\u0431\\u044d\\u043a\\u0442\\u043e\\u043c\\u0438\",\"\\u0431\\u0435\\u0437\",\"\\u043f\\u0430\\u0440\\u0430\\u043e\\u0432\\u0430\\u0440\\u0438\\u0430\\u043b\\u044c\\u043d\\u0430\\u044f\",\"\\u0445\\u0440\\u043e\\u043d\\u0438\\u0447\\u0435\\u0441\\u043a\\u043e\\u0439\",\"\\u043f\\u0440\\u043e\\u043b\\u0435\\u0447\",\"\\u043f\\u043e\\u043b\\u043d\\u043e\\u0439\",\"\\u043c\\u0443\\u0442\\u0430\\u0446\\u0438\\u044f\",\"\\u0437\\u0433\\u0442\",\"\\u0430\\u0434\\u043d\\u0435\\u043a\\u0441\\u044d\\u043a\\u0442\\u043e\\u043c\\u0438\\u044f\",\"\\u043b\\u0435\\u0432\\u043e\\u0439\",\"\\u0430\\u0441\\u0442\\u0435\\u043d\\u043e\\u0437\\u043e\\u043e\\u0441\\u043f\\u0435\\u0440\\u043c\\u0438\\u044f\",\"\\u043d\\u0430\\u0440\\u0443\\u0436\\u043d\\u044b\\u0439\",\"\\u0434\\u0435\\u0444\\u043e\\u0440\\u043c\\u0430\\u0446\\u0438\\u044f\",\"\\u0430\\u043d\\u043e\\u0432\\u0443\\u043b\\u044f\\u0442\\u043e\\u0440\\u043d\\u043e\\u0435\",\"\\u043e\\u043a\\u043a\\u043b\\u044e\\u0437\\u0438\\u0435\\u0439\",\"\\u0442\",\"\\u0441\\u043c\\u0435\\u0448\\u0430\\u043d\\u043d\\u043e\\u0435\",\"\\u043f\\u0440\\u0430\\u0432\\u043e\\u0441\\u0442\\u043e\\u0440\\u043e\\u043d\\u043d\\u0438\\u0439\",\"\\u0433\\u044d\",\"\\u0440\\u0443\\u0431\\u0446\\u0430\",\"\\u0441\\u0443\\u0431\\u043a\\u043b\\u0438\\u043d\\u0438\\u0447\\u0435\\u0441\\u043a\\u0438\\u0439\",\"\\u043f\\u0440\",\"\\u0440\\u0435\\u043f\\u0440\\u043e\\u0434\\u0443\\u043a\\u0442\\u0438\\u0432\",\"\\u0442\\u0443\\u0431\\u044d\\u043a\\u0442\\u043e\\u043c\\u0438\\u0438\",\"\\u043c\\u0430\\u0442\",\"\\u043d\",\"\\u0432\\u043e\\u0437\\u0440\\u0430\",\"\\u0430\\u0433\\u043e\\u043d\\u0438\\u0441\\u0442\\u044b\",\"\\u044d\\u043d\\u0434\\u043e\\u043c\",\"\\u0430\\u0434\\u043d\\u0435\\u043a\\u0441\\u0438\\u0442\",\"\\u043f\",\"\\u0434\\u0432\\u0443\\u0441\\u0442\\u043e\\u0440\\u043e\\u043d\\u043d\\u0438\\u0435\",\"\\u044d\\u043d\\u0434\",\"\\u043e\\u0431\\u043e\\u0438\\u0445\",\"\\u0440\\u0435\\u0433\\u0440\\u0435\\u0441\\u0441\",\"\\u043a\\u043e\\u043c\\u0431\\u0438\\u043d\\u0438\\u0440\",\"\\u043a\\u043e\\u043d\\u0441\\u0435\\u0440\\u0432\\u0430\\u0442\\u0438\\u0432\\u043d\\u043e\\u0439\",\"\\u043d\\u0435\\u0432\\u044b\\u043d\\u0430\\u0448\\u0438\\u0432\\u0430\",\"\\u044d\\u043a\\u0442\\u043e\\u043f\\u0438\\u044f\",\"\\u0433\\u0438\\u043f\\u0435\\u0440\\u043f\\u043b\\u0430\\u0437\\u0438\\u044f\",\"\\u0445\\u0445\",\"\\u0442\\u0440\",\"\\u0444\\u043a\\u0431\",\"\\u0446\\u0438\\u0441\\u0442\\u044d\\u043a\\u0442\\u043e\\u043c\\u0438\\u044f\",\"\\u0433\\u0438\\u043f\\u0435\\u0440\\u0433\\u043e\\u043c\\u043e\\u0446\\u0438\\u0441\\u0442\\u0435\\u0438\\u043d\\u0435\\u043c\\u0438\\u044f\",\"\\u043f\\u0440\\u043e\\u043b\\u0435\\u0447\\u0435\\u043d\\u043d\\u044b\\u0439\",\"\\u0434\\u0438\",\"\\u043f\\u043e\\u043b\\u0438\\u043a\\u0438\\u0441\\u0442\\u043e\\u0437\\u043d\\u044b\\u0445\",\"\\u0434\\u0432\\u0443\\u0441\\u0442\\u043e\\u0440\\u043e\\u043d\\u044f\\u044f\",\"\\u043d\\u0430\\u0447\\u0430\\u043b\\u044c\\u043d\\u043e\\u0439\",\"\\u0434\\u0438\\u0444\\u0444\\u0443\\u0437\\u043d\\u044b\\u0439\",\"\\u0433\\u0438\\u043f\\u0435\\u0440\\u0433\\u043e\\u043d\\u0430\\u0434\\u043e\\u0442\\u0440\\u043e\\u043f\\u043d\\u0430\\u044f\",\"\\u043e\\u0442\\u0441\\u0443\\u0442\\u0441\\u0442\\u0432\",\"\\u043c\\u0430\\u0441\\u0442\\u043e\\u043f\\u0430\\u0442\",\"\\u0433\\u043e\\u043c\\u043e\\u0437\\u0438\\u0433\\u043e\\u0442\\u043d\\u0430\\u044f\",\"\\u043e\\u0431\\u0435\\u0438\\u0445\",\"\\u043e\\u0442\\u0441\\u0443\",\"\\u0442\\u0440\\u0443\\u0431\\u043d\\u043e\\u0439\",\"\\u0442\\u0443\\u0431\\u044d\",\"\\u0430\\u0437\\u043e\\u043e\\u0441\\u043f\\u0440\\u0435\\u043c\\u0438\\u044f\",\"\\u0433\\u0438\\u043f\\u043e\\u0433\\u043e\\u043d\\u0430\\u0434\\u043e\\u0442\\u0440\\u043e\\u043f\\u043d\\u0430\\u044f\",\"\\u043c\\u0435\\u0434\\u0438\\u043a\\u0430\\u043c\\u0435\\u043d\\u0442\\u043e\\u0437\\u043d\\u043e\",\"\\u043d\\u0435\\u0443\\u0434\\u0430\\u0447\\u0430\",\"\\u0432\\u043e\\u0437\\u0440\",\"\\u0444\",\"\\u043c\\u0430\",\"\\u0445\\u0440\\u043e\\u043d\",\"\\u0434\\u0440\\u0443\\u0433\\u0438\\u043c\\u0438\",\"\\u0432\\u0438\\u0437\\u0430\\u043d\\u043d\\u0430\",\"\\u0440\\u0435\\u043f\\u0440\\u043e\\u0434\\u0443\",\"\\u044d\\u043d\\u0434\\u043e\\u043c\\u0435\\u0442\\u0440\\u0438\\u043e\",\"\\u043e\\u0431\\u0441\\u0443\\u043b\\u043e\\u0432\\u043b\\u0435\\u043d\\u043d\\u043e\\u0435\",\"\\u0432\\u043e\\u0437\",\"\\u044d\\u043d\\u0434\\u043e\",\"\\u043c\\u0430\\u0441\",\"\\u0441\\u0442\\u0430\\u0440\\u0448\\u0438\\u0439\",\"\\u0432\\u0442\\u043e\\u0440\\u0438\\u0447\\u043d\\u0430\\u044f\",\"\\u0431\\u0435\\u0440\\u0435\\u043c\\u0435\\u043d\\u043d\\u043e\\u0441\\u0442\",\"\\u0440\\u0435\\u0437\\u0435\\u0440\\u0432\",\"\\u043e\\u0442\\u0441\\u0443\\u0442\\u0441\\u0442\",\"\\u0434\\u0432\\u0443\\u0441\\u0442\",\"\\u0434\\u0432\\u0443\\u0441\\u0442\\u043e\\u0440\\u043e\\u043d\\u043d\\u0435\\u0439\",\"\\u0434\\u0432\\u0443\",\"\\u043f\\u0440\\u0438\\u0435\\u043c\\u043e\\u043c\",\"\\u043f\\u0440\\u0430\\u0432\\u043e\\u0439\",\"\\u043f\\u0440\\u0430\\u0432\\u043e\\u0441\\u0442\\u043e\\u0440\\u043e\\u043d\\u043d\\u044f\\u044f\",\"\\u0430\\u043c\\u0435\\u043d\\u043e\\u0440\\u0438\\u044f\",\"\\u043f\\u043b\\u0430\\u043d\\u0438\\u0440\\u043e\\u0432\\u0430\\u043d\\u0438\\u0435\",\"\\u0440\\u0443\\u0431\\u0446\\u043e\\u0432\\u0430\\u044f\",\"\\u0436\\u0435\\u043b\\u0435\\u0437\\u044b\",\"\\u0430\\u043d\",\"\\u0431\\u0440\\u044e\\u0449\\u0438\\u043d\\u044b\",\"\\u043a\\u043e\\u043d\\u0441\\u0435\\u0440\\u0432\\u0430\\u0442\\u0438\\u0432\\u043d\\u0430\\u044f\",\"\\u043d\\u043c\\u0446\",\"\\u0444\\u043e\\u043b\\u043b\\u0438\\u043a\\u0443\\u043b\\u044f\\u0440\\u043d\\u0430\\u044f\",\"\\u043a\\u043e\\u043c\\u043f\",\"\\u043b\\u0435\\u0432\\u043e\\u0441\\u0442\\u043e\\u0440\\u043e\\u043d\\u043d\\u044f\\u044f\",\"\\u0445\\u0440\\u043e\",\"\\u0431\\u0435\",\"\\u043c\\u0443\",\"\\u044f\\u0438\\u0447\",\"\\u0434\\u0432\",\"\\u044d\\u043d\\u0434\\u043e\\u043c\\u0435\\u0442\\u0440\\u0438\",\"\\u0445\\u0443\",\"\\u0431\\u0440\\u043e\\u043d\\u0445\\u0438\\u0430\\u043b\\u044c\\u043d\\u0430\\u044f\",\"\\u0430\\u0441\\u0442\\u043c\\u0430\",\"\\u0434\",\"\\u043e\\u0441\\u0430\",\"\\u0440\\u0430\\u0437\\u043c\\u0435\\u0440\\u043e\\u0432\",\"\\u0445\\u0440\\u043e\\u043d\\u0438\\u0447\",\"\\u0432\\u043e\",\"\\u043e\\u0430\\u0430\",\"\\u0433\\u043e\\u0434\\u0443\",\"\\u043d\\u043e\\u0441\\u0438\\u0442\\u0435\\u043b\\u044c\",\"\\u043e\\u0432\\u0430\\u0440\\u0438\\u0430\\u043b\\u044c\\u043d\\u043e\\u0433\",\"\\u0437\\u0430\\u043f\\u0430\\u0441\\u0430\",\"\\u043c\\u043e\\u043b\\u043e\\u0447\\u043d\\u043e\\u0439\",\"\\u043e\\u0432\\u0430\\u0440\\u044d\\u043a\\u0442\\u043e\\u043c\\u0438\\u044f\",\"\\u044d\\u0440\\u043e\\u0437\\u0438\\u044f\",\"\\u0436\\u0435\\u043b\\u0435\\u0437\\u0438\\u0441\\u0442\\u0430\\u044f\",\"\\u0430\\u043c\\u043f\\u0443\\u0442\\u0430\\u0446\\u0438\\u044f\",\"\\u0445\\u0440\\u043e\\u043d\\u0438\",\"\\u043f\\u0440\\u043e\\u043b\\u0435\\u0447\\u0435\\u043d\",\"\\u043f\\u0440\\u0430\\u0432\\u043e\\u0441\\u0442\\u043e\\u0440\\u043e\\u043d\\u043d\\u0435\\u0439\",\"\\u0440\\u0430\\u0437\\u0432\\u0438\\u0442\\u0438\\u044f\",\"\\u0433\\u043e\\u0434\\u0430\",\"\\u043c\\u0430\\u0442\\u043e\\u0447\\u043d\\u044b\\u0439\",\"\\u043c\\u0435\\u043d\\u043e\\u043f\\u0430\\u0443\\u0437\\u0430\",\"\\u043a\\u0440\\u0438\\u043f\\u0442\\u043e\\u0437\\u043e\\u043e\\u0441\\u043f\\u0435\\u0440\\u043c\\u0438\\u044f\",\"\\u043f\\u0430\\u0440\\u043e\\u043e\\u0432\\u0430\\u0440\\u0438\\u0430\\u043b\\u044c\\u043d\\u0430\\u044f\",\"\\u0430\\u0440\\u0442\\u0435\\u0440\\u0438\\u0439\",\"\\u0440\\u043e\\u043a\\u0438\\u0442\\u0430\\u043d\\u0441\\u043a\\u043e\\u0433\\u043e\",\"\\u043a\\u044e\\u0441\\u0442\\u043d\\u0435\\u0440\\u0430\",\"\\u044f\\u0438\\u0447\\u043d\\u0438\\u043a\"],\"x\":{\"__ndarray__\":\"ovVxQSiJdUG0fXVBJLNtQVITeUGL5slAT091QT2M3kDCGnRBVGx7QS43eEGUYnRBlgZ2QQiockEsBHJB/Y97Qbj8eUF0dXZB5XV8QeE2cUFJt3VBR7rNQC71eUH8LXtBYWN1QfYSd0E1SdtAnlV1QW/42kBSuHFBkYp1QXiQckGdiXRBsDfUQHtf2EAVNSHBGavYQHCkd0FUMXpBPiTWQNO5dUEI3nhBBcN0QaThfEGeS3dBr0y5QGoPe0HP2W9BWcB3Qcn0dkEGD3xB5Pt6QfYwekFzmnhB+q66QMkg3EANSXlBSpFzQTO+ckHkq3BB2cZ1Qf1cVEF0i3JByEZ5QQHeeUE54MtA2SFsQYSu2ECnjnpBisR1Qetlz0Aj62xBDiN7QeYZeEG16XxBHOdxQVJ6bUEQYW5BADZxQbIku0BEanlBEt11QY4ufEGXDnFBjM55QZT71UA2FXtBCStzQZupU0Efl7hAGIh7QRFfu0ADbXtBD5tJQTD710BlvnNBuWV6QaHofEEnRXhBz/1vQWgxYUERzW1BhL9xQcRhd0FrPbw/iml8QWmxdEGAEHlBQ7D4P7qYbkHcH31B4gVKQZxhdUFDOHhBu5n6QD23d0F9HHtBeux2QZJMY0FRGHxBNMFeQeZc0z84PEy+Mch6QT7sb0HNAFZBD4SfPxV+6D/x1F9Bb3R4QRFsZUG8RlFBbKv+QCjSYUGr3E9Ban+kP1ek/kAhW01BenzcP+1eakGUMtM/mjVMQVsFa0FK63FBUyFRQWfGAUGule0/bm/SP1qiYUG+yAVBwHpVQaULb0HoKf1AUW2dPwh1eUFlZle/JV5tQeVaVkFdBHFBRuFkQTY81j+bS6E/mtGdP12M+D9XaWNB0sPQP8A9+0CYdE3Aos8ovUMYGL5H51FBWdFTQZ5UkD+VEdE/8PXQv6R87j5kTdY/tCbsPye7BUFG+8I/sDH+QBwDgT+06QRBOlPKPy+kmD+qbbY/RsbzP3YQwD9u4AVBCe24wG69/EDRm9Q/FsJcPyuPuj89m6E/WSepP3v1hj/p7bs/t2yFP2M2nD8tq8fAX/RLQXtC4z/yWaE/uYOwv5RGvj8BN9Y/7FnUPybW3T9FbvI/ciZOQVxrnT8E9Y8/zV3YwJ/Li7/1CozACES5P8D8FcB8zY/AgRmqP3snA8C0hw7AfeLwwGLgxD8WCsPA7aSWv4UXhMBeLbS+8NcbwElbzD6gpHq/x7spv4Mdn7+FrBfAzP2cP8kO5T4U1cA/jmcewKptmj+qEJc/4kiBwI+UVcDAT+q/dgbeP0R5kMApupLANDPoP8qMlT+7UhzBrCKHwGogzz++xOE/cJsbwZOH5z/ehOvAX9wZwaZC0z/KLIk/RTO0PzgKG8GzHdzAnY3twNW14cCCtui/p1+6P+0JwMABbYjAJyT0wL17HsG/YPHAvr7HwELGfMDh0qvAzSwAwAd78cDEYCDBD9PswHY/hMA1IuDA6DDWwLYhCcChJRjBTjXfvkYPbMDAjEY+QInOP+tyoMDQLhrBX7AgwMIBmL/NPfDAwVNMPsjDGMHzmazAr73zwIA3qMAu58zAuXTbwFjh2sByfOLAhk7VPztR0D+ksbvAq5T2wP859sAXQ8bAmsIfwXrAjMCKERzAhAW5wE6p88Dju1zAqGeaP39U8MCZg7g/I1eXP59wHcGHopfABHvtwO8Egj/0R/LABxTlv6pZ1cB8X8HA4+/BwIKM38CHQu/AOOB2v3iJEsCO/R7B\",\"dtype\":\"float32\",\"order\":\"little\",\"shape\":[330]},\"y\":{\"__ndarray__\":\"20XQQApbiEAcaddACY+/QDpCeD91Zp1B3u70vlo9okHvhAu/35btQH8ajUA5pAa/RPgYQKs5oECby29AqOzxQLWMjUDoSaJALff0QPdFtUAlnu9AI2SeQcVD/UCe7oJA/oq5QLNpvEDojqFBMMaMQCp7oUFvgJE9WfQ1vok6tr6Ulk9AYemfQamUoEFWQZlAAemgQd1YvkAjuNE/RkigQfF9NT+dSltA0baFQG/v+UB+ziJAeiGaQeZNB0C1dMVAzeFbP6W1LkBJxn1AWGiPQHKU5kDrxJpAg22aQUwroUFP4e5AxtvTQMrpYrt2i5Y+IpMVQAKyYMCmsoNAz+S+QIdr5kBj4Z1BYLsHPbsUoUExl/VAaULmQFjFnkGPjE0/hZOEQEDEH0D+YgFBmlt8QJAeWj9w9cFAfgnOQFOTmkHBR+dAPeZKQF5wAEEpQ8BAgeyHPzZQoEFM3I8/YpzSQMtBV8Cp9ZlBuGMPQJ+cmkEie5k/qntBwBA/oUGBV6dASNyIP9DrCUBcNiRAwjnKQJkGBb8j+zW+th2/QGSf2kDMfOBAjVEAQZ//jUD1r4ZADj4mQQu2iD6PkAFBi71LwDKgh0CJWzhAUtM2PymoNkDpl5Q/vxOEQLE9u74GrwBBSJ1ov5QOGkGT7hO/3FeNP/W1vEBmwWLAPHnOQHNfKkGLey6/Fi/pQNnrmb6LKlPA9EkUP9BS/L4+MlPARUzQQE2oFD/JOlHAfojSQPvI1r23arhAI59UwEMqkb0CJsVASrNNwM1F3j6hYypB0HgZQQSDBL/FfEY+bURdwNGMYryfZSA/R4joQOlEfUAXf4q/TelqvuKSZMD6jY490CiGvg7dGkFWbABBqgV8P5VcJ0FEgr2+aszPQDG9MD9QwMm/I23UvkriCL+eMlTAoaNTwKiZ5UDm8tdAaCu0v+pYIT6nPM5A6boiQa+1Sj4buqpATwQZP+HFRD+PIn0+9XyoQEGS9kC2XNtAE6EnQS6H3UCRMUQ+nvZ0vg4HJD/HHBpBGxsfPysnoD9Hd/ZANY3jQErFTj/aZ9VAbcfwQMcDcD/THCk8Q+BSwFVWHkF9yO5AArW+vx1cukDij6lArScaQZ3czUCH+iRBjPZUwHyd2UAk1mc/oH7JPpi+n784oba/fi2eP5wl/L+wOqO/z8vFQBlMxb/FBgHA1xXfP78lpT+7qwm+ML2vvxRQur8BtT6/gdbEvwxwpj16TqK/K52DvzPiv7/k+8e/ywXbQLkiCT7zv7xANWb5v7cniT/QlexAs8XHv+iP17+KFci/imnGQJxzor9KIqm/d5glQbm46kAGfpdAZh65v6Lv20DgcB5B4XigQKKQIUHkJIY/Sp2cQJT6z0DtsvJAZKCUP7TXlkBMt/o+E26IP2QxOD9LHc+/rO+ZPzmgMb5K2sC/Zb4CQNxWm0BW444/0eMUPYDKxb9QOgG/morLv3in6D/T2J9Aw2GpP2qjob8soBE/RMyxPo+33b9qHZlAdkRUv12Uxb95CRe+BWW3QIIteL/XXZ5Aw87Lv4lXvr+AW94/Z50YvvP4mUDk+QK/F2OEPwWIFr8C9oU+Lx4JP1Lh7j5XCyY/ode3QFGarEABpR2+eKEGQFWrCEBUc7S8lbmaQPNEsL+A4fG/68fIvj0vAUDWPs+/oyF3P0yi8j9iEKE/R0dyPzrxnUB5uZa/dqyDP/E08EAD29c/9GHUv7BLpD7LdN69dHrtPFsoID+fmdU/1a2lv+y51b9UO55A\",\"dtype\":\"float32\",\"order\":\"little\",\"shape\":[330]}},\"selected\":{\"id\":\"1173\"},\"selection_policy\":{\"id\":\"1172\"}},\"id\":\"1113\",\"type\":\"ColumnDataSource\"},{\"attributes\":{\"callback\":null,\"tooltips\":[[\"token\",\"@token\"]]},\"id\":\"1151\",\"type\":\"HoverTool\"},{\"attributes\":{},\"id\":\"1173\",\"type\":\"Selection\"},{\"attributes\":{\"fill_alpha\":{\"value\":0.25},\"fill_color\":{\"field\":\"color\"},\"hatch_alpha\":{\"value\":0.25},\"hatch_color\":{\"field\":\"color\"},\"line_alpha\":{\"value\":0.25},\"line_color\":{\"field\":\"color\"},\"size\":{\"value\":10},\"x\":{\"field\":\"x\"},\"y\":{\"field\":\"y\"}},\"id\":\"1146\",\"type\":\"Scatter\"},{\"attributes\":{},\"id\":\"1132\",\"type\":\"WheelZoomTool\"},{\"attributes\":{},\"id\":\"1115\",\"type\":\"DataRange1d\"},{\"attributes\":{\"overlay\":{\"id\":\"1137\"}},\"id\":\"1133\",\"type\":\"BoxZoomTool\"},{\"attributes\":{},\"id\":\"1131\",\"type\":\"PanTool\"},{\"attributes\":{\"coordinates\":null,\"formatter\":{\"id\":\"1167\"},\"group\":null,\"major_label_policy\":{\"id\":\"1168\"},\"ticker\":{\"id\":\"1128\"}},\"id\":\"1127\",\"type\":\"LinearAxis\"},{\"attributes\":{\"axis\":{\"id\":\"1127\"},\"coordinates\":null,\"dimension\":1,\"group\":null,\"ticker\":null},\"id\":\"1130\",\"type\":\"Grid\"},{\"attributes\":{\"fill_alpha\":{\"value\":0.1},\"fill_color\":{\"field\":\"color\"},\"hatch_alpha\":{\"value\":0.1},\"hatch_color\":{\"field\":\"color\"},\"line_alpha\":{\"value\":0.1},\"line_color\":{\"field\":\"color\"},\"size\":{\"value\":10},\"x\":{\"field\":\"x\"},\"y\":{\"field\":\"y\"}},\"id\":\"1147\",\"type\":\"Scatter\"},{\"attributes\":{},\"id\":\"1172\",\"type\":\"UnionRenderers\"},{\"attributes\":{},\"id\":\"1119\",\"type\":\"LinearScale\"},{\"attributes\":{\"active_scroll\":{\"id\":\"1132\"},\"tools\":[{\"id\":\"1131\"},{\"id\":\"1132\"},{\"id\":\"1133\"},{\"id\":\"1134\"},{\"id\":\"1135\"},{\"id\":\"1136\"},{\"id\":\"1151\"}]},\"id\":\"1138\",\"type\":\"Toolbar\"}],\"root_ids\":[\"1114\"]},\"title\":\"Bokeh Application\",\"version\":\"2.4.3\"}};\n",
       "  const render_items = [{\"docid\":\"543f6b38-1785-48b8-883f-0150dce6cfb4\",\"root_ids\":[\"1114\"],\"roots\":{\"1114\":\"45882dcb-c4e2-48c9-b80d-569994c58e8e\"}}];\n",
       "  root.Bokeh.embed.embed_items_notebook(docs_json, render_items);\n",
       "  }\n",
       "  if (root.Bokeh !== undefined) {\n",
       "    embed_document(root);\n",
       "  } else {\n",
       "    let attempts = 0;\n",
       "    const timer = setInterval(function(root) {\n",
       "      if (root.Bokeh !== undefined) {\n",
       "        clearInterval(timer);\n",
       "        embed_document(root);\n",
       "      } else {\n",
       "        attempts++;\n",
       "        if (attempts > 100) {\n",
       "          clearInterval(timer);\n",
       "          console.log(\"Bokeh: ERROR: Unable to run BokehJS code because BokehJS library is missing\");\n",
       "        }\n",
       "      }\n",
       "    }, 10, root)\n",
       "  }\n",
       "})(window);"
      ],
      "application/vnd.bokehjs_exec.v0+json": ""
     },
     "metadata": {
      "application/vnd.bokehjs_exec.v0+json": {
       "id": "1114"
      }
     },
     "output_type": "display_data"
    },
    {
     "data": {
      "text/html": [
       "<div style=\"display: table;\"><div style=\"display: table-row;\"><div style=\"display: table-cell;\"><b title=\"bokeh.plotting.figure.Figure\">Figure</b>(</div><div style=\"display: table-cell;\">id&nbsp;=&nbsp;'1114', <span id=\"1231\" style=\"cursor: pointer;\">&hellip;)</span></div></div><div class=\"1230\" style=\"display: none;\"><div style=\"display: table-cell;\"></div><div style=\"display: table-cell;\">above&nbsp;=&nbsp;[],</div></div><div class=\"1230\" style=\"display: none;\"><div style=\"display: table-cell;\"></div><div style=\"display: table-cell;\">align&nbsp;=&nbsp;'start',</div></div><div class=\"1230\" style=\"display: none;\"><div style=\"display: table-cell;\"></div><div style=\"display: table-cell;\">aspect_ratio&nbsp;=&nbsp;None,</div></div><div class=\"1230\" style=\"display: none;\"><div style=\"display: table-cell;\"></div><div style=\"display: table-cell;\">aspect_scale&nbsp;=&nbsp;1,</div></div><div class=\"1230\" style=\"display: none;\"><div style=\"display: table-cell;\"></div><div style=\"display: table-cell;\">background&nbsp;=&nbsp;None,</div></div><div class=\"1230\" style=\"display: none;\"><div style=\"display: table-cell;\"></div><div style=\"display: table-cell;\">background_fill_alpha&nbsp;=&nbsp;1.0,</div></div><div class=\"1230\" style=\"display: none;\"><div style=\"display: table-cell;\"></div><div style=\"display: table-cell;\">background_fill_color&nbsp;=&nbsp;'#ffffff',</div></div><div class=\"1230\" style=\"display: none;\"><div style=\"display: table-cell;\"></div><div style=\"display: table-cell;\">below&nbsp;=&nbsp;[LinearAxis(id='1123', ...)],</div></div><div class=\"1230\" style=\"display: none;\"><div style=\"display: table-cell;\"></div><div style=\"display: table-cell;\">border_fill_alpha&nbsp;=&nbsp;1.0,</div></div><div class=\"1230\" style=\"display: none;\"><div style=\"display: table-cell;\"></div><div style=\"display: table-cell;\">border_fill_color&nbsp;=&nbsp;'#ffffff',</div></div><div class=\"1230\" style=\"display: none;\"><div style=\"display: table-cell;\"></div><div style=\"display: table-cell;\">center&nbsp;=&nbsp;[Grid(id='1126', ...), Grid(id='1130', ...)],</div></div><div class=\"1230\" style=\"display: none;\"><div style=\"display: table-cell;\"></div><div style=\"display: table-cell;\">css_classes&nbsp;=&nbsp;[],</div></div><div class=\"1230\" style=\"display: none;\"><div style=\"display: table-cell;\"></div><div style=\"display: table-cell;\">disabled&nbsp;=&nbsp;False,</div></div><div class=\"1230\" style=\"display: none;\"><div style=\"display: table-cell;\"></div><div style=\"display: table-cell;\">extra_x_ranges&nbsp;=&nbsp;{},</div></div><div class=\"1230\" style=\"display: none;\"><div style=\"display: table-cell;\"></div><div style=\"display: table-cell;\">extra_x_scales&nbsp;=&nbsp;{},</div></div><div class=\"1230\" style=\"display: none;\"><div style=\"display: table-cell;\"></div><div style=\"display: table-cell;\">extra_y_ranges&nbsp;=&nbsp;{},</div></div><div class=\"1230\" style=\"display: none;\"><div style=\"display: table-cell;\"></div><div style=\"display: table-cell;\">extra_y_scales&nbsp;=&nbsp;{},</div></div><div class=\"1230\" style=\"display: none;\"><div style=\"display: table-cell;\"></div><div style=\"display: table-cell;\">frame_height&nbsp;=&nbsp;None,</div></div><div class=\"1230\" style=\"display: none;\"><div style=\"display: table-cell;\"></div><div style=\"display: table-cell;\">frame_width&nbsp;=&nbsp;None,</div></div><div class=\"1230\" style=\"display: none;\"><div style=\"display: table-cell;\"></div><div style=\"display: table-cell;\">height&nbsp;=&nbsp;400,</div></div><div class=\"1230\" style=\"display: none;\"><div style=\"display: table-cell;\"></div><div style=\"display: table-cell;\">height_policy&nbsp;=&nbsp;'auto',</div></div><div class=\"1230\" style=\"display: none;\"><div style=\"display: table-cell;\"></div><div style=\"display: table-cell;\">hidpi&nbsp;=&nbsp;True,</div></div><div class=\"1230\" style=\"display: none;\"><div style=\"display: table-cell;\"></div><div style=\"display: table-cell;\">inner_height&nbsp;=&nbsp;0,</div></div><div class=\"1230\" style=\"display: none;\"><div style=\"display: table-cell;\"></div><div style=\"display: table-cell;\">inner_width&nbsp;=&nbsp;0,</div></div><div class=\"1230\" style=\"display: none;\"><div style=\"display: table-cell;\"></div><div style=\"display: table-cell;\">js_event_callbacks&nbsp;=&nbsp;{},</div></div><div class=\"1230\" style=\"display: none;\"><div style=\"display: table-cell;\"></div><div style=\"display: table-cell;\">js_property_callbacks&nbsp;=&nbsp;{},</div></div><div class=\"1230\" style=\"display: none;\"><div style=\"display: table-cell;\"></div><div style=\"display: table-cell;\">left&nbsp;=&nbsp;[LinearAxis(id='1127', ...)],</div></div><div class=\"1230\" style=\"display: none;\"><div style=\"display: table-cell;\"></div><div style=\"display: table-cell;\">lod_factor&nbsp;=&nbsp;10,</div></div><div class=\"1230\" style=\"display: none;\"><div style=\"display: table-cell;\"></div><div style=\"display: table-cell;\">lod_interval&nbsp;=&nbsp;300,</div></div><div class=\"1230\" style=\"display: none;\"><div style=\"display: table-cell;\"></div><div style=\"display: table-cell;\">lod_threshold&nbsp;=&nbsp;2000,</div></div><div class=\"1230\" style=\"display: none;\"><div style=\"display: table-cell;\"></div><div style=\"display: table-cell;\">lod_timeout&nbsp;=&nbsp;500,</div></div><div class=\"1230\" style=\"display: none;\"><div style=\"display: table-cell;\"></div><div style=\"display: table-cell;\">margin&nbsp;=&nbsp;(0, 0, 0, 0),</div></div><div class=\"1230\" style=\"display: none;\"><div style=\"display: table-cell;\"></div><div style=\"display: table-cell;\">match_aspect&nbsp;=&nbsp;False,</div></div><div class=\"1230\" style=\"display: none;\"><div style=\"display: table-cell;\"></div><div style=\"display: table-cell;\">max_height&nbsp;=&nbsp;None,</div></div><div class=\"1230\" style=\"display: none;\"><div style=\"display: table-cell;\"></div><div style=\"display: table-cell;\">max_width&nbsp;=&nbsp;None,</div></div><div class=\"1230\" style=\"display: none;\"><div style=\"display: table-cell;\"></div><div style=\"display: table-cell;\">min_border&nbsp;=&nbsp;5,</div></div><div class=\"1230\" style=\"display: none;\"><div style=\"display: table-cell;\"></div><div style=\"display: table-cell;\">min_border_bottom&nbsp;=&nbsp;None,</div></div><div class=\"1230\" style=\"display: none;\"><div style=\"display: table-cell;\"></div><div style=\"display: table-cell;\">min_border_left&nbsp;=&nbsp;None,</div></div><div class=\"1230\" style=\"display: none;\"><div style=\"display: table-cell;\"></div><div style=\"display: table-cell;\">min_border_right&nbsp;=&nbsp;None,</div></div><div class=\"1230\" style=\"display: none;\"><div style=\"display: table-cell;\"></div><div style=\"display: table-cell;\">min_border_top&nbsp;=&nbsp;None,</div></div><div class=\"1230\" style=\"display: none;\"><div style=\"display: table-cell;\"></div><div style=\"display: table-cell;\">min_height&nbsp;=&nbsp;None,</div></div><div class=\"1230\" style=\"display: none;\"><div style=\"display: table-cell;\"></div><div style=\"display: table-cell;\">min_width&nbsp;=&nbsp;None,</div></div><div class=\"1230\" style=\"display: none;\"><div style=\"display: table-cell;\"></div><div style=\"display: table-cell;\">name&nbsp;=&nbsp;None,</div></div><div class=\"1230\" style=\"display: none;\"><div style=\"display: table-cell;\"></div><div style=\"display: table-cell;\">outer_height&nbsp;=&nbsp;0,</div></div><div class=\"1230\" style=\"display: none;\"><div style=\"display: table-cell;\"></div><div style=\"display: table-cell;\">outer_width&nbsp;=&nbsp;0,</div></div><div class=\"1230\" style=\"display: none;\"><div style=\"display: table-cell;\"></div><div style=\"display: table-cell;\">outline_line_alpha&nbsp;=&nbsp;1.0,</div></div><div class=\"1230\" style=\"display: none;\"><div style=\"display: table-cell;\"></div><div style=\"display: table-cell;\">outline_line_cap&nbsp;=&nbsp;'butt',</div></div><div class=\"1230\" style=\"display: none;\"><div style=\"display: table-cell;\"></div><div style=\"display: table-cell;\">outline_line_color&nbsp;=&nbsp;'#e5e5e5',</div></div><div class=\"1230\" style=\"display: none;\"><div style=\"display: table-cell;\"></div><div style=\"display: table-cell;\">outline_line_dash&nbsp;=&nbsp;[],</div></div><div class=\"1230\" style=\"display: none;\"><div style=\"display: table-cell;\"></div><div style=\"display: table-cell;\">outline_line_dash_offset&nbsp;=&nbsp;0,</div></div><div class=\"1230\" style=\"display: none;\"><div style=\"display: table-cell;\"></div><div style=\"display: table-cell;\">outline_line_join&nbsp;=&nbsp;'bevel',</div></div><div class=\"1230\" style=\"display: none;\"><div style=\"display: table-cell;\"></div><div style=\"display: table-cell;\">outline_line_width&nbsp;=&nbsp;1,</div></div><div class=\"1230\" style=\"display: none;\"><div style=\"display: table-cell;\"></div><div style=\"display: table-cell;\">output_backend&nbsp;=&nbsp;'canvas',</div></div><div class=\"1230\" style=\"display: none;\"><div style=\"display: table-cell;\"></div><div style=\"display: table-cell;\">renderers&nbsp;=&nbsp;[GlyphRenderer(id='1149', ...)],</div></div><div class=\"1230\" style=\"display: none;\"><div style=\"display: table-cell;\"></div><div style=\"display: table-cell;\">reset_policy&nbsp;=&nbsp;'standard',</div></div><div class=\"1230\" style=\"display: none;\"><div style=\"display: table-cell;\"></div><div style=\"display: table-cell;\">right&nbsp;=&nbsp;[],</div></div><div class=\"1230\" style=\"display: none;\"><div style=\"display: table-cell;\"></div><div style=\"display: table-cell;\">sizing_mode&nbsp;=&nbsp;None,</div></div><div class=\"1230\" style=\"display: none;\"><div style=\"display: table-cell;\"></div><div style=\"display: table-cell;\">subscribed_events&nbsp;=&nbsp;[],</div></div><div class=\"1230\" style=\"display: none;\"><div style=\"display: table-cell;\"></div><div style=\"display: table-cell;\">syncable&nbsp;=&nbsp;True,</div></div><div class=\"1230\" style=\"display: none;\"><div style=\"display: table-cell;\"></div><div style=\"display: table-cell;\">tags&nbsp;=&nbsp;[],</div></div><div class=\"1230\" style=\"display: none;\"><div style=\"display: table-cell;\"></div><div style=\"display: table-cell;\">title&nbsp;=&nbsp;Title(id='1164', ...),</div></div><div class=\"1230\" style=\"display: none;\"><div style=\"display: table-cell;\"></div><div style=\"display: table-cell;\">title_location&nbsp;=&nbsp;'above',</div></div><div class=\"1230\" style=\"display: none;\"><div style=\"display: table-cell;\"></div><div style=\"display: table-cell;\">toolbar&nbsp;=&nbsp;Toolbar(id='1138', ...),</div></div><div class=\"1230\" style=\"display: none;\"><div style=\"display: table-cell;\"></div><div style=\"display: table-cell;\">toolbar_location&nbsp;=&nbsp;'right',</div></div><div class=\"1230\" style=\"display: none;\"><div style=\"display: table-cell;\"></div><div style=\"display: table-cell;\">toolbar_sticky&nbsp;=&nbsp;True,</div></div><div class=\"1230\" style=\"display: none;\"><div style=\"display: table-cell;\"></div><div style=\"display: table-cell;\">visible&nbsp;=&nbsp;True,</div></div><div class=\"1230\" style=\"display: none;\"><div style=\"display: table-cell;\"></div><div style=\"display: table-cell;\">width&nbsp;=&nbsp;600,</div></div><div class=\"1230\" style=\"display: none;\"><div style=\"display: table-cell;\"></div><div style=\"display: table-cell;\">width_policy&nbsp;=&nbsp;'auto',</div></div><div class=\"1230\" style=\"display: none;\"><div style=\"display: table-cell;\"></div><div style=\"display: table-cell;\">x_range&nbsp;=&nbsp;DataRange1d(id='1115', ...),</div></div><div class=\"1230\" style=\"display: none;\"><div style=\"display: table-cell;\"></div><div style=\"display: table-cell;\">x_scale&nbsp;=&nbsp;LinearScale(id='1119', ...),</div></div><div class=\"1230\" style=\"display: none;\"><div style=\"display: table-cell;\"></div><div style=\"display: table-cell;\">y_range&nbsp;=&nbsp;DataRange1d(id='1117', ...),</div></div><div class=\"1230\" style=\"display: none;\"><div style=\"display: table-cell;\"></div><div style=\"display: table-cell;\">y_scale&nbsp;=&nbsp;LinearScale(id='1121', ...))</div></div></div>\n",
       "<script>\n",
       "(function() {\n",
       "  let expanded = false;\n",
       "  const ellipsis = document.getElementById(\"1231\");\n",
       "  ellipsis.addEventListener(\"click\", function() {\n",
       "    const rows = document.getElementsByClassName(\"1230\");\n",
       "    for (let i = 0; i < rows.length; i++) {\n",
       "      const el = rows[i];\n",
       "      el.style.display = expanded ? \"none\" : \"table-row\";\n",
       "    }\n",
       "    ellipsis.innerHTML = expanded ? \"&hellip;)\" : \"&lsaquo;&lsaquo;&lsaquo;\";\n",
       "    expanded = !expanded;\n",
       "  });\n",
       "})();\n",
       "</script>\n"
      ],
      "text/plain": [
       "Figure(id='1114', ...)"
      ]
     },
     "execution_count": 62,
     "metadata": {},
     "output_type": "execute_result"
    }
   ],
   "source": [
    "draw_vectors(embedding[:, 0], embedding[:, 1], token=words)\n",
    "\n",
    "# hover a mouse over there and see if you can identify the clusters"
   ]
  },
  {
   "cell_type": "code",
   "execution_count": 66,
   "id": "ec26a4fe",
   "metadata": {},
   "outputs": [
    {
     "data": {
      "text/plain": [
       "'def get_phrase_embedding(phrase):\\n    \"\"\"\\n    Convert phrase to a vector by aggregating it\\'s word embeddings. See description above.\\n    \"\"\"\\n    # 1. lowercase phrase\\n    # 2. tokenize phrase\\n    # 3. average word vectors for all words in tokenized phrase\\n    # skip words that are not in model\\'s vocabulary\\n    # if all words are missing from vocabulary, return zeros\\n    \\n    vector = np.zeros([model.vector_size], dtype=\\'float32\\')\\n    phrase_tokenized = tokenizer.tokenize(phrase.lower())# YOUR CODE HERE\\n    phrase_vectors = [model[x] for x in phrase_tokenized if x in model.key_to_index]\\n\\n    if len(phrase_vectors) != 0:\\n        vector = np.mean(phrase_vectors, axis=0)\\n\\n    # YOUR CODE\\n    \\n    return vector\\n'"
      ]
     },
     "execution_count": 66,
     "metadata": {},
     "output_type": "execute_result"
    }
   ],
   "source": [
    "'''def get_phrase_embedding(phrase):\n",
    "    \"\"\"\n",
    "    Convert phrase to a vector by aggregating it's word embeddings. See description above.\n",
    "    \"\"\"\n",
    "    # 1. lowercase phrase\n",
    "    # 2. tokenize phrase\n",
    "    # 3. average word vectors for all words in tokenized phrase\n",
    "    # skip words that are not in model's vocabulary\n",
    "    # if all words are missing from vocabulary, return zeros\n",
    "    \n",
    "    vector = np.zeros([model.vector_size], dtype='float32')\n",
    "    phrase_tokenized = tokenizer.tokenize(phrase.lower())# YOUR CODE HERE\n",
    "    phrase_vectors = [model[x] for x in phrase_tokenized if x in model.key_to_index]\n",
    "\n",
    "    if len(phrase_vectors) != 0:\n",
    "        vector = np.mean(phrase_vectors, axis=0)\n",
    "\n",
    "    # YOUR CODE\n",
    "    \n",
    "    return vector\n",
    "'''"
   ]
  },
  {
   "cell_type": "code",
   "execution_count": 63,
   "id": "21282154",
   "metadata": {},
   "outputs": [],
   "source": [
    "def get_phrase_embedding(phrase):\n",
    "    \"\"\"\n",
    "    Convert phrase to a vector by aggregating it's word embeddings. See description above.\n",
    "    \"\"\"\n",
    "    # 1. lowercase phrase\n",
    "    # 2. tokenize phrase\n",
    "    # 3. average word vectors for all words in tokenized phrase\n",
    "    # skip words that are not in model's vocabulary\n",
    "    # if all words are missing from vocabulary, return zeros\n",
    "    \n",
    "    vector = np.zeros([model.vector_size], dtype='float32')\n",
    "    phrase_tokenized = tokenizer.tokenize(phrase.lower())# YOUR CODE HERE\n",
    "    phrase_vectors = [model[x] for x in phrase_tokenized if x in model.vocab.keys()]\n",
    "\n",
    "    if len(phrase_vectors) != 0:\n",
    "        vector = np.mean(phrase_vectors, axis=0)\n",
    "\n",
    "    # YOUR CODE\n",
    "    \n",
    "    return vector"
   ]
  },
  {
   "cell_type": "code",
   "execution_count": 64,
   "id": "f46e9400",
   "metadata": {},
   "outputs": [
    {
     "data": {
      "text/plain": [
       "array([ 0.1457195 , -0.02750856, -0.32106405,  0.3638728 ,  0.31687397,\n",
       "       -0.6778313 , -0.21450977, -0.42185423,  0.50135535,  0.446709  ,\n",
       "       -0.3086321 , -0.1677773 ,  0.59761864, -0.28752297, -0.64444077,\n",
       "       -0.132925  ,  0.10503872, -0.1697128 ,  0.2368046 , -0.2998555 ,\n",
       "        0.15698867, -0.16740239, -0.12930512,  0.3830256 , -0.34797934,\n",
       "        0.1795369 , -0.14618798,  0.3623565 ,  0.2775682 ,  0.19507578,\n",
       "       -0.2649689 ,  0.38512033], dtype=float32)"
      ]
     },
     "execution_count": 64,
     "metadata": {},
     "output_type": "execute_result"
    }
   ],
   "source": [
    " get_phrase_embedding(data.w_diagnosis_mkb[1])"
   ]
  },
  {
   "cell_type": "code",
   "execution_count": 65,
   "id": "81fd2ff6",
   "metadata": {},
   "outputs": [
    {
     "data": {
      "text/plain": [
       "0       [0.008978851, -0.0077553787, -0.022213848, 0.0...\n",
       "1       [0.1457195, -0.02750856, -0.32106405, 0.363872...\n",
       "2       [0.1457195, -0.02750856, -0.32106405, 0.363872...\n",
       "3       [0.1635554, -0.01466918, -0.33312422, 0.361727...\n",
       "4       [0.12869391, -0.020969685, -0.2873332, 0.29743...\n",
       "                              ...                        \n",
       "2441    [0.12845331, -0.0264003, -0.31487012, 0.336687...\n",
       "2442    [0.12845331, -0.0264003, -0.31487012, 0.336687...\n",
       "2443    [0.119456634, -0.03161107, -0.27901605, 0.3107...\n",
       "2444    [0.119456634, -0.03161107, -0.27901605, 0.3107...\n",
       "2445    [0.12620088, -0.023800278, -0.223654, 0.243763...\n",
       "Name: w_diagnosis_mkb, Length: 2435, dtype: object"
      ]
     },
     "execution_count": 65,
     "metadata": {},
     "output_type": "execute_result"
    }
   ],
   "source": [
    "data.w_diagnosis_mkb.apply(lambda x: get_phrase_embedding(x))"
   ]
  },
  {
   "cell_type": "code",
   "execution_count": 66,
   "id": "aa5e8c0d",
   "metadata": {},
   "outputs": [],
   "source": [
    "# let's only consider ~5k phrases for a first run.\n",
    "chosen_phrases = data.w_diagnosis_mkb[::len(data) // 1000]\n",
    "\n",
    "# compute vectors for chosen phrases and turn them to numpy array\n",
    "phrase_vectors = np.asarray([get_phrase_embedding(x) for x in chosen_phrases]) "
   ]
  },
  {
   "cell_type": "code",
   "execution_count": 67,
   "id": "3f48aaa6",
   "metadata": {},
   "outputs": [],
   "source": [
    "phrase_vectors_2d = umap.UMAP(n_neighbors=3).fit_transform(phrase_vectors) # преобразовываем"
   ]
  },
  {
   "cell_type": "code",
   "execution_count": 68,
   "id": "58d7cbed",
   "metadata": {},
   "outputs": [
    {
     "data": {
      "text/html": [
       "\n",
       "  <div class=\"bk-root\" id=\"9a1c6b28-af78-4063-9faf-7f8ca54d8179\" data-root-id=\"1235\"></div>\n"
      ]
     },
     "metadata": {},
     "output_type": "display_data"
    },
    {
     "data": {
      "application/javascript": [
       "(function(root) {\n",
       "  function embed_document(root) {\n",
       "  const docs_json = {\"dedfd005-6bcc-4a84-8961-316640cddedb\":{\"defs\":[],\"roots\":{\"references\":[{\"attributes\":{\"below\":[{\"id\":\"1244\"}],\"center\":[{\"id\":\"1247\"},{\"id\":\"1251\"}],\"height\":400,\"left\":[{\"id\":\"1248\"}],\"renderers\":[{\"id\":\"1270\"}],\"title\":{\"id\":\"1296\"},\"toolbar\":{\"id\":\"1259\"},\"x_range\":{\"id\":\"1236\"},\"x_scale\":{\"id\":\"1240\"},\"y_range\":{\"id\":\"1238\"},\"y_scale\":{\"id\":\"1242\"}},\"id\":\"1235\",\"subtype\":\"Figure\",\"type\":\"Plot\"},{\"attributes\":{},\"id\":\"1245\",\"type\":\"BasicTicker\"},{\"attributes\":{\"bottom_units\":\"screen\",\"coordinates\":null,\"fill_alpha\":0.5,\"fill_color\":\"lightgrey\",\"group\":null,\"left_units\":\"screen\",\"level\":\"overlay\",\"line_alpha\":1.0,\"line_color\":\"black\",\"line_dash\":[4,4],\"line_width\":2,\"right_units\":\"screen\",\"syncable\":false,\"top_units\":\"screen\"},\"id\":\"1258\",\"type\":\"BoxAnnotation\"},{\"attributes\":{},\"id\":\"1242\",\"type\":\"LinearScale\"},{\"attributes\":{\"fill_alpha\":{\"value\":0.2},\"fill_color\":{\"field\":\"color\"},\"hatch_alpha\":{\"value\":0.2},\"hatch_color\":{\"field\":\"color\"},\"line_alpha\":{\"value\":0.2},\"line_color\":{\"field\":\"color\"},\"size\":{\"value\":20},\"x\":{\"field\":\"x\"},\"y\":{\"field\":\"y\"}},\"id\":\"1269\",\"type\":\"Scatter\"},{\"attributes\":{},\"id\":\"1299\",\"type\":\"BasicTickFormatter\"},{\"attributes\":{\"callback\":null,\"tooltips\":[[\"phrase\",\"@phrase\"]]},\"id\":\"1272\",\"type\":\"HoverTool\"},{\"attributes\":{\"coordinates\":null,\"data_source\":{\"id\":\"1234\"},\"glyph\":{\"id\":\"1267\"},\"group\":null,\"hover_glyph\":null,\"muted_glyph\":{\"id\":\"1269\"},\"nonselection_glyph\":{\"id\":\"1268\"},\"view\":{\"id\":\"1271\"}},\"id\":\"1270\",\"type\":\"GlyphRenderer\"},{\"attributes\":{},\"id\":\"1303\",\"type\":\"AllLabels\"},{\"attributes\":{},\"id\":\"1300\",\"type\":\"AllLabels\"},{\"attributes\":{\"source\":{\"id\":\"1234\"}},\"id\":\"1271\",\"type\":\"CDSView\"},{\"attributes\":{\"coordinates\":null,\"group\":null},\"id\":\"1296\",\"type\":\"Title\"},{\"attributes\":{\"fill_alpha\":{\"value\":0.1},\"fill_color\":{\"field\":\"color\"},\"hatch_alpha\":{\"value\":0.1},\"hatch_color\":{\"field\":\"color\"},\"line_alpha\":{\"value\":0.1},\"line_color\":{\"field\":\"color\"},\"size\":{\"value\":20},\"x\":{\"field\":\"x\"},\"y\":{\"field\":\"y\"}},\"id\":\"1268\",\"type\":\"Scatter\"},{\"attributes\":{\"axis\":{\"id\":\"1244\"},\"coordinates\":null,\"group\":null,\"ticker\":null},\"id\":\"1247\",\"type\":\"Grid\"},{\"attributes\":{},\"id\":\"1305\",\"type\":\"Selection\"},{\"attributes\":{\"fill_alpha\":{\"value\":0.25},\"fill_color\":{\"field\":\"color\"},\"hatch_alpha\":{\"value\":0.25},\"hatch_color\":{\"field\":\"color\"},\"line_alpha\":{\"value\":0.25},\"line_color\":{\"field\":\"color\"},\"size\":{\"value\":20},\"x\":{\"field\":\"x\"},\"y\":{\"field\":\"y\"}},\"id\":\"1267\",\"type\":\"Scatter\"},{\"attributes\":{\"coordinates\":null,\"formatter\":{\"id\":\"1302\"},\"group\":null,\"major_label_policy\":{\"id\":\"1303\"},\"ticker\":{\"id\":\"1245\"}},\"id\":\"1244\",\"type\":\"LinearAxis\"},{\"attributes\":{},\"id\":\"1304\",\"type\":\"UnionRenderers\"},{\"attributes\":{},\"id\":\"1238\",\"type\":\"DataRange1d\"},{\"attributes\":{},\"id\":\"1256\",\"type\":\"ResetTool\"},{\"attributes\":{},\"id\":\"1240\",\"type\":\"LinearScale\"},{\"attributes\":{},\"id\":\"1302\",\"type\":\"BasicTickFormatter\"},{\"attributes\":{\"data\":{\"color\":[\"blue\",\"blue\",\"blue\",\"blue\",\"blue\",\"blue\",\"blue\",\"blue\",\"blue\",\"blue\",\"blue\",\"blue\",\"blue\",\"blue\",\"blue\",\"blue\",\"blue\",\"blue\",\"blue\",\"blue\",\"blue\",\"blue\",\"blue\",\"blue\",\"blue\",\"blue\",\"blue\",\"blue\",\"blue\",\"blue\",\"blue\",\"blue\",\"blue\",\"blue\",\"blue\",\"blue\",\"blue\",\"blue\",\"blue\",\"blue\",\"blue\",\"blue\",\"blue\",\"blue\",\"blue\",\"blue\",\"blue\",\"blue\",\"blue\",\"blue\",\"blue\",\"blue\",\"blue\",\"blue\",\"blue\",\"blue\",\"blue\",\"blue\",\"blue\",\"blue\",\"blue\",\"blue\",\"blue\",\"blue\",\"blue\",\"blue\",\"blue\",\"blue\",\"blue\",\"blue\",\"blue\",\"blue\",\"blue\",\"blue\",\"blue\",\"blue\",\"blue\",\"blue\",\"blue\",\"blue\",\"blue\",\"blue\",\"blue\",\"blue\",\"blue\",\"blue\",\"blue\",\"blue\",\"blue\",\"blue\",\"blue\",\"blue\",\"blue\",\"blue\",\"blue\",\"blue\",\"blue\",\"blue\",\"blue\",\"blue\",\"blue\",\"blue\",\"blue\",\"blue\",\"blue\",\"blue\",\"blue\",\"blue\",\"blue\",\"blue\",\"blue\",\"blue\",\"blue\",\"blue\",\"blue\",\"blue\",\"blue\",\"blue\",\"blue\",\"blue\",\"blue\",\"blue\",\"blue\",\"blue\",\"blue\",\"blue\",\"blue\",\"blue\",\"blue\",\"blue\",\"blue\",\"blue\",\"blue\",\"blue\",\"blue\",\"blue\",\"blue\",\"blue\",\"blue\",\"blue\",\"blue\",\"blue\",\"blue\",\"blue\",\"blue\",\"blue\",\"blue\",\"blue\",\"blue\",\"blue\",\"blue\",\"blue\",\"blue\",\"blue\",\"blue\",\"blue\",\"blue\",\"blue\",\"blue\",\"blue\",\"blue\",\"blue\",\"blue\",\"blue\",\"blue\",\"blue\",\"blue\",\"blue\",\"blue\",\"blue\",\"blue\",\"blue\",\"blue\",\"blue\",\"blue\",\"blue\",\"blue\",\"blue\",\"blue\",\"blue\",\"blue\",\"blue\",\"blue\",\"blue\",\"blue\",\"blue\",\"blue\",\"blue\",\"blue\",\"blue\",\"blue\",\"blue\",\"blue\",\"blue\",\"blue\",\"blue\",\"blue\",\"blue\",\"blue\",\"blue\",\"blue\",\"blue\",\"blue\",\"blue\",\"blue\",\"blue\",\"blue\",\"blue\",\"blue\",\"blue\",\"blue\",\"blue\",\"blue\",\"blue\",\"blue\",\"blue\",\"blue\",\"blue\",\"blue\",\"blue\",\"blue\",\"blue\",\"blue\",\"blue\",\"blue\",\"blue\",\"blue\",\"blue\",\"blue\",\"blue\",\"blue\",\"blue\",\"blue\",\"blue\",\"blue\",\"blue\",\"blue\",\"blue\",\"blue\",\"blue\",\"blue\",\"blue\",\"blue\",\"blue\",\"blue\",\"blue\",\"blue\",\"blue\",\"blue\",\"blue\",\"blue\",\"blue\",\"blue\",\"blue\",\"blue\",\"blue\",\"blue\",\"blue\",\"blue\",\"blue\",\"blue\",\"blue\",\"blue\",\"blue\",\"blue\",\"blue\",\"blue\",\"blue\",\"blue\",\"blue\",\"blue\",\"blue\",\"blue\",\"blue\",\"blue\",\"blue\",\"blue\",\"blue\",\"blue\",\"blue\",\"blue\",\"blue\",\"blue\",\"blue\",\"blue\",\"blue\",\"blue\",\"blue\",\"blue\",\"blue\",\"blue\",\"blue\",\"blue\",\"blue\",\"blue\",\"blue\",\"blue\",\"blue\",\"blue\",\"blue\",\"blue\",\"blue\",\"blue\",\"blue\",\"blue\",\"blue\",\"blue\",\"blue\",\"blue\",\"blue\",\"blue\",\"blue\",\"blue\",\"blue\",\"blue\",\"blue\",\"blue\",\"blue\",\"blue\",\"blue\",\"blue\",\"blue\",\"blue\",\"blue\",\"blue\",\"blue\",\"blue\",\"blue\",\"blue\",\"blue\",\"blue\",\"blue\",\"blue\",\"blue\",\"blue\",\"blue\",\"blue\",\"blue\",\"blue\",\"blue\",\"blue\",\"blue\",\"blue\",\"blue\",\"blue\",\"blue\",\"blue\",\"blue\",\"blue\",\"blue\",\"blue\",\"blue\",\"blue\",\"blue\",\"blue\",\"blue\",\"blue\",\"blue\",\"blue\",\"blue\",\"blue\",\"blue\",\"blue\",\"blue\",\"blue\",\"blue\",\"blue\",\"blue\",\"blue\",\"blue\",\"blue\",\"blue\",\"blue\",\"blue\",\"blue\",\"blue\",\"blue\",\"blue\",\"blue\",\"blue\",\"blue\",\"blue\",\"blue\",\"blue\",\"blue\",\"blue\",\"blue\",\"blue\",\"blue\",\"blue\",\"blue\",\"blue\",\"blue\",\"blue\",\"blue\",\"blue\",\"blue\",\"blue\",\"blue\",\"blue\",\"blue\",\"blue\",\"blue\",\"blue\",\"blue\",\"blue\",\"blue\",\"blue\",\"blue\",\"blue\",\"blue\",\"blue\",\"blue\",\"blue\",\"blue\",\"blue\",\"blue\",\"blue\",\"blue\",\"blue\",\"blue\",\"blue\",\"blue\",\"blue\",\"blue\",\"blue\",\"blue\",\"blue\",\"blue\",\"blue\",\"blue\",\"blue\",\"blue\",\"blue\",\"blue\",\"blue\",\"blue\",\"blue\",\"blue\",\"blue\",\"blue\",\"blue\",\"blue\",\"blue\",\"blue\",\"blue\",\"blue\",\"blue\",\"blue\",\"blue\",\"blue\",\"blue\",\"blue\",\"blue\",\"blue\",\"blue\",\"blue\",\"blue\",\"blue\",\"blue\",\"blue\",\"blue\",\"blue\",\"blue\",\"blue\",\"blue\",\"blue\",\"blue\",\"blue\",\"blue\",\"blue\",\"blue\",\"blue\",\"blue\",\"blue\",\"blue\",\"blue\",\"blue\",\"blue\",\"blue\",\"blue\",\"blue\",\"blue\",\"blue\",\"blue\",\"blue\",\"blue\",\"blue\",\"blue\",\"blue\",\"blue\",\"blue\",\"blue\",\"blue\",\"blue\",\"blue\",\"blue\",\"blue\",\"blue\",\"blue\",\"blue\",\"blue\",\"blue\",\"blue\",\"blue\",\"blue\",\"blue\",\"blue\",\"blue\",\"blue\",\"blue\",\"blue\",\"blue\",\"blue\",\"blue\",\"blue\",\"blue\",\"blue\",\"blue\",\"blue\",\"blue\",\"blue\",\"blue\",\"blue\",\"blue\",\"blue\",\"blue\",\"blue\",\"blue\",\"blue\",\"blue\",\"blue\",\"blue\",\"blue\",\"blue\",\"blue\",\"blue\",\"blue\",\"blue\",\"blue\",\"blue\",\"blue\",\"blue\",\"blue\",\"blue\",\"blue\",\"blue\",\"blue\",\"blue\",\"blue\",\"blue\",\"blue\",\"blue\",\"blue\",\"blue\",\"blue\",\"blue\",\"blue\",\"blue\",\"blue\",\"blue\",\"blue\",\"blue\",\"blue\",\"blue\",\"blue\",\"blue\",\"blue\",\"blue\",\"blue\",\"blue\",\"blue\",\"blue\",\"blue\",\"blue\",\"blue\",\"blue\",\"blue\",\"blue\",\"blue\",\"blue\",\"blue\",\"blue\",\"blue\",\"blue\",\"blue\",\"blue\",\"blue\",\"blue\",\"blue\",\"blue\",\"blue\",\"blue\",\"blue\",\"blue\",\"blue\",\"blue\",\"blue\",\"blue\",\"blue\",\"blue\",\"blue\",\"blue\",\"blue\",\"blue\",\"blue\",\"blue\",\"blue\",\"blue\",\"blue\",\"blue\",\"blue\",\"blue\",\"blue\",\"blue\",\"blue\",\"blue\",\"blue\",\"blue\",\"blue\",\"blue\",\"blue\",\"blue\",\"blue\",\"blue\",\"blue\",\"blue\",\"blue\",\"blue\",\"blue\",\"blue\",\"blue\",\"blue\",\"blue\",\"blue\",\"blue\",\"blue\",\"blue\",\"blue\",\"blue\",\"blue\",\"blue\",\"blue\",\"blue\",\"blue\",\"blue\",\"blue\",\"blue\",\"blue\",\"blue\",\"blue\",\"blue\",\"blue\",\"blue\",\"blue\",\"blue\",\"blue\",\"blue\",\"blue\",\"blue\",\"blue\",\"blue\",\"blue\",\"blue\",\"blue\",\"blue\",\"blue\",\"blue\",\"blue\",\"blue\",\"blue\",\"blue\",\"blue\",\"blue\",\"blue\",\"blue\",\"blue\",\"blue\",\"blue\",\"blue\",\"blue\",\"blue\",\"blue\",\"blue\",\"blue\",\"blue\",\"blue\",\"blue\",\"blue\",\"blue\",\"blue\",\"blue\",\"blue\",\"blue\",\"blue\",\"blue\",\"blue\",\"blue\",\"blue\",\"blue\",\"blue\",\"blue\",\"blue\",\"blue\",\"blue\",\"blue\",\"blue\",\"blue\",\"blue\",\"blue\",\"blue\",\"blue\",\"blue\",\"blue\",\"blue\",\"blue\",\"blue\",\"blue\",\"blue\",\"blue\",\"blue\",\"blue\",\"blue\",\"blue\",\"blue\",\"blue\",\"blue\",\"blue\",\"blue\",\"blue\",\"blue\",\"blue\",\"blue\",\"blue\",\"blue\",\"blue\",\"blue\",\"blue\",\"blue\",\"blue\",\"blue\",\"blue\",\"blue\",\"blue\",\"blue\",\"blue\",\"blue\",\"blue\",\"blue\",\"blue\",\"blue\",\"blue\",\"blue\",\"blue\",\"blue\",\"blue\",\"blue\",\"blue\",\"blue\",\"blue\",\"blue\",\"blue\",\"blue\",\"blue\",\"blue\",\"blue\",\"blue\",\"blue\",\"blue\",\"blue\",\"blue\",\"blue\",\"blue\",\"blue\",\"blue\",\"blue\",\"blue\",\"blue\",\"blue\",\"blue\",\"blue\",\"blue\",\"blue\",\"blue\",\"blue\",\"blue\",\"blue\",\"blue\",\"blue\",\"blue\",\"blue\",\"blue\",\"blue\",\"blue\",\"blue\",\"blue\",\"blue\",\"blue\",\"blue\",\"blue\",\"blue\",\"blue\",\"blue\",\"blue\",\"blue\",\"blue\",\"blue\",\"blue\",\"blue\",\"blue\",\"blue\",\"blue\",\"blue\",\"blue\",\"blue\",\"blue\",\"blue\",\"blue\",\"blue\",\"blue\",\"blue\",\"blue\",\"blue\",\"blue\",\"blue\",\"blue\",\"blue\",\"blue\",\"blue\",\"blue\",\"blue\",\"blue\",\"blue\",\"blue\",\"blue\",\"blue\",\"blue\",\"blue\",\"blue\",\"blue\",\"blue\",\"blue\",\"blue\",\"blue\",\"blue\",\"blue\",\"blue\",\"blue\",\"blue\",\"blue\",\"blue\",\"blue\",\"blue\",\"blue\",\"blue\",\"blue\",\"blue\",\"blue\",\"blue\",\"blue\",\"blue\",\"blue\",\"blue\",\"blue\",\"blue\",\"blue\",\"blue\",\"blue\",\"blue\",\"blue\",\"blue\",\"blue\",\"blue\",\"blue\",\"blue\",\"blue\",\"blue\",\"blue\",\"blue\",\"blue\",\"blue\",\"blue\",\"blue\",\"blue\",\"blue\",\"blue\",\"blue\",\"blue\",\"blue\",\"blue\",\"blue\",\"blue\",\"blue\",\"blue\",\"blue\",\"blue\",\"blue\",\"blue\",\"blue\",\"blue\",\"blue\",\"blue\",\"blue\",\"blue\",\"blue\",\"blue\",\"blue\",\"blue\",\"blue\",\"blue\",\"blue\",\"blue\",\"blue\",\"blue\",\"blue\",\"blue\",\"blue\",\"blue\",\"blue\",\"blue\",\"blue\",\"blue\",\"blue\",\"blue\",\"blue\",\"blue\",\"blue\",\"blue\",\"blue\",\"blue\",\"blue\",\"blue\",\"blue\",\"blue\",\"blue\",\"blue\",\"blue\",\"blue\",\"blue\",\"blue\",\"blue\",\"blue\",\"blue\",\"blue\",\"blue\",\"blue\",\"blue\",\"blue\",\"blue\",\"blue\",\"blue\",\"blue\",\"blue\",\"blue\",\"blue\",\"blue\",\"blue\",\"blue\",\"blue\",\"blue\",\"blue\",\"blue\",\"blue\",\"blue\",\"blue\",\"blue\",\"blue\",\"blue\",\"blue\",\"blue\",\"blue\",\"blue\",\"blue\",\"blue\",\"blue\",\"blue\",\"blue\",\"blue\",\"blue\",\"blue\",\"blue\",\"blue\",\"blue\",\"blue\",\"blue\",\"blue\",\"blue\",\"blue\",\"blue\",\"blue\",\"blue\",\"blue\",\"blue\",\"blue\",\"blue\",\"blue\",\"blue\",\"blue\",\"blue\",\"blue\",\"blue\",\"blue\",\"blue\",\"blue\",\"blue\",\"blue\",\"blue\",\"blue\",\"blue\",\"blue\",\"blue\",\"blue\",\"blue\",\"blue\",\"blue\",\"blue\",\"blue\",\"blue\",\"blue\",\"blue\",\"blue\",\"blue\",\"blue\",\"blue\",\"blue\",\"blue\",\"blue\",\"blue\",\"blue\",\"blue\",\"blue\",\"blue\",\"blue\",\"blue\",\"blue\",\"blue\",\"blue\",\"blue\",\"blue\",\"blue\",\"blue\",\"blue\",\"blue\",\"blue\",\"blue\",\"blue\",\"blue\",\"blue\",\"blue\",\"blue\",\"blue\",\"blue\",\"blue\",\"blue\",\"blue\",\"blue\",\"blue\",\"blue\",\"blue\",\"blue\",\"blue\",\"blue\",\"blue\",\"blue\",\"blue\",\"blue\",\"blue\",\"blue\",\"blue\",\"blue\",\"blue\",\"blue\",\"blue\",\"blue\",\"blue\",\"blue\",\"blue\",\"blue\",\"blue\",\"blue\",\"blue\",\"blue\",\"blue\",\"blue\",\"blue\",\"blue\",\"blue\",\"blue\",\"blue\",\"blue\",\"blue\",\"blue\",\"blue\",\"blue\",\"blue\",\"blue\",\"blue\",\"blue\",\"blue\",\"blue\",\"blue\",\"blue\",\"blue\",\"blue\",\"blue\",\"blue\",\"blue\",\"blue\",\"blue\",\"blue\",\"blue\",\"blue\",\"blue\",\"blue\",\"blue\",\"blue\",\"blue\",\"blue\",\"blue\",\"blue\",\"blue\",\"blue\",\"blue\",\"blue\",\"blue\",\"blue\",\"blue\",\"blue\",\"blue\",\"blue\",\"blue\",\"blue\",\"blue\",\"blue\",\"blue\",\"blue\",\"blue\",\"blue\",\"blue\",\"blue\",\"blue\",\"blue\",\"blue\",\"blue\",\"blue\",\"blue\",\"blue\",\"blue\",\"blue\",\"blue\",\"blue\",\"blue\",\"blue\",\"blue\",\"blue\",\"blue\",\"blue\",\"blue\",\"blue\",\"blue\",\"blue\",\"blue\",\"blue\",\"blue\",\"blue\",\"blue\",\"blue\",\"blue\",\"blue\",\"blue\",\"blue\",\"blue\",\"blue\",\"blue\",\"blue\",\"blue\",\"blue\",\"blue\",\"blue\",\"blue\",\"blue\",\"blue\",\"blue\",\"blue\",\"blue\",\"blue\",\"blue\",\"blue\",\"blue\",\"blue\",\"blue\",\"blue\",\"blue\",\"blue\",\"blue\",\"blue\",\"blue\",\"blue\",\"blue\",\"blue\",\"blue\",\"blue\",\"blue\",\"blue\",\"blue\",\"blue\",\"blue\",\"blue\",\"blue\",\"blue\",\"blue\",\"blue\",\"blue\",\"blue\",\"blue\",\"blue\",\"blue\",\"blue\"],\"phrase\":[\"\\u043d\\u0435\\u0442\",\"\\u0431\\u0435\\u0441\\u043f\\u043b\\u043e\\u0434\\u0438\\u0435   \\u043f\\u0435\\u0440\\u0432\\u0438\\u0447\\u043d\\u0430\\u044f \\u043e\\u043b\\u0438\\u0433\\u043e\\u043c\\u0435\\u043d\\u043e\\u0440\\u0440\\u0435\\u044f        \\u0441\\u043f\\u044f    \",\"\\u0431\\u0435\\u0441\\u043f\\u043b\\u043e\\u0434\\u0438\\u0435    \\u0444\\u043e\\u043b\\u043b\\u0438\\u043a\\u0443\\u043b\\u044f\\u0440\\u043d\\u0430\\u044f \\u043a\\u0438\\u0441\\u0442\\u0430 \\u043f\\u0440\\u0430\\u0432\\u043e\\u0433\\u043e \\u044f\\u0438\\u0447\\u043d\\u0438\\u043a\\u0430 \\u0433\",\"\\u0431\\u0435\\u0441\\u043f\\u043b\\u043e\\u0434\\u0438\\u0435          \\u0436\\u0435\\u043d\\u0441\\u043a\\u043e\\u0435 \\u0431\\u0435\\u0441\\u043f\\u043b\\u043e\\u0434\\u0438\\u0435 \\u0442\\u0440\\u0443\\u0431\\u043d\\u043e \\u043f\\u0435\\u0440\\u0438\\u0442\\u043e\",\"\\u0431\\u0435\\u0441\\u043f\\u043b\\u043e\\u0434\\u0438\\u0435   \\u0433\\u0438\\u043f\\u0435\\u0440\\u043f\\u0440\\u043e\\u043b\\u0430\\u043a\\u0442\\u0438\\u043d\\u0435\\u043c\\u0438\\u044f        \\u043c\\u0443\\u0436\\u0441\\u043a\\u043e\\u0439 \\u0444\\u0430\\u043a\\u0442\",\"\\u0431\\u0435\\u0441\\u043f\\u043b\\u043e\\u0434\\u0438\\u0435     \\u043c\\u0443\\u0436\\u0441\\u043a\\u043e\\u0439 \\u0444\\u0430\\u043a\\u0442\\u043e\\u0440 \",\"\\u0431\\u0435\\u0441\\u043f\\u043b\\u043e\\u0434\\u0438\\u0435   \\u044d\\u043d\\u0434\\u043e\\u043a\\u0440\\u0438\\u043d\\u043d\\u043e\\u0435 \\u044d\\u043a\\u0442\\u043e\\u043f\\u0438\\u044f \\u0448\\u0435\\u0439\\u043a\\u0438 \\u043c\\u0430\\u0442\\u043a\\u0438 \\u043f\\u0435\\u0440\\u0432\\u0438\\u0447\",\"\\u0431\\u0435\\u0441\\u043f\\u043b\\u043e\\u0434\\u0438\\u0435     \\u043d\\u0433\\u044d  \\u0440\\u0435\\u0446\\u0438\\u0434\\u0438\\u0432  \\u043a\\u0438\\u0441\\u0442\\u044b \\u043b\\u0435\\u0432\\u043e\\u0433\\u043e \\u044f\\u0438\\u0447\\u043d\\u0438\\u043a\\u0430  \",\"\\u0431\\u0435\\u0441\\u043f\\u043b\\u043e\\u0434\\u0438\\u0435    \\u043d\\u0435\\u0443\\u0442\\u043e\\u0447\\u043d\\u0435\\u043d\\u043d\\u043e\\u0435  \\u0440\\u0443\\u0431\\u0435\\u0446 \\u043d\\u0430 \\u043c\\u0430\\u0442\\u043a\\u0435 \\u043f\\u043e\\u0441\\u043b\\u0435 \\u043c\\u0438\",\"\\u0431\\u0435\\u0441\\u043f\\u043b\\u043e\\u0434\\u0438\\u0435     \\u0440\\u0443\\u0431\\u0435\\u0446 \\u043d\\u0430 \\u043c\\u0430\\u0442\\u043a\\u0435  \\u043a\\u0435\\u0441\\u0430\\u0440\\u0435\\u0432\\u043e \\u0441\\u0435\\u0447\\u0435\\u043d\\u0438\\u0435 \\u0432  \",\"\\u0431\\u0435\\u0441\\u043f\\u043b\\u043e\\u0434\\u0438\\u0435     \\u043e\\u0431\\u0443\\u0441\\u043b\\u043e\\u0432\\u043b\\u0435\\u043d\\u043d\\u043e\\u0435 \\u044d\\u043d\\u0434\\u043e\\u043c\\u0435\\u0442\\u0440\\u0438\\u043e\\u0437\\u043e\\u043c  \\u043d\\u0433\\u044d    \",\"\\u0431\\u0435\\u0441\\u043f\\u043b\\u043e\\u0434\\u0438\\u0435     \\u0441\\u043d\\u0438\\u0436\\u0435\\u043d\\u0438\\u0435 \\u043e\\u0432\\u0430\\u0440\\u0438\\u0430\\u043b\\u044c\\u043d\\u043e\\u0433\\u043e \\u0440\\u0435\\u0437\\u0435\\u0440\\u0432\\u0430  \\u043f\\u043e\\u0437\\u0434\\u043d\",\"\\u0431\\u0435\\u0441\\u043f\\u043b\\u043e\\u0434\\u0438\\u0435    \\u0442\\u0440\\u0443\\u0431\\u043d\\u043e \\u043f\\u0435\\u0440\\u0438\\u0442\\u043e\\u043d\\u0435\\u0430\\u043b\\u044c\\u043d\\u043e\\u0435  \\u0445\\u0440\\u043e\\u043d\\u0438\\u0447\\u0435\\u0441\\u043a\\u0438\\u0439 \\u0441\\u0430\",\"\\u0431\\u0435\\u0441\\u043f\\u043b\\u043e\\u0434\\u0438\\u0435    \\u0442\\u0440\\u0443\\u0431\\u043d\\u043e \\u043f\\u0435\\u0440\\u0438\\u0442\\u043e\\u043d\\u0435\\u0430\\u043b\\u044c\\u043d\\u043e\\u0435         \\u0445\\u0440\\u043e\\u043d\\u0438\\u0447\\u0435\",\"\\u0431\\u0435\\u0441\\u043f\\u043b\\u043e\\u0434\\u0438\\u0435   \\u0432\\u044b\\u043d\\u0443\\u0436\\u0434\\u0435\\u043d\\u043d\\u043e\\u0435  \\u0441\\u043d\\u0438\\u0436\\u0435\\u043d\\u0438\\u0435 \\u043e\\u0432\\u0430\\u0440\\u0438\\u0430\\u043b\\u044c\\u043d\\u043e\\u0433\\u043e \\u0440\\u0435\\u0437\",\"\\u0431\\u0435\\u0441\\u043f\\u043b\\u043e\\u0434\\u0438\\u0435    \\u0445\\u0440\\u043e\\u043d\\u0438\\u0447\\u0435\\u0441\\u043a\\u0438\\u0439 \\u044d\\u043d\\u0434\\u043e\\u043c\\u0435\\u0442\\u0440\\u0438\\u0442        \\u043c\\u0438\\u043e\\u043c\\u0430 \\u043c\",\"\\u0431\\u0435\\u0441\\u043f\\u043b\\u043e\\u0434\\u0438\\u0435   \\u0436\\u0435\\u043b\\u0435\\u0437\\u0438\\u0441\\u0442\\u043e \\u043a\\u0438\\u0441\\u0442\\u043e\\u0437\\u043d\\u0430\\u044f \\u0433\\u0438\\u043f\\u0435\\u0440\\u043f\\u043b\\u0430\\u0437\\u0438\\u044f \\u044d\\u043d\\u0434\\u043e\\u043c\\u0435\",\"\\u0431\\u0435\\u0441\\u043f\\u043b\\u043e\\u0434\\u0438\\u0435     \\u0430\\u0431\\u0441\\u043e\\u043b\\u044e\\u0442\\u043d\\u044b\\u0439 \\u0442\\u0440\\u0443\\u0431\\u043d\\u044b\\u0439 \\u0444\\u0430\\u043a\\u0442\\u043e\\u0440 \\u043f\\u0440\\u0438\\u043e\\u0431\\u0440\\u0435\\u0442\\u0435\\u043d\",\"\\u0431\\u0435\\u0441\\u043f\\u043b\\u043e\\u0434\\u0438\\u0435   \\u043d\\u0433\\u044d    \\u0441\\u0442   \\u043a\\u043e\\u043c\\u0431\\u0438\\u043d \\u0442\\u0435\\u0440\\u0430\\u043f\\u0438\\u044f \\u0432      \\u0433   \",\"\\u0431\\u0435\\u0441\\u043f\\u043b\\u043e\\u0434\\u0438\\u0435           \\u0436\\u0435\\u043d\\u0441\\u043a\\u043e\\u0435 \\u0431\\u0435\\u0441\\u043f\\u043b\\u043e\\u0434\\u0438\\u0435  \\u043e\\u0431\\u0443\\u0441\\u043b\\u043e\\u0432\\u043b\\u0435\\u043d\\u043d\",\"\\u0431\\u0435\\u0441\\u043f\\u043b\\u043e\\u0434\\u0438\\u0435         \\u0434\\u0440\\u0443\\u0433\\u0438\\u0435 \\u0444\\u043e\\u0440\\u043c\\u044b \\u0436\\u0435\\u043d\\u0441\\u043a\\u043e\\u0433\\u043e \\u0431\\u0435\\u0441\\u043f\\u043b\\u043e\\u0434\\u0438\\u044f \",\"\\u0431\\u0435\\u0441\\u043f\\u043b\\u043e\\u0434\\u0438\\u0435     \\u043c\\u0443\\u0436\\u0441\\u043a\\u043e\\u0439 \\u0444\\u0430\\u043a\\u0442\\u043e\\u0440      \",\"\\u0431\\u0435\\u0441\\u043f\\u043b\\u043e\\u0434\\u0438\\u0435           \\u0436\\u0435\\u043d\\u0441\\u043a\\u043e\\u0435 \\u0431\\u0435\\u0441\\u043f\\u043b\\u043e\\u0434\\u0438\\u0435 \\u0442\\u0440\\u0443\\u0431\\u043d\\u043e \\u043f\\u0435\\u0440\\u0438\\u0442\",\"\\u0431\\u0435\\u0441\\u043f\\u043b\\u043e\\u0434\\u0438\\u0435     \\u0445\\u0440\\u043e\\u043d\\u0438\\u0447\\u0435\\u0441\\u043a\\u0438\\u0439 \\u0441\\u0430\\u043b\\u044c\\u043f\\u0438\\u043d\\u0433\\u043e\\u043e\\u0444\\u043e\\u0440\\u0438\\u0442        \\u043f\",\"\\u0431\\u0435\\u0441\\u043f\\u043b\\u043e\\u0434\\u0438\\u0435           \\u0434\\u0440\\u0443\\u0433\\u0438\\u0435 \\u0444\\u043e\\u0440\\u043c\\u044b \\u0436\\u0435\\u043d\\u0441\\u043a\\u043e\\u0433\\u043e \\u0431\\u0435\\u0441\\u043f\\u043b\\u043e\\u0434\\u0438\",\"\\u0431\\u0435\\u0441\\u043f\\u043b\\u043e\\u0434\\u0438\\u0435           \\u0434\\u0440\\u0443\\u0433\\u0438\\u0435 \\u0444\\u043e\\u0440\\u043c\\u044b \\u0436\\u0435\\u043d\\u0441\\u043a\\u043e\\u0433\\u043e \\u0431\\u0435\\u0441\\u043f\\u043b\\u043e\\u0434\\u0438\",\"\\u0431\\u0435\\u0441\\u043f\\u043b\\u043e\\u0434\\u0438\\u0435    \\u0430\\u0431\\u0441\\u043e\\u043b\\u044e\\u0442\\u043d\\u043e\\u0435 \\u0442\\u0440\\u0443\\u0431\\u043d\\u043e\\u0435   \\u0430\\u043d\\u043e\\u043c\\u0430\\u043b\\u0438\\u0438 \\u043a\\u0430\\u0440\\u0438\\u043e\\u0442\\u0438\",\"\\u0431\\u0435\\u0441\\u043f\\u043b\\u043e\\u0434\\u0438\\u0435     \\u0445\\u0440\\u043e\\u043d\\u0438\\u0447\\u0435\\u0441\\u043a\\u0438\\u0439 \\u044d\\u043d\\u0434\\u043e\\u043c\\u0435\\u0442\\u0440\\u0438\\u0442        \\u043c\\u043d\\u043e\\u0436\\u0435\\u0441\",\"\\u0431\\u0435\\u0441\\u043f\\u043b\\u043e\\u0434\\u0438\\u0435     \\u043f\\u0440\\u0438\\u043e\\u0431\\u0440\\u0435\\u0442\\u0435\\u043d\\u043d\\u043e\\u0435 \\u043e\\u0442\\u0441\\u0443\\u0442\\u0441\\u0442\\u0432\\u0438\\u0435 \\u043e\\u0440\\u0433\\u0430\\u043d\\u0430    \\u0441\",\"\\u0431\\u0435\\u0441\\u043f\\u043b\\u043e\\u0434\\u0438\\u0435     \\u0445\\u0440\\u043e\\u043d\\u0438\\u0447\\u0435\\u0441\\u043a\\u0438\\u0439 \\u043f\\u0440\\u0430\\u0432\\u043e\\u0447\\u0442\\u043e\\u0440\\u043e\\u043d\\u043d\\u0438\\u0439 \\u0441\\u0430\\u043b\\u044c\\u043f\\u0438\\u043d\\u0433\\u043e\",\"\\u0431\\u0435\\u0441\\u043f\\u043b\\u043e\\u0434\\u0438\\u0435    \\u0430\\u043d\\u043e\\u0432\\u0443\\u043b\\u044f\\u0446\\u0438\\u044f \\u0430\\u0443\\u0442\\u043e\\u0438\\u043c\\u043c\\u0443\\u043d\\u043d\\u044b\\u0439 \\u0442\\u0438\\u0440\\u0435\\u043e\\u0438\\u0434\\u0438\\u0442  \\u044d\\u0443\",\"\\u0431\\u0435\\u0441\\u043f\\u043b\\u043e\\u0434\\u0438\\u0435           \\u0436\\u0435\\u043d\\u0441\\u043a\\u043e\\u0435 \\u0431\\u0435\\u0441\\u043f\\u043b\\u043e\\u0434\\u0438\\u0435 \\u0442\\u0440\\u0443\\u0431\\u043d\\u043e \\u043f\\u0435\\u0440\\u0438\\u0442\",\"\\u0431\\u0435\\u0441\\u043f\\u043b\\u043e\\u0434\\u0438\\u0435    \\u043d\\u0435\\u044f\\u0441\\u043d\\u043e\\u0433\\u043e \\u0433\\u0435\\u043d\\u0435\\u0437\\u0430  \\u043c\\u0438\\u043e\\u043c\\u0430 \\u043c\\u0430\\u0442\\u043a\\u0438      \\u043f\\u043e\\u0437\",\"\\u0431\\u0435\\u0441\\u043f\\u043b\\u043e\\u0434\\u0438\\u0435     \\u0445\\u0440\\u043e\\u043d\\u0438\\u0447\\u0435\\u0441\\u043a\\u0438\\u0439 \\u0441\\u0430\\u043b\\u044c\\u043f\\u0438\\u043d\\u0433\\u043e\\u043e\\u0444\\u043e\\u0440\\u0438\\u0442        \\u043f\",\"\\u0431\\u0435\\u0441\\u043f\\u043b\\u043e\\u0434\\u0438\\u0435    \\u043d\\u0433\\u044d   \\u0441\\u0442   \\u0445 \\u0441\\u0442\\u043e\\u0440\\u043e\\u043d\\u043d\\u044f\\u044f \\u0446\\u0438\\u0441\\u0442\\u044d\\u043a\\u0442\\u043e\\u043c\\u0438\\u044f \\u0432 \",\"\\u0431\\u0435\\u0441\\u043f\\u043b\\u043e\\u0434\\u0438\\u0435     \\u043f\\u043e\\u0437\\u0434\\u043d\\u0438\\u0439 \\u0440\\u0435\\u043f\\u0440\\u043e\\u0434\\u0443\\u043a\\u0442\\u0438\\u0432\\u043d\\u044b\\u0439 \\u0432\\u043e\\u0437\\u0440\\u0430\\u0441\\u0442 \",\"\\u0431\\u0435\\u0441\\u043f\\u043b\\u043e\\u0434\\u0438\\u0435    \\u043d\\u0435\\u044f\\u0441\\u043d\\u043e\\u0433\\u043e \\u0433\\u0435\\u043d\\u0435\\u0437\\u0430  \\u043e\\u0433\\u0430  \\u0430\\u0440\\u0430\\u0445\\u043d\\u043e\\u0438\\u0434\\u0430\\u043b\\u044c\\u043d\\u0430\\u044f \",\"\\u0431\\u0435\\u0441\\u043f\\u043b\\u043e\\u0434\\u0438\\u0435     \\u0430\\u0431\\u0441\\u043e\\u043b\\u044e\\u0442\\u043d\\u043e\\u0435  \\u0442\\u0440\\u0443\\u0431\\u043d\\u043e\\u0435   \\u043a\\u0438\\u0441\\u0442\\u044b \\u043f\\u0440\\u0430\\u0432\\u043e\\u0433\\u043e \",\"\\u0431\\u0435\\u0441\\u043f\\u043b\\u043e\\u0434\\u0438\\u0435    \\u0430\\u0431\\u0441\\u043e\\u043b\\u044e\\u0442\\u043d\\u043e\\u0435 \\u0442\\u0440\\u0443\\u0431\\u043d\\u043e\\u0435 \",\"\\u0431\\u0435\\u0441\\u043f\\u043b\\u043e\\u0434\\u0438\\u0435     \\u0441\\u0432\\u044f\\u0437\\u0430\\u043d\\u043d\\u043e\\u0435 \\u0441 \\u043c\\u0443\\u0436\\u0441\\u043a\\u0438\\u043c\\u0438 \\u0444\\u0430\\u043a\\u0442\\u043e\\u0440\\u0430\\u043c\\u0438      \",\"\\u0431\\u0435\\u0441\\u043f\\u043b\\u043e\\u0434\\u0438\\u0435     \\u0445\\u0440\\u043e\\u043d\\u0438\\u0447\\u0435\\u0441\\u043a\\u0438\\u0439 \\u0441\\u0430\\u043b\\u044c\\u043f\\u0438\\u043d\\u0433\\u043e\\u043e\\u0444\\u043e\\u0440\\u0438\\u0442        \\u0445\",\"\\u0431\\u0435\\u0441\\u043f\\u043b\\u043e\\u0434\\u0438\\u0435     \\u0430\\u0431\\u0441\\u043e\\u043b\\u044e\\u0442\\u043d\\u044b\\u0439 \\u0442\\u0440\\u0443\\u0431\\u043d\\u044b\\u0439 \\u0444\\u0430\\u043a\\u0442\\u043e\\u0440 \\u043d\\u0433\\u044d \\u0430\\u0434\\u0435\\u043d\\u043e\\u043c\",\"\\u0431\\u0435\\u0441\\u043f\\u043b\\u043e\\u0434\\u0438\\u0435            \\u0436\\u0435\\u043d\\u0441\\u043a\\u043e\\u0435 \\u0431\\u0435\\u0441\\u043f\\u043b\\u043e\\u0434\\u0438\\u0435 \\u0442\\u0440\\u0443\\u0431\\u043d\\u043e \\u043f\\u0435\\u0440\\u0438\",\"\\u0431\\u0435\\u0441\\u043f\\u043b\\u043e\\u0434\\u0438\\u0435    \\u043d\\u0433\\u044d \\u0438 \\u0440\\u0435\\u0437\\u0435\\u043a\\u0446\\u0438\\u044f \\u043f\\u0440\\u0430\\u0432\\u043e\\u0433\\u043e \\u044f\\u0438\\u0447\\u043d\\u0438\\u043a\\u0430 \\u0432 \\u0430\\u043d\\u0430\\u043c\",\"\\u0431\\u0435\\u0441\\u043f\\u043b\\u043e\\u0434\\u0438\\u0435            \\u0436\\u0435\\u043d\\u0441\\u043a\\u043e\\u0435 \\u0431\\u0435\\u0441\\u043f\\u043b\\u043e\\u0434\\u0438\\u0435  \\u043e\\u0431\\u0443\\u0441\\u043b\\u043e\\u0432\\u043b\\u0435\\u043d\",\"\\u0431\\u0435\\u0441\\u043f\\u043b\\u043e\\u0434\\u0438\\u0435          \\u0436\\u0435\\u043d\\u0441\\u043a\\u043e\\u0435 \\u0431\\u0435\\u0441\\u043f\\u043b\\u043e\\u0434\\u0438\\u0435 \\u043d\\u0435\\u0443\\u0442\\u043e\\u0447\\u043d\\u0435\\u043d\\u043d\\u043e\\u0435 \",\"\\u0431\\u0435\\u0441\\u043f\\u043b\\u043e\\u0434\\u0438\\u0435   \\u0442\\u0440\\u0443\\u0431\\u043d\\u043e \\u043f\\u0435\\u0440\\u0438\\u0442\\u043e\\u043d\\u0435\\u043b\\u0430\\u044c\\u043d\\u043e\\u0435         \\u0445\\u0440\\u043e\\u043d\\u0438\\u0447\\u0435\\u0441\",\"\\u0431\\u0435\\u0441\\u043f\\u043b\\u043e\\u0434\\u0438\\u0435    \\u0441\\u0432\\u044f\\u0437\\u0430\\u043d\\u043d\\u043e\\u0435 \\u0441 \\u043c\\u0443\\u0436\\u0441\\u043a\\u0438\\u043c\\u0438 \\u0444\\u0430\\u043a\\u0442\\u043e\\u0440\\u0430\\u043c\\u0438       \",\"\\u0431\\u0435\\u0441\\u043f\\u043b\\u043e\\u0434\\u0438\\u0435     \\u043d\\u0435\\u0443\\u0442\\u043e\\u0447\\u043d\\u0435\\u043d\\u043d\\u043e\\u0435  \\u043d\\u0435\\u0432\\u044b\\u043d\\u0430\\u0448\\u0438\\u0432\\u0430\\u043d\\u0438\\u0435 \\u0431\\u0435\\u0440\\u0435\\u043c\\u0435\\u043d\\u043d\",\"\\u0431\\u0435\\u0441\\u043f\\u043b\\u043e\\u0434\\u0438\\u0435     \\u0445\\u0440\\u043e\\u043d\\u0438\\u0447\\u0435\\u0441\\u043a\\u0438\\u0439 \\u0441\\u0430\\u043b\\u044c\\u043f\\u0438\\u043d\\u0433\\u043e\\u043e\\u0444\\u043e\\u0440\\u0438\\u0442        \\u0445\",\"\\u0431\\u0435\\u0441\\u043f\\u043b\\u043e\\u0434\\u0438\\u0435    \\u0441\\u043e\\u0447\\u0435\\u0442\\u0430\\u043d\\u043d\\u043e\\u0435  \\u0442\\u0440\\u0443\\u0431\\u043d\\u043e \\u043f\\u0435\\u0440\\u0438\\u0442\\u043e\\u043d\\u0435\\u0430\\u043b\\u044c\\u043d\\u043e\\u0435   \\u043e\",\"\\u0431\\u0435\\u0441\\u043f\\u043b\\u043e\\u0434\\u0438\\u0435    \\u043c\\u0443\\u0436\\u0441\\u043a\\u043e\\u0439 \\u0444\\u0430\\u043a\\u0442\\u043e\\u0440       \\u0430\\u0434\\u0435\\u043d\\u043e\\u043c\\u0438\\u043e\\u0437       \",\"\\u0431\\u0435\\u0441\\u043f\\u043b\\u043e\\u0434\\u0438\\u0435     \\u043c\\u0443\\u0436\\u0441\\u043a\\u043e\\u0439 \\u0444\\u0430\\u043a\\u0442\\u043e\\u0440       \",\"\\u0431\\u0435\\u0441\\u043f\\u043b\\u043e\\u0434\\u0438\\u0435     \\u0442\\u0440\\u0443\\u0431\\u043d\\u043e \\u043f\\u0435\\u0440\\u0438\\u0442\\u043e\\u043d\\u0435\\u0430\\u043b\\u044c\\u043d\\u043e\\u0435         \\u043f\\u0440\\u0438\\u043e\\u0431\\u0440\",\"\\u0431\\u0435\\u0441\\u043f\\u043b\\u043e\\u0434\\u0438\\u0435   \\u043c\\u0438\\u043e\\u043c\\u0430 \\u043c\\u0430\\u0442\\u043a\\u0438      \\u043c\\u0443\\u0436\\u0441\\u043a\\u043e\\u0439 \\u0444\\u0430\\u043a\\u0442\\u043e\\u0440      \",\"\\u0431\\u0435\\u0441\\u043f\\u043b\\u043e\\u0434\\u0438\\u0435           \\u0436\\u0435\\u043d\\u0441\\u043a\\u043e\\u0435 \\u0431\\u0435\\u0441\\u043f\\u043b\\u043e\\u0434\\u0438\\u0435 \\u0442\\u0440\\u0443\\u0431\\u043d\\u043e \\u043f\\u0435\\u0440\\u0438\\u0442\",\"\\u0431\\u0435\\u0441\\u043f\\u043b\\u043e\\u0434\\u0438\\u0435    \\u0434\\u0435\\u0444\\u0438\\u0446\\u0438\\u0442 \\u043c\\u0430\\u0441\\u0441\\u044b \\u0442\\u0435\\u043b\\u0430 \\u043d\\u0433\\u044d \\u0436\\u0435\\u043d\\u0441\\u043a\\u043e\\u0435 \\u0431\\u0435\\u0441\\u043f\\u043b\\u043e\",\"\\u0431\\u0435\\u0441\\u043f\\u043b\\u043e\\u0434\\u0438\\u0435   \\u0445\\u0440\\u043e\\u043d\\u0438\\u0447\\u0435\\u0441\\u043a\\u0438\\u0439 \\u0441\\u0430\\u043b\\u044c\\u043f\\u0438\\u043d\\u0433\\u043e\\u043e\\u0444\\u043e\\u0440\\u0438\\u0442        \\u043f\\u0440\\u0438\",\"\\u0431\\u0435\\u0441\\u043f\\u043b\\u043e\\u0434\\u0438\\u0435   \\u0441\\u0443\\u0431\\u043a\\u043b\\u0438\\u043d\\u0438\\u0447 \\u0433\\u0438\\u043f\\u043e\\u0442\\u0438\\u0440\\u0435\\u043e\\u0437  \\u0433\\u0437\\u0442  \\u0433\\u0438\\u043f\\u0435\\u0440\\u0433\\u043e\\u043c\\u043e\\u0446\\u0438\",\"\\u0431\\u0435\\u0441\\u043f\\u043b\\u043e\\u0434\\u0438\\u0435     \\u0445\\u0440\\u043e\\u043d\\u0438\\u0447\\u0435\\u0441\\u043a\\u0438\\u0439 \\u0441\\u0430\\u043b\\u044c\\u043f\\u0438\\u043d\\u0433\\u043e\\u043e\\u0444\\u043e\\u0440\\u0438\\u0442        \\u0440\",\"\\u0431\\u0435\\u0441\\u043f\\u043b\\u043e\\u0434\\u0438\\u0435    \\u043c\\u0443\\u0436\\u0441\\u043a\\u043e\\u0439 \\u0444\\u0430\\u043a\\u0442\\u043e\\u0440       \\u0430\\u0438\\u0442         \\u0430\\u0434\\u0435\\u043d\",\"\\u0431\\u0435\\u0441\\u043f\\u043b\\u043e\\u0434\\u0438\\u0435     \\u0445\\u0440\\u043e\\u043d\\u0438\\u0447\\u0435\\u0441\\u043a\\u0438\\u0439 \\u0441\\u0430\\u043b\\u044c\\u043f\\u0438\\u043d\\u0433\\u043e\\u043e\\u0444\\u043e\\u0440\\u0438\\u0442        \\u043f\",\"\\u0431\\u0435\\u0441\\u043f\\u043b\\u043e\\u0434\\u0438\\u0435           \\u0436\\u0435\\u043d\\u0441\\u043a\\u043e\\u0435 \\u0431\\u0435\\u0441\\u043f\\u043b\\u043e\\u0434\\u0438\\u0435 \\u043d\\u0435\\u0443\\u0442\\u043e\\u0447\\u043d\\u0435\\u043d\\u043d\\u043e\\u0435\",\"\\u0431\\u0435\\u0441\\u043f\\u043b\\u043e\\u0434\\u0438\\u0435     \\u043d\\u0435\\u0443\\u0442\\u043e\\u0447\\u043d\\u0435\\u043d\\u043d\\u043e\\u0435 \",\"\\u0431\\u0435\\u0441\\u043f\\u043b\\u043e\\u0434\\u0438\\u0435     \\u0445\\u0440\\u043e\\u043d\\u0438\\u0447\\u0435\\u0441\\u043a\\u0438\\u0439 \\u044d\\u043d\\u0434\\u043e\\u043c\\u0435\\u0442\\u0440\\u0438\\u0442        \\u0430\\u0434\\u0435\\u043d\\u043e\\u043c\",\"\\u0431\\u0435\\u0441\\u043f\\u043b\\u043e\\u0434\\u0438\\u0435    \\u0430\\u0431\\u0441\\u043e\\u043b\\u044e\\u0442\\u043d\\u043e\\u0435 \\u0442\\u0440\\u0443\\u0431\\u043d\\u043e\\u0435  \\u0445\\u0440\\u043e\\u043d\\u0438\\u0447\\u0435\\u0441\\u043a\\u0438\\u0439 \\u0441\\u0430\\u043b\\u044c\\u043f\",\"\\u0431\\u0435\\u0441\\u043f\\u043b\\u043e\\u0434\\u0438\\u0435     \\u0441\\u0438\\u043d\\u0435\\u0445\\u0438\\u0438 \\u043f\\u043e\\u043b\\u043e\\u0441\\u0442\\u0438 \\u043c\\u0430\\u0442\\u043a\\u0438        \\u0430\\u0434\\u0435\\u043d\\u043e\\u043c\\u0438\",\"\\u0431\\u0435\\u0441\\u043f\\u043b\\u043e\\u0434\\u0438\\u0435     \\u0440\\u0435\\u0437\\u0435\\u043a\\u0446\\u0438\\u044f \\u043f\\u0440\\u0430\\u0432\\u043e\\u0433\\u043e  \\u044f\\u0438\\u0447\\u043d\\u0438\\u043a\\u0430 \\u0432 \\u0430\\u043d\\u0430\\u043c\\u043d\\u0435\\u0437\\u0435\",\"\\u0431\\u0435\\u0441\\u043f\\u043b\\u043e\\u0434\\u0438\\u0435     \\u044d\\u043d\\u0434\\u043e\\u043a\\u0440\\u0438\\u043d\\u043d\\u043e\\u0435  \\u0441\\u043d\\u0438\\u0436\\u0435\\u043d\\u0438\\u0435 \\u043e\\u0432\\u0430\\u0440\\u0438\\u0430\\u043b\\u044c\\u043d\\u043e\\u0433\\u043e \\u0440\",\"\\u0431\\u0435\\u0441\\u043f\\u043b\\u043e\\u0434\\u0438\\u0435    \\u043d\\u0435\\u0443\\u0442\\u043e\\u0447\\u043d\\u0435\\u043d\\u043d\\u043e\\u0435  \\u0445\\u0440\\u043e\\u043d\\u0438\\u0447\\u0435\\u0441\\u043a\\u0438\\u0439 \\u0441\\u0430\\u043b\\u044c\\u043f\\u0438\\u043d\\u0433\\u043e\\u043e\\u0444\",\"\\u0431\\u0435\\u0441\\u043f\\u043b\\u043e\\u0434\\u0438\\u0435   \\u0445\\u0440\\u043e\\u043d\\u0438\\u0447\\u0435\\u0441\\u043a\\u0438\\u0439 \\u044d\\u043d\\u0434\\u043e\\u043c\\u0435\\u0442\\u0440\\u0438\\u0442  \\u043f\\u0440\\u043e\\u043b\\u0435\\u0447\\u0435\\u043d\\u043d\\u044b\\u0439   \",\"\\u0431\\u0435\\u0441\\u043f\\u043b\\u043e\\u0434\\u0438\\u0435     \\u0432\\u043f\\u0440 \\u043c\\u0430\\u0442\\u043a\\u0438 \\u0438 \\u0448\\u0435\\u0439\\u043a\\u0438 \\u043c\\u0430\\u0442\\u043a\\u0438  \\u043f\\u0435\\u0440\\u0435\\u0433\\u043e\\u0440\\u043e\\u0434\\u043a\\u0430\",\"\\u043d\\u0435\\u0442\",\"\\u0431\\u0435\\u0441\\u043f\\u043b\\u043e\\u0434\\u0438\\u0435    \\u0441\\u043e\\u0447\\u0435\\u0442\\u0430\\u043d\\u043d\\u043e\\u0435        \\u0436\\u0435\\u043d\\u0441\\u043a\\u043e\\u0435 \\u0431\\u0435\\u0441\\u043f\\u043b\\u043e\\u0434\\u0438\\u0435  \",\"\\u0431\\u0435\\u0441\\u043f\\u043b\\u043e\\u0434\\u0438\\u0435   \\u043c\\u0438\\u043a\\u0440\\u043e\\u0430\\u0434\\u0435\\u043d\\u043e\\u043c\\u0430 \\u0433\\u0438\\u043f\\u043e\\u0444\\u0438\\u0437\\u0430        \\u043c\\u0443\\u0436\\u0441\\u043a\\u043e\\u0439 \\u0444\",\"\\u0431\\u0435\\u0441\\u043f\\u043b\\u043e\\u0434\\u0438\\u0435    \\u043d\\u0433\\u044d   \\u0441\\u0442    \\u043c\\u0435\\u0441 \\u0430\\u0433\\u043d\\u0440\\u0433   \\u0446\\u0438\\u043a\\u043b\\u0430 \\u0434\\u0438\\u0435\\u043d\\u043e\\u0433\\u0435\",\"\\u0431\\u0435\\u0441\\u043f\\u043b\\u043e\\u0434\\u0438\\u0435     \\u0430\\u0431\\u0441\\u043e\\u043b\\u044e\\u0442\\u043d\\u043e\\u0435 \\u0442\\u0440\\u0443\\u0431\\u043d\\u043e\\u0435          \\u043f\\u0440\\u0438\\u043e\\u0431\\u0440\\u0435\\u0442\",\"\\u0431\\u0435\\u0441\\u043f\\u043b\\u043e\\u0434\\u0438\\u0435   \\u043e\\u0431\\u0443\\u0441\\u043b\\u043e\\u0432\\u043b\\u0435\\u043d\\u043d\\u043e\\u0435 \\u044d\\u043d\\u0434\\u043e\\u043c\\u0435\\u0442\\u0440\\u0438\\u043e\\u0437\\u043e\\u043c \\u0445\\u0440\\u043e\\u043d\\u0438\\u0447\\u0435\\u0441\\u043a\\u0438\",\"\\u0431\\u0435\\u0441\\u043f\\u043b\\u043e\\u0434\\u0438\\u0435    \\u043d\\u0433\\u044d    \\u043a\\u043e\\u043c\\u0431\\u0438\\u043d\\u0438\\u0440\\u043e\\u0432\\u0430\\u043d\\u043d\\u043e\\u0435 \\u043b\\u0435\\u0447\\u0435\\u043d\\u0438\\u0435  \\u0434\\u0438\\u0435\\u043d\\u043e\",\"\\u0431\\u0435\\u0441\\u043f\\u043b\\u043e\\u0434\\u0438\\u0435     \\u0445\\u0440\\u043e\\u043d\\u0438\\u0447\\u0435\\u0441\\u043a\\u0438\\u0439 \\u0441\\u0430\\u043b\\u044c\\u043f\\u0438\\u043d\\u0433\\u043e\\u043e\\u0444\\u043e\\u0440\\u0438\\u0442         \",\"\\u0431\\u0435\\u0441\\u043f\\u043b\\u043e\\u0434\\u0438\\u0435    \\u043e\\u0431\\u0443\\u0441\\u043b\\u043e\\u0432\\u043b\\u0435\\u043d\\u043d\\u043e\\u0435 \\u043c\\u0443\\u0436\\u0441\\u043a\\u0438\\u043c \\u0444\\u0430\\u043a\\u0442\\u043e\\u0440\\u043e\\u043c \\u0441\\u043f\\u0430\\u0435\\u0447\\u043d\",\"\\u0431\\u0435\\u0441\\u043f\\u043b\\u043e\\u0434\\u0438\\u0435     \\u0441\\u0432\\u044f\\u0437\\u0430\\u043d\\u043d\\u043e\\u0435 \\u0441 \\u043c\\u0443\\u0436\\u0441\\u043a\\u0438\\u043c\\u0438 \\u0444\\u0430\\u043a\\u0442\\u043e\\u0440\\u0430\\u043c\\u0438      \",\"\\u0431\\u0435\\u0441\\u043f\\u043b\\u043e\\u0434\\u0438\\u0435   \\u044d\\u043d\\u0434\\u043e\\u043c\\u0435\\u0442\\u0440\\u0438\\u043e\\u0437 \\u0442\\u0430\\u0437\\u043e\\u0432\\u043e\\u0439 \\u0431\\u0440\\u044e\\u0448\\u0438\\u043d\\u044b  \\u043a\\u043e\\u043c\\u0431\\u0438\\u043d\\u0438\\u0440\\u043e\",\"\\u0431\\u0435\\u0441\\u043f\\u043b\\u043e\\u0434\\u0438\\u0435     \\u0442\\u0440\\u0443\\u0431\\u043d\\u043e \\u043f\\u0435\\u0440\\u0438\\u0442\\u043e\\u043d\\u0435\\u0430\\u043b\\u044c\\u043d\\u044b\\u0439 \\u0444\\u0430\\u043a\\u0442\\u043e\\u0440\",\"\\u0431\\u0435\\u0441\\u043f\\u043b\\u043e\\u0434\\u0438\\u0435   \\u043d\\u0433\\u044d  \\u0434\\u0435\\u0444\\u0438\\u0446\\u0438\\u0442 \\u043c\\u0430\\u0441\\u0441\\u044b \\u0442\\u0435\\u043b\\u0430\",\"\\u0431\\u0435\\u0441\\u043f\\u043b\\u043e\\u0434\\u0438\\u0435          \\u0434\\u0440\\u0443\\u0433\\u0438\\u0435 \\u0444\\u043e\\u0440\\u043c\\u044b \\u0436\\u0435\\u043d\\u0441\\u043a\\u043e\\u0433\\u043e \\u0431\\u0435\\u0441\\u043f\\u043b\\u043e\\u0434\\u0438\\u044f\",\"\\u0431\\u0435\\u0441\\u043f\\u043b\\u043e\\u0434\\u0438\\u0435     \\u0438\\u0434\\u0438\\u043e\\u043f\\u0430\\u0442\\u0438\\u0447\\u0435\\u0441\\u043a\\u0430\\u044f \\u0444\\u043e\\u0440\\u043c\\u0430 \\u043d\\u0433\\u044d     \",\"\\u0431\\u0435\\u0441\\u043f\\u043b\\u043e\\u0434\\u0438\\u0435   \\u043c\\u0443\\u0436\\u0441\\u043a\\u043e\\u0439 \\u0444\\u0430\\u043a\\u0442\\u043e\\u0440  \\u0434\\u0436\\u0432\\u043f \",\"\\u0431\\u0435\\u0441\\u043f\\u043b\\u043e\\u0434\\u0438\\u0435          \\u0436\\u0435\\u043d\\u0441\\u043a\\u043e\\u0435 \\u0431\\u0435\\u0441\\u043f\\u043b\\u043e\\u0434\\u0438\\u0435  \\u043e\\u0431\\u0443\\u0441\\u043b\\u043e\\u0432\\u043b\\u0435\\u043d\\u043d\\u043e\",\"\\u0431\\u0435\\u0441\\u043f\\u043b\\u043e\\u0434\\u0438\\u0435    \\u043a\\u043e\\u043c\\u0431\\u0438\\u043d\\u0438\\u0440\\u043e\\u0432\\u0430\\u043d\\u043d\\u043e\\u0435 \\u043b\\u0435\\u0447\\u0435\\u043d\\u0438\\u0435 \\u043d\\u0433\\u044d     \\u0430\\u0433\\u043e\\u043d\\u0438\",\"\\u0431\\u0435\\u0441\\u043f\\u043b\\u043e\\u0434\\u0438\\u0435    \\u0441\\u043e\\u0447\\u0435\\u0442\\u0430\\u043d\\u043d\\u043e\\u0435  \\u0442\\u0440\\u0443\\u0431\\u043d\\u043e \\u043f\\u0435\\u0440\\u0438\\u0442\\u043e\\u043d\\u0435\\u0430\\u043b\\u044c\\u043d\\u043e\\u0435  \\u043e\\u0431\",\"\\u0431\\u0435\\u0441\\u043f\\u043b\\u043e\\u0434\\u0438\\u0435     \\u0440\\u0443\\u0431\\u0435\\u0446 \\u043d\\u0430 \\u043c\\u0430\\u0442\\u043a\\u0435  \\u043a\\u0435\\u0441\\u0430\\u0440\\u0435\\u0432\\u043e \\u0441\\u0435\\u0447\\u0435\\u043d\\u0438\\u0435 \\u0432  \",\"\\u0431\\u0435\\u0441\\u043f\\u043b\\u043e\\u0434\\u0438\\u0435    \\u0442\\u0440\\u0443\\u0431\\u043d\\u043e \\u043f\\u0435\\u0440\\u0438\\u0442\\u043e\\u043d\\u0435\\u0430\\u043b\\u044c\\u043d\\u043e\\u0435         \\u0445\\u0440\\u043e\\u043d\\u0438\\u0447\\u0435\",\"\\u0431\\u0435\\u0441\\u043f\\u043b\\u043e\\u0434\\u0438\\u0435    \\u043e\\u0433\\u0430  \\u043d\\u0433\\u044d   \\u0441\\u0442  \\u044d\\u043d\\u0434\\u043e\\u043c\\u0435\\u0442\\u0440\\u0438\\u043e\\u0437 \\u0442\\u0430\\u0437\\u043e\\u0432\\u043e\\u0439 \\u0431\\u0440\",\"\\u0431\\u0435\\u0441\\u043f\\u043b\\u043e\\u0434\\u0438\\u0435          \\u0434\\u0440\\u0443\\u0433\\u0438\\u0435 \\u0444\\u043e\\u0440\\u043c\\u044b \\u0436\\u0435\\u043d\\u0441\\u043a\\u043e\\u0433\\u043e \\u0431\\u0435\\u0441\\u043f\\u043b\\u043e\\u0434\\u0438\\u044f\",\"\\u0431\\u0435\\u0441\\u043f\\u043b\\u043e\\u0434\\u0438\\u0435          \\u0436\\u0435\\u043d\\u0441\\u043a\\u043e\\u0435 \\u0431\\u0435\\u0441\\u043f\\u043b\\u043e\\u0434\\u0438\\u0435  \\u0442\\u0440\\u0443\\u0431\\u043d\\u043e \\u043f\\u0435\\u0440\\u0438\\u0442\",\"\\u0431\\u0435\\u0441\\u043f\\u043b\\u043e\\u0434\\u0438\\u0435          \\u0431\\u0435\\u0441\\u043f\\u043b\\u043e\\u0434\\u0438\\u0435 \\u0436\\u0435\\u043d\\u0441\\u043a\\u043e\\u0435 \\u043d\\u0435\\u0443\\u0442\\u043e\\u0447\\u043d\\u0435\\u043d\\u043d\\u043e\\u0435 \",\"\\u0431\\u0435\\u0441\\u043f\\u043b\\u043e\\u0434\\u0438\\u0435     \\u0445\\u0440\\u043e\\u043d\\u0438\\u0447\\u0435\\u0441\\u043a\\u0438\\u0439 \\u0441\\u0430\\u043b\\u044c\\u043f\\u0438\\u043d\\u0433\\u043e\\u043e\\u0444\\u043e\\u0440\\u0438\\u0442         \",\"\\u0431\\u0435\\u0441\\u043f\\u043b\\u043e\\u0434\\u0438\\u0435     \\u0430\\u0434\\u0435\\u043d\\u043e\\u043c\\u0438\\u043e\\u0437       \\u043f\\u0440\\u0438\\u043e\\u0431\\u0440\\u0435\\u0442\\u0435\\u043d\\u043d\\u043e\\u0435 \\u043e\\u0442\\u0441\\u0443\\u0442\\u0441\",\"\\u0431\\u0435\\u0441\\u043f\\u043b\\u043e\\u0434\\u0438\\u0435   \\u0430\\u0431\\u0441\\u043e\\u043b\\u044e\\u0442\\u043d\\u043e\\u0435 \\u0442\\u0440\\u0443\\u0431\\u043d\\u043e\\u0435  \\u0441\\u043f\\u0430\\u0435\\u0447\\u043d\\u044b\\u0439 \\u043f\\u0440\\u043e\\u0446\\u0435\\u0441\\u0441 \\u0432\",\"\\u0431\\u0435\\u0441\\u043f\\u043b\\u043e\\u0434\\u0438\\u0435   \\u044d\\u043d\\u0434\\u043e\\u043c\\u0435\\u0442\\u0440\\u0438\\u043e\\u0437 \\u0442\\u0430\\u0437\\u043e\\u0432\\u043e\\u0439 \\u0431\\u0440\\u044e\\u0448\\u0438\\u043d\\u044b \\u0432 \\u0430\\u043d\\u0430\\u043c\\u043d\\u0435\\u0437\\u0435\",\"\\u0431\\u0435\\u0441\\u043f\\u043b\\u043e\\u0434\\u0438\\u0435          \\u0436\\u0435\\u043d\\u0441\\u043a\\u043e\\u0435 \\u0431\\u0435\\u0441\\u043f\\u043b\\u043e\\u0434\\u0438\\u0435  \\u043e\\u0431\\u0443\\u0441\\u043b\\u043e\\u0432\\u043b\\u0435\\u043d\\u043d\\u043e\",\"\\u0431\\u0435\\u0441\\u043f\\u043b\\u043e\\u0434\\u0438\\u0435    \\u043d\\u0433\\u044d   \\u0441\\u0442  \\u043a\\u043e\\u043c\\u0431\\u0438\\u043d\\u0438\\u0440\\u043e\\u0432\\u0430\\u043d\\u043d\\u043e\\u0435 \\u043b\\u0435\\u0447\\u0435\\u043d\\u0438\\u0435    \",\"\\u0431\\u0435\\u0441\\u043f\\u043b\\u043e\\u0434\\u0438\\u0435           \\u0436\\u0435\\u043d\\u0441\\u043a\\u043e\\u0435 \\u0431\\u0435\\u0441\\u043f\\u043b\\u043e\\u0434\\u0438\\u0435 \\u0442\\u0440\\u0443\\u0431\\u043d\\u043e \\u043f\\u0435\\u0440\\u0438\\u0442\",\"\\u0431\\u0435\\u0441\\u043f\\u043b\\u043e\\u0434\\u0438\\u0435   \\u043f\\u0440\\u0438\\u043e\\u0431\\u0440\\u0435\\u0442\\u0435\\u043d\\u043d\\u043e\\u0435 \\u043e\\u0442\\u0441\\u0443\\u0442\\u0441\\u0442\\u0432\\u0438\\u0435 \\u043e\\u0440\\u0433\\u0430\\u043d\\u0430  \\u0430\\u0434\\u043d\\u0435\\u043a\",\"\\u0431\\u0435\\u0441\\u043f\\u043b\\u043e\\u0434\\u0438\\u0435     \\u043d\\u0433\\u044d  \\u0440\\u0435\\u0446\\u0438\\u0434\\u0438\\u0432  \\u043a\\u0438\\u0441\\u0442\\u0430 \\u043b\\u0435\\u0432\\u043e\\u0433\\u043e \\u044f\\u0438\\u0447\\u043d\\u0438\\u043a\\u0430  \",\"\\u0431\\u0435\\u0441\\u043f\\u043b\\u043e\\u0434\\u0438\\u0435   \\u043e\\u0431\\u0443\\u0441\\u043b\\u043e\\u0432\\u043b\\u0435\\u043d\\u043d\\u043e\\u0435 \\u043c\\u0443\\u0436\\u0441\\u043a\\u0438\\u043c \\u0444\\u0430\\u043a\\u0442\\u043e\\u0440\\u043e\\u043c \",\"\\u0431\\u0435\\u0441\\u043f\\u043b\\u043e\\u0434\\u0438\\u0435   \\u043c\\u0443\\u0436\\u0441\\u043a\\u043e\\u0439 \\u0444\\u0430\\u043a\\u0442\\u043e\\u0440 \",\"\\u0431\\u0435\\u0441\\u043f\\u043b\\u043e\\u0434\\u0438\\u0435   \\u0430\\u043d\\u043e\\u0432\\u0443\\u043b\\u044f\\u0446\\u0438\\u044f         \\u0430\\u043c\\u0435\\u043d\\u043e\\u0440\\u0435\\u044f          \\u0445\",\"\\u0431\\u0435\\u0441\\u043f\\u043b\\u043e\\u0434\\u0438\\u0435    \\u0441\\u043e\\u0447\\u0435\\u0442\\u0430\\u043d\\u043d\\u043e\\u0435        \\u0436\\u0435\\u043d\\u0441\\u043a\\u043e\\u0435 \\u0431\\u0435\\u0441\\u043f\\u043b\\u043e\\u0434\\u0438\\u0435 \\u0442\",\"\\u0431\\u0435\\u0441\\u043f\\u043b\\u043e\\u0434\\u0438\\u0435     \\u0445\\u0440\\u043e\\u043d\\u0438\\u0447\\u0435\\u0441\\u043a\\u0438\\u0439 \\u0441\\u0430\\u043b\\u044c\\u043f\\u0438\\u043d\\u0433\\u043e\\u043e\\u0444\\u043e\\u0440\\u0438\\u0442        \\u043c\",\"\\u0431\\u0435\\u0441\\u043f\\u043b\\u043e\\u0434\\u0438\\u0435     \\u0430\\u0434\\u0435\\u043d\\u043e\\u043c\\u0438\\u043e\\u0437         \\u043e\\u0433\\u0430  \\u043d\\u0433\\u044d        \\u0446\\u0438\",\"\\u0431\\u0435\\u0441\\u043f\\u043b\\u043e\\u0434\\u0438\\u0435     \\u0445\\u0440\\u043e\\u043d\\u0438\\u0447\\u0435\\u0441\\u043a\\u0438\\u0439 \\u0441\\u0430\\u043b\\u044c\\u043f\\u0438\\u043d\\u0433\\u043e\\u043e\\u0444\\u043e\\u0440\\u0438\\u0442        \\u043f\",\"\\u0431\\u0435\\u0441\\u043f\\u043b\\u043e\\u0434\\u0438\\u0435    \\u0430\\u0431\\u0441\\u043e\\u043b\\u044e\\u0442\\u043d\\u043e\\u0435 \\u0442\\u0440\\u0443\\u0431\\u043d\\u043e\\u0435 \\u0445\\u0440\\u043e\\u043d\\u0438\\u0447\\u0435\\u0441\\u043a\\u0438\\u0439 \\u044d\\u043d\\u0434\\u043e\\u043c\\u0435\",\"\\u0431\\u0435\\u0441\\u043f\\u043b\\u043e\\u0434\\u0438\\u0435           \\u0436\\u0435\\u043d\\u0441\\u043a\\u043e\\u0435 \\u0431\\u0435\\u0441\\u043f\\u043b\\u043e\\u0434\\u0438\\u0435 \\u0442\\u0440\\u0443\\u0431\\u043d\\u043e \\u043f\\u0435\\u0440\\u0438\\u0442\",\"\\u0431\\u0435\\u0441\\u043f\\u043b\\u043e\\u0434\\u0438\\u0435          \\u0441\\u043e\\u0447\\u0435\\u0442\\u0430\\u043d\\u043d\\u043e\\u0435 \\u0430\\u043d\\u043e\\u0432\\u0443\\u043b\\u044f\\u0446\\u0438\\u044f  \\u0442\\u0435\\u0440\\u0430\\u0442\\u043e\\u0437\\u043e\",\"\\u0431\\u0435\\u0441\\u043f\\u043b\\u043e\\u0434\\u0438\\u0435     \\u043c\\u0443\\u0436\\u0441\\u043a\\u043e\\u0439 \\u0444\\u0430\\u043a\\u0442\\u043e\\u0440       \\u0441\\u043e\\u0441\\u0442\\u043e\\u044f\\u043d\\u0438\\u0435 \\u043f\\u043e\\u0441\\u043b\\u0435\",\"\\u0431\\u0435\\u0441\\u043f\\u043b\\u043e\\u0434\\u0438\\u0435     \\u0442\\u0440\\u0443\\u0431\\u043d\\u043e \\u043f\\u0435\\u0440\\u0438\\u0442\\u043e\\u043d\\u0435\\u0430\\u043b\\u044c\\u043d\\u044b\\u0439 \\u0444\\u0430\\u043a\\u0442\\u043e\\u0440\",\"\\u0431\\u0435\\u0441\\u043f\\u043b\\u043e\\u0434\\u0438\\u0435   \\u0445\\u0440\\u043e\\u043d\\u0438\\u0447\\u0435\\u0441\\u043a\\u0438\\u0439 \\u0441\\u0430\\u043b\\u044c\\u043f\\u0438\\u043d\\u0433\\u043e\\u043e\\u0444\\u043e\\u0440\\u0438\\u0442         \\u043f\\u0440\",\"\\u0431\\u0435\\u0441\\u043f\\u043b\\u043e\\u0434\\u0438\\u0435     \\u0442\\u0440\\u0443\\u0431\\u043d\\u043e \\u043f\\u0435\\u0440\\u0438\\u0442\\u043e\\u043d\\u0435\\u0430\\u043b\\u044c\\u043d\\u043e\\u0435  \\u0445\\u0440 \\u0441\\u0430\\u043b\\u044c\\u043f\\u0438\\u043d\\u0433\\u043e\\u043e\",\"\\u0431\\u0435\\u0441\\u043f\\u043b\\u043e\\u0434\\u0438\\u0435    \\u0433\\u044d  \\u044d\\u043d\\u0434\\u043e\\u043c\\u0435\\u0442\\u0440\\u0438\\u043e\\u043c\\u0430 \\u043b\\u0435\\u0432\\u043e\\u0433\\u043e \\u044f\\u0438\\u0447\\u043d\\u0438\\u043a\\u0430  \\u0430\\u0434\\u0435\\u043d\",\"\\u0431\\u0435\\u0441\\u043f\\u043b\\u043e\\u0434\\u0438\\u0435   \\u043c\\u0438\\u043e\\u043c\\u0430 \\u043c\\u0430\\u0442\\u043a\\u0438      \\u044d\\u043d\\u0434\\u043e\\u043c\\u0435\\u0442\\u0440\\u0438\\u043e\\u0437 \\u0442\\u0430\\u0437\\u043e\\u0432\\u043e\\u0439 \\u0431\",\"\\u0431\\u0435\\u0441\\u043f\\u043b\\u043e\\u0434\\u0438\\u0435           \\u0436\\u0435\\u043d\\u0441\\u043a\\u043e\\u0435 \\u0431\\u0435\\u0441\\u043f\\u043b\\u043e\\u0434\\u0438\\u0435 \\u0442\\u0440\\u0443\\u0431\\u043d\\u043e \\u043f\\u0435\\u0440\\u0438\\u043e\",\"\\u0431\\u0435\\u0441\\u043f\\u043b\\u043e\\u0434\\u0438\\u0435     \\u0445\\u0440\\u043e\\u043d\\u0438\\u0447\\u0435\\u0441\\u043a\\u0438\\u0439 \\u044d\\u043d\\u0434\\u043e\\u043c\\u0435\\u0442\\u0440\\u0438\\u0442        \\u043f\\u0440\\u0438\\u0432\\u044b\\u0447\",\"\\u0431\\u0435\\u0441\\u043f\\u043b\\u043e\\u0434\\u0438\\u0435    \\u043e\\u0431\\u0443\\u0441\\u043b\\u043e\\u0432\\u043b\\u0435\\u043d\\u043d\\u043e\\u0435 \\u044d\\u043d\\u0434\\u043e\\u043c\\u0435\\u0442\\u0440\\u043e\\u0437\\u043e\\u043c  \\u043d\\u0433\\u044d   \\u044d\\u043d\\u0434\",\"\\u0431\\u0435\\u0441\\u043f\\u043b\\u043e\\u0434\\u0438\\u0435          \\u0434\\u0440\\u0443\\u0433\\u0438\\u0435 \\u0444\\u043e\\u0440\\u043c\\u044b \\u0436\\u0435\\u043d\\u0441\\u043a\\u043e\\u0433\\u043e \\u0431\\u0435\\u0441\\u043f\\u043b\\u043e\\u0434\\u0438\\u044f\",\"\\u0431\\u0435\\u0441\\u043f\\u043b\\u043e\\u0434\\u0438\\u0435     \\u0445\\u0440\\u043e\\u043d\\u0438\\u0447\\u0435\\u0441\\u043a\\u0438\\u0439 \\u0441\\u0430\\u043b\\u044c\\u043f\\u0438\\u043d\\u0433\\u043e\\u043e\\u0444\\u043e\\u0440\\u0438\\u0442        \\u043f\",\"\\u0431\\u0435\\u0441\\u043f\\u043b\\u043e\\u0434\\u0438\\u0435     \\u0445\\u0440\\u043e\\u043d\\u0438\\u0447\\u0435\\u0441\\u043a\\u0438\\u0439 \\u044d\\u043d\\u0434\\u043e\\u043c\\u0435\\u0442\\u0440\\u0438\\u0442        \\u043c\\u0443\\u0436\\u0441\\u043a\\u043e\",\"\\u0431\\u0435\\u0441\\u043f\\u043b\\u043e\\u0434\\u0438\\u0435     \\u0445\\u0440\\u043e\\u043d\\u0438\\u0447\\u0435\\u0441\\u043a\\u0438\\u0439 \\u0441\\u0430\\u043b\\u044c\\u043f\\u0438\\u043d\\u0433\\u043e\\u043e\\u0444\\u043e\\u0440\\u0438\\u0442        \\u043f\",\"\\u0431\\u0435\\u0441\\u043f\\u043b\\u043e\\u0434\\u0438\\u0435           \\u0436\\u0435\\u043d\\u0441\\u043a\\u043e\\u0435 \\u0431\\u0435\\u0441\\u043f\\u043b\\u043e\\u0434\\u0438\\u0435 \\u043d\\u0435\\u0443\\u0442\\u043e\\u0447\\u043d\\u0435\\u043d\\u043d\\u043e\\u0435\",\"\\u0431\\u0435\\u0441\\u043f\\u043b\\u043e\\u0434\\u0438\\u0435   \\u0443\\u0437\\u043b\\u043e\\u0432\\u043e\\u0439 \\u0437\\u043e\\u0431  \\u0434\\u0438\\u0444\\u0444\\u0443\\u0437\\u043d\\u0430\\u044f \\u043a\\u0438\\u0441\\u0442\\u043e\\u0437\\u043d\\u0430\\u044f \\u043c\\u0430\\u0441\\u0442\\u043e\",\"\\u0431\\u0435\\u0441\\u043f\\u043b\\u043e\\u0434\\u0438\\u0435     \\u0445\\u0440\\u043e\\u043d\\u0438\\u0447\\u0435\\u0441\\u043a\\u0438\\u0439 \\u044d\\u043d\\u0434\\u043e\\u043c\\u0435\\u0442\\u0440\\u0438\\u0442        \\u0430\\u0434\\u0435\\u043d\\u043e\\u043c\",\"\\u0431\\u0435\\u0441\\u043f\\u043b\\u043e\\u0434\\u0438\\u0435    \\u043d\\u0435\\u0432\\u044b\\u043d\\u0430\\u0448\\u0438\\u0432\\u0430\\u043d\\u0438\\u0435 \\u0431\\u0435\\u0440\\u0435\\u043c\\u0435\\u043d\\u043d\\u043e\\u0441\\u0442\\u0438 \\u0432 \\u0430\\u043d\\u0430\\u043c\\u043d\\u0435\\u0437\\u0435\",\"\\u0431\\u0435\\u0441\\u043f\\u043b\\u043e\\u0434\\u0438\\u0435    \\u0442\\u0440\\u0443\\u0431\\u043d\\u043e \\u043f\\u0435\\u0440\\u0438\\u0442\\u043e\\u043d\\u0435\\u0430\\u043b\\u044c\\u043d\\u044b\\u0439 \\u0444\\u0430\\u043a\\u0442\\u043e\\u0440\",\"\\u0431\\u0435\\u0441\\u043f\\u043b\\u043e\\u0434\\u0438\\u0435     \\u043c\\u0438\\u043e\\u043c\\u0430 \\u043c\\u0430\\u0442\\u043a\\u0438      \\u0434\\u043e\\u0431\\u0440\\u043e\\u043a\\u0430\\u0447\\u0435\\u0441\\u0442\\u0432\\u0435\\u043d\\u043d\\u0430\\u044f \\u0434\",\"\\u0431\\u0435\\u0441\\u043f\\u043b\\u043e\\u0434\\u0438\\u0435    \\u043e\\u0431\\u0441\\u0443\\u043b\\u043e\\u0432\\u043b\\u0435\\u043d\\u043d\\u043e\\u0435 \\u044d\\u043d\\u0434\\u043e\\u043c\\u0435\\u0442\\u0440\\u0438\\u043e\\u0437\\u043e\\u043c  \\u044d\\u043d\\u0434\\u043e\\u043c\\u0435\\u0442\\u0440\",\"\\u0431\\u0435\\u0441\\u043f\\u043b\\u043e\\u0434\\u0438\\u0435    \\u0442\\u0440\\u0443\\u0431\\u043d\\u043e\\u0435 \",\"\\u0431\\u0435\\u0441\\u043f\\u043b\\u043e\\u0434\\u0438\\u0435     \\u0445\\u0440\\u043e\\u043d\\u0438\\u0447\\u0435\\u0441\\u043a\\u0438\\u0439 \\u044d\\u043d\\u0434\\u043e\\u043c\\u0435\\u0442\\u0440\\u0438\\u0442        \\u0430\\u0434\\u0435\\u043d\\u043e\\u043c\",\"\\u0431\\u0435\\u0441\\u043f\\u043b\\u043e\\u0434\\u0438\\u0435   \\u044d\\u043d\\u0434\\u043e\\u043c\\u0435\\u0442\\u0440\\u0438\\u043e\\u0437 \\u0442\\u0430\\u0437\\u043e\\u0432\\u043e\\u0439 \\u0431\\u0440\\u044e\\u0448\\u0438\\u043d\\u044b  \\u043a\\u043e\\u043c\\u0431\\u0438\\u043d\\u043e\\u0440\\u043e\",\"\\u0431\\u0435\\u0441\\u043f\\u043b\\u043e\\u0434\\u0438\\u0435    \\u0430\\u0441\\u0431\\u043e\\u043b\\u044e\\u0442\\u043d\\u043e\\u0435 \\u0442\\u0440\\u0443\\u0431\\u043d\\u043e\\u0435          \\u0445\\u0440\\u043e\\u043d\\u0438\\u0447\\u0435\\u0441\\u043a\",\"\\u0431\\u0435\\u0441\\u043f\\u043b\\u043e\\u0434\\u0438\\u0435    \\u0442\\u0440\\u0443\\u0431\\u043d\\u043e\\u0435 \\u0438 \\u043e\\u0431\\u0443\\u0441\\u043b\\u043e\\u0432\\u043b\\u0435\\u043d\\u043d\\u043e\\u0435 \\u044d\\u043d\\u0434\\u043e\\u043c\\u0435\\u0442\\u0440\\u0438\\u043e\\u0437\\u043e\\u043c\",\"\\u0431\\u0435\\u0441\\u043f\\u043b\\u043e\\u0434\\u0438\\u0435   \\u043c\\u0443\\u0436\\u0441\\u043a\\u043e\\u0439 \\u0444\\u0430\\u043a\\u0442\\u043e\\u0440       \\u043d\\u0430\\u0440\\u0443\\u0448\\u0435\\u043d\\u0438\\u0435 \\u0436\\u0438\\u0440\\u043e\\u0432\\u043e\\u0433\",\"\\u0431\\u0435\\u0441\\u043f\\u043b\\u043e\\u0434\\u0438\\u0435   \\u043c\\u0443\\u0436\\u0441\\u043a\\u043e\\u0439 \\u0444\\u0430\\u043a\\u0442\\u043e\\u0440 \\u043c\\u043d\\u043e\\u0436\\u0435\\u0441\\u0442\\u0432\\u0435\\u043d\\u043d\\u0430\\u044f \\u043c\\u0438\\u043e\\u043c\\u0430 \\u043c\\u0430\\u0442\",\"\\u0431\\u0435\\u0441\\u043f\\u043b\\u043e\\u0434\\u0438\\u0435    \\u0445\\u0440\\u043e\\u043d\\u0438\\u0447\\u0435\\u0441\\u043a\\u0438\\u0439 \\u044d\\u043d\\u0434\\u043e\\u043c\\u0435\\u0442\\u0440\\u0438\\u0442        \\u0434\\u0435\\u0444\\u0438\\u0446\\u0438\\u0442\",\"\\u0431\\u0435\\u0441\\u043f\\u043b\\u043e\\u0434\\u0438\\u0435   \\u044d\\u043d\\u0434\\u043e\\u043c\\u0435\\u0442\\u0440\\u0438\\u043e\\u0437 \\u0442\\u0430\\u0437\\u043e\\u0432\\u043e\\u0439 \\u0431\\u0440\\u044e\\u0448\\u0438\\u043d\\u044b        \\u043d\\u0433\\u044d\",\"\\u0431\\u0435\\u0441\\u043f\\u043b\\u043e\\u0434\\u0438\\u0435     \\u0445\\u0440\\u043e\\u043d\\u0438\\u0447\\u0435\\u0441\\u043a\\u0438\\u0439 \\u0441\\u0430\\u043b\\u044c\\u043f\\u0438\\u043d\\u0433\\u043e\\u043e\\u0444\\u043e\\u0440\\u0438\\u0442         \",\"\\u0431\\u0435\\u0441\\u043f\\u043b\\u043e\\u0434\\u0438\\u0435    \\u043d\\u0435\\u044f\\u0441\\u043d\\u043e\\u0433\\u043e \\u0433\\u0435\\u043d\\u0435\\u0437\\u0430        \\u0434\\u043e\\u0431\\u0440\\u043e\\u043a\\u0430\\u0447\\u0435\\u0441\\u0442\\u0432\\u0435\\u043d\",\"\\u0431\\u0435\\u0441\\u043f\\u043b\\u043e\\u0434\\u0438\\u0435     \\u0441\\u043e\\u0447\\u0435\\u0442\\u0430\\u043d\\u043d\\u043e\\u0435  \\u043e\\u0431\\u0443\\u0441\\u043b\\u043e\\u0432\\u043b\\u0435\\u043d\\u043d\\u043e\\u0435 \\u044d\\u043d\\u0434\\u043e\\u043c\\u0435\\u0442\\u0440\\u0438\\u043e\",\"\\u0431\\u0435\\u0441\\u043f\\u043b\\u043e\\u0434\\u0438\\u0435    \\u0430\\u0431\\u0441\\u043e\\u043b\\u044e\\u0442\\u043d\\u044b\\u0439 \\u0442\\u0440\\u0443\\u0431\\u043d\\u044b\\u0439 \\u0444\\u0430\\u043a\\u0442\\u043e\\u0440 \\u0432\\u044b\\u0440\\u0430\\u0436\\u0435\\u043d\\u043d\\u043e\\u0435 \",\"\\u0431\\u0435\\u0441\\u043f\\u043b\\u043e\\u0434\\u0438\\u0435    \\u043e\\u0431\\u0443\\u0441\\u043b\\u043e\\u0432\\u043b\\u0435\\u043d\\u043d\\u043e\\u0435 \\u044d\\u043d\\u0434\\u043e\\u043c\\u0435\\u0442\\u0440\\u0438\\u043e\\u0437\\u043e\\u043c  \\u0434\\u0432\\u0443\\u0441\\u0442\\u043e\\u0440\\u043e\",\"\\u0431\\u0435\\u0441\\u043f\\u043b\\u043e\\u0434\\u0438\\u0435    \\u043e\\u0442\\u0441\\u0443\\u0442\\u0441\\u0442\\u0432\\u0438\\u0435 \\u043f\\u043e\\u043b\\u043e\\u0432\\u043e\\u0433\\u043e \\u043f\\u0430\\u0440\\u0442\\u043d\\u0435\\u0440\\u0430  \\u0441\\u0442\\u0430\\u0440\\u0448\\u0438\\u0439\",\"\\u0431\\u0435\\u0441\\u043f\\u043b\\u043e\\u0434\\u0438\\u0435   \\u043f\\u043e\\u043b\\u0438\\u043f  \\u044d\\u043d\\u0434\\u043e\\u043c\\u0435\\u0442\\u0440\\u0438\\u044f  \\u0433 \\u0441 \\u0432 \\u0434\\u0435\\u043a          \",\"\\u0431\\u0435\\u0441\\u043f\\u043b\\u043e\\u0434\\u0438\\u0435    \\u0441\\u043e\\u0447\\u0435\\u0442\\u0430\\u043d\\u043d\\u043e\\u0435   \\u0442\\u0440\\u0443\\u0431\\u043d\\u043e\\u0435         \\u043c\\u0443\\u0436\\u0441\\u043a\\u043e\\u0439 \",\"\\u0431\\u0435\\u0441\\u043f\\u043b\\u043e\\u0434\\u0438\\u0435    \\u0430\\u0441\\u0442\\u0435\\u043d\\u043e\\u0437\\u043e\\u043e\\u0441\\u043f\\u0435\\u0440\\u043c\\u0438\\u044f \\u0443 \\u043c\\u0443\\u0436\\u0430  \\u0431\\u0440\\u043e\\u043d\\u0445\\u0438\\u0430\\u043b\\u044c\\u043d\\u0430\\u044f\",\"\\u0431\\u0435\\u0441\\u043f\\u043b\\u043e\\u0434\\u0438\\u0435           \\u0436\\u0435\\u043d\\u0441\\u043a\\u043e\\u0435 \\u0431\\u0435\\u0441\\u043f\\u043b\\u043e\\u0434\\u0438\\u0435 \\u043d\\u0435\\u0443\\u0442\\u043e\\u0447\\u043d\\u0435\\u043d\\u043d\\u043e\\u0435\",\"\\u0431\\u0435\\u0441\\u043f\\u043b\\u043e\\u0434\\u0438\\u0435           \\u044d\\u043d\\u0434\\u043e\\u043c\\u0435\\u0442\\u0440\\u0438\\u043e\\u0437 \\u044f\\u0438\\u0447\\u043d\\u0438\\u043a\\u043e\\u0432          \",\"\\u0431\\u0435\\u0441\\u043f\\u043b\\u043e\\u0434\\u0438\\u0435           \\u0430\\u0434\\u0435\\u043d\\u043e\\u043c\\u0438\\u043e\\u0437        \\u043d\\u0433\\u044d   \\u0441\\u0442     \",\"\\u0431\\u0435\\u0441\\u043f\\u043b\\u043e\\u0434\\u0438\\u0435     \\u043c\\u0443\\u0436\\u0441\\u043a\\u043e\\u0439 \\u0444\\u0430\\u043a\\u0442\\u043e\\u0440       \",\"\\u0431\\u0435\\u0441\\u043f\\u043b\\u043e\\u0434\\u0438\\u0435    \\u0441\\u043e\\u0447\\u0435\\u0442\\u0430\\u043d\\u043d\\u043e\\u0435        \\u0436\\u0435\\u043d\\u0441\\u043a\\u043e\\u0435 \\u0431\\u0435\\u0441\\u043f\\u043b\\u043e\\u0434\\u0438\\u0435  \",\"\\u0431\\u0435\\u0441\\u043f\\u043b\\u043e\\u0434\\u0438\\u0435    \\u043c\\u0443\\u0436\\u0441\\u043a\\u043e\\u0439 \\u0444\\u0430\\u043a\\u0442\\u043e\\u0440        \\u0444\\u0430\\u043c \",\"\\u0431\\u0435\\u0441\\u043f\\u043b\\u043e\\u0434\\u0438\\u0435    \\u043d\\u0433\\u044d   \\u0441\\u0442  \\u043a\\u043e\\u043c\\u0431 \\u043b\\u0435\\u0447\\u0435\\u043d\\u0438\\u0435    \\u0446\\u0438\\u043a\\u043b\\u0430 \\u0430\\u0433\\u043d\\u0440\\u0433\",\"\\u0431\\u0435\\u0441\\u043f\\u043b\\u043e\\u0434\\u0438\\u0435           \\u0436\\u0435\\u043d\\u0441\\u043a\\u043e\\u0435 \\u0431\\u0435\\u0441\\u043f\\u043b\\u043e\\u0434\\u0438\\u0435  \\u043e\\u0431\\u0443\\u0441\\u043b\\u043e\\u0432\\u043b\\u0435\\u043d\\u043d\",\"\\u0431\\u0435\\u0441\\u043f\\u043b\\u043e\\u0434\\u0438\\u0435   \\u0441\\u043f\\u044f        \\u0430\\u043d\\u043e\\u0432\\u0443\\u043b\\u044f\\u0446\\u0438\\u044f       \",\"\\u0431\\u0435\\u0441\\u043f\\u043b\\u043e\\u0434\\u0438\\u0435   \\u0441\\u043e\\u0447\\u0435\\u0442\\u0430\\u043d\\u043d\\u043e\\u0435  \\u0430\\u0431\\u0441\\u043e\\u043b\\u044e\\u0442\\u043d\\u043e\\u0435 \\u0442\\u0440\\u0443\\u0431\\u043d\\u043e\\u0435   \\u043c\\u0443\\u0436\\u0441\\u043a\",\"\\u0431\\u0435\\u0441\\u043f\\u043b\\u043e\\u0434\\u0438\\u0435          \\u0436\\u0435\\u043d\\u0441\\u043a\\u043e\\u0435 \\u0431\\u0435\\u0441\\u043f\\u043b\\u043e\\u0434\\u0438\\u0435 \\u043d\\u0435\\u0443\\u0442\\u043e\\u0447\\u043d\\u0435\\u043d\\u043d\\u043e\\u0435 \",\"\\u0431\\u0435\\u0441\\u043f\\u043b\\u043e\\u0434\\u0438\\u0435   \\u0442\\u0440\\u0443\\u0431\\u043d\\u043e\\u0435  \\u043e\\u0431\\u0443\\u0441\\u043b\\u043e\\u0432\\u043b\\u0435\\u043d\\u043d\\u043e\\u0435 \\u044d\\u043d\\u0434\\u043e\\u043c\\u0435\\u0442\\u0440\\u0438\\u043e\\u0437\\u043e\\u043c  \",\"\\u0431\\u0435\\u0441\\u043f\\u043b\\u043e\\u0434\\u0438\\u0435     \\u0441\\u043e\\u0447\\u0435\\u0442\\u0430\\u043d\\u043d\\u043e\\u0435  \\u0442\\u0440\\u0443\\u0431\\u043d\\u043e \\u043f\\u0435\\u0440\\u0438\\u0442\\u043e\\u043d\\u0435\\u0430\\u043b\\u044c\\u043d\\u043e\\u0435  \\u043e\",\"\\u0431\\u0435\\u0441\\u043f\\u043b\\u043e\\u0434\\u0438\\u0435   \\u043c\\u0438\\u043e\\u043c\\u0430 \\u043c\\u0430\\u0442\\u043a\\u0438      \\u0434\\u0438\\u0444\\u0444\\u0443\\u0437\\u043d\\u0430\\u044f \\u043a\\u0438\\u0441\\u0442\\u043e\\u0437\\u043d\\u0430\\u044f \\u043c\",\"\\u0431\\u0435\\u0441\\u043f\\u043b\\u043e\\u0434\\u0438\\u0435    \\u0430\\u0431\\u0441\\u043e\\u043b\\u044e\\u0442\\u043d\\u043e\\u0435 \\u0442\\u0440\\u0443\\u0431\\u043d\\u043e\\u0435   \\u043c\\u0438\\u043e\\u043c\\u0430 \\u043c\\u0430\\u0442\\u043a\\u0438  \\u0441\\u043d\\u0438\",\"\\u0431\\u0435\\u0441\\u043f\\u043b\\u043e\\u0434\\u0438\\u0435          \\u0436\\u0435\\u043d\\u0441\\u043a\\u043e\\u0435 \\u0431\\u0435\\u0441\\u043f\\u043b\\u043e\\u0434\\u0438\\u0435  \\u0441\\u0432\\u044f\\u0437\\u0430\\u043d\\u043d\\u043e\\u0435 \\u0441 \",\"\\u0431\\u0435\\u0441\\u043f\\u043b\\u043e\\u0434\\u0438\\u0435   \\u044d\\u043d\\u0434\\u043e\\u043c\\u0435\\u0442\\u0440\\u0438\\u043e\\u0437 \\u0442\\u0430\\u0437\\u043e\\u0432\\u043e\\u0439 \\u0431\\u0440\\u044e\\u0448\\u0438\\u043d\\u044b  \\u043a\\u043e\\u043c\\u0431\\u0438\\u043d\\u0438\\u0440\\u043e\",\"\\u0431\\u0435\\u0441\\u043f\\u043b\\u043e\\u0434\\u0438\\u0435   \\u0442\\u0440\\u0443\\u0431\\u043d\\u043e\\u0435  \\u0430\\u043d\\u043e\\u0432\\u0443\\u043b\\u044f\\u0442\\u043e\\u0440\\u043d\\u043e\\u0435  \\u0441\\u043f\\u044f  \\u0430\\u043d\\u043e\\u0432\\u0443\\u043b\\u044f\\u0446\\u0438\",\"\\u0431\\u0435\\u0441\\u043f\\u043b\\u043e\\u0434\\u0438\\u0435     \\u0441\\u043e\\u0447\\u0435\\u0442\\u0430\\u043d\\u043d\\u043e\\u0435  \\u0442\\u0440\\u0443\\u0431\\u043d\\u043e \\u043f\\u0435\\u0440\\u0438\\u0442\\u043e\\u043d\\u0435\\u0430\\u043b\\u044c\\u043d\\u043e\\u0435  \\u043e\",\"\\u0431\\u0435\\u0441\\u043f\\u043b\\u043e\\u0434\\u0438\\u0435   \\u0445\\u0440\\u043e\\u043d\\u0438\\u0447\\u0435\\u0441\\u043a\\u0438\\u0439 \\u044d\\u043d\\u0434\\u043e\\u043c\\u0435\\u0442\\u0440\\u0438\\u0442        \\u0441\\u043d\\u0438\\u0436\\u0435\\u043d\\u0438\\u0435\",\"\\u0431\\u0435\\u0441\\u043f\\u043b\\u043e\\u0434\\u0438\\u0435    \\u0430\\u0441\\u043e\\u043b\\u044e\\u0442\\u043d\\u043e\\u0435 \\u0442\\u0440\\u0443\\u0431\\u043d\\u043e\\u0435  \\u0445\\u0440\\u043e\\u043d\\u0438\\u0447\\u0435\\u0441\\u043a\\u0438\\u0439 \\u0441\\u0430\\u043b\\u044c\\u043f\\u0438\",\"\\u0431\\u0435\\u0441\\u043f\\u043b\\u043e\\u0434\\u0438\\u0435     \\u043f\\u043e\\u0437\\u0434\\u043d\\u0438\\u0439 \\u0440\\u0435\\u043f\\u0440\\u043e\\u0434\\u0443\\u043a\\u0442\\u0438\\u0432\\u043d\\u044b\\u0439 \\u0432\\u043e\\u0437\\u0440\\u0430\\u0441\\u0442  \\u0445\\u0440 \\u044d\",\"\\u0431\\u0435\\u0441\\u043f\\u043b\\u043e\\u0434\\u0438\\u0435   \\u0441\\u043d\\u0438\\u0436\\u0435\\u043d\\u0438\\u0435 \\u043e\\u0432\\u0430\\u0440\\u0438\\u0430\\u043b\\u044c\\u043d\\u043e\\u0433\\u043e \\u0440\\u0435\\u0437\\u0435\\u0440\\u0432\\u0430  \\u043c\\u0443\\u0436\\u0441\\u043a\\u043e\\u0439\",\"\\u0431\\u0435\\u0441\\u043f\\u043b\\u043e\\u0434\\u0438\\u0435          \\u0434\\u0440\\u0443\\u0433\\u0438\\u0435 \\u0444\\u043e\\u0440\\u043c\\u044b \\u0436\\u0435\\u043d\\u0441\\u043a\\u043e\\u0433\\u043e \\u0431\\u0435\\u0441\\u043f\\u043b\\u043e\\u0434\\u0438\\u044f\",\"\\u0431\\u0435\\u0441\\u043f\\u043b\\u043e\\u0434\\u0438\\u0435     \\u0445\\u0440\\u043e\\u043d\\u0438\\u0447\\u0435\\u0441\\u043a\\u0438\\u0439 \\u0441\\u0430\\u043b\\u044c\\u043f\\u0438\\u043d\\u0433\\u043e\\u043e\\u0444\\u043e\\u0440\\u0438\\u0442        \\u0445\",\"\\u0431\\u0435\\u0441\\u043f\\u043b\\u043e\\u0434\\u0438\\u0435     \\u0445\\u0440\\u043e\\u043d\\u0438\\u0447\\u0435\\u0441\\u043a\\u0438\\u0439 \\u0441\\u0430\\u043b\\u044c\\u043f\\u0438\\u043d\\u0433\\u043e\\u043e\\u0444\\u043e\\u0440\\u0438\\u0442  \\u0434\\u0432\\u0443\\u0441\\u0442\\u043e\\u0440\",\"\\u0431\\u0435\\u0441\\u043f\\u043b\\u043e\\u0434\\u0438\\u0435          \\u0436\\u0435\\u043d\\u0441\\u043a\\u043e\\u0435 \\u0431\\u0435\\u0441\\u043f\\u043b\\u043e\\u0434\\u0438\\u0435 \\u0442\\u0440\\u0443\\u0431\\u043d\\u043e \\u043f\\u0435\\u0440\\u0438\\u0442\\u043e\",\"\\u0431\\u0435\\u0441\\u043f\\u043b\\u043e\\u0434\\u0438\\u0435           \\u0436\\u0435\\u043d\\u0441\\u043a\\u043e\\u0435 \\u0431\\u0435\\u0441\\u043f\\u043b\\u043e\\u0434\\u0438\\u0435  \\u043e\\u0431\\u0443\\u0441\\u043b\\u043e\\u0432\\u043b\\u0435\\u043d\\u043d\",\"\\u0431\\u0435\\u0441\\u043f\\u043b\\u043e\\u0434\\u0438\\u0435    \\u0442\\u0440\\u0443\\u0431\\u043d\\u043e \\u043f\\u0435\\u0440\\u0438\\u0442\\u043e\\u043d\\u0435\\u0430\\u043b\\u044c\\u043d\\u044b\\u0439 \\u0444\\u0430\\u043a\\u0442\\u043e\\u0440 \\u043e\\u0442\\u0440\\u0438\\u0446\\u0430\\u0442\\u0435\",\"\\u0431\\u0435\\u0441\\u043f\\u043b\\u043e\\u0434\\u0438\\u0435   \\u0445\\u0440\\u043e\\u043d\\u0438\\u0447\\u0435\\u0441\\u043a\\u0438\\u0439 \\u044d\\u043d\\u0434\\u043e\\u043c\\u0435\\u0442\\u0440\\u0438\\u0442        \\u043c\\u0438\\u043e\\u043c\\u0430 \\u043c\\u0430\",\"\\u0431\\u0435\\u0441\\u043f\\u043b\\u043e\\u0434\\u0438\\u0435           \\u0436\\u0435\\u043d\\u0441\\u043a\\u043e\\u0435 \\u0431\\u0435\\u0441\\u043f\\u043b\\u043e\\u0434\\u0438\\u0435  \\u043e\\u0431\\u0443\\u0441\\u043b\\u043e\\u0432\\u043b\\u0435\\u043d\\u043d\",\"\\u0431\\u0435\\u0441\\u043f\\u043b\\u043e\\u0434\\u0438\\u0435     \\u0445\\u0440\\u043e\\u043d\\u0438\\u0447\\u0435\\u0441\\u043a\\u0438\\u0439 \\u0441\\u0430\\u043b\\u044c\\u043f\\u0438\\u043d\\u0433\\u043e\\u043e\\u0444\\u043e\\u0440\\u0438\\u0442       \",\"\\u0431\\u0435\\u0441\\u043f\\u043b\\u043e\\u0434\\u0438\\u0435     \\u043d\\u0433\\u044d  \\u0440\\u0435\\u0446\\u0438\\u0434\\u0438\\u0432  \\u0445\\u0440\\u043e\\u043d\\u0438\\u0447\\u0435\\u0441\\u043a\\u0438\\u0439 \\u044d\\u043d\\u0434\\u043e\\u043c\\u0435\\u0442\\u0440\\u0438\\u0442\",\"\\u0431\\u0435\\u0441\\u043f\\u043b\\u043e\\u0434\\u0438\\u0435   \\u0445\\u0440\\u043e\\u043d\\u0438\\u0447\\u0435\\u0441\\u043a\\u0438\\u0439 \\u044d\\u043d\\u0434\\u043e\\u043c\\u0435\\u0442\\u0440\\u0438\\u0442        \\u043c\\u0438\\u043e\\u043c\\u0430 \\u043c\\u0430\",\"\\u0431\\u0435\\u0441\\u043f\\u043b\\u043e\\u0434\\u0438\\u0435     \\u0445\\u0440\\u043e\\u043d\\u0438\\u0447\\u0435\\u0441\\u043a\\u0438\\u0439 \\u0441\\u0430\\u043b\\u044c\\u043f\\u0438\\u043d\\u0433\\u043e\\u043e\\u0444\\u043e\\u0440\\u0438\\u0442         \",\"\\u0431\\u0435\\u0441\\u043f\\u043b\\u043e\\u0434\\u0438\\u0435     \\u0445\\u0440\\u043e\\u043d\\u0438\\u0447\\u0435\\u0441\\u043a\\u0438\\u0439 \\u0441\\u0430\\u043b\\u044c\\u043f\\u0438\\u043d\\u0433\\u043e\\u043e\\u0444\\u043e\\u0440\\u0438\\u0442        \\u0440\",\"\\u0431\\u0435\\u0441\\u043f\\u043b\\u043e\\u0434\\u0438\\u0435     \\u0442\\u0440\\u0443\\u0431\\u043d\\u043e \\u043f\\u0435\\u0440\\u0438\\u0442\\u043e\\u043d\\u0435\\u0430\\u043b\\u044c\\u043d\\u044b\\u0439 \\u0444\\u0430\\u043a\\u0442\\u043e\\u0440  \\u044d\\u043d\\u0434\\u043e\\u043c\\u0435\",\"\\u0431\\u0435\\u0441\\u043f\\u043b\\u043e\\u0434\\u0438\\u0435    \\u0442\\u0440\\u0443\\u0431\\u043d\\u043e \\u043f\\u0435\\u0440\\u0438\\u0442\\u043e\\u043d\\u0435\\u0430\\u043b\\u044c\\u043d\\u044b\\u0439 \\u0444\\u0430\\u043a\\u0442\\u043e\\u0440 \\u043c\\u0443\\u0436\\u0441\\u043a\\u043e\\u0439 \",\"\\u0431\\u0435\\u0441\\u043f\\u043b\\u043e\\u0434\\u0438\\u0435     \\u0445\\u0440\\u043e\\u043d\\u0438\\u0447\\u0435\\u0441\\u043a\\u0438\\u0439 \\u0441\\u0430\\u043b\\u044c\\u043f\\u0438\\u043d\\u0433\\u043e\\u043e\\u0444\\u043e\\u0440\\u0438\\u0442        \\u043f\",\"\\u0431\\u0435\\u0441\\u043f\\u043b\\u043e\\u0434\\u0438\\u0435     \\u0445\\u0440\\u043e\\u043d\\u0438\\u0447\\u0435\\u0441\\u043a\\u0438\\u0439 \\u0441\\u0430\\u043b\\u044c\\u043f\\u0438\\u043d\\u0433\\u043e\\u043e\\u0444\\u043e\\u0440\\u0438\\u0442        \\u0440\",\"\\u0431\\u0435\\u0441\\u043f\\u043b\\u043e\\u0434\\u0438\\u0435    \\u043d\\u0433\\u044d   \\u0441\\u0442  \\u043a\\u043e\\u043c\\u0431\\u0438\\u043d\\u0438\\u0440\\u043e\\u0432\\u0430\\u043d\\u043d\\u043e\\u0435 \\u043b\\u0435\\u0447\\u0435\\u043d\\u0438\\u0435 \\u0432  \",\"\\u0431\\u0435\\u0441\\u043f\\u043b\\u043e\\u0434\\u0438\\u0435     \\u0441\\u043f\\u044f        \\u0430\\u043d\\u043e\\u0432\\u0443\\u043b\\u044f\\u0446\\u0438\\u044f        \\u0438\\u0437\\u0431\\u044b\\u0442\\u043e\\u043a\",\"\\u0431\\u0435\\u0441\\u043f\\u043b\\u043e\\u0434\\u0438\\u0435    \\u0441\\u0432\\u044f\\u0437\\u0430\\u043d\\u043d\\u043e\\u0435 \\u0441 \\u043c\\u0443\\u0436\\u0441\\u043a\\u0438\\u043c\\u0438 \\u0444\\u0430\\u043a\\u0442\\u043e\\u0440\\u0430\\u043c\\u0438       \",\"\\u0431\\u0435\\u0441\\u043f\\u043b\\u043e\\u0434\\u0438\\u0435           \\u0436\\u0435\\u043d\\u0441\\u043a\\u043e\\u0435 \\u0431\\u0435\\u0441\\u043f\\u043b\\u043e\\u0434\\u0438\\u0435  \\u0442\\u0440\\u0443\\u0431\\u043d\\u043e \\u043f\\u0435\\u0440\\u0438\",\"\\u0431\\u0435\\u0441\\u043f\\u043b\\u043e\\u0434\\u0438\\u0435     \\u0445\\u0440\\u043e\\u043d\\u0438\\u0447\\u0435\\u0441\\u043a\\u0438\\u0439 \\u0441\\u0430\\u043b\\u044c\\u043f\\u0438\\u043d\\u0433\\u043e\\u043e\\u0444\\u043e\\u0440\\u0438\\u0442        \\u043f\",\"\\u0431\\u0435\\u0441\\u043f\\u043b\\u043e\\u0434\\u0438\\u0435   \\u043c\\u0443\\u0436\\u0441\\u043a\\u043e\\u0439 \\u0444\\u0430\\u043a\\u0442\\u043e\\u0440        \\u0445\\u0440 \\u044d\\u043d\\u0434\\u043e\\u043c\\u0435\\u0442\\u0440\\u0438\\u0442  \\u043f\",\"\\u0431\\u0435\\u0441\\u043f\\u043b\\u043e\\u0434\\u0438\\u0435    \\u043d\\u0435\\u0443\\u0442\\u043e\\u0447\\u043d\\u0435\\u043d\\u043d\\u043e\\u0435  \\u0440\\u0435\\u0437\\u0443\\u0441 \\u043e\\u0442\\u0440\\u0438\\u0446\\u0430\\u0442\\u0435\\u043b\\u044c\\u043d\\u0430\\u044f \\u043a\\u0440\\u043e\",\"\\u0431\\u0435\\u0441\\u043f\\u043b\\u043e\\u0434\\u0438\\u0435   \\u043c\\u0443\\u0436\\u0441\\u043a\\u043e\\u0439 \\u0444\\u0430\\u043a\\u0442\\u043e\\u0440      \",\"\\u0431\\u0435\\u0441\\u043f\\u043b\\u043e\\u0434\\u0438\\u0435     \\u043d\\u0433\\u044d  \\u0441\\u0442  \\u0445\\u0440\\u043e\\u043d\\u0438\\u0447\\u0435\\u0441\\u043a\\u0438\\u0439 \\u044d\\u043d\\u0434\\u043e\\u043c\\u0435\\u0442\\u0440\\u0438\\u0442     \",\"\\u0431\\u0435\\u0441\\u043f\\u043b\\u043e\\u0434\\u0438\\u0435   \\u0445\\u0440\\u043e\\u043d\\u0438\\u0447\\u0435\\u0441\\u043a\\u0438\\u0439 \\u044d\\u043d\\u0434\\u043e\\u043c\\u0435\\u0442\\u0440\\u0438\\u0442         \\u043d\\u0433\\u044d  \\u043a\\u0438\",\"\\u0431\\u0435\\u0441\\u043f\\u043b\\u043e\\u0434\\u0438\\u0435   \\u0441\\u043f\\u0430\\u0435\\u0447\\u043d\\u044b\\u0439 \\u043f\\u0440\\u043e\\u0446\\u0435\\u0441\\u0441 \\u0432 \\u043c\\u0430\\u043b\\u043e\\u043c \\u0442\\u0430\\u0437\\u0443       \",\"\\u0431\\u0435\\u0441\\u043f\\u043b\\u043e\\u0434\\u0438\\u0435   \\u0445\\u0440\\u043e\\u043d\\u0438\\u0447\\u0435\\u0441\\u043a\\u0438\\u0439 \\u0441\\u0430\\u043b\\u044c\\u043f\\u0438\\u043d\\u0433\\u043e\\u043e\\u0444\\u043e\\u0440\\u0438\\u0442        \\u043d\\u0433\\u044d\",\"\\u0431\\u0435\\u0441\\u043f\\u043b\\u043e\\u0434\\u0438\\u0435     \\u043f\\u0435\\u0440\\u0435\\u0436\\u0434\\u0435\\u0432\\u0440\\u0435\\u043c\\u0435\\u043d\\u043d\\u043e\\u0435 \\u0438\\u0441\\u0442\\u043e\\u0449\\u0435\\u043d\\u0438\\u0435 \\u044f\\u0438\\u0447\\u043d\\u0438\\u043a\\u043e\\u0432 \",\"\\u0431\\u0435\\u0441\\u043f\\u043b\\u043e\\u0434\\u0438\\u0435     \\u0442\\u0440\\u0443\\u0431\\u043d\\u043e \\u043f\\u0435\\u0440\\u0438\\u0442\\u043e\\u043d\\u0435\\u0430\\u043b\\u044c\\u043d\\u043e\\u0435  \\u0434\\u0432\\u0443\\u0441\\u0442\\u043e\\u0440\\u043e\\u043d\\u043d\\u0438\\u0435 \",\"\\u0431\\u0435\\u0441\\u043f\\u043b\\u043e\\u0434\\u0438\\u0435    \\u0432\\u044b\\u043d\\u0443\\u0436\\u0434\\u0435\\u043d\\u043d\\u043e\\u0435       \\u043e\\u0442\\u0441\\u0443\\u0442\\u0441\\u0442\\u0432\\u0438\\u0435 \\u043f\\u043e\\u043b\\u043e\\u0432\\u043e\\u0433\\u043e\",\"\\u0431\\u0435\\u0441\\u043f\\u043b\\u043e\\u0434\\u0438\\u0435   \\u043f\\u0440\\u0435\\u0436\\u0434\\u0435\\u0432\\u0440\\u0435\\u043c\\u0435\\u043d\\u043d\\u043e\\u0435 \\u0438\\u0441\\u0442\\u043e\\u0449\\u0435\\u043d\\u0438\\u0435 \\u044f\\u0438\\u0447\\u043d\\u0438\\u043a\\u043e\\u0432    \",\"\\u0431\\u0435\\u0441\\u043f\\u043b\\u043e\\u0434\\u0438\\u0435     \\u043c\\u0443\\u0436\\u0441\\u043a\\u043e\\u0439 \\u0444\\u0430\\u043a\\u0442\\u043e\\u0440        \\u043f\\u043e\\u0437\\u0434\\u043d\\u0438\\u0439 \\u0440\\u0435\\u043f\\u0440\\u043e\\u0434\",\"\\u0431\\u0435\\u0441\\u043f\\u043b\\u043e\\u0434\\u0438\\u0435     \\u0442\\u0440\\u0443\\u0431\\u043d\\u043e \\u043f\\u0435\\u0440\\u0438\\u0442\\u043e\\u043d\\u0435\\u0430\\u043b\\u044c\\u043d\\u043e\\u0435  \\u0445\\u0440\\u043e\\u043d\\u0438\\u0447\\u0435\\u0441\\u043a\\u0438\\u0438\\u0439 \",\"\\u0431\\u0435\\u0441\\u043f\\u043b\\u043e\\u0434\\u0438\\u0435           \\u0436\\u0435\\u043d\\u0441\\u043a\\u043e\\u0435 \\u0431\\u0435\\u0441\\u043f\\u043b\\u043e\\u0434\\u0438\\u0435 \\u043d\\u0435\\u0443\\u0442\\u043e\\u0447\\u043d\\u0435\\u043d\\u043d\\u043e\\u0435\",\"\\u0431\\u0435\\u0441\\u043f\\u043b\\u043e\\u0434\\u0438\\u0435    \\u043d\\u0433\\u044d   \\u0441\\u0442 \\u0432 \\u0430\\u043d\\u0430\\u043c\\u043d\\u0435\\u0437\\u0435\",\"\\u0431\\u0435\\u0441\\u043f\\u043b\\u043e\\u0434\\u0438\\u0435    \\u0441\\u043e\\u0447\\u0435\\u0442\\u0430\\u043d\\u043d\\u043e\\u0435        \\u0442\\u0440\\u0443\\u0431\\u043d\\u043e \\u043f\\u0435\\u0440\\u0438\\u0442\\u043e\\u043d\\u0435\\u0430\\u043b\\u044c\\u043d\",\"\\u0431\\u0435\\u0441\\u043f\\u043b\\u043e\\u0434\\u0438\\u0435   \\u0441\\u043e\\u0447\\u0435\\u0442\\u0430\\u043d\\u043d\\u043e\\u0435         \\u0436\\u0435\\u043d\\u0441\\u043a\\u043e\\u0435 \\u0431\\u0435\\u0441\\u043f\\u043b\\u043e\\u0434\\u0438\\u0435  \",\"\\u0431\\u0435\\u0441\\u043f\\u043b\\u043e\\u0434\\u0438\\u0435     \\u043f\\u0440\\u0435\\u0436\\u0434\\u0435\\u0432\\u0440\\u0435\\u043c\\u0435\\u043d\\u043d\\u043e\\u0435 \\u0438\\u0441\\u0442\\u043e\\u0449\\u0435\\u043d\\u0438\\u0435 \\u044f\\u0438\\u0447\\u043d\\u0438\\u043a\\u043e\\u0432  \",\"\\u0431\\u0435\\u0441\\u043f\\u043b\\u043e\\u0434\\u0438\\u0435     \\u0442\\u0440\\u0443\\u0431\\u043d\\u043e \\u043f\\u0435\\u0440\\u0438\\u0442\\u043e\\u043d\\u0435\\u0430\\u043b\\u044c\\u043d\\u043e\\u0435  \\u043e\\u0431\\u0443\\u0441\\u043b\\u043e\\u0432\\u043b\\u0435\\u043d\\u043d\\u043e\\u0435\",\"\\u0431\\u0435\\u0441\\u043f\\u043b\\u043e\\u0434\\u0438\\u0435   \\u0430\\u0431\\u0441\\u043e\\u043b\\u044e\\u0442\\u043d\\u043e\\u0435 \\u0442\\u0440\\u0443\\u0431\\u043d\\u043e\\u0435  \\u0445\\u0440\\u043e\\u043d\\u0438\\u0447\\u0435\\u0441\\u043a\\u0438\\u0439 \\u044d\\u043d\\u0434\\u043e\\u043c\\u0435\",\"\\u0431\\u0435\\u0441\\u043f\\u043b\\u043e\\u0434\\u0438\\u0435          \\u043d\\u0433\\u044d   \\u0441\\u0442         \\u043a\\u043e\\u043c\\u0431\\u0438\\u043d\\u0438\\u0440\\u043e\\u0432\\u0430\\u043d\\u043d\\u0430\",\"\\u0431\\u0435\\u0441\\u043f\\u043b\\u043e\\u0434\\u0438\\u0435     \\u043c\\u0443\\u0436\\u0441\\u043a\\u043e\\u0439 \\u0444\\u0430\\u043a\\u0442\\u043e\\u0440      \",\"\\u0431\\u0435\\u0441\\u043f\\u043b\\u043e\\u0434\\u0438\\u0435    \\u0441\\u043e\\u0447\\u0435\\u0442\\u0430\\u043d\\u043d\\u043e\\u0435  \\u043c\\u0443\\u0436\\u0441\\u043a\\u043e\\u0439 \\u0444\\u0430\\u043a\\u0442\\u043e\\u0440  \\u043c\\u0430\\u0442\\u043e\\u0447\\u043d\\u043e\\u0435 \",\"\\u0431\\u0435\\u0441\\u043f\\u043b\\u043e\\u0434\\u0438\\u0435    \\u043a\\u0438\\u0441\\u0442\\u0430 \\u043b\\u0435\\u0432\\u043e\\u0433\\u043e \\u044f\\u0438\\u0447\\u043d\\u0438\\u043a\\u0430  \\u0440\\u0435\\u0433\\u0440\\u0435\\u0441\\u0441   \\u043f\\u0440\\u0438\\u043e\\u0431\",\"\\u0431\\u0435\\u0441\\u043f\\u043b\\u043e\\u0434\\u0438\\u0435    \\u043d\\u0435\\u044f\\u0441\\u043d\\u043e\\u0433\\u043e \\u0433\\u0435\\u043d\\u0435\\u0437\\u0430  \\u0440\\u0435\\u0437\\u0443\\u0441 \\u043e\\u0442\\u0440\\u0438\\u0446\\u0430\\u0442\\u0435\\u043b\\u044c\\u043d\\u0430\\u044f \",\"\\u0431\\u0435\\u0441\\u043f\\u043b\\u043e\\u0434\\u0438\\u0435    \\u0441\\u043f\\u044f        \\u0430\\u043d\\u043e\\u0432\\u0443\\u043b\\u044f\\u0446\\u0438\\u044f        \\u0432\\u0442\\u043e\\u0440\\u0438\\u0447\\u043d\\u0430\",\"\\u0431\\u0435\\u0441\\u043f\\u043b\\u043e\\u0434\\u0438\\u0435     \\u0445\\u0440\\u043e\\u043d\\u0438\\u0447\\u0435\\u0441\\u043a\\u0438\\u0439 \\u044d\\u043d\\u0434\\u043e\\u043c\\u0435\\u0442\\u0440\\u0438\\u0442        \\u0438\\u0437\\u0431\\u044b\\u0442\\u043e\",\"\\u0431\\u0435\\u0441\\u043f\\u043b\\u043e\\u0434\\u0438\\u0435    \\u0442\\u0440\\u0443\\u0431\\u043d\\u043e\\u0435 \",\"\\u0431\\u0435\\u0441\\u043f\\u043b\\u043e\\u0434\\u0438\\u0435     \\u0445\\u0440\\u043e\\u043d\\u0438\\u0447\\u0435\\u0441\\u043a\\u0438\\u0439 \\u044d\\u043d\\u0434\\u043e\\u043c\\u0435\\u0442\\u0440\\u0438\\u0442        \\u043f\\u0440\\u0438\\u043e\\u0431\\u0440\",\"\\u0431\\u0435\\u0441\\u043f\\u043b\\u043e\\u0434\\u0438\\u0435           \\u0436\\u0435\\u043d\\u0441\\u043a\\u043e\\u0435 \\u0431\\u0435\\u0441\\u043f\\u043b\\u043e\\u0434\\u0438\\u0435 \\u0442\\u0440\\u0443\\u0431\\u043d\\u043e \\u043f\\u0435\\u0440\\u0438\\u0442\",\"\\u0431\\u0435\\u0441\\u043f\\u043b\\u043e\\u0434\\u0438\\u0435     \\u0445\\u0440\\u043e\\u043d\\u0438\\u0447\\u0435\\u0441\\u043a\\u0438\\u0439 \\u044d\\u043d\\u0434\\u043e\\u043c\\u0435\\u0442\\u0440\\u0438\\u0442        \\u0441\\u043f\\u0430\\u0435\\u0447\\u043d\",\"\\u0431\\u0435\\u0441\\u043f\\u043b\\u043e\\u0434\\u0438\\u0435    \\u0441\\u043e\\u0447\\u0435\\u0442\\u0430\\u043d\\u043d\\u043e\\u0435  \\u0442\\u0440\\u0443\\u0431\\u043d\\u043e \\u043f\\u0435\\u0440\\u0438\\u0442\\u043e\\u043d\\u0435\\u0430\\u043b\\u044c\\u043d\\u043e\\u0435  \\u043c\\u0443\",\"\\u0431\\u0435\\u0441\\u043f\\u043b\\u043e\\u0434\\u0438\\u0435    \\u0430\\u0431\\u0441\\u043e\\u043b\\u044e\\u0442\\u043d\\u043e\\u0435 \\u0442\\u0440\\u0443\\u0431\\u043d\\u043e\\u0435 \",\"\\u0431\\u0435\\u0441\\u043f\\u043b\\u043e\\u0434\\u0438\\u0435     \\u0445\\u0440\\u043e\\u043d\\u0438\\u0447\\u0435\\u0441\\u043a\\u0438\\u0439 \\u044d\\u043d\\u0434\\u043e\\u043c\\u0435\\u0442\\u0440\\u0438\\u0442         \\u043e\\u0433\\u0430  \",\"\\u0431\\u0435\\u0441\\u043f\\u043b\\u043e\\u0434\\u0438\\u0435   \\u0445\\u0440\\u043e\\u043d\\u0438\\u0447\\u0435\\u0441\\u043a\\u0438\\u0439 \\u0441\\u0430\\u043b\\u044c\\u043f\\u0438\\u043d\\u0433\\u043e\\u043e\\u0444\\u043e\\u0440\\u0438\\u0442        \\u0445\\u0440\\u043e\",\"\\u0431\\u0435\\u0441\\u043f\\u043b\\u043e\\u0434\\u0438\\u0435     \\u0430\\u0434\\u0435\\u043d\\u043e\\u043c\\u0438\\u043e\\u0437  \\u0445\\u0440\\u043e\\u043d\\u0438\\u0447\\u0435\\u0441\\u043a\\u0438\\u0439 \\u044d\\u043d\\u0434\\u043e\\u043c\\u0435\\u0442\\u0440\\u0438\\u0442   \",\"\\u0431\\u0435\\u0441\\u043f\\u043b\\u043e\\u0434\\u0438\\u0435    \\u0430\\u0431\\u0441\\u043e\\u043b\\u044e\\u0442\\u043d\\u043e\\u0435 \\u0442\\u0440\\u0443\\u0431\\u043d\\u043e\\u0435  \\u0445\\u0440\\u043e\\u043d\\u0438\\u0447\\u0435\\u0441\\u043a\\u0438\\u0439 \\u0441\\u0430\\u043b\\u044c\\u043f\",\"\\u0431\\u0435\\u0441\\u043f\\u043b\\u043e\\u0434\\u0438\\u0435     \\u043f\\u0440\\u0438\\u043e\\u0431\\u0440\\u0435\\u0442\\u0435\\u043d\\u043d\\u043e\\u0435 \\u043e\\u0442\\u0441\\u0443\\u0442\\u0441\\u0442\\u0432\\u0438\\u0435 \\u043e\\u0440\\u0433\\u0430\\u043d\\u0430  \\u0434\\u0432\\u0443\",\"\\u0431\\u0435\\u0441\\u043f\\u043b\\u043e\\u0434\\u0438\\u0435   \\u0441\\u043d\\u0438\\u0436\\u0435\\u043d\\u0438\\u0435 \\u043e\\u0432\\u0430\\u0440\\u0438\\u0430\\u043b\\u044c\\u043d\\u043e\\u0433\\u043e \\u0440\\u0435\\u0437\\u0435\\u0440\\u0432\\u0430  \\u043f\\u043e\\u0437\\u0434\\u043d\\u0438\\u0439\",\"\\u0431\\u0435\\u0441\\u043f\\u043b\\u043e\\u0434\\u0438\\u0435    \\u043a\\u0438\\u0441\\u0442\\u0430 \\u043f\\u0440\\u0430\\u0432\\u043e\\u0433\\u043e \\u044f\\u0438\\u0447\\u043d\\u0438\\u043a\\u0430  \\u044d\\u043d\\u0434\\u043e\\u043c\\u0435\\u0442\\u0440\\u0438\\u043e\\u0438\\u0434\\u043d\\u0430\",\"\\u0431\\u0435\\u0441\\u043f\\u043b\\u043e\\u0434\\u0438\\u0435   \\u0433\\u0438\\u043f\\u0435\\u0440\\u043f\\u0440\\u043e\\u043b\\u0430\\u043a\\u0442\\u0438\\u043d\\u0435\\u043c\\u0438\\u044f        \\u0430\\u0438\\u0442        \\u0438\",\"\\u0431\\u0435\\u0441\\u043f\\u043b\\u043e\\u0434\\u0438\\u0435   \\u0445\\u0440\\u043e\\u043d\\u0438\\u0447\\u0435\\u0441\\u043a\\u0438\\u0439 \\u044d\\u043d\\u0434\\u043e\\u043c\\u0435\\u0442\\u0440\\u0438\\u0442        \\u043c\\u0443\\u0436\\u0441\\u043a\\u043e\\u0439 \",\"\\u0431\\u0435\\u0441\\u043f\\u043b\\u043e\\u0434\\u0438\\u0435           \\u0434\\u0440\\u0443\\u0433\\u0438\\u0435 \\u0444\\u043e\\u0440\\u043c\\u044b \\u0436\\u0435\\u043d\\u0441\\u043a\\u043e\\u0433\\u043e \\u0431\\u0435\\u0441\\u043f\\u043b\\u043e\\u0434\\u0438\",\"\\u0431\\u0435\\u0441\\u043f\\u043b\\u043e\\u0434\\u0438\\u0435          \\u0436\\u0435\\u043d\\u0441\\u043a\\u043e\\u0435 \\u0431\\u0435\\u0441\\u043f\\u043b\\u043e\\u0434\\u0438\\u0435  \\u043e\\u0431\\u0443\\u0441\\u043b\\u043e\\u0432\\u043b\\u0435\\u043d\\u043d\\u043e\",\"\\u0431\\u0435\\u0441\\u043f\\u043b\\u043e\\u0434\\u0438\\u0435 \\u0432\\u0442\\u043e\\u0440\\u0438\\u0447\\u043d\\u043e\\u0435  \\u043c\\u0443\\u0436\\u0441\\u043a\\u043e\\u0439 \\u0444\\u0430\\u043a\\u0442\\u043e\\u0440  \\u043d\\u043e\\u0441\\u0438\\u0442\\u0435\\u043b\\u044c \\u0432\\u0438\\u0447 \",\"\\u0431\\u0435\\u0441\\u043f\\u043b\\u043e\\u0434\\u0438\\u0435          \\u0436\\u0435\\u043d\\u0441\\u043a\\u043e\\u0435 \\u0431\\u0435\\u0441\\u043f\\u043b\\u043e\\u0434\\u0438\\u0435  \\u043e\\u0431\\u0443\\u0441\\u043b\\u043e\\u0432\\u043b\\u0435\\u043d\\u043d\\u043e\",\"\\u0431\\u0435\\u0441\\u043f\\u043b\\u043e\\u0434\\u0438\\u0435           \\u0436\\u0435\\u043d\\u0441\\u043a\\u043e\\u0435 \\u0431\\u0435\\u0441\\u043f\\u043b\\u043e\\u0434\\u0438\\u0435 \\u0442\\u0440\\u0443\\u0431\\u043d\\u043e \\u043f\\u0435\\u0440\\u0438\\u0442\",\"\\u0431\\u0435\\u0441\\u043f\\u043b\\u043e\\u0434\\u0438\\u0435    \\u0430\\u0431\\u0441\\u043e\\u043b\\u044e\\u0442\\u043d\\u043e\\u0435 \\u0442\\u0440\\u0443\\u0431\\u043d\\u043e\\u0435 \\u0445\\u0440\\u043e\\u043d\\u0438\\u0447\\u0435\\u0441\\u043a\\u0438\\u0439 \\u0441\\u0430\\u043b\\u044c\\u043f\\u0438\",\"\\u0431\\u0435\\u0441\\u043f\\u043b\\u043e\\u0434\\u0438\\u0435     \\u043c\\u0438\\u043e\\u043c\\u0430 \\u043c\\u0430\\u0442\\u043a\\u0438 \\u0441\\u0443\\u0431\\u0441\\u0435\\u0440\\u043e\\u0437\\u043d\\u0430\\u044f \\u0444\\u043e\\u0440\\u043c\\u0430      \\u043f\",\"\\u0431\\u0435\\u0441\\u043f\\u043b\\u043e\\u0434\\u0438\\u0435    \\u0442\\u0440\\u0443\\u0431\\u043d\\u043e\\u0435 \\u0438 \\u043e\\u0431\\u0443\\u0441\\u043b\\u043e\\u0432\\u043b\\u0435\\u043d\\u043d\\u043e\\u0435 \\u044d\\u043d\\u0434\\u043e\\u043c\\u0435\\u0442\\u0440\\u0438\\u043e\\u0437\\u043e\\u043c\",\"\\u0431\\u0435\\u0441\\u043f\\u043b\\u043e\\u0434\\u0438\\u0435     \\u0445\\u0440\\u043e\\u043d\\u0438\\u0447\\u0435\\u0441\\u043a\\u0438\\u0439 \\u0441\\u0430\\u043b\\u044c\\u043f\\u0438\\u043d\\u0433\\u043e\\u043e\\u0444\\u043e\\u0440\\u0438\\u0442        \\u0445\",\"\\u0431\\u0435\\u0441\\u043f\\u043b\\u043e\\u0434\\u0438\\u0435     \\u043d\\u0435\\u0443\\u0442\\u043e\\u0447\\u043d\\u0435\\u043d\\u043d\\u043e\\u0435  \\u0438\\u0437\\u0431\\u044b\\u0442\\u043e\\u0447\\u043d\\u0430\\u044f \\u043c\\u0430\\u0441\\u0441\\u0430 \\u0442\\u0435\\u043b\\u0430\",\"\\u0431\\u0435\\u0441\\u043f\\u043b\\u043e\\u0434\\u0438\\u0435   \\u043d\\u0435\\u044f\\u0441\\u043d\\u043e\\u0433\\u043e \\u0433\\u0435\\u043d\\u0435\\u0437\\u0430 \",\"\\u0431\\u0435\\u0441\\u043f\\u043b\\u043e\\u0434\\u0438\\u0435   \\u0445\\u0440\\u043e\\u043d\\u0438\\u0447\\u0435\\u0441\\u043a\\u0438\\u0439 \\u044d\\u043d\\u0434\\u043e\\u043c\\u0435\\u0442\\u0440\\u0438\\u0442        \\u043d\\u0430\\u0441\\u043b\\u0435\\u0434\\u0441\\u0442\",\"\\u0431\\u0435\\u0441\\u043f\\u043b\\u043e\\u0434\\u0438\\u0435    \\u043d\\u0433\\u044d   \\u0441\\u0442 \\u043c\\u0438\\u043e\\u043c\\u0430 \\u043c\\u0430\\u0442\\u043a\\u0438  \\u043c\\u0443\\u0436\\u0441\\u043a\\u043e\\u0439 \\u0444\\u0430\\u043a\\u0442\\u043e\\u0440\",\"\\u0431\\u0435\\u0441\\u043f\\u043b\\u043e\\u0434\\u0438\\u0435    \\u043c\\u0443\\u0436\\u0441\\u043a\\u043e\\u0439 \\u0444\\u0430\\u043a\\u0442\\u043e\\u0440        \\u043e\\u0436\\u0438\\u0440\\u0435\\u043d\\u0438\\u0435    \\u0430\\u043b\\u0438\",\"\\u043d\\u0435\\u0442\",\"\\u0431\\u0435\\u0441\\u043f\\u043b\\u043e\\u0434\\u0438\\u0435   \\u0445\\u0440\\u043e\\u043d\\u0438\\u0447\\u0435\\u0441\\u043a\\u0438\\u0439 \\u044d\\u043d\\u0434\\u043e\\u043c\\u0435\\u0442\\u0440\\u0438\\u0442       \",\"\\u0431\\u0435\\u0441\\u043f\\u043b\\u043e\\u0434\\u0438\\u0435    \\u0430\\u0431\\u0441\\u043e\\u043b\\u044e\\u0442\\u043d\\u043e\\u0435 \\u0442\\u0440\\u0443\\u0431\\u043d\\u043e\\u0435  \\u0433\\u0438\\u043f\\u0435\\u0440\\u043f\\u0440\\u043e\\u043b\\u0430\\u043a\\u0442\\u0438\\u043d\\u0435\\u043c\\u0438\",\"\\u0431\\u0435\\u0441\\u043f\\u043b\\u043e\\u0434\\u0438\\u0435     \\u043c\\u0443\\u0436\\u0441\\u043a\\u043e\\u0439 \\u0444\\u0430\\u043a\\u0442\\u043e\\u0440 \",\"\\u0431\\u0435\\u0441\\u043f\\u043b\\u043e\\u0434\\u0438\\u0435                 \\u0445\\u0440\\u043e\\u043d\\u0438\\u0447\\u0435\\u0441\\u043a\\u0438\\u0439 \\u0441\\u0430\\u043b\\u044c\\u043f\\u0438\\u043d\\u0433\\u043e\\u043e\\u0444\\u043e\",\"\\u0431\\u0435\\u0441\\u043f\\u043b\\u043e\\u0434\\u0438\\u0435    \\u0430\\u0431\\u0441\\u043e\\u043b\\u044e\\u0442\\u043d\\u044b\\u0439 \\u0442\\u0440\\u0443\\u0431\\u043d\\u044b\\u0439 \\u0444\\u0430\\u043a\\u0442\\u043e\\u0440  \\u0438\\u0437\\u0431\\u044b\\u0442\\u043e\\u0447\\u043d\\u0430\\u044f\",\"\\u0431\\u0435\\u0441\\u043f\\u043b\\u043e\\u0434\\u0438\\u0435   \\u0441\\u043e\\u0447\\u0435\\u0442\\u0430\\u043d\\u043d\\u043e\\u0435   \\u0430\\u0431\\u0441\\u043e\\u043b\\u044e\\u0442\\u043d\\u043e\\u0435 \\u0442\\u0440\\u0443\\u0431\\u043d\\u043e\\u0435  \\u043c\\u0443\\u0436\\u0441\\u043a\",\"\\u0431\\u0435\\u0441\\u043f\\u043b\\u043e\\u0434\\u0438\\u0435    \\u0441\\u043e\\u0447\\u0435\\u0442\\u0430\\u043d\\u043d\\u043e\\u0435  \\u0442\\u0440\\u0443\\u0431\\u043d\\u043e\\u0435 \\u043c\\u0443\\u0436\\u0441\\u043a\\u043e\\u0439 \\u0444\\u0430\\u043a\\u0442\\u043e\\u0440   \",\"\\u0431\\u0435\\u0441\\u043f\\u043b\\u043e\\u0434\\u0438\\u0435   \\u0445\\u0440\\u043e\\u043d\\u0438\\u0447\\u0435\\u0441\\u043a\\u0438\\u0439 \\u0441\\u0430\\u043b\\u044c\\u043f\\u0438\\u043d\\u0433\\u043e\\u043e\\u0444\\u043e\\u0440\\u0438\\u0442        \\u0440\\u0443\\u0431\",\"\\u043d\\u0435\\u0442\",\"\\u0431\\u0435\\u0441\\u043f\\u043b\\u043e\\u0434\\u0438\\u0435     \\u0445\\u0440\\u043e\\u043d\\u0438\\u0447\\u0435\\u0441\\u043a\\u0438\\u0439 \\u0434\\u0432\\u0443\\u0441\\u0442\\u043e\\u0440\\u043e\\u043d\\u043d\\u0438\\u0439 \\u0430\\u0434\\u043d\\u0435\\u043a\\u0441\\u0438\\u0442  \\u043f\",\"\\u0431\\u0435\\u0441\\u043f\\u043b\\u043e\\u0434\\u0438\\u0435    \\u0442\\u0440\\u0443\\u0431\\u043d\\u043e \\u043f\\u0435\\u0440\\u0438\\u0442\\u043e\\u043d\\u0435\\u0430\\u043b\\u044c\\u043d\\u043e\\u0435  \\u0441\\u043e\\u0441\\u0442\\u043e\\u044f\\u043d\\u0438\\u0435 \\u043f\\u043e\\u0441\\u043b\",\"\\u0431\\u0435\\u0441\\u043f\\u043b\\u043e\\u0434\\u0438\\u0435    \\u043d\\u0435\\u0443\\u0442\\u043e\\u0447\\u043d\\u0435\\u043d\\u043d\\u043e\\u0435  \\u0440\\u0443\\u0431\\u0435\\u0446 \\u043d\\u0430 \\u043c\\u0430\\u0442\\u043a\\u0435 \\u043f\\u043e\\u0441\\u043b\\u0435 \\u043c\\u0438\",\"\\u0431\\u0435\\u0441\\u043f\\u043b\\u043e\\u0434\\u0438\\u0435    \\u043d\\u0435\\u044f\\u0441\\u043d\\u043e\\u0433\\u043e \\u0433\\u0435\\u043d\\u0435\\u0437\\u0430  \\u0438\\u0441\\u0442\\u043e\\u0449\\u0435\\u043d\\u0438\\u0435 \\u043e\\u0432\\u0430\\u0440\\u0438\\u0430\\u043b\\u044c\\u043d\\u043e\",\"\\u0431\\u0435\\u0441\\u043f\\u043b\\u043e\\u0434\\u0438\\u0435     \\u0430\\u0431\\u0441\\u043e\\u043b\\u044e\\u0442\\u043d\\u044b\\u0439 \\u0442\\u0440\\u0443\\u0431\\u043d\\u044b\\u0439 \\u0444\\u0430\\u043a\\u0442\\u043e\\u0440      \\u0445\\u0440\\u043e\\u043d\\u0438\",\"\\u0431\\u0435\\u0441\\u043f\\u043b\\u043e\\u0434\\u0438\\u0435     \\u043d\\u0433\\u044d   \\u0441\\u0442 \\u0432\\u044b\\u0440\\u0430\\u0436\\u0435\\u043d\\u043d\\u043e\\u0435 \\u0441\\u043d\\u0438\\u0436\\u0435\\u043d\\u0438\\u0435 \\u043e\\u0432\\u0430\\u0440\\u0438\\u0430\\u043b\",\"\\u0431\\u0435\\u0441\\u043f\\u043b\\u043e\\u0434\\u0438\\u0435     \\u043c\\u0443\\u0436\\u0441\\u043a\\u043e\\u0439 \\u0444\\u0430\\u043a\\u0442\\u043e\\u0440      \",\"\\u0431\\u0435\\u0441\\u043f\\u043b\\u043e\\u0434\\u0438\\u0435     \\u043c\\u0443\\u0436\\u0441\\u043a\\u043e\\u0439 \\u0444\\u0430\\u043a\\u0442\\u043e\\u0440 \",\"\\u0431\\u0435\\u0441\\u043f\\u043b\\u043e\\u0434\\u0438\\u0435     \\u0441\\u043d\\u0438\\u0436\\u0435\\u043d\\u0438\\u0435 \\u043e\\u0432\\u0430\\u0440\\u0438\\u0430\\u043b\\u044c\\u043d\\u043e\\u0433\\u043e \\u0440\\u0435\\u0437\\u0435\\u0440\\u0432\\u0430\\u044e  \\u043f\\u043e\\u0437\\u0434\",\"\\u0431\\u0435\\u0441\\u043f\\u043b\\u043e\\u0434\\u0438\\u0435   \\u0433\\u0438\\u043f\\u0435\\u0440\\u043f\\u0440\\u043e\\u043b\\u0430\\u043a\\u0442\\u0438\\u043d\\u0435\\u043c\\u0438\\u044f        \\u043c\\u0443\\u0436\\u0441\\u043a\\u043e\\u0439 \\u0444\\u0430\\u043a\\u0442\",\"\\u0431\\u0435\\u0441\\u043f\\u043b\\u043e\\u0434\\u0438\\u0435    \\u043d\\u0435\\u044f\\u0441\\u043d\\u043e\\u0433\\u043e \\u0433\\u0435\\u043d\\u0435\\u0437\\u0430 \",\"\\u0431\\u0435\\u0441\\u043f\\u043b\\u043e\\u0434\\u0438\\u0435     \\u0441\\u043f\\u044f        \\u0430\\u043d\\u043e\\u0432\\u0443\\u043b\\u044f\\u0446\\u0438\\u044f         \\u043d\\u0433\\u044d  \\u0433\",\"\\u0431\\u0435\\u0441\\u043f\\u043b\\u043e\\u0434\\u0438\\u0435   \\u0445\\u0440\\u043e\\u043d\\u0438\\u0447\\u0435\\u0441\\u043a\\u0438\\u0439 \\u044d\\u043d\\u0434\\u043e\\u043c\\u0435\\u0442\\u0440\\u0438\\u0442        \\u043c\\u0438\\u043e\\u043c\\u0430 \\u043c\\u0430\",\"\\u0431\\u0435\\u0441\\u043f\\u043b\\u043e\\u0434\\u0438\\u0435     \\u0442\\u0440\\u0443\\u0431\\u043d\\u043e \\u043f\\u0435\\u0440\\u0438\\u0442\\u043e\\u043d\\u0435\\u0430\\u043b\\u044c\\u043d\\u043e\\u0435  \\u043f\\u0440\\u0438\\u043e\\u0431\\u0440\\u0435\\u0442\\u0435\\u043d\\u043d\\u043e\\u0435\",\"\\u0431\\u0435\\u0441\\u043f\\u043b\\u043e\\u0434\\u0438\\u0435          \\u0436\\u0435\\u043d\\u0441\\u043a\\u043e\\u0435 \\u0431\\u0435\\u0441\\u043f\\u043b\\u043e\\u0434\\u0438\\u0435 \\u0442\\u0440\\u0443\\u0431\\u043d\\u043e \\u043f\\u0435\\u0440\\u0438\\u0442\\u043e\",\"\\u0431\\u0435\\u0441\\u043f\\u043b\\u043e\\u0434\\u0438\\u0435    \\u043d\\u0435\\u044f\\u0441\\u043d\\u043e\\u0433\\u043e \\u0433\\u0435\\u043d\\u0435\\u0437\\u0430 \",\"\\u0431\\u0435\\u0441\\u043f\\u043b\\u043e\\u0434\\u0438\\u0435     \\u0445\\u0440\\u043e\\u043d\\u0438\\u0447\\u0435\\u0441\\u043a\\u0438\\u0439 \\u0441\\u0430\\u043b\\u044c\\u043f\\u0438\\u043d\\u0433\\u043e\\u043e\\u0444\\u043e\\u0440\\u0438\\u0442         \",\"\\u0431\\u0435\\u0441\\u043f\\u043b\\u043e\\u0434\\u0438\\u0435   \\u043c\\u0443\\u0436\\u0441\\u043a\\u043e\\u0439 \\u0444\\u0430\\u043a\\u0442\\u043e\\u0440       \\u0434\\u0438\\u0444\\u0444\\u0443\\u0437\\u043d\\u0430\\u044f \\u043a\\u0438\\u0441\\u0442\\u043e\\u0437\\u043d\",\"\\u0431\\u0435\\u0441\\u043f\\u043b\\u043e\\u0434\\u0438\\u0435    \\u0445\\u0440 \\u0441\\u0430\\u043b\\u044c\\u043f\\u0438\\u043d\\u0433\\u043e\\u043e\\u0444\\u043e\\u0440\\u0438\\u0442   \\u043f\\u0440\\u0435\\u0436\\u0434\\u0435\\u0432\\u0440\\u0435\\u043c\\u0435\\u043d\\u043d\\u043e\\u0435 \",\"\\u0431\\u0435\\u0441\\u043f\\u043b\\u043e\\u0434\\u0438\\u0435   \\u0441\\u043e\\u0447\\u0435\\u0442\\u0430\\u043d\\u043d\\u043e\\u0435  \\u043c\\u0443\\u0436\\u0441\\u043a\\u043e\\u0439 \\u0444\\u0430\\u043a\\u0442\\u043e\\u0440        \\u043d\\u0433\\u044d \",\"\\u0431\\u0435\\u0441\\u043f\\u043b\\u043e\\u0434\\u0438\\u0435          \\u0436\\u0435\\u043d\\u0441\\u043a\\u043e\\u0435 \\u0431\\u0435\\u0441\\u043f\\u043b\\u043e\\u0434\\u0438\\u0435  \\u043e\\u0431\\u0443\\u0441\\u043b\\u043e\\u0432\\u043b\\u0435\\u043d\\u043d\\u043e\",\"\\u0431\\u0435\\u0441\\u043f\\u043b\\u043e\\u0434\\u0438\\u0435   \\u0445\\u0440\\u043e\\u043d\\u0438\\u0447\\u0435\\u0441\\u043a\\u0438\\u0439 \\u0441\\u0430\\u043b\\u044c\\u043f\\u0438\\u043d\\u0433\\u043e\\u043e\\u0444\\u043e\\u0440\\u0438\\u0442        \\u0445\\u0440\\u043e\",\"\\u0431\\u0435\\u0441\\u043f\\u043b\\u043e\\u0434\\u0438\\u0435   \\u0445\\u0440\\u043e\\u043d\\u0438\\u0447\\u0435\\u0441\\u043a\\u0438\\u0439 \\u043f\\u0440\\u0430\\u0432\\u043e\\u0441\\u0442\\u043e\\u0440\\u043e\\u043d\\u043d\\u0438\\u0439 \\u0441\\u0430\\u043b\\u044c\\u043f\\u0438\\u043d\\u0433\\u043e\\u043e\\u0444\",\"\\u0431\\u0435\\u0441\\u043f\\u043b\\u043e\\u0434\\u0438\\u0435          \\u0434\\u0440\\u0443\\u0433\\u0438\\u0435 \\u0444\\u043e\\u0440\\u043c\\u044b \\u0436\\u0435\\u043d\\u0441\\u043a\\u043e\\u0433\\u043e \\u0431\\u0435\\u0441\\u043f\\u043b\\u043e\\u0434\\u0438\\u044f\",\"\\u0431\\u0435\\u0441\\u043f\\u043b\\u043e\\u0434\\u0438\\u0435    \\u0445\\u0440\\u043e\\u043d\\u0438\\u0447\\u0435\\u0441\\u043a\\u0438\\u0439 \\u044d\\u043d\\u0434\\u043e\\u043c\\u0435\\u0442\\u0440\\u0438\\u0442  \\u043f\\u043e\\u0437\\u0434\\u043d\\u0438\\u0439 \\u0440\\u0435\\u043f\\u0440\\u043e\",\"\\u0431\\u0435\\u0441\\u043f\\u043b\\u043e\\u0434\\u0438\\u0435     \\u0445\\u0440\\u043e\\u043d\\u0438\\u0447\\u0435\\u0441\\u043a\\u0438\\u0439 \\u0441\\u0430\\u043b\\u044c\\u043f\\u0438\\u043d\\u0433\\u043e\\u043e\\u0444\\u043e\\u0440\\u0438\\u0442        \\u043c\",\"\\u0431\\u0435\\u0441\\u043f\\u043b\\u043e\\u0434\\u0438\\u0435    \\u043d\\u0435\\u044f\\u0441\\u043d\\u043e\\u0433\\u043e \\u0433\\u0435\\u043d\\u0435\\u0437\\u0430  \\u043c\\u0438\\u043e\\u043c\\u0430 \\u043c\\u0430\\u0442\\u043a\\u0438       \\u0440\\u0443\",\"\\u0431\\u0435\\u0441\\u043f\\u043b\\u043e\\u0434\\u0438\\u0435   \\u043c\\u0443\\u0436\\u0441\\u043a\\u043e\\u0439 \\u0444\\u0430\\u043a\\u0442\\u043e\\u0440         \\u0443 \\u043c\\u0443\\u0436\\u0430 \\u0441\\u0438\\u043d\\u0434\\u0440\\u043e\\u043c \",\"\\u0431\\u0435\\u0441\\u043f\\u043b\\u043e\\u0434\\u0438\\u0435    \\u0442\\u0435\\u0440\\u0430\\u0442\\u043e\\u0437\\u043e\\u043e\\u0441\\u043f\\u0435\\u0440\\u043c\\u0438\\u044f \\u0443 \\u043c\\u0443\\u0436\\u0430  \\u0438\\u0437\\u0431\\u044b\\u0442\\u043e\\u0447\\u043d\\u0430\\u044f \\u043c\",\"\\u0431\\u0435\\u0441\\u043f\\u043b\\u043e\\u0434\\u0438\\u0435    \\u043c\\u0438\\u043e\\u043c\\u0430 \\u043c\\u0430\\u0442\\u043a\\u0438       \\u043c\\u0443\\u0436\\u0441\\u043a\\u043e\\u0439 \\u0444\\u0430\\u043a\\u0442\\u043e\\u0440     \",\"\\u0431\\u0435\\u0441\\u043f\\u043b\\u043e\\u0434\\u0438\\u0435    \\u0445\\u0440\\u043e\\u043d\\u0438\\u0447\\u0435\\u0441\\u043a\\u0438\\u0439 \\u044d\\u043d\\u0434\\u043e\\u043c\\u0435\\u0442\\u0440\\u0438\\u0442        \\u044d\\u043d\\u0434\\u043e\\u043c\\u0435\\u0442\",\"\\u0431\\u0435\\u0441\\u043f\\u043b\\u043e\\u0434\\u0438\\u0435   \\u043d\\u0435\\u044f\\u0441\\u043d\\u043e\\u0433\\u043e \\u0433\\u0435\\u043d\\u0435\\u0437\\u0430 \\u043f\\u043e\\u0437\\u0434\\u043d\\u0438\\u0439 \\u0440\\u0435\\u043f\\u0440\\u043e\\u0434\\u0443\\u043a\\u0442\\u0438\\u0432\\u043d\\u044b\\u0439\",\"\\u043d\\u0435\\u0442\",\"\\u0431\\u0435\\u0441\\u043f\\u043b\\u043e\\u0434\\u0438\\u0435   \\u0433\\u043e\\u043c\\u043e\\u0446\\u0438\\u0441\\u0442\\u0435\\u0438\\u043d\\u0435\\u043c\\u0438\\u044f  \\u043c\\u0443\\u0436\\u0441\\u043a\\u043e\\u0439 \\u0444\\u0430\\u043a\\u0442\\u043e\\u0440      \",\"\\u0431\\u0435\\u0441\\u043f\\u043b\\u043e\\u0434\\u0438\\u0435   \\u0441\\u043e\\u0447\\u0435\\u0442\\u0430\\u043d\\u043d\\u043e\\u0435        \\u0436\\u0435\\u043d\\u0441\\u043a\\u043e\\u0435 \\u0431\\u0435\\u0441\\u043f\\u043b\\u043e\\u0434\\u0438\\u0435  \\u043e\",\"\\u0431\\u0435\\u0441\\u043f\\u043b\\u043e\\u0434\\u0438\\u0435    \\u043d\\u0435\\u044f\\u0441\\u043d\\u043e\\u0433\\u043e \\u0433\\u0435\\u043d\\u0435\\u0437\\u0430  \\u0445\\u0440\\u043e\\u043d\\u0438\\u0447\\u0435\\u0441\\u043a\\u0438\\u0439 \\u044d\\u043d\\u0434\\u043e\\u043c\\u0435\\u0442\\u0440\",\"\\u0431\\u0435\\u0441\\u043f\\u043b\\u043e\\u0434\\u0438\\u0435    \\u0430\\u0431\\u0441\\u043e\\u043b\\u044e\\u0442\\u043d\\u043e\\u0435 \\u0442\\u0440\\u0443\\u0431\\u043d\\u043e\\u0435 \\u0445\\u0440\\u043e\\u043d\\u0438\\u0447\\u0435\\u0441\\u043a\\u0438\\u0439 \\u044d\\u043d\\u0434\\u043e\\u043c\\u0435\",\"\\u0431\\u0435\\u0441\\u043f\\u043b\\u043e\\u0434\\u0438\\u0435   \\u0430\\u043d\\u043e\\u0432\\u0443\\u043b\\u044f\\u0446\\u0438\\u044f         \\u043d\\u0430\\u0440\\u0443\\u0448\\u0435\\u043d\\u0438\\u0435 \\u0436\\u0438\\u0440\\u043e\\u0432\\u043e\\u0433\\u043e \",\"\\u0431\\u0435\\u0441\\u043f\\u043b\\u043e\\u0434\\u0438\\u0435     \\u0442\\u0440\\u0443\\u0431\\u043d\\u043e \\u043f\\u0435\\u0440\\u0438\\u0442\\u043e\\u043d\\u0435\\u0430\\u043b\\u044c\\u043d\\u044b\\u0439 \\u0444\\u0430\\u043a\\u0442\\u043e\\u0440 \\u043f\\u0440\\u0430\\u0432\\u043e\\u0441\\u0442\",\"\\u0431\\u0435\\u0441\\u043f\\u043b\\u043e\\u0434\\u0438\\u0435   \\u043c\\u0443\\u0436\\u0441\\u043a\\u043e\\u0439 \\u0444\\u0430\\u043a\\u0442\\u043e\\u0440      \",\"\\u0431\\u0435\\u0441\\u043f\\u043b\\u043e\\u0434\\u0438\\u0435     \\u0445\\u0440\\u043e\\u043d\\u0438\\u0447\\u0435\\u0441\\u043a\\u0438\\u0439 \\u0441\\u0430\\u043b\\u044c\\u043f\\u0438\\u043d\\u0433\\u043e\\u043e\\u0444\\u043e\\u0440\\u0438\\u0442        \\u043f\",\"\\u0431\\u0435\\u0441\\u043f\\u043b\\u043e\\u0434\\u0438\\u0435     \\u0441\\u043e\\u0447\\u0435\\u0442\\u0430\\u043d\\u043d\\u043e\\u0435  \\u043c\\u0430\\u0442\\u043e\\u0447\\u043d\\u043e\\u0435  \\u043c\\u0443\\u0436\\u0441\\u043a\\u043e\\u0439 \\u0444\\u0430\\u043a\\u0442\\u043e\\u0440\",\"\\u0431\\u0435\\u0441\\u043f\\u043b\\u043e\\u0434\\u0438\\u0435   \\u0442\\u0440\\u0443\\u0431\\u043d\\u043e\\u0435  \\u0430\\u043d\\u043e\\u0432\\u0443\\u043b\\u044f\\u0442\\u043e\\u0440\\u043d\\u043e\\u0435  \\u0441\\u043f\\u044f  \\u0430\\u043d\\u043e\\u0432\\u0443\\u043b\\u044f\\u0446\\u0438\",\"\\u0431\\u0435\\u0441\\u043f\\u043b\\u043e\\u0434\\u0438\\u0435   \\u043f\\u0435\\u0440\\u0432\\u0438\\u0447\\u043d\\u0430\\u044f \\u043e\\u043b\\u0438\\u0433\\u043e\\u043c\\u0435\\u043d\\u043e\\u0440\\u0440\\u0435\\u044f        \\u0441\\u043f\\u044f    \",\"\\u0431\\u0435\\u0441\\u043f\\u043b\\u043e\\u0434\\u0438\\u0435   \\u0445\\u0440\\u043e\\u043d\\u0438\\u0447\\u0435\\u0441\\u043a\\u0438\\u0439 \\u0441\\u0430\\u043b\\u044c\\u043f\\u0438\\u043d\\u0433\\u043e\\u043e\\u0444\\u043e\\u0440\\u0438\\u0442        \\u0445\\u0440\\u043e\",\"\\u0431\\u0435\\u0441\\u043f\\u043b\\u043e\\u0434\\u0438\\u0435   \\u0445\\u0440\\u043e\\u043d\\u0438\\u0447\\u0435\\u0441\\u043a\\u0438\\u0439 \\u044d\\u043d\\u0434\\u043e\\u043c\\u0435\\u0442\\u0440\\u0438\\u0442        \\u0430\\u0434\\u0435\\u043d\\u043e\\u043c\\u0438\\u043e\",\"\\u043f\\u043b\\u043d\\u0438\\u0440\\u043e\\u0432\\u0430\\u043d\\u0438\\u0435 \\u0431\\u0435\\u0440\\u0435\\u043c\\u0435\\u043d\\u043d\\u043e\\u0441\\u0442\\u0438 \\u0441 \\u0434\\u0441 \",\"\\u0431\\u0435\\u0441\\u043f\\u043b\\u043e\\u0434\\u0438\\u0435    \\u0441\\u043e\\u0447\\u0435\\u0442\\u0430\\u043d\\u043d\\u043e\\u0435    \\u0442\\u0440\\u0443\\u0431\\u043d\\u043e\\u0435 \\u043c\\u0443\\u0436\\u0441\\u043a\\u043e\\u0439 \\u0444\\u0430\\u043a\\u0442\\u043e\\u0440 \",\"\\u0431\\u0435\\u0441\\u043f\\u043b\\u043e\\u0434\\u0438\\u0435     \\u043c\\u0438\\u043a\\u0440\\u043e\\u0430\\u0434\\u0435\\u043d\\u043e\\u043c\\u0430 \\u0433\\u0438\\u043f\\u043e\\u0444\\u0438\\u0437\\u0430        \\u043e\\u0430\\u0433\\u0430  \\u043f\",\"\\u0431\\u0435\\u0441\\u043f\\u043b\\u043e\\u0434\\u0438\\u0435    \\u043d\\u0433\\u044d   \\u0440\\u0435\\u0446\\u0438\\u0434\\u0438\\u0432  \\u043a\\u0438\\u0441\\u0442\\u0430 \\u043b\\u0435\\u0432\\u043e\\u0433\\u043e \\u044f\\u0438\\u0447\\u043d\\u0438\\u043a\\u0430  \",\"\\u0431\\u0435\\u0441\\u043f\\u043b\\u043e\\u0434\\u0438\\u0435           \\u0436\\u0435\\u043d\\u0441\\u043a\\u043e\\u0435 \\u0431\\u0435\\u0441\\u043f\\u043b\\u043e\\u0434\\u0438\\u0435  \\u043e\\u0431\\u0443\\u0441\\u043b\\u043e\\u0432\\u043b\\u0435\\u043d\\u043d\",\"\\u0431\\u0435\\u0441\\u043f\\u043b\\u043e\\u0434\\u0438\\u0435    \\u0442\\u0440\\u0443\\u0431\\u043d\\u043e\\u0433\\u043e \\u043f\\u0440\\u043e\\u0438\\u0441\\u0445\\u043e\\u0436\\u0434\\u0435\\u043d\\u0438\\u044f        \\u043f\\u0440\\u0438\\u043e\\u0431\\u0440\\u0435\",\"\\u043d\\u0435\\u0442\",\"\\u0431\\u0435\\u0441\\u043f\\u043b\\u043e\\u0434\\u0438\\u0435    \\u043d\\u0435\\u044f\\u0441\\u043d\\u043e\\u0433\\u043e \\u0433\\u0435\\u043d\\u0435\\u0437\\u0430  \\u0445\\u0440 \\u043f\\u0438\\u0435\\u043b\\u043e\\u043d\\u0435\\u0444\\u0440\\u0438\\u0442  \\u0440\\u0435\\u043c\\u0438\",\"\\u0431\\u0435\\u0441\\u043f\\u043b\\u043e\\u0434\\u0438\\u0435            \\u0436\\u0435\\u043d\\u0441\\u043a\\u043e\\u0435 \\u0431\\u0435\\u0441\\u043f\\u043b\\u043e\\u0434\\u0438\\u0435 \\u0442\\u0440\\u0443\\u0431\\u043d\\u043e \\u043f\\u0435\\u0440\\u0438\",\"\\u0431\\u0435\\u0441\\u043f\\u043b\\u043e\\u0434\\u0438\\u0435 \\u0432\\u0442\\u043e\\u0440\\u0438\\u0447\\u043d\\u043e\\u0435  \\u043c\\u0443\\u0436\\u0441\\u043a\\u043e\\u0439 \\u0444\\u0430\\u043a\\u0442\\u043e\\u0440  \\u043d\\u043e\\u0441\\u0438\\u0442\\u0435\\u043b\\u044c \\u0432\\u0438\\u0447 \",\"\\u0431\\u0435\\u0441\\u043f\\u043b\\u043e\\u0434\\u0438\\u0435   \\u0430\\u0431\\u0441\\u043e\\u043b\\u044e\\u0442\\u043d\\u043e\\u0435 \\u0442\\u0440\\u0443\\u0431\\u043d\\u043e\\u0435 \\u0445\\u0440\\u043e\\u043d\\u0438\\u0447\\u0435\\u0441\\u043a\\u0438\\u0439 \\u0441\\u0430\\u043b\\u044c\\u043f\\u0438\\u043d\",\"\\u0431\\u0435\\u0441\\u043f\\u043b\\u043e\\u0434\\u0438\\u0435            \\u0442\\u0440\\u0443\\u0431\\u043d\\u043e \\u043f\\u0435\\u0440\\u0438\\u0442\\u043e\\u043d\\u0435\\u0430\\u043b\\u044c\\u043d\\u043e\\u0435  \\u0445\\u0440 \\u0441\\u0430\\u043b\",\"\\u0431\\u0435\\u0441\\u043f\\u043b\\u043e\\u0434\\u0438\\u0435     \\u0442\\u0440\\u0443\\u0431\\u043d\\u043e \\u043f\\u0435\\u0440\\u0438\\u0442\\u043e\\u043d\\u0435\\u0430\\u043b\\u044c\\u043d\\u043e\\u0435  \\u0445\\u0440\\u043e\\u043d\\u0438\\u0447\\u0435\\u0441\\u043a\\u0438\\u0439 \\u0441\",\"\\u0431\\u0435\\u0441\\u043f\\u043b\\u043e\\u0434\\u0438\\u0435     \\u043d\\u0433\\u044d    \\u0441\\u0442         \\u0433\\u0438\\u043f\\u0435\\u0440\\u043f\\u0440\\u043e\\u043b\\u0430\\u043a\\u0442\\u0438\\u043d\\u0435\\u043c\\u0438\\u044f\",\"\\u0431\\u0435\\u0441\\u043f\\u043b\\u043e\\u0434\\u0438\\u0435   \\u043c\\u0438\\u043e\\u043c\\u0430 \\u043c\\u0430\\u0442\\u043a\\u0438      \\u0430\\u0434\\u0435\\u043d\\u043e\\u043c\\u0438\\u043e\\u0437        \\u044d\\u043d\\u0434\\u043e\",\"\\u0431\\u0435\\u0441\\u043f\\u043b\\u043e\\u0434\\u0438\\u0435          \\u0434\\u0440\\u0443\\u0433\\u0438\\u0435 \\u0444\\u043e\\u0440\\u043c\\u044b \\u0436\\u0435\\u043d\\u0441\\u043a\\u043e\\u0433\\u043e \\u0431\\u0435\\u0441\\u043f\\u043b\\u043e\\u0434\\u0438\\u044f\",\"\\u0431\\u0435\\u0441\\u043f\\u043b\\u043e\\u0434\\u0438\\u0435     \\u0445\\u0440\\u043e\\u043d\\u0438\\u0447\\u0435\\u0441\\u043a\\u0438\\u0439 \\u043e\\u043e\\u0444\\u043e\\u0440\\u0438\\u0442        \\u0445\\u0440\\u043e\\u043d\\u0438\\u0447\\u0435\\u0441\\u043a\",\"\\u0431\\u0435\\u0441\\u043f\\u043b\\u043e\\u0434\\u0438\\u0435           \\u0436\\u0435\\u043d\\u0441\\u043a\\u043e\\u0435 \\u0431\\u0435\\u0441\\u043f\\u043b\\u043e\\u0434\\u0438\\u0435  \\u043e\\u0431\\u0443\\u0441\\u043b\\u043e\\u0432\\u043b\\u0435\\u043d\\u043d\",\"\\u0431\\u0435\\u0441\\u043f\\u043b\\u043e\\u0434\\u0438\\u0435    \\u0441\\u043e\\u0447\\u0435\\u0442\\u0430\\u043d\\u043d\\u043e\\u0435  \\u0442\\u0440\\u0443\\u0431\\u043d\\u043e \\u043f\\u0435\\u0440\\u0438\\u0442\\u043e\\u043d\\u0435\\u0430\\u043b\\u044c\\u043d\\u043e\\u0435  \\u043c\\u0443\",\"\\u0431\\u0435\\u0441\\u043f\\u043b\\u043e\\u0434\\u0438\\u0435   \\u043d\\u0433\\u044d \\u0440\\u0435\\u0437\\u0435\\u043a\\u0446\\u0438\\u044f \\u043b\\u0435\\u0432\\u043e\\u0433\\u043e  \\u044f\\u0438\\u0447\\u043d\\u0438\\u043a\\u0430 \\u0438 \\u043a\\u0430\\u0443\\u0442\\u0435\\u0440\\u0438\",\"\\u0431\\u0435\\u0441\\u043f\\u043b\\u043e\\u0434\\u0438\\u0435    \\u0442\\u0440\\u0443\\u0431\\u043d\\u043e \\u043f\\u0435\\u0440\\u0438\\u0442\\u043e\\u043d\\u0435\\u0430\\u043b\\u044c\\u043d\\u044b\\u0439 \\u0444\\u0430\\u043a\\u0442\\u043e\\u0440\",\"\\u0431\\u0435\\u0441\\u043f\\u043b\\u043e\\u0434\\u0438\\u0435    \\u0442\\u0440\\u0443\\u0431\\u043d\\u043e \\u043f\\u0435\\u0440\\u0438\\u0442\\u043e\\u043d\\u0435\\u0430\\u043b\\u044c\\u043d\\u043e\\u0435 \",\"\\u0431\\u0435\\u0441\\u043f\\u043b\\u043e\\u0434\\u0438\\u0435     \\u043f\\u043e\\u0437\\u0434\\u043d\\u0438\\u0439 \\u0440\\u0435\\u043f\\u0440\\u043e\\u0434\\u0443\\u043a\\u0442\\u0438\\u0432\\u043d\\u044b\\u0439 \\u0432\\u043e\\u0437\\u0440\\u0430\\u0441\\u0442  \\u0445\\u0440 \\u044d\",\"\\u0431\\u0435\\u0441\\u043f\\u043b\\u043e\\u0434\\u0438\\u0435    \\u0445\\u0440\\u043e\\u043d\\u0438\\u0447\\u0435\\u0441\\u043a\\u0438\\u0439 \\u0441\\u0430\\u043b\\u044c\\u043f\\u0438\\u043d\\u0433\\u043e\\u043e\\u0444\\u043e\\u0440\\u0438\\u0442        \\u0440\\u0443\",\"\\u0431\\u0435\\u0441\\u043f\\u043b\\u043e\\u0434\\u0438\\u0435    \\u0442\\u0440\\u0443\\u0431\\u043d\\u043e \\u043f\\u0435\\u0440\\u0438\\u0442\\u043e\\u043d\\u0435\\u0430\\u043b\\u044c\\u043d\\u044b\\u0439 \\u0444\\u0430\\u043a\\u0442\\u043e\\u0440\",\"\\u0431\\u0435\\u0441\\u043f\\u043b\\u043e\\u0434\\u0438\\u0435    \\u043d\\u0433\\u044d   \\u0441\\u0442  \\u043a\\u043e\\u043c\\u0431\\u0438\\u043d\\u0438\\u0440\\u043e\\u0432\\u0430\\u043d\\u043d\\u043e\\u0435 \\u043b\\u0435\\u0447\\u0435\\u043d\\u0438\\u0435 \\u0432 \\u0430\",\"\\u0431\\u0435\\u0441\\u043f\\u043b\\u043e\\u0434\\u0438\\u0435     \\u0441\\u043e\\u0447\\u0435\\u0442\\u0430\\u043d\\u043d\\u043e\\u0435  \\u043e\\u0431\\u0443\\u0441\\u043b\\u043e\\u0432\\u043b\\u0435\\u043d\\u043d\\u043e\\u0435 \\u044d\\u043d\\u0434\\u043e\\u043c\\u0435\\u0442\\u0440\\u0438\\u043e\",\"\\u0431\\u0435\\u0441\\u043f\\u043b\\u043e\\u0434\\u0438\\u0435     \\u043f\\u0440\\u0438\\u043e\\u0431\\u0440\\u0435\\u0442\\u0435\\u043d\\u043d\\u043e\\u0435 \\u043e\\u0442\\u0441\\u0443\\u0442\\u0441\\u0442\\u0432\\u0438\\u0435 \\u043e\\u0440\\u0433\\u0430\\u043d\\u0430 \\u0430\\u0431\\u0441\\u043e\",\"\\u0431\\u0435\\u0441\\u043f\\u043b\\u043e\\u0434\\u0438\\u0435     \\u0430\\u0434\\u0435\\u043d\\u043e\\u043c\\u0438\\u043e\\u0437        \\u043f\\u0440\\u0438\\u043e\\u0431\\u0440\\u0435\\u0442\\u0435\\u043d\\u043d\\u043e\\u0435 \\u043e\\u0442\\u0441\\u0443\\u0442\",\"\\u0431\\u0435\\u0441\\u043f\\u043b\\u043e\\u0434\\u0438\\u0435     \\u043c\\u0443\\u0436\\u0441\\u043a\\u043e\\u0439 \\u0444\\u0430\\u043a\\u0442\\u043e\\u0440       \\u0440\\u0435\\u0437\\u0443\\u0441 \\u043e\\u0442\\u0440\\u0438\\u0446\\u0430\\u0442\\u0435\\u043b\",\"\\u0431\\u0435\\u0441\\u043f\\u043b\\u043e\\u0434\\u0438\\u0435     \\u044d\\u043d\\u0434\\u043e\\u043c\\u0435\\u0442\\u0440\\u0438\\u043e\\u0437 \\u0442\\u0430\\u0437\\u043e\\u0432\\u043e\\u0439 \\u0431\\u0440\\u044e\\u0448\\u0438\\u043d\\u044b       \",\"\\u0431\\u0435\\u0441\\u043f\\u043b\\u043e\\u0434\\u0438\\u0435    \\u043c\\u0443\\u0436\\u0441\\u043a\\u043e\\u0439 \\u0444\\u0430\\u043a\\u0442\\u043e\\u0440        \\u0430\\u0437\\u043e\\u043e\\u0441\\u043f\\u0435\\u0440\\u043c\\u0438\\u044f  \\u043f\\u0440\",\"\\u0431\\u0435\\u0441\\u043f\\u043b\\u043e\\u0434\\u0438\\u0435    \\u043e\\u0431\\u0443\\u0441\\u043b\\u043e\\u0432\\u043b\\u0435\\u043d\\u043d\\u043e\\u0435 \\u043c\\u0443\\u0436\\u0441\\u043a\\u0438\\u043c \\u0444\\u0430\\u043a\\u0442\\u043e\\u0440\\u043e\\u043c \\u0440\\u0443\\u0431\\u0435\\u0446 \",\"\\u0431\\u0435\\u0441\\u043f\\u043b\\u043e\\u0434\\u0438\\u0435   \\u043e\\u0431\\u0443\\u0441\\u043b\\u043e\\u0432\\u043b\\u0435\\u043d\\u043d\\u043e\\u0435 \\u044d\\u043d\\u0434\\u043e\\u043c\\u0435\\u0442\\u0440\\u0438\\u043e\\u0437\\u043e\\u043c  \\u043d\\u0433\\u044d   \\u0441\\u0442 \",\"\\u0431\\u0435\\u0441\\u043f\\u043b\\u043e\\u0434\\u0438\\u0435    \\u043d\\u0435\\u0443\\u0442\\u043e\\u0447\\u043d\\u0435\\u043d\\u043d\\u043e\\u0435  \\u0442\\u0435\\u0440\\u0430\\u0442\\u043e\\u0437\\u043e\\u043e\\u0441\\u043f\\u0435\\u0440\\u043c\\u0438\\u044f \\u0443 \\u043c\\u0443\\u0436\\u0430\",\"\\u043d\\u0435\\u0442\",\"\\u0431\\u0435\\u0441\\u043f\\u043b\\u043e\\u0434\\u0438\\u0435     \\u043f\\u043e\\u0437\\u0434\\u043d\\u0438\\u0439 \\u0440\\u0435\\u043f\\u0440\\u043e\\u0434\\u0443\\u043a\\u0442\\u0438\\u0432\\u043d\\u044b\\u0439 \\u0432\\u043e\\u0437\\u0440\\u0430\\u0441\\u0442 \",\"\\u0431\\u0435\\u0441\\u043f\\u043b\\u043e\\u0434\\u0438\\u0435    \\u043d\\u0435\\u0443\\u0442\\u043e\\u0447\\u043d\\u0435\\u043d\\u043d\\u043e\\u0435  \\u0438\\u0437\\u0431\\u044b\\u0442\\u043e\\u0447\\u043d\\u0430\\u044f \\u043c\\u0430\\u0441\\u0441\\u0430 \\u0442\\u0435\\u043b\\u0430 \",\"\\u0431\\u0435\\u0441\\u043f\\u043b\\u043e\\u0434\\u0438\\u0435    \\u043e\\u0433\\u0430  \\u043d\\u0433\\u044d   \\u044d\\u043d\\u0434\\u043e\\u043c\\u0435\\u0442\\u0440\\u0438\\u043e\\u0437 \\u044f\\u0438\\u0447\\u043d\\u0438\\u043a\\u043e\\u0432      \",\"\\u0431\\u0435\\u0441\\u043f\\u043b\\u043e\\u0434\\u0438\\u0435   \\u0445\\u0440\\u043e\\u043d\\u0438\\u0447\\u0435\\u0441\\u043a\\u0438\\u0439 \\u0441\\u0430\\u043b\\u044c\\u043f\\u0438\\u043d\\u0433\\u043e\\u043e\\u0444\\u043e\\u0440\\u0438\\u0442        \\u0445\\u0440\\u043e\",\"\\u0431\\u0435\\u0441\\u043f\\u043b\\u043e\\u0434\\u0438\\u0435    \\u0445\\u0440\\u043e\\u043d\\u0438\\u0447\\u0435\\u0441\\u043a\\u0438\\u0439 \\u0441\\u0430\\u043b\\u044c\\u043f\\u0438\\u043d\\u0433\\u043e\\u043e\\u0444\\u043e\\u0440\\u0438\\u0442        \\u0445\\u0440\",\"\\u0431\\u0435\\u0441\\u043f\\u043b\\u043e\\u0434\\u0438\\u0435     \\u0442\\u0440\\u0443\\u0431\\u043d\\u043e\\u0433\\u043e \\u043f\\u0440\\u043e\\u0438\\u0441\\u0445\\u043e\\u0436\\u0434\\u0435\\u043d\\u0438\\u044f  \\u0445\\u0440\\u043e\\u043d\\u0438\\u0447\\u0435\\u0441\\u043a\\u0438\\u0439 \",\"\\u0431\\u0435\\u0441\\u043f\\u043b\\u043e\\u0434\\u0438\\u0435           \\u0436\\u0435\\u043d\\u0441\\u043a\\u043e\\u0435 \\u0431\\u0435\\u0441\\u043f\\u043b\\u043e\\u0434\\u0438\\u0435  \\u043e\\u0431\\u0443\\u0441\\u043b\\u043e\\u0432\\u043b\\u0435\\u043d\\u043d\",\"\\u0431\\u0435\\u0441\\u043f\\u043b\\u043e\\u0434\\u0438\\u0435    \\u043c\\u0443\\u0436\\u0441\\u043a\\u043e\\u0439 \\u0444\\u0430\\u043a\\u0442\\u043e\\u0440       \\u0440\\u0435\\u0437\\u0443\\u0441 \\u043e\\u0442\\u0440\\u0438\\u0446\\u0430\\u0442\\u0435\\u043b\\u044c\",\"\\u0431\\u0435\\u0441\\u043f\\u043b\\u043e\\u0434\\u0438\\u0435    \\u0442\\u0440\\u0443\\u0431\\u043d\\u043e \\u043f\\u0435\\u0440\\u0438\\u0442\\u043e\\u043d\\u0435\\u0430\\u043b\\u044c\\u043d\\u043e\\u0435  \\u0434\\u0432\\u0443\\u0441\\u0442\\u043e\\u0440\\u043e\\u043d\\u043d\\u044f\\u044f \\u0442\",\"\\u0431\\u0435\\u0441\\u043f\\u043b\\u043e\\u0434\\u0438\\u0435           \\u0434\\u0440\\u0443\\u0433\\u0438\\u0435 \\u0444\\u043e\\u0440\\u043c\\u044b \\u0436\\u0435\\u043d\\u0441\\u043a\\u043e\\u0433\\u043e \\u0431\\u0435\\u0441\\u043f\\u043b\\u043e\\u0434\\u0438\",\"\\u0431\\u0435\\u0441\\u043f\\u043b\\u043e\\u0434\\u0438\\u0435    \\u043c\\u0443\\u0436\\u0441\\u043a\\u043e\\u0439 \\u0444\\u0430\\u043a\\u0442\\u043e\\u0440       \\u0438\\u0437\\u0431\\u044b\\u0442\\u043e\\u0447\\u043d\\u0430\\u044f \\u043c\\u0430\\u0441\\u0441\\u0430\",\"\\u0431\\u0435\\u0441\\u043f\\u043b\\u043e\\u0434\\u0438\\u0435     \\u043c\\u0443\\u0436\\u0441\\u043a\\u043e\\u0439 \\u0444\\u0430\\u043a\\u0442\\u043e\\u0440        \\u0434\\u0435\\u0444\\u0438\\u0446\\u0438\\u0442 \\u043c\\u0430\\u0441\\u0441\\u044b \",\"\\u0431\\u0435\\u0441\\u043f\\u043b\\u043e\\u0434\\u0438\\u0435     \\u043c\\u0443\\u0436\\u0441\\u043a\\u043e\\u0439 \\u0444\\u0430\\u043a\\u0442\\u043e\\u0440      \",\"\\u0431\\u0435\\u0441\\u043f\\u043b\\u043e\\u0434\\u0438\\u0435            \\u0436\\u0435\\u043d\\u0441\\u043a\\u043e\\u0435 \\u0431\\u0435\\u0441\\u043f\\u043b\\u043e\\u0434\\u0438\\u0435  \\u0442\\u0440\\u0443\\u0431\\u043d\\u043e \\u043f\\u0435\\u0440\",\"\\u0431\\u0435\\u0441\\u043f\\u043b\\u043e\\u0434\\u0438\\u0435    \\u043e\\u0433\\u0430   \\u043d\\u0433\\u044d  \\u0441\\u0442  \\u043a\\u043e\\u043c\\u0431\\u0438\\u043d\\u0438\\u0440\\u043e\\u0432\\u0430\\u043d\\u043d\\u043e\\u0435 \\u043b\\u0435\\u0447\\u0435\\u043d\\u0438\",\"\\u0431\\u0435\\u0441\\u043f\\u043b\\u043e\\u0434\\u0438\\u0435     \\u0441\\u0432\\u044f\\u0437\\u0430\\u043d\\u043d\\u043e\\u0435 \\u0441 \\u043c\\u0443\\u0436\\u0441\\u043a\\u0438\\u043c\\u0438 \\u0444\\u0430\\u043a\\u0442\\u043e\\u0440\\u0430\\u043c\\u0438      \",\"\\u0431\\u0435\\u0441\\u043f\\u043b\\u043e\\u0434\\u0438\\u0435    \\u043e\\u0431\\u0443\\u0441\\u043b\\u043e\\u0432\\u043b\\u0435\\u043d\\u043d\\u043e\\u0435 \\u044d\\u043d\\u0434\\u043e\\u043c\\u0435\\u0442\\u0440\\u0438\\u043e\\u0437\\u043e\\u043c  \\u043d\\u0433\\u044d     \",\"\\u0431\\u0435\\u0441\\u043f\\u043b\\u043e\\u0434\\u0438\\u0435          \\u0436\\u0435\\u043d\\u0441\\u043a\\u043e\\u0435 \\u0431\\u0435\\u0441\\u043f\\u043b\\u043e\\u0434\\u0438\\u0435  \\u043e\\u0431\\u0443\\u0441\\u043b\\u043e\\u0432\\u043b\\u0435\\u043d\\u043d\\u043e\",\"\\u0431\\u0435\\u0441\\u043f\\u043b\\u043e\\u0434\\u0438\\u0435     \\u043d\\u0435\\u0443\\u0442\\u043e\\u0447\\u043d\\u0435\\u043d\\u043d\\u043e\\u0435  \\u0438\\u0437\\u0431\\u044b\\u0442\\u043e\\u0447\\u043d\\u0430\\u044f \\u043c\\u0430\\u0441\\u0441\\u0430 \\u0442\\u0435\\u043b\\u0430 \",\"\\u0431\\u0435\\u0441\\u043f\\u043b\\u043e\\u0434\\u0438\\u0435   \\u0430\\u0431\\u0441\\u043e\\u043b\\u044e\\u0442\\u043d\\u043e\\u0435 \\u0442\\u0440\\u0443\\u0431\\u043d\\u043e\\u0435  \\u0441\\u043f\\u0430\\u0435\\u0447\\u043d\\u044b\\u0439 \\u043f\\u0440\\u043e\\u0446\\u0435\\u0441\\u0441 \\u0432\",\"\\u0431\\u0435\\u0441\\u043f\\u043b\\u043e\\u0434\\u0438\\u0435     \\u0445\\u0440\\u043e\\u043d\\u0438\\u0447\\u0435\\u0441\\u043a\\u0438\\u0439 \\u0441\\u0430\\u043b\\u044c\\u043f\\u0438\\u043d\\u0433\\u043e\\u043e\\u0444\\u043e\\u0440\\u0438\\u0442        \\u043f\",\"\\u0431\\u0435\\u0441\\u043f\\u043b\\u043e\\u0434\\u0438\\u0435           \\u0436\\u0435\\u043d\\u0441\\u043a\\u043e\\u0435 \\u0431\\u0435\\u0441\\u043f\\u043b\\u043e\\u0434\\u0438\\u0435  \\u043e\\u0431\\u0443\\u0441\\u043b\\u043e\\u0432\\u043b\\u0435\\u043d\\u043d\",\"\\u0431\\u0435\\u0441\\u043f\\u043b\\u043e\\u0434\\u0438\\u0435            \\u0436\\u0435\\u043d\\u0441\\u043a\\u043e\\u0435 \\u0431\\u0435\\u0441\\u043f\\u043b\\u043e\\u0434\\u0438\\u0435  \\u043e\\u0431\\u0443\\u0441\\u043b\\u043e\\u0432\\u043b\\u0435\\u043d\",\"\\u0431\\u0435\\u0441\\u043f\\u043b\\u043e\\u0434\\u0438\\u0435     \\u043f\\u0440\\u0438\\u043e\\u0431\\u0440\\u0435\\u0442\\u0435\\u043d\\u043d\\u043e\\u0435 \\u043e\\u0442\\u0441\\u0443\\u0442\\u0441\\u0442\\u0432\\u0438\\u0435 \\u043e\\u0440\\u0433\\u0430\\u043d\\u0430     \",\"\\u0431\\u0435\\u0441\\u043f\\u043b\\u043e\\u0434\\u0438\\u0435     \\u0441\\u043e\\u0447\\u0435\\u0442\\u0430\\u043d\\u043d\\u043e\\u0435  \\u0442\\u0440\\u0443\\u0431\\u043d\\u043e \\u043f\\u0435\\u0440\\u0438\\u0442\\u043e\\u043d\\u0435\\u0430\\u043b\\u044c\\u043d\\u043e\\u0435  \\u043e\",\"\\u0431\\u0435\\u0441\\u043f\\u043b\\u043e\\u0434\\u0438\\u0435     \\u0442\\u0440\\u0443\\u0431\\u043d\\u043e \\u043f\\u0435\\u0440\\u0438\\u0442\\u043e\\u043d\\u0435\\u0430\\u043b\\u044c\\u043d\\u043e\\u0435  \\u0441\\u043d\\u0438\\u0436\\u0435\\u043d\\u0438\\u0435 \\u043e\\u0432\\u0430\\u0440\",\"\\u0431\\u0435\\u0441\\u043f\\u043b\\u043e\\u0434\\u0438\\u0435    \\u043c\\u0443\\u0436\\u0441\\u043a\\u043e\\u0439 \\u0444\\u0430\\u043a\\u0442\\u043e\\u0440        \\u0430\\u0438\\u0442        \\u044d\\u0443\\u0442\\u0438\",\"\\u0431\\u0435\\u0441\\u043f\\u043b\\u043e\\u0434\\u0438\\u0435    \\u0442\\u0440\\u0443\\u0431\\u043d\\u043e\\u0433\\u043e \\u043f\\u0440\\u043e\\u0438\\u0441\\u0445\\u043e\\u0436\\u0434\\u0435\\u043d\\u0438\\u044f        \\u043f\\u0440\\u0438\\u043e\\u0431\\u0440\\u0435\",\"\\u0431\\u0435\\u0441\\u043f\\u043b\\u043e\\u0434\\u0438\\u0435    \\u043d\\u0435\\u044f\\u0441\\u043d\\u043e\\u0433\\u043e \\u0433\\u0435\\u043d\\u0435\\u0437\\u0430        \\u043d\\u0435\\u0432\\u044b\\u043d\\u0430\\u0448\\u0438\\u0432\\u0430\\u043d\\u0438\\u0435 \",\"\\u0431\\u0435\\u0441\\u043f\\u043b\\u043e\\u0434\\u0438\\u0435   \\u0445\\u0440\\u043e\\u043d\\u0438\\u0447\\u0435\\u0441\\u043a\\u0438\\u0439 \\u0441\\u0430\\u043b\\u044c\\u043f\\u0438\\u043d\\u0433\\u043e\\u043e\\u0444\\u043e\\u0440\\u0438\\u0442        \\u0441\\u043f\\u0430\",\"\\u0431\\u0435\\u0441\\u043f\\u043b\\u043e\\u0434\\u0438\\u0435    \\u043d\\u0433\\u044d   \\u0441\\u0442  \\u044d\\u043d\\u0434\\u043e\\u043c\\u0435\\u0442\\u0440\\u0438\\u043e\\u0437 \\u0442\\u0430\\u0437\\u043e\\u0432\\u043e\\u0439 \\u0431\\u0440\\u044e\\u0448\\u0438\\u043d\\u044b\",\"\\u0431\\u0435\\u0441\\u043f\\u043b\\u043e\\u0434\\u0438\\u0435      \\u043d\\u0433\\u044d  \\u043a\\u043e\\u043c\\u0431\\u0438\\u043d\\u0438\\u0440\\u043e\\u0432\\u0430\\u043d\\u043d\\u043e\\u0435 \\u043b\\u0435\\u0447\\u0435\\u043d\\u0438\\u0435 \\u0432 \\u0430\\u043d\\u0430\\u043c\",\"\\u0431\\u0435\\u0441\\u043f\\u043b\\u043e\\u0434\\u0438\\u0435           \\u044d\\u043d\\u0434\\u043e\\u043c\\u0435\\u0442\\u0440\\u0438\\u043e\\u0437 \\u044f\\u0438\\u0447\\u043d\\u0438\\u043a\\u043e\\u0432          \",\"\\u0431\\u0435\\u0441\\u043f\\u043b\\u043e\\u0434\\u0438\\u0435     \\u0441\\u043e\\u0447\\u0435\\u0442\\u0430\\u043d\\u043d\\u043e\\u0435  \\u0442\\u0440\\u0443\\u0431\\u043d\\u043e \\u043f\\u0435\\u0440\\u0438\\u0442\\u043e\\u043d\\u0435\\u0430\\u043b\\u044c\\u043d\\u043e\\u0435  \\u043c\",\"\\u0431\\u0435\\u0441\\u043f\\u043b\\u043e\\u0434\\u0438\\u0435          \\u0436\\u0435\\u043d\\u0441\\u043a\\u043e\\u0435 \\u0431\\u0435\\u0441\\u043f\\u043b\\u043e\\u0434\\u0438\\u0435  \\u043e\\u0431\\u0443\\u0441\\u043b\\u043e\\u0432\\u043b\\u0435\\u043d\\u043d\\u043e\",\"\\u0431\\u0435\\u0441\\u043f\\u043b\\u043e\\u0434\\u0438\\u0435           \\u0436\\u0435\\u043d\\u0441\\u043a\\u043e\\u0435 \\u0431\\u0435\\u0441\\u043f\\u043b\\u043e\\u0434\\u0438\\u0435  \\u043e\\u0431\\u0443\\u0441\\u043b\\u043e\\u0432\\u043b\\u0435\\u043d\\u043d\",\"\\u0431\\u0435\\u0441\\u043f\\u043b\\u043e\\u0434\\u0438\\u0435           \\u0436\\u0435\\u043d\\u0441\\u043a\\u043e\\u0435 \\u0431\\u0435\\u0441\\u043f\\u043b\\u043e\\u0434\\u0438\\u0435  \\u043e\\u0431\\u0443\\u0441\\u043b\\u043e\\u0432\\u043b\\u0435\\u043d\\u043d\",\"\\u0431\\u0435\\u0441\\u043f\\u043b\\u043e\\u0434\\u0438\\u0435    \\u043f\\u0440\\u0438\\u043e\\u0431\\u0440\\u0435\\u0442\\u0435\\u043d\\u043d\\u043e\\u0435 \\u043e\\u0442\\u0441\\u0443\\u0442\\u0441\\u0442\\u0432\\u0438\\u0435 \\u043e\\u0440\\u0433\\u0430\\u043d\\u0430  \\u0434\\u0432\\u0443\\u0445\",\"\\u0431\\u0435\\u0441\\u043f\\u043b\\u043e\\u0434\\u0438\\u0435   \\u0441\\u0432\\u044f\\u0437\\u0430\\u043d\\u043d\\u043e\\u0435 \\u0441 \\u043c\\u0443\\u0436\\u0441\\u043a\\u0438\\u043c\\u0438 \\u0444\\u0430\\u043a\\u0442\\u043e\\u0440\\u0430\\u043c\\u0438        \",\"\\u0431\\u0435\\u0441\\u043f\\u043b\\u043e\\u0434\\u0438\\u0435    \\u043d\\u0435\\u0443\\u0442\\u043e\\u0447\\u043d\\u0435\\u043d\\u043d\\u043e\\u0435  \\u0430\\u0441\\u0442\\u0435\\u043d\\u043e\\u0437\\u043e\\u043e\\u0441\\u043f\\u0435\\u0440\\u043c\\u0438\\u044f \\u0443 \\u043c\\u0443\\u0436\\u0430\",\"\\u0431\\u0435\\u0441\\u043f\\u043b\\u043e\\u0434\\u0438\\u0435    \\u043d\\u0435\\u044f\\u0441\\u043d\\u043e\\u0433\\u043e \\u0433\\u0435\\u043d\\u0435\\u0437\\u0430       \\u0430\\u0434\\u0435\\u043d\\u043e\\u043c\\u0438\\u043e\\u0437  \\u0434\\u0435\\u0444\\u0438\",\"\\u0431\\u0435\\u0441\\u043f\\u043b\\u043e\\u0434\\u0438\\u0435     \\u0440\\u0443\\u0431\\u0435\\u0446 \\u043d\\u0430 \\u043c\\u0430\\u0442\\u043a\\u0435  \\u043a\\u0435\\u0441\\u0430\\u0440\\u0435\\u0432\\u043e \\u0441\\u0435\\u0447\\u0435\\u043d\\u0438\\u0435 \\u0432  \",\"\\u0431\\u0435\\u0441\\u043f\\u043b\\u043e\\u0434\\u0438\\u0435  \\u0442\\u0440\\u0443\\u0431\\u043d\\u043e\\u0435        \\u0445\\u0440\\u043e\\u043d\\u0438\\u0447\\u0435\\u0441\\u043a\\u0438\\u0439 \\u0441\\u0430\\u043b\\u044c\\u043f\\u0438\\u043d\\u0433\\u043e\\u043e\\u0444\\u043e\",\"\\u0431\\u0435\\u0441\\u043f\\u043b\\u043e\\u0434\\u0438\\u0435           \\u0434\\u0440\\u0443\\u0433\\u0438\\u0435 \\u0444\\u043e\\u0440\\u043c\\u044b \\u0436\\u0435\\u043d\\u0441\\u043a\\u043e\\u0433\\u043e \\u0431\\u0435\\u0441\\u043f\\u043b\\u043e\\u0434\\u0438\",\"\\u0431\\u0435\\u0441\\u043f\\u043b\\u043e\\u0434\\u0438\\u0435     \\u0442\\u0440\\u0443\\u0431\\u043d\\u043e\\u0433\\u043e \\u043f\\u0440\\u043e\\u0438\\u0441\\u0445\\u043e\\u0436\\u0434\\u0435\\u043d\\u0438\\u044f        \\u043f\\u0440\\u0438\\u043e\\u0431\\u0440\",\"\\u0431\\u0435\\u0441\\u043f\\u043b\\u043e\\u0434\\u0438\\u0435     \\u043f\\u0440\\u0438\\u043e\\u0431\\u0440\\u0435\\u0442\\u0435\\u043d\\u043d\\u043e\\u0435 \\u043e\\u0442\\u0441\\u0443\\u0442\\u0441\\u0442\\u0432\\u0438\\u0435 \\u043e\\u0440\\u0433\\u0430\\u043d\\u0430  \\u0442\\u0443\\u0431\",\"\\u0431\\u0435\\u0441\\u043f\\u043b\\u043e\\u0434\\u0438\\u0435     \\u0440\\u0443\\u0431\\u0435\\u0446 \\u043d\\u0430 \\u043c\\u0430\\u0442\\u043a\\u0435 \\u043f\\u043e\\u0441\\u043b\\u0435 \\u043c\\u0438\\u043e\\u043c\\u044d\\u043a\\u0442\\u043e\\u043c\\u0438\\u0438 \\u0441\\u043e \",\"\\u0431\\u0435\\u0441\\u043f\\u043b\\u043e\\u0434\\u0438\\u0435    \\u0441\\u043e\\u0447\\u0435\\u0442\\u0430\\u043d\\u043d\\u043e\\u0435  \\u0442\\u0440\\u0443\\u0431\\u043d\\u043e \\u043f\\u0435\\u0440\\u0438\\u0442\\u043e\\u043d\\u0435\\u0430\\u043b\\u044c\\u043d\\u043e\\u0435  \\u044d\\u043d\",\"\\u0431\\u0435\\u0441\\u043f\\u043b\\u043e\\u0434\\u0438\\u0435    \\u043d\\u0433\\u044d  \\u0440\\u0435\\u0446\\u0438\\u0434\\u0438\\u0432   \\u044d\\u043d\\u0434\\u043e\\u043c\\u0435\\u0442\\u0440\\u0438\\u043e\\u0437 \\u043b\\u0435\\u0432\\u043e\\u0433\\u043e \\u044f\\u0438\\u0447\",\"\\u0431\\u0435\\u0441\\u043f\\u043b\\u043e\\u0434\\u0438\\u0435    \\u043c\\u0443\\u0436\\u0441\\u043a\\u043e\\u0439 \\u0444\\u0430\\u043a\\u0442\\u043e\\u0440 \",\"\\u0431\\u0435\\u0441\\u043f\\u043b\\u043e\\u0434\\u0438\\u0435     \\u0442\\u0440\\u0443\\u0431\\u043d\\u043e\\u0435  \\u043f\\u0440\\u0438\\u043e\\u0431\\u0440\\u0435\\u0442\\u0435\\u043d\\u043d\\u043e\\u0435 \\u043e\\u0442\\u0441\\u0443\\u0442\\u0441\\u0442\\u0432\\u0438\\u0435 \\u043e\\u0440\",\"\\u0431\\u0435\\u0441\\u043f\\u043b\\u043e\\u0434\\u0438\\u0435     \\u0445\\u0440\\u043e\\u043d\\u0438\\u0447\\u0435\\u0441\\u043a\\u0438\\u0439 \\u0441\\u0430\\u043b\\u044c\\u043f\\u0438\\u043d\\u0433\\u043e\\u043e\\u0444\\u043e\\u0440\\u0438\\u0442        \\u043f\",\"\\u0431\\u0435\\u0441\\u043f\\u043b\\u043e\\u0434\\u0438\\u0435          \\u0436\\u0435\\u043d\\u0441\\u043a\\u043e\\u0435 \\u0431\\u0435\\u0441\\u043f\\u043b\\u043e\\u0434\\u0438\\u0435  \\u043e\\u0431\\u0443\\u0441\\u043b\\u043e\\u0432\\u043b\\u0435\\u043d\\u043d\\u043e\",\"\\u0431\\u0435\\u0441\\u043f\\u043b\\u043e\\u0434\\u0438\\u0435    \\u043e\\u0433\\u0430  \\u043d\\u0433\\u044d  \\u0442\\u0440\\u0438\\u0436\\u0434\\u044b \\u043e\\u043f\\u0435\\u0440\\u0430\\u0442\\u0438\\u0432\\u043d\\u043e\\u0435 \\u043b\\u0435\\u0447\\u0435\\u043d\\u0438\\u0435 \",\"\\u0431\\u0435\\u0441\\u043f\\u043b\\u043e\\u0434\\u0438\\u0435     \\u043c\\u0443\\u0436\\u0441\\u043a\\u043e\\u0439 \\u0444\\u0430\\u043a\\u0442\\u043e\\u0440        \\u0431\\u043e\\u043b\\u0435\\u0437\\u043d\\u044c \\u0432\\u0438\\u043b\\u043b\\u0435\\u0431\",\"\\u0431\\u0435\\u0441\\u043f\\u043b\\u043e\\u0434\\u0438\\u0435   \\u0440\\u0443\\u0431\\u0435\\u0446 \\u043d\\u0430 \\u043c\\u0430\\u0442\\u043a\\u0435  \\u043c\\u0438\\u043e\\u043c\\u044d\\u043a\\u0442\\u043e\\u043c\\u0438\\u044f \\u0432      \\u0433  \",\"\\u0431\\u0435\\u0441\\u043f\\u043b\\u043e\\u0434\\u0438\\u0435     \\u0430\\u0434\\u0435\\u043d\\u043e\\u043c\\u0438\\u043e\\u0437         \\u0445\\u0440\\u043e\\u043d\\u0438\\u0447\\u0435\\u0441\\u043a\\u0438\\u0439 \\u044d\\u043d\\u0434\\u043e\\u043c\\u0435\",\"\\u0431\\u0435\\u0441\\u043f\\u043b\\u043e\\u0434\\u0438\\u0435   \\u0445\\u0440\\u043e\\u043d\\u0438\\u0447\\u0435\\u0441\\u043a\\u0438\\u0439 \\u0441\\u0430\\u043b\\u044c\\u043f\\u0438\\u043d\\u0433\\u043e\\u043e\\u0444\\u043e\\u0440\\u0438\\u0442        \\u043f\\u0440\\u0438\",\"\\u0431\\u0435\\u0441\\u043f\\u043b\\u043e\\u0434\\u0438\\u0435     \\u043d\\u0433\\u044d  \\u0440\\u0435\\u0446\\u0438\\u0434\\u0438\\u0432  \\u0445\\u0440\\u043e\\u043d\\u0438\\u0447\\u0435\\u0441\\u043a\\u0438\\u0439 \\u044d\\u043d\\u0434\\u043e\\u043c\\u0435\\u0442\\u0440\\u0438\\u0442\",\"\\u0431\\u0435\\u0441\\u043f\\u043b\\u043e\\u0434\\u0438\\u0435     \\u0442\\u0440\\u0443\\u0431\\u043d\\u043e \\u043f\\u0435\\u0440\\u0438\\u0442\\u043e\\u043d\\u0435\\u0430\\u043b\\u044c\\u043d\\u043e\\u0435  \\u043f\\u0440\\u0438\\u043e\\u0431\\u0440\\u0435\\u0442\\u0435\\u043d\\u043d\\u043e\\u0435\",\"\\u0431\\u0435\\u0441\\u043f\\u043b\\u043e\\u0434\\u0438\\u0435   \\u043c\\u0443\\u0436\\u0441\\u043a\\u043e\\u0439 \\u0444\\u0430\\u043a\\u0442\\u043e\\u0440       \\u0438\\u0437\\u0431\\u044b\\u0442\\u043e\\u0447\\u043d\\u0430\\u044f \\u043c\\u0430\\u0441\\u0441\\u0430 \",\"\\u0431\\u0435\\u0441\\u043f\\u043b\\u043e\\u0434\\u0438\\u0435     \\u0442\\u0440\\u0443\\u0431\\u043d\\u043e \\u043f\\u0435\\u0440\\u0438\\u0442\\u043e\\u043d\\u0435\\u0430\\u043b\\u044c\\u043d\\u043e\\u0435         \\u0445\\u0440\\u043e\\u043d\\u0438\\u0447\",\"\\u0431\\u0435\\u0441\\u043f\\u043b\\u043e\\u0434\\u0438\\u0435     \\u043c\\u0443\\u0436\\u0441\\u043a\\u043e\\u0439 \\u0444\\u0430\\u043a\\u0442\\u043e\\u0440       \\u043d\\u0430\\u0440\\u0443\\u0448\\u0435\\u043d\\u0438\\u0435 \\u0436\\u0438\\u0440\\u043e\\u0432\",\"\\u0431\\u0435\\u0441\\u043f\\u043b\\u043e\\u0434\\u0438\\u0435     \\u043a\\u043e\\u043c\\u0431\\u0438\\u043d\\u0438\\u0440\\u043e\\u0432\\u0430\\u043d\\u043d\\u043e\\u0435   \\u043d\\u0433\\u044d   \\u0441\\u0442      \\u0433 \\u043b\\u0441\",\"\\u0431\\u0435\\u0441\\u043f\\u043b\\u043e\\u0434\\u0438\\u0435           \\u0436\\u0435\\u043d\\u0441\\u043a\\u043e\\u0435 \\u0431\\u0435\\u0441\\u043f\\u043b\\u043e\\u0434\\u0438\\u0435 \\u0442\\u0440\\u0443\\u0431\\u043d\\u043e \\u043f\\u0435\\u0440\\u0438\\u0442\",\"\\u0431\\u0435\\u0441\\u043f\\u043b\\u043e\\u0434\\u0438\\u0435     \\u043f\\u043e\\u0437\\u0434\\u043d\\u0438\\u0439 \\u0440\\u0435\\u043f\\u0440\\u043e\\u0434\\u0443\\u043a\\u0442\\u0438\\u0432\\u043d\\u044b\\u0439 \\u0432\\u043e\\u0437\\u0440\\u0430\\u0441\\u0442  \\u0445\\u0440 \\u044d\",\"\\u0431\\u0435\\u0441\\u043f\\u043b\\u043e\\u0434\\u0438\\u0435    \\u0441\\u043c\\u0435\\u0448\\u0430\\u043d\\u043d\\u043e\\u0435  \\u0430\\u043d\\u043e\\u0432\\u0443\\u043b\\u044f\\u0442\\u043e\\u0440\\u043d\\u043e\\u0435 \\u043c\\u0443\\u0436\\u0441\\u043a\\u043e\\u0439 \\u0444\\u0430\\u043a\\u0442\",\"\\u0431\\u0435\\u0441\\u043f\\u043b\\u043e\\u0434\\u0438\\u0435     \\u043f\\u0435\\u0440\\u0432\\u0438\\u0447\\u043d\\u0430\\u044f \\u043e\\u043b\\u0438\\u0433\\u043e\\u043c\\u0435\\u043d\\u043e\\u0440\\u0440\\u0435\\u044f        \\u0430\\u043d\\u043e\\u0432\\u0443\",\"\\u0431\\u0435\\u0441\\u043f\\u043b\\u043e\\u0434\\u0438\\u0435    \\u043e\\u0431\\u0443\\u0441\\u043b\\u043e\\u0432\\u043b\\u0435\\u043d\\u043d\\u043e\\u0435 \\u044d\\u043d\\u0434\\u043e\\u043c\\u0435\\u0442\\u0440\\u0438\\u043e\\u0437\\u043e\\u043c  \\u043d\\u0433\\u044d     \",\"\\u0431\\u0435\\u0441\\u043f\\u043b\\u043e\\u0434\\u0438\\u0435           \\u0434\\u0440\\u0443\\u0433\\u0438\\u0435 \\u0444\\u043e\\u0440\\u043c\\u044b \\u0436\\u0435\\u043d\\u0441\\u043a\\u043e\\u0433\\u043e \\u0431\\u0435\\u0441\\u043f\\u043b\\u043e\\u0434\\u0438\",\"\\u0431\\u0435\\u0441\\u043f\\u043b\\u043e\\u0434\\u0438\\u0435   \\u043c\\u0443\\u0436\\u0441\\u043a\\u043e\\u0439 \\u0444\\u0430\\u043a\\u0442\\u043e\\u0440  \\u0433\\u0438\\u043f\\u0435\\u0440\\u043f\\u0440\\u043e\\u043b\\u0430\\u043a\\u0442\\u0438\\u043d\\u0435\\u043c\\u0438\\u044f    \",\"\\u0431\\u0435\\u0441\\u043f\\u043b\\u043e\\u0434\\u0438\\u0435           \\u0436\\u0435\\u043d\\u0441\\u043a\\u043e\\u0435 \\u0431\\u0435\\u0441\\u043f\\u043b\\u043e\\u0434\\u0438\\u0435  \\u043e\\u0431\\u0443\\u0441\\u043b\\u043e\\u0432\\u043b\\u0435\\u043d\\u043d\",\"\\u0431\\u0435\\u0441\\u043f\\u043b\\u043e\\u0434\\u0438\\u0435    \\u043e\\u0431\\u0443\\u0441\\u043b\\u043e\\u0432\\u043b\\u0435\\u043d\\u043d\\u043e\\u0435 \\u044d\\u043d\\u0434\\u043e\\u043c\\u0435\\u0442\\u0440\\u0438\\u043e\\u0437\\u043e\\u043c  \\u043d\\u0433\\u044d  \\u044d\\u043d\\u0434\",\"\\u0431\\u0435\\u0441\\u043f\\u043b\\u043e\\u0434\\u0438\\u0435    \\u0441\\u0432\\u044f\\u0437\\u0430\\u043d\\u043d\\u043e\\u0435 \\u0441 \\u043c\\u0443\\u0436\\u0441\\u043a\\u0438\\u043c\\u0438 \\u0444\\u0430\\u043a\\u0442\\u043e\\u0440\\u0430\\u043c\\u0438       \",\"\\u0431\\u0435\\u0441\\u043f\\u043b\\u043e\\u0434\\u0438\\u0435     \\u0436\\u0435\\u043d\\u0441\\u043a\\u043e\\u0435 \\u0431\\u0435\\u0441\\u043f\\u043b\\u043e\\u0434\\u0438\\u0435 \\u043d\\u0435\\u0443\\u0442\\u043e\\u0447\\u043d\\u0435\\u043d\\u043d\\u043e\\u0435      \",\"\\u0431\\u0435\\u0441\\u043f\\u043b\\u043e\\u0434\\u0438\\u0435          \\u043d\\u0433\\u044d                    \\u0433      \\u0433\",\"\\u0431\\u0435\\u0441\\u043f\\u043b\\u043e\\u0434\\u0438\\u0435    \\u043d\\u0435\\u0443\\u0442\\u043e\\u0447\\u043d\\u0435\\u043d\\u043d\\u043e\\u0435       \",\"\\u0431\\u0435\\u0441\\u043f\\u043b\\u043e\\u0434\\u0438\\u0435     \\u043d\\u0433\\u044d         \\u043f\\u0440\\u0438\\u0432\\u044b\\u0447\\u043d\\u043e\\u0435 \\u043d\\u0435\\u0432\\u044b\\u043d\\u0430\\u0448\\u0438\\u0432\\u0430\\u043d\\u0438\\u0435 \",\"\\u0431\\u0435\\u0441\\u043f\\u043b\\u043e\\u0434\\u0438\\u0435    \\u043d\\u0435\\u044f\\u0441\\u043d\\u043e\\u0433\\u043e \\u0433\\u0435\\u043d\\u0435\\u0437\\u0430       \\u0445\\u0440\\u043e\\u043d\\u0438\\u0447\\u0435\\u0441\\u043a\\u0438\\u0439 \\u0441\\u0430\\u043b\",\"\\u0431\\u0435\\u0441\\u043f\\u043b\\u043e\\u0434\\u0438\\u0435    \\u043d\\u0433\\u044d    \\u043a\\u043e\\u043c\\u0431\\u0438\\u043d\\u0438\\u0440\\u043e\\u0432\\u0430\\u043d\\u043d\\u043e\\u0435 \\u043b\\u0435\\u0447\\u0435\\u043d\\u0438\\u0435  \\u0434\\u0438\\u0435\\u043d\\u043e\",\"\\u0431\\u0435\\u0441\\u043f\\u043b\\u043e\\u0434\\u0438\\u0435   \\u0445\\u0440\\u043e\\u043d\\u0438\\u0447\\u0435\\u0441\\u043a\\u0438\\u0439 \\u0441\\u0430\\u043b\\u044c\\u043f\\u0438\\u043d\\u0433\\u043e\\u043e\\u0444\\u043e\\u0440\\u0438\\u0442        \\u0445\\u0440\\u043e\",\"\\u0431\\u0435\\u0441\\u043f\\u043b\\u043e\\u0434\\u0438\\u0435    \\u043c\\u0443\\u0436\\u0441\\u043a\\u043e\\u0439 \\u0444\\u0430\\u043a\\u0442\\u043e\\u0440      \",\"\\u0431\\u0435\\u0441\\u043f\\u043b\\u043e\\u0434\\u0438\\u0435    \\u0442\\u0443\\u0431\\u043d\\u043e\\u0435        \\u043e\\u0433\\u0430   \\u0445 \\u0441\\u0442\\u043e\\u0440\\u043e\\u043d\\u043d\\u044f\\u044f \\u0442\\u0443\\u0431\\u044d\\u043a\",\"\\u0431\\u0435\\u0441\\u043f\\u043b\\u043e\\u0434\\u0438\\u0435    \\u043d\\u0433\\u044d   \\u0441\\u0442  \\u043a\\u043e\\u043c\\u0431\\u0438\\u043d\\u0438\\u0440  \\u043b\\u0435\\u0447\\u0435\\u043d\\u0438\\u0435  \\u0432\\u0438\\u0437\\u0430\\u043d\\u043d\\u0430 \",\"\\u0431\\u0435\\u0441\\u043f\\u043b\\u043e\\u0434\\u0438\\u0435          \\u0436\\u0435\\u043d\\u0441\\u043a\\u043e\\u0435 \\u0431\\u0435\\u0441\\u043f\\u043b\\u043e\\u0434\\u0438\\u0435  \\u0442\\u0440\\u0443\\u0431\\u043d\\u043e \\u043f\\u0435\\u0440\\u0438\\u0442\",\"\\u0431\\u0435\\u0441\\u043f\\u043b\\u043e\\u0434\\u0438\\u0435     \\u0441\\u043e\\u0447\\u0435\\u0442\\u0430\\u043d\\u043d\\u043e\\u0435  \\u0442\\u0440\\u0443\\u0431\\u043d\\u043e \\u043f\\u0435\\u0440\\u0438\\u0442\\u043e\\u043d\\u0435\\u0430\\u043b\\u044c\\u043d\\u043e\\u0435  \\u043c\",\"\\u0431\\u0435\\u0441\\u043f\\u043b\\u043e\\u0434\\u0438\\u0435     \\u043d\\u0435\\u0443\\u0442\\u043e\\u0447\\u043d\\u0435\\u043d\\u043d\\u043e\\u0435 \",\"\\u0431\\u0435\\u0441\\u043f\\u043b\\u043e\\u0434\\u0438\\u0435    \\u043e\\u0431\\u0443\\u0441\\u043b\\u043e\\u0432\\u043b\\u0435\\u043d\\u043d\\u043e\\u0435 \\u044d\\u043d\\u0434\\u043e\\u043c\\u0435\\u0442\\u0440\\u0438\\u043e\\u0437\\u043e\\u043c  \\u043d\\u0433\\u044d  \\u044d\\u043d\\u0434\",\"\\u0431\\u0435\\u0441\\u043f\\u043b\\u043e\\u0434\\u0438\\u0435    \\u043c\\u0443\\u0436\\u0441\\u043a\\u043e\\u0439 \\u0444\\u0430\\u043a\\u0442\\u043e\\u0440        \\u043d\\u0435\\u0443\\u0434\\u0430\\u0447\\u0438 \\u044d\\u043a\\u043e \",\"\\u0431\\u0435\\u0441\\u043f\\u043b\\u043e\\u0434\\u0438\\u0435          \\u0436\\u0435\\u043d\\u0441\\u043a\\u043e\\u0435 \\u0431\\u0435\\u0441\\u043f\\u043b\\u043e\\u0434\\u0438\\u0435 \\u0442\\u0440\\u0443\\u0431\\u043d\\u043e \\u043f\\u0435\\u0440\\u0438\\u0442\\u043e\",\"\\u0431\\u0435\\u0441\\u043f\\u043b\\u043e\\u0434\\u0438\\u0435     \\u0442\\u0440\\u0443\\u0431\\u043d\\u043e\\u0433\\u043e \\u043f\\u0440\\u043e\\u0438\\u0441\\u0445\\u043e\\u0436\\u0434\\u0435\\u043d\\u0438\\u044f              \",\"\\u0431\\u0435\\u0441\\u043f\\u043b\\u043e\\u0434\\u0438\\u0435           \\u0436\\u0435\\u043d\\u0441\\u043a\\u043e\\u0435 \\u0431\\u0435\\u0441\\u043f\\u043b\\u043e\\u0434\\u0438\\u0435 \\u0442\\u0440\\u0443\\u0431\\u043d\\u043e \\u043f\\u0435\\u0440\\u0438\\u0442\",\"\\u0431\\u0435\\u0441\\u043f\\u043b\\u043e\\u0434\\u0438\\u0435    \\u043c\\u0443\\u0436\\u0441\\u043a\\u043e\\u0439 \\u0444\\u0430\\u043a\\u0442\\u043e\\u0440         \\u043e\\u0433\\u0430  \\u0440\\u0435\\u0437\\u0435\\u043a\\u0446\\u0438\\u044f \",\"\\u0431\\u0435\\u0441\\u043f\\u043b\\u043e\\u0434\\u0438\\u0435 \\u0432\\u0442\\u043e\\u0440\\u0438\\u0447\\u043d\\u043e\\u0435        \\u0436\\u0435\\u043d\\u0441\\u043a\\u043e\\u0435 \\u0431\\u0435\\u0441\\u043f\\u043b\\u043e\\u0434\\u0438\\u0435 \\u0442\\u0440\\u0443\\u0431\\u043d\",\"\\u0431\\u0435\\u0441\\u043f\\u043b\\u043e\\u0434\\u0438\\u0435     \\u0442\\u0440\\u0443\\u0431\\u043d\\u043e \\u043f\\u0435\\u0440\\u0438\\u0442\\u043e\\u043d\\u0435\\u0430\\u043b\\u044c\\u043d\\u043e\\u0435  \\u0430\\u0431\\u0441\\u043e\\u043b\\u044e\\u0442\\u043d\\u043e \\u0442\\u0440\\u0443\",\"\\u0431\\u0435\\u0441\\u043f\\u043b\\u043e\\u0434\\u0438\\u0435    \\u0441\\u0432\\u044f\\u0437\\u0430\\u043d\\u043d\\u043e\\u0435 \\u0441 \\u043c\\u0443\\u0436\\u0441\\u043a\\u0438\\u043c\\u0438 \\u0444\\u0430\\u043a\\u0442\\u043e\\u0440\\u0430\\u043c\\u0438       \",\"\\u0431\\u0435\\u0441\\u043f\\u043b\\u043e\\u0434\\u0438\\u0435    \\u043c\\u0443\\u0436\\u0441\\u043a\\u043e\\u0439 \\u0444\\u0430\\u043a\\u0442\\u043e\\u0440        \\u0430\\u0437\\u043e\\u043e\\u0441\\u043f\\u0435\\u0440\\u043c\\u0438\\u044f  \\u043f\\u0440\",\"\\u0431\\u0435\\u0441\\u043f\\u043b\\u043e\\u0434\\u0438\\u0435    \\u0441\\u043b\\u043e\\u0436\\u043d\\u043e\\u0435        \\u0436\\u0435\\u043d\\u0441\\u043a\\u043e\\u0435 \\u0431\\u0435\\u0441\\u043f\\u043b\\u043e\\u0434\\u0438\\u0435 \\u0442\\u0440\\u0443\\u0431\",\"\\u0431\\u0435\\u0441\\u043f\\u043b\\u043e\\u0434\\u0438\\u0435     \\u043d\\u0433\\u044d   \\u0441\\u0442              \\u043a\\u043e\\u043c\\u0431\\u0438\\u043d\\u0438\\u0440\\u043e\\u0432\\u0430\\u043d\\u043d\\u0430\",\"\\u0431\\u0435\\u0441\\u043f\\u043b\\u043e\\u0434\\u0438\\u0435     \\u043c\\u0443\\u0436\\u0441\\u043a\\u043e\\u0439 \\u0444\\u0430\\u043a\\u0442\\u043e\\u0440       \\u0438\\u0437\\u0431\\u044b\\u0442\\u043e\\u0447\\u043d\\u0430\\u044f \\u043c\\u0430\\u0441\\u0441\",\"\\u0431\\u0435\\u0441\\u043f\\u043b\\u043e\\u0434\\u0438\\u0435     \\u0441\\u043e\\u0447\\u0435\\u0442\\u0430\\u043d\\u043d\\u043e\\u0435  \\u0430\\u0431\\u0441\\u043e\\u043b\\u044e\\u0442\\u043d\\u043e\\u0435 \\u0442\\u0440\\u0443\\u0431\\u043d\\u043e\\u0435  \\u043e\\u0431\\u0443\\u0441\",\"\\u0431\\u0435\\u0441\\u043f\\u043b\\u043e\\u0434\\u0438\\u0435   \\u0442\\u0440\\u0443\\u0431\\u043d\\u043e\\u0433\\u043e \\u043f\\u0440\\u043e\\u0438\\u0441\\u0445\\u043e\\u0436\\u0434\\u0435\\u043d\\u0438\\u044f        \\u0430\\u0438\\u0442  \\u0443\\u0437\\u043b\",\"\\u0431\\u0435\\u0441\\u043f\\u043b\\u043e\\u0434\\u0438\\u0435    \\u043e\\u0431\\u0443\\u0441\\u043b\\u043e\\u0432\\u043b\\u0435\\u043d\\u043d\\u043e\\u0435 \\u043c\\u0443\\u0436\\u0441\\u043a\\u0438\\u043c \\u0444\\u0430\\u043a\\u0442\\u043e\\u0440\\u043e\\u043c       \",\"\\u0431\\u0435\\u0441\\u043f\\u043b\\u043e\\u0434\\u0438\\u0435           \\u0436\\u0435\\u043d\\u0441\\u043a\\u043e\\u0435 \\u0431\\u0435\\u0441\\u043f\\u043b\\u043e\\u0434\\u0438\\u0435 \\u0442\\u0440\\u0443\\u0431\\u043d\\u043e \\u043f\\u0435\\u0440\\u0438\\u0442\",\"\\u0431\\u0435\\u0441\\u043f\\u043b\\u043e\\u0434\\u0438\\u0435     \\u0445\\u0440\\u043e\\u043d\\u0438\\u0447\\u0435\\u0441\\u043a\\u0438\\u0439 \\u0441\\u0430\\u043b\\u044c\\u043f\\u0438\\u043d\\u0433\\u043e\\u043e\\u0444\\u043e\\u0440\\u0438\\u0442        \\u043c\",\"\\u0431\\u0435\\u0441\\u043f\\u043b\\u043e\\u0434\\u0438\\u0435   \\u0441\\u043e\\u0447\\u0435\\u0442\\u0430\\u043d\\u043d\\u043e\\u0435        \\u0436\\u0435\\u043d\\u0441\\u043a\\u043e\\u0435 \\u0431\\u0435\\u0441\\u043f\\u043b\\u043e\\u0434\\u0438\\u0435 \\u0442\\u0440\",\"\\u0431\\u0435\\u0441\\u043f\\u043b\\u043e\\u0434\\u0438\\u0435     \\u043e\\u0433\\u0430  \\u043d\\u0433\\u044d  \\u0441\\u0442  \\u043a\\u043e\\u043c\\u0431 \\u043b\\u0435\\u0447\\u0435\\u043d\\u0438\\u0435 \\u0432 \\u0430\\u043d \\u0437\\u0435  \",\"\\u0431\\u0435\\u0441\\u043f\\u043b\\u043e\\u0434\\u0438\\u0435           \\u0436\\u0435\\u043d\\u0441\\u043a\\u043e\\u0435 \\u0431\\u0435\\u0441\\u043f\\u043b\\u043e\\u0434\\u0438\\u0435  \\u043e\\u0431\\u0443\\u0441\\u043b\\u043e\\u0432\\u043b\\u0435\\u043d\\u043d\",\"\\u0431\\u0435\\u0441\\u043f\\u043b\\u043e\\u0434\\u0438\\u0435          \\u0434\\u0440\\u0443\\u0433\\u0438\\u0435 \\u0444\\u043e\\u0440\\u043c\\u044b \\u0436\\u0435\\u043d\\u0441\\u043a\\u043e\\u0433\\u043e \\u0431\\u0435\\u0441\\u043f\\u043b\\u043e\\u0434\\u0438\\u044f\",\"\\u0431\\u0435\\u0441\\u043f\\u043b\\u043e\\u0434\\u0438\\u0435     \\u0442\\u0440\\u0443\\u0431\\u043d\\u043e\\u0433\\u043e \\u043f\\u0440\\u043e\\u0438\\u0441\\u0445\\u043e\\u0436\\u0434\\u0435\\u043d\\u0438\\u044f        \\u0444\\u0430\\u043c  \\u043f\",\"\\u0431\\u0435\\u0441\\u043f\\u043b\\u043e\\u0434\\u0438\\u0435    \\u043d\\u0433\\u044d               \\u043c\\u0438\\u043e\\u043c\\u0430 \\u043c\\u0430\\u0442\\u043a\\u0438      \\u043f\\u043e\",\"\\u0431\\u0435\\u0441\\u043f\\u043b\\u043e\\u0434\\u0438\\u0435    \\u0442\\u0440\\u0443\\u0431\\u043d\\u043e\\u0433\\u043e \\u043f\\u0440\\u043e\\u0438\\u0441\\u0445\\u043e\\u0436\\u0434\\u0435\\u043d\\u0438\\u044f  \\u043f\\u0440\\u0438\\u043e\\u0431\\u0440\\u0435\\u0442\\u0435\\u043d\\u043d\\u043e\\u0435\",\"\\u0431\\u0435\\u0441\\u043f\\u043b\\u043e\\u0434\\u0438\\u0435    \\u043d\\u0433\\u044d  \\u0440\\u0435\\u0446\\u0438\\u0434\\u0438\\u0432  \\u043a\\u0438\\u0441\\u0442\\u044b \\u043f\\u0440\\u0430\\u0432\\u043e\\u0433\\u043e \\u044f\\u0438\\u0447\\u043d\\u0438\\u043a\\u0430  \",\"\\u0431\\u0435\\u0441\\u043f\\u043b\\u043e\\u0434\\u0438\\u0435           \\u0436\\u0435\\u043d\\u0441\\u043a\\u043e\\u0435 \\u0431\\u0435\\u0441\\u043f\\u043b\\u043e\\u0434\\u0438\\u0435 \\u0442\\u0440\\u0443\\u0431\\u043d\\u043e \\u043f\\u0435\\u0440\\u0438\\u043e\",\"\\u0431\\u0435\\u0441\\u043f\\u043b\\u043e\\u0434\\u0438\\u0435          \\u0436\\u0435\\u043d\\u0441\\u043a\\u043e\\u0435 \\u0431\\u0435\\u0441\\u043f\\u043b\\u043e\\u0434\\u0438\\u0435 \\u0442\\u0440\\u0443\\u0431\\u043d\\u043e \\u043f\\u0435\\u0440\\u0438\\u0442\\u043e\",\"\\u0431\\u0435\\u0441\\u043f\\u043b\\u043e\\u0434\\u0438\\u0435          \\u0436\\u0435\\u043d\\u0441\\u043a\\u043e\\u0435 \\u0431\\u0435\\u0441\\u043f\\u043b\\u043e\\u0434\\u0438\\u0435 \\u043d\\u0435\\u0443\\u0442\\u043e\\u0447\\u043d\\u0435\\u043d\\u043d\\u043e\\u0435 \",\"\\u0431\\u0435\\u0441\\u043f\\u043b\\u043e\\u0434\\u0438\\u0435     \\u043f\\u043e\\u0437\\u0434\\u043d\\u0438\\u0439 \\u0440\\u0435\\u043f\\u0440\\u043e\\u0434\\u0443\\u043a\\u0442\\u0438\\u0432\\u043d\\u044b\\u0439 \\u0432\\u043e\\u0437\\u0440\\u0430\\u0441\\u0442  \\u0434\\u043d\\u0437 \",\"\\u0431\\u0435\\u0441\\u043f\\u043b\\u043e\\u0434\\u0438\\u0435     \\u043c\\u0443\\u0436\\u0441\\u043a\\u043e\\u0439 \\u0444\\u0430\\u043a\\u0442\\u043e\\u0440      \",\"\\u0431\\u0435\\u0441\\u043f\\u043b\\u043e\\u0434\\u0438\\u0435     \\u0445\\u0440 \\u0441\\u0430\\u043b\\u044c\\u043f\\u0438\\u043d\\u0433\\u043e\\u043e\\u0444\\u043e\\u0440\\u0438\\u0442  \\u0430\\u0441\\u0442\\u0435\\u043d\\u043e\\u0437\\u043e\\u043e\\u0441\\u043f\\u0435\\u0440\\u043c\\u0438\\u044f\",\"\\u0431\\u0435\\u0441\\u043f\\u043b\\u043e\\u0434\\u0438\\u0435           \\u043d\\u0433\\u044d   \\u0445\\u0438\\u0440\\u0443\\u0440\\u0433\\u0438\\u0447\\u0435\\u0441\\u043a\\u043e\\u0435 \\u043b\\u0435\\u0447\\u0435\\u043d\\u0438\\u0435 \\u0432 \",\"\\u0431\\u0435\\u0441\\u043f\\u043b\\u043e\\u0434\\u0438\\u0435    \\u043a\\u043e\\u043c\\u0431\\u0438\\u043d\\u0438\\u0440\\u043e\\u0432\\u0430\\u043d\\u043d\\u043e\\u0435   \\u043d\\u0430\\u0440\\u0443\\u0436\\u043d\\u044b\\u0439 \\u0433\\u0435\\u043d\\u0438\\u0442\\u0430\\u043b\\u044c\\u043d\\u044b\",\"\\u0431\\u0435\\u0441\\u043f\\u043b\\u043e\\u0434\\u0438\\u0435           \\u0434\\u0440\\u0443\\u0433\\u0438\\u0435 \\u0444\\u043e\\u0440\\u043c\\u044b \\u0436\\u0435\\u043d\\u0441\\u043a\\u043e\\u0433\\u043e \\u0431\\u0435\\u0441\\u043f\\u043b\\u043e\\u0434\\u0438\",\"\\u0431\\u0435\\u0441\\u043f\\u043b\\u043e\\u0434\\u0438\\u0435   \\u0442\\u0440\\u0443\\u0431\\u043d\\u043e\\u0435  \\u043e\\u0433\\u0430 \\u0430\\u0434\\u043d\\u0435\\u043a\\u0441\\u0435\\u043a\\u0442\\u043e\\u043c\\u0438\\u044f \\u0441\\u043b\\u0435\\u0432\\u0430 \\u0442\\u0443\\u0431\\u044d\\u043a\",\"\\u0431\\u0435\\u0441\\u043f\\u043b\\u043e\\u0434\\u0438\\u0435          \\u0436\\u0435\\u043d\\u0441\\u043a\\u043e\\u0435 \\u0431\\u0435\\u0441\\u043f\\u043b\\u043e\\u0434\\u0438\\u0435 \\u0442\\u0440\\u0443\\u0431\\u043d\\u043e \\u043f\\u0435\\u0440\\u0438\\u0442\\u043e\",\"\\u0431\\u0435\\u0441\\u043f\\u043b\\u043e\\u0434\\u0438\\u0435     \\u043f\\u0440\\u0438\\u043e\\u0431\\u0440\\u0435\\u0442\\u0435\\u043d\\u043d\\u043e\\u0435 \\u043e\\u0442\\u0441\\u0443\\u0442\\u0441\\u0442\\u0432\\u0438\\u0435 \\u043e\\u0440\\u0433\\u0430\\u043d\\u0430    \\u0441\",\"\\u0431\\u0435\\u0441\\u043f\\u043b\\u043e\\u0434\\u0438\\u0435    \\u0441\\u043d\\u0438\\u0436\\u0435\\u043d\\u0438\\u0435 \\u043e\\u0432\\u0430\\u0440\\u0438\\u0430\\u043b\\u044c\\u043d\\u043e\\u0433\\u043e \\u0440\\u0435\\u0437\\u0435\\u0440\\u0432\\u0430  \\u043f\\u043e\\u0437\\u0434\\u043d\\u0438\",\"\\u0431\\u0435\\u0441\\u043f\\u043b\\u043e\\u0434\\u0438\\u0435     \\u043e\\u0431\\u0443\\u0441\\u043b\\u043e\\u0432\\u043b\\u0435\\u043d\\u043d\\u043e\\u0435 \\u044d\\u043d\\u0434\\u043e\\u043c\\u0435\\u0442\\u0440\\u0438\\u043e\\u0437\\u043e\\u043c  \\u043d\\u0433\\u044d  \\u044d\\u043d\",\"\\u0431\\u0435\\u0441\\u043f\\u043b\\u043e\\u0434\\u0438\\u0435    \\u043d\\u0435\\u0443\\u0442\\u043e\\u0447\\u043d\\u0435\\u043d\\u043d\\u043e\\u0435 \",\"\\u0431\\u0435\\u0441\\u043f\\u043b\\u043e\\u0434\\u0438\\u0435 \\u0432\\u0442\\u043e\\u0440\\u0438\\u0447\\u043d\\u043e\\u0435   \\u0445\\u0440\\u043e\\u043d\\u0438\\u0447\\u0435\\u0441\\u043a\\u0438\\u0439 \\u0441\\u0430\\u043b\\u044c\\u043f\\u0438\\u043d\\u0433\\u043e\\u043e\\u0444\\u043e\\u0440\\u0438\\u0442 \",\"\\u0431\\u0435\\u0441\\u043f\\u043b\\u043e\\u0434\\u0438\\u0435   \\u0445\\u0440\\u043e\\u043d\\u0438\\u0447\\u0435\\u0441\\u043a\\u0438\\u0439 \\u044d\\u043d\\u0434\\u043e\\u043c\\u0435\\u0442\\u0440\\u0438\\u0442        \\u043c\\u0438\\u043e\\u043c\\u0430 \\u043c\\u0430\",\"\\u0431\\u0435\\u0441\\u043f\\u043b\\u043e\\u0434\\u0438\\u0435    \\u0442\\u0440\\u0443\\u0431\\u043d\\u043e\\u0433\\u043e \\u043f\\u0440\\u043e\\u0438\\u0441\\u0445\\u043e\\u0436\\u0434\\u0435\\u043d\\u0438\\u044f        \\u043f\\u0440\\u0438\\u043e\\u0431\\u0440\\u0435\",\"\\u0431\\u0435\\u0441\\u043f\\u043b\\u043e\\u0434\\u0438\\u0435    \\u0442\\u0440\\u0443\\u0431\\u043d\\u043e \\u043f\\u0435\\u0440\\u0438\\u0442\\u043e\\u043d\\u0435\\u0430\\u043b\\u044c\\u043d\\u043e\\u0435  \\u0445\\u0440\\u043e\\u043d\\u0438\\u0447\\u0435\\u0441\\u043a\\u0438\\u0439 \\u043b\\u0435\",\"\\u0431\\u0435\\u0441\\u043f\\u043b\\u043e\\u0434\\u0438\\u0435    \\u0441\\u0432\\u044f\\u0437\\u0430\\u043d\\u043d\\u043e\\u0435 \\u0441 \\u043c\\u0443\\u0436\\u0441\\u043a\\u0438\\u043c \\u0444\\u0430\\u043a\\u0442\\u043e\\u0440\\u043e\\u043c        \",\"\\u0431\\u0435\\u0441\\u043f\\u043b\\u043e\\u0434\\u0438\\u0435    \\u0441\\u043d\\u0438\\u0436\\u0435\\u043d\\u0438\\u0435 \\u043e\\u0432\\u0430\\u0440\\u0438\\u0430\\u043b\\u044c\\u043d\\u043e\\u0433\\u043e \\u0440\\u0435\\u0437\\u0435\\u0440\\u0432\\u0430  \\u0433\\u0438\\u043f\\u0435\\u0440\\u043f\",\"\\u0431\\u0435\\u0441\\u043f\\u043b\\u043e\\u0434\\u0438\\u0435    \\u0445\\u0440\\u043e\\u043d\\u0438\\u0447\\u0435\\u0441\\u043a\\u0438\\u0439 \\u0441\\u0430\\u043b\\u044c\\u043f\\u0438\\u043d\\u0433\\u043e\\u043e\\u0444\\u043e\\u0440\\u0438\\u0442        \\u043f\\u0435\",\"\\u0431\\u0435\\u0441\\u043f\\u043b\\u043e\\u0434\\u0438\\u0435    \\u0442\\u0440\\u0443\\u0431\\u043d\\u043e \\u043f\\u0435\\u0440\\u0438\\u0442\\u043e\\u043d\\u0435\\u0430\\u043b\\u044c\\u043d\\u043e\\u0435        \\u043c\\u0438\\u043e\\u043c\\u0430 \\u043c\\u0430\",\"\\u0431\\u0435\\u0441\\u043f\\u043b\\u043e\\u0434\\u0438\\u0435     \\u043c\\u0443\\u0436\\u0441\\u043a\\u043e\\u0439 \\u0444\\u0430\\u043a\\u0442\\u043e\\u0440        \\u0438\\u0437\\u0431\\u044b\\u0442\\u043e\\u0447\\u043d\\u0430\\u044f \\u043c\\u0430\\u0441\",\"\\u0431\\u0435\\u0441\\u043f\\u043b\\u043e\\u0434\\u0438\\u0435    \\u0441\\u043e\\u0447\\u0435\\u0442\\u0430\\u043d\\u043d\\u043e\\u0435  \\u043e\\u0431\\u0441\\u0443\\u0434\\u043b\\u0432\\u043b\\u0435\\u043d\\u043d\\u043e\\u0435 \\u044d\\u043d\\u0434\\u043e\\u043c\\u0435\\u0442\\u0440\\u0438\\u043e\\u0437\",\"\\u0431\\u0435\\u0441\\u043f\\u043b\\u043e\\u0434\\u0438\\u0435    \\u043d\\u0435\\u0443\\u0442\\u043e\\u0447\\u043d\\u0435\\u043d\\u043d\\u043e\\u0435  \\u043c\\u0438\\u043e\\u043c\\u0430 \\u043c\\u0430\\u0442\\u043a\\u0438     \",\"\\u0431\\u0435\\u0441\\u043f\\u043b\\u043e\\u0434\\u0438\\u0435     \\u0441\\u0432\\u044f\\u0437\\u0430\\u043d\\u043d\\u043e\\u0435 \\u0441 \\u043c\\u0443\\u0436\\u0441\\u043a\\u0438\\u043c\\u0438 \\u0444\\u0430\\u0442\\u043e\\u0440\\u0430\\u043c\\u0438       \",\"\\u0431\\u0435\\u0441\\u043f\\u043b\\u043e\\u0434\\u0438\\u0435    \\u0441\\u043e\\u0447\\u0435\\u0442\\u0430\\u043d\\u043d\\u043e\\u0435  \\u0442\\u0440\\u0443\\u0431\\u043d\\u043e \\u043f\\u0435\\u0440\\u0438\\u0442\\u043e\\u043d\\u0435\\u0430\\u043b\\u044c\\u043d\\u043e\\u0435  \\u044d\\u043d\",\"\\u0431\\u0435\\u0441\\u043f\\u043b\\u043e\\u0434\\u0438\\u0435          \\u0436\\u0435\\u043d\\u0441\\u043a\\u043e\\u0435 \\u0431\\u0435\\u0441\\u043f\\u043b\\u043e\\u0434\\u0438\\u0435  \\u0442\\u0440\\u0443\\u0431\\u043d\\u043e \\u043f\\u0435\\u0440\\u0438\\u0442\",\"\\u0431\\u0435\\u0441\\u043f\\u043b\\u043e\\u0434\\u0438\\u0435     \\u043c\\u0443\\u0436\\u0441\\u043a\\u043e\\u0439 \\u0444\\u0430\\u043a\\u0442\\u043e\\u0440        \\u043d\\u0435\\u0432\\u044b\\u043d\\u0430\\u0448\\u0438\\u0432\\u0430\\u043d\\u0438\\u0435 \",\"\\u0431\\u0435\\u0441\\u043f\\u043b\\u043e\\u0434\\u0438\\u0435          \\u0434\\u0440\\u0443\\u0433\\u0438\\u0435 \\u0444\\u043e\\u0440\\u043c\\u044b \\u0436\\u0435\\u043d\\u0441\\u043a\\u043e\\u0433\\u043e \\u0431\\u0435\\u0441\\u043f\\u043b\\u043e\\u0434\\u0438\\u044f\",\"\\u0431\\u0435\\u0441\\u043f\\u043b\\u043e\\u0434\\u0438\\u0435          \\u0436\\u0435\\u043d\\u0441\\u043a\\u043e\\u0435 \\u0431\\u0435\\u0441\\u043f\\u043b\\u043e\\u0434\\u0438\\u0435  \\u043e\\u0431\\u0443\\u0441\\u043b\\u043e\\u0432\\u043b\\u0435\\u043d\\u043d\\u043e\",\"\\u0431\\u0435\\u0441\\u043f\\u043b\\u043e\\u0434\\u0438\\u0435    \\u043e\\u0431\\u0443\\u0441\\u043b\\u043e\\u0432\\u043b\\u0435\\u043d\\u043d\\u043e\\u0435 \\u044d\\u043d\\u0434\\u043e\\u043c\\u0435\\u0442\\u0440\\u0438\\u043e\\u0437\\u043e\\u043c  \\u043d\\u0433\\u044d    \\u044d\",\"\\u0431\\u0435\\u0441\\u043f\\u043b\\u043e\\u0434\\u0438\\u0435     \\u043d\\u0435\\u0443\\u0442\\u043e\\u0447\\u043d\\u0435\\u043d\\u043d\\u043e\\u0435   \\u043c\\u0438\\u043e\\u043c\\u0430 \\u043c\\u0430\\u0442\\u043a\\u0438       \\u0430\\u0434\\u0435\",\"\\u0431\\u0435\\u0441\\u043f\\u043b\\u043e\\u0434\\u0438\\u0435   \\u0445\\u0440\\u043e\\u043d\\u0438\\u0447\\u0435\\u0441\\u043a\\u0438\\u0439 \\u044d\\u043d\\u0434\\u043e\\u043c\\u0435\\u0442\\u0440\\u0438\\u0442 \\u0438 \\u043f\\u0438\\u043e\\u043b\\u0438\\u043f \\u044d\\u043d\\u0434\\u043e\\u043c\\u0435\",\"\\u0431\\u0435\\u0441\\u043f\\u043b\\u043e\\u0434\\u0438\\u0435          \\u0431\\u0435\\u0441\\u043f\\u043b\\u043e\\u0434\\u0438\\u0435 \\u0436\\u0435\\u043d\\u0441\\u043a\\u043e\\u0435 \\u043d\\u0435\\u0443\\u0442\\u043e\\u0447\\u043d\\u0435\\u043d\\u043d\\u043e\\u0435 \",\"\\u043d\\u0435\\u0442\",\"\\u0431\\u0435\\u0441\\u043f\\u043b\\u043e\\u0434\\u0438\\u0435    \\u0445\\u0440\\u043e\\u043d\\u0438\\u0447\\u0435\\u0441\\u043a\\u0438\\u0439 \\u0441\\u0430\\u043b\\u044c\\u043f\\u0438\\u043d\\u0433\\u043e\\u043e\\u0444\\u043e\\u0440\\u0438\\u0442        \\u0445\\u0440\",\"\\u0431\\u0435\\u0441\\u043f\\u043b\\u043e\\u0434\\u0438\\u0435   \\u043c\\u0443\\u0436\\u0441\\u043a\\u043e\\u0439 \\u0444\\u0430\\u043a\\u0442\\u043e\\u0440  \\u043e\\u0430\\u0430  \\u0440\\u0435\\u0437\\u0443\\u0441 \\u043e\\u0442\\u0440\\u0438\\u0446\\u0430\\u0442\\u0435\\u043b\\u044c\\u043d\",\"\\u0431\\u0435\\u0441\\u043f\\u043b\\u043e\\u0434\\u0438\\u0435    \\u0442\\u0440\\u0443\\u0431\\u043d\\u043e \\u043f\\u0435\\u0440\\u0438\\u0442\\u043e\\u043d\\u0435\\u0430\\u043b\\u044c\\u043d\\u043e\\u0435  \\u0430\\u0431\\u0441\\u043e\\u043b\\u044e\\u0442\\u043d\\u043e \\u0442\\u0440\\u0443\\u0431\",\"\\u0431\\u0435\\u0441\\u043f\\u043b\\u043e\\u0434\\u0438\\u0435          \\u0436\\u0435\\u043d\\u0441\\u043a\\u043e\\u0435 \\u0442\\u0440\\u0443\\u0431\\u0433\\u043d\\u043e \\u043f\\u0435\\u0440\\u0438\\u0442\\u043e\\u043d\\u0435\\u0430\\u043b\\u044c\\u043d\\u043e\\u0435 \",\"\\u0431\\u0435\\u0441\\u043f\\u043b\\u043e\\u0434\\u0438\\u0435   \\u043d\\u0435\\u044f\\u0441\\u043d\\u043e\\u0433\\u043e \\u0433\\u0435\\u043d\\u0435\\u0437\\u0430        \\u043f\\u043e\\u0437\\u0434\\u043d\\u0438\\u0439 \\u0440\\u0435\\u043f\\u0440\\u043e\\u0434\\u0443\",\"\\u0431\\u0435\\u0441\\u043f\\u043b\\u043e\\u0434\\u0438\\u0435          \\u0436\\u0435\\u043d\\u0441\\u043a\\u043e\\u0435 \\u0431\\u0435\\u0441\\u043f\\u043b\\u043e\\u0434\\u0438\\u0435  \\u043e\\u0431\\u0443\\u0441\\u043b\\u043e\\u0432\\u043b\\u0435\\u043d\\u043d\\u043e\",\"\\u0431\\u0435\\u0441\\u043f\\u043b\\u043e\\u0434\\u0438\\u0435           \\u0436\\u0435\\u043d\\u0441\\u043a\\u043e\\u0435 \\u0431\\u0435\\u0441\\u043f\\u043b\\u043e\\u0434\\u0438\\u0435 \\u0442\\u0440\\u0443\\u0431\\u043d\\u043e \\u043f\\u0435\\u0440\\u0438\\u0442\",\"\\u0431\\u0435\\u0441\\u043f\\u043b\\u043e\\u0434\\u0438\\u0435   \\u043d\\u0435\\u0443\\u0442\\u043e\\u0447\\u043d\\u0435\\u043d\\u043d\\u043e\\u0435  \\u043c\\u0438\\u043e\\u043c\\u0430 \\u043c\\u0430\\u0442\\u043a\\u0438      \\u0441\\u043f\\u044f    \",\"\\u0431\\u0435\\u0441\\u043f\\u043b\\u043e\\u0434\\u0438\\u0435          \\u0436\\u0435\\u043d\\u0441\\u043a\\u043e\\u0435 \\u0431\\u0435\\u0441\\u043f\\u043b\\u043e\\u0434\\u0438\\u0435  \\u043e\\u0431\\u0443\\u0441\\u043b\\u043e\\u0432\\u043b\\u0435\\u043d\\u043d\\u043e\",\"\\u0431\\u0435\\u0441\\u043f\\u043b\\u043e\\u0434\\u0438\\u0435     \\u043c\\u0443\\u0436\\u0441\\u043a\\u043e\\u0439 \\u0444\\u0430\\u043a\\u0442\\u043e\\u0440  \\u043c\\u0438\\u043e\\u043c\\u0430 \\u043c\\u0430\\u0442\\u043a\\u0438        \\u0440\",\"\\u0431\\u0435\\u0441\\u043f\\u043b\\u043e\\u0434\\u0438\\u0435     \\u043a\\u043e\\u043c\\u0431\\u0438\\u043d\\u0438\\u0440\\u043e\\u0432\\u0430\\u043d\\u043d\\u043e\\u0435         \\u0445\\u0440\\u043e\\u043d\\u0438\\u0447\\u0435\\u0441\\u043a\\u0438\\u0439 \",\"\\u0431\\u0435\\u0441\\u043f\\u043b\\u043e\\u0434\\u0438\\u0435   \\u043c\\u0443\\u0436\\u0441\\u043a\\u043e\\u0439 \\u0444\\u0430\\u043a\\u0442\\u043e\\u0440  \\u043e\\u0433\\u0430 \\u043d\\u0435\\u0440\\u0430\\u0437\\u0432\\u0438\\u0432\\u0430\\u044e\\u0449\\u0430\\u044f\\u0441\\u044f \\u0431\\u0435\",\"\\u0431\\u0435\\u0441\\u043f\\u043b\\u043e\\u0434\\u0438\\u0435             \\u0436\\u0435\\u043d\\u0441\\u043a\\u043e\\u0435 \\u0431\\u0435\\u0441\\u043f\\u043b\\u043e\\u0434\\u0438\\u0435  \\u0441\\u0432\\u044f\\u0437\\u0430\\u043d\\u043d\\u043e\\u0435\",\"\\u0431\\u0435\\u0441\\u043f\\u043b\\u043e\\u0434\\u0438\\u0435   \\u0445\\u0440\\u043e\\u043d\\u0438\\u0447\\u0435\\u0441\\u043a\\u0438\\u0439 \\u044d\\u043d\\u0434\\u043e\\u043c\\u0435\\u0442\\u0440\\u0438\\u0442  \\u043f\\u0440\\u043e\\u043b\\u0435\\u0447\\u0435\\u043d\\u043d\\u044b\\u0439   \",\"\\u0431\\u0435\\u0441\\u043f\\u043b\\u043e\\u0434\\u0438\\u0435           \\u0436\\u0435\\u043d\\u0441\\u043a\\u043e\\u0435 \\u0431\\u0435\\u0441\\u043f\\u043b\\u043e\\u0434\\u0438\\u0435 \\u043d\\u0435\\u0443\\u0442\\u043e\\u0447\\u043d\\u0435\\u043d\\u043d\\u043e\\u0435\",\"\\u0431\\u0435\\u0441\\u043f\\u043b\\u043e\\u0434\\u0438\\u0435          \\u0436\\u0435\\u043d\\u0441\\u043a\\u043e\\u0435 \\u0431\\u0435\\u0441\\u043f\\u043b\\u043e\\u0434\\u0438\\u0435  \\u043e\\u0431\\u0443\\u0441\\u043b\\u043e\\u0432\\u043b\\u0435\\u043d\\u043d\\u043e\",\"\\u0431\\u0435\\u0441\\u043f\\u043b\\u043e\\u0434\\u0438\\u0435     \\u0442\\u0440\\u0443\\u0431\\u043d\\u043e \\u043f\\u0435\\u0440\\u0438\\u0442\\u043e\\u043d\\u0435\\u0430\\u043b\\u044c\\u043d\\u043e\\u0435  \\u0442\\u0443\\u0431\\u044d\\u043a\\u0442\\u043e\\u043c\\u0438\\u044f \\u0441\\u043f\",\"\\u0431\\u0435\\u0441\\u043f\\u043b\\u043e\\u0434\\u0438\\u0435     \\u0442\\u0440\\u0443\\u0431\\u043d\\u043e \\u043f\\u0435\\u0440\\u0438\\u0442\\u043e\\u043d\\u0435\\u0430\\u043b\\u044c\\u043d\\u044b\\u0439 \\u0444\\u0430\\u043a\\u0442\\u043e\\u0440  \\u0440\\u0443\\u0431\\u0435\\u0446 \",\"\\u0431\\u0435\\u0441\\u043f\\u043b\\u043e\\u0434\\u0438\\u0435   \\u043a\\u043b\\u0438\\u043d\\u043e\\u0432\\u0438\\u0434\\u043d\\u0430\\u044f \\u0440\\u0435\\u0437\\u0435\\u043a\\u0446\\u0438\\u044f \\u044f\\u0438\\u0447\\u043d\\u0438\\u043a\\u043e\\u0432  \\u0434\\u043d\\u0437    \",\"\\u0431\\u0435\\u0441\\u043f\\u043b\\u043e\\u0434\\u0438\\u0435     \\u0441\\u043e\\u0447\\u0435\\u0442\\u0430\\u043d\\u043d\\u043e\\u0435  \\u0442\\u0440\\u0443\\u0431\\u043d\\u043e \\u043f\\u0435\\u0440\\u0438\\u0442\\u043e\\u043d\\u0435\\u0430\\u043b\\u044c\\u043d\\u043e\\u0435  \\u043e\",\"\\u0431\\u0435\\u0441\\u043f\\u043b\\u043e\\u0434\\u0438\\u0435           \\u043d\\u0433\\u044d   \\u0441\\u0442   \\u043e\\u0433\\u0430      \\u043b\\u0441\\u043a  \\u043a\\u043e\\u043d\\u0441\\u0435\",\"\\u0431\\u0435\\u0441\\u043f\\u043b\\u043e\\u0434\\u0438\\u0435     \\u0440\\u0443\\u0431\\u0435\\u0446 \\u043d\\u0430 \\u043c\\u0430\\u0442\\u043a\\u0435  \\u043a\\u0435\\u0441\\u0430\\u0440\\u0435\\u0432\\u043e \\u0441\\u0435\\u0447\\u0435\\u043d\\u0438\\u0435 \\u0432  \",\"\\u043f\\u043b\\u0430\\u043d\\u0438\\u0440\\u043e\\u0432\\u0430\\u043d\\u0438\\u0435 \\u0431\\u0435\\u0440\\u0435\\u043c\\u0435\\u043d\\u043d\\u043e\\u0441\\u0442\\u0438 \\u043c\\u0438\\u043e\\u043c\\u0430 \\u043c\\u0430\\u0442\\u043a\\u0438      \\u043e\\u0433\\u0430  \\u0437\\u0430\",\"\\u0431\\u0435\\u0441\\u043f\\u043b\\u043e\\u0434\\u0438\\u0435     \\u0441\\u043e\\u0447\\u0435\\u0442\\u0430\\u043d\\u043d\\u043e\\u0435  \\u043e\\u0431\\u0443\\u0441\\u043b\\u043e\\u0432\\u043b\\u0435\\u043d\\u043d\\u043e\\u0435 \\u044d\\u043d\\u0434\\u043e\\u043c\\u0435\\u0442\\u0440\\u0438\\u043e\",\"\\u0431\\u0435\\u0441\\u043f\\u043b\\u043e\\u0434\\u0438\\u0435     \\u0445\\u0440\\u043e\\u043d\\u0438\\u0447\\u0435\\u0441\\u043a\\u0438\\u0439 \\u043b\\u0435\\u0432\\u043e\\u0441\\u0442\\u043e\\u0440\\u043e\\u043d\\u043d\\u0438\\u0439 \\u0441\\u0430\\u043b\\u044c\\u043f\\u0438\\u043d\\u0433\\u043e\\u043e\",\"\\u0431\\u0435\\u0441\\u043f\\u043b\\u043e\\u0434\\u0438\\u0435           \\u0442\\u0440\\u0443\\u0431\\u043d\\u043e\\u0433\\u043e \\u043f\\u0440\\u043e\\u0438\\u0441\\u0445\\u043e\\u0436\\u0434\\u0435\\u043d\\u0438\\u044f        \",\"\\u0431\\u0435\\u0441\\u043f\\u043b\\u043e\\u0434\\u0438\\u0435           \\u0436\\u0435\\u043d\\u0441\\u043a\\u043e\\u0435 \\u0431\\u0435\\u0441\\u043f\\u043b\\u043e\\u0434\\u0438\\u0435  \\u0442\\u0440\\u0443\\u0431\\u043d\\u043e \\u043f\\u0435\\u0440\\u0438\",\"\\u0431\\u0435\\u0441\\u043f\\u043b\\u043e\\u0434\\u0438\\u0435     \\u043c\\u0438\\u043e\\u043c\\u0430 \\u043c\\u0430\\u0442\\u043a\\u0438      \\u043f\\u0440\\u0438\\u043e\\u0431\\u0440\\u0435\\u0442\\u0435\\u043d\\u043d\\u043e\\u0435 \\u043e\\u0442\\u0441\\u0443\\u0442\",\"\\u0431\\u0435\\u0441\\u043f\\u043b\\u043e\\u0434\\u0438\\u0435     \\u0442\\u0440\\u0443\\u0431\\u043d\\u043e \\u043f\\u0435\\u0440\\u0438\\u0442\\u043e\\u043d\\u0435\\u0430\\u043b\\u044c\\u043d\\u043e\\u0435  \\u0442\\u0443\\u0431\\u044d\\u043a\\u0442\\u043e\\u043c\\u0438\\u044f \\u0441\\u043b\",\"\\u0431\\u0435\\u0441\\u043f\\u043b\\u043e\\u0434\\u0438\\u0435   \\u0445\\u0440\\u043e\\u043d\\u0438\\u0447\\u0435\\u0441\\u043a\\u0438\\u0439 \\u0441\\u0430\\u043b\\u044c\\u043f\\u0438\\u043d\\u0433\\u043e\\u043e\\u0444\\u043e\\u0440\\u0438\\u0442        \\u043c\\u0443\\u0436\",\"\\u0431\\u0435\\u0441\\u043f\\u043b\\u043e\\u0434\\u0438\\u0435    \\u043d\\u0433\\u044d   \\u0441\\u0442  \\u043a\\u043e\\u043c\\u0431\\u0438\\u043d\\u0438\\u0440\\u043e\\u0432\\u0430\\u043d\\u043d\\u043e\\u0435 \\u043b\\u0435\\u0447\\u0435\\u043d\\u0438\\u0435 \\u0432  \",\"\\u0431\\u0435\\u0441\\u043f\\u043b\\u043e\\u0434\\u0438\\u0435    \\u043c\\u0443\\u0436\\u0441\\u043a\\u043e\\u0439 \\u0444\\u0430\\u043a\\u0442\\u043e\\u0440         \\u0430\\u0438\\u0442         \\u0434\\u043e\",\"\\u0431\\u0435\\u0441\\u043f\\u043b\\u043e\\u0434\\u0438\\u0435           \\u0434\\u0440\\u0443\\u0433\\u0438\\u0435 \\u0444\\u043e\\u0440\\u043c\\u044b \\u0436\\u0435\\u043d\\u0441\\u043a\\u043e\\u0433\\u043e \\u0431\\u0435\\u0441\\u043f\\u043b\\u043e\\u0434\\u0438\",\"\\u0431\\u0435\\u0441\\u043f\\u043b\\u043e\\u0434\\u0438\\u0435 \\u0432\\u0442\\u043e\\u0440\\u0438\\u0447\\u043d\\u043e\\u0435        \\u0436\\u0435\\u043d\\u0441\\u043a\\u043e\\u0435 \\u0431\\u0435\\u0441\\u043f\\u043b\\u043e\\u0434\\u0438\\u0435  \\u043e\\u0431\\u0443\\u0441\",\"\\u0431\\u0435\\u0441\\u043f\\u043b\\u043e\\u0434\\u0438\\u0435      \\u0445\\u0440\\u043e\\u043d\\u0438\\u0447\\u0435\\u0441\\u043a\\u0438\\u0439 \\u0441\\u0430\\u043b\\u044c\\u043f\\u0438\\u043d\\u0433\\u043e\\u043e\\u0444\\u043e\\u0440\\u0438\\u0442        \",\"\\u0431\\u0435\\u0441\\u043f\\u043b\\u043e\\u0434\\u0438\\u0435           \\u043d\\u0433\\u044d              \\u043a\\u043e\\u043c\\u0431\\u0438\\u043d\\u0438\\u0440\\u043e\\u0432\\u0430\\u043d\\u043d\",\"\\u0431\\u0435\\u0441\\u043f\\u043b\\u043e\\u0434\\u0438\\u0435    \\u0432\\u043f\\u0440 \\u043c\\u0430\\u0442\\u043a\\u0438  \\u0432\\u043d\\u0443\\u0442\\u0440\\u0438\\u043c\\u0430\\u0442\\u043e\\u0447\\u043d\\u0430\\u044f \\u043f\\u0435\\u0440\\u0435\\u0433\\u043e\\u0440\\u043e\\u0434\\u043a\\u0430\",\"\\u0431\\u0435\\u0441\\u043f\\u043b\\u043e\\u0434\\u0438\\u0435   \\u0433\\u0438\\u043f\\u043e\\u0442\\u0438\\u0440\\u0435\\u043e\\u0437      \\u043c\\u0443\\u0436\\u0441\\u043a\\u043e\\u0439 \\u0444\\u0430\\u043a\\u0442\\u043e\\u0440       \\u0440\",\"\\u0431\\u0435\\u0441\\u043f\\u043b\\u043e\\u0434\\u0438\\u0435          \\u0436\\u0435\\u043d\\u0441\\u043a\\u043e\\u0435 \\u0431\\u0435\\u0441\\u043f\\u043b\\u043e\\u0434\\u0438\\u0435 \\u043d\\u0435\\u0443\\u0442\\u043e\\u0447\\u043d\\u0435\\u043d\\u043d\\u043e\\u0435 \",\"\\u0431\\u0435\\u0441\\u043f\\u043b\\u043e\\u0434\\u0438\\u0435   \\u0445\\u0440\\u043e\\u043d\\u0438\\u0447\\u0435\\u0441\\u043a\\u0438\\u0439 \\u0441\\u0430\\u043b\\u044c\\u043f\\u0438\\u043d\\u0433\\u043e\\u043e\\u0444\\u043e\\u0440\\u0438\\u0442        \\u043f\\u043e\\u043b\",\"\\u0431\\u0435\\u0441\\u043f\\u043b\\u043e\\u0434\\u0438\\u0435           \\u0436\\u0435\\u043d\\u0441\\u043a\\u043e\\u0435 \\u0431\\u0435\\u0441\\u043f\\u043b\\u043e\\u0434\\u0438\\u0435 \\u043d\\u0435\\u0443\\u0442\\u043e\\u0447\\u043d\\u0435\\u043d\\u043d\\u043e\\u0435\",\"\\u0431\\u0435\\u0441\\u043f\\u043b\\u043e\\u0434\\u0438\\u0435   \\u043c\\u0443\\u0436\\u0441\\u043a\\u043e\\u0439 \\u0444\\u0430\\u043a\\u0442\\u043e\\u0440          \\u043e\\u0430\\u0433\\u0430 \\u0440\\u0435\\u0437\\u0435\\u043a\\u0446\\u0438\\u044f \",\"\\u0431\\u0435\\u0441\\u043f\\u043b\\u043e\\u0434\\u0438\\u0435    \\u043d\\u0435\\u0443\\u0442\\u043e\\u0447\\u043d\\u0435\\u043d\\u043d\\u043e\\u0435 \\u0445\\u0440\\u043e\\u043d\\u0438\\u0447\\u0435\\u0441\\u043a\\u0438\\u0439 \\u044d\\u043d\\u0434\\u043e\\u043c\\u0435\\u0442\\u0440\\u0438\\u0442  \",\"\\u0431\\u0435\\u0441\\u043f\\u043b\\u043e\\u0434\\u0438\\u0435            \\u0436\\u0435\\u043d\\u0441\\u043a\\u043e\\u0435 \\u0431\\u0435\\u0441\\u043f\\u043b\\u043e\\u0434\\u0438\\u0435 \\u0442\\u0440\\u0443\\u0431\\u043d\\u043e \\u043f\\u0435\\u0440\\u0438\",\"\\u0431\\u0435\\u0441\\u043f\\u043b\\u043e\\u0434\\u0438\\u0435     \\u043c\\u0443\\u0436\\u0441\\u043a\\u043e\\u0439 \\u0444\\u0430\\u043a\\u0442\\u043e\\u0440        \\u043f\\u0440\\u0438\\u0432\\u044b\\u0447\\u043d\\u043e\\u0435 \\u043d\\u0435\\u0432\\u044b\",\"\\u0431\\u0435\\u0441\\u043f\\u043b\\u043e\\u0434\\u0438\\u0435    \\u043c\\u0443\\u0436\\u0441\\u043a\\u043e\\u0439 \\u0444\\u0430\\u043a\\u0442\\u043e\\u0440\",\"\\u0431\\u0435\\u0441\\u043f\\u043b\\u043e\\u0434\\u0438\\u0435   \\u0445\\u0440\\u043e\\u043d\\u0438\\u0447\\u0435\\u0441\\u043a\\u0438\\u0439 \\u0441\\u0430\\u043b\\u044c\\u043f\\u0438\\u043d\\u0433\\u043e\\u043e\\u0444\\u043e\\u0440\\u0438\\u0442        \\u043c\\u0438\\u043e\",\"\\u0431\\u0435\\u0441\\u043f\\u043b\\u043e\\u0434\\u0438\\u0435    \\u0441\\u0432\\u044f\\u0437\\u0430\\u043d\\u043d\\u043e\\u0435 \\u0441 \\u043c\\u0443\\u0436\\u0441\\u043a\\u0438\\u043c\\u0438 \\u0444\\u0430\\u043a\\u0442\\u043e\\u0440\\u0430\\u043c\\u0438 \",\"\\u0431\\u0435\\u0441\\u043f\\u043b\\u043e\\u0434\\u0438\\u0435   \\u0441\\u043d\\u0438\\u0436\\u0435\\u043d\\u0438\\u0435 \\u043e\\u0432\\u0430\\u0440\\u0438\\u0430\\u043b\\u044c\\u043d\\u043e\\u0433\\u043e \\u0440\\u0435\\u0437\\u0435\\u0440\\u0432\\u0430 \",\"\\u0431\\u0435\\u0441\\u043f\\u043b\\u043e\\u0434\\u0438\\u0435    \\u0442\\u0440\\u0443\\u0431\\u043d\\u043e\\u0433\\u043e \\u043f\\u0440\\u043e\\u0438\\u0441\\u0445\\u043e\\u0436\\u0434\\u0435\\u043d\\u0438\\u044f         \\u043c\\u0443\\u0436\\u0441\\u043a\\u043e\",\"\\u0431\\u0435\\u0441\\u043f\\u043b\\u043e\\u0434\\u0438\\u0435           \\u0436\\u0435\\u043d\\u0441\\u043a\\u043e\\u0435 \\u0431\\u0435\\u0441\\u043f\\u043b\\u043e\\u0434\\u0438\\u0435 \\u0442\\u0440\\u0443\\u0431\\u043d\\u043e \\u043f\\u0435\\u0440\\u0438\\u0442\",\"\\u0431\\u0435\\u0441\\u043f\\u043b\\u043e\\u0434\\u0438\\u0435           \\u0436\\u0435\\u043d\\u0441\\u043a\\u043e\\u0435 \\u0431\\u0435\\u0441\\u043f\\u043b\\u043e\\u0434\\u0438\\u0435  \\u043e\\u0431\\u0443\\u0441\\u043b\\u043e\\u0432\\u043b\\u0435\\u043d\\u043d\",\"\\u0431\\u0435\\u0441\\u043f\\u043b\\u043e\\u0434\\u0438\\u0435   \\u043c\\u0438\\u043e\\u043c\\u0430 \\u043c\\u0430\\u0442\\u043a\\u0438      \\u043f\\u043e\\u0437\\u0434\\u043d\\u0438\\u0439 \\u0440\\u0435\\u043f\\u0440\\u043e\\u0434\\u0443\\u043a\\u0442\\u0438\\u0432\\u043d\\u044b\",\"\\u0431\\u0435\\u0441\\u043f\\u043b\\u043e\\u0434\\u0438\\u0435   \\u0441\\u0432\\u044f\\u0437\\u0430\\u043d\\u043d\\u043e\\u0435 \\u0441 \\u043e\\u0442\\u0441\\u0443\\u0442\\u0441\\u0442\\u0432\\u0438\\u0435\\u043c \\u043e\\u0432\\u0443\\u043b\\u044f\\u0446\\u0438\\u0438  \\u0440\\u0443\\u0431\\u0435\",\"\\u0431\\u0435\\u0441\\u043f\\u043b\\u043e\\u0434\\u0438\\u0435     \\u0441\\u043e\\u0447\\u0435\\u0442\\u0430\\u043d\\u043d\\u043e\\u0435  \\u0442\\u0440\\u0443\\u0431\\u043d\\u043e \\u043f\\u0435\\u0440\\u0438\\u0442\\u043e\\u043d\\u0435\\u0430\\u043b\\u044c\\u043d\\u043e\\u0435 \\u043c\\u0443\",\"\\u0431\\u0435\\u0441\\u043f\\u043b\\u043e\\u0434\\u0438\\u0435     \\u0442\\u0440\\u0443\\u0431\\u043d\\u043e \\u043f\\u0435\\u0440\\u0438\\u0442\\u043e\\u043d\\u0435\\u0430\\u043b\\u044c\\u043d\\u043e\\u0435  \\u0430\\u0431\\u0441\\u043e\\u043b\\u044e\\u0442\\u043d\\u043e \\u0442\\u0440\\u0443\",\"\\u0431\\u0435\\u0441\\u043f\\u043b\\u043e\\u0434\\u0438\\u0435      \\u0441\\u043e\\u0447\\u0435\\u0442\\u0430\\u043d\\u043d\\u043e\\u0435  \\u0442\\u0440\\u0443\\u0431\\u043d\\u043e\\u0435  \\u043c\\u0443\\u0436\\u0441\\u043a\\u043e\\u0439 \\u0444\\u0430\\u043a\\u0442\\u043e\\u0440\",\"\\u0431\\u0435\\u0441\\u043f\\u043b\\u043e\\u0434\\u0438\\u0435    \\u043c\\u0443\\u0436\\u0441\\u043a\\u043e\\u0439 \\u0444\\u0430\\u043a\\u0442\\u043e\\u0440      \",\"\\u0431\\u0435\\u0441\\u043f\\u043b\\u043e\\u0434\\u0438\\u0435    \\u043c\\u0443\\u0436\\u0441\\u043a\\u043e\\u0439 \\u0444\\u0430\\u043a\\u0442\\u043e\\u0440       \",\"\\u0431\\u0435\\u0441\\u043f\\u043b\\u043e\\u0434\\u0438\\u0435     \\u0442\\u0440\\u0443\\u0431\\u043d\\u043e \\u043f\\u0435\\u0440\\u0438\\u0442\\u043e\\u043d\\u0435\\u0430\\u043b\\u044c\\u043d\\u043e\\u0435  \\u0442\\u0443\\u0431\\u044d\\u043a\\u0442\\u043e\\u043c\\u0438\\u044f \\u0441\\u043f\",\"\\u0431\\u0435\\u0441\\u043f\\u043b\\u043e\\u0434\\u0438\\u0435    \\u043c\\u0443\\u0436\\u0441\\u043a\\u043e\\u0439 \\u0444\\u0430\\u043a\\u0442\\u043e\\u0440        \\u043c\\u0438\\u043e\\u043c\\u0430 \\u043c\\u0430\\u0442\\u043a\\u0438 \\u0432 \\u043d\",\"\\u0431\\u0435\\u0441\\u043f\\u043b\\u043e\\u0434\\u0438\\u0435   \\u0445\\u0440\\u043e\\u043d\\u0438\\u0447\\u0435\\u0441\\u043a\\u0438\\u0439 \\u0441\\u0430\\u043b\\u044c\\u043f\\u0438\\u043d\\u0433\\u043e\\u043e\\u0444\\u043e\\u0440\\u0438\\u0442        \\u043f\\u0440\\u0438\",\"\\u0431\\u0435\\u0441\\u043f\\u043b\\u043e\\u0434\\u0438\\u0435     \\u043c\\u0443\\u0436\\u0441\\u043a\\u043e\\u0439 \\u0444\\u0430\\u043a\\u0442\\u043e\\u0440        \\u0430\\u0437\\u043e\\u043e\\u0441\\u043f\\u0435\\u0440\\u043c\\u0438\\u044f  \\u0438\",\"\\u0431\\u0435\\u0441\\u043f\\u043b\\u043e\\u0434\\u0438\\u0435     \\u0445\\u0440\\u043e\\u043d\\u0438\\u0447\\u0435\\u0441\\u043a\\u0438\\u0439 \\u044d\\u043d\\u0434\\u043e\\u043c\\u0435\\u0442\\u0440\\u0438\\u0442  \\u043f\\u0440\\u043e\\u043b\\u0435\\u0447      \",\"\\u0431\\u0435\\u0441\\u043f\\u043b\\u043e\\u0434\\u0438\\u0435    \\u0441\\u043e\\u0447\\u0435\\u0442\\u0430\\u043d\\u043d\\u043e\\u0435        \\u0436\\u0435\\u043d\\u0441\\u043a\\u043e\\u0435 \\u0431\\u0435\\u0441\\u043f\\u043b\\u043e\\u0434\\u0438\\u0435 \\u0442\",\"\\u0431\\u0435\\u0441\\u043f\\u043b\\u043e\\u0434\\u0438\\u0435          \\u0436\\u0435\\u043d\\u0441\\u043a\\u043e\\u0435 \\u0431\\u0435\\u0441\\u043f\\u043b\\u043e\\u0434\\u0438\\u0435 \\u0442\\u0440\\u0443\\u0431\\u043d\\u043e \\u043f\\u0435\\u0440\\u0438\\u0442\\u043e\",\"\\u0431\\u0435\\u0441\\u043f\\u043b\\u043e\\u0434\\u0438\\u0435     \\u0441\\u0432\\u044f\\u0437\\u0430\\u043d\\u043d\\u043e\\u0435 \\u0441 \\u043c\\u0443\\u0436\\u0441\\u043a\\u0438\\u043c\\u0438 \\u0444\\u0430\\u043a\\u0442\\u043e\\u0440\\u0430\\u043c\\u0438      \",\"\\u0431\\u0435\\u0441\\u043f\\u043b\\u043e\\u0434\\u0438\\u0435    \\u043c\\u0443\\u0436\\u0441\\u043a\\u043e\\u0439 \\u0444\\u0430\\u043a\\u0442\\u043e\\u0440      \",\"\\u0431\\u0435\\u0441\\u043f\\u043b\\u043e\\u0434\\u0438\\u0435          \\u0436\\u0435\\u043d\\u0441\\u043a\\u043e\\u0435 \\u0431\\u0435\\u0441\\u043f\\u043b\\u043e\\u0434\\u0438\\u0435 \\u0442\\u0440\\u0443\\u0431\\u043d\\u043e \\u043f\\u0435\\u0440\\u0438\\u0442\\u043e\",\"\\u0431\\u0435\\u0441\\u043f\\u043b\\u043e\\u0434\\u0438\\u0435    \\u0445\\u0440\\u043e\\u043d\\u0438\\u0447\\u0435\\u0441\\u043a\\u0438\\u0439 \\u0441\\u0430\\u043b\\u044c\\u043f\\u0438\\u043d\\u0433\\u043e\\u043e\\u0444\\u043e\\u0440\\u0438\\u0442        \\u0445\\u0440\",\"\\u0431\\u0435\\u0441\\u043f\\u043b\\u043e\\u0434\\u0438\\u0435     \\u0440\\u0443\\u0431\\u0435\\u0446 \\u043d\\u0430 \\u043c\\u0430\\u0442\\u043a\\u0435  \\u043a\\u0435\\u0441\\u0430\\u0440\\u0435\\u0432\\u043e \\u0441\\u0435\\u0447\\u0435\\u043d\\u0438\\u0435 \\u0432  \",\"\\u0431\\u0435\\u0441\\u043f\\u043b\\u043e\\u0434\\u0438\\u0435     \\u0430\\u0434\\u0435\\u043d\\u043e\\u043c\\u0438\\u043e\\u0437        \\u0441\\u0443\\u0431\\u043a\\u043b\\u0438\\u043d\\u0438\\u0447\\u0435\\u0441\\u043a\\u0438\\u0439 \\u0433\\u0438\\u043f\\u043e\",\"\\u0431\\u0435\\u0441\\u043f\\u043b\\u043e\\u0434\\u0438\\u0435    \\u043d\\u0435\\u044f\\u0441\\u043d\\u043e\\u0433\\u043e \\u0433\\u0435\\u043d\\u0435\\u0437\\u0430  \\u0430\\u0438\\u0442  \\u0445\\u0440\\u043e\\u043d\\u0438\\u0447\\u0435\\u0441\\u043a\\u0438\\u0439 \\u044d\\u043d\\u0434\",\"\\u0431\\u0435\\u0441\\u043f\\u043b\\u043e\\u0434\\u0438\\u0435           \\u0436\\u0435\\u043d\\u0441\\u043a\\u043e\\u0435 \\u0431\\u0435\\u0441\\u043f\\u043b\\u043e\\u0434\\u0438\\u0435  \\u043e\\u0431\\u0443\\u0441\\u043b\\u043e\\u0432\\u043b\\u0435\\u043d\\u043d\",\"\\u0431\\u0435\\u0441\\u043f\\u043b\\u043e\\u0434\\u0438\\u0435           \\u0436\\u0435\\u043d\\u0441\\u043a\\u043e\\u0435 \\u0431\\u0435\\u0441\\u043f\\u043b\\u043e\\u0434\\u0438\\u0435 \\u0442\\u0440\\u0443\\u0431\\u043d\\u043e \\u043f\\u0435\\u0440\\u0438\\u0442\",\"\\u043d\\u0435\\u0442\",\"\\u0431\\u0435\\u0441\\u043f\\u043b\\u043e\\u0434\\u0438\\u0435           \\u0436\\u0435\\u043d\\u0441\\u043a\\u043e\\u0435 \\u0431\\u0435\\u0441\\u043f\\u043b\\u043e\\u0434\\u0438\\u0435 \\u0442\\u0440\\u0443\\u0431\\u043d\\u043e \\u043f\\u0435\\u0440\\u0438\\u0442\",\"\\u0431\\u0435\\u0441\\u043f\\u043b\\u043e\\u0434\\u0438\\u0435     \\u0441\\u043f\\u044f        \\u0430\\u043d\\u043e\\u0432\\u0443\\u043b\\u044f\\u0446\\u0438\\u044f         \\u043c\\u0443\\u0436\\u0441\\u043a\\u043e\",\"\\u0431\\u0435\\u0441\\u043f\\u043b\\u043e\\u0434\\u0438\\u0435   \\u0430\\u0434\\u0435\\u043d\\u043e\\u043c\\u0438\\u043e\\u0437        \\u0441\\u043f\\u044f        \\u0430\\u043d\\u043e\\u0432\\u0443\\u043b\\u044f\\u0446\\u0438\\u044f\",\"\\u0431\\u0435\\u0441\\u043f\\u043b\\u043e\\u0434\\u0438\\u0435           \\u0442\\u0440\\u0443\\u0431\\u043d\\u043e \\u043f\\u0435\\u0440\\u0438\\u0442\\u043e\\u043d\\u0435\\u0430\\u043b\\u044c\\u043d\\u043e\\u0435  \\u0445\\u0440 \\u0441\\u0430\\u043b\\u044c\",\"\\u0431\\u0435\\u0441\\u043f\\u043b\\u043e\\u0434\\u0438\\u0435             \\u0436\\u0435\\u043d\\u0441\\u043a\\u043e\\u0435 \\u0431\\u0435\\u0441\\u043f\\u043b\\u043e\\u0434\\u0438\\u0435  \\u043e\\u0431\\u0443\\u0441\\u043b\\u043e\\u0432\\u043b\\u0435\",\"\\u0431\\u0435\\u0441\\u043f\\u043b\\u043e\\u0434\\u0438\\u0435    \\u043c\\u0443\\u0436\\u0441\\u043a\\u043e\\u0439 \\u0444\\u0430\\u043a\\u0442\\u043e\\u0440       \\u0441\\u043e\\u0441\\u0442\\u043e\\u044f\\u043d\\u0438\\u0435 \\u043f\\u043e\\u0441\\u043b\\u0435 \",\"\\u043d\\u0435\\u0442\",\"\\u0431\\u0435\\u0441\\u043f\\u043b\\u043e\\u0434\\u0438\\u0435          \",\"\\u0431\\u0435\\u0441\\u043f\\u043b\\u043e\\u0434\\u0438\\u0435     \\u0445\\u0440\\u043e\\u043d\\u0438\\u0447\\u0435\\u0441\\u043a\\u0438\\u0439 \\u0441\\u0430\\u043b\\u044c\\u043f\\u0438\\u043d\\u0433\\u043e\\u043e\\u0444\\u043e\\u0440\\u0438\\u0442        \\u0440\",\"\\u0431\\u0435\\u0441\\u043f\\u043b\\u043e\\u0434\\u0438\\u0435          \\u0436\\u0435\\u043d\\u0441\\u043a\\u043e\\u0435 \\u0431\\u0435\\u0441\\u043f\\u043b\\u043e\\u0434\\u0438\\u0435  \\u043e\\u0431\\u0443\\u0441\\u043b\\u043e\\u0432\\u043b\\u0435\\u043d\\u043d\\u043e\",\"\\u0431\\u0435\\u0441\\u043f\\u043b\\u043e\\u0434\\u0438\\u0435     \\u0440\\u0443\\u0431\\u0435\\u0446 \\u043d\\u0430 \\u043c\\u0430\\u0442\\u043a\\u0435  \\u043a\\u0435\\u0441\\u0430\\u0440\\u0435\\u0432\\u043e \\u0441\\u0435\\u0447\\u0435\\u043d\\u0438\\u0435 \\u0432  \",\"\\u0431\\u0435\\u0441\\u043f\\u043b\\u043e\\u0434\\u0438\\u0435    \\u0440\\u0443\\u0431\\u0435\\u0446 \\u043d\\u0430 \\u043c\\u0430\\u0442\\u043a\\u0435  \\u043a\\u0435\\u0441\\u0430\\u0440\\u0435\\u0432\\u043e \\u0441\\u0435\\u0447\\u0435\\u043d\\u0438\\u0435 \\u0432   \",\"\\u0431\\u0435\\u0441\\u043f\\u043b\\u043e\\u0434\\u0438\\u0435    \\u043c\\u0443\\u0436\\u0441\\u043a\\u043e\\u0439 \\u0444\\u0430\\u043a\\u0442\\u043e\\u0440      \",\"\\u0431\\u0435\\u0441\\u043f\\u043b\\u043e\\u0434\\u0438\\u0435     \\u043c\\u0443\\u0436\\u0441\\u043a\\u043e\\u0439 \\u0444\\u0430\\u043a\\u0442\\u043e\\u0440   \\u043d\\u0433\\u044d \\u0432 \\u0430\\u043d\\u0430\\u043c\\u043d\\u0435\\u0437\\u0435 \",\"\\u0431\\u0435\\u0441\\u043f\\u043b\\u043e\\u0434\\u0438\\u0435             \\u0436\\u0435\\u043d\\u0441\\u043a\\u043e\\u0435 \\u0431\\u0435\\u0441\\u043f\\u043b\\u043e\\u0434\\u0438\\u0435  \\u0441\\u0432\\u044f\\u0437\\u0430\\u043d\\u043d\\u043e\\u0435\",\"\\u0431\\u0435\\u0441\\u043f\\u043b\\u043e\\u0434\\u0438\\u0435     \\u0440\\u0443\\u0431\\u0435\\u0446 \\u043d\\u0430 \\u043c\\u0430\\u0442\\u043a\\u0435  \\u043a\\u0435\\u0441\\u0430\\u0440\\u0435\\u0432\\u043e \\u0441\\u0435\\u0447\\u0435\\u043d\\u0438\\u0435 \\u0432  \",\"\\u0431\\u0435\\u0441\\u043f\\u043b\\u043e\\u0434\\u0438\\u0435     \\u0440\\u0443\\u0431\\u0435\\u0446 \\u043d\\u0430 \\u043c\\u0430\\u0442\\u043a\\u0435  \\u043a\\u0435\\u0441\\u0430\\u0440\\u0435\\u0432\\u043e \\u0441\\u0435\\u0447\\u0435\\u043d\\u0438\\u0435 \\u0432  \",\"\\u0431\\u0435\\u0441\\u043f\\u043b\\u043e\\u0434\\u0438\\u0435    \\u0430\\u043d\\u043e\\u0432\\u0443\\u043b\\u044f\\u0442\\u043e\\u0440\\u043d\\u043e\\u0435  \\u0433\\u0438\\u043f\\u0435\\u0440\\u0433\\u043e\\u043d\\u0430\\u0434\\u043e\\u0442\\u0440\\u043e\\u043f\\u043d\\u0430\\u044f \\u0430\\u043c\\u0435\",\"\\u0431\\u0435\\u0441\\u043f\\u043b\\u043e\\u0434\\u0438\\u0435     \\u043c\\u0438\\u043e\\u043c\\u0430 \\u043c\\u0430\\u0442\\u043a\\u0438      \\u043d\\u0433\\u044d \\u0432 \\u0430\\u043d\\u0430\\u043c\\u043d\\u0435\\u0437\\u0435 \\u043f\\u043e\\u0437\\u0434\",\"\\u0431\\u0435\\u0441\\u043f\\u043b\\u043e\\u0434\\u0438\\u0435           \\u0436\\u0435\\u043d\\u0441\\u043a\\u043e\\u0435 \\u0431\\u0435\\u043f\\u043b\\u043e\\u0434\\u0438\\u0435  \\u043e\\u0431\\u0443\\u0441\\u043b\\u043e\\u0432\\u043b\\u0435\\u043d\\u043d\\u043e\",\"\\u0431\\u0435\\u0441\\u043f\\u043b\\u043e\\u0434\\u0438\\u0435           \\u0436\\u0435\\u043d\\u0441\\u043a\\u043e\\u0435 \\u0431\\u0435\\u0441\\u043f\\u043b\\u043e\\u0434\\u0438\\u0435 \\u0442\\u0440\\u0443\\u0431\\u043d\\u043e \\u043f\\u0435\\u0440\\u0438\\u0442\",\"\\u0431\\u0435\\u0441\\u043f\\u043b\\u043e\\u0434\\u0438\\u0435    \\u043d\\u0435\\u044f\\u0441\\u043d\\u043e\\u0433\\u043e \\u0433\\u0435\\u043d\\u0435\\u0437\\u0430  \\u0440\\u0443\\u0431\\u0435\\u0446 \\u043d\\u0430 \\u043c\\u0430\\u0442\\u043a\\u0435      \",\"\\u0431\\u0435\\u0441\\u043f\\u043b\\u043e\\u0434\\u0438\\u0435      \\u0441\\u043d\\u0438\\u0436\\u0435\\u043d\\u0438\\u0435 \\u043e\\u0432\\u0430\\u0440\\u0438\\u0430\\u043b\\u044c\\u043d\\u043e\\u0433\\u043e \\u0440\\u0435\\u0437\\u0435\\u0440\\u0432\\u0430  \\u043f\\u043e\\u0437\\u0434\",\"\\u0431\\u0435\\u0441\\u043f\\u043b\\u043e\\u0434\\u0438\\u0435     \\u043d\\u0433\\u044d        \\u043c\\u0443\\u0436\\u0441\\u043a\\u043e\\u0439 \\u0444\\u0430\\u043a\\u0442\\u043e\\u0440       \\u0440\\u0435\\u0437\\u0443\",\"\\u0431\\u0435\\u0441\\u043f\\u043b\\u043e\\u0434\\u0438\\u0435     \\u0442\\u0440\\u0443\\u0431\\u043d\\u043e \\u043f\\u0435\\u0440\\u0438\\u0442\\u043e\\u043d\\u0435\\u0430\\u043b\\u044c\\u043d\\u043e\\u0435  \\u043f\\u043e\\u0437\\u0434\\u043d\\u0438\\u0439 \\u0440\\u0435\\u043f\\u0440\\u043e\",\"\\u0431\\u0435\\u0441\\u043f\\u043b\\u043e\\u0434\\u0438\\u0435    \\u043f\\u043e\\u0437\\u0434\\u043d\\u0438\\u0439 \\u0440\\u0435\\u043f\\u0440\\u043e\\u0434\\u0443\\u043a\\u0442\\u0438\\u0432\\u043d\\u044b\\u0439 \\u043f\\u0435\\u0440\\u0438\\u043e\\u0434  \\u043c\\u0443\\u0436\\u0441\\u043a\\u043e\",\"\\u0431\\u0435\\u0441\\u043f\\u043b\\u043e\\u0434\\u0438\\u0435     \\u0445\\u0440\\u043e\\u043d\\u0438\\u0447\\u0435\\u0441\\u043a\\u0438\\u0439 \\u0441\\u0430\\u043b\\u044c\\u043f\\u0438\\u043d\\u0433\\u043e\\u043e\\u0444\\u043e\\u0440\\u0438\\u0442        \\u0440\",\"\\u0431\\u0435\\u0441\\u043f\\u043b\\u043e\\u0434\\u0438\\u0435           \\u0436\\u0435\\u043d\\u0441\\u043a\\u043e\\u0435 \\u0431\\u0435\\u0441\\u043f\\u043b\\u043e\\u0434\\u0438\\u0435  \\u043e\\u0431\\u0443\\u0441\\u043b\\u043e\\u0432\\u043b\\u0435\\u043d\\u043d\",\"\\u0431\\u0435\\u0441\\u043f\\u043b\\u043e\\u0434\\u0438\\u0435                    \\u0442\\u0440\\u0443\\u0431\\u043d\\u043e \\u043f\\u0435\\u0440\\u0438\\u0442\\u043e\\u043d\\u0435\\u0430\\u043b\\u044c\\u043d\\u043e\\u0435\",\"\\u0431\\u0435\\u0441\\u043f\\u043b\\u043e\\u0434\\u0438\\u0435     \\u0441\\u043f\\u044f        \\u0430\\u043d\\u043e\\u0432\\u0443\\u043b\\u044f\\u0446\\u0438\\u044f         \\u0441\\u043e\\u0441\\u0442\\u043e\\u044f\",\"\\u0431\\u0435\\u0441\\u043f\\u043b\\u043e\\u0434\\u0438\\u0435            \\u0436\\u0435\\u043d\\u0441\\u043a\\u043e\\u0435 \\u0431\\u0435\\u0441\\u043f\\u043b\\u043e\\u0434\\u0438\\u0435  \\u0442\\u0440\\u0443\\u0431\\u043d\\u043e \\u043f\\u0435\\u0440\",\"\\u043d\\u0435\\u0442\",\"\\u0431\\u0435\\u0441\\u043f\\u043b\\u043e\\u0434\\u0438\\u0435            \\u0436\\u0435\\u043d\\u0441\\u043a\\u043e\\u0435 \\u0431\\u0435\\u0441\\u043f\\u043b\\u043e\\u0434\\u0438\\u0435  \\u043e\\u0431\\u0443\\u0441\\u043b\\u043e\\u0432\\u043b\\u0435\\u043d\",\"\\u0431\\u0435\\u0441\\u043f\\u043b\\u043e\\u0434\\u0438\\u0435          \\u0434\\u0440\\u0443\\u0433\\u0438\\u0435 \\u0444\\u043e\\u0440\\u043c\\u044b \\u0436\\u0435\\u043d\\u0441\\u043a\\u043e\\u0433\\u043e \\u0431\\u0435\\u0441\\u043f\\u043b\\u043e\\u0434\\u0438\\u044f\",\"\\u0431\\u0435\\u0441\\u043f\\u043b\\u043e\\u0434\\u0438\\u0435     \\u0440\\u0443\\u0431\\u0435\\u0446 \\u043d\\u0430 \\u043c\\u0430\\u0442\\u043a\\u0435        \\u0430\\u0434\\u0435\\u043d\\u043e\\u043c\\u0438\\u043e\\u0437     \",\"\\u0431\\u0435\\u0441\\u043f\\u043b\\u043e\\u0434\\u0438\\u0435     \\u0445\\u0440\\u043e\\u043d\\u0438\\u0447\\u0435\\u0441\\u043a\\u0438\\u0439 \\u044d\\u043d\\u0434\\u043e\\u043c\\u0435\\u0442\\u0440\\u0438\\u0442        \\u0440\\u0443\\u0431\\u0435\\u0446 \",\"\\u043d\\u0435\\u0442\",\"\\u0431\\u0435\\u0441\\u043f\\u043b\\u043e\\u0434\\u0438\\u0435     \\u0441\\u043c\\u0435\\u0448\\u0430\\u043d\\u043d\\u043e\\u0435  \\u0442\\u0440\\u0443\\u0431\\u043d\\u043e \\u043f\\u0435\\u0440\\u0438\\u0442\\u043e\\u043d\\u0435\\u0430\\u043b\\u044c\\u043d\\u044b\\u0439   \\u043c\",\"\\u0431\\u0435\\u0441\\u043f\\u043b\\u043e\\u0434\\u0438\\u0435     \\u0442\\u0440\\u0443\\u0431\\u043d\\u043e\\u0435  \\u043e\\u0431\\u0443\\u0441\\u043b\\u043e\\u0432\\u043b\\u0435\\u043d\\u043d\\u043e\\u0435 \\u0433\\u0435\\u043d\\u0435\\u0442\\u0438\\u0447\\u0435\\u0441\\u043a\\u0438\\u043c \",\"\\u043d\\u0435\\u0442\",\"\\u0431\\u0435\\u0441\\u043f\\u043b\\u043e\\u0434\\u0438\\u0435     \\u043c\\u0443\\u0436\\u0441\\u043a\\u043e\\u0439 \\u0444\\u0430\\u043a\\u0442\\u043e\\u0440 \\u0440\\u0443\\u0431\\u0435\\u0446 \\u043d\\u0430 \\u043c\\u0430\\u0442\\u043a\\u0435 \\u043f\\u043e\\u0441\\u043b\\u0435 \",\"\\u0431\\u0435\\u0441\\u043f\\u043b\\u043e\\u0434\\u0438\\u0435     \\u043d\\u0433\\u044d  \\u0438\\u0441\\u0441\\u0435\\u0447\\u0435\\u043d\\u0438\\u0435 \\u043e\\u0447\\u0430\\u0433\\u043e\\u0432 \\u044d\\u043d\\u0434\\u043e\\u043c\\u0435\\u0442\\u0440\\u0438\\u043e\\u0437\\u0430 \\u0432\",\"\\u0431\\u0435\\u0441\\u043f\\u043b\\u043e\\u0434\\u0438\\u0435      \\u0440\\u0443\\u0431\\u0435\\u0446 \\u043d\\u0430 \\u043c\\u0430\\u0442\\u043a\\u0435  \\u043a\\u0435\\u0441\\u0430\\u0440\\u0435\\u0432\\u043e \\u0441\\u0435\\u0447\\u0435\\u043d\\u0438\\u0435   \",\"\\u0431\\u0435\\u0441\\u043f\\u043b\\u043e\\u0434\\u0438\\u0435    \\u0430\\u0431\\u0441\\u043e\\u043b\\u044e\\u0442\\u043d\\u043e\\u0435 \\u0442\\u0440\\u0443\\u0431\\u043d\\u043e\\u0435         \\u0440\\u0443\\u0431\\u0435\\u0446 \\u043d\\u0430 \\u043c\",\"\\u0431\\u0435\\u0441\\u043f\\u043b\\u043e\\u0434\\u0438\\u0435     \\u0430\\u043d\\u043e\\u0432\\u0443\\u043b\\u044f\\u0446\\u0438\\u044f         \\u043c\\u0443\\u0436\\u0441\\u043a\\u043e\\u0439 \\u0444\\u0430\\u043a\\u0442\\u043e\\u0440   \",\"\\u0431\\u0435\\u0441\\u043f\\u043b\\u043e\\u0434\\u0438\\u0435    \\u043c\\u0443\\u0436\\u0441\\u043a\\u043e\\u0439 \\u0444\\u0430\\u043a\\u0442\\u043e\\u0440  \\u043e\\u0433\\u0430  \\u0443\\u0434\\u0430\\u043b\\u0435\\u043d\\u0438\\u0435 \\u0434\\u0435\\u0440\\u043c\\u043e\\u0438\\u0434\",\"\\u0431\\u0435\\u0441\\u043f\\u043b\\u043e\\u0434\\u0438\\u0435     \\u043f\\u0430\\u0440\\u0430\\u043e\\u0432\\u0430\\u0440\\u0438\\u0430\\u043b\\u044c\\u043d\\u0430\\u044f \\u043a\\u0438\\u0441\\u0442\\u0430 \\u0441\\u043b\\u0435\\u0432\\u0430   \\u043e\\u0430\\u0433\\u0430 \\u0440\",\"\\u0431\\u0435\\u0441\\u043f\\u043b\\u043e\\u0434\\u0438\\u0435     \\u043c\\u0438\\u043e\\u043c\\u0430 \\u043c\\u0430\\u0442\\u043a\\u0438  \\u043e\\u0430\\u0433\\u0430 \",\"\\u0431\\u0435\\u0441\\u043f\\u043b\\u043e\\u0434\\u0438\\u0435     \\u043c\\u0443\\u0436\\u0441\\u043a\\u043e\\u0439 \\u0444\\u0430\\u043a\\u0442\\u043e\\u0440        \\u0445\\u0440\\u043e\\u043d\\u0438\\u0447\\u0435\\u0441\\u043a\\u0438\\u0439 \\u0441\\u0430\",\"\\u0431\\u0435\\u0441\\u043f\\u043b\\u043e\\u0434\\u0438\\u0435          \\u0436\\u0435\\u043d\\u0441\\u043a\\u043e\\u0435 \\u0431\\u0435\\u0441\\u043f\\u043b\\u043e\\u0434\\u0438\\u0435  \\u043e\\u0431\\u0443\\u0441\\u043b\\u043e\\u0432\\u043b\\u0435\\u043d\\u043d\\u043e\",\"\\u0431\\u0435\\u0441\\u043f\\u043b\\u043e\\u0434\\u0438\\u0435            \\u0436\\u0435\\u043d\\u0441\\u043a\\u043e\\u0435 \\u0431\\u0435\\u0441\\u043f\\u043b\\u043e\\u0434\\u0438\\u0435  \\u043e\\u0431\\u0441\\u0443\\u043b\\u043e\\u0432\\u043b\\u0435\\u043d\",\"\\u0431\\u0435\\u0441\\u043f\\u043b\\u043e\\u0434\\u0438\\u0435            \\u0434\\u0440\\u0443\\u0433\\u0438\\u0435 \\u0444\\u043e\\u0440\\u043c\\u044b \\u0436\\u0435\\u043d\\u0441\\u043a\\u043e\\u0433\\u043e \\u0431\\u0435\\u0441\\u043f\\u043b\\u043e\\u0434\",\"\\u0436\\u0435\\u043d\\u0441\\u043a\\u043e\\u0435 \\u0431\\u0435\\u0441\\u043f\\u043b\\u043e\\u0434\\u0438\\u0435  \\u0441\\u0432\\u044f\\u0437\\u0430\\u043d\\u043d\\u043e\\u0435 \\u0441 \\u043c\\u0443\\u0436\\u0441\\u043a\\u0438\\u043c\\u0438 \\u0444\\u0430\\u043a\\u0442\\u043e\\u0440\\u0430\\u043c\\u0438\",\"\\u0436\\u0435\\u043d\\u0441\\u043a\\u043e\\u0435 \\u0431\\u0435\\u0441\\u043f\\u043b\\u043e\\u0434\\u0438\\u0435    \\u0441\\u043e\\u0447\\u0435\\u0442\\u0430\\u043d\\u043d\\u043e\\u0435        \\u0442\\u0440\\u0443\\u0431\\u043d\\u043e\\u0433\\u043e \\u043f\\u0440\",\"\\u0431\\u0435\\u0441\\u043f\\u043b\\u043e\\u0434\\u0438\\u0435           \\u0436\\u0435\\u043d\\u0441\\u043a\\u043e\\u0435 \\u0431\\u0435\\u0441\\u043f\\u043b\\u043e\\u0434\\u0438\\u0435 \\u0442\\u0440\\u0443\\u0431\\u043d\\u043e \\u043f\\u0435\\u0440\\u0438\\u0442\",\"\\u0431\\u0435\\u0441\\u043f\\u043b\\u043e\\u0434\\u0438\\u0435           \\u0436\\u0435\\u043d\\u0441\\u043a\\u043e\\u0435 \\u0431\\u0435\\u0441\\u043f\\u043b\\u043e\\u0434\\u0438\\u0435   \\u043e\\u0431\\u0443\\u0441\\u043b\\u043e\\u0432\\u043b\\u0435\\u043d\",\"\\u0431\\u0435\\u0441\\u043f\\u043b\\u043e\\u0434\\u0438\\u0435   \\u0445\\u0440\\u043e\\u043d\\u0438\\u0447\\u0435\\u0441\\u043a\\u0438\\u0439 \\u0441\\u0430\\u043b\\u044c\\u043f\\u0438\\u043d\\u0433\\u043e\\u043e\\u0444\\u043e\\u0440\\u0438\\u0442        \\u043f\\u0440\\u0438\",\"\\u043f\\u0435\\u0440\\u0432\\u0438\\u0447\\u043d\\u043e\\u0435 \\u0431\\u0435\\u0441\\u043f\\u043b\\u043e\\u0434\\u0438\\u0435  \\u0430\\u0434\\u043d\\u0435\\u043a\\u0441\\u044d\\u043a\\u0442\\u043e\\u043c\\u0438\\u044f \\u0441\\u043f\\u0440\\u0430\\u0432\\u0430         \",\"\\u0431\\u0435\\u0441\\u043f\\u043b\\u043e\\u0434\\u0438\\u0435           \\u0434\\u0440\\u0443\\u0433\\u0438\\u0435 \\u0444\\u043e\\u0440\\u043c\\u044b \\u0436\\u0435\\u043d\\u0441\\u043a\\u043e\\u0433\\u043e \\u0431\\u0435\\u0441\\u043f\\u043b\\u043e\\u0434\\u0438\",\"\\u0431\\u0435\\u0441\\u043f\\u043b\\u043e\\u0434\\u0438\\u0435    \\u0445\\u0440\\u043e\\u043d\\u0438\\u0447\\u0435\\u0441\\u043a\\u0438\\u0439 \\u0441\\u0430\\u043b\\u044c\\u043f\\u0438\\u043d\\u0433\\u043e\\u043e\\u0444\\u043e\\u0440\\u0438\\u0442        \\u0441\\u043f\",\"\\u0431\\u0435\\u0441\\u043f\\u043b\\u043e\\u0434\\u0438\\u0435    \\u0445\\u0440\\u043e\\u043d\\u0438\\u0447\\u0435\\u0441\\u043a\\u0438\\u0439 \\u0441\\u0430\\u043b\\u044c\\u043f\\u0438\\u043d\\u0433\\u043e\\u043e\\u0444\\u043e\\u0440\\u0438\\u0442        \\u0441\\u043f\",\"\\u0431\\u0435\\u0441\\u043f\\u043b\\u043e\\u0434\\u0438\\u0435    \\u0440\\u0443\\u0431\\u0435\\u0446 \\u043d\\u0430 \\u043c\\u0430\\u0442\\u043a\\u0435 \\u043f\\u043e\\u0441\\u043b\\u0435 \\u043a\\u0435\\u0441\\u0430\\u0440\\u0435\\u0432\\u0430 \\u0441\\u0435\\u0447\\u0435\\u043d\\u0438\\u044f\",\"\\u0431\\u0435\\u0441\\u043f\\u043b\\u043e\\u0434\\u0438\\u0435     \\u0430\\u0431\\u0441\\u043e\\u043b\\u044e\\u0442\\u043d\\u043e\\u0435 \\u0442\\u0440\\u0443\\u0431\\u043d\\u043e\\u0435         \\u043f\\u0440\\u0438\\u043e\\u0431\\u0440\\u0435\\u0442\\u0435\",\"\\u0431\\u0435\\u0441\\u043f\\u043b\\u043e\\u0434\\u0438\\u0435     \\u0441\\u043c\\u0435\\u0448\\u0430\\u043d\\u043d\\u043e\\u0435   \\u0441\\u0442\\u043e\\u0440\\u043e\\u043d\\u043d\\u044f\\u044f \\u0442\\u0443\\u0431\\u044d\\u043a\\u0442\\u043e\\u043c\\u0438\\u044f \\u0432 \\u0430\",\"\\u0431\\u0435\\u0441\\u043f\\u043b\\u043e\\u0434\\u0438\\u0435           \\u0436\\u0435\\u043d\\u0441\\u043a\\u043e\\u0435 \\u0431\\u0435\\u0441\\u043f\\u043b\\u043e\\u0434\\u0438\\u0435 \\u0442\\u0440\\u0443\\u0431\\u043d\\u043e \\u043f\\u0435\\u0440\\u0438\\u0442\",\"\\u0431\\u0435\\u0441\\u043f\\u043b\\u043e\\u0434\\u0438\\u0435           \\u0436\\u0435\\u043d\\u0441\\u043a\\u043e\\u0435 \\u0431\\u0435\\u0441\\u043f\\u043b\\u043e\\u0434\\u0438\\u0435 \\u0442\\u0440\\u0443\\u0431\\u043d\\u043e \\u043f\\u0435\\u0440\\u0438\\u0442\",\"\\u0431\\u0435\\u0441\\u043f\\u043b\\u043e\\u0434\\u0438\\u0435     \\u0430\\u0431\\u0441\\u043e\\u043b\\u044e\\u0442\\u043d\\u044b\\u0439 \\u0442\\u0440\\u0443\\u0431\\u043d\\u044b\\u0439 \\u0444\\u0430\\u043a\\u0442\\u043e\\u0440 \\u0445\\u0440\\u043e\\u043d\\u0438\\u0447\\u0435\\u0441\\u043a\\u0438\",\"\\u0431\\u0435\\u0441\\u043f\\u043b\\u043e\\u0434\\u0438\\u0435   \\u0445\\u0440\\u043e\\u043d\\u0438\\u0447\\u0435\\u0441\\u043a\\u0438\\u0439 \\u0441\\u0430\\u043b\\u044c\\u043f\\u0438\\u043d\\u0433\\u043e\\u043e\\u0444\\u043e\\u0440\\u0438\\u0442        \\u043f\\u0440\\u0438\",\"\\u0431\\u0435\\u0441\\u043f\\u043b\\u043e\\u0434\\u0438\\u0435     \\u044d\\u043d\\u0434\\u043e\\u043c\\u0435\\u0442\\u0440\\u0438\\u043e\\u0437 \\u044f\\u0438\\u0447\\u043d\\u0438\\u043a\\u043e\\u0432        \\u0441\\u043f\\u0430\\u0435\\u0447\\u043d\\u044b\\u0439\",\"\\u0431\\u0435\\u0441\\u043f\\u043b\\u043e\\u0434\\u0438\\u0435    \\u0430\\u0431\\u0441\\u043e\\u043b\\u044e\\u0442\\u043d\\u044b\\u0439 \\u0442\\u0440\\u0443\\u0431\\u043d\\u044b\\u0439 \\u0444\\u0430\\u043a\\u0442\\u043e\\u0440  \\u043f\\u0440\\u0438\\u043e\\u0431\\u0440\\u0435\\u0442\\u0435\\u043d\",\"\\u043d\\u0435\\u0442\",\"\\u0431\\u0435\\u0441\\u043f\\u043b\\u043e\\u0434\\u0438\\u0435   \\u0441\\u0438\\u043d\\u0435\\u0445\\u0438\\u0438 \\u043f\\u043e\\u043b\\u043e\\u0441\\u0442\\u0438 \\u043c\\u0430\\u0442\\u043a\\u0438        \\u0430\\u0434\\u0435\\u043d\\u043e\\u043c\\u0438\\u043e\\u0437\",\"\\u0431\\u0435\\u0441\\u043f\\u043b\\u043e\\u0434\\u0438\\u0435     \\u0442\\u0440\\u0443\\u0431\\u043d\\u043e \\u043f\\u0435\\u0440\\u0438\\u0442\\u043e\\u043d\\u0435\\u0430\\u043b\\u044c\\u043d\\u044b\\u0439 \\u0444\\u0430\\u043a\\u0442\\u043e\\u0440 \\u0440\\u0443\\u0431\\u0435\\u0446 \\u043d\",\"\\u0431\\u0435\\u0441\\u043f\\u043b\\u043e\\u0434\\u0438\\u0435     \\u0445\\u0440\\u043e\\u043d\\u0438\\u0447\\u0435\\u0441\\u043a\\u0438\\u0439 \\u0441\\u0430\\u043b\\u044c\\u043f\\u0438\\u043d\\u0433\\u043e\\u043e\\u0444\\u043e\\u0440\\u0438\\u0442        \\u0441\",\"\\u0431\\u0435\\u0441\\u043f\\u043b\\u043e\\u0434\\u0438\\u0435           \\u0436\\u0435\\u043d\\u0441\\u043a\\u043e\\u0435 \\u0431\\u0435\\u0441\\u043f\\u043b\\u043e\\u0434\\u0438\\u0435 \\u0442\\u0440\\u0443\\u0431\\u043d\\u043e \\u043f\\u0435\\u0440\\u0438\\u0442\",\"\\u0431\\u0435\\u0441\\u043f\\u043b\\u043e\\u0434\\u0438\\u0435   \\u043f\\u043e\\u043b\\u0438\\u043f \\u044d\\u043d\\u0434\\u043e\\u043c\\u0435\\u0442\\u0440\\u0438\\u044f  \\u0443\\u0434\\u0430\\u043b\\u0435\\u043d \\u0432 \\u0438\\u044e\\u043d\\u0435      \\u0433\",\"\\u0431\\u0435\\u0441\\u043f\\u043b\\u043e\\u0434\\u0438\\u0435     \\u0445\\u0440\\u043e\\u043d\\u0438\\u0447\\u0435\\u0441\\u043a\\u0438\\u0439 \\u0441\\u0430\\u043b\\u044c\\u043f\\u0438\\u043d\\u0433\\u043e\\u043e\\u0444\\u043e\\u0440\\u0438\\u0442        \\u0445\",\"\\u0431\\u0435\\u0441\\u043f\\u043b\\u043e\\u0434\\u0438\\u0435     \\u043c\\u0438\\u043e\\u043c\\u0430 \\u043c\\u0430\\u0442\\u043a\\u0438      \\u0430\\u0434\\u0435\\u043d\\u043e\\u043c\\u0438\\u043e\\u0437        \\u0433\\u0438\",\"\\u0431\\u0435\\u0441\\u043f\\u043b\\u043e\\u0434\\u0438\\u0435    \\u0445\\u0440\\u043e\\u043d\\u0438\\u0447\\u0435\\u0441\\u043a\\u0438\\u0439 \\u0441\\u0430\\u043b\\u044c\\u043f\\u0438\\u043d\\u0433\\u043e\\u043e\\u0444\\u043e\\u0440\\u0438\\u0442          \",\"\\u0431\\u0435\\u0441\\u043f\\u043b\\u043e\\u0434\\u0438\\u0435    \\u043c\\u0438\\u043e\\u043c\\u0430 \\u043c\\u0430\\u0442\\u043a\\u0438  \\u0430\\u0434\\u0435\\u043d\\u043e\\u043c\\u0438\\u043e\\u0437  \\u0445\\u0440\\u043e\\u043d\\u0438\\u0447\\u0435\\u0441\\u043a\\u0438\\u0439 \\u0441\",\"\\u0431\\u0435\\u0441\\u043f\\u043b\\u043e\\u0434\\u0438\\u0435     \\u0430\\u0434\\u0435\\u043d\\u043e\\u043c\\u0438\\u043e\\u0437        \\u044d\\u043d\\u0434\\u043e\\u043c\\u0435\\u0442\\u0440\\u0438\\u043e\\u0437 \\u044f\\u0438\\u0447\\u043d\\u0438\\u043a\\u043e\",\"\\u0431\\u0435\\u0441\\u043f\\u043b\\u043e\\u0434\\u0438\\u0435    \\u0445\\u0440\\u043e\\u043d\\u0438\\u0447\\u0435\\u0441\\u043a\\u0438\\u0439 \\u044d\\u043d\\u0434\\u043e\\u043c\\u0435\\u0442\\u0440\\u0438\\u0442        \\u0430\\u0434\\u0435\\u043d\\u043e\\u043c\\u0438\",\"\\u0431\\u0435\\u0441\\u043f\\u043b\\u043e\\u0434\\u0438\\u0435     \\u043c\\u0443\\u0436\\u0441\\u043a\\u043e\\u0439 \\u0444\\u0430\\u043a\\u0442\\u043e\\u0440       \\u043d\\u0430\\u0441\\u043b\\u0435\\u0434\\u0441\\u0442\\u0432\\u0435\\u043d\\u043d\\u0430\\u044f \",\"\\u0431\\u0435\\u0441\\u043f\\u043b\\u043e\\u0434\\u0438\\u0435     \\u043c\\u0443\\u0436\\u0441\\u043a\\u043e\\u0439 \\u0444\\u0430\\u043a\\u0442\\u043e\\u0440      \",\"\\u0431\\u0435\\u0441\\u043f\\u043b\\u043e\\u0434\\u0438\\u0435     \\u043d\\u0435\\u0432\\u044b\\u043d\\u0430\\u0448\\u0438\\u0432\\u0430\\u043d\\u0438\\u0435 \\u0431\\u0435\\u0440\\u0435\\u043c\\u0435\\u043d\\u043d\\u043e\\u0441\\u0442\\u0438 \\u0432 \\u0430\\u043d\\u0430\\u043c\\u043d\\u0435\\u0437\",\"\\u0431\\u0435\\u0441\\u043f\\u043b\\u043e\\u0434\\u0438\\u0435           \\u0436\\u0435\\u043d\\u0441\\u043a\\u043e\\u0435 \\u0431\\u0435\\u0441\\u043f\\u043b\\u043e\\u0434\\u0438\\u0435  \\u043e\\u0431\\u0443\\u0441\\u043b\\u043e\\u0432\\u043b\\u0435\\u043d\\u043d\",\"\\u043d\\u0435\\u0442\",\"\\u0431\\u0435\\u0441\\u043f\\u043b\\u043e\\u0434\\u0438\\u0435     \\u0430\\u0434\\u0435\\u043d\\u043e\\u043c\\u0438\\u043e\\u0437        \\u043f\\u0440\\u0438\\u043e\\u0431\\u0440\\u0435\\u0442\\u0435\\u043d\\u043d\\u043e\\u0435 \\u043e\\u0442\\u0441\\u0443\\u0442\",\"\\u0431\\u0435\\u0441\\u043f\\u043b\\u043e\\u0434\\u0438\\u0435     \\u0442\\u0440\\u0443\\u0431\\u043d\\u043e \\u043f\\u0435\\u0440\\u0438\\u0442\\u043e\\u043d\\u0435\\u0430\\u043b\\u044c\\u043d\\u043e\\u0435  \\u043f\\u0440\\u0438\\u043e\\u0431\\u0440\\u0435\\u0442\\u0435\\u043d\\u043d\\u043e\\u0435\",\"\\u0431\\u0435\\u0441\\u043f\\u043b\\u043e\\u0434\\u0438\\u0435    \\u0441\\u043f\\u044f        \\u0430\\u043d\\u043e\\u0432\\u0443\\u043b\\u044f\\u0446\\u0438\\u044f        \\u0438\\u0437\\u0431\\u044b\\u0442\\u043e\\u0447\\u043d\",\"\\u0431\\u0435\\u0441\\u043f\\u043b\\u043e\\u0434\\u0438\\u0435     \\u0442\\u0440\\u0443\\u0431\\u043d\\u044b\\u0439  \\u043c\\u0443\\u0436\\u0441\\u043a\\u043e\\u0439 \\u0444\\u0430\\u043a\\u0442\\u043e\\u0440  \\u0445\\u0440\\u043e\\u043d\\u0438\\u0447\\u0435\\u0441\\u043a\\u0438\\u0439\",\"\\u043d\\u0435\\u0442\",\"\\u0431\\u0435\\u0441\\u043f\\u043b\\u043e\\u0434\\u0438\\u0435           \\u043f\\u0440\\u0438\\u043e\\u0431\\u0440\\u0435\\u0442\\u0435\\u043d\\u043d\\u043e\\u0435 \\u043e\\u0442\\u0441\\u0443\\u0442\\u0441\\u0442\\u0432\\u0438\\u0435 \\u043e\\u0440\\u0433\\u0430\\u043d\",\"\\u0431\\u0435\\u0441\\u043f\\u043b\\u043e\\u0434\\u0438\\u0435     \\u043f\\u0440\\u0438\\u043e\\u0431\\u0440\\u0435\\u0442\\u0435\\u043d\\u043d\\u043e\\u0435 \\u043e\\u0442\\u0441\\u0443\\u0442\\u0441\\u0442\\u0432\\u0438\\u0435 \\u043e\\u0440\\u0433\\u0430\\u043d \\u0430 \\u0430\\u0431\\u0441\",\"\\u0431\\u0435\\u0441\\u043f\\u043b\\u043e\\u0434\\u0438\\u0435    \\u0430\\u0431\\u0441\\u043e\\u043b\\u044e\\u0442\\u043d\\u044b\\u0439 \\u0442\\u0440\\u0443\\u0431\\u043d\\u044b\\u0439 \\u0444\\u0430\\u043a\\u0442\\u043e\\u0440 \\u043c\\u0443\\u0436\\u0441\\u043a\\u043e\\u0439 \\u0444\\u0430\\u043a\",\"\\u0431\\u0435\\u0441\\u043f\\u043b\\u043e\\u0434\\u0438\\u0435     \\u0445\\u0440\\u043e\\u043d\\u0438\\u0447\\u0435\\u0441\\u043a\\u0438\\u0439 \\u0441\\u0430\\u043b\\u044c\\u043f\\u0438\\u043d\\u0433\\u043e\\u043e\\u0444\\u043e\\u0440\\u0438\\u0442        \\u0445\",\"\\u0431\\u0435\\u0441\\u043f\\u043b\\u043e\\u0434\\u0438\\u0435           \\u0432\\u0430\\u0440\\u0438\\u043a\\u043e\\u0437\\u043d\\u043e\\u0435 \\u0440\\u0430\\u0441\\u0448\\u0438\\u0440\\u0435\\u043d\\u0438\\u0435 \\u0432\\u0435\\u043d \\u043c\\u0430\\u043b\\u043e\",\"\\u0431\\u0435\\u0441\\u043f\\u043b\\u043e\\u0434\\u0438\\u0435   \\u043c\\u0438\\u043e\\u043c\\u0430 \\u043c\\u0430\\u0442\\u043a\\u0438      \\u043a\\u0438\\u0441\\u0442\\u0430 \\u043f\\u0440\\u0430\\u0432\\u043e\\u0433\\u043e \\u044f\\u0438\\u0447\\u043d\\u0438\\u043a\\u0430\",\"\\u0431\\u0435\\u0441\\u043f\\u043b\\u043e\\u0434\\u0438\\u0435    \\u043d\\u0433\\u044d  \\u0442\\u0435\\u0440\\u0430\\u043f\\u0438\\u044f \\u0430\\u0433\\u043e\\u043d\\u0438\\u0441\\u0442\\u0430\\u043c\\u0438 \\u0433\\u043d\\u0440\\u0433   \\u0446\\u0438\\u043a\\u043b\\u0430 \",\"\\u0431\\u0435\\u0441\\u043f\\u043b\\u043e\\u0434\\u0438\\u0435    \\u0442\\u0440\\u0443\\u0431\\u043d\\u043e \\u043f\\u0435\\u0440\\u0438\\u0442\\u043e\\u043d\\u0435\\u0430\\u043b\\u044c\\u043d\\u044b\\u0439 \\u0444\\u0430\\u043a\\u0442\\u043e\\u0440\",\"\\u0431\\u0435\\u0441\\u043f\\u043b\\u043e\\u0434\\u0438\\u0435    \\u043c\\u0443\\u0436\\u0441\\u043a\\u043e\\u0439 \\u0444\\u0430\\u043a\\u0442\\u043e\\u0440       \\u0445\\u0440\\u043e\\u043d\\u0438\\u0447\\u0435\\u0441\\u043a\\u0438\\u0439 \\u0441\\u0430\\u043b\\u044c\",\"\\u043d\\u0435\\u0442\",\"\\u0431\\u0435\\u0441\\u043f\\u043b\\u043e\\u0434\\u0438\\u0435 \\u0432\\u0442\\u043e\\u0440\\u0438\\u0447\\u043d\\u043e\\u0435 \\u0442\\u0440\\u0443\\u0431\\u043d\\u043e \\u043f\\u0435\\u0440\\u0438\\u0442\\u043e\\u043d\\u0435\\u0430\\u043b\\u044c\\u043d\\u044b\\u0439 \\u0444\\u0430\\u043a\\u0442\\u043e\\u0440\",\"\\u0431\\u0435\\u0441\\u043f\\u043b\\u043e\\u0434\\u0438\\u0435    \\u043c\\u0443\\u0436\\u0441\\u043a\\u043e\\u0439 \\u0444\\u0430\\u043a\\u0442\\u043e\\u0440   \\u043a\\u0440\\u0438\\u043f\\u0442\\u043e\\u0437\\u043e\\u043e\\u0441\\u043f\\u0435\\u0440\\u043c\\u0438\\u044f  \\u0430\\u0437\",\"\\u0431\\u0435\\u0441\\u043f\\u043b\\u043e\\u0434\\u0438\\u0435    \\u043c\\u0443\\u0436\\u0441\\u043a\\u043e\\u0439 \\u0444\\u0430\\u043a\\u0442\\u043e\\u0440   \\u043a\\u0440\\u0438\\u043f\\u0442\\u043e\\u0437\\u043e\\u043e\\u0441\\u043f\\u0435\\u0440\\u043c\\u0438\\u044f  \\u0430\\u0437\",\"\\u0431\\u0435\\u0441\\u043f\\u043b\\u043e\\u0434\\u0438\\u0435     \\u043f\\u0440\\u0438\\u0432\\u044b\\u0447\\u043d\\u043e\\u0435 \\u043d\\u0435\\u0432\\u044b\\u043d\\u0430\\u0448\\u0438\\u0432\\u0430\\u043d\\u0438\\u0435 \\u0431\\u0435\\u0440\\u0435\\u043c\\u0435\\u043d\\u043d\\u043e\\u0441\\u0442\\u0438\",\"\\u0431\\u0435\\u0441\\u043f\\u043b\\u043e\\u0434\\u0438\\u0435   \\u043c\\u0443\\u0436\\u0441\\u043a\\u043e\\u0439 \\u0444\\u0430\\u043a\\u0442\\u043e\\u0440        \\u0430\\u0441\\u043f\\u0435\\u0440\\u043c\\u0438\\u044f  \\u0434\\u0438\\u0441\\u0433\\u0435\\u043d\",\"\\u0431\\u0435\\u0441\\u043f\\u043b\\u043e\\u0434\\u0438\\u0435    \\u0430\\u0431\\u0441\\u043e\\u043b\\u044e\\u0442\\u043d\\u044b\\u0439 \\u0442\\u0440\\u0443\\u0431\\u043d\\u044b\\u0439 \\u0444\\u0430\\u043a\\u0442\\u043e\\u0440 \\u043f\\u043e\\u0437\\u0434\\u043d\\u0438\\u0439 \\u0440\\u0435\\u043f\",\"\\u0431\\u0435\\u0441\\u043f\\u043b\\u043e\\u0434\\u0438\\u0435    \\u043c\\u0443\\u0436\\u0441\\u043a\\u043e\\u0439 \\u0444\\u0430\\u043a\\u0442\\u043e\\u0440\",\"\\u0431\\u0435\\u0441\\u043f\\u043b\\u043e\\u0434\\u0438\\u0435   \\u043c\\u0443\\u0436\\u0441\\u043a\\u043e\\u0439 \\u0444\\u0430\\u043a\\u0442\\u043e\\u0440        \\u0445\\u0440\\u043e\\u043d\\u0438\\u0447\\u0435\\u0441\\u043a\\u0438\\u0439 \\u044d\\u043d\\u0434\\u043e\",\"\\u043d\\u0435\\u0442\",\"\\u0431\\u0435\\u0441\\u043f\\u043b\\u043e\\u0434\\u0438\\u0435     \\u0430\\u0434\\u0435\\u043d\\u043e\\u043c\\u0438\\u043e\\u0437        \\u043f\\u043e\\u0437\\u0434\\u043d\\u0438\\u0439 \\u0440\\u0435\\u043f\\u0440\\u043e\\u0434\\u0443\\u043a\\u0442\\u0438\\u0432\",\"\\u0431\\u0435\\u0441\\u043f\\u043b\\u043e\\u0434\\u0438\\u0435           \\u0436\\u0435\\u043d\\u0441\\u043a\\u043e\\u0435 \\u0431\\u0435\\u0441\\u043f\\u043b\\u043e\\u0434\\u0438\\u0435 \\u0442\\u0440\\u0443\\u0431\\u043d\\u043e \\u043f\\u0435\\u0440\\u0438\\u0442\",\"\\u0431\\u0435\\u0441\\u043f\\u043b\\u043e\\u0434\\u0438\\u0435               \\u0436\\u0435\\u043d\\u0441\\u043a\\u043e\\u0435 \\u0431\\u0435\\u0441\\u043f\\u043b\\u043e\\u0434\\u0438\\u0435  \\u0438\\u0434\\u0438\\u043e\\u043f\\u0430\\u0442\",\"\\u0431\\u0435\\u0441\\u043f\\u043b\\u043e\\u0434\\u0438\\u0435          \\u0436\\u0435\\u043d\\u0441\\u043a\\u043e\\u0435 \\u0431\\u0435\\u0441\\u043f\\u043b\\u043e\\u0434\\u0438\\u0435 \\u0442\\u0440\\u0443\\u0431\\u043d\\u043e \\u043f\\u0435\\u0440\\u0438\\u0442\\u043e\",\"\\u0431\\u0435\\u0441\\u043f\\u043b\\u043e\\u0434\\u0438\\u0435    \\u0441\\u043e\\u0447\\u0435\\u0442\\u0430\\u043d\\u043d\\u043e\\u0435  \\u043c\\u0443\\u0436\\u0441\\u043a\\u043e\\u0439 \\u0444\\u0430\\u043a\\u0442\\u043e\\u0440  \\u043e\\u0431\\u0443\\u0441\\u043b\\u043e\\u0432\\u043b\\u0435\",\"\\u0431\\u0435\\u0441\\u043f\\u043b\\u043e\\u0434\\u0438\\u0435    \\u0441\\u043e\\u0447\\u0435\\u0442\\u0430\\u043d\\u043d\\u043e\\u0435  \\u043c\\u0443\\u0436\\u0441\\u043a\\u043e\\u0439 \\u0444\\u0430\\u043a\\u0442\\u043e\\u0440  \\u043e\\u0431\\u0443\\u0441\\u043b\\u043e\\u0432\\u043b\\u0435\",\"\\u043d\\u0435\\u0442\",\"\\u0431\\u0435\\u0441\\u043f\\u043b\\u043e\\u0434\\u0438\\u0435     \\u043d\\u0433\\u044d   \\u0441\\u0442  \\u0442\\u0435\\u0440\\u0430\\u043f\\u0438\\u044f \\u0430\\u0433\\u043d\\u0440\\u0433     \\u0445\\u0440\\u043e\\u043d\\u0438\\u0447\\u0435\\u0441\",\"\\u0431\\u0435\\u0441\\u043f\\u043b\\u043e\\u0434\\u0438\\u0435     \\u043d\\u0433\\u044d   \\u0441\\u0442  \\u0442\\u0435\\u0440\\u0430\\u043f\\u0438\\u044f \\u0430\\u0433\\u043d\\u0440\\u0433     \\u0445\\u0440\\u043e\\u043d\\u0438\\u0447\\u0435\\u0441\",\"\\u0431\\u0435\\u0441\\u043f\\u043b\\u043e\\u0434\\u0438\\u0435           \\u0436\\u0435\\u043d\\u0441\\u043a\\u043e\\u0435 \\u0431\\u0435\\u0441\\u043f\\u043b\\u043e\\u0434\\u0438\\u0435 \\u0442\\u0440\\u0443\\u0431\\u043d\\u043e \\u043f\\u0435\\u0440\\u0438\\u0442\",\"\\u0431\\u0435\\u0441\\u043f\\u043b\\u043e\\u0434\\u0438\\u0435     \\u043c\\u0443\\u0436\\u0441\\u043a\\u043e\\u0439 \\u0444\\u0430\\u043a\\u0442\\u043e\\u0440       \\u043e\\u0433\\u0430  \\u043d\\u0435\\u0432\\u044b\\u043d\\u0430\\u0448\\u0438\\u0432\\u0430\",\"\\u0431\\u0435\\u0441\\u043f\\u043b\\u043e\\u0434\\u0438\\u0435   \\u0445\\u0440\\u043e\\u043d\\u0438\\u0447\\u0435\\u0441\\u043a\\u0438\\u0439 \\u044d\\u043d\\u0434\\u043e\\u043c\\u0435\\u0442\\u0440\\u0438\\u0442        \\u043f\\u0440\\u0438\\u043e\\u0431\\u0440\\u0435\\u0442\",\"\\u0431\\u0435\\u0441\\u043f\\u043b\\u043e\\u0434\\u0438\\u0435           \\u0436\\u0435\\u043d\\u0441\\u043a\\u043e\\u0435 \\u0431\\u0435\\u0441\\u043f\\u043b\\u043e\\u0434\\u0438\\u0435 \\u0442\\u0440\\u0443\\u0431\\u043d\\u043e \\u043f\\u0435\\u0440\\u0438\\u0442\",\"\\u0431\\u0435\\u0441\\u043f\\u043b\\u043e\\u0434\\u0438\\u0435     \\u043c\\u0443\\u0436\\u0441\\u043a\\u043e\\u0439 \\u0444\\u0430\\u043a\\u0442\\u043e\\u0440 \\u043e\\u0442\\u0440\\u0438\\u0446\\u0430\\u0442\\u0435\\u043b\\u044c\\u043d\\u044b\\u0435 \\u044d\\u043a\\u043e\",\"\\u0431\\u0435\\u0441\\u043f\\u043b\\u043e\\u0434\\u0438\\u0435     \\u043c\\u0443\\u0436\\u0441\\u043a\\u043e\\u0439 \\u0444\\u0430\\u043a\\u0442\\u043e\\u0440       \\u043e\\u0433\\u0430  \\u043d\\u0435\\u0432\\u044b\\u043d\\u0430\\u0448\\u0438\\u0432\\u0430\",\"\\u043d\\u0435\\u0442\",\"\\u0431\\u0435\\u0441\\u043f\\u043b\\u043e\\u0434\\u0438\\u0435   \\u043c\\u0443\\u0436\\u0441\\u043a\\u043e\\u0439 \\u0444\\u0430\\u043a\\u0442\\u043e\\u0440       \",\"\\u0431\\u0435\\u0441\\u043f\\u043b\\u043e\\u0434\\u0438\\u0435           \\u0436\\u0435\\u043d\\u0441\\u043a\\u043e\\u0435 \\u0431\\u0435\\u0441\\u043f\\u043b\\u043e\\u0434\\u0438\\u0435 \\u0442\\u0440\\u0443\\u0431\\u043d\\u043e \\u043f\\u0435\\u0440\\u0438\\u0442\",\"\\u0431\\u0435\\u0441\\u043f\\u043b\\u043e\\u0434\\u0438\\u0435     \\u0430\\u0434\\u0435\\u043d\\u043e\\u043c\\u0438\\u043e\\u0437        \\u044d\\u043d\\u0434\\u043e\\u043c\\u0435\\u0442\\u0440\\u0438\\u043e\\u0437 \\u0442\\u0430\\u0437\\u043e\\u0432\\u043e\\u0439\",\"\\u0431\\u0435\\u0441\\u043f\\u043b\\u043e\\u0434\\u0438\\u0435    \\u043d\\u0435\\u0443\\u0442\\u043e\\u0447\\u043d\\u0435\\u043d\\u043d\\u043e\\u0435  \\u043c\\u0438\\u043e\\u043c\\u0430 \\u043c\\u0430\\u0442\\u043a\\u0438  \\u0438\\u0437\\u0431\\u044b\\u0442\\u043e\\u0447\\u043d\\u0430\\u044f\",\"\\u0431\\u0435\\u0441\\u043f\\u043b\\u043e\\u0434\\u0438\\u0435     \\u043c\\u0438\\u043e\\u043c\\u0430 \\u043c\\u0430\\u0442\\u043a\\u0438      \\u043f\\u0440\\u0438\\u043e\\u0431\\u0440\\u0435\\u0442\\u0435\\u043d\\u043d\\u043e\\u0435 \\u043e\\u0442\\u0441\\u0443\\u0442\",\"\\u0431\\u0435\\u0441\\u043f\\u043b\\u043e\\u0434\\u0438\\u0435   \\u0445\\u0440\\u043e\\u043d\\u0438\\u0447\\u0435\\u0441\\u043a\\u0438\\u0439 \\u0441\\u0430\\u043b\\u044c\\u043f\\u0438\\u043d\\u0433\\u043e\\u043e\\u0444\\u043e\\u0440\\u0438\\u0442        \\u0430\\u0434\\u0435\",\"\\u0431\\u0435\\u0441\\u043f\\u043b\\u043e\\u0434\\u0438\\u0435     \\u043c\\u0443\\u0436\\u0441\\u043a\\u043e\\u0439 \\u0444\\u0430\\u043a\\u0442\\u043e\\u0440         \\u0440\\u0435\\u0437\\u0443\\u0441 \\u043e\\u0442\\u0440\\u0438\\u0446\\u0430\\u0442\",\"\\u0431\\u0435\\u0441\\u043f\\u043b\\u043e\\u0434\\u0438\\u0435     \\u043c\\u0443\\u0436\\u0441\\u043a\\u043e\\u0439 \\u0444\\u0430\\u043a\\u0442\\u043e\\u0440        \\u0440\\u0435\\u0437\\u0443\\u0441 \\u043e\\u0442\\u0440\\u0438\\u0446\\u0430\\u0442\\u0435\",\"\\u0431\\u0435\\u0441\\u043f\\u043b\\u043e\\u0434\\u0438\\u0435     \\u0440\\u0443\\u0431\\u0435\\u0446 \\u043d\\u0430 \\u043c\\u0430\\u0442\\u043a\\u0435 \\u043f\\u043e\\u0441\\u043b\\u0435 \\u043a\\u043e\\u043d\\u0441\\u0435\\u0440\\u0432\\u0430\\u0442\\u0438\\u0432\\u043d\\u043e\\u0439 \",\"\\u0431\\u0435\\u0441\\u043f\\u043b\\u043e\\u0434\\u0438\\u0435     \\u043c\\u0438\\u043e\\u043c\\u0430 \\u043c\\u0430\\u0442\\u043a\\u0438      \\u0430\\u0434\\u0435\\u043d\\u043e\\u043c\\u0438\\u043e\\u0437        \\u043f\\u0440\",\"\\u0431\\u0435\\u0441\\u043f\\u043b\\u043e\\u0434\\u0438\\u0435    \\u0441\\u043e\\u0447\\u0435\\u0442\\u0430\\u043d\\u043d\\u043e\\u0435  \\u0442\\u0440\\u0443\\u0431\\u043d\\u043e \\u043f\\u0435\\u0440\\u0438\\u0442\\u043e\\u043d\\u0435\\u0430\\u043b\\u044c\\u043d\\u043e\\u0435  \\u043c\\u0430\",\"\\u0431\\u0435\\u0441\\u043f\\u043b\\u043e\\u0434\\u0438\\u0435   \\u043c\\u0443\\u0436\\u0441\\u043a\\u043e\\u0439 \\u0444\\u0430\\u043a\\u0442\\u043e\\u0440      \",\"\\u0431\\u0435\\u0441\\u043f\\u043b\\u043e\\u0434\\u0438\\u0435     \\u0442\\u0440\\u0443\\u0431\\u043d\\u044b\\u0439 \\u0444\\u0430\\u043a\\u0442\\u043e\\u0440  \\u0441\\u043e\\u0441\\u0442\\u043e\\u044f\\u043d\\u0438\\u0435 \\u043f\\u043e\\u0441\\u043b\\u0435 \\u0442\\u0443\\u0431\\u044d\",\"\\u0431\\u0435\\u0441\\u043f\\u043b\\u043e\\u0434\\u0438\\u0435           \\u0436\\u0435\\u043d\\u0441\\u043a\\u043e\\u0435 \\u0431\\u0435\\u0441\\u043f\\u043b\\u043e\\u0434\\u0438\\u0435  \\u043e\\u0431\\u0443\\u0441\\u043b\\u043e\\u0432\\u043b\\u0435\\u043d\\u043d\",\"\\u0431\\u0435\\u0441\\u043f\\u043b\\u043e\\u0434\\u0438\\u0435     \\u0441\\u043e\\u0447\\u0435\\u0442\\u0430\\u043d\\u043d\\u043e\\u0435  \\u0442\\u0440\\u0443\\u0431\\u043d\\u043e \\u043f\\u0435\\u0440\\u0438\\u0442\\u043e\\u043d\\u0435\\u0430\\u043b\\u044c\\u043d\\u043e\\u0435  \\u043c\",\"\\u0431\\u0435\\u0441\\u043f\\u043b\\u043e\\u0434\\u0438\\u0435   \\u043d\\u0433\\u044d     \\u0441\\u0442               \\u043a\\u043e\\u043c\\u0431\\u043d\\u0438\\u0440\\u043e\\u0432\\u0430\\u043d\\u043d\\u043e\",\"\\u0431\\u0435\\u0441\\u043f\\u043b\\u043e\\u0434\\u0438\\u0435     \\u043d\\u0435\\u044f\\u0441\\u043d\\u043e\\u0433\\u043e \\u0433\\u0435\\u043d\\u0435\\u0437\\u0430  \\u0440\\u0443\\u0431\\u0435\\u0446 \\u043d\\u0430 \\u043c\\u0430\\u0442\\u043a\\u0435 \\u043f\\u043e\\u0441\\u043b\",\"\\u0431\\u0435\\u0441\\u043f\\u043b\\u043e\\u0434\\u0438\\u0435   \\u0445\\u0440\\u043e\\u043d\\u0438\\u0447\\u0435\\u0441\\u043a\\u0438\\u0439 \\u044d\\u043d\\u0434\\u043e\\u043c\\u0435\\u0442\\u0440\\u0438\\u0442        \\u043d\\u0430\\u0441\\u043b\\u0435\\u0434\\u0441\\u0442\",\"\\u0431\\u0435\\u0441\\u043f\\u043b\\u043e\\u0434\\u0438\\u0435    \\u043c\\u0443\\u0436\\u0441\\u043a\\u043e\\u0439 \\u0444\\u0430\\u043a\\u0442\\u043e\\u0440        \\u0430\\u0437\\u043e\\u043e\\u0441\\u043f\\u0435\\u0440\\u043c\\u0438\\u044f  \\u0436\\u0435\",\"\\u0431\\u0435\\u0441\\u043f\\u043b\\u043e\\u0434\\u0438\\u0435   \\u0445\\u0440\\u043e\\u043d\\u0438\\u0447\\u0435\\u0441\\u043a\\u0438\\u0439 \\u0441\\u0430\\u043b\\u044c\\u043f\\u0438\\u043d\\u0433\\u043e\\u043e\\u0444\\u043e\\u0440\\u0438\\u0442        \\u043f\\u0440\\u0438\",\"\\u0431\\u0435\\u0441\\u043f\\u043b\\u043e\\u0434\\u0438\\u0435            \\u0436\\u0435\\u043d\\u0441\\u043a\\u043e\\u0435 \\u0431\\u0435\\u0441\\u043f\\u043b\\u043e\\u0434\\u0438\\u0435  \\u0441\\u0432\\u044f\\u0437\\u0430\\u043d\\u043d\\u043e\\u0435 \",\"\\u0431\\u0435\\u0441\\u043f\\u043b\\u043e\\u0434\\u0438\\u0435    \\u0441\\u043e\\u0447\\u0435\\u0442\\u0430\\u043d\\u043d\\u043e\\u0435   \\u0430\\u0431\\u0441\\u043e\\u043b\\u044e\\u0442\\u043d\\u043e\\u0435 \\u0442\\u0440\\u0443\\u0431\\u043d\\u043e\\u0435  \\u0430\\u043d\\u043e\\u0432\",\"\\u043d\\u0435\\u0442\",\"\\u0431\\u0435\\u0441\\u043f\\u043b\\u043e\\u0434\\u0438\\u0435   \\u043f\\u0435\\u0440\\u0432\\u0438\\u0447\\u043d\\u0430\\u044f \\u043e\\u043b\\u0438\\u0433\\u043e\\u043c\\u0435\\u043d\\u043e\\u0440\\u0440\\u0435\\u044f \\u0432 \\u0430\\u043d\\u0430\\u043c\\u043d\\u0435\\u0437\\u0435    \",\"\\u0431\\u0435\\u0441\\u043f\\u043b\\u043e\\u0434\\u0438\\u0435     \\u0430\\u0434\\u0435\\u043d\\u043e\\u043c\\u0438\\u043e\\u0437        \\u043e\\u0433\\u0430  \\u043d\\u0435\\u0432\\u044b\\u043d\\u0430\\u0448\\u0438\\u0432\\u0430\\u043d\\u0438\\u0435 \",\"\\u0431\\u0435\\u0441\\u043f\\u043b\\u043e\\u0434\\u0438\\u0435            \\u0436\\u0435\\u043d\\u0441\\u043a\\u043e\\u0435 \\u0431\\u0435\\u0441\\u043f\\u043b\\u043e\\u0434\\u0438\\u0435  \\u043e\\u0431\\u0443\\u0441\\u043b\\u043e\\u0432\\u043b\\u0435\\u043d\",\"\\u0431\\u0435\\u0441\\u043f\\u043b\\u043e\\u0434\\u0438\\u0435      \\u0445\\u0440\\u043e\\u043d\\u0438\\u0447\\u0435\\u0441\\u043a\\u0438\\u0439 \\u0441\\u0430\\u043b\\u044c\\u043f\\u0438\\u043d\\u0433\\u043e\\u043e\\u0444\\u043e\\u0440\\u0438\\u0442        \",\"\\u0431\\u0435\\u0441\\u043f\\u043b\\u043e\\u0434\\u0438\\u0435     \\u0430\\u0434\\u0435\\u043d\\u043e\\u043c\\u0438\\u043e\\u0437        \\u043e\\u0433\\u0430  \\u043d\\u0433\\u044d        \\u0440\\u0435\\u0446\",\"\\u0431\\u0435\\u0441\\u043f\\u043b\\u043e\\u0434\\u0438\\u0435     \\u0441\\u043e\\u0447\\u0435\\u0442\\u0430\\u043d\\u043e\\u0435  \\u0442\\u0440\\u0443\\u0431\\u043d\\u043e \\u043f\\u0435\\u0440\\u0438\\u0442\\u043e\\u043d\\u0435\\u0430\\u043b\\u044c\\u043d\\u043e\\u0435  \\u043e\\u0431\",\"\\u0431\\u0435\\u0441\\u043f\\u043b\\u043e\\u0434\\u0438\\u0435    \\u0441\\u043e\\u0447\\u0435\\u0442\\u0430\\u043d\\u043d\\u043e\\u0435          \\u0436\\u0435\\u043d\\u0441\\u043a\\u043e\\u0435 \\u0431\\u0435\\u0441\\u043f\\u043b\\u043e\\u0434\\u0438\\u0435\",\"\\u0431\\u0435\\u0441\\u043f\\u043b\\u043e\\u0434\\u0438\\u0435    \\u0441\\u043e\\u0447\\u0435\\u0442\\u0430\\u043d\\u043d\\u043e\\u0435  \\u0430\\u043d\\u043e\\u043c\\u0430\\u043b\\u0438\\u0438 \\u043a\\u0430\\u0440\\u0438\\u043e\\u0442\\u0438\\u043f\\u0430   \\u043c\\u043e\\u0437\\u0430\",\"\\u0431\\u0435\\u0441\\u043f\\u043b\\u043e\\u0434\\u0438\\u0435   \\u0445\\u0440\\u043e\\u043d\\u0438\\u0447\\u0435\\u0441\\u043a\\u0438\\u0439 \\u0441\\u0430\\u043b\\u044c\\u043f\\u0438\\u043d\\u0433\\u043e\\u043e\\u0444\\u043e\\u0440\\u0438\\u0442        \\u043c\\u0443\\u0436\",\"\\u043d\\u0435\\u0442\",\"\\u0431\\u0435\\u0441\\u043f\\u043b\\u043e\\u0434\\u0438\\u0435    \\u0441\\u043e\\u0447\\u0435\\u0442\\u0430\\u043d\\u043d\\u043e\\u0435  \\u0436\\u0435\\u043d\\u0441\\u043a\\u043e\\u0435 \\u0431\\u0435\\u0441\\u043f\\u043b\\u043e\\u0434\\u0438\\u0435 \\u0442\\u0440\\u0443\\u0431\\u043d\\u043e \",\"\\u0431\\u0435\\u0441\\u043f\\u043b\\u043e\\u0434\\u0438\\u0435     \\u0434\\u0435\\u0444\\u0438\\u0446\\u0438\\u0442 \\u043c\\u0430\\u0441\\u0441\\u044b \\u0442\\u0435\\u043b\\u0430 \\u0434\\u0435\\u0444\\u043e\\u0440\\u043c\\u0430\\u0446\\u0438\\u044f \\u0448\\u0435\\u0439\\u043a\\u0438 \",\"\\u0431\\u0435\\u0441\\u043f\\u043b\\u043e\\u0434\\u0438\\u0435   \\u0445\\u0440\\u043e\\u043d\\u0438\\u0447\\u0435\\u0441\\u043a\\u0438\\u0439 \\u0441\\u0430\\u043b\\u044c\\u043f\\u0438\\u043d\\u0433\\u043e\\u043e\\u0444\\u043e\\u0440\\u0438\\u0442         \\u043c\\u043d\",\"\\u0431\\u0435\\u0441\\u043f\\u043b\\u043e\\u0434\\u0438\\u0435    \\u043c\\u0443\\u0436\\u0441\\u043a\\u043e\\u0439 \\u0444\\u0430\\u043a\\u0442\\u043e\\u0440 \\u0442\\u0440\\u0443\\u0431\\u043d\\u043e \\u043f\\u0435\\u0440\\u0438\\u0442\\u043e\\u043d\\u0435\\u0430\\u043b\\u044c\\u043d\\u043e\\u0435 \",\"\\u0431\\u0435\\u0441\\u043f\\u043b\\u043e\\u0434\\u0438\\u0435    \\u0441\\u043e\\u0447\\u0435\\u0442\\u0430\\u043d\\u043d\\u043e\\u0435        \\u0430\\u0431\\u0441\\u043e\\u043b\\u044e\\u0442\\u043d\\u043e\\u0435 \\u0442\\u0440\\u0443\\u0431\\u043d\\u043e\\u0435 \",\"\\u0431\\u0435\\u0441\\u043f\\u043b\\u043e\\u0434\\u0438\\u0435    \\u043c\\u043d\\u043e\\u0436\\u0435\\u0441\\u0442\\u0432\\u0435\\u043d\\u043d\\u0430\\u044f \\u043c\\u0438\\u043e\\u043c\\u0430 \\u043c\\u0430\\u0442\\u043a\\u0438      \\u043c\\u0435\\u043d\\u043e\\u043f\\u0430\",\"\\u0431\\u0435\\u0441\\u043f\\u043b\\u043e\\u0434\\u0438\\u0435    \\u0430\\u0431\\u0441\\u043e\\u043b\\u044e\\u0442\\u043d\\u043e\\u0435 \\u0442\\u0440\\u0443\\u0431\\u043d\\u043e\\u0435  \\u0445\\u0440\\u043e\\u043d\\u0438\\u0447\\u0435\\u0441\\u043a\\u0438\\u0439 \\u044d\\u043d\\u0434\\u043e\\u043c\",\"\\u043d\\u0435\\u0442\",\"\\u043d\\u0435\\u0442\",\"\\u0431\\u0435\\u0441\\u043f\\u043b\\u043e\\u0434\\u0438\\u0435     \\u0441\\u043d\\u0438\\u0436\\u0435\\u043d\\u0438\\u0435 \\u043e\\u0432\\u0430\\u0440\\u0438\\u0430\\u043b\\u044c\\u043d\\u043e\\u0433\\u043e \\u0440\\u0435\\u0437\\u0435\\u0440\\u0432\\u0430  \\u043c\\u0443\\u0436\\u0441\\u043a\",\"\\u0431\\u0435\\u0441\\u043f\\u043b\\u043e\\u0434\\u0438\\u0435      \\u0441\\u043f\\u044f        \\u0430\\u043d\\u043e\\u0432\\u0443\\u043b\\u044f\\u0446\\u0438\\u044f         \\u043f\\u0440\\u0438\\u043e\\u0431\",\"\\u0431\\u0435\\u0441\\u043f\\u043b\\u043e\\u0434\\u0438\\u0435      \\u0441\\u043f\\u044f        \\u0430\\u043d\\u043e\\u0432\\u0443\\u043b\\u044f\\u0446\\u0438\\u044f         \\u043f\\u0440\\u0438\\u043e\\u0431\",\"\\u0431\\u0435\\u0441\\u043f\\u043b\\u043e\\u0434\\u0438\\u0435     \\u043e\\u0431\\u0443\\u0441\\u043b\\u043e\\u0432\\u043b\\u0435\\u043d\\u043d\\u043e\\u0435 \\u044d\\u043d\\u0434\\u043e\\u043c\\u0435\\u0442\\u0440\\u0438\\u043e\\u0437\\u043e\\u043c  \\u043d\\u0433\\u044d  \\u044d\\u043d\",\"\\u0431\\u0435\\u0441\\u043f\\u043b\\u043e\\u0434\\u0438\\u0435            \\u0434\\u0440\\u0443\\u0433\\u0438\\u0435 \\u0444\\u043e\\u0440\\u043c\\u044b \\u0436\\u0435\\u043d\\u0441\\u043a\\u043e\\u0433\\u043e \\u0431\\u0435\\u0441\\u043f\\u043b\\u043e\\u0434\",\"\\u0431\\u0435\\u0441\\u043f\\u043b\\u043e\\u0434\\u0438\\u0435            \\u0434\\u0440\\u0443\\u0433\\u0438\\u0435 \\u0444\\u043e\\u0440\\u043c\\u044b \\u0436\\u0435\\u043d\\u0441\\u043a\\u043e\\u0433\\u043e \\u0431\\u0435\\u0441\\u043f\\u043b\\u043e\\u0434\",\"\\u0431\\u0435\\u0441\\u043f\\u043b\\u043e\\u0434\\u0438\\u0435     \\u0442\\u0440\\u0443\\u0431\\u043d\\u043e \\u043f\\u0435\\u0440\\u0438\\u0442\\u043e\\u043d\\u0435\\u0430\\u043b\\u044c\\u043d\\u043e\\u0435  \\u0430\\u0431\\u0441\\u043e\\u043b\\u044e\\u0442\\u043d\\u043e \\u0442\\u0440\\u0443\",\"\\u0431\\u0435\\u0441\\u043f\\u043b\\u043e\\u0434\\u0438\\u0435     \\u0442\\u0440\\u0443\\u0431\\u043d\\u043e \\u043f\\u0435\\u0440\\u0438\\u0442\\u043e\\u043d\\u0435\\u0430\\u043b\\u044c\\u043d\\u043e\\u0435  \\u0445\\u0440\\u043e\\u043d\\u0438\\u0447\\u0435\\u0441\\u043a\\u0438\\u0439 \\u0441\",\"\\u043d\\u0435\\u0442\",\"\\u0431\\u0435\\u0441\\u043f\\u043b\\u043e\\u0434\\u0438\\u0435    \\u043c\\u0443\\u0436\\u0441\\u043a\\u043e\\u0439 \\u0444\\u0430\\u043a\\u0442\\u043e\\u0440      \",\"\\u0431\\u0435\\u0441\\u043f\\u043b\\u043e\\u0434\\u0438\\u0435     \\u0430\\u0431\\u0441\\u043e\\u043b\\u044e\\u0442\\u043d\\u043e\\u0435 \\u0442\\u0440\\u0443\\u0431\\u043d\\u043e\\u0435  \\u0441\\u043e\\u0441\\u0442\\u043e\\u043d\\u0438\\u0435 \\u043f\\u043e\\u0441\\u043b\\u0435 \\u0434\",\"\\u0431\\u0435\\u0441\\u043f\\u043b\\u043e\\u0434\\u0438\\u0435     \\u0442\\u0440\\u0443\\u0431\\u043d\\u044b\\u0439 \\u0444\\u0430\\u043a\\u0442\\u043e\\u0440  \\u0445\\u0440 \\u0441\\u0430\\u043b\\u044c\\u043f\\u0438\\u043d\\u0433\\u043e\\u043e\\u0444\\u043e\\u0440\\u0438\\u0442  \",\"\\u0431\\u0435\\u0441\\u043f\\u043b\\u043e\\u0434\\u0438\\u0435     \\u0442\\u0440\\u0443\\u0431\\u043d\\u044b\\u0439 \\u0444\\u0430\\u043a\\u0442\\u043e\\u0440  \\u0445\\u0440 \\u0441\\u0430\\u043b\\u044c\\u043f\\u0438\\u043d\\u0433\\u043e\\u043e\\u0444\\u043e\\u0440\\u0438\\u0442  \",\"\\u043d\\u0435\\u0442\",\"\\u043d\\u0435\\u0442\",\"\\u0431\\u0435\\u0441\\u043f\\u043b\\u043e\\u0434\\u0438\\u0435     \\u0445\\u0440\\u043e\\u043d\\u0438\\u0447\\u0435\\u0441\\u043a\\u0438\\u0439 \\u0441\\u0430\\u043b\\u044c\\u043f\\u0438\\u043d\\u0433\\u043e\\u043e\\u0444\\u043e\\u0440\\u0438\\u0442  \\u0434\\u0432\\u0443\\u0441\\u0442\\u043e\\u0440\",\"\\u0431\\u0435\\u0441\\u043f\\u043b\\u043e\\u0434\\u0438\\u0435   \\u043c\\u0443\\u0436\\u0441\\u043a\\u043e\\u0439 \\u0444\\u0430\\u043a\\u0442\\u043e\\u0440        \\u0430\\u0437\\u043e\\u043e\\u0441\\u043f\\u0440\\u0435\\u043c\\u0438\\u044f  \\u0438\\u0437\\u0431\",\"\\u0431\\u0435\\u0441\\u043f\\u043b\\u043e\\u0434\\u0438\\u0435   \\u043c\\u0443\\u0436\\u0441\\u043a\\u043e\\u0439 \\u0444\\u0430\\u043a\\u0442\\u043e\\u0440        \\u0430\\u0437\\u043e\\u043e\\u0441\\u043f\\u0440\\u0435\\u043c\\u0438\\u044f   \\u043d\\u0433\",\"\\u0431\\u0435\\u0441\\u043f\\u043b\\u043e\\u0434\\u0438\\u0435   \\u043c\\u0438\\u043e\\u043c\\u0430 \\u043c\\u0430\\u0442\\u043a\\u0438  \\u043c\\u0443\\u0436\\u0441\\u043a\\u043e\\u0439 \\u0444\\u0430\\u043a\\u0442\\u043e\\u0440  \\u0438\\u0437\\u0431\\u044b\\u0442\\u043e\\u0447\\u043d\\u0430\",\"\\u0431\\u0435\\u0441\\u043f\\u043b\\u043e\\u0434\\u0438\\u0435      \\u0436\\u0435\\u0441\\u043a\\u043e\\u0435 \\u0431\\u0435\\u0441\\u043f\\u043b\\u043e\\u0434\\u0438\\u0435  \\u043e\\u0431\\u0443\\u0441\\u043b\\u043e\\u0432\\u043b\\u0435\\u043d\\u043d\\u043e\\u0435 \\u044d\\u043d\\u0434\",\"\\u0431\\u0435\\u0441\\u043f\\u043b\\u043e\\u0434\\u0438\\u0435     \\u043c\\u0443\\u0436\\u0441\\u043a\\u043e\\u0439 \\u0444\\u0430\\u043a\\u0442\\u043e\\u0440  \\u043d\\u0433\\u044d       \\u043a\\u043e\\u043c\\u0431\\u0438\\u043d\\u0438\\u0440\\u043e\\u0432\",\"\\u0431\\u0435\\u0441\\u043f\\u043b\\u043e\\u0434\\u0438\\u0435    \\u043c\\u0438\\u043e\\u043c\\u0430 \\u043c\\u0430\\u0442\\u043a\\u0438  \\u0430\\u0434\\u0435\\u043d\\u043e\\u043c\\u0438\\u043e\\u0437  \\u043f\\u043e\\u0437\\u0434\\u043d\\u0438\\u0439 \\u0440\\u0435\\u043f\\u0440\\u043e\",\"\\u0431\\u0435\\u0441\\u043f\\u043b\\u043e\\u0434\\u0438\\u0435     \\u043d\\u0433\\u044d  \\u043a\\u043e\\u043c\\u0431\\u0438\\u043d\\u0438\\u0440\\u043e\\u0432\\u0430\\u043d\\u043d\\u043e\\u0435 \\u043b\\u0435\\u0447\\u0435\\u043d\\u0438\\u0435 \\u0432      \",\"\\u0431\\u0435\\u0441\\u043f\\u043b\\u043e\\u0434\\u0438\\u0435          \\u0436\\u0435\\u043d\\u0441\\u043a\\u043e\\u0435 \\u0431\\u0435\\u0441\\u043f\\u043b\\u043e\\u0434\\u0438\\u0435 \\u0442\\u0440\\u0443\\u0431\\u043d\\u043e \\u043f\\u0435\\u0440\\u0438\\u0442\\u043e\",\"\\u043d\\u0435\\u0442\",\"\\u0431\\u0435\\u0441\\u043f\\u043b\\u043e\\u0434\\u0438\\u0435     \\u043c\\u0443\\u0436\\u0441\\u043a\\u043e\\u0439 \\u0444\\u0430\\u043a\\u0442\\u043e\\u0440  \\u043e\\u0431\\u0443\\u0441\\u043b\\u043e\\u0432\\u043b\\u0435\\u043d\\u043d\\u043e\\u0435 \\u044d\\u043d\\u0434\\u043e\\u043c\\u0435\",\"\\u0431\\u0435\\u0441\\u043f\\u043b\\u043e\\u0434\\u0438\\u0435     \\u043f\\u0440\\u0438\\u043e\\u0431\\u0440\\u0435\\u0442\\u0435\\u043d\\u043d\\u043e\\u0435 \\u043e\\u0442\\u0441\\u0443\\u0442\\u0441\\u0442\\u0432\\u0438\\u0435 \\u043e\\u0440\\u0433\\u0430\\u043d\\u0430     \",\"\\u0431\\u0435\\u0441\\u043f\\u043b\\u043e\\u0434\\u0438\\u0435          \\u0436\\u0435\\u043d\\u0441\\u043a\\u043e\\u0435 \\u0431\\u0435\\u0441\\u043f\\u043b\\u043e\\u0434\\u0438\\u0435  \\u043e\\u0431\\u0443\\u0441\\u043b\\u043e\\u0432\\u043b\\u0435\\u043d\\u043d\\u043e\",\"\\u0431\\u0435\\u0441\\u043f\\u043b\\u043e\\u0434\\u0438\\u0435   \\u0445\\u0440\\u043e\\u043d\\u0438\\u0447\\u0435\\u0441\\u043a\\u0438\\u0439 \\u0441\\u0430\\u043b\\u044c\\u043f\\u0438\\u043d\\u0433\\u043e\\u043e\\u0444\\u043e\\u0440\\u0438\\u0442        \\u0445\\u0440\\u043e\",\"\\u0431\\u0435\\u0441\\u043f\\u043b\\u043e\\u0434\\u0438\\u0435   \\u0442\\u0440\\u0443\\u0431\\u043d\\u043e \\u043f\\u0435\\u0440\\u0438\\u0442\\u043e\\u043d\\u0435\\u0430\\u043b\\u044c\\u043d\\u043e\\u0435  \\u044d\\u043d\\u0434\\u043e\\u043a\\u0440\\u0438\\u043d\\u043d\\u043e\\u0435  \\u0445\\u0440\",\"\\u0431\\u0435\\u0441\\u043f\\u043b\\u043e\\u0434\\u0438\\u0435    \\u0441\\u043e\\u0447\\u0435\\u0442\\u0430\\u043d\\u043d\\u043e\\u0435  \\u0442\\u0440\\u0443\\u0431\\u043d\\u043e \\u043f\\u0435\\u0440\\u0438\\u0442\\u043e\\u043d\\u0435\\u0430\\u043b\\u044c\\u043d\\u043e\\u0435  \\u044d\\u043d\",\"\\u0431\\u0435\\u0441\\u043f\\u043b\\u043e\\u0434\\u0438\\u0435     \\u043c\\u0438\\u043e\\u043c\\u0430 \\u043c\\u0430\\u0442\\u043a\\u0438      \\u0430\\u043d\\u043e\\u0432\\u0443\\u043b\\u044f\\u0446\\u0438\\u044f        \\u0434\",\"\\u0431\\u0435\\u0441\\u043f\\u043b\\u043e\\u0434\\u0438\\u0435     \\u043c\\u0443\\u0436\\u0441\\u043a\\u043e\\u0439 \\u0444\\u0430\\u043a\\u0442\\u043e\\u0440         \\u043a\\u0440\\u0438\\u043f\\u0442\\u043e\\u0437\\u043e\\u043e\\u0441\\u043f\\u0435\\u0440\",\"\\u0431\\u0435\\u0441\\u043f\\u043b\\u043e\\u0434\\u0438\\u0435    \\u0441\\u043e\\u0447\\u0435\\u0442\\u0430\\u043d\\u043d\\u043e\\u0435  \\u043e\\u0431\\u0443\\u0441\\u043b\\u043e\\u0432\\u043b\\u0435\\u043d\\u043d\\u043e\\u0435 \\u044d\\u043d\\u0434\\u043e\\u043c\\u0435\\u0442\\u0440\\u0438\\u043e\\u0437\",\"\\u0431\\u0435\\u0441\\u043f\\u043b\\u043e\\u0434\\u0438\\u0435    \\u0442\\u0440\\u0443\\u0431\\u043d\\u043e\\u0435  \\u0440\\u0443\\u0431\\u0435\\u0446 \\u043d\\u0430 \\u043c\\u0430\\u0442\\u043a\\u0435        \\u0441\\u043f\\u0430\\u0435\\u0447\\u043d\",\"\\u0431\\u0435\\u0441\\u043f\\u043b\\u043e\\u0434\\u0438\\u0435           \\u0436\\u0435\\u043d\\u0441\\u043a\\u043e\\u0435 \\u0431\\u0435\\u0441\\u043f\\u043b\\u043e\\u0434\\u0438\\u0435 \\u0442\\u0440\\u0443\\u0431\\u043d\\u043e \\u043f\\u0435\\u0440\\u0438\\u0442\",\"\\u0436\\u0435\\u043d\\u0441\\u043a\\u043e\\u0435 \\u0431\\u0435\\u0441\\u043f\\u043b\\u043e\\u0434\\u0438\\u0435  \\u0432\\u0442\\u043e\\u0440\\u0438\\u0447\\u043d\\u043e\\u0435  \\u0442\\u0440\\u0443\\u0431\\u043d\\u043e\\u0433\\u043e \\u043f\\u043e\\u0440\\u0438\\u0441\\u0445\\u043e\\u0436\\u0434\\u0435\\u043d\",\"\\u0431\\u0435\\u0441\\u043f\\u043b\\u043e\\u0434\\u0438\\u0435     \\u0445\\u0440\\u043e\\u043d\\u0438\\u0447\\u0435\\u0441\\u043a\\u0438\\u0439 \\u0441\\u0430\\u043b\\u044c\\u043f\\u0438\\u043d\\u0433\\u043e\\u043e\\u0444\\u043e\\u0440\\u0438\\u0442        \\u043f\",\"\\u0431\\u0435\\u0441\\u043f\\u043b\\u043e\\u0434\\u0438\\u0435     \\u043c\\u0443\\u0436\\u0441\\u043a\\u043e\\u0439 \\u0444\\u0430\\u043a\\u0442\\u043e\\u0440       \\u043c\\u0438\\u043e\\u043c\\u0430 \\u043c\\u0430\\u0442\\u043a\\u0438    \",\"\\u0431\\u0435\\u0441\\u043f\\u043b\\u043e\\u0434\\u0438\\u0435     \\u043c\\u0443\\u0436\\u0441\\u043a\\u043e\\u0439 \\u0444\\u0430\\u043a\\u0442\\u043e\\u0440       \\u043c\\u0438\\u043e\\u043c\\u0430 \\u043c\\u0430\\u0442\\u043a\\u0438    \",\"\\u0431\\u0435\\u0441\\u043f\\u043b\\u043e\\u0434\\u0438\\u0435    \\u043d\\u0433\\u044d   \\u0441\\u0442 \\u044d\\u043d\\u0434\\u043e\\u043c\\u0435\\u0442\\u0440\\u0438\\u043e\\u0437 \\u044f\\u0438\\u0447\\u043d\\u0438\\u043a\\u043e\\u0432        \",\"\\u0431\\u0435\\u0441\\u043f\\u043b\\u043e\\u0434\\u0438\\u0435          \\u0436\\u0435\\u043d\\u0441\\u043a\\u043e\\u0435 \\u0431\\u0435\\u0441\\u043f\\u043b\\u043e\\u0434\\u0438\\u0435  \\u043e\\u0431\\u0443\\u0441\\u043b\\u043e\\u0432\\u043b\\u0435\\u043d\\u043d\\u043e\",\"\\u0431\\u0435\\u0441\\u043f\\u043b\\u043e\\u0434\\u0438\\u0435    \\u0430\\u0434\\u0435\\u043d\\u043e\\u043c\\u0438\\u043e\\u0437        \\u043f\\u0440\\u0438\\u043e\\u0431\\u0440\\u0435\\u0442\\u0435\\u043d\\u043d\\u043e\\u0435 \\u043e\\u0442\\u0441\\u0443\\u0442\\u0441\",\"\\u0431\\u0435\\u0441\\u043f\\u043b\\u043e\\u0434\\u0438\\u0435          \\u0434\\u0440\\u0443\\u0433\\u0438\\u0435 \\u0444\\u043e\\u0440\\u043c\\u044b \\u0436\\u0435\\u043d\\u0441\\u043a\\u043e\\u0433\\u043e \\u0431\\u0435\\u0441\\u043f\\u043b\\u043e\\u0434\\u0438\\u044f\",\"\\u0431\\u0435\\u0441\\u043f\\u043b\\u043e\\u0434\\u0438\\u0435     \\u0430\\u0431\\u0441\\u043e\\u043b\\u044e\\u0442\\u043d\\u044b\\u0439 \\u0442\\u0440\\u0443\\u0431\\u043d\\u044b\\u0439 \\u0444\\u0430\\u043a\\u0442\\u043e\\u0440           \",\"\\u0431\\u0435\\u0441\\u043f\\u043b\\u043e\\u0434\\u0438\\u0435           \\u0436\\u0435\\u043d\\u0441\\u043a\\u043e\\u0435 \\u0431\\u0435\\u0441\\u043f\\u043b\\u043e\\u0434\\u0438\\u0435  \\u043e\\u0431\\u0443\\u0441\\u043b\\u043e\\u0432\\u043b\\u0435\\u043d\\u043d\",\"\\u0431\\u0435\\u0441\\u043f\\u043b\\u043e\\u0434\\u0438\\u0435    \\u043d\\u0435\\u044f\\u0441\\u043d\\u043e\\u0433\\u043e \\u0433\\u0435\\u043d\\u0435\\u0437\\u0430  \\u0441\\u043f\\u0430\\u0435\\u0447\\u043d\\u044b\\u0439 \\u043f\\u0440\\u043e\\u0446\\u0435\\u0441\\u0441 \\u0432 \\u043c\",\"\\u0431\\u0435\\u0441\\u043f\\u043b\\u043e\\u0434\\u0438\\u0435     \\u0441\\u0432\\u044f\\u0437\\u0430\\u043d\\u043d\\u043e\\u0435 \\u0441 \\u043c\\u0443\\u0436\\u0441\\u043a\\u0438\\u043c \\u0444\\u0430\\u043a\\u0442\\u043e\\u0440\\u043e\\u043c  \\u043f\\u0435\\u0440\\u0432\\u0438\\u0447\",\"\\u0431\\u0435\\u0441\\u043f\\u043b\\u043e\\u0434\\u0438\\u0435     \\u0441\\u0432\\u044f\\u0437\\u0430\\u043d\\u043d\\u043e\\u0435 \\u0441 \\u043c\\u0443\\u0436\\u0441\\u043a\\u0438\\u043c \\u0444\\u0430\\u043a\\u0442\\u043e\\u0440\\u043e\\u043c  \\u043f\\u0435\\u0440\\u0432\\u0438\\u0447\",\"\\u0431\\u0435\\u0441\\u043f\\u043b\\u043e\\u0434\\u0438\\u0435     \\u0440\\u0443\\u0431\\u0435\\u0446 \\u043d\\u0430 \\u043c\\u0430\\u0442\\u043a\\u0435  \\u043c\\u0438\\u043e\\u043c\\u044d\\u043a\\u0442\\u043e\\u043c\\u0438\\u0438 \\u0432      \\u0433\",\"\\u0431\\u0435\\u0441\\u043f\\u043b\\u043e\\u0434\\u0438\\u0435           \\u0436\\u0435\\u043d\\u0441\\u043a\\u043e\\u0435 \\u0431\\u0435\\u0441\\u043f\\u043b\\u043e\\u0434\\u0438\\u0435 \\u0442\\u0440\\u0443\\u0431\\u043d\\u043e \\u043f\\u0435\\u0440\\u0438\\u0442\",\"\\u0431\\u0435\\u0441\\u043f\\u043b\\u043e\\u0434\\u0438\\u0435     \\u043f\\u0440\\u0438\\u043e\\u0431\\u0440\\u0435\\u0442\\u0435\\u043d\\u043d\\u043e\\u0435 \\u043e\\u0442\\u0441\\u0443\\u0442\\u0441\\u0442\\u0432\\u0438\\u0435 \\u043e\\u0440\\u0433\\u0430\\u043d\\u0430  \\u0442\\u0443\\u0431\",\"\\u043d\\u0435\\u0442\",\"\\u0431\\u0435\\u0441\\u043f\\u043b\\u043e\\u0434\\u0438\\u0435           \\u0441\\u0442\\u0435\\u0440\\u0438\\u043b\\u0438\\u0437\\u0430\\u0446\\u0438\\u044f \\u043c\\u0435\\u0442\\u043e\\u0434\\u043e\\u043c        \\u043e\\u0442\",\"\\u0431\\u0435\\u0441\\u043f\\u043b\\u043e\\u0434\\u0438\\u0435   \\u043d\\u0433\\u044d        \\u043c\\u0443\\u0436\\u0441\\u043a\\u043e\\u0439 \\u0444\\u0430\\u043a\\u0442\\u043e\\u0440       \\u0434\\u0435\\u0444\\u0438\\u0446\\u0438\",\"\\u0431\\u0435\\u0441\\u043f\\u043b\\u043e\\u0434\\u0438\\u0435   \\u0440\\u0443\\u0431\\u0435\\u0446 \\u043d\\u0430 \\u043c\\u0430\\u0442\\u043a\\u0435  \\u043c\\u0438\\u043e\\u043c\\u044d\\u043a\\u0442\\u043e\\u043c\\u0438\\u044f \\u0432      \\u0433  \",\"\\u0431\\u0435\\u0441\\u043f\\u043b\\u043e\\u0434\\u0438\\u0435    \\u0440\\u0443\\u0431\\u0435\\u0446 \\u043d\\u0430 \\u043c\\u0430\\u0442\\u043a\\u0435  \\u043c\\u0438\\u043e\\u043c\\u044d\\u043a\\u0442\\u043e\\u043c\\u0438\\u044f \\u0432      \\u0433 \",\"\\u0431\\u0435\\u0441\\u043f\\u043b\\u043e\\u0434\\u0438\\u0435    \\u0445\\u0440\\u043e\\u043d\\u0438\\u0447\\u0435\\u0441\\u043a\\u0438\\u0439 \\u0441\\u0430\\u043b\\u044c\\u043f\\u0438\\u043d\\u0433\\u043e\\u043e\\u0444\\u043e\\u0440\\u0438\\u0442        \\u043d\\u0433\",\"\\u0431\\u0435\\u0441\\u043f\\u043b\\u043e\\u0434\\u0438\\u0435    \\u043d\\u0435\\u0443\\u0442\\u043e\\u0447\\u043d\\u0435\\u043d\\u043d\\u043e\\u0435  \\u043d\\u0433\\u044d   \\u0441\\u0442 \\u044d\\u043d\\u0434\\u043e\\u043c\\u0435\\u0442\\u0440\\u0438\\u043e\\u0437 \\u0442\\u0430\",\"\\u0431\\u0435\\u0441\\u043f\\u043b\\u043e\\u0434\\u0438\\u0435    \\u0441\\u043e\\u0441\\u0442\\u043e\\u044f\\u043d\\u0438\\u0435 \\u043f\\u043e\\u0441\\u043b\\u0435 \\u043c\\u0438\\u043e\\u043c\\u044d\\u043a\\u0442\\u043e\\u043c\\u0438\\u0438    \\u0438\\u043d\\u044a\\u0435\\u043a\\u0446\",\"\\u0431\\u0435\\u0441\\u043f\\u043b\\u043e\\u0434\\u0438\\u0435 \\u0432\\u0442\\u043e\\u0440\\u0438\\u0447\\u043d\\u043e\\u0435  \\u043f\\u0440\\u0438\\u043e\\u0431\\u0440\\u0435\\u0442\\u0435\\u043d\\u043d\\u043e\\u0435 \\u043e\\u0442\\u0441\\u0443\\u0442\\u0441\\u0442\\u0432\\u0438\\u0435 \\u043e\\u0440\\u0433\\u0430\",\"\\u0431\\u0435\\u0441\\u043f\\u043b\\u043e\\u0434\\u0438\\u0435     \\u0430\\u0434\\u0435\\u043d\\u043e\\u043c\\u0438\\u043e\\u0437 \\u0441\\u043d\\u0438\\u0436\\u0435\\u043d\\u0438\\u0435 \\u043e\\u0432\\u0430\\u0440\\u0438\\u0430\\u043b\\u044c\\u043d\\u043e\\u0433\\u043e \\u0440\\u0435\\u0437\\u0435\",\"\\u0431\\u0435\\u0441\\u043f\\u043b\\u043e\\u0434\\u0438\\u0435     \\u0445\\u0440\\u043e\\u043d\\u0438\\u0447\\u0435\\u0441\\u043a\\u0438\\u0439 \\u0441\\u0430\\u043b\\u044c\\u043f\\u0438\\u043d\\u0433\\u043e\\u043e\\u0444\\u043e\\u0440\\u0438\\u0442        \\u0442\",\"\\u0436\\u0435\\u043d\\u0441\\u043a\\u043e\\u0435 \\u0431\\u0435\\u0441\\u043f\\u043b\\u043e\\u0434\\u0438\\u0435  \\u043f\\u0435\\u0440\\u0432\\u0438\\u0447\\u043d\\u043e\\u0435  \\u0442\\u0440\\u0443\\u0431\\u043d\\u043e\\u0433\\u043e \\u043f\\u0440\\u043e\\u0438\\u0441\\u0445\\u043e\\u0436\\u0434\\u0435\\u043d\",\"\\u0431\\u0435\\u0441\\u043f\\u043b\\u043e\\u0434\\u0438\\u0435           \\u0436\\u0435\\u043d\\u0441\\u043a\\u043e\\u0435 \\u0431\\u0435\\u0441\\u043f\\u043b\\u043e\\u0434\\u0438\\u0435 \\u0442\\u0440\\u0443\\u0431\\u043d\\u043e \\u043f\\u0435\\u0440\\u0438\\u0442\",\"\\u0431\\u0435\\u0441\\u043f\\u043b\\u043e\\u0434\\u0438\\u0435     \\u043f\\u0440\\u0435\\u0436\\u0434\\u0435\\u0432\\u0440\\u0435\\u043c\\u0435\\u043d\\u043d\\u043e\\u0435 \\u0438\\u0441\\u0442\\u043e\\u0449\\u0435\\u043d\\u0438\\u0435 \\u044f\\u0438\\u0447\\u043d\\u0438\\u043a\\u043e\\u0432  \",\"\\u0431\\u0435\\u0441\\u043f\\u043b\\u043e\\u0434\\u0438\\u0435   \\u0430\\u043d\\u043e\\u0432\\u0443\\u043b\\u044f\\u0446\\u0438\\u044f        \\u043c\\u0443\\u0436\\u0441\\u043a\\u043e\\u0439 \\u0444\\u0430\\u043a\\u0442\\u043e\\u0440      \",\"\\u0431\\u0435\\u0441\\u043f\\u043b\\u043e\\u0434\\u0438\\u0435            \\u0442\\u0440\\u0443\\u0431\\u043d\\u043e \\u043f\\u0435\\u0440\\u0438\\u0442\\u043e\\u043d\\u0435\\u0430\\u043b\\u044c\\u043d\\u043e\\u0435  \\u0445\\u0440 \\u0441\\u0430\\u043b\",\"\\u0431\\u0435\\u0441\\u043f\\u043b\\u043e\\u0434\\u0438\\u0435   \\u043c\\u0443\\u0436\\u0441\\u043a\\u043e\\u0439 \\u0444\\u0430\\u043a\\u0442\\u043e\\u0440   \\u0430\\u0437\\u043e\\u043e\\u0441\\u043f\\u0435\\u0440\\u043c\\u0438\\u044f \\u0443 \\u043c\\u0443\\u0436\\u0430   \",\"\\u0431\\u0435\\u0441\\u043f\\u043b\\u043e\\u0434\\u0438\\u0435   \\u043c\\u0443\\u0436\\u0441\\u043a\\u043e\\u0439 \\u0444\\u0430\\u043a\\u0442\\u043e\\u0440   \\u0430\\u0437\\u043e\\u043e\\u0441\\u043f\\u0435\\u0440\\u043c\\u0438\\u044f \\u0443 \\u043c\\u0443\\u0436\\u0430   \",\"\\u043d\\u0435\\u0442\",\"\\u0431\\u0435\\u0441\\u043f\\u043b\\u043e\\u0434\\u0438\\u0435      \\u043c\\u0443\\u0436\\u0441\\u043a\\u043e\\u0439 \\u0444\\u0430\\u043a\\u0442\\u043e\\u0440        \\u043f\\u0440\\u0438\\u0432\\u044b\\u0447\\u043d\\u043e\\u0435 \\u043d\\u0435\\u0432\",\"\\u0431\\u0435\\u0441\\u043f\\u043b\\u043e\\u0434\\u0438\\u0435   \\u043e\\u0431\\u0443\\u0441\\u043b\\u043e\\u0432\\u043b\\u0435\\u043d\\u043d\\u043e\\u0435 \\u044d\\u043d\\u0434\\u043e\\u043c\\u0435\\u0442\\u0440\\u0438\\u043e\\u0437\\u043e\\u043c  \\u0430\\u0434\\u0435\\u043d\\u043e\\u043c\\u0438\\u043e\\u0437\",\"\\u0431\\u0435\\u0441\\u043f\\u043b\\u043e\\u0434\\u0438\\u0435     \\u043c\\u0438\\u043e\\u043c\\u0430 \\u043c\\u0430\\u0442\\u043a\\u0438 \\u043d\\u0433\\u044d    \\u0430\\u0434\\u0435\\u043d\\u043e\\u043c\\u0438\\u043e\\u0437     \\u043d\\u0435\\u0432\",\"\\u0431\\u0435\\u0441\\u043f\\u043b\\u043e\\u0434\\u0438\\u0435          \\u0436\\u0435\\u043d\\u0441\\u043a\\u043e\\u0435 \\u0431\\u0435\\u0441\\u043f\\u043b\\u043e\\u0434\\u0438\\u0435 \\u0442\\u0440\\u0443\\u0431\\u043d\\u043e \\u043f\\u0435\\u0440\\u0438\\u0442\\u043e\",\"\\u0431\\u0435\\u0441\\u043f\\u043b\\u043e\\u0434\\u0438\\u0435     \\u0445\\u0440\\u043e\\u043d\\u0438\\u0447\\u0435\\u0441\\u043a\\u0438\\u0439 \\u0441\\u0430\\u043b\\u044c\\u043f\\u0438\\u043d\\u0433\\u043e\\u043e\\u0444\\u043e\\u0440\\u0438\\u0442        \\u043c\",\"\\u043d\\u0435\\u0442\",\"\\u0431\\u0435\\u0441\\u043f\\u043b\\u043e\\u0434\\u0438\\u0435     \\u0445\\u0440\\u043e\\u043d\\u0438\\u0447\\u0435\\u0441\\u043a\\u0438\\u0439 \\u0441\\u0430\\u043b\\u044c\\u043f\\u0438\\u043d\\u0433\\u043e\\u043e\\u0444\\u043e\\u0440\\u0438\\u0442         \",\"\\u0431\\u0435\\u0441\\u043f\\u043b\\u043e\\u0434\\u0438\\u0435    \\u043d\\u0435\\u044f\\u0441\\u043d\\u043e\\u0433\\u043e \\u0433\\u0435\\u043d\\u0435\\u0437\\u0430 \",\"\\u043d\\u0435\\u0442\",\"\\u0431\\u0435\\u0441\\u043f\\u043b\\u043e\\u0434\\u0438\\u0435           \\u0436\\u0435\\u043d\\u0441\\u043a\\u043e\\u0435 \\u0431\\u0435\\u0441\\u043f\\u043b\\u043e\\u0434\\u0438\\u0435 \\u0442\\u0440\\u0443\\u0431\\u043d\\u043e \\u043f\\u0435\\u0440\\u0438\\u0442\",\"\\u0431\\u0435\\u0441\\u043f\\u043b\\u043e\\u0434\\u0438\\u0435     \\u0441\\u043e\\u0447\\u0435\\u0442\\u0430\\u043d\\u043d\\u043e\\u0435  \\u043c\\u0430\\u0442\\u043e\\u0447\\u043d\\u043e\\u0435  \\u043c\\u0438\\u043e\\u043c\\u0430 \\u043c\\u0430\\u0442\\u043a\\u0438   \",\"\\u0431\\u0435\\u0441\\u043f\\u043b\\u043e\\u0434\\u0438\\u0435   \\u043c\\u0443\\u0436\\u0441\\u043a\\u043e\\u0439 \\u0444\\u0430\\u043a\\u0442\\u043e\\u0440  \\u043e\\u0431\\u0441\\u0442\\u0440\\u0443\\u043a\\u0442\\u0438\\u0432\\u043d\\u0430\\u044f \\u0430\\u0437\\u043e\\u043e\\u0441\\u043f\\u0435\\u0440\",\"\\u0431\\u0435\\u0441\\u043f\\u043b\\u043e\\u0434\\u0438\\u0435     \\u043f\\u043e\\u0437\\u0434\\u043d\\u0438\\u0439 \\u0440\\u0435\\u043f\\u0440\\u043e\\u0434\\u0443\\u043a\\u0442\\u0438\\u0432\\u043d\\u044b\\u0439 \\u0432\\u043e\\u0437\\u0440\\u0430\\u0441\\u0442  \\u043c\\u0443\\u0436\\u0441\",\"\\u0431\\u0435\\u0441\\u043f\\u043b\\u043e\\u0434\\u0438\\u0435    \\u0441\\u043e\\u0447\\u0435\\u0442\\u0430\\u043d\\u043d\\u043e\\u0435  \\u043e\\u0431\\u0443\\u0441\\u043b\\u043e\\u0432\\u043b\\u0435\\u043d\\u043d\\u043e\\u0435 \\u044d\\u043d\\u0434\\u043e\\u043c\\u0435\\u0442\\u0440\\u0438\\u043e\\u0437\",\"\\u0431\\u0435\\u0441\\u043f\\u043b\\u043e\\u0434\\u0438\\u0435   \\u0430\\u0431\\u0441\\u043e\\u043b\\u044e\\u0442\\u043d\\u043e\\u0435 \\u0442\\u0440\\u0443\\u0431\\u043d\\u043e\\u0435 \\u0445\\u0440\\u043e\\u043d\\u0438\\u0447\\u0435\\u0441\\u043a\\u0438\\u0439 \\u0441\\u0430\\u043b\\u044c\\u043f\\u0438\\u043d\",\"\\u0431\\u0435\\u0441\\u043f\\u043b\\u043e\\u0434\\u0438\\u0435     \\u043c\\u0435\\u043d\\u043e\\u043f\\u0430\\u0443\\u0437\\u0430  \\u0442\\u0435\\u0440\\u0430\\u0442\\u043e\\u0437\\u043e\\u043e\\u0441\\u043f\\u0435\\u0440\\u043c\\u0438\\u044f \\u0443 \\u043c\\u0443\\u0436\\u0430  \",\"\\u0431\\u0435\\u0441\\u043f\\u043b\\u043e\\u0434\\u0438\\u0435     \\u043c\\u0435\\u043d\\u043e\\u043f\\u0430\\u0443\\u0437\\u0430  \\u0442\\u0435\\u0440\\u0430\\u0442\\u043e\\u0437\\u043e\\u043e\\u0441\\u043f\\u0435\\u0440\\u043c\\u0438\\u044f \\u0443 \\u043c\\u0443\\u0436\\u0430  \",\"\\u0431\\u0435\\u0441\\u043f\\u043b\\u043e\\u0434\\u0438\\u0435      \\u043d\\u0435\\u044f\\u0441\\u043d\\u043e\\u0433\\u043e \\u0433\\u0435\\u043d\\u0435\\u0437\\u0430         \\u0445\\u0440\\u043e\\u043d\\u0438\\u0447\\u0435\\u0441\\u043a\\u0438\\u0439\",\"\\u0431\\u0435\\u0441\\u043f\\u043b\\u043e\\u0434\\u0438\\u0435      \\u043d\\u0435\\u044f\\u0441\\u043d\\u043e\\u0433\\u043e \\u0433\\u0435\\u043d\\u0435\\u0437\\u0430         \\u0445\\u0440\\u043e\\u043d\\u0438\\u0447\\u0435\\u0441\\u043a\\u0438\\u0439\",\"\\u0431\\u0435\\u0441\\u043f\\u043b\\u043e\\u0434\\u0438\\u0435      \\u043d\\u0435\\u044f\\u0441\\u043d\\u043e\\u0433\\u043e \\u0433\\u0435\\u043d\\u0435\\u0437\\u0430         \\u0445\\u0440\\u043e\\u043d\\u0438\\u0447\\u0435\\u0441\\u043a\\u0438\\u0439\",\"\\u0431\\u0435\\u0441\\u043f\\u043b\\u043e\\u0434\\u0438\\u0435     \\u0445\\u0440\\u043e\\u043d\\u0438\\u0447\\u0435\\u0441\\u043a\\u0438\\u0439 \\u043b\\u0435\\u0432\\u043e\\u0441\\u0442\\u043e\\u0440\\u043e\\u043d\\u043d\\u0438\\u0439 \\u0441\\u0430\\u043b\\u044c\\u043f\\u0438\\u043d\\u0433\\u0438\\u0442\",\"\\u0431\\u0435\\u0441\\u043f\\u043b\\u043e\\u0434\\u0438\\u0435    \\u043e\\u0431\\u0443\\u0441\\u043b\\u043e\\u0432\\u043b\\u0435\\u043d\\u043d\\u043e\\u0435 \\u044d\\u043d\\u0434\\u043e\\u043c\\u0435\\u0442\\u0440\\u0438\\u043e\\u0437\\u043e\\u043c  \\u043c\\u0438\\u043e\\u043c\\u0430 \\u043c\\u0430\",\"\\u0431\\u0435\\u0441\\u043f\\u043b\\u043e\\u0434\\u0438\\u0435           \\u0436\\u0435\\u043d\\u0441\\u043a\\u043e\\u0435 \\u0431\\u0435\\u0441\\u043f\\u043b\\u043e\\u0434\\u0438\\u0435 \\u0442\\u0440\\u0443\\u0431\\u043d\\u043e \\u043f\\u0435\\u0440\\u0438\\u0442\",\"\\u0431\\u0435\\u0441\\u043f\\u043b\\u043e\\u0434\\u0438\\u0435            \\u0442\\u0440\\u0443\\u0431\\u043d\\u043e \\u043f\\u0435\\u0440\\u0438\\u0442\\u043e\\u043d\\u0435\\u0430\\u043b\\u044c\\u043d\\u043e\\u0435  \\u043e\\u0431\\u0443\\u0441\\u043b\\u043e\",\"\\u0431\\u0435\\u0441\\u043f\\u043b\\u043e\\u0434\\u0438\\u0435   \\u044d\\u043d\\u0434\\u043e\\u043c\\u0435\\u0442\\u0440\\u0438\\u043e\\u0437 \\u044f\\u0438\\u0447\\u043d\\u0438\\u043a\\u043e\\u0432         \\u0441\\u043d\\u0438\\u0436\\u0435\\u043d\\u0438\\u0435 \",\"\\u0431\\u0435\\u0441\\u043f\\u043b\\u043e\\u0434\\u0438\\u0435     \\u0430\\u0431\\u0441\\u043e\\u043b\\u044e\\u0442\\u043d\\u044b\\u0439 \\u0442\\u0440\\u0443\\u0431\\u043d\\u044b\\u0439 \\u0444\\u0430\\u043a\\u0442\\u043e\\u0440 \\u0436\\u0435\\u043d\\u0441\\u043a\\u043e\\u0435 \\u0431\\u0435\",\"\\u0431\\u0435\\u0441\\u043f\\u043b\\u043e\\u0434\\u0438\\u0435     \\u0430\\u0434\\u0435\\u043d\\u043e\\u043c\\u0438\\u043e\\u0437  \\u0430\\u043d\\u043e\\u043c\\u0430\\u043b\\u0438\\u0438 \\u043a\\u0430\\u0440\\u0438\\u043e\\u0442\\u0438\\u043f\\u0430  \\u043c\\u043e\\u0437\\u0430\\u0438\",\"\\u0431\\u0435\\u0441\\u043f\\u043b\\u043e\\u0434\\u0438\\u0435    \\u0432\\u043f\\u0440 \\u043c\\u0430\\u0442\\u043a\\u0438 \\u0438 \\u0448\\u0435\\u0439\\u043a\\u0438 \\u043c\\u0430\\u0442\\u043a\\u0438  \\u0430\\u043f\\u043b\\u0430\\u0437\\u0438\\u044f \\u043c\\u0430\\u0442\\u043a\",\"\\u043d\\u0435\\u0442\",\"\\u0431\\u0435\\u0441\\u043f\\u043b\\u043e\\u0434\\u0438\\u0435     \\u043c\\u043d\\u043e\\u0436\\u0435\\u0441\\u0442\\u0432\\u0435\\u043d\\u043d\\u0430\\u044f \\u043c\\u0438\\u043e\\u043c\\u0430 \\u043c\\u0430\\u0442\\u043a\\u0438      \\u043e\\u0433\\u0430  \",\"\\u0431\\u0435\\u0441\\u043f\\u043b\\u043e\\u0434\\u0438\\u0435      \\u044d\\u043d\\u0434\\u043e\\u043c\\u0435\\u0442\\u0440\\u0438\\u043e\\u0437 \\u0442\\u0430\\u0437\\u043e\\u0432\\u043e\\u0439 \\u0431\\u0440\\u044e\\u0448\\u0438\\u043d\\u044b  \\u043a\\u043e\\u043c\\u0431  \",\"\\u0431\\u0435\\u0441\\u043f\\u043b\\u043e\\u0434\\u0438\\u0435    \\u0430\\u0431\\u0441\\u043e\\u043b\\u044e\\u0442\\u043d\\u043e\\u0435 \\u0442\\u0440\\u0443\\u0431\\u043d\\u043e\\u0435  \\u0445\\u0440\\u043e\\u043d\\u0438\\u0447\\u0435\\u0441\\u043a\\u0438\\u0439 \\u0441\\u0430\\u043b\\u044c\\u043f\",\"\\u0431\\u0435\\u0441\\u043f\\u043b\\u043e\\u0434\\u0438\\u0435     \\u043d\\u0433\\u044d \\u0432 \\u0430\\u043d\\u0430\\u043c\\u043d\\u0435\\u0437\\u0435 \\u043c\\u0443\\u0436\\u0441\\u043a\\u043e\\u0439 \\u0444\\u0430\\u043a\\u0442\\u043e\\u0440 \\u0440\\u0443\\u0431\\u0435\\u0446 \",\"\\u0431\\u0435\\u0441\\u043f\\u043b\\u043e\\u0434\\u0438\\u0435            \\u0436\\u0435\\u043d\\u0441\\u043a\\u043e\\u0435 \\u0431\\u0435\\u0441\\u043f\\u043b\\u043e\\u0434\\u0438\\u0435 \\u043d\\u0435\\u0443\\u0442\\u043e\\u0447\\u043d\\u0435\\u043d\\u043d\\u043e\",\"\\u0431\\u0435\\u0441\\u043f\\u043b\\u043e\\u0434\\u0438\\u0435    \\u043d\\u0433\\u044d   \\u0441\\u0442 \\u043e\\u0442\\u044f\\u0433\\u043e\\u0449\\u0435\\u043d\\u043d\\u044b\\u0439 \\u0441\\u043e\\u043c\\u0430\\u0442\\u0438\\u0447\\u0435\\u0441\\u043a\\u0438\\u0439 \\u0430\\u043d\\u0430\",\"\\u043d\\u0435\\u0442\",\"\\u043d\\u0435\\u0442\",\"\\u0431\\u0435\\u0441\\u043f\\u043b\\u043e\\u0434\\u0438\\u0435   \\u0441 \\u043c \\u0440\\u043e\\u043a\\u0438\\u0442\\u0430\\u043d\\u0441\\u043a\\u043e\\u0433\\u043e \\u043a\\u044e\\u0441\\u0442\\u043d\\u0435\\u0440\\u0430        \\u0432\\u043f\\u0440 \\u043c\",\"\\u0431\\u0435\\u0441\\u043f\\u043b\\u043e\\u0434\\u0438\\u0435   \\u043c\\u0443\\u0436\\u0441\\u043a\\u043e\\u0439 \\u0444\\u0430\\u043a\\u0442\\u043e\\u0440\",\"\\u0431\\u0435\\u0441\\u043f\\u043b\\u043e\\u0434\\u0438\\u0435     \\u0441\\u043f\\u043a\\u044f \\u0430\\u043d\\u043e\\u0432\\u0443\\u043b\\u044f\\u0446\\u0438\\u044f \\u043d\\u043e\\u0441\\u0438\\u0442\\u0435\\u043b\\u044c\\u0441\\u0442\\u0432\\u043e \\u0441\\u0431\\u0430\\u043b\\u0430\\u043d\\u0441\",\"\\u0431\\u0435\\u0441\\u043f\\u043b\\u043e\\u0434\\u0438\\u0435    \\u043d\\u0433\\u044d \\u044d\\u043d\\u0434\\u043e\\u043c\\u0435\\u0442\\u0440\\u0438\\u043e\\u043c\\u0430 \\u043b\\u0435\\u0432\\u043e\\u0433\\u043e \\u044f\\u0438\\u0447\\u043d\\u0438\\u043a\\u0430 \\u0432 \\u0430\\u043d\\u0430\",\"\\u0431\\u0435\\u0441\\u043f\\u043b\\u043e\\u0434\\u0438\\u0435    \\u0432\\u044b\\u043d\\u0443\\u0436\\u0434\\u0435\\u043d\\u043d\\u043e\\u0435  \\u043c\\u043d\\u043e\\u0436\\u0435\\u0441\\u0442\\u0432\\u0435\\u043d\\u043d\\u0430\\u044f \\u043c\\u0438\\u043e\\u043c\\u0430 \\u043c\\u0430\\u0442\\u043a\",\"\\u0431\\u0435\\u0441\\u043f\\u043b\\u043e\\u0434\\u0438\\u0435   \\u0441\\u043f\\u044f        \\u0430\\u043d\\u043e\\u0432\\u0443\\u043b\\u044f\\u0446\\u0438\\u044f        \\u0434\\u0435\\u0444\\u0438\\u0446\\u0438\\u0442 \\u043c\",\"\\u043d\\u0435\\u0442\",\"\\u0431\\u0435\\u0441\\u043f\\u043b\\u043e\\u0434\\u0438\\u0435     \\u043f\\u043b\\u0430\\u0441\\u0442\\u0438\\u043a\\u0430 \\u0440\\u0443\\u0431\\u0446\\u0430 \\u043d\\u0430 \\u043c\\u0430\\u0442\\u043a\\u0435 \\u043f\\u043e\\u0441\\u043b\\u0435 \\u043a \\u0441 \\u043e\\u0442\",\"\\u0431\\u0435\\u0441\\u043f\\u043b\\u043e\\u0434\\u0438\\u0435    \\u0441\\u043f\\u0430\\u0435\\u0447\\u043d\\u044b\\u0439 \\u043f\\u0440\\u043e\\u0446\\u0435\\u0441\\u0441 \\u043c\\u0430\\u043b\\u043e\\u0433\\u043e \\u0442\\u0430\\u0437\\u0430 \\u0442\\u0440\\u0443\\u0431\\u043d\\u043e \\u043f\",\"\\u0431\\u0435\\u0441\\u043f\\u043b\\u043e\\u0434\\u0438\\u0435     \\u043f\\u0440\\u0438\\u043e\\u0431\\u0440\\u0435\\u0442\\u0435\\u043d\\u043d\\u043e\\u0435 \\u043e\\u0442\\u0441\\u0443\\u0442\\u0441\\u0442\\u0432\\u0438\\u0435 \\u043e\\u0440\\u0433\\u0430\\u043d\\u0430  \\u0434\\u0432\\u0443\",\"\\u0431\\u0435\\u0441\\u043f\\u043b\\u043e\\u0434\\u0438\\u0435     \\u043c\\u0443\\u0436\\u0441\\u043a\\u043e\\u0439 \\u0444\\u0430\\u043a\\u0442\\u043e\\u0440  \\u0441\\u0442\\u0430\\u0440\\u0448\\u0438\\u0439 \\u0440\\u0435\\u043f\\u0440\\u043e\\u0434\\u0443\\u043a\\u0442\\u0438\\u0432\\u043d\",\"\\u0431\\u0435\\u0441\\u043f\\u043b\\u043e\\u0434\\u0438\\u0435     \\u043f\\u0440\\u0438\\u043e\\u0431\\u0440\\u0435\\u0442\\u0435\\u043d\\u043d\\u043e\\u0435 \\u043e\\u0442\\u0441\\u0443\\u0442\\u0441\\u0442\\u0432\\u0438\\u0435 \\u043e\\u0440\\u0433\\u0430\\u043d\\u0430  \\u0434\\u0432\\u0443\",\"\\u0431\\u0435\\u0441\\u043f\\u043b\\u043e\\u0434\\u0438\\u0435     \\u043f\\u0440\\u0438\\u043e\\u0431\\u0440\\u0435\\u0442\\u0435\\u043d\\u043d\\u043e\\u0435 \\u043e\\u0442\\u0441\\u0443\\u0442\\u0441\\u0442\\u0432\\u0438\\u0435 \\u043e\\u0440\\u0433\\u0430\\u043d\\u0430  \\u0430\\u043c\\u043f\",\"\\u0431\\u0435\\u0441\\u043f\\u043b\\u043e\\u0434\\u0438\\u0435    \\u0442\\u0440\\u0443\\u0431\\u043d\\u043e\\u0435 \",\"\\u0431\\u0435\\u0441\\u043f\\u043b\\u043e\\u0434\\u0438\\u0435    \\u0442\\u0440\\u0443\\u0431\\u043d\\u043e\\u0435 \",\"\\u0431\\u0435\\u0441\\u043f\\u043b\\u043e\\u0434\\u0438\\u0435     \\u0440\\u0443\\u0431\\u0435\\u0446 \\u043d\\u0430 \\u043c\\u0430\\u0442\\u043a\\u0435  \\u043a\\u0435\\u0441\\u0430\\u0440\\u0435\\u0432\\u043e \\u0441\\u0435\\u0447\\u0435\\u043d\\u0438\\u0435 \\u0432  \",\"\\u0431\\u0435\\u0441\\u043f\\u043b\\u043e\\u0434\\u0438\\u0435   \\u0445\\u0440\\u043e\\u043d\\u0438\\u0447\\u0435\\u0441\\u043a\\u0438\\u0439 \\u044d\\u043d\\u0434\\u043e\\u043c\\u0435\\u0442\\u0440\\u0438\\u0442        \\u043c\\u0438\\u043e\\u043c\\u0430 \\u043c\\u0430\",\"\\u0431\\u0435\\u0441\\u043f\\u043b\\u043e\\u0434\\u0438\\u0435          \\u0436\\u0435\\u043d\\u0441\\u043a\\u043e\\u0435 \\u0431\\u0435\\u0441\\u043f\\u043b\\u043e\\u0434\\u0438\\u0435  \\u043e\\u0431\\u0443\\u0441\\u043b\\u043e\\u0432\\u043b\\u0435\\u043d\\u043d\\u043e\",\"\\u0431\\u0435\\u0441\\u043f\\u043b\\u043e\\u0434\\u0438\\u0435     \\u0441\\u043d\\u0438\\u0436\\u0435\\u043d\\u0438\\u0435 \\u043e\\u0432\\u0430\\u0440\\u0438\\u0430\\u043b\\u044c\\u043d\\u043e\\u0433\\u043e \\u0440\\u0435\\u0437\\u0435\\u0440\\u0432\\u0430  \\u043f\\u043e\\u0437\\u0434\\u043d\",\"\\u0431\\u0435\\u0441\\u043f\\u043b\\u043e\\u0434\\u0438\\u0435     \\u0441\\u043e\\u0447\\u0435\\u0442\\u0430\\u043d\\u043d\\u043e\\u0435  \\u044d\\u043d\\u0434\\u043e\\u043a\\u0440\\u0438\\u043d\\u043d\\u043e\\u0435  \\u043e\\u0431\\u0443\\u0441\\u043b\\u043e\\u0432\\u043b\\u0435\\u043d\\u043d\",\"\\u043f\\u0440\\u0438\\u0432\\u044b\\u0447\\u043d\\u043e\\u0435 \\u043d\\u0435\\u0432\\u044b\\u043d\\u0430\\u0448\\u0438\\u0432\\u0430\\u043d\\u0438\\u0435 \\u0431\\u0435\\u0440\\u0435\\u043c\\u0435\\u043d\\u043d\\u043e\\u0441\\u0442\\u0438      \\u0445\\u0440\\u043e\\u043d\\u0438\\u0447\\u0435\\u0441\",\"\\u0431\\u0435\\u0441\\u043f\\u043b\\u043e\\u0434\\u0438\\u0435           \\u0436\\u0435\\u043d\\u0441\\u043a\\u043e\\u0435 \\u0431\\u0435\\u0441\\u043f\\u043b\\u043e\\u0434\\u0438\\u0435  \\u043e\\u0431\\u0443\\u0441\\u043b\\u043e\\u0432\\u043b\\u0435\\u043d\\u043d\",\"\\u0431\\u0435\\u0441\\u043f\\u043b\\u043e\\u0434\\u0438\\u0435           \\u0436\\u0435\\u043d\\u0441\\u043a\\u043e\\u0435 \\u0431\\u0435\\u0441\\u043f\\u043b\\u043e\\u0434\\u0438\\u0435  \\u043e\\u0431\\u0443\\u0441\\u043b\\u043e\\u0432\\u043b\\u0435\\u043d\\u043d\",\"\\u0431\\u0435\\u0441\\u043f\\u043b\\u043e\\u0434\\u0438\\u0435   \\u0430\\u0431\\u0441\\u043e\\u043b\\u044e\\u0442\\u043d\\u043e\\u0435 \\u0442\\u0440\\u0443\\u0431\\u043d\\u043e\\u0435  \\u0434\\u0435\\u0444\\u0438\\u0446\\u0438\\u0442 \\u043c\\u0430\\u0441\\u0441\\u044b \\u0442\\u0435\\u043b\\u0430\",\"\\u0431\\u0435\\u0441\\u043f\\u043b\\u043e\\u0434\\u0438\\u0435   \\u0430\\u0431\\u0441\\u043e\\u043b\\u044e\\u0442\\u043d\\u043e\\u0435 \\u0442\\u0440\\u0443\\u0431\\u043d\\u043e\\u0435  \\u0434\\u0435\\u0444\\u0438\\u0446\\u0438\\u0442 \\u043c\\u0430\\u0441\\u0441\\u044b \\u0442\\u0435\\u043b\\u0430\",\"\\u0431\\u0435\\u0441\\u043f\\u043b\\u043e\\u0434\\u0438\\u0435   \\u043d\\u0435\\u044f\\u0441\\u043d\\u043e\\u0433\\u043e \\u0433\\u0435\\u043d\\u0435\\u0437\\u0430 \\u0445\\u0440\\u043e\\u043d\\u0438\\u0447\\u0435\\u0441\\u043a\\u0438\\u0439 \\u044d\\u043d\\u0434\\u043e\\u043c\\u0435\\u0442\\u0440\\u0438\\u0442\",\"\\u0431\\u0435\\u0441\\u043f\\u043b\\u043e\\u0434\\u0438\\u0435     \\u0440\\u0443\\u0431\\u0435\\u0446 \\u043d\\u0430 \\u043c\\u0430\\u0442\\u043a\\u0435  \\u043a\\u0435\\u0441\\u0430\\u0440\\u0435\\u0432\\u043e \\u0441\\u0435\\u0447\\u0435\\u043d\\u0438\\u0435 \\u0432  \",\"\\u0431\\u0435\\u0441\\u043f\\u043b\\u043e\\u0434\\u0438\\u0435    \\u043c\\u0443\\u0436\\u0441\\u043a\\u043e\\u0439 \\u0444\\u0430\\u043a\\u0442\\u043e\\u0440      \",\"\\u0431\\u0435\\u0441\\u043f\\u043b\\u043e\\u0434\\u0438\\u0435     \\u0445\\u0440\\u043e\\u043d\\u0438\\u0447\\u0435\\u0441\\u043a\\u0438\\u0439 \\u044d\\u043d\\u0434\\u043e\\u043c\\u0435\\u0442\\u0440\\u0438\\u0442        \\u043d\\u0430\\u0441\\u043b\\u0435\\u0434\",\"\\u0431\\u0435\\u0441\\u043f\\u043b\\u043e\\u0434\\u0438\\u0435     \\u0445\\u0440\\u043e\\u043d\\u0438\\u0447\\u0435\\u0441\\u043a\\u0438\\u0439 \\u044d\\u043d\\u0434\\u043e\\u043c\\u0435\\u0442\\u0440\\u0438\\u0442        \\u043d\\u0430\\u0441\\u043b\\u0435\\u0434\",\"\\u0431\\u0435\\u0441\\u043f\\u043b\\u043e\\u0434\\u0438\\u0435    \\u043e\\u0431\\u0443\\u0441\\u043b\\u043e\\u0432\\u043b\\u0435\\u043d\\u043d\\u043e\\u0435 \\u044d\\u043d\\u0434\\u043e\\u043c\\u0435\\u0442\\u0440\\u0438\\u043e\\u0437\\u043e\\u043c  \\u043d\\u0430\\u0440\\u0443\\u0436\\u043d\\u044b\\u0439\",\"\\u0431\\u0435\\u0441\\u043f\\u043b\\u043e\\u0434\\u0438\\u0435    \\u0430\\u0431\\u0441\\u043e\\u043b\\u044e\\u0442\\u043d\\u043e\\u0435 \\u0442\\u0440\\u0443\\u0431\\u043d\\u043e\\u0435 \",\"\\u0431\\u0435\\u0441\\u043f\\u043b\\u043e\\u0434\\u0438\\u0435    \\u0441\\u043e\\u0447\\u0435\\u0442\\u0430\\u043d\\u043d\\u043e\\u0435  \\u043e\\u0431\\u0443\\u0441\\u043b\\u043e\\u0432\\u043b\\u0435\\u043d\\u043d\\u043e\\u0435 \\u044d\\u043d\\u0434\\u043e\\u043c\\u0435\\u0442\\u0440\\u0438\\u043e\\u0437\",\"\\u0431\\u0435\\u0441\\u043f\\u043b\\u043e\\u0434\\u0438\\u0435    \\u0430\\u0431\\u0441\\u043e\\u043b\\u044e\\u0442\\u043d\\u044b\\u0439 \\u0442\\u0440\\u0443\\u0431\\u043d\\u044b\\u0439 \\u0444\\u0430\\u043a\\u0442\\u043e\\u0440 \\u0445\\u0440  \\u0430\\u0434\\u043d\\u0435\\u043a\\u0441\\u0438\",\"\\u0431\\u0435\\u0441\\u043f\\u043b\\u043e\\u0434\\u0438\\u0435     \\u0445\\u0440\\u043e\\u043d\\u0438\\u0447\\u0435\\u0441\\u043a\\u0438\\u0439 \\u0441\\u0430\\u043b\\u044c\\u043f\\u0438\\u043d\\u0433\\u043e\\u043e\\u0444\\u043e\\u0440\\u0438\\u0442        \\u0440\",\"\\u0431\\u0435\\u0441\\u043f\\u043b\\u043e\\u0434\\u0438\\u0435     \\u0445\\u0440\\u043e\\u043d\\u0438\\u0447\\u0435\\u0441\\u043a\\u0438\\u0439 \\u0441\\u0430\\u043b\\u044c\\u043f\\u0438\\u043d\\u0433\\u043e\\u043e\\u0444\\u043e\\u0440\\u0438\\u0442        \\u0440\",\"\\u0431\\u0435\\u0441\\u043f\\u043b\\u043e\\u0434\\u0438\\u0435            \\u0434\\u0440\\u0443\\u0433\\u0438\\u0435 \\u0444\\u043e\\u0440\\u043c\\u044b \\u0436\\u0435\\u043d\\u0441\\u043a\\u043e\\u0433\\u043e \\u0431\\u0435\\u0441\\u043f\\u043b\\u043e\\u0434\",\"\\u043d\\u0435\\u0442\",\"\\u0431\\u0435\\u0441\\u043f\\u043b\\u043e\\u0434\\u0438\\u0435     \\u043f\\u043e\\u0437\\u0434\\u043d\\u0438\\u0439 \\u0440\\u0435\\u043f\\u0440\\u043e\\u0434\\u0443\\u043a\\u0442\\u0438\\u0432\\u043d\\u044b\\u0439 \\u0432\\u043e\\u0437\\u0440\\u0430\\u0441\\u0442  \\u043f\\u0440\\u0438\\u0432\",\"\\u0431\\u0435\\u0441\\u043f\\u043b\\u043e\\u0434\\u0438\\u0435     \\u043e\\u0431\\u0443\\u0441\\u043b\\u043e\\u0432\\u043b\\u0435\\u043d\\u043d\\u043e\\u0435 \\u044d\\u043d\\u0434\\u043e\\u043c\\u0435\\u0442\\u0440\\u0438\\u043e\\u0437\\u043e\\u043c  \\u043d\\u0433\\u044d  \\u044d\\u043d\",\"\\u0431\\u0435\\u0441\\u043f\\u043b\\u043e\\u0434\\u0438\\u0435     \\u044d\\u043d\\u0434\\u043e\\u043a\\u0440\\u0438\\u043d\\u043d\\u043e\\u0435  \\u044d\\u043a\\u0442\\u043e\\u043f\\u0438\\u044f \\u0448\\u0435\\u0439\\u043a\\u0438 \\u043c\\u0430\\u0442\\u043a\\u0438  \\u043f\\u0435\",\"\\u0431\\u0435\\u0441\\u043f\\u043b\\u043e\\u0434\\u0438\\u0435     \\u0441\\u043d\\u0438\\u0436\\u0435\\u043d\\u0438\\u0435 \\u043e\\u0432\\u0430\\u0440\\u0438\\u0430\\u043b\\u044c\\u043d\\u043e\\u0433\\u043e \\u0440\\u0435\\u0437\\u0435\\u0440\\u0432\\u0430  \\u043f\\u043e\\u0437\\u0434\\u043d\",\"\\u0431\\u0435\\u0441\\u043f\\u043b\\u043e\\u0434\\u0438\\u0435   \\u0430\\u043d\\u043e\\u0432\\u0443\\u043b\\u044f\\u0442\\u043e\\u0440\\u043d\\u043e\\u0435  \\u0432\\u044b\\u043d\\u0443\\u0436\\u0434\\u0435\\u043d\\u043d\\u043e\\u0435  \\u0433\\u0438\\u043f\\u0435\\u0440\\u0433\\u043e\\u043d\\u0430\\u0434\",\"\\u0431\\u0435\\u0441\\u043f\\u043b\\u043e\\u0434\\u0438\\u0435   \\u0445\\u0440\\u043e\\u043d\\u0438\\u0447\\u0435\\u0441\\u043a\\u0438\\u0439 \\u044d\\u043d\\u0434\\u043e\\u043c\\u0435\\u0442\\u0440\\u0438\\u0442        \\u044d\\u043d\\u0434\\u043e\\u043c\\u0435\\u0442\\u0440\",\"\\u0431\\u0435\\u0441\\u043f\\u043b\\u043e\\u0434\\u0438\\u0435     \\u0445\\u0440\\u043e\\u043d\\u0438\\u0447\\u0435\\u0441\\u043a\\u0438\\u0439 \\u0441\\u0430\\u043b\\u044c\\u043f\\u0438\\u043d\\u0433\\u043e\\u043e\\u0444\\u043e\\u0440\\u0438\\u0442        \\u0445\",\"\\u0431\\u0435\\u0441\\u043f\\u043b\\u043e\\u0434\\u0438\\u0435     \\u0441\\u043e\\u0447\\u0435\\u0442\\u0430\\u043d\\u043d\\u043e\\u0435  \\u043e\\u0431\\u0443\\u0441\\u043b\\u043e\\u0432\\u043b\\u0435\\u043d\\u043d\\u043e\\u0435 \\u044d\\u043d\\u0434\\u043e\\u043c\\u0435\\u0442\\u0440\\u0438\\u043e\",\"\\u0431\\u0435\\u0441\\u043f\\u043b\\u043e\\u0434\\u0438\\u0435      \\u043f\\u043e\\u0437\\u0434\\u043d\\u0438\\u0439 \\u0440\\u0435\\u043f\\u0440\\u043e\\u0434\\u0443\\u043a\\u0442\\u0438\\u0432\\u043d\\u044b\\u0439 \\u0432\\u043e\\u0437\\u0440\\u0430\\u0441\\u0442  \\u043c\\u0443\\u0436\",\"\\u0431\\u0435\\u0441\\u043f\\u043b\\u043e\\u0434\\u0438\\u0435   \\u043f\\u0440\\u0435\\u0436\\u0434\\u0435\\u0432\\u0440\\u0435\\u043c\\u0435\\u043d\\u043d\\u043e\\u0435 \\u0438\\u0441\\u0442\\u043e\\u0449\\u0435\\u043d\\u0438\\u0435 \\u044f\\u0438\\u0447\\u043d\\u0438\\u043a\\u043e\\u0432    \",\"\\u0431\\u0435\\u0441\\u043f\\u043b\\u043e\\u0434\\u0438\\u0435     \\u0445\\u0440\\u043e\\u043d\\u0438\\u0447\\u0435\\u0441\\u043a\\u0438\\u0439 \\u0441\\u0430\\u043b\\u044c\\u043f\\u0438\\u043d\\u0433\\u043e\\u043e\\u0444\\u043e\\u0440\\u0438\\u0442        \\u0430\",\"\\u0431\\u0435\\u0441\\u043f\\u043b\\u043e\\u0434\\u0438\\u0435     \\u0433\\u0438\\u043f\\u0435\\u0440\\u0433\\u043e\\u043d\\u0430\\u0434\\u043e\\u0442\\u0440\\u043e\\u043f\\u043d\\u0430\\u044f \\u043d\\u0435\\u0434\\u043e\\u0441\\u0442\\u0430\\u0442\\u043e\\u0447\\u043d\\u043e\\u0441\\u0442\\u044c \\u044f\",\"\\u0431\\u0435\\u0441\\u043f\\u043b\\u043e\\u0434\\u0438\\u0435  \\u0445\\u0440\\u043e\\u043d\\u0438\\u0447\\u0435\\u0441\\u043a\\u0438\\u0439 \\u0441\\u0430\\u043b\\u044c\\u043f\\u0438\\u043d\\u0433\\u043e\\u043e\\u0444\\u043e\\u0440\\u0438\\u0442        \\u0445\\u0440\\u043e\\u043d\",\"\\u043d\\u0435\\u0442\",\"\\u0431\\u0435\\u0441\\u043f\\u043b\\u043e\\u0434\\u0438\\u0435      \\u0430\\u0431\\u0441\\u043e\\u043b\\u044e\\u0442\\u043d\\u043e\\u0435  \\u0442\\u0440\\u0443\\u0431\\u043d\\u043e\\u0435   \\u043f\\u0440\\u0438\\u043e\\u0431\\u0440\\u0435\\u0442\\u0435\\u043d\\u043d\\u043e\\u0435\",\"\\u0431\\u0435\\u0441\\u043f\\u043b\\u043e\\u0434\\u0438\\u0435     \\u043d\\u0435\\u0441\\u043e\\u0441\\u0442\\u043e\\u044f\\u0442\\u0435\\u043b\\u044c\\u043d\\u043e\\u0441\\u0442\\u044c \\u0440\\u0443\\u0431\\u0446\\u0430 \\u043d\\u0430 \\u043c\\u0430\\u0442\\u043a\\u0435    \",\"\\u0431\\u0435\\u0441\\u043f\\u043b\\u043e\\u0434\\u0438\\u0435      \\u0436\\u0435\\u043b\\u0435\\u0437\\u0438\\u0441\\u0442\\u043e \\u043a\\u0438\\u0441\\u0442\\u043e\\u0437\\u043d\\u0430\\u044f \\u0433\\u0438\\u043f\\u0435\\u0440\\u043f\\u043b\\u0430\\u0437\\u0438\\u044f \\u044d\\u043d\\u0434\",\"\\u0431\\u0435\\u0441\\u043f\\u043b\\u043e\\u0434\\u0438\\u0435           \\u0434\\u0440\\u0443\\u0433\\u0438\\u0435 \\u0444\\u043e\\u0440\\u043c\\u044b \\u0436\\u0435\\u043d\\u0441\\u043a\\u043e\\u0433\\u043e \\u0431\\u0435\\u0441\\u043f\\u043b\\u043e\\u0434\\u0438\",\"\\u0431\\u0435\\u0441\\u043f\\u043b\\u043e\\u0434\\u0438\\u0435           \\u0436\\u0435\\u043d\\u0441\\u043a\\u043e\\u0435 \\u0431\\u0435\\u0441\\u043f\\u043b\\u043e\\u0434\\u0438\\u0435 \\u0442\\u0440\\u0443\\u0431\\u043d\\u043e\\u043f\\u0435\\u0440\\u0438\\u0442\\u043e\",\"\\u0431\\u0435\\u0441\\u043f\\u043b\\u043e\\u0434\\u0438\\u0435   \\u043f\\u0440\\u0438\\u043e\\u0431\\u0440\\u0435\\u0442\\u0435\\u043d\\u043d\\u043e\\u0435 \\u043e\\u0442\\u0441\\u0443\\u0442\\u0441\\u0442\\u0432\\u0438\\u0435 \\u043e\\u0440\\u0433\\u0430\\u043d\\u0430  \\u0434\\u0432\\u0443\\u0445\\u0441\",\"\\u0431\\u0435\\u0441\\u043f\\u043b\\u043e\\u0434\\u0438\\u0435           \\u0434\\u0440\\u0443\\u0433\\u0438\\u0435 \\u0444\\u043e\\u0440\\u043c\\u044b \\u0436\\u0435\\u043d\\u0441\\u043a\\u043e\\u0433\\u043e \\u0431\\u0435\\u0441\\u043f\\u043b\\u043e\\u0434\\u0438\",\"\\u0431\\u0435\\u0441\\u043f\\u043b\\u043e\\u0434\\u0438\\u0435     \\u0445\\u0440\\u043e\\u043d\\u0438\\u0447\\u0435\\u0441\\u043a\\u0438\\u0439 \\u0441\\u0430\\u043b\\u044c\\u043f\\u0438\\u043d\\u0433\\u043e\\u043e\\u0444\\u043e\\u0440\\u0438\\u0442        \\u043f\",\"\\u0431\\u0435\\u0441\\u043f\\u043b\\u043e\\u0434\\u0438\\u0435    \\u0445\\u0440\\u043e\\u043d\\u0438\\u0447\\u0435\\u0441\\u043a\\u0438\\u0439 \\u0441\\u0430\\u043b\\u044c\\u043f\\u0438\\u043d\\u0433\\u043e\\u043e\\u0444\\u043e\\u0440\\u0438\\u0442        \\u043f\\u0435\",\"\\u0431\\u0435\\u0441\\u043f\\u043b\\u043e\\u0434\\u0438\\u0435    \\u043d\\u0435\\u044f\\u0441\\u043d\\u043e\\u0433\\u043e \\u0433\\u0435\\u043d\\u0435\\u0437\\u0430  \\u043c\\u0438\\u043e\\u043c\\u0430 \\u043c\\u0430\\u0442\\u043a\\u0438      \\u043f\\u043e\\u0437\",\"\\u0431\\u0435\\u0441\\u043f\\u043b\\u043e\\u0434\\u0438\\u0435     \\u0440\\u0443\\u0431\\u0435\\u0446 \\u043d\\u0430 \\u043c\\u0430\\u0442\\u043a\\u0435        \\u0430\\u0434\\u0435\\u043d\\u043e\\u043c\\u0438\\u043e\\u0437     \",\"\\u0431\\u0435\\u0441\\u043f\\u043b\\u043e\\u0434\\u0438\\u0435    \\u043d\\u0435\\u044f\\u0441\\u043d\\u043e\\u0433\\u043e \\u0433\\u0435\\u043d\\u0435\\u0437\\u0430  \\u043e\\u0433\\u0430  \\u0430\\u0440\\u0430\\u0445\\u043d\\u043e\\u0438\\u0434\\u0430\\u043b\\u044c\\u043d\\u0430\\u044f \",\"\\u0431\\u0435\\u0441\\u043f\\u043b\\u043e\\u0434\\u0438\\u0435     \\u043c\\u0438\\u043e\\u043c\\u0430 \\u043c\\u0430\\u0442\\u043a\\u0438      \\u043f\\u043e\\u0437\\u0434\\u043d\\u0438\\u0439 \\u0440\\u0435\\u043f\\u0440\\u043e\\u0434\\u0443\\u043a\\u0442\\u0438\\u0432\",\"\\u0431\\u0435\\u0441\\u043f\\u043b\\u043e\\u0434\\u0438\\u0435   \\u0445\\u0440\\u043e\\u043d\\u0438\\u0447\\u0435\\u0441\\u043a\\u0438\\u0439 \\u0441\\u0430\\u043b\\u044c\\u043f\\u0438\\u043d\\u0433\\u043e\\u043e\\u0444\\u043e\\u0440\\u0438\\u0442        \\u0430\\u0434\\u0435\",\"\\u0431\\u0435\\u0441\\u043f\\u043b\\u043e\\u0434\\u0438\\u0435   \\u0445\\u0440\\u043e\\u043d\\u0438\\u0447\\u0435\\u0441\\u043a\\u0438\\u0439 \\u0441\\u0430\\u043b\\u044c\\u043f\\u0438\\u043d\\u0433\\u043e\\u043e\\u0444\\u043e\\u0440\\u0438\\u0442        \\u044d\\u043d\\u0434\",\"\\u0431\\u0435\\u0441\\u043f\\u043b\\u043e\\u0434\\u0438\\u0435    \\u0445\\u0440\\u043e\\u043d\\u0438\\u0447\\u0435\\u0441\\u043a\\u0438\\u0439 \\u0441\\u0430\\u043b\\u044c\\u043f\\u0438\\u043d\\u0433\\u043e\\u043e\\u0444\\u043e\\u0440\\u0438\\u0442        \\u044d\\u043d\",\"\\u0431\\u0435\\u0441\\u043f\\u043b\\u043e\\u0434\\u0438\\u0435    \\u043c\\u043d\\u043e\\u0436\\u0435\\u0441\\u0442\\u0432\\u0435\\u043d\\u043d\\u0430\\u044f \\u043c\\u0438\\u043e\\u043c\\u0430 \\u043c\\u0430\\u0442\\u043a\\u0438      \\u0434\\u043e\\u0431\\u0440\\u043e\\u043a\",\"\\u0431\\u0435\\u0441\\u043f\\u043b\\u043e\\u0434\\u0438\\u0435     \\u043c\\u0443\\u0436\\u0441\\u043a\\u043e\\u0439 \\u0444\\u0430\\u043a\\u0442\\u043e\\u0440      \",\"\\u0431\\u0435\\u0441\\u043f\\u043b\\u043e\\u0434\\u0438\\u0435      \\u043c\\u0443\\u0436\\u0441\\u043a\\u043e\\u0439 \\u0444\\u0430\\u043a\\u0442\\u043e\\u0440         \\u0442\\u0440\\u0443\\u0431\\u043d\\u043e  \\u043f\\u0435\\u0440\\u0438\",\"\\u0431\\u0435\\u0441\\u043f\\u043b\\u043e\\u0434\\u0438\\u0435     \\u0445\\u0440\\u043e\\u043d\\u0438\\u0447\\u0435\\u0441\\u043a\\u0438\\u0439 \\u0441\\u0430\\u043b\\u044c\\u043f\\u0438\\u043d\\u0433\\u043e\\u043e\\u0444\\u043e\\u0440\\u0438\\u0442        \\u0440\",\"\\u0431\\u0435\\u0441\\u043f\\u043b\\u043e\\u0434\\u0438\\u0435    \\u043c\\u0443\\u0436\\u0441\\u043a\\u043e\\u0439 \\u0444\\u0430\\u043a\\u0442\\u043e\\u0440      \",\"\\u0431\\u0435\\u0441\\u043f\\u043b\\u043e\\u0434\\u0438\\u0435     \\u043d\\u0435\\u0443\\u0434\\u0430\\u0447\\u0438 \\u044d\\u043a\\u043e  \\u043f\\u043e\\u0437\\u0434\\u043d\\u0438\\u0439 \\u0440\\u0435\\u043f\\u0440\\u043e\\u0434\\u0443\\u043a\\u0442\\u0438\\u0432\\u043d\\u044b\\u0439 \",\"\\u0431\\u0435\\u0441\\u043f\\u043b\\u043e\\u0434\\u0438\\u0435     \\u0445\\u0440\\u043e\\u043d\\u0438\\u0447\\u0435\\u0441\\u043a\\u0438\\u0439 \\u0441\\u0430\\u043b\\u044c\\u043f\\u0438\\u043d\\u0433\\u043e\\u043e\\u0444\\u043e\\u0440\\u0438\\u0442        \\u0440\",\"\\u0431\\u0435\\u0441\\u043f\\u043b\\u043e\\u0434\\u0438\\u0435    \\u0445\\u0440\\u043e\\u043d\\u0438\\u0447\\u0435\\u0441\\u043a\\u0438\\u0439 \\u0441\\u0430\\u043b\\u044c\\u043f\\u0438\\u043d\\u0433\\u043e\\u043e\\u0444\\u043e\\u0440\\u0438\\u0442        \\u0445\\u0440\",\"\\u0431\\u0435\\u0441\\u043f\\u043b\\u043e\\u0434\\u0438\\u0435          \\u0434\\u0440\\u0443\\u0433\\u0438\\u0435 \\u0444\\u043e\\u0440\\u043c\\u044b \\u0436\\u0435\\u043d\\u0441\\u043a\\u043e\\u0433\\u043e \\u0431\\u0435\\u0441\\u043f\\u043b\\u043e\\u0434\\u0438\\u044f\",\"\\u0431\\u0435\\u0441\\u043f\\u043b\\u043e\\u0434\\u0438\\u0435    \\u0434\\u0435\\u0444\\u0438\\u0446\\u0438\\u0442 \\u043c\\u0430\\u0441\\u0441\\u044b \\u0442\\u0435\\u043b\\u0430\",\"\\u0431\\u0435\\u0441\\u043f\\u043b\\u043e\\u0434\\u0438\\u0435     \\u043d\\u0435\\u0443\\u0442\\u043e\\u0447\\u043d\\u0435\\u043d\\u043d\\u043e\\u0435  \\u043d\\u0435\\u0432\\u044b\\u043d\\u0430\\u0448\\u0438\\u0432\\u0430\\u043d\\u0438\\u0435 \\u0431\\u0435\\u0440\\u0435\\u043c\\u0435\\u043d\\u043d\",\"\\u043d\\u0435\\u0442\",\"\\u0431\\u0435\\u0441\\u043f\\u043b\\u043e\\u0434\\u0438\\u0435    \\u0441\\u043c\\u0435\\u0448\\u0430\\u043d\\u043d\\u043e\\u0435  \\u043c\\u0443\\u0436\\u0441\\u043a\\u043e\\u0439 \\u0444\\u0430\\u043a\\u0442\\u043e\\u0440  \\u0438\\u043c\\u043c\\u0443\\u043d\\u043e\\u043b\\u043e\\u0433\\u0438\",\"\\u0431\\u0435\\u0441\\u043f\\u043b\\u043e\\u0434\\u0438\\u0435           \\u0436\\u0435\\u043d\\u0441\\u043a\\u043e\\u0435 \\u0431\\u0435\\u0441\\u043f\\u043b\\u043e\\u0434\\u0438\\u0435 \\u0442\\u0440\\u0443\\u0431\\u043d\\u043e \\u043f\\u0435\\u0440\\u0438\\u0442\",\"\\u0431\\u0435\\u0441\\u043f\\u043b\\u043e\\u0434\\u0438\\u0435    \\u0430\\u0431\\u0441\\u043e\\u043b\\u044e\\u0442\\u043d\\u043e\\u0435 \\u0442\\u0440\\u0443\\u0431\\u043d\\u043e\\u0435  \\u0441\\u043d\\u0438\\u0436\\u0435\\u043d\\u0438\\u0435 \\u043e\\u0432\\u0430\\u0440\\u0438\\u0430\\u043b\\u044c\",\"\\u0431\\u0435\\u0441\\u043f\\u043b\\u043e\\u0434\\u0438\\u0435    \\u0441\\u043e\\u0447\\u0435\\u0442\\u0430\\u043d\\u043d\\u044b\\u0439 \\u0442\\u0440\\u0443\\u0431\\u043d\\u043e \\u043f\\u0435\\u0440\\u0438\\u0442\\u043e\\u043d\\u0435\\u0430\\u043b\\u044c\\u043d\\u044b\\u0439 \\u0444\\u0430\\u043a\\u0442\",\"\\u0431\\u0435\\u0441\\u043f\\u043b\\u043e\\u0434\\u0438\\u0435   \\u0433\\u0438\\u043f\\u0435\\u0440\\u0433\\u043e\\u043c\\u043e\\u0446\\u0438\\u0441\\u0442\\u0435\\u0438\\u043d\\u0435\\u043c\\u0438\\u044f        \\u043c\\u0443\\u0436\\u0441\\u043a\\u043e\\u0439 \\u0444\\u0430\",\"\\u0431\\u0435\\u0441\\u043f\\u043b\\u043e\\u0434\\u0438\\u0435   \\u043c\\u0438\\u043a\\u0440\\u043e\\u0430\\u0434\\u0435\\u043d\\u043e\\u043c\\u0430 \\u0433\\u0438\\u043f\\u043e\\u0444\\u0438\\u0437\\u0430        \\u043c\\u0443\\u0436\\u0441\\u043a\\u043e\\u0439 \\u0444\",\"\\u0431\\u0435\\u0441\\u043f\\u043b\\u043e\\u0434\\u0438\\u0435     \\u0442\\u0440\\u0443\\u0431\\u043d\\u043e \\u043f\\u0435\\u0440\\u0438\\u0442\\u043e\\u043d\\u0435\\u0430\\u043b\\u044c\\u043d\\u043e\\u0435  \\u043f\\u0440\\u0438\\u043e\\u0431\\u0440\\u0435\\u0442\\u0435\\u043d\\u043d\\u043e\\u0435\",\"\\u0431\\u0435\\u0441\\u043f\\u043b\\u043e\\u0434\\u0438\\u0435    \\u043e\\u0431\\u0443\\u0441\\u043b\\u043e\\u0432\\u043b\\u0435\\u043d\\u043d\\u043e\\u0435 \\u044d\\u043d\\u0434\\u043e\\u043c\\u0435\\u0442\\u0440\\u0438\\u043e\\u0437\\u043e\\u043c  \\u043d\\u0433\\u044d     \",\"\\u0431\\u0435\\u0441\\u043f\\u043b\\u043e\\u0434\\u0438\\u0435    \\u043d\\u0435\\u0443\\u0442\\u043e\\u0447\\u043d\\u0435\\u043d\\u043d\\u043e\\u0435  \\u043c\\u0438\\u043e\\u043c\\u0430 \\u043c\\u0430\\u0442\\u043a\\u0438 \\u0432 \\u043d\\u0430\\u0447\\u0430\\u043b\\u044c\\u043d\\u043e\\u0439\",\"\\u0431\\u0435\\u0441\\u043f\\u043b\\u043e\\u0434\\u0438\\u0435    \\u043d\\u043e\\u0440\\u043c\\u043e\\u0433\\u043e\\u043d\\u0430\\u0434\\u043e\\u0442\\u0440\\u043e\\u043f\\u043d\\u0430\\u044f \\u043d\\u043e\\u0440\\u043c\\u043e\\u043f\\u0440\\u043e\\u043b\\u0430\\u043a\\u0442\\u0438\\u043d\\u0435\\u043c\\u0438\\u0447\",\"\\u0431\\u0435\\u0441\\u043f\\u043b\\u043e\\u0434\\u0438\\u0435            \\u0434\\u0440\\u0443\\u0433\\u0438\\u0435 \\u0444\\u043e\\u0440\\u043c\\u044b \\u0436\\u0435\\u043d\\u0441\\u043a\\u043e\\u0433\\u043e \\u0431\\u0435\\u0441\\u043f\\u043b\\u043e\\u0434\",\"\\u0431\\u0435\\u0441\\u043f\\u043b\\u043e\\u0434\\u0438\\u0435    \\u0445\\u0440\\u043e\\u043d\\u0438\\u0447\\u0435\\u0441\\u043a\\u0438\\u0439 \\u0441\\u0430\\u043b\\u044c\\u043f\\u0438\\u043d\\u0433\\u043e\\u043e\\u0444\\u043e\\u0440\\u0438\\u0442        \\u0430\\u0434\",\"\\u0431\\u0435\\u0441\\u043f\\u043b\\u043e\\u0434\\u0438\\u0435     \\u0445\\u0440\\u043e\\u043d\\u0438\\u0447\\u0435\\u0441\\u043a\\u0438\\u0439 \\u0441\\u0430\\u043b\\u044c\\u043f\\u0438\\u043d\\u0433\\u043e\\u043e\\u0444\\u043e\\u0440\\u0438\\u0442        \\u043f\",\"\\u0431\\u0435\\u0441\\u043f\\u043b\\u043e\\u0434\\u0438\\u0435    \\u0438\\u0434\\u0438\\u043e\\u043f\\u0430\\u0442\\u0438\\u0447\\u0435\\u0441\\u043a\\u0430\\u044f \\u0444\\u043e\\u0440\\u043c\\u0430\",\"\\u0431\\u0435\\u0441\\u043f\\u043b\\u043e\\u0434\\u0438\\u0435     \\u0445\\u0440\\u043e\\u043d\\u0438\\u0447\\u0435\\u0441\\u043a\\u0438\\u0439 \\u0441\\u0430\\u043b\\u044c\\u043f\\u0438\\u043d\\u0433\\u043e\\u043e\\u0444\\u043e\\u0440\\u0438\\u0442        \\u0441\",\"\\u0431\\u0435\\u0441\\u043f\\u043b\\u043e\\u0434\\u0438\\u0435      \\u0430\\u0434\\u0435\\u043d\\u043e\\u043c\\u0438\\u043e\\u0437               \\u044d\\u043d\\u0434\\u043e\\u043c\\u0435\\u0442\\u0440\\u0438\\u043e\\u0437\",\"\\u0431\\u0435\\u0441\\u043f\\u043b\\u043e\\u0434\\u0438\\u0435    \\u0440\\u0443\\u0431\\u0435\\u0446 \\u043d\\u0430 \\u043c\\u0430\\u0442\\u043a\\u0435 \\u043f\\u043e\\u0441\\u043b\\u0435 \\u043a\\u043e\\u043d\\u0441\\u0435\\u0440\\u0432\\u0430\\u0442\\u0438\\u0432\\u043d\\u043e\\u0439 \\u043c\",\"\\u0431\\u0435\\u0441\\u043f\\u043b\\u043e\\u0434\\u0438\\u0435           \\u0434\\u0440\\u0443\\u0433\\u0438\\u0435 \\u0444\\u043e\\u0440\\u043c\\u044b \\u0436\\u0435\\u043d\\u0441\\u043a\\u043e\\u0433\\u043e \\u0431\\u0435\\u0441\\u043f\\u043e\\u043b\\u0434\\u0438\",\"\\u0431\\u0435\\u0441\\u043f\\u043b\\u043e\\u0434\\u0438\\u0435    \\u0442\\u0440\\u0443\\u0431\\u043d\\u043e \\u043f\\u0435\\u0440\\u0438\\u0442\\u043e\\u043d\\u0435\\u0430\\u043b\\u044c\\u043d\\u043e\\u0435          \\u0445\\u0440\\u043e\\u043d\\u0438\\u0447\",\"\\u0431\\u0435\\u0441\\u043f\\u043b\\u043e\\u0434\\u0438\\u0435   \\u043e\\u0431\\u0443\\u0441\\u043b\\u043e\\u0432\\u043b\\u0435\\u043d\\u043d\\u043e\\u0435 \\u044d\\u043d\\u0434\\u043e\\u043c\\u0435\\u0442\\u0440\\u0438\\u043e\\u0437\\u043e\\u043c \\u0445\\u0440\\u043e\\u043d\\u0438\\u0447\\u0435\\u0441\\u043a\\u0438\",\"\\u0431\\u0435\\u0441\\u043f\\u043b\\u043e\\u0434\\u0438\\u0435   \\u043e\\u0431\\u0443\\u0441\\u043b\\u043e\\u0432\\u043b\\u0435\\u043d\\u043d\\u043e\\u0435 \\u044d\\u043d\\u0434\\u043e\\u043c\\u0435\\u0442\\u0440\\u0438\\u043e\\u0437\\u043e\\u043c \\u0445\\u0440\\u043e\\u043d\\u0438\\u0447\\u0435\\u0441\\u043a\\u0438\",\"\\u0431\\u0435\\u0441\\u043f\\u043b\\u043e\\u0434\\u0438\\u0435   \\u043c\\u0443\\u0436\\u0441\\u043a\\u043e\\u0439 \\u0444\\u0430\\u043a\\u0442\\u043e\\u0440       \\u0434\\u0435\\u0444\\u0438\\u0446\\u0438\\u0442 \\u043c\\u0430\\u0441\\u0441\\u044b \\u0442\\u0435\\u043b\",\"\\u0431\\u0435\\u0441\\u043f\\u043b\\u043e\\u0434\\u0438\\u0435   \\u043c\\u0443\\u0436\\u0441\\u043a\\u043e\\u0439 \\u0444\\u0430\\u043a\\u0442\\u043e\\u0440       \\u0434\\u0435\\u0444\\u0438\\u0446\\u0438\\u0442 \\u043c\\u0430\\u0441\\u0441\\u044b \\u0442\\u0435\\u043b\",\"\\u0431\\u0435\\u0441\\u043f\\u043b\\u043e\\u0434\\u0438\\u0435      \\u044d\\u043d\\u0434\\u043e\\u043c\\u0435\\u0442\\u0440\\u0438\\u043e\\u0437 \\u0442\\u0430\\u0437\\u043e\\u0432\\u043e\\u0439 \\u0431\\u0440\\u044e\\u0448\\u0438\\u043d\\u044b        \",\"\\u0431\\u0435\\u0441\\u043f\\u043b\\u043e\\u0434\\u0438\\u0435   \\u043c\\u0443\\u0436\\u0441\\u043a\\u043e\\u0439 \\u0444\\u0430\\u043a\\u0442\\u043e\\u0440  \\u0434\\u0436\\u0432\\u043f \",\"\\u0431\\u0435\\u0441\\u043f\\u043b\\u043e\\u0434\\u0438\\u0435   \\u0445\\u0440\\u043e\\u043d\\u0438\\u0447\\u0435\\u0441\\u043a\\u0438\\u0439 \\u044d\\u043d\\u0434\\u043e\\u043c\\u0435\\u0442\\u0440\\u0438\\u0442        \\u043d\\u0433\\u044d  \\u043c\\u0438\\u043e\",\"\\u0431\\u0435\\u0441\\u043f\\u043b\\u043e\\u0434\\u0438\\u0435          \\u0436\\u0435\\u043d\\u0441\\u043a\\u043e\\u0435 \\u0431\\u0435\\u0441\\u043f\\u043b\\u043e\\u0434\\u0438\\u0435 \\u0442\\u0440\\u0443\\u0431\\u043d\\u043e \\u043f\\u0435\\u0440\\u0438\\u0442\\u043e\",\"\\u0431\\u0435\\u0441\\u043f\\u043b\\u043e\\u0434\\u0438\\u0435     \\u043f\\u0440\\u0438\\u0432\\u044b\\u0447\\u043d\\u043e\\u0435 \\u043d\\u0435\\u0432\\u044b\\u043d\\u0430\\u0448\\u0438\\u0432\\u0430\\u043d\\u0438\\u0435 \\u0431\\u0435\\u0440\\u0435\\u043c\\u0435\\u043d\\u043d\\u043e\\u0441\\u0442\\u0438\",\"\\u043d\\u0435\\u0442\",\"\\u0431\\u0435\\u0441\\u043f\\u043b\\u043e\\u0434\\u0438\\u0435          \\u0436\\u0435\\u043d\\u0441\\u043a\\u043e\\u0435 \\u0431\\u0435\\u0441\\u043f\\u043b\\u043e\\u0434\\u0438\\u0435  \\u0442\\u0440\\u0443\\u0431\\u043d\\u043e \\u043f\\u0435\\u0440\\u0438\\u0442\",\"\\u0431\\u0435\\u0441\\u043f\\u043b\\u043e\\u0434\\u0438\\u0435           \\u0436\\u0435\\u043d\\u0441\\u043a\\u043e\\u0435 \\u0431\\u0435\\u0441\\u043f\\u043b\\u043e\\u0434\\u0438\\u0435 \\u0442\\u0440\\u0443\\u0431\\u043d\\u043e \\u043f\\u0435\\u0440\\u0438\\u0442\",\"\\u0431\\u0435\\u0441\\u043f\\u043b\\u043e\\u0434\\u0438\\u0435   \\u043f\\u0440\\u0438\\u043e\\u0431\\u0440\\u0435\\u0442\\u0435\\u043d\\u043d\\u043e\\u0435 \\u043e\\u0442\\u0441\\u0443\\u0442\\u0441\\u0442\\u0432\\u0438\\u0435 \\u043e\\u0440\\u0433\\u0430\\u043d\\u0430  \\u0430\\u0434\\u043d\\u0435\\u043a\",\"\\u0431\\u0435\\u0441\\u043f\\u043b\\u043e\\u0434\\u0438\\u0435   \\u0430\\u0431\\u0441\\u043e\\u043b\\u044e\\u0442\\u043d\\u043e\\u0435 \\u0442\\u0440\\u0443\\u0431\\u043d\\u043e\\u0435  \\u0441\\u043f\\u0430\\u0435\\u0447\\u043d\\u044b\\u0439 \\u043f\\u0440\\u043e\\u0446\\u0435\\u0441\\u0441 \\u0432\",\"\\u0431\\u0435\\u0441\\u043f\\u043b\\u043e\\u0434\\u0438\\u0435    \\u0442\\u0440\\u0443\\u0431\\u043d\\u043e \\u043f\\u0435\\u0440\\u0438\\u0442\\u043e\\u043d\\u0435\\u0430\\u043b\\u044c\\u043d\\u043e\\u0435  \\u0441\\u043d\\u0438\\u0436\\u0435\\u043d\\u0438\\u0435 \\u043e\\u0432\\u0430\\u0440\\u0438\",\"\\u0431\\u0435\\u0441\\u043f\\u043b\\u043e\\u0434\\u0438\\u0435     \\u0442\\u0440\\u0443\\u0431\\u043d\\u043e\\u0433\\u043e \\u043f\\u0440\\u043e\\u0438\\u0441\\u0445\\u043e\\u0436\\u0434\\u0435\\u043d\\u0438\\u044f        \\u0430\\u0434\\u0435\\u043d\\u043e\\u043c\",\"\\u043d\\u0435\\u0442\",\"\\u0431\\u0435\\u0441\\u043f\\u043b\\u043e\\u0434\\u0438\\u0435   \\u0445\\u0440\\u043e\\u043d\\u0438\\u0447\\u0435\\u0441\\u043a\\u0438\\u0439 \\u0441\\u0430\\u043b\\u044c\\u043f\\u0438\\u043d\\u0433\\u043e\\u043e\\u0444\\u043e\\u0440\\u0438\\u0442        \\u043c\\u0438\\u043e\",\"\\u0431\\u0435\\u0441\\u043f\\u043b\\u043e\\u0434\\u0438\\u0435            \\u0436\\u0435\\u043d\\u0441\\u043a\\u043e\\u0435 \\u0431\\u0435\\u0441\\u043f\\u043b\\u043e\\u0434\\u0438\\u0435 \\u0442\\u0440\\u0443\\u0431\\u043d\\u043e \\u043f\\u0435\\u0440\\u0438\",\"\\u0431\\u0435\\u0441\\u043f\\u043b\\u043e\\u0434\\u0438\\u0435     \\u0440\\u0443\\u0431\\u0435\\u0446 \\u043d\\u0430 \\u043c\\u0430\\u0442\\u043a\\u0435  \\u043a\\u0435\\u0441\\u0430\\u0440\\u0435\\u0432\\u043e \\u0441\\u0435\\u0447\\u0435\\u043d\\u0438\\u0435 \\u0432  \",\"\\u0431\\u0435\\u0441\\u043f\\u043b\\u043e\\u0434\\u0438\\u0435    \\u0441\\u043e\\u0447\\u0435\\u0442\\u0430\\u043d\\u043d\\u043e\\u0435  \\u0442\\u0440\\u0443\\u0431\\u043d\\u043e \\u043f\\u0435\\u0440\\u0438\\u0442\\u043e\\u043d\\u0435\\u0430\\u043b\\u044c\\u043d\\u043e\\u0435  \\u043c\\u0443\",\"\\u0431\\u0435\\u0441\\u043f\\u043b\\u043e\\u0434\\u0438\\u0435     \\u043d\\u0433\\u044d  \\u0440\\u0435\\u0446\\u0438\\u0434\\u0438\\u0432  \\u0445\\u0440\\u043e\\u043d\\u0438\\u0447\\u0435\\u0441\\u043a\\u0438\\u0439 \\u044d\\u043d\\u0434\\u043e\\u043c\\u0435\\u0442\\u0440\\u0438\\u0442\",\"\\u0431\\u0435\\u0441\\u043f\\u043b\\u043e\\u0434\\u0438\\u0435     \\u0441\\u043e\\u0447\\u0435\\u0442\\u0430\\u043d\\u043d\\u043e\\u0435  \\u0445\\u0440\\u043e\\u043d\\u0438\\u0447\\u0435\\u0441\\u043a\\u0438\\u0439 \\u0434\\u0432\\u0443\\u0441\\u0442\\u043e\\u0440\\u043e\\u043d\\u043d\\u0438\\u0439\",\"\\u0431\\u0435\\u0441\\u043f\\u043b\\u043e\\u0434\\u0438\\u0435   \\u0445\\u0440\\u043e\\u043d\\u0438\\u0447\\u0435\\u0441\\u043a\\u0438\\u0439 \\u0441\\u0430\\u043b\\u044c\\u043f\\u0438\\u043d\\u0433\\u043e\\u043e\\u0444\\u043e\\u0440\\u0438\\u0442        \\u043c\\u0438\\u043e\",\"\\u043d\\u0435\\u0442\",\"\\u0431\\u0435\\u0441\\u043f\\u043b\\u043e\\u0434\\u0438\\u0435     \\u043f\\u0440\\u0438\\u043e\\u0431\\u0440\\u0435\\u0442\\u0435\\u043d\\u043d\\u043e\\u0435 \\u043e\\u0442\\u0441\\u0443\\u0442\\u0441\\u0442\\u0432\\u0438\\u0435 \\u043e\\u0440\\u0433\\u0430\\u043d\\u0430  \\u0442\\u0443\\u0431\",\"\\u0431\\u0435\\u0441\\u043f\\u043b\\u043e\\u0434\\u0438\\u0435   \\u044d\\u043d\\u0434\\u043e\\u043c\\u0435\\u0442\\u0440\\u0438\\u043e\\u0437 \\u0442\\u0430\\u0437\\u043e\\u0432\\u043e\\u0439 \\u0431\\u0440\\u044e\\u0448\\u0438\\u043d\\u044b        \\u0441\\u043d\\u0438\",\"\\u0431\\u0435\\u0441\\u043f\\u043b\\u043e\\u0434\\u0438\\u0435   \\u043d\\u0433\\u044d  \\u043a\\u043e\\u043c\\u0431\\u0438\\u043d\\u0438\\u0440\\u043e\\u0432\\u0430\\u043d\\u043d\\u043e\\u0435 \\u043b\\u0435\\u0447\\u0435\\u043d\\u0438\\u0435 \\u0432 \\u0430\\u043d\\u0430\\u043c\\u043d\\u0435\\u0437\",\"\\u0431\\u0435\\u0441\\u043f\\u043b\\u043e\\u0434\\u0438\\u0435 \\u0432\\u0442\\u043e\\u0440\\u0438\\u0447\\u043d\\u043e\\u0435         \\u0434\\u0440\\u0443\\u0433\\u0438\\u0435 \\u0444\\u043e\\u0440\\u043c\\u044b \\u0436\\u0435\\u043d\\u0441\\u043a\\u043e\\u0433\\u043e \",\"\\u0431\\u0435\\u0441\\u043f\\u043b\\u043e\\u0434\\u0438\\u0435    \\u043d\\u0435\\u0443\\u0442\\u043e\\u0447\\u043d\\u0435\\u043d\\u043d\\u043e\\u0435  \\u0434\\u0435\\u0444\\u0438\\u0446\\u0438\\u0442 \\u043c\\u0430\\u0441\\u0441\\u044b \\u0442\\u0435\\u043b\\u0430\",\"\\u0431\\u0435\\u0441\\u043f\\u043b\\u043e\\u0434\\u0438\\u0435          \\u0434\\u0440\\u0443\\u0433\\u0438\\u0435 \\u0444\\u043e\\u0440\\u043c\\u044b \\u0436\\u0435\\u043d\\u0441\\u043a\\u043e\\u0433\\u043e \\u0431\\u0435\\u0441\\u043f\\u043b\\u043e\\u0434\\u0438\\u044f\",\"\\u0431\\u0435\\u0441\\u043f\\u043b\\u043e\\u0434\\u0438\\u0435      \\u0442\\u0440\\u0443\\u0431\\u043d\\u044b\\u0439 \\u0444\\u0430\\u043a\\u0442\\u043e\\u0440 \",\"\\u0431\\u0435\\u0441\\u043f\\u043b\\u043e\\u0434\\u0438\\u0435     \\u0445\\u0440\\u043e\\u043d\\u0438\\u0447\\u0435\\u0441\\u043a\\u0438\\u0439 \\u0441\\u0430\\u043b\\u044c\\u043f\\u0438\\u043d\\u0433\\u043e\\u043e\\u0444\\u043e\\u0440\\u0438\\u0442        \\u043c\",\"\\u0431\\u0435\\u0441\\u043f\\u043b\\u043e\\u0434\\u0438\\u0435   \\u043d\\u0433\\u044d         \\u043d\\u0435\\u0434\\u043e\\u0441\\u0442\\u0430\\u0442\\u043e\\u0447\\u043d\\u043e\\u0441\\u0442\\u044c \\u044f\\u0438\\u0447\\u043d\\u0438\\u043a\\u043e\\u0432  \",\"\\u0431\\u0435\\u0441\\u043f\\u043b\\u043e\\u0434\\u0438\\u0435 \\u0432\\u0442\\u043e\\u0440\\u0438\\u0447\\u043d\\u043e\\u0435         \\u0436\\u0435\\u043d\\u0441\\u043a\\u043e\\u0435 \\u0431\\u0435\\u0441\\u043f\\u043b\\u043e\\u0434\\u0438\\u0435  \\u043e\\u0431\\u0443\",\"\\u0431\\u0435\\u0441\\u043f\\u043b\\u043e\\u0434\\u0438\\u0435     \\u0445\\u0440\\u043e\\u043d\\u0438\\u0447\\u0435\\u0441\\u043a\\u0438\\u0439 \\u0441\\u0430\\u043b\\u044c\\u043f\\u0438\\u043d\\u0433\\u043e\\u043e\\u0444\\u043e\\u0440\\u0438\\u0442        \\u0430\",\"\\u0431\\u0435\\u0441\\u043f\\u043b\\u043e\\u0434\\u0438\\u0435    \\u0442\\u0440\\u0443\\u0431\\u043d\\u043e \\u043f\\u0435\\u0440\\u0438\\u0442\\u043e\\u043d\\u0435\\u0430\\u043b\\u044c\\u043d\\u044b\\u0439 \\u0444\\u0430\\u043a\\u0442\\u043e\\u0440\",\"\\u043f\\u0440\\u0438\\u0432\\u044b\\u0447\\u043d\\u043e\\u0435 \\u043d\\u0435\\u0432\\u044b\\u043d\\u0430\\u0448\\u0438\\u0432\\u0430\\u043d\\u0438\\u0435 \\u0431\\u0435\\u0440\\u0435\\u043c\\u0435\\u043d\\u043d\\u043e\\u0441\\u0442\\u0438       \\u043c\\u0443\\u0436\\u0441\\u043a\\u043e\\u0439\",\"\\u0431\\u0435\\u0441\\u043f\\u043b\\u043e\\u0434\\u0438\\u0435          \\u0436\\u0435\\u043d\\u0441\\u043a\\u043e\\u0435 \\u0431\\u0435\\u0441\\u043f\\u043b\\u043e\\u0434\\u0438\\u0435  \\u043e\\u0431\\u0443\\u0441\\u043b\\u043e\\u0432\\u043b\\u0435\\u043d\\u043d\\u043e\",\"\\u0431\\u0435\\u0441\\u043f\\u043b\\u043e\\u0434\\u0438\\u0435   \\u043d\\u0433\\u044d  \\u0440\\u0435\\u0437\\u0435\\u043a\\u0446\\u0438\\u044f  \\u043b\\u0435\\u0432\\u043e\\u0433\\u043e \\u044f\\u0438\\u0447\\u043d\\u0438\\u043a\\u0430  \\u0438\\u0441\\u0441\\u0435\\u0447\\u0435\\u043d\",\"\\u0431\\u0435\\u0441\\u043f\\u043b\\u043e\\u0434\\u0438\\u0435   \\u0445\\u0440\\u043e\\u043d\\u0438\\u0447\\u0435\\u0441\\u043a\\u0438\\u0439 \\u0441\\u0430\\u043b\\u044c\\u043f\\u0438\\u043d\\u0433\\u043e\\u043e\\u0444\\u043e\\u0440\\u0438\\u0442        \\u043c\\u0438\\u043e\",\"\\u0431\\u0435\\u0441\\u043f\\u043b\\u043e\\u0434\\u0438\\u0435   \\u0445\\u0440\\u043e\\u043d\\u0438\\u0447\\u0435\\u0441\\u043a\\u0438\\u0439 \\u0441\\u0430\\u043b\\u044c\\u043f\\u0438\\u043d\\u0433\\u043e\\u043e\\u0444\\u043e\\u0440\\u0438\\u0442        \\u043c\\u0438\\u043e\",\"\\u043d\\u0435\\u0442\",\"\\u0431\\u0435\\u0441\\u043f\\u043b\\u043e\\u0434\\u0438\\u0435   \\u0430\\u0438\\u0442         \\u043c\\u043e\\u0437\\u0430\\u0438\\u0447\\u043d\\u0430\\u044f \\u0444\\u043e\\u0440\\u043c\\u0430 \\u0441\\u0438\\u043d\\u0434\\u0440\\u043e\\u043c\\u0430 \\u0448\",\"\\u0431\\u0435\\u0441\\u043f\\u043b\\u043e\\u0434\\u0438\\u0435    \\u0441\\u043e\\u0447\\u0435\\u0442\\u0430\\u043d\\u043d\\u043e\\u0435  \\u0442\\u0440\\u0443\\u0431\\u043d\\u043e\\u0435       \\u043c\\u0443\\u0436\\u0441\\u043a\\u043e\\u0439 \\u0444\\u0430\\u043a\",\"\\u0431\\u0435\\u0441\\u043f\\u043b\\u043e\\u0434\\u0438\\u0435    \\u0445\\u0440\\u043e\\u043d\\u0438\\u0447\\u0435\\u0441\\u043a\\u0438\\u0439 \\u0441\\u0430\\u043b\\u044c\\u043f\\u0438\\u043d\\u0433\\u043e\\u043e\\u0444\\u043e\\u0440\\u0438\\u0442        \\u0440\\u0443\",\"\\u0431\\u0435\\u0441\\u043f\\u043b\\u043e\\u0434\\u0438\\u0435    \\u0441\\u043f\\u0430\\u0435\\u0447\\u043d\\u044b\\u0439 \\u043f\\u0440\\u043e\\u0446\\u0435\\u0441\\u0441 \\u043c\\u0430\\u043b\\u043e\\u0433\\u043e \\u0442\\u0430\\u0437\\u0430  \\u043d\\u043e\\u0440\\u043c\\u043e\\u0433\\u043e\",\"\\u0431\\u0435\\u0441\\u043f\\u043b\\u043e\\u0434\\u0438\\u0435     \\u043d\\u0433\\u044d   \\u0441\\u0442 \\u0432 \\u0430\\u043d\\u0430\\u043c\\u043d\\u0435\\u0437\\u0435  \\u0430\\u0434\\u0435\\u043d\\u043e\\u043c\\u0438\\u043e\\u0437  \\u0440\\u0435\\u0437\\u0435\",\"\\u0431\\u0435\\u0441\\u043f\\u043b\\u043e\\u0434\\u0438\\u0435     \\u043d\\u0433\\u044d   \\u0441\\u0442           \\u0433\\u0433 \\u043a\\u043e\\u043c\\u0431\\u0438\\u043d\\u0438\\u0440\\u043e\\u0432\\u0430\\u043d\\u043d\\u0430\",\"\\u0431\\u0435\\u0441\\u043f\\u043b\\u043e\\u0434\\u0438\\u0435     \\u043d\\u0433\\u044d   \\u0441\\u0442           \\u0433\\u0433 \\u043a\\u043e\\u043c\\u0431\\u0438\\u043d\\u0438\\u0440\\u043e\\u0432\\u0430\\u043d\\u043d\\u0430\",\"\\u0431\\u0435\\u0441\\u043f\\u043b\\u043e\\u0434\\u0438\\u0435     \\u0442\\u0440\\u0443\\u0431\\u043d\\u043e \\u043f\\u0435\\u0440\\u0438\\u0442\\u043e\\u043d\\u0435\\u0430\\u043b\\u044c\\u043d\\u044b\\u0439 \\u0444\\u0430\\u043a\\u0442\\u043e\\u0440 \\u043c\\u0443\\u0436\\u0441\\u043a\\u043e\\u0439\",\"\\u043d\\u0435\\u0442\",\"\\u0431\\u0435\\u0441\\u043f\\u043b\\u043e\\u0434\\u0438\\u0435     \\u043e\\u0433\\u0430  \\u043f\\u0440\\u0438\\u0432\\u044b\\u0447\\u043d\\u043e\\u0435 \\u043d\\u0435\\u0432\\u044b\\u043d\\u0430\\u0448\\u0438\\u0432\\u0430\\u043d\\u0438\\u0435 \\u0431\\u0435\\u0440\\u0435\\u043c\\u0435\\u043d\",\"\\u043d\\u0435\\u0442\",\"\\u043d\\u0435\\u0442\",\"\\u0431\\u0435\\u0441\\u043f\\u043b\\u043e\\u0434\\u0438\\u0435     \\u0442\\u0440\\u0443\\u0431\\u043d\\u043e \\u043f\\u0435\\u0440\\u0438\\u0442\\u043e\\u043d\\u0435\\u0430\\u043b\\u044c\\u043d\\u044b\\u0439 \\u0444\\u0430\\u043a\\u0442\\u043e\\u0440 \\u043f\\u043e\\u0437\\u0434\\u043d\\u0438\\u0439\",\"\\u0431\\u0435\\u0441\\u043f\\u043b\\u043e\\u0434\\u0438\\u0435     \\u0442\\u0440\\u0443\\u0431\\u043d\\u043e\\u0433\\u043e \\u043f\\u0440\\u043e\\u0438\\u0441\\u0445\\u043e\\u0436\\u0434\\u0435\\u043d\\u0438\\u044f        \\u043c\\u0438\\u043e\\u043c\\u0430 \",\"\\u0431\\u0435\\u0441\\u043f\\u043b\\u043e\\u0434\\u0438\\u0435   \\u043c\\u0443\\u0436\\u0441\\u043a\\u043e\\u0439 \\u0444\\u0430\\u043a\\u0442\\u043e\\u0440       \\u043d\\u0430\\u0440\\u0443\\u0448\\u0435\\u043d\\u0438\\u0435 \\u0436\\u0438\\u0440\\u043e\\u0432\\u043e\\u0433\",\"\\u0431\\u0435\\u0441\\u043f\\u043b\\u043e\\u0434\\u0438\\u0435   \\u0445\\u0440\\u043e\\u043d\\u0438\\u0447\\u0435\\u0441\\u043a\\u0438\\u0439 \\u0441\\u0430\\u043b\\u044c\\u043f\\u0438\\u043d\\u0433\\u043e\\u043e\\u0444\\u043e\\u0440\\u0438\\u0442        \\u0445\\u0440\\u043e\",\"\\u0431\\u0435\\u0441\\u043f\\u043b\\u043e\\u0434\\u0438\\u0435     \\u0442\\u0440\\u0443\\u0431\\u043d\\u043e\\u0433\\u043e \\u043f\\u0440\\u043e\\u0438\\u0441\\u0445\\u043e\\u0436\\u0434\\u0435\\u043d\\u0438\\u044f         \\u0430\\u0434\\u0435\\u043d\\u043e\",\"\\u0431\\u0435\\u0441\\u043f\\u043b\\u043e\\u0434\\u0438\\u0435          \\u0436\\u0435\\u043d\\u0441\\u043a\\u043e\\u0435 \\u0431\\u0435\\u0441\\u043f\\u043b\\u043e\\u0434\\u0438\\u0435  \\u043e\\u0431\\u0443\\u0441\\u043b\\u043e\\u0432\\u043b\\u0435\\u043d\\u043d\\u043e\",\"\\u0431\\u0435\\u0441\\u043f\\u043b\\u043e\\u0434\\u0438\\u0435    \\u043e\\u0431\\u0443\\u0441\\u043b\\u043e\\u0432\\u043b\\u0435\\u043d\\u043d\\u043e\\u0435 \\u044d\\u043d\\u0434\\u043e\\u043c\\u0435\\u0442\\u0440\\u0438\\u043e\\u0437\\u043e\\u043c  \\u0434\\u0432\\u0443\\u0441\\u0442\\u043e\\u0440\\u043e\",\"\\u0431\\u0435\\u0441\\u043f\\u043b\\u043e\\u0434\\u0438\\u0435    \\u043e\\u0442\\u0441\\u0443\\u0442\\u0441\\u0442\\u0432\\u0438\\u0435 \\u043f\\u043e\\u043b\\u043e\\u0432\\u043e\\u0433\\u043e \\u043f\\u0430\\u0440\\u0442\\u043d\\u0435\\u0440\\u0430  \\u0441\\u0442\\u0430\\u0440\\u0448\\u0438\\u0439\",\"\\u0431\\u0435\\u0441\\u043f\\u043b\\u043e\\u0434\\u0438\\u0435           \\u0436\\u0435\\u043d\\u0441\\u043a\\u043e\\u0435 \\u0431\\u0435\\u0441\\u043f\\u043b\\u043e\\u0434\\u0438\\u0435 \\u043d\\u0435\\u0443\\u0442\\u043e\\u0447\\u043d\\u0435\\u043d\\u043d\\u043e\\u0435\",\"\\u0431\\u0435\\u0441\\u043f\\u043b\\u043e\\u0434\\u0438\\u0435           \\u0436\\u0435\\u043d\\u0441\\u043a\\u043e\\u0435 \\u0431\\u0435\\u0441\\u043f\\u043b\\u043e\\u0434\\u0438\\u0435  \\u043e\\u0431\\u0443\\u0441\\u043b\\u043e\\u0432\\u043b\\u0435\\u043d\\u043d\",\"\\u0431\\u0435\\u0441\\u043f\\u043b\\u043e\\u0434\\u0438\\u0435     \\u0442\\u0440\\u0443\\u0431\\u043d\\u043e \\u043f\\u0435\\u0440\\u0438\\u0442\\u043e\\u043d\\u0435\\u0430\\u043b\\u044c\\u043d\\u043e\\u0435  \\u0430\\u0431\\u0441\\u043e\\u043b\\u044e\\u0442\\u043d\\u043e \\u0442\\u0440\\u0443\",\"\\u0431\\u0435\\u0441\\u043f\\u043b\\u043e\\u0434\\u0438\\u0435   \\u0445\\u0440\\u043e\\u043d\\u0438\\u0447\\u0435\\u0441\\u043a\\u0438\\u0439 \\u0441\\u0430\\u043b\\u044c\\u043f\\u0438\\u043d\\u0433\\u043e\\u043e\\u0444\\u043e\\u0440\\u0438\\u0442        \\u044d\\u043d\\u0434\",\"\\u0431\\u0435\\u0441\\u043f\\u043b\\u043e\\u0434\\u0438\\u0435   \\u0445\\u0440\\u043e\\u043d\\u0438\\u0447\\u0435\\u0441\\u043a\\u0438\\u0439 \\u0441\\u0430\\u043b\\u044c\\u043f\\u0438\\u043d\\u0433\\u043e\\u043e\\u0444\\u043e\\u0440\\u0438\\u0442        \\u044d\\u043d\\u0434\",\"\\u0431\\u0435\\u0441\\u043f\\u043b\\u043e\\u0434\\u0438\\u0435     \\u0441\\u0438\\u043d\\u0435\\u0445\\u0438\\u0438 \\u043f\\u043e\\u043b\\u043e\\u0441\\u0442\\u0438 \\u043c\\u0430\\u0442\\u043a\\u0438        \\u0430\\u0434\\u0435\\u043d\\u043e\\u043c\\u0438\",\"\\u0431\\u0435\\u0441\\u043f\\u043b\\u043e\\u0434\\u0438\\u0435     \\u0441\\u043e\\u0447\\u0435\\u0442\\u0430\\u043d\\u043d\\u043e\\u0435  \\u043c\\u0430\\u0442\\u043e\\u0447\\u043d\\u043e\\u0435  \\u044d\\u043d\\u0434\\u043e\\u043a\\u0440\\u0438\\u043d\\u043d\\u043e\\u0435  \\u0445\",\"\\u043f\\u0440\\u0438\\u0432\\u044b\\u0447\\u043d\\u043e\\u0435 \\u043d\\u0435\\u0432\\u044b\\u043d\\u0430\\u0448\\u0438\\u0432\\u0430\\u043d\\u0438\\u0435 \\u0431\\u0435\\u0440\\u0435\\u043c\\u0435\\u043d\\u043d\\u043e\\u0441\\u0442\\u0438  \\u043f\\u043e\\u0437\\u0434\\u043d\\u0438\\u0439 \\u0440\\u0435\\u043f\\u0440\",\"\\u0431\\u0435\\u0441\\u043f\\u043b\\u043e\\u0434\\u0438\\u0435           \\u0436\\u0435\\u043d\\u0441\\u043a\\u043e\\u0435 \\u0431\\u0435\\u0441\\u043f\\u043b\\u043e\\u0434\\u0438\\u0435 \\u043d\\u0435\\u0443\\u0442\\u043e\\u0447\\u043d\\u0435\\u043d\\u043d\\u043e\\u0435\",\"\\u0431\\u0435\\u0441\\u043f\\u043b\\u043e\\u0434\\u0438\\u0435     \\u043f\\u0440\\u0438\\u043e\\u0431\\u0440\\u0435\\u0442\\u0435\\u043d\\u043d\\u043e\\u0435 \\u043e\\u0442\\u0441\\u0443\\u0442\\u0441\\u0442\\u0432\\u0438\\u0435 \\u043e\\u0440\\u0433\\u0430\\u043d\\u0430     \",\"\\u0431\\u0435\\u0441\\u043f\\u043b\\u043e\\u0434\\u0438\\u0435    \\u0432\\u044b\\u043d\\u0443\\u0436\\u0434\\u0435\\u043d\\u043d\\u043e\\u0435  \\u0433\\u0438\\u043f\\u043e\\u0442\\u0438\\u0440\\u0435\\u043e\\u0437      \\u043e\\u0442\\u0441\\u0443\\u0442\\u0441\\u0442\\u0432\",\"\\u0431\\u0435\\u0441\\u043f\\u043b\\u043e\\u0434\\u0438\\u0435    \\u0432\\u044b\\u043d\\u0443\\u0436\\u0434\\u0435\\u043d\\u043d\\u043e\\u0435   \\u0441\\u0443\\u0431\\u043a\\u043b\\u0438\\u043d\\u0438\\u0447\\u0435\\u0441\\u043a\\u0438\\u0439 \\u0433\\u0438\\u043f\\u043e\\u0442\\u0438\\u0440\\u0435\",\"\\u0431\\u0435\\u0441\\u043f\\u043b\\u043e\\u0434\\u0438\\u0435     \\u0441\\u043e\\u0447\\u0435\\u0442\\u0430\\u043d\\u043d\\u043e\\u0435  \\u043c\\u0443\\u0436\\u0441\\u043a\\u043e\\u0439 \\u0444\\u0430\\u043a\\u0442\\u043e\\u0440  \\u0442\\u0440\\u0443\\u0431\\u043d\\u043e \\u043f\",\"\\u0431\\u0435\\u0441\\u043f\\u043b\\u043e\\u0434\\u0438\\u0435    \\u043d\\u0433\\u044d  \\u0440\\u0435\\u0446\\u0438\\u0434\\u0438\\u0432  \\u043a\\u0438\\u0441\\u0442\\u044b \\u043f\\u0440\\u0430\\u0432\\u043e\\u0433\\u043e \\u044f\\u0438\\u0447\\u043d\\u0438\\u043a\\u0430  \",\"\\u0431\\u0435\\u0441\\u043f\\u043b\\u043e\\u0434\\u0438\\u0435   \\u0441\\u043f\\u044f        \\u0430\\u043d\\u043e\\u0432\\u0443\\u043b\\u044f\\u0446\\u0438\\u044f         \\u0445\\u0440 \\u044d\\u043d\\u0434\\u043e\\u043c\",\"\\u0431\\u0435\\u0441\\u043f\\u043b\\u043e\\u0434\\u0438\\u0435   \\u0441\\u043f\\u044f        \\u0430\\u043d\\u043e\\u0432\\u0443\\u043b\\u044f\\u0446\\u0438\\u044f       \",\"\\u0431\\u0435\\u0441\\u043f\\u043b\\u043e\\u0434\\u0438\\u0435   \\u0442\\u0440\\u0443\\u0431\\u043d\\u043e\\u0435  \\u043e\\u0431\\u0443\\u0441\\u043b\\u043e\\u0432\\u043b\\u0435\\u043d\\u043d\\u043e\\u0435 \\u044d\\u043d\\u0434\\u043e\\u043c\\u0435\\u0442\\u0440\\u0438\\u043e\\u0437\\u043e\\u043c  \",\"\\u0431\\u0435\\u0441\\u043f\\u043b\\u043e\\u0434\\u0438\\u0435   \\u0445\\u0440\\u043e\\u043d\\u0438\\u0447\\u0435\\u0441\\u043a\\u0438\\u0439 \\u0441\\u0430\\u043b\\u044c\\u043f\\u0438\\u043d\\u0433\\u043e\\u043e\\u0444\\u043e\\u0440\\u0438\\u0442        \\u0445\\u0440\\u043e\",\"\\u0431\\u0435\\u0441\\u043f\\u043b\\u043e\\u0434\\u0438\\u0435   \\u0445\\u0440\\u043e\\u043d\\u0438\\u0447\\u0435\\u0441\\u043a\\u0438\\u0439 \\u0441\\u0430\\u043b\\u044c\\u043f\\u0438\\u043d\\u0433\\u043e\\u043e\\u0444\\u043e\\u0440\\u0438\\u0442        \\u0445\\u0440\\u043e\",\"\\u0431\\u0435\\u0441\\u043f\\u043b\\u043e\\u0434\\u0438\\u0435    \\u0430\\u0431\\u0441\\u043e\\u043b\\u044e\\u0442\\u043d\\u043e\\u0435 \\u0442\\u0440\\u0443\\u0431\\u043d\\u043e\\u0435   \\u043c\\u0438\\u043e\\u043c\\u0430 \\u043c\\u0430\\u0442\\u043a\\u0438  \\u0441\\u043d\\u0438\",\"\\u043d\\u0435\\u0442\",\"\\u0431\\u0435\\u0441\\u043f\\u043b\\u043e\\u0434\\u0438\\u0435          \\u0434\\u0440\\u0443\\u0433\\u0438\\u0435 \\u0444\\u043e\\u0440\\u043c\\u044b \\u0436\\u0435\\u043d\\u0441\\u043a\\u043e\\u0433\\u043e \\u0431\\u0435\\u0441\\u043f\\u043b\\u043e\\u0434\\u0438\\u044f\",\"\\u0431\\u0435\\u0441\\u043f\\u043b\\u043e\\u0434\\u0438\\u0435    \\u044d\\u043d\\u0434\\u043e\\u043a\\u0440\\u0438\\u043d\\u043d\\u043e\\u0435  \\u043e\\u0442\\u0441\\u0443\\u0442\\u0441\\u0442\\u0432\\u0438\\u0435 \\u043f\\u043e\\u043b\\u043e\\u0432\\u043e\\u0433\\u043e \\u043f\\u0430\\u0440\\u0442\",\"\\u0431\\u0435\\u0441\\u043f\\u043b\\u043e\\u0434\\u0438\\u0435   \\u0441\\u043f\\u044f      \\u0430\\u043d\\u043e\\u0432\\u0443\\u043b\\u044f\\u0446\\u0438\\u044f         \\u043c\\u0443\\u0436\\u0441\\u043a\\u0430\\u0439 \\u0444\\u0430\",\"\\u0431\\u0435\\u0441\\u043f\\u043b\\u043e\\u0434\\u0438\\u0435    \\u043a\\u043e\\u043c\\u0431\\u0438\\u043d\\u0438\\u0440\\u043e\\u0432\\u0430\\u043d\\u043d\\u043e\\u0435   \\u0441\\u043f\\u044f        \\u0430\\u043d\\u043e\\u0432\\u0443\\u043b\\u044f\\u0446\",\"\\u0431\\u0435\\u0441\\u043f\\u043b\\u043e\\u0434\\u0438\\u0435    \\u043a\\u043e\\u043c\\u0431\\u0438\\u043d\\u0438\\u0440\\u043e\\u0432\\u0430\\u043d\\u043d\\u043e\\u0435   \\u0441\\u043f\\u044f        \\u0430\\u043d\\u043e\\u0432\\u0443\\u043b\\u044f\\u0446\",\"\\u0431\\u0435\\u0441\\u043f\\u043b\\u043e\\u0434\\u0438\\u0435          \\u0436\\u0435\\u043d\\u0441\\u043a\\u043e\\u0435 \\u0431\\u0435\\u0441\\u043f\\u043b\\u043e\\u0434\\u0438\\u0435 \\u0442\\u0440\\u0443\\u0431\\u043d\\u043e \\u043f\\u0435\\u0440\\u0438\\u0442\\u043e\",\"\\u0431\\u0435\\u0441\\u043f\\u043b\\u043e\\u0434\\u0438\\u0435     \\u043d\\u0433\\u044d \\u0430\\u0434\\u0435\\u043d\\u043e\\u043c\\u0438\\u043e\\u0437 \\u043f\\u043e\\u0437\\u0434\\u043d\\u0438\\u0439 \\u0440\\u0435\\u043f\\u0440\\u043e\\u0434\\u0443\\u043a\\u0442\\u0438\\u0432\\u043d\\u044b\\u0439\",\"\\u0431\\u0435\\u0441\\u043f\\u043b\\u043e\\u0434\\u0438\\u0435     \\u043e\\u0433\\u0430  \\u043d\\u0433\\u044d     \\u0441\\u0442  \\u044d\\u043d\\u0434\\u043e\\u043c\\u0435\\u0442\\u0440\\u0438\\u043e\\u0437 \\u0442\\u0430\\u0437\\u043e\\u0432\\u043e\\u0439\",\"\\u0431\\u0435\\u0441\\u043f\\u043b\\u043e\\u0434\\u0438\\u0435    \\u043d\\u043e\\u0440\\u043c\\u043e\\u0433\\u043e\\u043d\\u0430\\u0434\\u043e\\u0442\\u0440\\u043e\\u043f\\u043d\\u0430\\u044f  \\u043d\\u043e\\u0440\\u043c\\u043e\\u043f\\u0440\\u043e\\u043b\\u0430\\u043a\\u0442\\u0438\\u043d\\u0435\\u043c\\u0438\",\"\\u0431\\u0435\\u0441\\u043f\\u043b\\u043e\\u0434\\u0438\\u0435     \\u0445\\u0440\\u043e\\u043d\\u0438\\u0447\\u0435\\u0441\\u043a\\u0438\\u0439 \\u0441\\u0430\\u043b\\u044c\\u043f\\u0438\\u043d\\u0433\\u043e\\u043e\\u0444\\u043e\\u0440\\u0438\\u0442        \\u043f\",\"\\u0431\\u0435\\u0441\\u043f\\u043b\\u043e\\u0434\\u0438\\u0435     \\u0445\\u0440\\u043e\\u043d\\u0438\\u0447\\u0435\\u0441\\u043a\\u0438\\u0439 \\u0441\\u0430\\u043b\\u044c\\u043f\\u0438\\u043d\\u0433\\u043e\\u043e\\u0444\\u043e\\u0440\\u0438\\u0442        \\u043f\",\"\\u0431\\u0435\\u0441\\u043f\\u043b\\u043e\\u0434\\u0438\\u0435     \\u0441\\u043c\\u0435\\u0448\\u0430\\u043d\\u043d\\u043e\\u0435   \\u0441\\u0442\\u043e\\u0440\\u043e\\u043d\\u043d\\u044f\\u044f \\u0442\\u0443\\u0431\\u044d\\u043a\\u0442\\u043e\\u043c\\u0438\\u044f \\u0432 \\u0430\",\"\\u0431\\u0435\\u0441\\u043f\\u043b\\u043e\\u0434\\u0438\\u0435   \\u0445\\u0440\\u043e\\u043d\\u0438\\u0447\\u0435\\u0441\\u043a\\u0438\\u0439 \\u044d\\u043d\\u0434\\u043e\\u043c\\u0435\\u0442\\u0440\\u0438\\u0442        \\u044d\\u043d\\u0434\\u043e\\u043c\\u0435\\u0442\\u0440\",\"\\u0431\\u0435\\u0441\\u043f\\u043b\\u043e\\u0434\\u0438\\u0435    \\u0441\\u043e\\u0447\\u0435\\u0442\\u0430\\u043d\\u043d\\u043e\\u0435 \\u0430\\u043d\\u043e\\u0432\\u0443\\u043b\\u044f\\u0446\\u0438\\u044f         \\u043c\\u0443\\u0436\\u0441\\u043a\\u043e\\u0439\",\"\\u0431\\u0435\\u0441\\u043f\\u043b\\u043e\\u0434\\u0438\\u0435     \\u0445\\u0440\\u043e\\u043d\\u0438\\u0447\\u0435\\u0441\\u043a\\u0438\\u0439 \\u0441\\u0430\\u043b\\u044c\\u043f\\u0438\\u043d\\u0433\\u043e\\u043e\\u0444\\u043e\\u0440\\u0438\\u0442        \\u0440\",\"\\u043d\\u0435\\u0442\",\"\\u0431\\u0435\\u0441\\u043f\\u043b\\u043e\\u0434\\u0438\\u0435    \\u0441\\u043e\\u0447\\u0435\\u0442\\u0430\\u043d\\u043d\\u043e\\u0435  \\u043c\\u0443\\u0436\\u0441\\u043a\\u043e\\u0439 \\u0444\\u0430\\u043a\\u0442\\u043e\\u0440  \\u043c\\u0430\\u0442\\u043e\\u0447\\u043d\\u044b\\u0439 \",\"\\u0431\\u0435\\u0441\\u043f\\u043b\\u043e\\u0434\\u0438\\u0435           \\u0436\\u0435\\u043d\\u0441\\u043a\\u043e\\u0435 \\u0431\\u0435\\u0441\\u043f\\u043b\\u043e\\u0434\\u0438\\u0435 \\u043c\\u0430\\u0442\\u043e\\u0447\\u043d\\u043e\\u0433\\u043e \\u043f\\u0440\",\"\\u0431\\u0435\\u0441\\u043f\\u043b\\u043e\\u0434\\u0438\\u0435     \\u044d\\u043d\\u0434\\u043e\\u043a\\u0440\\u0438\\u043d\\u043d\\u043e\\u0435  \\u043d\\u043e\\u0440\\u043c\\u043e\\u0433\\u043e\\u043d\\u0430\\u0434\\u043e\\u0442\\u0440\\u043e\\u043f\\u043d\\u0430\\u044f \\u043d\\u043e\\u0440\\u043c\",\"\\u0431\\u0435\\u0441\\u043f\\u043b\\u043e\\u0434\\u0438\\u0435     \\u0445\\u0440\\u043e\\u043d\\u0438\\u0447\\u0435\\u0441\\u043a\\u0438\\u0439 \\u0441\\u0430\\u043b\\u044c\\u043f\\u0438\\u043d\\u0433\\u043e\\u043e\\u0444\\u043e\\u0440\\u0438\\u0442        \\u043f\",\"\\u0431\\u0435\\u0441\\u043f\\u043b\\u043e\\u0434\\u0438\\u0435 \\u043f\\u0435\\u0440\\u0432\\u0438\\u0447\\u043d\\u043e\\u0435  \\u0442\\u0440\\u0443\\u0431\\u043d\\u043e\\u0435  \\u0434\\u0432\\u0443\\u0441\\u0442\\u043e\\u0440\\u043e\\u043d\\u043d\\u044f\\u044f \\u0442\\u0443\\u0431\\u044d\\u043a\\u0442\\u043e\",\"\\u0431\\u0435\\u0441\\u043f\\u043b\\u043e\\u0434\\u0438\\u0435    \\u0441\\u0432\\u044f\\u0437\\u0430\\u043d\\u043d\\u043e\\u0435 \\u0441 \\u043c\\u0443\\u0436\\u0441\\u043a\\u0438\\u043c\\u0438 \\u0444\\u0430\\u043a\\u0442\\u043e\\u0440\\u0430\\u043c\\u0438       \",\"\\u0431\\u0435\\u0441\\u043f\\u043b\\u043e\\u0434\\u0438\\u0435    \\u0440\\u0443\\u0431\\u0435\\u0446 \\u043d\\u0430 \\u043c\\u0430\\u0442\\u043a\\u0435 \\u043f\\u043e\\u0441\\u043b\\u0435 \\u043a\\u0435\\u0441\\u0430\\u0440\\u0435\\u0432\\u0430 \\u0441\\u0435\\u0447\\u0435\\u043d\\u0438\\u044f\",\"\\u0431\\u0435\\u0441\\u043f\\u043b\\u043e\\u0434\\u0438\\u0435           \\u0436\\u0435\\u043d\\u0441\\u043a\\u043e\\u0435 \\u0431\\u0435\\u0441\\u043f\\u043b\\u043e\\u0434\\u0438\\u0435  \\u043e\\u0431\\u0443\\u0441\\u043b\\u043e\\u0432\\u043b\\u0435\\u043d\\u043d\",\"\\u0431\\u0435\\u0441\\u043f\\u043b\\u043e\\u0434\\u0438\\u0435    \\u0441\\u043e\\u0447\\u0435\\u0442\\u0430\\u043d\\u043d\\u043e\\u0435  \\u043c\\u0443\\u0436\\u0441\\u043a\\u043e\\u0439 \\u0444\\u0430\\u043a\\u0442\\u043e\\u0440  \\u043c\\u0430\\u0442\\u043e\\u0447\\u043d\\u043e\\u0435 \",\"\\u0431\\u0435\\u0441\\u043f\\u043b\\u043e\\u0434\\u0438\\u0435   \\u0441\\u043e\\u0447\\u0435\\u0442\\u0430\\u043d\\u043d\\u043e\\u0435        \\u0436\\u0435\\u043d\\u0441\\u043a\\u043e\\u0435 \\u0431\\u0435\\u0441\\u043f\\u043b\\u043e\\u0434\\u0438\\u0435  \\u043e\",\"\\u0431\\u0435\\u0441\\u043f\\u043b\\u043e\\u0434\\u0438\\u0435     \\u0442\\u0440\\u0443\\u0431\\u043d\\u043e \\u043f\\u0435\\u0440\\u0438\\u0442\\u043e\\u043d\\u0435\\u0430\\u043b\\u044c\\u043d\\u043e\\u0435  \\u0445\\u0440 \\u0441\\u0430\\u043b\\u044c\\u043f\\u0438\\u043d\\u0433\\u043e\\u043e\",\"\\u0431\\u0435\\u0441\\u043f\\u043b\\u043e\\u0434\\u0438\\u0435     \\u0441\\u0432\\u044f\\u0437\\u0430\\u043d\\u043d\\u043e\\u0435 \\u0441 \\u043c\\u0443\\u0436\\u0441\\u043a\\u0438\\u043c\\u0438 \\u0444\\u0430\\u043a\\u0442\\u043e\\u0440\\u0430\\u043c\\u0438      \",\"\\u0431\\u0435\\u0441\\u043f\\u043b\\u043e\\u0434\\u0438\\u0435    \\u0445\\u0440\\u043e\\u043d\\u0438\\u0447\\u0435\\u0441\\u043a\\u0438\\u0439 \\u044d\\u043d\\u0434\\u043e\\u043c\\u0435\\u0442\\u0440\\u0438\\u0442         \\u043d\\u0433\\u044d  \\u043a\",\"\\u0431\\u0435\\u0441\\u043f\\u043b\\u043e\\u0434\\u0438\\u0435    \\u0445\\u0440\\u043e\\u043d\\u0438\\u0447\\u0435\\u0441\\u043a\\u0438\\u0439 \\u044d\\u043d\\u0434\\u043e\\u043c\\u0435\\u0442\\u0440\\u0438\\u0442         \\u043d\\u0433\\u044d  \\u043a\",\"\\u043d\\u0435\\u0442\",\"\\u0431\\u0435\\u0441\\u043f\\u043b\\u043e\\u0434\\u0438\\u0435     \\u0441\\u043e\\u0447\\u0435\\u0442\\u0430\\u043d\\u043d\\u043e\\u0435  \\u0442\\u0440\\u0443\\u0431\\u043d\\u043e \\u043f\\u0435\\u0440\\u0438\\u0442\\u043e\\u043d\\u0435\\u0430\\u043b\\u044c\\u043d\\u043e\\u0435  \\u044d\",\"\\u0431\\u0435\\u0441\\u043f\\u043b\\u043e\\u0434\\u0438\\u0435     \\u043c\\u0438\\u043e\\u043c\\u0430 \\u043c\\u0430\\u0442\\u043a\\u0438 \\u0434    \\u0430\\u0434\\u0435\\u043d\\u043e\\u043c\\u0438\\u043e\\u0437  \\u043f\\u043e\\u0437\\u0434\\u043d\\u0438\\u0439 \",\"\\u043d\\u0435\\u0442\",\"\\u0431\\u0435\\u0441\\u043f\\u043b\\u043e\\u0434\\u0438\\u0435   \\u0430\\u043d\\u043e\\u0432\\u0443\\u043b\\u044f\\u0446\\u0438\\u044f        \\u0445\\u0440\\u043e\\u043d\\u0438\\u0447\\u0435\\u0441\\u043a\\u0438\\u0439 \\u043f\\u0440\\u0430\\u0432\\u043e\\u0441\\u0442\\u043e\",\"\\u0431\\u0435\\u0441\\u043f\\u043b\\u043e\\u0434\\u0438\\u0435    \\u0440\\u0443\\u0431\\u0435\\u0446 \\u043d\\u0430 \\u043c\\u0430\\u0442\\u043a\\u0435 \\u043f\\u043e\\u0441\\u043b\\u0435 \\u043c\\u0438\\u043e\\u043c\\u044d\\u043a\\u0442\\u043e\\u043c\\u0438\\u0438     \",\"\\u0431\\u0435\\u0441\\u043f\\u043b\\u043e\\u0434\\u0438\\u0435   \\u0441\\u043f\\u044f        \\u0430\\u043d\\u043e\\u0432\\u0443\\u043b\\u044f\\u0446\\u0438\\u044f         \\u0433\\u0435\\u043d\\u0438\\u0442\\u0430\\u043b\\u044c\",\"\\u0431\\u0435\\u0441\\u043f\\u043b\\u043e\\u0434\\u0438\\u0435            \\u0436\\u0435\\u043d\\u0441\\u043a\\u043e\\u0435 \\u0431\\u0435\\u0441\\u043f\\u043b\\u043e\\u0434\\u0438\\u0435  \\u043e\\u0431\\u0443\\u0441\\u043b\\u043e\\u0432\\u043b\\u0435\\u043d\",\"\\u0431\\u0435\\u0441\\u043f\\u043b\\u043e\\u0434\\u0438\\u0435    \\u0441\\u043e\\u0447\\u0435\\u0442\\u0430\\u043d\\u043d\\u043e\\u0435   \\u0441\\u043f\\u044f        \\u0430\\u043d\\u043e\\u0432\\u0443\\u043b\\u044f\\u0446\\u0438\\u044f   \",\"\\u0431\\u0435\\u0441\\u043f\\u043b\\u043e\\u0434\\u0438\\u0435    \\u043d\\u0435\\u044f\\u0441\\u043d\\u043e\\u0433\\u043e \\u0433\\u0435\\u043d\\u0435\\u0437\\u0430  \\u043c\\u0438\\u043e\\u043c\\u0430 \\u043c\\u0430\\u0442\\u043a\\u0438      \\u043f\\u043e\\u0437\",\"\\u0431\\u0435\\u0441\\u043f\\u043b\\u043e\\u0434\\u0438\\u0435    \\u043e\\u0431\\u0443\\u0441\\u043b\\u043e\\u0432\\u043b\\u0435\\u043d\\u043d\\u043e\\u0435 \\u044d\\u043d\\u0434\\u043e\\u043c\\u0435\\u0442\\u0440\\u0438\\u043e\\u0437\\u043e\\u043c  \\u0433\\u044d  \\u0430\\u0434\\u0435\\u043d\",\"\\u043d\\u0435\\u0442\",\"\\u0431\\u0435\\u0441\\u043f\\u043b\\u043e\\u0434\\u0438\\u0435     \\u0440\\u0443\\u0431\\u0435\\u0446 \\u043d\\u0430 \\u043c\\u0430\\u0442\\u043a\\u0435  \\u043a\\u0435\\u0441\\u0430\\u0440\\u0435\\u0432\\u043e \\u0441\\u0435\\u0447\\u0435\\u043d\\u0438\\u0435 \\u0432  \",\"\\u0431\\u0435\\u0441\\u043f\\u043b\\u043e\\u0434\\u0438\\u0435     \\u043c\\u0443\\u0436\\u0441\\u043a\\u043e\\u0439 \\u0444\\u0430\\u043a\\u0442\\u043e\\u0440      \",\"\\u0431\\u0435\\u0441\\u043f\\u043b\\u043e\\u0434\\u0438\\u0435     \\u043c\\u0443\\u0436\\u0441\\u043a\\u043e\\u0439 \\u0444\\u0430\\u043a\\u0442\\u043e\\u0440      \",\"\\u0431\\u0435\\u0441\\u043f\\u043b\\u043e\\u0434\\u0438\\u0435      \\u044d\\u043d\\u0434\\u043e\\u043c\\u0435\\u0442\\u0440\\u0438\\u043e\\u0437 \\u0442\\u0430\\u0437\\u043e\\u0432\\u043e\\u0439 \\u0431\\u0440\\u044e\\u0448\\u0438\\u043d\\u044b        \",\"\\u043d\\u0435\\u0442\",\"\\u0431\\u0435\\u0441\\u043f\\u043b\\u043e\\u0434\\u0438\\u0435     \\u0442\\u0440\\u0443\\u0431\\u043d\\u043e \\u043f\\u0435\\u0440\\u0438\\u0442\\u043e\\u043d\\u0435\\u0430\\u043b\\u044c\\u043d\\u043e\\u0435          \\u0445\\u0440\\u043e\\u043d\\u0438\",\"\\u0431\\u0435\\u0441\\u043f\\u043b\\u043e\\u0434\\u0438\\u0435    \\u043d\\u0433\\u044d   \\u0441\\u0442  \\u043a\\u043e\\u043c\\u0431\\u0438\\u043d\\u0438\\u0440\\u043e\\u0432\\u0430\\u043d\\u043d\\u044f \\u0442\\u0435\\u0440\\u0430\\u043f\\u0438\\u044f     \",\"\\u0431\\u0435\\u0441\\u043f\\u043b\\u043e\\u0434\\u0438\\u0435    \\u044d\\u043d\\u0434\\u043e\\u043a\\u0440\\u0438\\u043d\\u043d\\u043e  \\u0441\\u043f\\u044f         \\u0430\\u043d\\u043e\\u0432\\u0443\\u043b\\u044f\\u0446\\u0438\\u044f   \",\"\\u0431\\u0435\\u0441\\u043f\\u043b\\u043e\\u0434\\u0438\\u0435    \\u044d\\u043d\\u0434\\u043e\\u043a\\u0440\\u0438\\u043d\\u043d\\u043e  \\u0441\\u043f\\u044f         \\u0430\\u043d\\u043e\\u0432\\u0443\\u043b\\u044f\\u0446\\u0438\\u044f   \",\"\\u0431\\u0435\\u0441\\u043f\\u043b\\u043e\\u0434\\u0438\\u0435     \\u043d\\u0435\\u0432\\u044b\\u043d\\u0430\\u0448\\u0438\\u0432\\u0430\\u043d\\u0438\\u0435 \\u0431\\u0435\\u0440\\u0435\\u043c\\u0435\\u043d\\u043d\\u043e\\u0441\\u0442\\u0438 \\u0432 \\u0430\\u043d\\u0430\\u043c\\u043d\\u0435\\u0437\",\"\\u0431\\u0435\\u0441\\u043f\\u043b\\u043e\\u0434\\u0438\\u0435   \\u0441\\u043f\\u044f        \\u0430\\u043d\\u043e\\u0432\\u0443\\u043b\\u044f\\u0446\\u0438\\u044f        \\u0438\\u0437\\u0431\\u044b\\u0442\\u043e\\u0447\\u043d\\u0430\",\"\\u0431\\u0435\\u0441\\u043f\\u043b\\u043e\\u0434\\u0438\\u0435   \\u0441\\u043f\\u044f        \\u0430\\u043d\\u043e\\u0432\\u0443\\u043b\\u044f\\u0446\\u0438\\u044f        \\u0438\\u0437\\u0431\\u044b\\u0442\\u043e\\u0447\\u043d\\u0430\",\"\\u0431\\u0435\\u0441\\u043f\\u043b\\u043e\\u0434\\u0438\\u0435   \\u043f\\u0440\\u0435\\u0436\\u0434\\u0435\\u0432\\u0440\\u0435\\u043c\\u0435\\u043d\\u043d\\u043e\\u0435 \\u0438\\u0441\\u0442\\u043e\\u0449\\u0435\\u043d\\u0438\\u0435 \\u044f\\u0438\\u0447\\u043d\\u0438\\u043a\\u043e\\u0432    \",\"\\u0431\\u0435\\u0441\\u043f\\u043b\\u043e\\u0434\\u0438\\u0435   \\u0441\\u043f\\u044f        \\u0430\\u043d\\u043e\\u0432\\u0443\\u043b\\u044f\\u0446\\u0438\\u044f        \\u0433\\u0438\\u043f\\u0435\\u0440\\u043f\\u0440\\u043e\\u043b\",\"\\u0431\\u0435\\u0441\\u043f\\u043b\\u043e\\u0434\\u0438\\u0435    \\u043d\\u0433\\u044d \\u0440\\u0435\\u0437\\u0435\\u043a\\u0446\\u0438\\u044f \\u043f\\u0440\\u0430\\u0432\\u043e\\u0433\\u043e \\u044f\\u0438\\u0447\\u043d\\u0438\\u043a\\u0430 \\u0432 \\u0430\\u043d\\u0430\\u043c\\u043d\\u0435\",\"\\u0431\\u0435\\u0441\\u043f\\u043b\\u043e\\u0434\\u0438\\u0435   \\u0441\\u043f\\u044f        \\u0430\\u043d\\u043e\\u0432\\u0443\\u043b\\u044f\\u0446\\u0438\\u044f        \\u0440\\u0435\\u0437\\u0443\\u0441 \\u043e\\u0442\\u0440\",\"\\u043d\\u0435\\u0442\",\"\\u0431\\u0435\\u0441\\u043f\\u043b\\u043e\\u0434\\u0438\\u0435     \\u043c\\u0438\\u043e\\u043c\\u0430 \\u043c\\u0430\\u0442\\u043a\\u0438      \\u0430\\u0434\\u0435\\u043d\\u043e\\u043c\\u0438\\u043e\\u0437        \\u043f\\u0440\",\"\\u0431\\u0435\\u0441\\u043f\\u043b\\u043e\\u0434\\u0438\\u0435   \\u0430\\u0431\\u0441\\u043e\\u043b\\u044e\\u0442\\u043d\\u043e\\u0435 \\u0442\\u0440\\u0443\\u0431\\u043d\\u043e\\u0435 \\u0445\\u0440\\u043e\\u043d\\u0438\\u0447\\u0435\\u0441\\u043a\\u0438\\u0439 \\u0441\\u0430\\u043b\\u044c\\u043f\\u0438\\u043d\",\"\\u0431\\u0435\\u0441\\u043f\\u043b\\u043e\\u0434\\u0438\\u0435          \\u0436\\u0435\\u043d\\u0441\\u043a\\u043e\\u0435 \\u0431\\u0435\\u0441\\u043f\\u043b\\u043e\\u0434\\u0438\\u0435  \\u043e\\u0431\\u0443\\u0441\\u043b\\u043e\\u0432\\u043b\\u0435\\u043d\\u043d\\u043e\",\"\\u043d\\u0435\\u0442\",\"\\u0431\\u0435\\u0441\\u043f\\u043b\\u043e\\u0434\\u0438\\u0435    \\u043f\\u043e\\u043b\\u0438\\u043f \\u044d\\u043d\\u0434\\u043e\\u043c\\u0435\\u0442\\u0440\\u0438\\u044f \\u0432 \\u0430\\u043d\\u0430\\u043c\\u043d\\u0435\\u0437\\u0435 \\u0434\\u0444\\u0430\\u043c \\u0443\\u0437\\u043b\\u043e\",\"\\u0431\\u0435\\u0441\\u043f\\u043b\\u043e\\u0434\\u0438\\u0435     \\u043f\\u043e\\u0437\\u0434\\u043d\\u0438\\u0439 \\u0440\\u0435\\u043f\\u0440\\u043e\\u0434\\u0443\\u043a\\u0442\\u0438\\u0432\\u043d\\u044b\\u0439 \\u0432\\u043e\\u0437\\u0440\\u0430\\u0441\\u0442  \\u0441\\u043d\\u0438\\u0436\",\"\\u043d\\u0435\\u0442\",\"\\u0431\\u0435\\u0441\\u043f\\u043b\\u043e\\u0434\\u0438\\u0435     \\u043d\\u0435\\u0443\\u0442\\u043e\\u0447\\u043d\\u0435\\u043d\\u043d\\u043e\\u0435        \\u043c\\u0438\\u043e\\u043c\\u0430 \\u043c\\u0430\\u0442\\u043a\\u0438     \",\"\\u0431\\u0435\\u0441\\u043f\\u043b\\u043e\\u0434\\u0438\\u0435    \\u0442\\u0440\\u0443\\u0431\\u043d\\u043e\\u0433\\u043e \\u043f\\u0440\\u043e\\u0438\\u0441\\u0445\\u043e\\u0436\\u0434\\u0435\\u043d\\u0438\\u044f        \\u0438\\u0437\\u0431\\u044b\\u0442\\u043e\\u0447\",\"\\u0431\\u0435\\u0441\\u043f\\u043b\\u043e\\u0434\\u0438\\u0435   \\u043a\\u043e\\u043c\\u0431\\u0438\\u043d\\u0438\\u0440\\u043e\\u0432\\u0430\\u043d\\u043d\\u043e\\u0435   \\u043c\\u0443\\u0436\\u0441\\u043a\\u043e\\u0439 \\u0444\\u0430\\u043a\\u0442\\u043e\\u0440      \",\"\\u043d\\u0435\\u0442\",\"\\u0431\\u0435\\u0441\\u043f\\u043b\\u043e\\u0434\\u0438\\u0435     \\u0440\\u0443\\u0431\\u0435\\u0446 \\u043d\\u0430 \\u043c\\u0430\\u0442\\u043a\\u0435  \\u043a\\u0435\\u0441\\u0430\\u0440\\u0435\\u0432\\u043e \\u0441\\u0435\\u0447\\u0435\\u043d\\u0438\\u0435 \\u0432  \",\"\\u0431\\u0435\\u0441\\u043f\\u043b\\u043e\\u0434\\u0438\\u0435          \\u0436\\u0435\\u043d\\u0441\\u043a\\u043e\\u0435 \\u0431\\u0435\\u0441\\u043f\\u043b\\u043e\\u0434\\u0438\\u0435  \\u043e\\u0431\\u0443\\u0441\\u043b\\u043e\\u0432\\u043b\\u0435\\u043d\\u043d\\u043e\",\"\\u0431\\u0435\\u0441\\u043f\\u043b\\u043e\\u0434\\u0438\\u0435   \\u0430\\u0434\\u0435\\u043d\\u043e\\u043c\\u0438\\u043e\\u0437         \\u0445\\u0440\\u043e\\u043d\\u0438\\u0447\\u0435\\u0441\\u043a\\u0438\\u0439 \\u043f\\u0440\\u0430\\u0432\\u043e\\u0441\\u0442\\u043e\",\"\\u0431\\u0435\\u0441\\u043f\\u043b\\u043e\\u0434\\u0438\\u0435     \\u0430\\u0434\\u0435\\u043d\\u043e\\u043c\\u0438\\u043e\\u0437         \\u043d\\u0433\\u044d  \\u043f\\u043e\\u0437\\u0434\\u043d\\u0438\\u0439 \\u0440\\u0435\\u043f\\u0440\\u043e\",\"\\u0431\\u0435\\u0441\\u043f\\u043b\\u043e\\u0434\\u0438\\u0435   \\u0434\\u0435\\u0444\\u0438\\u0446\\u0438\\u0442 \\u043c\\u0430\\u0441\\u0441\\u044b \\u0442\\u0435\\u043b\\u0430 \\u043c\\u0443\\u0436\\u0441\\u043a\\u043e\\u0439 \\u0444\\u0430\\u043a\\u0442\\u043e\\u0440     \",\"\\u0431\\u0435\\u0441\\u043f\\u043b\\u043e\\u0434\\u0438\\u0435          \\u0436\\u0435\\u043d\\u0441\\u043a\\u043e\\u0435 \\u0431\\u0435\\u0441\\u043f\\u043b\\u043e\\u0434\\u0438\\u0435  \\u043e\\u0431\\u0443\\u0441\\u043b\\u043e\\u0432\\u043b\\u0435\\u043d\\u043d\\u043e\",\"\\u0431\\u0435\\u0441\\u043f\\u043b\\u043e\\u0434\\u0438\\u0435     \\u0444\\u0438\\u0431\\u0440\\u043e\\u0430\\u0434\\u0435\\u043d\\u043e\\u0437 \\u043c\\u043e\\u043b\\u043e\\u0447\\u043d\\u044b\\u0445 \\u0436\\u0435\\u043b\\u0435\\u0437          \",\"\\u0431\\u0435\\u0441\\u043f\\u043b\\u043e\\u0434\\u0438\\u0435    \\u043a\\u043e\\u043c\\u0431\\u0438\\u043d\\u0438\\u0440\\u043e\\u0432\\u0430\\u043d\\u043d\\u043e\\u0435   \\u0441\\u043f\\u044f        \\u0430\\u043d\\u043e\\u0432\\u0443\\u043b\\u044f\\u0446\",\"\\u0431\\u0435\\u0441\\u043f\\u043b\\u043e\\u0434\\u0438\\u0435     \\u0445\\u0440\\u043e\\u043d\\u0438\\u0447\\u0435\\u0441\\u043a\\u0438\\u0439 \\u043f\\u0440\\u0430\\u0432\\u043e\\u0441\\u0442\\u043e\\u0440\\u043e\\u043d\\u043d\\u0438\\u0439 \\u0441\\u0430\\u043b\\u044c\\u043f\\u0438\\u043d\\u0433\\u043e\",\"\\u0431\\u0435\\u0441\\u043f\\u043b\\u043e\\u0434\\u0438\\u0435     \\u0430\\u0434\\u0435\\u043d\\u043e\\u043c\\u0438\\u043e\\u0437        \\u043f\\u0440\\u0438\\u043e\\u0431\\u0440\\u0435\\u0442\\u0435\\u043d\\u043d\\u043e\\u0435 \\u043e\\u0442\\u0441\\u0443\\u0442\",\"\\u043d\\u0435\\u0442\",\"\\u043d\\u0435\\u0442\",\"\\u0431\\u0435\\u0441\\u043f\\u043b\\u043e\\u0434\\u0438\\u0435    \\u043d\\u0435\\u0443\\u0442\\u043e\\u0447\\u043d\\u0435\\u043d\\u043d\\u043e\\u0435  \\u0440\\u0443\\u0431\\u0435\\u0446 \\u043d\\u0430 \\u043c\\u0430\\u0442\\u043a\\u0435  \\u0448\\u043e\\u0432 \\u0431\\u0435\\u0437\",\"\\u0431\\u0435\\u0441\\u043f\\u043b\\u043e\\u0434\\u0438\\u0435     \\u043f\\u0440\\u0438\\u0432\\u044b\\u0447\\u043d\\u043e\\u0435 \\u043d\\u0435\\u0432\\u044b\\u043d\\u0430\\u0448\\u0438\\u0432\\u0430\\u043d\\u0438\\u0435 \\u0431\\u0435\\u0440\\u0435\\u043c\\u0435\\u043d\\u043d\\u043e\\u0441\\u0442\\u0438\",\"\\u0431\\u0435\\u0441\\u043f\\u043b\\u043e\\u0434\\u0438\\u0435     \\u0441\\u043f\\u044f         \\u0430\\u043d\\u043e\\u0432\\u0443\\u043b\\u044f\\u0446\\u0438\\u044f          \\u043c\\u0443\\u0436\\u0441\",\"\\u0431\\u0435\\u0441\\u043f\\u043b\\u043e\\u0434\\u0438\\u0435     \\u0445\\u0440\\u043e\\u043d\\u0438\\u0447\\u0435\\u0441\\u043a\\u0438\\u0439 \\u0441\\u0430\\u043b\\u044c\\u043f\\u0438\\u043d\\u0433\\u043e\\u043e\\u0444\\u043e\\u0440\\u0438\\u0442        \\u0430\",\"\\u0431\\u0435\\u0441\\u043f\\u043b\\u043e\\u0434\\u0438\\u0435     \\u0445\\u0440\\u043e\\u043d\\u0438\\u0447\\u0435\\u0441\\u043a\\u0438\\u0439 \\u0441\\u0430\\u043b\\u044c\\u043f\\u0438\\u043d\\u0433\\u043e\\u043e\\u0444\\u043e\\u0440\\u0438\\u0442        \\u0430\",\"\\u0431\\u0435\\u0441\\u043f\\u043b\\u043e\\u0434\\u0438\\u0435          \\u0436\\u0435\\u043d\\u0441\\u043a\\u043e\\u0435 \\u0431\\u0435\\u0441\\u043f\\u043b\\u043e\\u0434\\u0438\\u0435  \\u0441\\u0432\\u044f\\u0437\\u0430\\u043d\\u043d\\u043e\\u0435 \\u0441 \",\"\\u0431\\u0435\\u0441\\u043f\\u043b\\u043e\\u0434\\u0438\\u0435      \\u0430\\u0431\\u0441\\u043e\\u043b\\u044e\\u0442\\u043d\\u043e\\u0435 \\u0442\\u0440\\u0443\\u0431\\u043d\\u043e\\u0435  \\u0445\\u0440\\u043e\\u043d\\u0438\\u0447\\u0435\\u0441\\u043a\\u0438\\u0439 \\u044d\\u043d\\u0434\",\"\\u0431\\u0435\\u0441\\u043f\\u043b\\u043e\\u0434\\u0438\\u0435 \\u0432\\u0442\\u043e\\u0440\\u0438\\u0447\\u043d\\u043e\\u0435 \\u0442\\u0440\\u0443\\u0431\\u043d\\u043e\\u0435         \\u043e\\u0433\\u0430  \\u043f\\u043e\\u0434\\u0433\\u043e\\u0442\\u043e\\u0432\\u043a\",\"\\u0431\\u0435\\u0441\\u043f\\u043b\\u043e\\u0434\\u0438\\u0435   \\u043f\\u0440\\u0438\\u043e\\u0431\\u0440\\u0435\\u0442\\u0435\\u043d\\u043d\\u043e\\u0435 \\u043e\\u0442\\u0441\\u0443\\u0442\\u0441\\u0442\\u0432\\u0438\\u0435 \\u043e\\u0440\\u0433\\u0430\\u043d\\u0430  \\u0430\\u0434\\u043d\\u0435\\u043a\",\"\\u043d\\u0435\\u0442\",\"\\u0431\\u0435\\u0441\\u043f\\u043b\\u043e\\u0434\\u0438\\u0435    \\u043c\\u0443\\u0436\\u0441\\u043a\\u043e\\u0439 \\u0444\\u0430\\u043a\\u0442\\u043e\\u0440        \\u0432\\u0438\\u0442\\u0438\\u043b\\u0438\\u0433\\u043e \",\"\\u043d\\u0435\\u0442\",\"\\u0431\\u0435\\u0441\\u043f\\u043b\\u043e\\u0434\\u0438\\u0435             \\u0436\\u0435\\u043d\\u0441\\u043a\\u043e\\u0435 \\u0431\\u0435\\u0441\\u043f\\u043b\\u043e\\u0434\\u0438\\u0435  \\u043e\\u0431\\u0443\\u0441\\u043b\\u043e\\u0432\\u043b\\u0435\",\"\\u0431\\u0435\\u0441\\u043f\\u043b\\u043e\\u0434\\u0438\\u0435             \\u0436\\u0435\\u043d\\u0441\\u043a\\u043e\\u0435 \\u0431\\u0435\\u0441\\u043f\\u043b\\u043e\\u0434\\u0438\\u0435  \\u043e\\u0431\\u0443\\u0441\\u043b\\u043e\\u0432\\u043b\\u0435\",\"\\u0431\\u0435\\u0441\\u043f\\u043b\\u043e\\u0434\\u0438\\u0435      \\u043d\\u0433\\u044d  \\u043a\\u043e\\u043c\\u0431\\u0438\\u043d\\u0438\\u0440\\u043e\\u0432\\u0430\\u043d\\u043d\\u043e\\u0435 \\u043b\\u0435\\u0447\\u0435\\u043d\\u0438\\u0435 \\u0432 \\u0430\\u043d\\u0430\\u043c\",\"\\u0431\\u0435\\u0441\\u043f\\u043b\\u043e\\u0434\\u0438\\u0435    \\u043c\\u0443\\u0436\\u0441\\u043a\\u043e\\u0439 \\u0444\\u0430\\u043a\\u0442\\u043e\\u0440        \\u0440\\u0435\\u0437\\u0443\\u0441 \\u043e\\u0442\\u0440\\u0438\\u0446\\u0430\\u0442\\u0435\\u043b\",\" \\u043e\\u0441\\u0442\\u043e\\u044f\\u043d\\u0438\\u0435 \\u043f\\u043e\\u0441\\u043b\\u0435 \\u043e\\u0441  \\u0431\\u0435\\u0441\\u043f\\u043b\\u043e\\u0434\\u0438\\u0435   \\u043f\\u0435\\u0440\\u0432\\u0438\\u0447\\u043d\\u0430\\u044f \\u043e\\u043b\\u0438\\u0433\\u043e\\u043c\\u0435\\u043d\",\"\\u0431\\u0435\\u0441\\u043f\\u043b\\u043e\\u0434\\u0438\\u0435     \\u0430\\u0434\\u0435\\u043d\\u043e\\u043c\\u0438\\u043e\\u0437      \\u043c\\u0443\\u0436\\u0441\\u043a\\u043e\\u0439 \\u0444\\u0430\\u043a\\u0442\\u043e\\u0440       \",\"\\u0431\\u0435\\u0441\\u043f\\u043b\\u043e\\u0434\\u0438\\u0435     \\u0445\\u0440\\u043e\\u043d\\u0438\\u0447\\u0435\\u0441\\u043a\\u0438\\u0439 \\u0441\\u0430\\u043b\\u044c\\u043f\\u0438\\u043d\\u0433\\u043e\\u043e\\u0444\\u043e\\u0440\\u0438\\u0442        \\u043f\",\"\\u043d\\u0435\\u0442\",\"\\u0431\\u0435\\u0441\\u043f\\u043b\\u043e\\u0434\\u0438\\u0435   \\u043f\\u0435\\u0440\\u0432\\u0438\\u0447\\u043d\\u0430\\u044f \\u043e\\u043b\\u0438\\u0433\\u043e\\u043c\\u0435\\u043d\\u043e\\u0440\\u0440\\u0435\\u044f        \\u0441\\u043f\\u044f    \",\"\\u0431\\u0435\\u0441\\u043f\\u043b\\u043e\\u0434\\u0438\\u0435     \\u0430\\u043d\\u043e\\u0432\\u0443\\u043b\\u044f\\u0446\\u0438\\u044f        \\u0432\\u0442\\u043e\\u0440\\u0438\\u0447\\u043d\\u0430\\u044f \\u043e\\u043b\\u0438\\u0433\\u043e\\u043c\\u0435\\u043d\",\"\\u0431\\u0435\\u0441\\u043f\\u043b\\u043e\\u0434\\u0438\\u0435    \\u0438\\u0434\\u0438\\u043e\\u043f\\u0430\\u0442\\u0438\\u0447\\u0435\\u0441\\u043a\\u0430\\u044f \\u0433\\u0438\\u043f\\u0435\\u0440\\u043f\\u0440\\u043e\\u043b\\u0430\\u0442\\u0438\\u043d\\u0435\\u043c\\u0438\\u044f \\u043c\\u0443\\u0436\\u0441\",\"\\u0431\\u0435\\u0441\\u043f\\u043b\\u043e\\u0434\\u0438\\u0435   \\u0430\\u043c\\u0435\\u043d\\u043e\\u0440\\u0438\\u044f    \\u0433\\u0438\\u043f\\u043e\\u0433\\u043e\\u043d\\u0430\\u0434\\u043e\\u0442\\u0440\\u043e\\u043f\\u043d\\u0430\\u044f \\u043d\\u043e\\u0440\\u043c\\u043e\\u043f\\u0440\\u043e\",\"\\u0431\\u0435\\u0441\\u043f\\u043b\\u043e\\u0434\\u0438\\u0435            \\u0436\\u0435\\u043d\\u0441\\u043a\\u043e\\u0435 \\u0431\\u0435\\u0441\\u043f\\u043b\\u043e\\u0434\\u0438\\u0435 \\u0442\\u0440\\u0443\\u0431\\u043d\\u043e \\u043f\\u0435\\u0440\\u0438\",\"\\u043f\\u043e\\u0437\\u0434\\u043d\\u0438\\u0439 \\u0440\\u0435\\u043f\\u0440\\u043e\\u0434\\u0443\\u043a\\u0442\\u0438\\u0432\\u043d\\u044b\\u0439 \\u0432\\u043e\\u0437\\u0440\\u0430\\u0441\\u0442  \\u043c\\u0438\\u043e\\u043c\\u0430 \\u043c\\u0430\\u0442\\u043a\\u0438  \\u043d\\u0435\\u0432\\u044b\\u043d\",\"\\u0431\\u0435\\u0441\\u043f\\u043b\\u043e\\u0434\\u0438\\u0435     \\u043c\\u0443\\u0436\\u0441\\u043a\\u043e\\u0439 \\u0444\\u0430\\u043a\\u0442\\u043e\\u0440        \\u043f\\u0440\\u0438\\u0432\\u044b\\u0447\\u043d\\u043e\\u0435 \\u043d\\u0435\\u0432\\u044b\",\"\\u0431\\u0435\\u0441\\u043f\\u043b\\u043e\\u0434\\u0438\\u0435     \\u0430\\u0431\\u0441\\u043e\\u043b\\u044e\\u0442\\u043d\\u043e \\u0442\\u0440\\u0443\\u0431\\u043d\\u044b\\u0439 \\u0444\\u0430\\u043a\\u0442\\u043e\\u0440  \\u043f\\u0440\\u0438\\u043e\\u0431\\u0440\\u0435\\u0442\\u0435\\u043d\",\"\\u0431\\u0435\\u0441\\u043f\\u043b\\u043e\\u0434\\u0438\\u0435    \\u0442\\u0440\\u0443\\u0431\\u043d\\u043e \\u043f\\u0435\\u0440\\u0438\\u0442\\u043e\\u043d\\u0435\\u0430\\u043b\\u044c\\u043d\\u043e\\u0435 \",\"\\u0431\\u0435\\u0441\\u043f\\u043b\\u043e\\u0434\\u0438\\u0435     \\u043d\\u0433\\u044d \\u0430\\u0434\\u0435\\u043d\\u043e\\u043c\\u0438\\u043e\\u0437 \\u043f\\u043e\\u0437\\u0434\\u043d\\u0438\\u0439 \\u0440\\u0435\\u043f\\u0440\\u043e\\u0434\\u0443\\u043a\\u0442\\u0438\\u0432\\u043d\\u044b\\u0439\",\"\\u0431\\u0435\\u0441\\u043f\\u043b\\u043e\\u0434\\u0438\\u0435     \\u0430\\u0434\\u0435\\u043d\\u043e\\u043c\\u0438\\u043e\\u0437        \\u043d\\u0433\\u044d  \\u0440\\u0435\\u0446\\u0438\\u0434\\u0438\\u0432   \\u043a\\u0438\\u0441\\u0442\",\"\\u0431\\u0435\\u0441\\u043f\\u043b\\u043e\\u0434\\u0438\\u0435   \\u043c\\u043d\\u043e\\u0436\\u0435\\u0441\\u0442\\u0432\\u0435\\u043d\\u043d\\u0430\\u044f \\u043c\\u0438\\u043e\\u043c\\u0430 \\u043c\\u0430\\u0442\\u043a\\u0438       \\u043e\\u0433\\u0430  \\u0441\",\"\\u0431\\u0435\\u0441\\u043f\\u043b\\u043e\\u0434\\u0438\\u0435   \\u0441\\u0443\\u0431\\u043a\\u043b\\u0438\\u043d\\u0438\\u0447\\u0435\\u0441\\u043a\\u0438\\u0439 \\u0433\\u0438\\u043f\\u043e\\u0442\\u0438\\u0440\\u0435\\u043e\\u0437  \\u043c\\u0443\\u0436\\u0441\\u043a\\u043e\\u0439 \\u0444\\u0430\\u043a\",\"\\u043f\\u043b\\u0430\\u043d\\u0438\\u0440\\u043e\\u0432\\u0430\\u043d\\u0438\\u0435 \\u0431\\u0435\\u0440\\u0435\\u043c\\u0435\\u043d\\u043d\\u043e\\u0441\\u0442\\u0438 \\u043c\\u0435\\u0442\\u043e\\u0434\\u043e\\u043c \\u044d\\u043a\\u043e \\u043f\\u0433\\u0442\\u0430  \\u043d\\u043e\\u0441\\u0438\\u0442\\u0435\",\"\\u0431\\u0435\\u0441\\u043f\\u043b\\u043e\\u0434\\u0438\\u0435   \\u043a\\u0438\\u0441\\u0442\\u0430 \\u043b\\u0435\\u0432\\u043e\\u0433\\u043e \\u044f\\u0438\\u0447\\u043d\\u0438\\u043a\\u0430 \\u0444\\u043e\\u043b\\u043b\\u0438\\u043a\\u0443\\u043b\\u044f\\u0440\\u043d\\u0430\\u044f    \",\"\\u0431\\u0435\\u0441\\u043f\\u043b\\u043e\\u0434\\u0438\\u0435    \\u043d\\u0435\\u0443\\u0442\\u043e\\u0447\\u043d\\u0435\\u043d\\u043d\\u043e\\u0435  \\u0442\\u0435\\u0440\\u0430\\u0442\\u043e\\u0437\\u043e\\u043e\\u0441\\u043f\\u0435\\u0440\\u043c\\u0438\\u044f \\u0443 \\u043c\\u0443\\u0436\\u0430\",\"\\u0431\\u0435\\u0441\\u043f\\u043b\\u043e\\u0434\\u0438\\u0435   \\u0445\\u0440\\u043e\\u043d\\u0438\\u0447\\u0435\\u0441\\u043a\\u0438\\u0439 \\u0441\\u0430\\u043b\\u044c\\u043f\\u0438\\u043d\\u0433\\u043e\\u043e\\u0444\\u043e\\u0440\\u0438\\u0442         \\u0441\\u0442\",\"\\u0431\\u0435\\u0441\\u043f\\u043b\\u043e\\u0434\\u0438\\u0435   \\u043d\\u0433\\u044d   \\u0441\\u0442  \\u043a\\u043e\\u043c\\u0431\\u0438\\u043d\\u0438\\u0440\\u043e\\u0432\\u0430\\u043d\\u043d\\u043e\\u0435 \\u043b\\u0435\\u0447\\u0435\\u043d\\u0438\\u0435    \\u043c\",\"\\u0431\\u0435\\u0441\\u043f\\u043b\\u043e\\u0434\\u0438\\u0435     \\u043c\\u0438\\u043e\\u043c\\u0430 \\u043c\\u0430\\u0442\\u043a\\u0438         \\u043a\\u043e\\u043d\\u0441\\u0435\\u0440\\u0432\\u0430\\u0442\\u0438\\u0432\\u043d\\u0430\\u044f \\u043c\",\"\\u0431\\u0435\\u0441\\u043f\\u043b\\u043e\\u0434\\u0438\\u0435     \\u043f\\u0440\\u0438\\u043e\\u0431\\u0440\\u0435\\u0442\\u0435\\u043d\\u043d\\u043e\\u0435 \\u043e\\u0442\\u0441\\u0443\\u0442\\u0441\\u0442\\u0432\\u0438\\u0435 \\u043e\\u0440\\u0433\\u0430\\u043d\\u0430  \\u0434\\u0432\\u0443\",\"\\u0431\\u0435\\u0441\\u043f\\u043b\\u043e\\u0434\\u0438\\u0435     \\u0445\\u0440\\u043e\\u043d\\u0438\\u0447\\u0435\\u0441\\u043a\\u0438\\u0439 \\u044d\\u043d\\u0434\\u043e\\u043c\\u0435\\u0442\\u0440\\u0438\\u0442        \\u0440\\u0443\\u0431\\u0435\\u0446 \",\"\\u0431\\u0435\\u0441\\u043f\\u043b\\u043e\\u0434\\u0438\\u0435           \\u0436\\u0435\\u043d\\u0441\\u043a\\u043e\\u0435 \\u0431\\u0435\\u0441\\u043f\\u043b\\u043e\\u0434\\u0438\\u0435 \\u043d\\u0435\\u0443\\u0442\\u043e\\u0447\\u043d\\u0435\\u043d\\u043d\\u043e\\u0435\",\"\\u0431\\u0435\\u0441\\u043f\\u043b\\u043e\\u0434\\u0438\\u0435    \\u0445\\u0440\\u043e\\u043d\\u0438\\u0447\\u0435\\u0441\\u043a\\u0438\\u0439 \\u0441\\u0430\\u043b\\u044c\\u043f\\u0438\\u043d\\u0433\\u043e\\u043e\\u0444\\u043e\\u0440\\u0438\\u0442        \\u0445\\u0440\",\"\\u0431\\u0435\\u0441\\u043f\\u043b\\u043e\\u0434\\u0438\\u0435   \\u0445\\u0440\\u043e\\u043d\\u0438\\u0447\\u0435\\u0441\\u043a\\u0438\\u0439 \\u0441\\u0430\\u043b\\u044c\\u043f\\u0438\\u043d\\u0433\\u043e\\u043e\\u0444\\u043e\\u0440\\u0438\\u0442        \\u0445\\u0440\\u043e\",\"\\u0431\\u0435\\u0441\\u043f\\u043b\\u043e\\u0434\\u0438\\u0435           \\u0436\\u0435\\u043d\\u0441\\u043a\\u043e\\u0435 \\u0431\\u0435\\u0441\\u043f\\u043b\\u043e\\u0434\\u0438\\u0435 \\u0442\\u0440\\u0443\\u0431\\u043d\\u043e \\u043f\\u0435\\u0440\\u0438\\u0442\",\"\\u0431\\u0435\\u0441\\u043f\\u043b\\u043e\\u0434\\u0438\\u0435     \\u0445\\u0440\\u043e\\u043d\\u0438\\u0447\\u0435\\u0441\\u043a\\u0438\\u0439 \\u0441\\u0430\\u043b\\u044c\\u043f\\u0438\\u043d\\u0433\\u043e\\u043e\\u0444\\u043e\\u0440\\u0438\\u0442         \",\"\\u0431\\u0435\\u0441\\u043f\\u043b\\u043e\\u0434\\u0438\\u0435     \\u043e\\u0441\\u0430  \\u043f\\u0440\\u0438\\u043e\\u0431\\u0440\\u0435\\u0442\\u0435\\u043d\\u043d\\u043e\\u0435 \\u043e\\u0442\\u0441\\u0443\\u0442\\u0441\\u0442\\u0432\\u0438\\u0435 \\u043e\\u0440\\u0433\\u0430\\u043d\\u0430\",\"\\u0431\\u0435\\u0441\\u043f\\u043b\\u043e\\u0434\\u0438\\u0435           \\u0436\\u0435\\u043d\\u0441\\u043a\\u043e\\u0435 \\u0431\\u0435\\u0441\\u043f\\u043b\\u043e\\u0434\\u0438\\u0435  \\u043e\\u0431\\u0443\\u0441\\u043b\\u043e\\u0432\\u043b\\u0435\\u043d\\u043d\",\"\\u0431\\u0435\\u0441\\u043f\\u043b\\u043e\\u0434\\u0438\\u0435     \\u0445\\u0440\\u043e\\u043d\\u0438\\u0447\\u0435\\u0441\\u043a\\u0438\\u0439 \\u0441\\u0430\\u043b\\u044c\\u043f\\u0438\\u043d\\u0433\\u043e\\u043e\\u0444\\u043e\\u0440\\u0438\\u0442        \\u0445\",\"\\u0431\\u0435\\u0441\\u043f\\u043b\\u043e\\u0434\\u0438\\u0435   \\u0430\\u0434\\u0435\\u043d\\u043e\\u043c\\u0438\\u043e\\u0437        \\u043d\\u0433\\u044d \\u0432 \\u0430\\u043d\\u0430\\u043c\\u043d\\u0435\\u0437\\u0435 \\u043f\\u043e\\u0437\\u0434\\u043d\\u0438\",\"\\u043f\\u0440\\u0438\\u0432\\u044b\\u0447\\u043d\\u043e\\u0435 \\u043d\\u0435\\u0432\\u044b\\u043d\\u0430\\u0448\\u0438\\u0432\\u0430\\u043d\\u0438\\u0435 \\u0431\\u0435\\u0440\\u0435\\u043c\\u0435\\u043d\\u043d\\u043e\\u0441\\u0442\\u0438 \",\"\\u0431\\u0435\\u0441\\u043f\\u043b\\u043e\\u0434\\u0438\\u0435   \\u0445\\u0440\\u043e\\u043d\\u0438\\u0447\\u0435\\u0441\\u043a\\u0438\\u0439 \\u0441\\u0430\\u043b\\u044c\\u043f\\u0438\\u043d\\u0433\\u043e\\u043e\\u0444\\u043e\\u0440\\u0438\\u0442        \\u0445\\u0440\\u043e\",\"\\u0431\\u0435\\u0441\\u043f\\u043b\\u043e\\u0434\\u0438\\u0435    \\u043c\\u0443\\u0436\\u0441\\u043a\\u043e\\u0439 \\u0444\\u0430\\u043a\\u0442\\u043e\\u0440      \",\"\\u043d\\u0435\\u0442\",\"\\u0431\\u0435\\u0441\\u043f\\u043b\\u043e\\u0434\\u0438\\u0435     \\u0442\\u0440\\u0443\\u0431\\u043d\\u043e \\u043f\\u0435\\u0440\\u0438\\u0442\\u043e\\u043d\\u0435\\u0430\\u043b\\u044c\\u043d\\u043e\\u0435  \\u0442\\u0443\\u0431\\u044d\\u043a\\u0442\\u043e\\u043c\\u0438\\u044f \\u0441\\u043f\",\"\\u0431\\u0435\\u0441\\u043f\\u043b\\u043e\\u0434\\u0438\\u0435   \\u043f\\u0435\\u0440\\u0432\\u0438\\u0447\\u043d\\u0430\\u044f \\u043e\\u043b\\u0438\\u0433\\u043e\\u043c\\u0435\\u043d\\u043e\\u0440\\u0440\\u0435\\u044f        \\u0441\\u043f\\u044f    \",\"\\u0431\\u0435\\u0441\\u043f\\u043b\\u043e\\u0434\\u0438\\u0435    \\u044d\\u043d\\u0434\\u043e\\u043a\\u0440\\u0438\\u043d\\u043d\\u043e\\u0435  \\u0433\\u0438\\u043f\\u043e\\u0433\\u043e\\u043d\\u0430\\u0434\\u043e\\u0442\\u0440\\u043e\\u043f\\u043d\\u044b\\u0439 \\u0433\\u0438\\u043f\\u043e\\u0433\\u043e\",\"\\u0431\\u0435\\u0441\\u043f\\u043b\\u043e\\u0434\\u0438\\u0435    \\u0445\\u0440\\u043e\\u043d\\u0438\\u0447\\u0435\\u0441\\u043a\\u0438\\u0439 \\u043b\\u0435\\u0432\\u043e\\u0441\\u0442\\u043e\\u0440\\u043e\\u043d\\u043d\\u0438\\u0439 \\u0441\\u0430\\u043b\\u044c\\u043f\\u0438\\u043d\\u0433\\u043e\\u043e\\u0444\",\"\\u0431\\u0435\\u0441\\u043f\\u043b\\u043e\\u0434\\u0438\\u0435          \\u0436\\u0435\\u043d\\u0441\\u043a\\u043e\\u0435 \\u0431\\u0435\\u0441\\u043f\\u043b\\u043e\\u0434\\u0438\\u0435 \\u0442\\u0440\\u0443\\u0431\\u043d\\u043e \\u043f\\u0435\\u0440\\u0438\\u0442\\u043e\",\"\\u0431\\u0435\\u0441\\u043f\\u043b\\u043e\\u0434\\u0438\\u0435   \\u0441\\u043f\\u044f        \\u0430\\u043d\\u043e\\u0432\\u0443\\u043b\\u044f\\u0446\\u0438\\u044f        \\u0438\\u0437\\u0431\\u044b\\u0442\\u043e\\u0447\\u043d\\u0430\",\"\\u0431\\u0435\\u0441\\u043f\\u043b\\u043e\\u0434\\u0438\\u0435    \\u0442\\u0440\\u0443\\u0431\\u043d\\u043e\\u0433\\u043e \\u043f\\u0440\\u043e\\u0438\\u0441\\u0445\\u043e\\u0436\\u0434\\u0435\\u043d\\u0438\\u044f        \\u043f\\u0440\\u0438\\u043e\\u0431\\u0440\\u0435\",\"\\u0431\\u0435\\u0441\\u043f\\u043b\\u043e\\u0434\\u0438\\u0435    \\u043d\\u0435\\u044f\\u0441\\u043d\\u043e\\u0433\\u043e \\u0433\\u0435\\u043d\\u0435\\u0437\\u0430        \\u0430\\u0434\\u0435\\u043d\\u043e\\u043c\\u0438\\u043e\\u0437  \\u043d\\u0435\\u0432\",\"\\u0431\\u0435\\u0441\\u043f\\u043b\\u043e\\u0434\\u0438\\u0435     \\u0445\\u0440\\u043e\\u043d\\u0438\\u0447\\u0435\\u0441\\u043a\\u0438\\u0439 \\u0441\\u0430\\u043b\\u044c\\u043f\\u0438\\u043d\\u0433\\u043e\\u043e\\u0444\\u043e\\u0440\\u0438\\u0442        \\u043f\",\"\\u0431\\u0435\\u0441\\u043f\\u043b\\u043e\\u0434\\u0438\\u0435    \\u043a\\u0438\\u0441\\u0442\\u0430 \\u043f\\u0440\\u0430\\u0432\\u043e\\u0433\\u043e \\u044f\\u0438\\u0447\\u043d\\u0438\\u043a\\u0430  \\u0445\\u0440\\u043e\\u043d\\u0438\\u0447\\u0435\\u0441\\u043a\\u0438\\u0439 \\u043b\\u0435\",\"\\u0431\\u0435\\u0441\\u043f\\u043b\\u043e\\u0434\\u0438\\u0435           \\u0436\\u0435\\u043d\\u0441\\u043a\\u043e\\u0435 \\u0431\\u0435\\u0441\\u043f\\u043b\\u043e\\u0434\\u0438\\u0435  \\u043e\\u0431\\u0443\\u0441\\u043b\\u043e\\u0432\\u043b\\u0435\\u043d\\u043d\",\"\\u0431\\u0435\\u0441\\u043f\\u043b\\u043e\\u0434\\u0438\\u0435           \\u0434\\u0440\\u0443\\u0433\\u0438\\u0435 \\u0444\\u043e\\u0440\\u043c\\u044b \\u0436\\u0435\\u043d\\u0441\\u043a\\u043e\\u0433\\u043e \\u0431\\u0435\\u0441\\u043f\\u043b\\u043e\\u0434\\u0438\",\"\\u0431\\u0435\\u0441\\u043f\\u043b\\u043e\\u0434\\u0438\\u0435   \\u0441\\u043f\\u044f        \\u0430\\u043d\\u043e\\u0432\\u0443\\u043b\\u044f\\u0446\\u0438\\u044f        \\u043e\\u0442\\u0441\\u0443\\u0442\\u0441\\u0442\\u0432\\u0438\",\"\\u0431\\u0435\\u0441\\u043f\\u043b\\u043e\\u0434\\u0438\\u0435           \\u0436\\u0435\\u043d\\u0441\\u043a\\u043e\\u0435 \\u0431\\u0435\\u0441\\u043f\\u043b\\u043e\\u0434\\u0438\\u0435  \\u0441\\u0432\\u044f\\u0437\\u0430\\u043d\\u043d\\u043e\\u0435 \\u0441\",\"\\u0431\\u0435\\u0441\\u043f\\u043b\\u043e\\u0434\\u0438\\u0435     \\u0442\\u0440\\u0443\\u0431\\u043d\\u043e\\u0433\\u043e \\u043f\\u0440\\u043e\\u0438\\u0441\\u0445\\u043e\\u0436\\u0434\\u0435\\u043d\\u0438\\u044f        \\u043f\\u0440\\u0438\\u043e\\u0431\\u0440\",\"\\u0431\\u0435\\u0441\\u043f\\u043b\\u043e\\u0434\\u0438\\u0435     \\u043d\\u0435\\u0432\\u044b\\u043d\\u0430\\u0448\\u0438\\u0432\\u0430\\u043d\\u0438\\u0435 \\u0431\\u0435\\u0440\\u0435\\u043c\\u0435\\u043d\\u043d\\u043e\\u0441\\u0442\\u0438 \\u0432 \\u0430\\u043d\\u0430\\u043c\\u043d\\u0435\\u0437\",\"\\u0431\\u0435\\u0441\\u043f\\u043b\\u043e\\u0434\\u0438\\u0435   \\u0430\\u043d\\u043e\\u0432\\u0443\\u043b\\u044f\\u0446\\u0438\\u044f        \\u043c\\u0438\\u043e\\u043c\\u0430 \\u043c\\u0430\\u0442\\u043a\\u0438      \\u0441\\u043d\\u0438\",\"\\u0431\\u0435\\u0441\\u043f\\u043b\\u043e\\u0434\\u0438\\u0435           \\u0434\\u0440\\u0443\\u0433\\u0438\\u0435 \\u0444\\u043e\\u0440\\u043c\\u044b \\u0436\\u0435\\u043d\\u0441\\u043a\\u043e\\u0433\\u043e \\u0431\\u0435\\u0441\\u043f\\u043b\\u043e\\u0434\\u0438\",\"\\u0431\\u0435\\u0441\\u043f\\u043b\\u043e\\u0434\\u0438\\u0435     \\u043f\\u0440\\u0438\\u043e\\u0431\\u0440\\u0435\\u0442\\u0435\\u043d\\u043d\\u043e\\u0435 \\u043e\\u0442\\u0441\\u0443\\u0442\\u0441\\u0442\\u0432\\u0438\\u0435 \\u043e\\u0440\\u0433\\u0430\\u043d\\u0430  \\u0430\\u043c\\u043f\",\"\\u0431\\u0435\\u0441\\u043f\\u043b\\u043e\\u0434\\u0438\\u0435   \\u0430\\u043d\\u043e\\u0432\\u0443\\u043b\\u044f\\u0446\\u0438\\u044f       \",\"\\u0431\\u0435\\u0441\\u043f\\u043b\\u043e\\u0434\\u0438\\u0435    \\u044d\\u043d\\u0434\\u043e\\u043a\\u0440\\u0438\\u043d\\u043d\\u043e\\u0435  \\u0441\\u043d\\u0438\\u0436\\u0435\\u043d\\u0438\\u0435 \\u043e\\u0432\\u0430\\u0440\\u0438\\u0430\\u043b\\u044c\\u043d\\u043e\\u0433\\u043e \\u0440\\u0435\",\"\\u0431\\u0435\\u0441\\u043f\\u043b\\u043e\\u0434\\u0438\\u0435           \\u043f\\u043e\\u0437\\u0434\\u043d\\u0438\\u0439 \\u0440\\u0435\\u043f\\u0440\\u043e\\u0434\\u0443\\u043a\\u0442\\u0438\\u0432\\u043d\\u044b\\u0439 \\u0432\\u043e\\u0437\\u0440\\u0430\\u0441\\u0442\",\"\\u0431\\u0435\\u0441\\u043f\\u043b\\u043e\\u0434\\u0438\\u0435   \\u043c\\u0443\\u0436\\u0441\\u043a\\u043e\\u0439 \\u0444\\u0430\\u043a\\u0442\\u043e\\u0440          \\u0433\\u0438\\u043f\\u043e\\u0442\\u0438\\u0440\\u0435\\u043e\\u0437    \",\"\\u0431\\u0435\\u0441\\u043f\\u043b\\u043e\\u0434\\u0438\\u0435   \\u0445\\u0440\\u043e\\u043d\\u0438\\u0447\\u0435\\u0441\\u043a\\u0438\\u0439 \\u0441\\u0430\\u043b\\u044c\\u043f\\u0438\\u043d\\u0433\\u043e\\u043e\\u0444\\u043e\\u0440\\u0438\\u0442        \\u0444\\u0438\\u0431\",\"\\u0431\\u0435\\u0441\\u043f\\u043b\\u043e\\u0434\\u0438\\u0435   \\u043c\\u0443\\u0436\\u0441\\u043a\\u043e\\u0439 \\u0444\\u0430\\u043a\\u0442\\u043e\\u0440       \\u0438\\u0437\\u0431\\u044b\\u0442\\u043e\\u0447\\u043d\\u0430\\u044f \\u043c\\u0430\\u0441\\u0441\\u0430 \",\"\\u0431\\u0435\\u0441\\u043f\\u043b\\u043e\\u0434\\u0438\\u0435    \\u0441\\u043d\\u0438\\u0436\\u0435\\u043d\\u0438\\u0435 \\u043e\\u0432\\u0430\\u0440\\u0438\\u0430\\u043b\\u044c\\u043d\\u043e\\u0433\\u043e \\u0440\\u0435\\u0437\\u0435\\u0440\\u0432\\u0430  \\u0433\\u0438\\u043f\\u0435\\u0440\\u043f\",\"\\u043d\\u0435\\u0442\",\"\\u0431\\u0435\\u0441\\u043f\\u043b\\u043e\\u0434\\u0438\\u0435    \\u043c\\u0443\\u0436\\u0441\\u043a\\u043e\\u0439 \\u0444\\u0430\\u043a\\u0442\\u043e\\u0440      \",\"\\u0431\\u0435\\u0441\\u043f\\u043b\\u043e\\u0434\\u0438\\u0435     \\u043e\\u0430\\u0433\\u0430  \\u0440\\u0435\\u0437\\u0435\\u043a\\u0446\\u0438\\u044f \\u044f\\u0438\\u0447\\u043d\\u0438\\u043a\\u0430  \\u0432\\u0430\\u043a\\u0443\\u0443\\u043c \\u044d\\u043a\\u0441\\u0442\\u0440\",\"\\u0431\\u0435\\u0441\\u043f\\u043b\\u043e\\u0434\\u0438\\u0435     \\u044d\\u043d\\u0434\\u043e\\u043a\\u0440\\u0438\\u043d\\u043d\\u043e\\u0435  \\u043d\\u043e\\u0440\\u043c\\u043e\\u0433\\u043e\\u043d\\u0430\\u0434\\u043e\\u0442\\u0440\\u043e\\u043f\\u043d\\u0430\\u044f \\u043d\\u043e\\u0440\\u043c\",\"\\u0431\\u0435\\u0441\\u043f\\u043b\\u043e\\u0434\\u0438\\u0435          \\u0436\\u0435\\u043d\\u0441\\u043a\\u043e\\u0435 \\u0431\\u0435\\u0441\\u043f\\u043b\\u043e\\u0434\\u0438\\u0435  \\u043e\\u0431\\u0443\\u0441\\u043b\\u043e\\u0432\\u043b\\u0435\\u043d\\u043d\\u043e\",\"\\u0431\\u0435\\u0441\\u043f\\u043b\\u043e\\u0434\\u0438\\u0435   \\u0442\\u0440\\u0443\\u0431\\u043d\\u043e\\u0433\\u043e \\u043f\\u0440\\u043e\\u0438\\u0441\\u0445\\u043e\\u0436\\u0434\\u0435\\u043d\\u0438\\u044f         \\u0445\\u0440\\u043e\\u043d\\u0438\\u0447\\u0435\",\"\\u0431\\u0435\\u0441\\u043f\\u043b\\u043e\\u0434\\u0438\\u0435     \\u043d\\u0435\\u0443\\u0442\\u043e\\u0447\\u043d\\u0435\\u043d\\u043d\\u043e\\u0435 \",\"\\u043d\\u0435\\u0442\",\"\\u0431\\u0435\\u0441\\u043f\\u043b\\u043e\\u0434\\u0438\\u0435     \\u043c\\u0443\\u0436\\u0441\\u043a\\u043e\\u0439 \\u0444\\u0430\\u043a\\u0442\\u043e\\u0440  \\u0438\\u0437\\u0431\\u044b\\u0442\\u043e\\u0447\\u043d\\u0430\\u044f \\u043c\\u0430\\u0441\\u0441\\u0430 \\u0442\\u0435\\u043b\",\"\\u0431\\u0435\\u0441\\u043f\\u043b\\u043e\\u0434\\u0438\\u0435   \\u0445\\u0440\\u043e\\u043d\\u0438\\u0447\\u0435\\u0441\\u043a\\u0438\\u0439 \\u044d\\u043d\\u0434\\u043e\\u043c\\u0435\\u0442\\u0440\\u0438\\u0442        \\u043c\\u0438\\u043e\\u043c\\u0430 \\u043c\\u0430\",\"\\u0431\\u0435\\u0441\\u043f\\u043b\\u043e\\u0434\\u0438\\u0435     \\u043f\\u0440\\u0438\\u0432\\u044b\\u0447\\u043d\\u043e\\u0435 \\u043d\\u0435\\u0432\\u044b\\u043d\\u0430\\u0448\\u0438\\u0432\\u0430\\u043d\\u0438\\u0435 \\u0431\\u0435\\u0440\\u0435\\u043c\\u0435\\u043d\\u043d\\u043e\\u0441\\u0442\\u0438\",\"\\u0431\\u0435\\u0441\\u043f\\u043b\\u043e\\u0434\\u0438\\u0435     \\u0430\\u0438\\u0442  \\u044d\\u0443\\u0442\\u0438\\u0440\\u0435\\u043e\\u0437         \\u0445\\u0440 \\u0446\\u0438\\u0441\\u0442\\u0438\\u0442  \\u0440\\u0435\\u043c\",\"\\u0431\\u0435\\u0441\\u043f\\u043b\\u043e\\u0434\\u0438\\u0435    \\u0442\\u0440\\u0443\\u0431\\u043d\\u043e\\u0433\\u043e \\u043f\\u0440\\u043e\\u0438\\u0441\\u0445\\u043e\\u0436\\u0434\\u0435\\u043d\\u0438\\u044f               \",\"\\u0431\\u0435\\u0441\\u043f\\u043b\\u043e\\u0434\\u0438\\u0435    \\u043d\\u0435\\u0443\\u0442\\u043e\\u0447\\u043d\\u0435\\u043d\\u043d\\u043e\\u0435  \\u0440\\u0443\\u0431\\u0435\\u0446 \\u043d\\u0430 \\u043c\\u0430\\u0442\\u043a\\u0435  \\u0448\\u043e\\u0432 \\u0431\\u0435\\u0437\",\"\\u043d\\u0435\\u0442\",\"\\u0431\\u0435\\u0441\\u043f\\u043b\\u043e\\u0434\\u0438\\u0435           \\u0436\\u0435\\u043d\\u0441\\u043a\\u043e\\u0435 \\u0431\\u0435\\u0441\\u043f\\u043b\\u043e\\u0434\\u0438\\u0435 \\u0442\\u0440\\u0443\\u0431\\u043d\\u043e \\u043f\\u0435\\u0440\\u0438\\u0442\",\"\\u0431\\u0435\\u0441\\u043f\\u043b\\u043e\\u0434\\u0438\\u0435   \\u043c\\u0443\\u0436\\u0441\\u043a\\u043e\\u0439 \\u0444\\u0430\\u043a\\u0442\\u043e\\u0440       \\u043d\\u0430\\u0440\\u0443\\u0448\\u0435\\u043d\\u0438\\u0435 \\u0436\\u0438\\u0440\\u043e\\u0432\\u043e\\u0433\",\"\\u0431\\u0435\\u0441\\u043f\\u043b\\u043e\\u0434\\u0438\\u0435     \\u043a\\u043e\\u043c\\u0431\\u0438\\u043d\\u0438\\u0440\\u043e\\u0432\\u0430\\u043d\\u043d\\u043e\\u0435         \\u0442\\u0440\\u0443\\u0431\\u043d\\u043e\\u0433\\u043e \\u043f\\u0440\\u043e\",\"\\u0431\\u0435\\u0441\\u043f\\u043b\\u043e\\u0434\\u0438\\u0435     \\u0445\\u0440\\u043e\\u043d\\u0438\\u0447\\u0435\\u0441\\u043a\\u0438\\u0439 \\u0441\\u0430\\u043b\\u044c\\u043f\\u0438\\u043d\\u0433\\u043e\\u043e\\u0444\\u043e\\u0440\\u0438\\u0442        \\u0442\",\"\\u0431\\u0435\\u0441\\u043f\\u043b\\u043e\\u0434\\u0438\\u0435     \\u0441\\u043f\\u044f        \\u0430\\u043d\\u043e\\u0432\\u0443\\u043b\\u044f\\u0446\\u0438\\u044f         \\u043f\\u0435\\u0440\\u0432\\u0438\\u0447\",\"\\u0431\\u0435\\u0441\\u043f\\u043b\\u043e\\u0434\\u0438\\u0435   \\u0445\\u0440\\u043e\\u043d\\u0438\\u0447\\u0435\\u0441\\u043a\\u0438\\u0439 \\u0441\\u0430\\u043b\\u044c\\u043f\\u0438\\u043d\\u0433\\u043e\\u043e\\u0444\\u043e\\u0440\\u0438\\u0442         \\u0445\\u0440\",\"\\u0431\\u0435\\u0441\\u043f\\u043b\\u043e\\u0434\\u0438\\u0435   \\u0445\\u0440\\u043e\\u043d\\u0438\\u0447\\u0435\\u0441\\u043a\\u0438\\u0439 \\u0441\\u0430\\u043b\\u044c\\u043f\\u0438\\u043d\\u0433\\u043e\\u043e\\u0444\\u043e\\u0440\\u0438\\u0442        \\u0434\\u043d\\u0437\",\"\\u0431\\u0435\\u0441\\u043f\\u043b\\u043e\\u0434\\u0438\\u0435     \\u043f\\u0440\\u0438\\u043e\\u0431\\u0440\\u0435\\u0442\\u0435\\u043d\\u043d\\u043e\\u0435 \\u043e\\u0442\\u0441\\u0443\\u0442\\u0441\\u0442\\u0432\\u0438\\u0435 \\u043e\\u0440\\u0433\\u0430\\u043d\\u0430  \\u0434\\u0432\\u0443\"],\"x\":{\"__ndarray__\":\"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\",\"dtype\":\"float32\",\"order\":\"little\",\"shape\":[1218]},\"y\":{\"__ndarray__\":\"eAgZQZKflMCcEehAzGpNQdT4KECTXaFAoEnwQFmbHsChKn3AHscJwca7EUBFAARBcndNQcJ/d7+V3aU/TvXhQN1+MECfoMDAwhdGwBvdDkDPmUBBAxifQNsRFMHAJgXBXqBBQW/0QUFBEpJAko08QDPz50ClJIVBXeqRwBVQJL+LEDXAcU8HwedZKj5XRXRAdIBmQUfbvMBtTkPBOatEQHOzhEC1iv8/W7YcwUpTqr8M5yRBdIcGv/BZeUDDMH9BUmMYQMhLh8B6FkxBp76JwNDkn0B/afRAr1EyQUxQxT8iZafAuelsQIAwvEC4DQrBJBU+QSd7B8HBJg1A7j/UwIxMJEEQDV6+9Qo2P2ZsCr/nuf1A0ilXv6gYPEB9vTrASfwYQTivXsENpZtAy4JMwGYru0CNDRJBHHwXQB83yL84uWPBYMB9QWDx7sC+rzTAbnAQQbwjvL0bw59AhTmhQN0jJ0H9DB9AIUNOQTPAhMCcuirB0lfywM8GOcFXhxPBLmWIwWtwG0CC5fRAO9rYvz9fL0B0dRtAZ1ptwJD+E8GDRvvAYrpcwFRKAkFj9qBAGxBEQCjTL78SHYq/DfL3QFuZcUAMesHAew4UwWHeh8B6hTbB7Ug0wCR2BsEtWirBtP+2QM1DH0BgrtDAHbuYwHHnWMA/R5S/RVMHwaA2j8DqJCFAT8jRwBWoAEDyRYRAnIk2QCdKNsC8gy5AzRUZQPjZC0FREAJBqP/xwNuYcUDKoHNBSChCQDqpf8D6r6jAxMEeQLjaEkD0Ju9Ai/8mQPJeZ0BlmZ9AN1uwQCU8Q79uY4DAMRgAQAwDkMAUeQLAyg9QQdoLoEAwTBzBtwJlwS9hX8D7CiVBebAAvu3/ZMHvbwO/VNLcvw7xKsHJfwtAZNrgQESuJEEV9u7AzbX3QMsOTkFzzGpATy32QB353ED5/V7AXWxAQR+aH0GeaWZA+fMyv4mIjkAxjyRAqPaQwAm+ZMGlxopAm94ewbsQvMAb3QLBXtcKwTbRKEC9RCdA88d0QaYpg8AgLW/AKmQ1QJd6IcC65hPBRVMHweiFkkDDiAxBAgigQMz1K0Gj27zAF6m+v9Dd07/1UzRA1RGtQDhHtkDAeps/HsADQf6tC0HV7ibAKB4IQetXHMEABF/BCtsqP6o3Eb9HeQ/AQwFPPtZHpEBrC4JA63kBwRbjDECTVhFA8fO3P3rZC0Eeuf3AMpITwbHE0L8a3xlAaWlDwaohIkB78B5BW/7Tvy35lL7FQG5BCcIAQcXaOL8ZO9g//F2PwCj1OUFRVAJBftKJQIQc/j9sxxPBmZS+P61HbUAvk3NBHIEdQRg/uj/HvmZBt7UJQILwQ7/BvZBAUgwXQcsNcEHthS9ApHmeQAxLc0GBByZAndswQDR2L0BaSi3BNlsYQcfjoz/n2a1A/n+AwM5FvMCEq2dAhSwCPrdpm0A+iqBAyUcAQWcCnMCPPmZBxTg8PZJQT0ApC//Aov56wF7KZUH/sQ9Ak15EQPafh0DYZxdAgwP+P6IkhUErFW9AVKA6wZY9VUAUyzlAO6wJwbiX+T+rGr/AlpQ5QOJ38cAxprjAJG0XQVzyokBQSydB0V5oQRDKbUANRQjBMBKqQHuVn0CiQAfBd3mGQPzV+EBM2Dy/LC6KQGxYb0H3EoBBxv5kwR3390ArlfnAw6iOQITrGUG+uxpBiuRoPbMFlL+oJopASvYLwC50mb629wtBWb3evzixXcAScUBBymMkQemjAUFwvpO/ixcIQRpPNsDIq4tAsPHcQFcJgsCOuzTASYQBwHIA1r8ESQHB0TZvQWNqDkEqKATB+YnAwKB1NsEj7abAAGzav51PFkEohXRA1aq4PzueOsCnJIVBvixzQT74JcHwUUpBzoYOQQtRLEFqbjpBIKnXP6grEkEeAp5ASw0VwXySLcAhJRzA0ZFdPwEFJ0Ee7Lg/z/XYv38EJEGstRJAy0BMQUhj/8DtYm7BILWMvt3qmECE7hlBs0sNQG8MZsHBh2vAUl4Mv5J8A8B2D4xApKsHwKdIAkFBXWbBM4voQF3yjsDxI5q++t2ywHiZMMH1t4tAW3U5wZIR/sBxtw3BuiAmwZQCb8Gw8hK/FuShQC7D/MA1WQfBmH8DQOYWCEHe1aNArQyGwHsC+UA1wGtAlK8ewcvhYEDkmjlBWgkJQbAyQkAWJGnA/GEDv8753EC4Q5I/J77OP9R6WMA++zlBR+mFQBBqJkFAFt+/vlijwClLE0Be6m/ATxHUwIoTnECbFCvBAPQZQDahi0CaNqBAkVcmwYQ8MkA/ABTBDIBswSDs0sCK3/HAdys1QGTYNb8JzYDAzmQqwWjka8AhAtK+d52FwKIWgEHEn8DA2GwdwTSXWUAovNc/9EcQQckyOUCP8QlBHsqTv/zavMAjfxzBsSN9wFdZJ0F1Lry9qrcXQEBHTkHbuA3BZszbwIax0MA364tAj+zTwFhLb0Dszp9AmAsTQLczNr8RCy4/xNJtQWwDLEErkpe/CLHnQLuKR8DJvd6/DcjTwEMkCEHzZtW/hKpvQZlES0HmbqHAF/tewCghYr/z5su+gh84QXo11b/5jFNBCroNwbuAb8EADivBFQFMQeRFOsFgdUpB/UUiwDM6OEHWSPpAc2WIwaUmF0HQFSBBjcQnQBEZdkCyaSrBesNhPfxEAkEpQ8U/rQcSQCosAkGMdDfBSv1kwTupSEDc9wFANi0GwR9liMGwuo5AGtgFwUgDNMHT/1dA2l9swTuHAj8HmTDBFI1DwOJGaT/2CrG+aAUwQed6E8EdWm5BbIF4QA0MOL5qTlHA6BZJQGbTbUFUg2TBZ1yRv14+UT49IYA+5cIMQaghBL9EFElBZRjRwD8/L8BfGgRBjvoUwUvLM8EK96RAENoWQGYSgEEuFvpAaFotQW+0E8HoYRNA8lE5QaxjCEFUb01Be6mCwLlPhMB1G6RA7raeQFBLK0El8qNA4gJtQAWLxMCnkfzATo4cwTkEPr+jln1BhpmkQBLKKsE8EYhAVrqEwDqAMkAmiWxBxIECQRkZHcGJqxpBLeMmwZarkcB27kpB0E4mwZskAkFigjbBP/oVQbLrncCckkDBFYEHwMtcB8ClawfAtQCjQON2RL9me/w/O28HwPm5hMD6ECnB//g+vy3eSkFZJSjBvOw8wdSg6ECpwg5B//8ovor0JMA1pUDB6H1fwbsojEARzH/AUJ0cwSwEHkG9sTtAqaU4wb0HLcHCnoTAk1ccQdEAv0AhCRe/SwEYQRavKMEdKD1AdLYkwSTmJ8FD+DPB8Xwqwa7sHsGnKWO+2TCFQOE0CMC4nF3BCUVBQXmGAEB7gxpBfG1swU5PDUBPPv3Azk2bPlVdOcHd2oNAu/ODQLAbNsEJ07pAtlBSPSZCxT9K9HrAtXKJPfbcAsHQVAXA4WZzQfRXGkEhUzE/QjQOwV1laEBOn4q/kOCFwLMkhUF0++lAygg8QQOOP0EHffHApS1bwP1kkj/mkqFAhLQPQFdbCMAJAxdBhWH/wGF3YUCs/+A/8wScQMwNG0EdNm5AImG4QFSchcD6LK4/zrS/QLbb4EBOCjNAZM40wBu03r0XiBlBy4FuwdKFkUDCCJNASrk9QEviokBCUb49ieqiQA8bGcCi1RpBDGiuP/upib9Q7du9bHoqwXn8JkAhkyZA4OocQUrM28A3z9vAKoBNQevOnUCKgXRBJzoSwWTUhMCZuVRBKlwaQeHPoEASExTBFjAYQHyfOEFLHvPAKA8nQMptDkEGbus/z2EpwXVbbUDoPQpBH6imQJ0ugD5LRAjAOGp8wBNxTz7waSvBvVQCQb65oMBs/yNB6YQbwEH2D0Gx1hxBg7eEwFB3nECv2iVBlT6owDgX+sDeyGzBTfBKQZBrm0ComzVA6rcbQZr0TUGgIA2/0LeXvr+OjsDMCidAaz7tPyWoKsFT9hlBzqocQZTDCUG9LfzAXbT8wIi3IT/FHLu90Q68vU2UX0D/7AxB0VwcQVv9o0BHCnY+kWsaQANMGkC8vhlBNp8ZQbXOBcFnjydAr5htwMWK2j8+fJO/OTBiv1iJA0HcD/HAyFQ6vzdnFkGdsp7APJrmQI5ICcDnuhtBTAQKQYt4b8HrODdAl3w1wXZXj8CK/n/AghEUwR2GDkF/reZA/MVUQc4DVUFdCALByAv9P3b/bkHw0m1B7+ZqQK7NZMGqJ86/FUAFvkz5I76teSrBbicVwV4cb0FnwhhBneY1QA36EUGRxobAl9QzwWA1AsF3ly9AyDoKwS4N6EB0mPxAXoOjvoUKbkApiRPBzrSJwHOIPr5DSYq/Qzf7P9zx+D+4zxpBTw8QQElUj8DZ9ktBqT8dwYwgG0CGwBhB8QUmwRZ2ZkFtHxlBwokUwWXY8ECKSCFAF5V+wKROJkAl/o9AkMnAQDr0wEDZbiFB6G4hQeVvIUGcLiFBqGefQBjRFMGLqk1B6FLgQKl8NEB7rvhATnWJwNFMGEHcNfjA89PtwB1YDkFmyjPBtse7vV6incB43xtBC7QZQfgsHkCwcqFAEcR+QdGFcMCS7Oo/dpc6vhynGUHf8A/BbSsQvZef6UDal4NAZXpuQeNd9MBe2AtBfdkLQY3ahsAkObs/YjELwKsERsBjtBhB8FklQEC5Y8E7uWPBkWzFwBPGxcBVF2hBxmkHwKF6okCPtQhAIlsKQEctn0BubEPBXJ0nQMt+OEDxGkHBFsJAwfnSbUGG0RlBL8Z1QMUSIT8/Qu9AsAwEQSw4+UDtEihANdCDQNIwKECVJHRAIJ8EQDa54ECoAmBAC99yQUQqHUGuN7tAxqwPwVOWMUBaUUBB9VgYQZoc6UAw/kFBab9XvxL3XL/W+TXAJwomwZ39ZUGZ9dxAE5RyQVOcAcHtACtAUs89QJHMnkCjF1W+xbNAwZobn0C6UDLAyZIJwaYhLr+LyDnBqMgQQVhxGECzZhlB7naCQGj1fcCZ1+BAuHw5QEpqlD/XpZtAKyEAwRfsN0CQWvFAoJIBQPZAOcFUEonANr8BwQotu0ABHmlAnCToQC4AEMGj1TnBMKqbvlhnEUEMdxFBN68RQWXVEUGGIgfBfDijQCIalL/FHTm/C2QZQP8sHUEdNxTBpqYSwXpk+8A8k9i/H0iqvrPvk8D3sRxBSh8kQYjoKsGEmTDBMb2Tv0bPHsEq5xhBSBVTQGqJGEGxeG1AupAmQGTC/7+AMznBpceowFWWk7+OjwC+O504QCMZHcDG5AvAhEbDwM6pNMA1uJjAXiz9PwfTIMD/1NC/pd7Rv2YEG0Htjp8/Kf5kwTP2gsCd90VACqNxwNCNGD+4MRY/AewkQAucGkEeYDlAIHYZQRTLGEGxGflAx6gOQBidQkCvzR5BO68LwR+LKL+jtJ9At7OvQJrhkMDqoUpBuZtkQFV1AsEjWgLBrPQvPxKQAkFtPm5A0FoMQMgk/8AfUgbBvYr5QNTMk79XzNvAJMAxQKg2Ab7F/eO/qGWHQMZOh0Cwx+BAv1YcQajTbUEhFUdAX77yvamxnMDk8Z7AS/k5v3pPWrtz1VbAntDbwCpYJEEkDCRB5B2YPRHcZsBGno7A3jsLwYU2G0GEFidARQKNQFjEX0Bkx3RB7YmUvkHeIcBapyvBnUsfvxwmg0D0IQpBTcu8QInflcBQ9uc/rMfnP1qJGEFhoRxAuFXqQKApGEEtekNAxXg2wcDkAUCnRxVAX/GNwATPqT3c6zBAKYEZQYi1P8FUnKRAVeChQPuFB8HEqxhB1PcYQHxvc7+wKz5Bjgw/QVFvRcBkAz2+GpM7vii4+EBTZum9XiAIQe+aOUFv2xhB5zgzQGvnvT/4KgBAWeEYQU34b8BJFP1ApUIYQd4UYEDYJSRALno6QD1OGUFzmDDBd1ZewVIMZsEgq1RB0dgRQeSqSkG2ng1ALAJHQCtwsD8v+/jA0c4WQYRmFkFmACrBOnEeQB6RNEAbD+BAveHgQISxjcDh3W5ALghzwJQVBcHs4BZBKSujQJ80FkFjyV3BNc5dwSXhC79Isg5BsnUewIh6lcBk0OZAwscXQeqXjcD7zZhA5WShQCaEmD+qKo6/DxpPQUr0M8GQKgHBarCLQNzqNz2xoyHAVECvQH+5GEGbie9AhZVSQCYa2r8w0oPAXXfxwGkqcsDUO/PAOhWEwCE8Bb+vSXNBz4UfQTGQIb+XxohAJ5krQYv5SUE7xH9AfPtEQZU+fUDpbR9BCtebQLH4GUEP0AXB8LuQwDtliMHeNvVAO8pNQUc2Tb746xlBDwM3wNmBmkA+17zAjeQCQVIKOkH6nMDA/5p9Qdg9/sC7AUxBQfFJQRkYOsEuZ/XA0/F+QYjj80BMDXhAvgEpQJPXS0ArmzlBl/tewMVGGkGRraNANrXvQMs9X0DtzCjB5/WCwMfc08BteBpBmcPWP7qy/8AmuJjAkQLjvdurwMCmzCnBSIAXQXNyQr/pukJAr3WXwF+KnL6LqgdARgxmwVjKjEAspsFA\",\"dtype\":\"float32\",\"order\":\"little\",\"shape\":[1218]}},\"selected\":{\"id\":\"1305\"},\"selection_policy\":{\"id\":\"1304\"}},\"id\":\"1234\",\"type\":\"ColumnDataSource\"},{\"attributes\":{},\"id\":\"1255\",\"type\":\"SaveTool\"},{\"attributes\":{},\"id\":\"1252\",\"type\":\"PanTool\"},{\"attributes\":{},\"id\":\"1236\",\"type\":\"DataRange1d\"},{\"attributes\":{\"overlay\":{\"id\":\"1258\"}},\"id\":\"1254\",\"type\":\"BoxZoomTool\"},{\"attributes\":{},\"id\":\"1253\",\"type\":\"WheelZoomTool\"},{\"attributes\":{},\"id\":\"1249\",\"type\":\"BasicTicker\"},{\"attributes\":{\"active_scroll\":{\"id\":\"1253\"},\"tools\":[{\"id\":\"1252\"},{\"id\":\"1253\"},{\"id\":\"1254\"},{\"id\":\"1255\"},{\"id\":\"1256\"},{\"id\":\"1257\"},{\"id\":\"1272\"}]},\"id\":\"1259\",\"type\":\"Toolbar\"},{\"attributes\":{\"axis\":{\"id\":\"1248\"},\"coordinates\":null,\"dimension\":1,\"group\":null,\"ticker\":null},\"id\":\"1251\",\"type\":\"Grid\"},{\"attributes\":{},\"id\":\"1257\",\"type\":\"HelpTool\"},{\"attributes\":{\"coordinates\":null,\"formatter\":{\"id\":\"1299\"},\"group\":null,\"major_label_policy\":{\"id\":\"1300\"},\"ticker\":{\"id\":\"1249\"}},\"id\":\"1248\",\"type\":\"LinearAxis\"}],\"root_ids\":[\"1235\"]},\"title\":\"Bokeh Application\",\"version\":\"2.4.3\"}};\n",
       "  const render_items = [{\"docid\":\"dedfd005-6bcc-4a84-8961-316640cddedb\",\"root_ids\":[\"1235\"],\"roots\":{\"1235\":\"9a1c6b28-af78-4063-9faf-7f8ca54d8179\"}}];\n",
       "  root.Bokeh.embed.embed_items_notebook(docs_json, render_items);\n",
       "  }\n",
       "  if (root.Bokeh !== undefined) {\n",
       "    embed_document(root);\n",
       "  } else {\n",
       "    let attempts = 0;\n",
       "    const timer = setInterval(function(root) {\n",
       "      if (root.Bokeh !== undefined) {\n",
       "        clearInterval(timer);\n",
       "        embed_document(root);\n",
       "      } else {\n",
       "        attempts++;\n",
       "        if (attempts > 100) {\n",
       "          clearInterval(timer);\n",
       "          console.log(\"Bokeh: ERROR: Unable to run BokehJS code because BokehJS library is missing\");\n",
       "        }\n",
       "      }\n",
       "    }, 10, root)\n",
       "  }\n",
       "})(window);"
      ],
      "application/vnd.bokehjs_exec.v0+json": ""
     },
     "metadata": {
      "application/vnd.bokehjs_exec.v0+json": {
       "id": "1235"
      }
     },
     "output_type": "display_data"
    },
    {
     "data": {
      "text/html": [
       "<div style=\"display: table;\"><div style=\"display: table-row;\"><div style=\"display: table-cell;\"><b title=\"bokeh.plotting.figure.Figure\">Figure</b>(</div><div style=\"display: table-cell;\">id&nbsp;=&nbsp;'1235', <span id=\"1363\" style=\"cursor: pointer;\">&hellip;)</span></div></div><div class=\"1362\" style=\"display: none;\"><div style=\"display: table-cell;\"></div><div style=\"display: table-cell;\">above&nbsp;=&nbsp;[],</div></div><div class=\"1362\" style=\"display: none;\"><div style=\"display: table-cell;\"></div><div style=\"display: table-cell;\">align&nbsp;=&nbsp;'start',</div></div><div class=\"1362\" style=\"display: none;\"><div style=\"display: table-cell;\"></div><div style=\"display: table-cell;\">aspect_ratio&nbsp;=&nbsp;None,</div></div><div class=\"1362\" style=\"display: none;\"><div style=\"display: table-cell;\"></div><div style=\"display: table-cell;\">aspect_scale&nbsp;=&nbsp;1,</div></div><div class=\"1362\" style=\"display: none;\"><div style=\"display: table-cell;\"></div><div style=\"display: table-cell;\">background&nbsp;=&nbsp;None,</div></div><div class=\"1362\" style=\"display: none;\"><div style=\"display: table-cell;\"></div><div style=\"display: table-cell;\">background_fill_alpha&nbsp;=&nbsp;1.0,</div></div><div class=\"1362\" style=\"display: none;\"><div style=\"display: table-cell;\"></div><div style=\"display: table-cell;\">background_fill_color&nbsp;=&nbsp;'#ffffff',</div></div><div class=\"1362\" style=\"display: none;\"><div style=\"display: table-cell;\"></div><div style=\"display: table-cell;\">below&nbsp;=&nbsp;[LinearAxis(id='1244', ...)],</div></div><div class=\"1362\" style=\"display: none;\"><div style=\"display: table-cell;\"></div><div style=\"display: table-cell;\">border_fill_alpha&nbsp;=&nbsp;1.0,</div></div><div class=\"1362\" style=\"display: none;\"><div style=\"display: table-cell;\"></div><div style=\"display: table-cell;\">border_fill_color&nbsp;=&nbsp;'#ffffff',</div></div><div class=\"1362\" style=\"display: none;\"><div style=\"display: table-cell;\"></div><div style=\"display: table-cell;\">center&nbsp;=&nbsp;[Grid(id='1247', ...), Grid(id='1251', ...)],</div></div><div class=\"1362\" style=\"display: none;\"><div style=\"display: table-cell;\"></div><div style=\"display: table-cell;\">css_classes&nbsp;=&nbsp;[],</div></div><div class=\"1362\" style=\"display: none;\"><div style=\"display: table-cell;\"></div><div style=\"display: table-cell;\">disabled&nbsp;=&nbsp;False,</div></div><div class=\"1362\" style=\"display: none;\"><div style=\"display: table-cell;\"></div><div style=\"display: table-cell;\">extra_x_ranges&nbsp;=&nbsp;{},</div></div><div class=\"1362\" style=\"display: none;\"><div style=\"display: table-cell;\"></div><div style=\"display: table-cell;\">extra_x_scales&nbsp;=&nbsp;{},</div></div><div class=\"1362\" style=\"display: none;\"><div style=\"display: table-cell;\"></div><div style=\"display: table-cell;\">extra_y_ranges&nbsp;=&nbsp;{},</div></div><div class=\"1362\" style=\"display: none;\"><div style=\"display: table-cell;\"></div><div style=\"display: table-cell;\">extra_y_scales&nbsp;=&nbsp;{},</div></div><div class=\"1362\" style=\"display: none;\"><div style=\"display: table-cell;\"></div><div style=\"display: table-cell;\">frame_height&nbsp;=&nbsp;None,</div></div><div class=\"1362\" style=\"display: none;\"><div style=\"display: table-cell;\"></div><div style=\"display: table-cell;\">frame_width&nbsp;=&nbsp;None,</div></div><div class=\"1362\" style=\"display: none;\"><div style=\"display: table-cell;\"></div><div style=\"display: table-cell;\">height&nbsp;=&nbsp;400,</div></div><div class=\"1362\" style=\"display: none;\"><div style=\"display: table-cell;\"></div><div style=\"display: table-cell;\">height_policy&nbsp;=&nbsp;'auto',</div></div><div class=\"1362\" style=\"display: none;\"><div style=\"display: table-cell;\"></div><div style=\"display: table-cell;\">hidpi&nbsp;=&nbsp;True,</div></div><div class=\"1362\" style=\"display: none;\"><div style=\"display: table-cell;\"></div><div style=\"display: table-cell;\">inner_height&nbsp;=&nbsp;0,</div></div><div class=\"1362\" style=\"display: none;\"><div style=\"display: table-cell;\"></div><div style=\"display: table-cell;\">inner_width&nbsp;=&nbsp;0,</div></div><div class=\"1362\" style=\"display: none;\"><div style=\"display: table-cell;\"></div><div style=\"display: table-cell;\">js_event_callbacks&nbsp;=&nbsp;{},</div></div><div class=\"1362\" style=\"display: none;\"><div style=\"display: table-cell;\"></div><div style=\"display: table-cell;\">js_property_callbacks&nbsp;=&nbsp;{},</div></div><div class=\"1362\" style=\"display: none;\"><div style=\"display: table-cell;\"></div><div style=\"display: table-cell;\">left&nbsp;=&nbsp;[LinearAxis(id='1248', ...)],</div></div><div class=\"1362\" style=\"display: none;\"><div style=\"display: table-cell;\"></div><div style=\"display: table-cell;\">lod_factor&nbsp;=&nbsp;10,</div></div><div class=\"1362\" style=\"display: none;\"><div style=\"display: table-cell;\"></div><div style=\"display: table-cell;\">lod_interval&nbsp;=&nbsp;300,</div></div><div class=\"1362\" style=\"display: none;\"><div style=\"display: table-cell;\"></div><div style=\"display: table-cell;\">lod_threshold&nbsp;=&nbsp;2000,</div></div><div class=\"1362\" style=\"display: none;\"><div style=\"display: table-cell;\"></div><div style=\"display: table-cell;\">lod_timeout&nbsp;=&nbsp;500,</div></div><div class=\"1362\" style=\"display: none;\"><div style=\"display: table-cell;\"></div><div style=\"display: table-cell;\">margin&nbsp;=&nbsp;(0, 0, 0, 0),</div></div><div class=\"1362\" style=\"display: none;\"><div style=\"display: table-cell;\"></div><div style=\"display: table-cell;\">match_aspect&nbsp;=&nbsp;False,</div></div><div class=\"1362\" style=\"display: none;\"><div style=\"display: table-cell;\"></div><div style=\"display: table-cell;\">max_height&nbsp;=&nbsp;None,</div></div><div class=\"1362\" style=\"display: none;\"><div style=\"display: table-cell;\"></div><div style=\"display: table-cell;\">max_width&nbsp;=&nbsp;None,</div></div><div class=\"1362\" style=\"display: none;\"><div style=\"display: table-cell;\"></div><div style=\"display: table-cell;\">min_border&nbsp;=&nbsp;5,</div></div><div class=\"1362\" style=\"display: none;\"><div style=\"display: table-cell;\"></div><div style=\"display: table-cell;\">min_border_bottom&nbsp;=&nbsp;None,</div></div><div class=\"1362\" style=\"display: none;\"><div style=\"display: table-cell;\"></div><div style=\"display: table-cell;\">min_border_left&nbsp;=&nbsp;None,</div></div><div class=\"1362\" style=\"display: none;\"><div style=\"display: table-cell;\"></div><div style=\"display: table-cell;\">min_border_right&nbsp;=&nbsp;None,</div></div><div class=\"1362\" style=\"display: none;\"><div style=\"display: table-cell;\"></div><div style=\"display: table-cell;\">min_border_top&nbsp;=&nbsp;None,</div></div><div class=\"1362\" style=\"display: none;\"><div style=\"display: table-cell;\"></div><div style=\"display: table-cell;\">min_height&nbsp;=&nbsp;None,</div></div><div class=\"1362\" style=\"display: none;\"><div style=\"display: table-cell;\"></div><div style=\"display: table-cell;\">min_width&nbsp;=&nbsp;None,</div></div><div class=\"1362\" style=\"display: none;\"><div style=\"display: table-cell;\"></div><div style=\"display: table-cell;\">name&nbsp;=&nbsp;None,</div></div><div class=\"1362\" style=\"display: none;\"><div style=\"display: table-cell;\"></div><div style=\"display: table-cell;\">outer_height&nbsp;=&nbsp;0,</div></div><div class=\"1362\" style=\"display: none;\"><div style=\"display: table-cell;\"></div><div style=\"display: table-cell;\">outer_width&nbsp;=&nbsp;0,</div></div><div class=\"1362\" style=\"display: none;\"><div style=\"display: table-cell;\"></div><div style=\"display: table-cell;\">outline_line_alpha&nbsp;=&nbsp;1.0,</div></div><div class=\"1362\" style=\"display: none;\"><div style=\"display: table-cell;\"></div><div style=\"display: table-cell;\">outline_line_cap&nbsp;=&nbsp;'butt',</div></div><div class=\"1362\" style=\"display: none;\"><div style=\"display: table-cell;\"></div><div style=\"display: table-cell;\">outline_line_color&nbsp;=&nbsp;'#e5e5e5',</div></div><div class=\"1362\" style=\"display: none;\"><div style=\"display: table-cell;\"></div><div style=\"display: table-cell;\">outline_line_dash&nbsp;=&nbsp;[],</div></div><div class=\"1362\" style=\"display: none;\"><div style=\"display: table-cell;\"></div><div style=\"display: table-cell;\">outline_line_dash_offset&nbsp;=&nbsp;0,</div></div><div class=\"1362\" style=\"display: none;\"><div style=\"display: table-cell;\"></div><div style=\"display: table-cell;\">outline_line_join&nbsp;=&nbsp;'bevel',</div></div><div class=\"1362\" style=\"display: none;\"><div style=\"display: table-cell;\"></div><div style=\"display: table-cell;\">outline_line_width&nbsp;=&nbsp;1,</div></div><div class=\"1362\" style=\"display: none;\"><div style=\"display: table-cell;\"></div><div style=\"display: table-cell;\">output_backend&nbsp;=&nbsp;'canvas',</div></div><div class=\"1362\" style=\"display: none;\"><div style=\"display: table-cell;\"></div><div style=\"display: table-cell;\">renderers&nbsp;=&nbsp;[GlyphRenderer(id='1270', ...)],</div></div><div class=\"1362\" style=\"display: none;\"><div style=\"display: table-cell;\"></div><div style=\"display: table-cell;\">reset_policy&nbsp;=&nbsp;'standard',</div></div><div class=\"1362\" style=\"display: none;\"><div style=\"display: table-cell;\"></div><div style=\"display: table-cell;\">right&nbsp;=&nbsp;[],</div></div><div class=\"1362\" style=\"display: none;\"><div style=\"display: table-cell;\"></div><div style=\"display: table-cell;\">sizing_mode&nbsp;=&nbsp;None,</div></div><div class=\"1362\" style=\"display: none;\"><div style=\"display: table-cell;\"></div><div style=\"display: table-cell;\">subscribed_events&nbsp;=&nbsp;[],</div></div><div class=\"1362\" style=\"display: none;\"><div style=\"display: table-cell;\"></div><div style=\"display: table-cell;\">syncable&nbsp;=&nbsp;True,</div></div><div class=\"1362\" style=\"display: none;\"><div style=\"display: table-cell;\"></div><div style=\"display: table-cell;\">tags&nbsp;=&nbsp;[],</div></div><div class=\"1362\" style=\"display: none;\"><div style=\"display: table-cell;\"></div><div style=\"display: table-cell;\">title&nbsp;=&nbsp;Title(id='1296', ...),</div></div><div class=\"1362\" style=\"display: none;\"><div style=\"display: table-cell;\"></div><div style=\"display: table-cell;\">title_location&nbsp;=&nbsp;'above',</div></div><div class=\"1362\" style=\"display: none;\"><div style=\"display: table-cell;\"></div><div style=\"display: table-cell;\">toolbar&nbsp;=&nbsp;Toolbar(id='1259', ...),</div></div><div class=\"1362\" style=\"display: none;\"><div style=\"display: table-cell;\"></div><div style=\"display: table-cell;\">toolbar_location&nbsp;=&nbsp;'right',</div></div><div class=\"1362\" style=\"display: none;\"><div style=\"display: table-cell;\"></div><div style=\"display: table-cell;\">toolbar_sticky&nbsp;=&nbsp;True,</div></div><div class=\"1362\" style=\"display: none;\"><div style=\"display: table-cell;\"></div><div style=\"display: table-cell;\">visible&nbsp;=&nbsp;True,</div></div><div class=\"1362\" style=\"display: none;\"><div style=\"display: table-cell;\"></div><div style=\"display: table-cell;\">width&nbsp;=&nbsp;600,</div></div><div class=\"1362\" style=\"display: none;\"><div style=\"display: table-cell;\"></div><div style=\"display: table-cell;\">width_policy&nbsp;=&nbsp;'auto',</div></div><div class=\"1362\" style=\"display: none;\"><div style=\"display: table-cell;\"></div><div style=\"display: table-cell;\">x_range&nbsp;=&nbsp;DataRange1d(id='1236', ...),</div></div><div class=\"1362\" style=\"display: none;\"><div style=\"display: table-cell;\"></div><div style=\"display: table-cell;\">x_scale&nbsp;=&nbsp;LinearScale(id='1240', ...),</div></div><div class=\"1362\" style=\"display: none;\"><div style=\"display: table-cell;\"></div><div style=\"display: table-cell;\">y_range&nbsp;=&nbsp;DataRange1d(id='1238', ...),</div></div><div class=\"1362\" style=\"display: none;\"><div style=\"display: table-cell;\"></div><div style=\"display: table-cell;\">y_scale&nbsp;=&nbsp;LinearScale(id='1242', ...))</div></div></div>\n",
       "<script>\n",
       "(function() {\n",
       "  let expanded = false;\n",
       "  const ellipsis = document.getElementById(\"1363\");\n",
       "  ellipsis.addEventListener(\"click\", function() {\n",
       "    const rows = document.getElementsByClassName(\"1362\");\n",
       "    for (let i = 0; i < rows.length; i++) {\n",
       "      const el = rows[i];\n",
       "      el.style.display = expanded ? \"none\" : \"table-row\";\n",
       "    }\n",
       "    ellipsis.innerHTML = expanded ? \"&hellip;)\" : \"&lsaquo;&lsaquo;&lsaquo;\";\n",
       "    expanded = !expanded;\n",
       "  });\n",
       "})();\n",
       "</script>\n"
      ],
      "text/plain": [
       "Figure(id='1235', ...)"
      ]
     },
     "execution_count": 68,
     "metadata": {},
     "output_type": "execute_result"
    }
   ],
   "source": [
    "draw_vectors(phrase_vectors_2d[:, 0], phrase_vectors_2d[:, 1],\n",
    "             phrase=[phrase[:50] for phrase in chosen_phrases],\n",
    "             radius=20,)"
   ]
  },
  {
   "cell_type": "code",
   "execution_count": 69,
   "id": "bd93c706",
   "metadata": {},
   "outputs": [],
   "source": [
    "chosen_phrases = data.w_diagnosis_mkb\n",
    "\n",
    "# compute vectors for chosen phrases and turn them to numpy array\n",
    "phrase_vectors = np.asarray([get_phrase_embedding(x) for x in chosen_phrases]) "
   ]
  },
  {
   "cell_type": "code",
   "execution_count": 70,
   "id": "df8cd896",
   "metadata": {},
   "outputs": [],
   "source": [
    "phrase_vectors_2d = umap.UMAP(n_neighbors=3).fit_transform(phrase_vectors) # преобразовываем"
   ]
  },
  {
   "cell_type": "code",
   "execution_count": 71,
   "id": "b7b37b22",
   "metadata": {},
   "outputs": [
    {
     "data": {
      "text/plain": [
       "array([[ 7.922477 , 17.979599 ],\n",
       "       [-7.3559923, -8.23528  ],\n",
       "       [-7.3431487, -8.248968 ],\n",
       "       ...,\n",
       "       [ 8.110619 , -4.412619 ],\n",
       "       [ 8.129948 , -4.3946247],\n",
       "       [14.630487 ,  5.1177793]], dtype=float32)"
      ]
     },
     "execution_count": 71,
     "metadata": {},
     "output_type": "execute_result"
    }
   ],
   "source": [
    "phrase_vectors_2d"
   ]
  },
  {
   "cell_type": "code",
   "execution_count": 72,
   "id": "b3322037",
   "metadata": {},
   "outputs": [],
   "source": [
    "naming = [str(x)+'_embedding' for x in range(2)]"
   ]
  },
  {
   "cell_type": "code",
   "execution_count": 73,
   "id": "baf3bd07",
   "metadata": {},
   "outputs": [
    {
     "data": {
      "text/html": [
       "<div>\n",
       "<style scoped>\n",
       "    .dataframe tbody tr th:only-of-type {\n",
       "        vertical-align: middle;\n",
       "    }\n",
       "\n",
       "    .dataframe tbody tr th {\n",
       "        vertical-align: top;\n",
       "    }\n",
       "\n",
       "    .dataframe thead th {\n",
       "        text-align: right;\n",
       "    }\n",
       "</style>\n",
       "<table border=\"1\" class=\"dataframe\">\n",
       "  <thead>\n",
       "    <tr style=\"text-align: right;\">\n",
       "      <th></th>\n",
       "      <th>0_embedding</th>\n",
       "      <th>1_embedding</th>\n",
       "    </tr>\n",
       "  </thead>\n",
       "  <tbody>\n",
       "    <tr>\n",
       "      <th>0</th>\n",
       "      <td>7.922477</td>\n",
       "      <td>17.979599</td>\n",
       "    </tr>\n",
       "    <tr>\n",
       "      <th>1</th>\n",
       "      <td>-7.355992</td>\n",
       "      <td>-8.235280</td>\n",
       "    </tr>\n",
       "    <tr>\n",
       "      <th>2</th>\n",
       "      <td>-7.343149</td>\n",
       "      <td>-8.248968</td>\n",
       "    </tr>\n",
       "    <tr>\n",
       "      <th>3</th>\n",
       "      <td>-1.136464</td>\n",
       "      <td>4.771704</td>\n",
       "    </tr>\n",
       "    <tr>\n",
       "      <th>4</th>\n",
       "      <td>-9.615719</td>\n",
       "      <td>4.217209</td>\n",
       "    </tr>\n",
       "    <tr>\n",
       "      <th>...</th>\n",
       "      <td>...</td>\n",
       "      <td>...</td>\n",
       "    </tr>\n",
       "    <tr>\n",
       "      <th>2430</th>\n",
       "      <td>12.890459</td>\n",
       "      <td>-7.778681</td>\n",
       "    </tr>\n",
       "    <tr>\n",
       "      <th>2431</th>\n",
       "      <td>12.875041</td>\n",
       "      <td>-7.763278</td>\n",
       "    </tr>\n",
       "    <tr>\n",
       "      <th>2432</th>\n",
       "      <td>8.110619</td>\n",
       "      <td>-4.412619</td>\n",
       "    </tr>\n",
       "    <tr>\n",
       "      <th>2433</th>\n",
       "      <td>8.129948</td>\n",
       "      <td>-4.394625</td>\n",
       "    </tr>\n",
       "    <tr>\n",
       "      <th>2434</th>\n",
       "      <td>14.630487</td>\n",
       "      <td>5.117779</td>\n",
       "    </tr>\n",
       "  </tbody>\n",
       "</table>\n",
       "<p>2435 rows × 2 columns</p>\n",
       "</div>"
      ],
      "text/plain": [
       "      0_embedding  1_embedding\n",
       "0        7.922477    17.979599\n",
       "1       -7.355992    -8.235280\n",
       "2       -7.343149    -8.248968\n",
       "3       -1.136464     4.771704\n",
       "4       -9.615719     4.217209\n",
       "...           ...          ...\n",
       "2430    12.890459    -7.778681\n",
       "2431    12.875041    -7.763278\n",
       "2432     8.110619    -4.412619\n",
       "2433     8.129948    -4.394625\n",
       "2434    14.630487     5.117779\n",
       "\n",
       "[2435 rows x 2 columns]"
      ]
     },
     "execution_count": 73,
     "metadata": {},
     "output_type": "execute_result"
    }
   ],
   "source": [
    "pd.DataFrame(phrase_vectors_2d, columns= naming)"
   ]
  },
  {
   "cell_type": "code",
   "execution_count": 74,
   "id": "74d7a853",
   "metadata": {},
   "outputs": [],
   "source": [
    "data_phrase_embedding = pd.DataFrame(phrase_vectors_2d,  columns= naming)"
   ]
  },
  {
   "cell_type": "code",
   "execution_count": 157,
   "id": "e3d42143",
   "metadata": {},
   "outputs": [],
   "source": [
    "dataframe = pd.merge(data, data_phrase_embedding, left_index=True, right_index=True)"
   ]
  },
  {
   "cell_type": "code",
   "execution_count": 158,
   "id": "10e73bd1",
   "metadata": {},
   "outputs": [
    {
     "data": {
      "text/plain": [
       "'donor_sperm'"
      ]
     },
     "execution_count": 158,
     "metadata": {},
     "output_type": "execute_result"
    }
   ],
   "source": [
    "dataframe.columns[31]"
   ]
  },
  {
   "cell_type": "code",
   "execution_count": 159,
   "id": "310beb78",
   "metadata": {},
   "outputs": [
    {
     "data": {
      "text/plain": [
       "Index(['id', 'age', 'w_diagnosis_mkb', 'duration_of_infertility',\n",
       "       'egg_collection_day_time', 'date_of_embryo_transfer',\n",
       "       'number_of_eco-tries', 'w_height', 'w_weight', 'w_bmi', 'protocol',\n",
       "       'gonadotropins', 'starting_dose ', 'trigger',\n",
       "       'duration_of_ovarian_stimulation ', 'cycle_day_puncture',\n",
       "       'cycle_day_transfer', 'punctuated', 'flushed', 'num_oocytes',\n",
       "       'mature_oocytes', 'endometrial_thickness_mm', 'embryologist',\n",
       "       'num_of_cultivation_hours', 'embryo_biopsy', 'method_embryo_biopsy',\n",
       "       'ECO', 'sperm_injection', 'own_frozen_oocytes', 'crio_donor_oocytes',\n",
       "       'fresh_donor_oocytes', 'donor_sperm', 'donor_embryos_after_testing',\n",
       "       'donor_embryos_without_testing', 'crio_sperm', 'fresh_sperm',\n",
       "       'crio_sperm_obtained_surgery', 'fresh_sperm_obtained_surgery',\n",
       "       'thawed_embryos', 'num_embryos_transferred', 'ejaculate_volume_ml',\n",
       "       'concen_sperm_cells', 'mobility_of_sperm_%', 'anomal_sperm_%',\n",
       "       'normal_sperm_by_embryologist', 'normal_sperm_by_biologists', 'gr1',\n",
       "       'gr1_2', 'gr2', 'gr2_3', 'gr3', 'num_crio_embrions',\n",
       "       'refreezing_embrions', 'embryo_number', 'surrogate_mother',\n",
       "       'outcome_treatment', 'num_of_fetuses', 'm_age', 'МАР_lgG', 'm_height',\n",
       "       'm_weight', 'm_alcho', 'm_varicocele', 'm_STDs', 'm_cryptorchidism',\n",
       "       'm_prostatitis', 'health_insurance', 'MAP_test', 'm_id',\n",
       "       'protocol_before_transfer', 'MEDECINS_ID', 'timeliness_of_delivery',\n",
       "       'fetal_sex', 'fetal_height', 'fetal_weight',\n",
       "       'localization_of_pregnancy', 'due_date', 'age_surrogate_mother',\n",
       "       'complications_during_pregnancy', 'doctor_briege', 'doctor_vasilyeva',\n",
       "       'doctor_denisova', 'doctor_isacova', 'doctor_kirsanov',\n",
       "       'doctor_menshikova', 'doctor_radionova', 'doctor_savina',\n",
       "       'doctor_samoilovich', 'stimulation_client', 'stimulation_natural_cycle',\n",
       "       'stimulation_hormone_replacement_therapy',\n",
       "       'stimulation_with_ovulation_induction',\n",
       "       'procedure_name_transfer_defrosted_embryos', 'procedure_name_eco/icsi',\n",
       "       'type_of_infertility', 'complications', 'target', 'male_factor'],\n",
       "      dtype='object')"
      ]
     },
     "execution_count": 159,
     "metadata": {},
     "output_type": "execute_result"
    }
   ],
   "source": [
    "dataframe.columns[:98]"
   ]
  },
  {
   "cell_type": "code",
   "execution_count": 160,
   "id": "7c1d1596",
   "metadata": {},
   "outputs": [],
   "source": [
    "list_of_unnull = []\n",
    "list_of_null = []"
   ]
  },
  {
   "cell_type": "code",
   "execution_count": 161,
   "id": "f6291cf6",
   "metadata": {},
   "outputs": [],
   "source": [
    "for name in dataframe.columns:\n",
    "    if getattr(dataframe, name).isnull().any(axis=0) == False:\n",
    "        list_of_unnull.append(name)\n",
    "    else:\n",
    "        list_of_null.append(name)"
   ]
  },
  {
   "cell_type": "code",
   "execution_count": 162,
   "id": "e3509426",
   "metadata": {},
   "outputs": [
    {
     "name": "stdout",
     "output_type": "stream",
     "text": [
      "<class 'pandas.core.frame.DataFrame'>\n",
      "Int64Index: 2424 entries, 0 to 2434\n",
      "Data columns (total 41 columns):\n",
      " #   Column                            Non-Null Count  Dtype  \n",
      "---  ------                            --------------  -----  \n",
      " 0   duration_of_infertility           1810 non-null   float64\n",
      " 1   egg_collection_day_time           2383 non-null   float64\n",
      " 2   number_of_eco-tries               2363 non-null   float64\n",
      " 3   w_weight                          2415 non-null   float64\n",
      " 4   protocol                          2250 non-null   object \n",
      " 5   gonadotropins                     2353 non-null   object \n",
      " 6   starting_dose                     2353 non-null   object \n",
      " 7   trigger                           2265 non-null   object \n",
      " 8   duration_of_ovarian_stimulation   2253 non-null   float64\n",
      " 9   cycle_day_puncture                2376 non-null   float64\n",
      " 10  cycle_day_transfer                2357 non-null   float64\n",
      " 11  punctuated                        2219 non-null   float64\n",
      " 12  flushed                           885 non-null    float64\n",
      " 13  num_oocytes                       2382 non-null   float64\n",
      " 14  endometrial_thickness_mm          2263 non-null   float64\n",
      " 15  embryologist                      2410 non-null   object \n",
      " 16  method_embryo_biopsy              397 non-null    object \n",
      " 17  crio_sperm_obtained_surgery       6 non-null      object \n",
      " 18  fresh_sperm_obtained_surgery      44 non-null     object \n",
      " 19  ejaculate_volume_ml               2200 non-null   object \n",
      " 20  concen_sperm_cells                2203 non-null   object \n",
      " 21  mobility_of_sperm_%               2181 non-null   object \n",
      " 22  anomal_sperm_%                    2114 non-null   float64\n",
      " 23  normal_sperm_by_biologists        972 non-null    float64\n",
      " 24  outcome_treatment                 2416 non-null   object \n",
      " 25  num_of_fetuses                    1090 non-null   float64\n",
      " 26  m_age                             2310 non-null   float64\n",
      " 27  МАР_lgG                           9 non-null      object \n",
      " 28  m_height                          524 non-null    float64\n",
      " 29  m_weight                          519 non-null    float64\n",
      " 30  health_insurance                  1533 non-null   object \n",
      " 31  MAP_test                          822 non-null    object \n",
      " 32  m_id                              2312 non-null   object \n",
      " 33  protocol_before_transfer          2127 non-null   object \n",
      " 34  timeliness_of_delivery            625 non-null    object \n",
      " 35  fetal_sex                         623 non-null    object \n",
      " 36  fetal_height                      551 non-null    float64\n",
      " 37  fetal_weight                      567 non-null    float64\n",
      " 38  localization_of_pregnancy         230 non-null    object \n",
      " 39  due_date                          621 non-null    object \n",
      " 40  complications_during_pregnancy    38 non-null     object \n",
      "dtypes: float64(19), object(22)\n",
      "memory usage: 795.4+ KB\n"
     ]
    }
   ],
   "source": [
    "dataframe[list_of_null].info()"
   ]
  },
  {
   "cell_type": "code",
   "execution_count": 163,
   "id": "3f1c4e75",
   "metadata": {},
   "outputs": [
    {
     "name": "stdout",
     "output_type": "stream",
     "text": [
      "<class 'pandas.core.frame.DataFrame'>\n",
      "Int64Index: 2424 entries, 0 to 2434\n",
      "Data columns (total 59 columns):\n",
      " #   Column                                     Non-Null Count  Dtype  \n",
      "---  ------                                     --------------  -----  \n",
      " 0   id                                         2424 non-null   int64  \n",
      " 1   age                                        2424 non-null   int64  \n",
      " 2   w_diagnosis_mkb                            2424 non-null   object \n",
      " 3   date_of_embryo_transfer                    2424 non-null   int64  \n",
      " 4   w_height                                   2424 non-null   int64  \n",
      " 5   w_bmi                                      2424 non-null   float64\n",
      " 6   mature_oocytes                             2424 non-null   int64  \n",
      " 7   num_of_cultivation_hours                   2424 non-null   int64  \n",
      " 8   embryo_biopsy                              2424 non-null   int64  \n",
      " 9   ECO                                        2424 non-null   int64  \n",
      " 10  sperm_injection                            2424 non-null   int64  \n",
      " 11  own_frozen_oocytes                         2424 non-null   int64  \n",
      " 12  crio_donor_oocytes                         2424 non-null   int64  \n",
      " 13  fresh_donor_oocytes                        2424 non-null   int64  \n",
      " 14  donor_sperm                                2424 non-null   int64  \n",
      " 15  donor_embryos_after_testing                2424 non-null   int64  \n",
      " 16  donor_embryos_without_testing              2424 non-null   int64  \n",
      " 17  crio_sperm                                 2424 non-null   int64  \n",
      " 18  fresh_sperm                                2424 non-null   int64  \n",
      " 19  thawed_embryos                             2424 non-null   int64  \n",
      " 20  num_embryos_transferred                    2424 non-null   int64  \n",
      " 21  normal_sperm_by_embryologist               2424 non-null   int64  \n",
      " 22  gr1                                        2424 non-null   int64  \n",
      " 23  gr1_2                                      2424 non-null   int64  \n",
      " 24  gr2                                        2424 non-null   int64  \n",
      " 25  gr2_3                                      2424 non-null   int64  \n",
      " 26  gr3                                        2424 non-null   int64  \n",
      " 27  num_crio_embrions                          2424 non-null   int64  \n",
      " 28  refreezing_embrions                        2424 non-null   int64  \n",
      " 29  embryo_number                              2424 non-null   int64  \n",
      " 30  surrogate_mother                           2424 non-null   int64  \n",
      " 31  m_alcho                                    2424 non-null   int64  \n",
      " 32  m_varicocele                               2424 non-null   int64  \n",
      " 33  m_STDs                                     2424 non-null   int64  \n",
      " 34  m_cryptorchidism                           2424 non-null   int64  \n",
      " 35  m_prostatitis                              2424 non-null   int64  \n",
      " 36  MEDECINS_ID                                2424 non-null   int64  \n",
      " 37  age_surrogate_mother                       2424 non-null   int64  \n",
      " 38  doctor_briege                              2424 non-null   int64  \n",
      " 39  doctor_vasilyeva                           2424 non-null   int64  \n",
      " 40  doctor_denisova                            2424 non-null   int64  \n",
      " 41  doctor_isacova                             2424 non-null   int64  \n",
      " 42  doctor_kirsanov                            2424 non-null   int64  \n",
      " 43  doctor_menshikova                          2424 non-null   int64  \n",
      " 44  doctor_radionova                           2424 non-null   int64  \n",
      " 45  doctor_savina                              2424 non-null   int64  \n",
      " 46  doctor_samoilovich                         2424 non-null   int64  \n",
      " 47  stimulation_client                         2424 non-null   int64  \n",
      " 48  stimulation_natural_cycle                  2424 non-null   int64  \n",
      " 49  stimulation_hormone_replacement_therapy    2424 non-null   int64  \n",
      " 50  stimulation_with_ovulation_induction       2424 non-null   int64  \n",
      " 51  procedure_name_transfer_defrosted_embryos  2424 non-null   int64  \n",
      " 52  procedure_name_eco/icsi                    2424 non-null   int64  \n",
      " 53  type_of_infertility                        2424 non-null   int64  \n",
      " 54  complications                              2424 non-null   int64  \n",
      " 55  target                                     2424 non-null   int64  \n",
      " 56  male_factor                                2424 non-null   int64  \n",
      " 57  0_embedding                                2424 non-null   float32\n",
      " 58  1_embedding                                2424 non-null   float32\n",
      "dtypes: float32(2), float64(1), int64(55), object(1)\n",
      "memory usage: 1.1+ MB\n"
     ]
    }
   ],
   "source": [
    "dataframe[list_of_unnull].info()"
   ]
  },
  {
   "cell_type": "code",
   "execution_count": 164,
   "id": "bdb0a952",
   "metadata": {},
   "outputs": [],
   "source": [
    "list_of_unnull.remove('w_diagnosis_mkb')"
   ]
  },
  {
   "cell_type": "code",
   "execution_count": 165,
   "id": "31d0fee2",
   "metadata": {},
   "outputs": [],
   "source": [
    "list_of_unnull.append('egg_collection_day_time')"
   ]
  },
  {
   "cell_type": "code",
   "execution_count": 174,
   "id": "db2460e9",
   "metadata": {},
   "outputs": [],
   "source": [
    "list_of_unnull.append('cycle_day_puncture')\n",
    "list_of_unnull.append('cycle_day_transfer')"
   ]
  },
  {
   "cell_type": "code",
   "execution_count": 199,
   "id": "9ca44f64",
   "metadata": {},
   "outputs": [],
   "source": [
    "X = dataframe[list_of_unnull]"
   ]
  },
  {
   "cell_type": "code",
   "execution_count": 200,
   "id": "ce43f086",
   "metadata": {},
   "outputs": [
    {
     "data": {
      "text/html": [
       "<div>\n",
       "<style scoped>\n",
       "    .dataframe tbody tr th:only-of-type {\n",
       "        vertical-align: middle;\n",
       "    }\n",
       "\n",
       "    .dataframe tbody tr th {\n",
       "        vertical-align: top;\n",
       "    }\n",
       "\n",
       "    .dataframe thead th {\n",
       "        text-align: right;\n",
       "    }\n",
       "</style>\n",
       "<table border=\"1\" class=\"dataframe\">\n",
       "  <thead>\n",
       "    <tr style=\"text-align: right;\">\n",
       "      <th></th>\n",
       "      <th>id</th>\n",
       "      <th>age</th>\n",
       "      <th>date_of_embryo_transfer</th>\n",
       "      <th>w_height</th>\n",
       "      <th>w_bmi</th>\n",
       "      <th>mature_oocytes</th>\n",
       "      <th>num_of_cultivation_hours</th>\n",
       "      <th>embryo_biopsy</th>\n",
       "      <th>ECO</th>\n",
       "      <th>sperm_injection</th>\n",
       "      <th>...</th>\n",
       "      <th>procedure_name_eco/icsi</th>\n",
       "      <th>type_of_infertility</th>\n",
       "      <th>complications</th>\n",
       "      <th>target</th>\n",
       "      <th>male_factor</th>\n",
       "      <th>0_embedding</th>\n",
       "      <th>1_embedding</th>\n",
       "      <th>egg_collection_day_time</th>\n",
       "      <th>cycle_day_puncture</th>\n",
       "      <th>cycle_day_transfer</th>\n",
       "    </tr>\n",
       "  </thead>\n",
       "  <tbody>\n",
       "    <tr>\n",
       "      <th>0</th>\n",
       "      <td>73373</td>\n",
       "      <td>41</td>\n",
       "      <td>1578130142</td>\n",
       "      <td>167</td>\n",
       "      <td>0.00000</td>\n",
       "      <td>1</td>\n",
       "      <td>120</td>\n",
       "      <td>0</td>\n",
       "      <td>1</td>\n",
       "      <td>0</td>\n",
       "      <td>...</td>\n",
       "      <td>1</td>\n",
       "      <td>0</td>\n",
       "      <td>0</td>\n",
       "      <td>1</td>\n",
       "      <td>0</td>\n",
       "      <td>7.922477</td>\n",
       "      <td>17.979599</td>\n",
       "      <td>1.577686e+09</td>\n",
       "      <td>16.0</td>\n",
       "      <td>21.0</td>\n",
       "    </tr>\n",
       "    <tr>\n",
       "      <th>1</th>\n",
       "      <td>90239</td>\n",
       "      <td>29</td>\n",
       "      <td>1578658500</td>\n",
       "      <td>160</td>\n",
       "      <td>31.25000</td>\n",
       "      <td>4</td>\n",
       "      <td>96</td>\n",
       "      <td>0</td>\n",
       "      <td>1</td>\n",
       "      <td>0</td>\n",
       "      <td>...</td>\n",
       "      <td>1</td>\n",
       "      <td>1</td>\n",
       "      <td>0</td>\n",
       "      <td>1</td>\n",
       "      <td>0</td>\n",
       "      <td>-7.355992</td>\n",
       "      <td>-8.235280</td>\n",
       "      <td>1.578294e+09</td>\n",
       "      <td>16.0</td>\n",
       "      <td>20.0</td>\n",
       "    </tr>\n",
       "    <tr>\n",
       "      <th>2</th>\n",
       "      <td>90239</td>\n",
       "      <td>29</td>\n",
       "      <td>1578658500</td>\n",
       "      <td>160</td>\n",
       "      <td>31.25000</td>\n",
       "      <td>4</td>\n",
       "      <td>96</td>\n",
       "      <td>0</td>\n",
       "      <td>1</td>\n",
       "      <td>0</td>\n",
       "      <td>...</td>\n",
       "      <td>1</td>\n",
       "      <td>1</td>\n",
       "      <td>0</td>\n",
       "      <td>1</td>\n",
       "      <td>0</td>\n",
       "      <td>-7.343149</td>\n",
       "      <td>-8.248968</td>\n",
       "      <td>1.578294e+09</td>\n",
       "      <td>16.0</td>\n",
       "      <td>20.0</td>\n",
       "    </tr>\n",
       "    <tr>\n",
       "      <th>3</th>\n",
       "      <td>88248</td>\n",
       "      <td>46</td>\n",
       "      <td>1578916800</td>\n",
       "      <td>149</td>\n",
       "      <td>0.00000</td>\n",
       "      <td>14</td>\n",
       "      <td>120</td>\n",
       "      <td>0</td>\n",
       "      <td>0</td>\n",
       "      <td>1</td>\n",
       "      <td>...</td>\n",
       "      <td>1</td>\n",
       "      <td>2</td>\n",
       "      <td>0</td>\n",
       "      <td>1</td>\n",
       "      <td>0</td>\n",
       "      <td>-1.136464</td>\n",
       "      <td>4.771704</td>\n",
       "      <td>1.578469e+09</td>\n",
       "      <td>15.0</td>\n",
       "      <td>19.0</td>\n",
       "    </tr>\n",
       "    <tr>\n",
       "      <th>4</th>\n",
       "      <td>86497</td>\n",
       "      <td>33</td>\n",
       "      <td>1578907283</td>\n",
       "      <td>168</td>\n",
       "      <td>30.82483</td>\n",
       "      <td>2</td>\n",
       "      <td>96</td>\n",
       "      <td>0</td>\n",
       "      <td>0</td>\n",
       "      <td>1</td>\n",
       "      <td>...</td>\n",
       "      <td>1</td>\n",
       "      <td>2</td>\n",
       "      <td>0</td>\n",
       "      <td>1</td>\n",
       "      <td>0</td>\n",
       "      <td>-9.615719</td>\n",
       "      <td>4.217209</td>\n",
       "      <td>1.578553e+09</td>\n",
       "      <td>14.0</td>\n",
       "      <td>18.0</td>\n",
       "    </tr>\n",
       "  </tbody>\n",
       "</table>\n",
       "<p>5 rows × 61 columns</p>\n",
       "</div>"
      ],
      "text/plain": [
       "      id  age  date_of_embryo_transfer  w_height     w_bmi  mature_oocytes  \\\n",
       "0  73373   41               1578130142       167   0.00000               1   \n",
       "1  90239   29               1578658500       160  31.25000               4   \n",
       "2  90239   29               1578658500       160  31.25000               4   \n",
       "3  88248   46               1578916800       149   0.00000              14   \n",
       "4  86497   33               1578907283       168  30.82483               2   \n",
       "\n",
       "   num_of_cultivation_hours  embryo_biopsy  ECO  sperm_injection  ...  \\\n",
       "0                       120              0    1                0  ...   \n",
       "1                        96              0    1                0  ...   \n",
       "2                        96              0    1                0  ...   \n",
       "3                       120              0    0                1  ...   \n",
       "4                        96              0    0                1  ...   \n",
       "\n",
       "   procedure_name_eco/icsi  type_of_infertility  complications  target  \\\n",
       "0                        1                    0              0       1   \n",
       "1                        1                    1              0       1   \n",
       "2                        1                    1              0       1   \n",
       "3                        1                    2              0       1   \n",
       "4                        1                    2              0       1   \n",
       "\n",
       "   male_factor  0_embedding  1_embedding  egg_collection_day_time  \\\n",
       "0            0     7.922477    17.979599             1.577686e+09   \n",
       "1            0    -7.355992    -8.235280             1.578294e+09   \n",
       "2            0    -7.343149    -8.248968             1.578294e+09   \n",
       "3            0    -1.136464     4.771704             1.578469e+09   \n",
       "4            0    -9.615719     4.217209             1.578553e+09   \n",
       "\n",
       "   cycle_day_puncture  cycle_day_transfer  \n",
       "0                16.0                21.0  \n",
       "1                16.0                20.0  \n",
       "2                16.0                20.0  \n",
       "3                15.0                19.0  \n",
       "4                14.0                18.0  \n",
       "\n",
       "[5 rows x 61 columns]"
      ]
     },
     "execution_count": 200,
     "metadata": {},
     "output_type": "execute_result"
    }
   ],
   "source": [
    "X.head()"
   ]
  },
  {
   "cell_type": "code",
   "execution_count": 201,
   "id": "e6a80977",
   "metadata": {},
   "outputs": [],
   "source": [
    "from sklearn.impute import KNNImputer"
   ]
  },
  {
   "cell_type": "code",
   "execution_count": 202,
   "id": "31f4b59f",
   "metadata": {},
   "outputs": [],
   "source": [
    "imputer = KNNImputer(n_neighbors=5)"
   ]
  },
  {
   "cell_type": "code",
   "execution_count": 203,
   "id": "5c8a2c83",
   "metadata": {},
   "outputs": [],
   "source": [
    "X = pd.DataFrame(imputer.fit_transform(X[list_of_unnull]),columns = X[list_of_unnull].columns)"
   ]
  },
  {
   "cell_type": "code",
   "execution_count": 204,
   "id": "033b846a",
   "metadata": {},
   "outputs": [
    {
     "name": "stdout",
     "output_type": "stream",
     "text": [
      "<class 'pandas.core.frame.DataFrame'>\n",
      "RangeIndex: 2424 entries, 0 to 2423\n",
      "Data columns (total 61 columns):\n",
      " #   Column                                     Non-Null Count  Dtype  \n",
      "---  ------                                     --------------  -----  \n",
      " 0   id                                         2424 non-null   float64\n",
      " 1   age                                        2424 non-null   float64\n",
      " 2   date_of_embryo_transfer                    2424 non-null   float64\n",
      " 3   w_height                                   2424 non-null   float64\n",
      " 4   w_bmi                                      2424 non-null   float64\n",
      " 5   mature_oocytes                             2424 non-null   float64\n",
      " 6   num_of_cultivation_hours                   2424 non-null   float64\n",
      " 7   embryo_biopsy                              2424 non-null   float64\n",
      " 8   ECO                                        2424 non-null   float64\n",
      " 9   sperm_injection                            2424 non-null   float64\n",
      " 10  own_frozen_oocytes                         2424 non-null   float64\n",
      " 11  crio_donor_oocytes                         2424 non-null   float64\n",
      " 12  fresh_donor_oocytes                        2424 non-null   float64\n",
      " 13  donor_sperm                                2424 non-null   float64\n",
      " 14  donor_embryos_after_testing                2424 non-null   float64\n",
      " 15  donor_embryos_without_testing              2424 non-null   float64\n",
      " 16  crio_sperm                                 2424 non-null   float64\n",
      " 17  fresh_sperm                                2424 non-null   float64\n",
      " 18  thawed_embryos                             2424 non-null   float64\n",
      " 19  num_embryos_transferred                    2424 non-null   float64\n",
      " 20  normal_sperm_by_embryologist               2424 non-null   float64\n",
      " 21  gr1                                        2424 non-null   float64\n",
      " 22  gr1_2                                      2424 non-null   float64\n",
      " 23  gr2                                        2424 non-null   float64\n",
      " 24  gr2_3                                      2424 non-null   float64\n",
      " 25  gr3                                        2424 non-null   float64\n",
      " 26  num_crio_embrions                          2424 non-null   float64\n",
      " 27  refreezing_embrions                        2424 non-null   float64\n",
      " 28  embryo_number                              2424 non-null   float64\n",
      " 29  surrogate_mother                           2424 non-null   float64\n",
      " 30  m_alcho                                    2424 non-null   float64\n",
      " 31  m_varicocele                               2424 non-null   float64\n",
      " 32  m_STDs                                     2424 non-null   float64\n",
      " 33  m_cryptorchidism                           2424 non-null   float64\n",
      " 34  m_prostatitis                              2424 non-null   float64\n",
      " 35  MEDECINS_ID                                2424 non-null   float64\n",
      " 36  age_surrogate_mother                       2424 non-null   float64\n",
      " 37  doctor_briege                              2424 non-null   float64\n",
      " 38  doctor_vasilyeva                           2424 non-null   float64\n",
      " 39  doctor_denisova                            2424 non-null   float64\n",
      " 40  doctor_isacova                             2424 non-null   float64\n",
      " 41  doctor_kirsanov                            2424 non-null   float64\n",
      " 42  doctor_menshikova                          2424 non-null   float64\n",
      " 43  doctor_radionova                           2424 non-null   float64\n",
      " 44  doctor_savina                              2424 non-null   float64\n",
      " 45  doctor_samoilovich                         2424 non-null   float64\n",
      " 46  stimulation_client                         2424 non-null   float64\n",
      " 47  stimulation_natural_cycle                  2424 non-null   float64\n",
      " 48  stimulation_hormone_replacement_therapy    2424 non-null   float64\n",
      " 49  stimulation_with_ovulation_induction       2424 non-null   float64\n",
      " 50  procedure_name_transfer_defrosted_embryos  2424 non-null   float64\n",
      " 51  procedure_name_eco/icsi                    2424 non-null   float64\n",
      " 52  type_of_infertility                        2424 non-null   float64\n",
      " 53  complications                              2424 non-null   float64\n",
      " 54  target                                     2424 non-null   float64\n",
      " 55  male_factor                                2424 non-null   float64\n",
      " 56  0_embedding                                2424 non-null   float64\n",
      " 57  1_embedding                                2424 non-null   float64\n",
      " 58  egg_collection_day_time                    2424 non-null   float64\n",
      " 59  cycle_day_puncture                         2424 non-null   float64\n",
      " 60  cycle_day_transfer                         2424 non-null   float64\n",
      "dtypes: float64(61)\n",
      "memory usage: 1.1 MB\n"
     ]
    }
   ],
   "source": [
    "X.info()"
   ]
  },
  {
   "cell_type": "code",
   "execution_count": 205,
   "id": "d8d6d899",
   "metadata": {},
   "outputs": [],
   "source": [
    "X['egg_collection_embryo_transfer'] = X['date_of_embryo_transfer'] - X['egg_collection_day_time']"
   ]
  },
  {
   "cell_type": "code",
   "execution_count": 206,
   "id": "fd0f98d6",
   "metadata": {},
   "outputs": [
    {
     "data": {
      "text/html": [
       "<div>\n",
       "<style scoped>\n",
       "    .dataframe tbody tr th:only-of-type {\n",
       "        vertical-align: middle;\n",
       "    }\n",
       "\n",
       "    .dataframe tbody tr th {\n",
       "        vertical-align: top;\n",
       "    }\n",
       "\n",
       "    .dataframe thead th {\n",
       "        text-align: right;\n",
       "    }\n",
       "</style>\n",
       "<table border=\"1\" class=\"dataframe\">\n",
       "  <thead>\n",
       "    <tr style=\"text-align: right;\">\n",
       "      <th></th>\n",
       "      <th>id</th>\n",
       "      <th>age</th>\n",
       "      <th>date_of_embryo_transfer</th>\n",
       "      <th>w_height</th>\n",
       "      <th>w_bmi</th>\n",
       "      <th>mature_oocytes</th>\n",
       "      <th>num_of_cultivation_hours</th>\n",
       "      <th>embryo_biopsy</th>\n",
       "      <th>ECO</th>\n",
       "      <th>sperm_injection</th>\n",
       "      <th>...</th>\n",
       "      <th>type_of_infertility</th>\n",
       "      <th>complications</th>\n",
       "      <th>target</th>\n",
       "      <th>male_factor</th>\n",
       "      <th>0_embedding</th>\n",
       "      <th>1_embedding</th>\n",
       "      <th>egg_collection_day_time</th>\n",
       "      <th>cycle_day_puncture</th>\n",
       "      <th>cycle_day_transfer</th>\n",
       "      <th>egg_collection_embryo_transfer</th>\n",
       "    </tr>\n",
       "  </thead>\n",
       "  <tbody>\n",
       "    <tr>\n",
       "      <th>0</th>\n",
       "      <td>73373.0</td>\n",
       "      <td>41.0</td>\n",
       "      <td>1.578130e+09</td>\n",
       "      <td>167.0</td>\n",
       "      <td>0.000000</td>\n",
       "      <td>1.0</td>\n",
       "      <td>120.0</td>\n",
       "      <td>0.0</td>\n",
       "      <td>1.0</td>\n",
       "      <td>0.0</td>\n",
       "      <td>...</td>\n",
       "      <td>0.0</td>\n",
       "      <td>0.0</td>\n",
       "      <td>1.0</td>\n",
       "      <td>0.0</td>\n",
       "      <td>7.922477</td>\n",
       "      <td>17.979599</td>\n",
       "      <td>1.577686e+09</td>\n",
       "      <td>16.0</td>\n",
       "      <td>21.0</td>\n",
       "      <td>444542.0</td>\n",
       "    </tr>\n",
       "    <tr>\n",
       "      <th>1</th>\n",
       "      <td>90239.0</td>\n",
       "      <td>29.0</td>\n",
       "      <td>1.578658e+09</td>\n",
       "      <td>160.0</td>\n",
       "      <td>31.250000</td>\n",
       "      <td>4.0</td>\n",
       "      <td>96.0</td>\n",
       "      <td>0.0</td>\n",
       "      <td>1.0</td>\n",
       "      <td>0.0</td>\n",
       "      <td>...</td>\n",
       "      <td>1.0</td>\n",
       "      <td>0.0</td>\n",
       "      <td>1.0</td>\n",
       "      <td>0.0</td>\n",
       "      <td>-7.355992</td>\n",
       "      <td>-8.235280</td>\n",
       "      <td>1.578294e+09</td>\n",
       "      <td>16.0</td>\n",
       "      <td>20.0</td>\n",
       "      <td>364500.0</td>\n",
       "    </tr>\n",
       "    <tr>\n",
       "      <th>2</th>\n",
       "      <td>90239.0</td>\n",
       "      <td>29.0</td>\n",
       "      <td>1.578658e+09</td>\n",
       "      <td>160.0</td>\n",
       "      <td>31.250000</td>\n",
       "      <td>4.0</td>\n",
       "      <td>96.0</td>\n",
       "      <td>0.0</td>\n",
       "      <td>1.0</td>\n",
       "      <td>0.0</td>\n",
       "      <td>...</td>\n",
       "      <td>1.0</td>\n",
       "      <td>0.0</td>\n",
       "      <td>1.0</td>\n",
       "      <td>0.0</td>\n",
       "      <td>-7.343149</td>\n",
       "      <td>-8.248968</td>\n",
       "      <td>1.578294e+09</td>\n",
       "      <td>16.0</td>\n",
       "      <td>20.0</td>\n",
       "      <td>364500.0</td>\n",
       "    </tr>\n",
       "    <tr>\n",
       "      <th>3</th>\n",
       "      <td>88248.0</td>\n",
       "      <td>46.0</td>\n",
       "      <td>1.578917e+09</td>\n",
       "      <td>149.0</td>\n",
       "      <td>0.000000</td>\n",
       "      <td>14.0</td>\n",
       "      <td>120.0</td>\n",
       "      <td>0.0</td>\n",
       "      <td>0.0</td>\n",
       "      <td>1.0</td>\n",
       "      <td>...</td>\n",
       "      <td>2.0</td>\n",
       "      <td>0.0</td>\n",
       "      <td>1.0</td>\n",
       "      <td>0.0</td>\n",
       "      <td>-1.136464</td>\n",
       "      <td>4.771704</td>\n",
       "      <td>1.578469e+09</td>\n",
       "      <td>15.0</td>\n",
       "      <td>19.0</td>\n",
       "      <td>448200.0</td>\n",
       "    </tr>\n",
       "    <tr>\n",
       "      <th>4</th>\n",
       "      <td>86497.0</td>\n",
       "      <td>33.0</td>\n",
       "      <td>1.578907e+09</td>\n",
       "      <td>168.0</td>\n",
       "      <td>30.824830</td>\n",
       "      <td>2.0</td>\n",
       "      <td>96.0</td>\n",
       "      <td>0.0</td>\n",
       "      <td>0.0</td>\n",
       "      <td>1.0</td>\n",
       "      <td>...</td>\n",
       "      <td>2.0</td>\n",
       "      <td>0.0</td>\n",
       "      <td>1.0</td>\n",
       "      <td>0.0</td>\n",
       "      <td>-9.615719</td>\n",
       "      <td>4.217209</td>\n",
       "      <td>1.578553e+09</td>\n",
       "      <td>14.0</td>\n",
       "      <td>18.0</td>\n",
       "      <td>354083.0</td>\n",
       "    </tr>\n",
       "    <tr>\n",
       "      <th>...</th>\n",
       "      <td>...</td>\n",
       "      <td>...</td>\n",
       "      <td>...</td>\n",
       "      <td>...</td>\n",
       "      <td>...</td>\n",
       "      <td>...</td>\n",
       "      <td>...</td>\n",
       "      <td>...</td>\n",
       "      <td>...</td>\n",
       "      <td>...</td>\n",
       "      <td>...</td>\n",
       "      <td>...</td>\n",
       "      <td>...</td>\n",
       "      <td>...</td>\n",
       "      <td>...</td>\n",
       "      <td>...</td>\n",
       "      <td>...</td>\n",
       "      <td>...</td>\n",
       "      <td>...</td>\n",
       "      <td>...</td>\n",
       "      <td>...</td>\n",
       "    </tr>\n",
       "    <tr>\n",
       "      <th>2419</th>\n",
       "      <td>87866.0</td>\n",
       "      <td>34.0</td>\n",
       "      <td>1.624097e+09</td>\n",
       "      <td>172.0</td>\n",
       "      <td>30.421850</td>\n",
       "      <td>18.0</td>\n",
       "      <td>120.0</td>\n",
       "      <td>0.0</td>\n",
       "      <td>1.0</td>\n",
       "      <td>0.0</td>\n",
       "      <td>...</td>\n",
       "      <td>0.0</td>\n",
       "      <td>0.0</td>\n",
       "      <td>1.0</td>\n",
       "      <td>0.0</td>\n",
       "      <td>12.890459</td>\n",
       "      <td>-7.778681</td>\n",
       "      <td>1.617266e+09</td>\n",
       "      <td>18.0</td>\n",
       "      <td>18.0</td>\n",
       "      <td>6831000.0</td>\n",
       "    </tr>\n",
       "    <tr>\n",
       "      <th>2420</th>\n",
       "      <td>93579.0</td>\n",
       "      <td>35.0</td>\n",
       "      <td>1.622799e+09</td>\n",
       "      <td>170.0</td>\n",
       "      <td>18.685121</td>\n",
       "      <td>20.0</td>\n",
       "      <td>120.0</td>\n",
       "      <td>0.0</td>\n",
       "      <td>1.0</td>\n",
       "      <td>0.0</td>\n",
       "      <td>...</td>\n",
       "      <td>2.0</td>\n",
       "      <td>0.0</td>\n",
       "      <td>0.0</td>\n",
       "      <td>0.0</td>\n",
       "      <td>12.875041</td>\n",
       "      <td>-7.763278</td>\n",
       "      <td>1.617608e+09</td>\n",
       "      <td>16.0</td>\n",
       "      <td>21.0</td>\n",
       "      <td>5191390.0</td>\n",
       "    </tr>\n",
       "    <tr>\n",
       "      <th>2421</th>\n",
       "      <td>96151.0</td>\n",
       "      <td>32.0</td>\n",
       "      <td>1.623227e+09</td>\n",
       "      <td>165.0</td>\n",
       "      <td>20.202020</td>\n",
       "      <td>9.0</td>\n",
       "      <td>144.0</td>\n",
       "      <td>0.0</td>\n",
       "      <td>0.0</td>\n",
       "      <td>1.0</td>\n",
       "      <td>...</td>\n",
       "      <td>1.0</td>\n",
       "      <td>0.0</td>\n",
       "      <td>1.0</td>\n",
       "      <td>1.0</td>\n",
       "      <td>8.110619</td>\n",
       "      <td>-4.412619</td>\n",
       "      <td>1.617606e+09</td>\n",
       "      <td>14.0</td>\n",
       "      <td>20.0</td>\n",
       "      <td>5620880.0</td>\n",
       "    </tr>\n",
       "    <tr>\n",
       "      <th>2422</th>\n",
       "      <td>97453.0</td>\n",
       "      <td>29.0</td>\n",
       "      <td>1.623233e+09</td>\n",
       "      <td>172.0</td>\n",
       "      <td>30.421850</td>\n",
       "      <td>7.0</td>\n",
       "      <td>120.0</td>\n",
       "      <td>0.0</td>\n",
       "      <td>0.0</td>\n",
       "      <td>1.0</td>\n",
       "      <td>...</td>\n",
       "      <td>1.0</td>\n",
       "      <td>0.0</td>\n",
       "      <td>0.0</td>\n",
       "      <td>1.0</td>\n",
       "      <td>8.129948</td>\n",
       "      <td>-4.394625</td>\n",
       "      <td>1.617782e+09</td>\n",
       "      <td>13.0</td>\n",
       "      <td>18.0</td>\n",
       "      <td>5450923.0</td>\n",
       "    </tr>\n",
       "    <tr>\n",
       "      <th>2423</th>\n",
       "      <td>97453.0</td>\n",
       "      <td>29.0</td>\n",
       "      <td>1.623233e+09</td>\n",
       "      <td>172.0</td>\n",
       "      <td>30.421850</td>\n",
       "      <td>7.0</td>\n",
       "      <td>120.0</td>\n",
       "      <td>0.0</td>\n",
       "      <td>0.0</td>\n",
       "      <td>1.0</td>\n",
       "      <td>...</td>\n",
       "      <td>1.0</td>\n",
       "      <td>0.0</td>\n",
       "      <td>0.0</td>\n",
       "      <td>1.0</td>\n",
       "      <td>14.630487</td>\n",
       "      <td>5.117779</td>\n",
       "      <td>1.617782e+09</td>\n",
       "      <td>13.0</td>\n",
       "      <td>18.0</td>\n",
       "      <td>5450923.0</td>\n",
       "    </tr>\n",
       "  </tbody>\n",
       "</table>\n",
       "<p>2424 rows × 62 columns</p>\n",
       "</div>"
      ],
      "text/plain": [
       "           id   age  date_of_embryo_transfer  w_height      w_bmi  \\\n",
       "0     73373.0  41.0             1.578130e+09     167.0   0.000000   \n",
       "1     90239.0  29.0             1.578658e+09     160.0  31.250000   \n",
       "2     90239.0  29.0             1.578658e+09     160.0  31.250000   \n",
       "3     88248.0  46.0             1.578917e+09     149.0   0.000000   \n",
       "4     86497.0  33.0             1.578907e+09     168.0  30.824830   \n",
       "...       ...   ...                      ...       ...        ...   \n",
       "2419  87866.0  34.0             1.624097e+09     172.0  30.421850   \n",
       "2420  93579.0  35.0             1.622799e+09     170.0  18.685121   \n",
       "2421  96151.0  32.0             1.623227e+09     165.0  20.202020   \n",
       "2422  97453.0  29.0             1.623233e+09     172.0  30.421850   \n",
       "2423  97453.0  29.0             1.623233e+09     172.0  30.421850   \n",
       "\n",
       "      mature_oocytes  num_of_cultivation_hours  embryo_biopsy  ECO  \\\n",
       "0                1.0                     120.0            0.0  1.0   \n",
       "1                4.0                      96.0            0.0  1.0   \n",
       "2                4.0                      96.0            0.0  1.0   \n",
       "3               14.0                     120.0            0.0  0.0   \n",
       "4                2.0                      96.0            0.0  0.0   \n",
       "...              ...                       ...            ...  ...   \n",
       "2419            18.0                     120.0            0.0  1.0   \n",
       "2420            20.0                     120.0            0.0  1.0   \n",
       "2421             9.0                     144.0            0.0  0.0   \n",
       "2422             7.0                     120.0            0.0  0.0   \n",
       "2423             7.0                     120.0            0.0  0.0   \n",
       "\n",
       "      sperm_injection  ...  type_of_infertility  complications  target  \\\n",
       "0                 0.0  ...                  0.0            0.0     1.0   \n",
       "1                 0.0  ...                  1.0            0.0     1.0   \n",
       "2                 0.0  ...                  1.0            0.0     1.0   \n",
       "3                 1.0  ...                  2.0            0.0     1.0   \n",
       "4                 1.0  ...                  2.0            0.0     1.0   \n",
       "...               ...  ...                  ...            ...     ...   \n",
       "2419              0.0  ...                  0.0            0.0     1.0   \n",
       "2420              0.0  ...                  2.0            0.0     0.0   \n",
       "2421              1.0  ...                  1.0            0.0     1.0   \n",
       "2422              1.0  ...                  1.0            0.0     0.0   \n",
       "2423              1.0  ...                  1.0            0.0     0.0   \n",
       "\n",
       "      male_factor  0_embedding  1_embedding  egg_collection_day_time  \\\n",
       "0             0.0     7.922477    17.979599             1.577686e+09   \n",
       "1             0.0    -7.355992    -8.235280             1.578294e+09   \n",
       "2             0.0    -7.343149    -8.248968             1.578294e+09   \n",
       "3             0.0    -1.136464     4.771704             1.578469e+09   \n",
       "4             0.0    -9.615719     4.217209             1.578553e+09   \n",
       "...           ...          ...          ...                      ...   \n",
       "2419          0.0    12.890459    -7.778681             1.617266e+09   \n",
       "2420          0.0    12.875041    -7.763278             1.617608e+09   \n",
       "2421          1.0     8.110619    -4.412619             1.617606e+09   \n",
       "2422          1.0     8.129948    -4.394625             1.617782e+09   \n",
       "2423          1.0    14.630487     5.117779             1.617782e+09   \n",
       "\n",
       "      cycle_day_puncture  cycle_day_transfer  egg_collection_embryo_transfer  \n",
       "0                   16.0                21.0                        444542.0  \n",
       "1                   16.0                20.0                        364500.0  \n",
       "2                   16.0                20.0                        364500.0  \n",
       "3                   15.0                19.0                        448200.0  \n",
       "4                   14.0                18.0                        354083.0  \n",
       "...                  ...                 ...                             ...  \n",
       "2419                18.0                18.0                       6831000.0  \n",
       "2420                16.0                21.0                       5191390.0  \n",
       "2421                14.0                20.0                       5620880.0  \n",
       "2422                13.0                18.0                       5450923.0  \n",
       "2423                13.0                18.0                       5450923.0  \n",
       "\n",
       "[2424 rows x 62 columns]"
      ]
     },
     "execution_count": 206,
     "metadata": {},
     "output_type": "execute_result"
    }
   ],
   "source": [
    "X"
   ]
  },
  {
   "cell_type": "code",
   "execution_count": null,
   "id": "abcd5131",
   "metadata": {},
   "outputs": [],
   "source": []
  },
  {
   "cell_type": "code",
   "execution_count": 207,
   "id": "b57f5ed7",
   "metadata": {},
   "outputs": [],
   "source": [
    "y = dataframe['target']"
   ]
  },
  {
   "cell_type": "code",
   "execution_count": 208,
   "id": "706fdea3",
   "metadata": {},
   "outputs": [],
   "source": [
    "X = X.drop(columns = 'target')"
   ]
  },
  {
   "cell_type": "code",
   "execution_count": 209,
   "id": "16cc40ad",
   "metadata": {},
   "outputs": [],
   "source": [
    "X = X.drop(columns = 'id')"
   ]
  },
  {
   "cell_type": "code",
   "execution_count": null,
   "id": "06dd745e",
   "metadata": {},
   "outputs": [],
   "source": []
  },
  {
   "cell_type": "code",
   "execution_count": 110,
   "id": "b14ce9d8",
   "metadata": {},
   "outputs": [],
   "source": [
    "from sklearn.model_selection import train_test_split\n",
    "\n",
    "X_train, X_val, y_train, y_val = train_test_split(X, y, test_size=0.2, random_state=0)"
   ]
  },
  {
   "cell_type": "code",
   "execution_count": 111,
   "id": "7e1a5c3a",
   "metadata": {},
   "outputs": [
    {
     "name": "stdout",
     "output_type": "stream",
     "text": [
      "CatBoost model is fitted: True\n",
      "CatBoost model parameters:\n",
      "{'iterations': 5, 'learning_rate': 0.1}\n"
     ]
    }
   ],
   "source": [
    "from catboost import CatBoostClassifier\n",
    "\n",
    "clf = CatBoostClassifier(\n",
    "    iterations=5, \n",
    "    learning_rate=0.1, \n",
    "    #loss_function='CrossEntropy'\n",
    ")\n",
    "\n",
    "\n",
    "clf.fit(X_train, y_train,  \n",
    "        eval_set=(X_val, y_val), \n",
    "        verbose=False\n",
    ")\n",
    "\n",
    "print('CatBoost model is fitted: ' + str(clf.is_fitted()))\n",
    "print('CatBoost model parameters:')\n",
    "print(clf.get_params())"
   ]
  },
  {
   "cell_type": "code",
   "execution_count": 112,
   "id": "2fc02c92",
   "metadata": {},
   "outputs": [
    {
     "name": "stdout",
     "output_type": "stream",
     "text": [
      "Learning rate set to 0.276656\n",
      "0:\tlearn: 0.6736109\ttest: 0.6742472\tbest: 0.6742472 (0)\ttotal: 3.29ms\tremaining: 29.7ms\n",
      "1:\tlearn: 0.6634615\ttest: 0.6689016\tbest: 0.6689016 (1)\ttotal: 5.78ms\tremaining: 23.1ms\n",
      "2:\tlearn: 0.6516483\ttest: 0.6539932\tbest: 0.6539932 (2)\ttotal: 8.04ms\tremaining: 18.8ms\n",
      "3:\tlearn: 0.6404498\ttest: 0.6526399\tbest: 0.6526399 (3)\ttotal: 9.95ms\tremaining: 14.9ms\n",
      "4:\tlearn: 0.6280085\ttest: 0.6499001\tbest: 0.6499001 (4)\ttotal: 11.9ms\tremaining: 11.9ms\n",
      "5:\tlearn: 0.6231055\ttest: 0.6460929\tbest: 0.6460929 (5)\ttotal: 13.7ms\tremaining: 9.1ms\n",
      "6:\tlearn: 0.6159654\ttest: 0.6415476\tbest: 0.6415476 (6)\ttotal: 15.5ms\tremaining: 6.66ms\n",
      "7:\tlearn: 0.6111896\ttest: 0.6396653\tbest: 0.6396653 (7)\ttotal: 17.2ms\tremaining: 4.31ms\n",
      "8:\tlearn: 0.6075755\ttest: 0.6410314\tbest: 0.6396653 (7)\ttotal: 18.9ms\tremaining: 2.1ms\n",
      "9:\tlearn: 0.5983497\ttest: 0.6376082\tbest: 0.6376082 (9)\ttotal: 20.6ms\tremaining: 0us\n",
      "\n",
      "bestTest = 0.6376081576\n",
      "bestIteration = 9\n",
      "\n"
     ]
    },
    {
     "data": {
      "text/plain": [
       "<catboost.core.CatBoostClassifier at 0x7f5f80227c40>"
      ]
     },
     "execution_count": 112,
     "metadata": {},
     "output_type": "execute_result"
    }
   ],
   "source": [
    "from catboost import CatBoostClassifier\n",
    "clf = CatBoostClassifier(\n",
    "    iterations=10,\n",
    "#     verbose=5,\n",
    ")\n",
    "\n",
    "clf.fit(\n",
    "    X_train, y_train,\n",
    "    eval_set=(X_val, y_val),\n",
    ")"
   ]
  },
  {
   "cell_type": "code",
   "execution_count": null,
   "id": "61e5f921",
   "metadata": {},
   "outputs": [],
   "source": [
    "clf.get_feature_importance"
   ]
  },
  {
   "cell_type": "code",
   "execution_count": 113,
   "id": "7048bcdb",
   "metadata": {},
   "outputs": [
    {
     "data": {
      "text/plain": [
       "<bound method CatBoost.get_feature_importance of <catboost.core.CatBoostClassifier object at 0x7f5f80227c40>>"
      ]
     },
     "execution_count": 113,
     "metadata": {},
     "output_type": "execute_result"
    }
   ],
   "source": [
    "clf.get_feature_importance"
   ]
  },
  {
   "cell_type": "code",
   "execution_count": 114,
   "id": "730776dd",
   "metadata": {},
   "outputs": [
    {
     "data": {
      "image/png": "[encoded data removed]",
      "text/plain": [
       "<Figure size 1152x1008 with 1 Axes>"
      ]
     },
     "metadata": {
      "needs_background": "light"
     },
     "output_type": "display_data"
    }
   ],
   "source": [
    "cat_imp = pd.Series(clf.get_feature_importance(),\n",
    "                         X.columns)\n",
    "fig, ax = plt.subplots(figsize=(16,14))\n",
    "cat_imp.plot.bar(ax=ax)\n",
    "ax.set_title(\"Важность признаков\")\n",
    "ax.set_ylabel('Важность, %')\n",
    "fig.tight_layout()"
   ]
  },
  {
   "cell_type": "code",
   "execution_count": 115,
   "id": "23c0756e",
   "metadata": {},
   "outputs": [
    {
     "name": "stderr",
     "output_type": "stream",
     "text": [
      "/home/kate/.local/lib/python3.8/site-packages/skopt/optimizer/optimizer.py:449: UserWarning: The objective has been evaluated at this point before.\n",
      "  warnings.warn(\"The objective has been evaluated \"\n",
      "/home/kate/.local/lib/python3.8/site-packages/skopt/optimizer/optimizer.py:449: UserWarning: The objective has been evaluated at this point before.\n",
      "  warnings.warn(\"The objective has been evaluated \"\n",
      "/home/kate/.local/lib/python3.8/site-packages/skopt/optimizer/optimizer.py:449: UserWarning: The objective has been evaluated at this point before.\n",
      "  warnings.warn(\"The objective has been evaluated \"\n",
      "/home/kate/.local/lib/python3.8/site-packages/skopt/optimizer/optimizer.py:449: UserWarning: The objective has been evaluated at this point before.\n",
      "  warnings.warn(\"The objective has been evaluated \"\n",
      "/home/kate/.local/lib/python3.8/site-packages/skopt/optimizer/optimizer.py:449: UserWarning: The objective has been evaluated at this point before.\n",
      "  warnings.warn(\"The objective has been evaluated \"\n"
     ]
    },
    {
     "name": "stdout",
     "output_type": "stream",
     "text": [
      "val. score: 0.6668485013789133\n",
      "test score: 0.7443298969072165\n"
     ]
    }
   ],
   "source": [
    "opt = BayesSearchCV(\n",
    "    RandomForestClassifier(),\n",
    "    {\n",
    "        'n_estimators': (100, 200),\n",
    "        'criterion': ['entropy','log_loss'],\n",
    "        'max_depth': (8, 15),\n",
    "        'min_samples_split': (3,7)\n",
    "    },\n",
    "    n_iter=32,\n",
    "    cv=3\n",
    ")\n",
    "\n",
    "opt.fit(X_train, y_train)\n",
    "\n",
    "print(\"val. score: %s\" % opt.best_score_)\n",
    "print(\"test score: %s\" % opt.score(X_val, y_val))"
   ]
  },
  {
   "cell_type": "code",
   "execution_count": 116,
   "id": "ad730e94",
   "metadata": {},
   "outputs": [
    {
     "name": "stdout",
     "output_type": "stream",
     "text": [
      "<class 'pandas.core.frame.DataFrame'>\n",
      "Int64Index: 2424 entries, 0 to 2434\n",
      "Data columns (total 41 columns):\n",
      " #   Column                            Non-Null Count  Dtype  \n",
      "---  ------                            --------------  -----  \n",
      " 0   duration_of_infertility           1810 non-null   float64\n",
      " 1   egg_collection_day_time           2383 non-null   float64\n",
      " 2   number_of_eco-tries               2363 non-null   float64\n",
      " 3   w_weight                          2415 non-null   float64\n",
      " 4   protocol                          2250 non-null   object \n",
      " 5   gonadotropins                     2353 non-null   object \n",
      " 6   starting_dose                     2353 non-null   object \n",
      " 7   trigger                           2265 non-null   object \n",
      " 8   duration_of_ovarian_stimulation   2253 non-null   float64\n",
      " 9   cycle_day_puncture                2376 non-null   float64\n",
      " 10  cycle_day_transfer                2357 non-null   float64\n",
      " 11  punctuated                        2219 non-null   float64\n",
      " 12  flushed                           885 non-null    float64\n",
      " 13  num_oocytes                       2382 non-null   float64\n",
      " 14  endometrial_thickness_mm          2263 non-null   float64\n",
      " 15  embryologist                      2410 non-null   object \n",
      " 16  method_embryo_biopsy              397 non-null    object \n",
      " 17  crio_sperm_obtained_surgery       6 non-null      object \n",
      " 18  fresh_sperm_obtained_surgery      44 non-null     object \n",
      " 19  ejaculate_volume_ml               2200 non-null   object \n",
      " 20  concen_sperm_cells                2203 non-null   object \n",
      " 21  mobility_of_sperm_%               2181 non-null   object \n",
      " 22  anomal_sperm_%                    2114 non-null   float64\n",
      " 23  normal_sperm_by_biologists        972 non-null    float64\n",
      " 24  outcome_treatment                 2416 non-null   object \n",
      " 25  num_of_fetuses                    1090 non-null   float64\n",
      " 26  m_age                             2310 non-null   float64\n",
      " 27  МАР_lgG                           9 non-null      object \n",
      " 28  m_height                          524 non-null    float64\n",
      " 29  m_weight                          519 non-null    float64\n",
      " 30  health_insurance                  1533 non-null   object \n",
      " 31  MAP_test                          822 non-null    object \n",
      " 32  m_id                              2312 non-null   object \n",
      " 33  protocol_before_transfer          2127 non-null   object \n",
      " 34  timeliness_of_delivery            625 non-null    object \n",
      " 35  fetal_sex                         623 non-null    object \n",
      " 36  fetal_height                      551 non-null    float64\n",
      " 37  fetal_weight                      567 non-null    float64\n",
      " 38  localization_of_pregnancy         230 non-null    object \n",
      " 39  due_date                          621 non-null    object \n",
      " 40  complications_during_pregnancy    38 non-null     object \n",
      "dtypes: float64(19), object(22)\n",
      "memory usage: 795.4+ KB\n"
     ]
    }
   ],
   "source": [
    "dataframe[list_of_null].info()"
   ]
  },
  {
   "cell_type": "code",
   "execution_count": 182,
   "id": "a53d75ac",
   "metadata": {},
   "outputs": [
    {
     "data": {
      "text/plain": [
       "19.0      522\n",
       "20.0      512\n",
       "21.0      395\n",
       "18.0      342\n",
       "17.0      211\n",
       "22.0      125\n",
       "16.0       91\n",
       "23.0       40\n",
       "15.0       35\n",
       "24.0       21\n",
       "25.0       18\n",
       "26.0        9\n",
       "14.0        8\n",
       "29.0        4\n",
       "1.0         3\n",
       "35.0        3\n",
       "30.0        2\n",
       "297.0       2\n",
       "13.0        2\n",
       "27.0        2\n",
       "31.0        2\n",
       "76.0        2\n",
       "96.0        1\n",
       "81.0        1\n",
       "66.0        1\n",
       "137.0       1\n",
       "1650.0      1\n",
       "50.0        1\n",
       "Name: cycle_day_transfer, dtype: int64"
      ]
     },
     "execution_count": 182,
     "metadata": {},
     "output_type": "execute_result"
    }
   ],
   "source": [
    "dataframe.cycle_day_transfer.value_counts()"
   ]
  },
  {
   "cell_type": "code",
   "execution_count": 181,
   "id": "35843f4f",
   "metadata": {},
   "outputs": [
    {
     "data": {
      "text/plain": [
       "count    2357.000000\n",
       "mean       20.534154\n",
       "std        34.802697\n",
       "min         1.000000\n",
       "25%        18.000000\n",
       "50%        19.000000\n",
       "75%        21.000000\n",
       "max      1650.000000\n",
       "Name: cycle_day_transfer, dtype: float64"
      ]
     },
     "execution_count": 181,
     "metadata": {},
     "output_type": "execute_result"
    }
   ],
   "source": [
    "dataframe.cycle_day_transfer.describe()"
   ]
  },
  {
   "cell_type": "code",
   "execution_count": 210,
   "id": "764ab6d5",
   "metadata": {},
   "outputs": [],
   "source": [
    "X.loc[X.cycle_day_transfer>35, 'cycle_day_transfer'] = 35"
   ]
  },
  {
   "cell_type": "code",
   "execution_count": 184,
   "id": "c360636a",
   "metadata": {},
   "outputs": [],
   "source": [
    "dataframe[dataframe.cycle_day_transfer>35].cycle_day_transfer = 35"
   ]
  },
  {
   "cell_type": "code",
   "execution_count": 185,
   "id": "2c854b91",
   "metadata": {},
   "outputs": [
    {
     "data": {
      "text/plain": [
       "19.0    522\n",
       "20.0    512\n",
       "21.0    395\n",
       "18.0    342\n",
       "17.0    211\n",
       "22.0    125\n",
       "16.0     91\n",
       "23.0     40\n",
       "15.0     35\n",
       "24.0     21\n",
       "25.0     18\n",
       "35.0     13\n",
       "26.0      9\n",
       "14.0      8\n",
       "29.0      4\n",
       "1.0       3\n",
       "13.0      2\n",
       "27.0      2\n",
       "31.0      2\n",
       "30.0      2\n",
       "Name: cycle_day_transfer, dtype: int64"
      ]
     },
     "execution_count": 185,
     "metadata": {},
     "output_type": "execute_result"
    }
   ],
   "source": [
    "dataframe.cycle_day_transfer.value_counts()"
   ]
  },
  {
   "cell_type": "code",
   "execution_count": 190,
   "id": "80dbe64c",
   "metadata": {},
   "outputs": [
    {
     "data": {
      "text/plain": [
       "count    2357.000000\n",
       "mean       19.483666\n",
       "std         2.359338\n",
       "min         1.000000\n",
       "25%        18.000000\n",
       "50%        19.000000\n",
       "75%        21.000000\n",
       "max        35.000000\n",
       "Name: cycle_day_transfer, dtype: float64"
      ]
     },
     "execution_count": 190,
     "metadata": {},
     "output_type": "execute_result"
    }
   ],
   "source": [
    "dataframe.cycle_day_transfer.describe()"
   ]
  },
  {
   "cell_type": "code",
   "execution_count": 186,
   "id": "9698194c",
   "metadata": {},
   "outputs": [
    {
     "name": "stdout",
     "output_type": "stream",
     "text": [
      "<class 'pandas.core.series.Series'>\n",
      "Int64Index: 2424 entries, 0 to 2434\n",
      "Series name: cycle_day_transfer\n",
      "Non-Null Count  Dtype  \n",
      "--------------  -----  \n",
      "2357 non-null   float64\n",
      "dtypes: float64(1)\n",
      "memory usage: 37.9 KB\n"
     ]
    }
   ],
   "source": [
    "dataframe.cycle_day_transfer.info()"
   ]
  },
  {
   "cell_type": "code",
   "execution_count": null,
   "id": "c5719e3e",
   "metadata": {},
   "outputs": [],
   "source": [
    "x = dataframe[]"
   ]
  },
  {
   "cell_type": "code",
   "execution_count": 187,
   "id": "b6d663dc",
   "metadata": {},
   "outputs": [],
   "source": [
    "import seaborn as sns\n",
    "import matplotlib.pyplot as plt"
   ]
  },
  {
   "cell_type": "code",
   "execution_count": 188,
   "id": "06c7a2e5",
   "metadata": {},
   "outputs": [
    {
     "data": {
      "image/png": "[encoded data removed]",
      "text/plain": [
       "<Figure size 432x288 with 1 Axes>"
      ]
     },
     "metadata": {
      "needs_background": "light"
     },
     "output_type": "display_data"
    }
   ],
   "source": [
    "fig, ax1 = plt.subplots()\n",
    "sp1 = sns.histplot(data=dataframe, x='cycle_day_transfer',\n",
    "                   element=\"step\", fill=False, ax=ax1)\n",
    "ax1.set_title(r'Гистограмма значений')\n",
    "ax1.set_xlabel(r'День менструального цикла, на который был осуществлён перенос эмбриона')\n",
    "ax1.set_ylabel(r'Агрегированное значение')\n",
    "\n",
    "plt.show()"
   ]
  },
  {
   "cell_type": "code",
   "execution_count": 189,
   "id": "dcfe9da4",
   "metadata": {},
   "outputs": [
    {
     "data": {
      "text/plain": [
       "count    2376.000000\n",
       "mean       15.030724\n",
       "std        33.568561\n",
       "min         0.000000\n",
       "25%        13.000000\n",
       "50%        14.000000\n",
       "75%        15.000000\n",
       "max      1646.000000\n",
       "Name: cycle_day_puncture, dtype: float64"
      ]
     },
     "execution_count": 189,
     "metadata": {},
     "output_type": "execute_result"
    }
   ],
   "source": [
    "dataframe.cycle_day_puncture.describe()"
   ]
  },
  {
   "cell_type": "code",
   "execution_count": 191,
   "id": "ba34561d",
   "metadata": {},
   "outputs": [
    {
     "data": {
      "text/plain": [
       "14.0      588\n",
       "15.0      546\n",
       "13.0      426\n",
       "16.0      294\n",
       "12.0      200\n",
       "17.0      133\n",
       "11.0       70\n",
       "18.0       40\n",
       "19.0       18\n",
       "10.0       15\n",
       "0.0        14\n",
       "21.0        6\n",
       "20.0        5\n",
       "9.0         4\n",
       "25.0        3\n",
       "44.0        2\n",
       "22.0        2\n",
       "29.0        2\n",
       "23.0        2\n",
       "45.0        2\n",
       "35.0        1\n",
       "38.0        1\n",
       "1646.0      1\n",
       "24.0        1\n",
       "Name: cycle_day_puncture, dtype: int64"
      ]
     },
     "execution_count": 191,
     "metadata": {},
     "output_type": "execute_result"
    }
   ],
   "source": [
    "dataframe.cycle_day_puncture.value_counts()"
   ]
  },
  {
   "cell_type": "code",
   "execution_count": 211,
   "id": "4886e4f2",
   "metadata": {},
   "outputs": [],
   "source": [
    "X.loc[X.cycle_day_puncture>38, 'cycle_day_puncture'] = 38"
   ]
  },
  {
   "cell_type": "code",
   "execution_count": 193,
   "id": "6a6b8469",
   "metadata": {},
   "outputs": [
    {
     "data": {
      "text/plain": [
       "14.0    588\n",
       "15.0    546\n",
       "13.0    426\n",
       "16.0    294\n",
       "12.0    200\n",
       "17.0    133\n",
       "11.0     70\n",
       "18.0     40\n",
       "19.0     18\n",
       "10.0     15\n",
       "0.0      14\n",
       "38.0      6\n",
       "21.0      6\n",
       "20.0      5\n",
       "9.0       4\n",
       "25.0      3\n",
       "29.0      2\n",
       "23.0      2\n",
       "22.0      2\n",
       "35.0      1\n",
       "24.0      1\n",
       "Name: cycle_day_puncture, dtype: int64"
      ]
     },
     "execution_count": 193,
     "metadata": {},
     "output_type": "execute_result"
    }
   ],
   "source": [
    "dataframe.cycle_day_puncture.value_counts()"
   ]
  },
  {
   "cell_type": "code",
   "execution_count": 194,
   "id": "1dc675c9",
   "metadata": {},
   "outputs": [
    {
     "data": {
      "image/png": "[encoded data removed]",
      "text/plain": [
       "<Figure size 432x288 with 1 Axes>"
      ]
     },
     "metadata": {
      "needs_background": "light"
     },
     "output_type": "display_data"
    }
   ],
   "source": [
    "fig, ax1 = plt.subplots()\n",
    "sp1 = sns.histplot(data=dataframe, x='cycle_day_puncture',\n",
    "                   element=\"step\", fill=False, ax=ax1)\n",
    "ax1.set_title(r'Гистограмма значений')\n",
    "ax1.set_xlabel(r'День менструального цикла, на который была проведена пункция фолликулов (забор яйцеклеток)')\n",
    "ax1.set_ylabel(r'Агрегированное значение')\n",
    "\n",
    "plt.show()"
   ]
  },
  {
   "cell_type": "code",
   "execution_count": 195,
   "id": "b82324c6",
   "metadata": {},
   "outputs": [
    {
     "data": {
      "text/plain": [
       "count    2376.000000\n",
       "mean       14.343013\n",
       "std         2.448926\n",
       "min         0.000000\n",
       "25%        13.000000\n",
       "50%        14.000000\n",
       "75%        15.000000\n",
       "max        38.000000\n",
       "Name: cycle_day_puncture, dtype: float64"
      ]
     },
     "execution_count": 195,
     "metadata": {},
     "output_type": "execute_result"
    }
   ],
   "source": [
    "dataframe.cycle_day_puncture.describe()"
   ]
  },
  {
   "cell_type": "code",
   "execution_count": 213,
   "id": "6e965ce8",
   "metadata": {},
   "outputs": [
    {
     "name": "stdout",
     "output_type": "stream",
     "text": [
      "CatBoost model is fitted: True\n",
      "CatBoost model parameters:\n",
      "{'iterations': 5, 'learning_rate': 0.1}\n",
      "Learning rate set to 0.276656\n",
      "0:\tlearn: 0.6728701\ttest: 0.6710501\tbest: 0.6710501 (0)\ttotal: 4.34ms\tremaining: 39.1ms\n",
      "1:\tlearn: 0.6601883\ttest: 0.6640759\tbest: 0.6640759 (1)\ttotal: 7.5ms\tremaining: 30ms\n",
      "2:\tlearn: 0.6519553\ttest: 0.6585321\tbest: 0.6585321 (2)\ttotal: 9.59ms\tremaining: 22.4ms\n",
      "3:\tlearn: 0.6447819\ttest: 0.6534397\tbest: 0.6534397 (3)\ttotal: 11.8ms\tremaining: 17.7ms\n",
      "4:\tlearn: 0.6382681\ttest: 0.6556992\tbest: 0.6534397 (3)\ttotal: 13.8ms\tremaining: 13.8ms\n",
      "5:\tlearn: 0.6298190\ttest: 0.6540921\tbest: 0.6534397 (3)\ttotal: 15.7ms\tremaining: 10.5ms\n",
      "6:\tlearn: 0.6176982\ttest: 0.6521558\tbest: 0.6521558 (6)\ttotal: 17.6ms\tremaining: 7.54ms\n",
      "7:\tlearn: 0.6127474\ttest: 0.6501951\tbest: 0.6501951 (7)\ttotal: 19.4ms\tremaining: 4.86ms\n",
      "8:\tlearn: 0.6038427\ttest: 0.6465797\tbest: 0.6465797 (8)\ttotal: 21.3ms\tremaining: 2.36ms\n",
      "9:\tlearn: 0.5962491\ttest: 0.6430268\tbest: 0.6430268 (9)\ttotal: 23.1ms\tremaining: 0us\n",
      "\n",
      "bestTest = 0.6430268398\n",
      "bestIteration = 9\n",
      "\n"
     ]
    },
    {
     "data": {
      "image/png": "[encoded data removed]",
      "text/plain": [
       "<Figure size 1152x1008 with 1 Axes>"
      ]
     },
     "metadata": {
      "needs_background": "light"
     },
     "output_type": "display_data"
    }
   ],
   "source": [
    "\n",
    "\n",
    "X_train, X_val, y_train, y_val = train_test_split(X, y, test_size=0.2, random_state=0)\n",
    "\n",
    "from catboost import CatBoostClassifier\n",
    "\n",
    "clf = CatBoostClassifier(\n",
    "    iterations=5, \n",
    "    learning_rate=0.1, \n",
    "    #loss_function='CrossEntropy'\n",
    ")\n",
    "\n",
    "\n",
    "clf.fit(X_train, y_train,  \n",
    "        eval_set=(X_val, y_val), \n",
    "        verbose=False\n",
    ")\n",
    "\n",
    "print('CatBoost model is fitted: ' + str(clf.is_fitted()))\n",
    "print('CatBoost model parameters:')\n",
    "print(clf.get_params())\n",
    "\n",
    "from catboost import CatBoostClassifier\n",
    "clf = CatBoostClassifier(\n",
    "    iterations=10,\n",
    "#     verbose=5,\n",
    ")\n",
    "\n",
    "clf.fit(\n",
    "    X_train, y_train,\n",
    "    eval_set=(X_val, y_val),\n",
    ")\n",
    "\n",
    "cat_imp = pd.Series(clf.get_feature_importance(),\n",
    "                         X.columns)\n",
    "fig, ax = plt.subplots(figsize=(16,14))\n",
    "cat_imp.plot.bar(ax=ax)\n",
    "ax.set_title(\"Важность признаков\")\n",
    "ax.set_ylabel('Важность, %')\n",
    "fig.tight_layout()"
   ]
  },
  {
   "cell_type": "code",
   "execution_count": 214,
   "id": "84162171",
   "metadata": {},
   "outputs": [
    {
     "name": "stderr",
     "output_type": "stream",
     "text": [
      "/home/kate/.local/lib/python3.8/site-packages/skopt/optimizer/optimizer.py:449: UserWarning: The objective has been evaluated at this point before.\n",
      "  warnings.warn(\"The objective has been evaluated \"\n",
      "/home/kate/.local/lib/python3.8/site-packages/skopt/optimizer/optimizer.py:449: UserWarning: The objective has been evaluated at this point before.\n",
      "  warnings.warn(\"The objective has been evaluated \"\n",
      "/home/kate/.local/lib/python3.8/site-packages/skopt/optimizer/optimizer.py:449: UserWarning: The objective has been evaluated at this point before.\n",
      "  warnings.warn(\"The objective has been evaluated \"\n",
      "/home/kate/.local/lib/python3.8/site-packages/skopt/optimizer/optimizer.py:449: UserWarning: The objective has been evaluated at this point before.\n",
      "  warnings.warn(\"The objective has been evaluated \"\n"
     ]
    },
    {
     "name": "stdout",
     "output_type": "stream",
     "text": [
      "val. score: 0.6771532659268864\n",
      "test score: 0.7319587628865979\n"
     ]
    }
   ],
   "source": [
    "opt = BayesSearchCV(\n",
    "    RandomForestClassifier(),\n",
    "    {\n",
    "        'n_estimators': (100, 200),\n",
    "        'criterion': ['entropy','log_loss'],\n",
    "        'max_depth': (8, 15),\n",
    "        'min_samples_split': (3,7)\n",
    "    },\n",
    "    n_iter=32,\n",
    "    cv=3\n",
    ")\n",
    "\n",
    "opt.fit(X_train, y_train)\n",
    "\n",
    "print(\"val. score: %s\" % opt.best_score_)\n",
    "print(\"test score: %s\" % opt.score(X_val, y_val))"
   ]
  },
  {
   "cell_type": "code",
   "execution_count": null,
   "id": "b6ae614f",
   "metadata": {},
   "outputs": [],
   "source": []
  },
  {
   "cell_type": "code",
   "execution_count": null,
   "id": "5dcb9ecd",
   "metadata": {},
   "outputs": [],
   "source": []
  },
  {
   "cell_type": "code",
   "execution_count": null,
   "id": "8d75a200",
   "metadata": {},
   "outputs": [],
   "source": [
    "cat_imp = pd.Series(clf.get_feature_importance(),\n",
    "                         X.columns)\n",
    "fig, ax = plt.subplots(figsize=(16,14))\n",
    "cat_imp.plot.bar(ax=ax)\n",
    "ax.set_title(\"Важность признаков\")\n",
    "ax.set_ylabel('Важность, %')\n",
    "fig.tight_layout()"
   ]
  }
 ],
 "metadata": {
  "kernelspec": {
   "display_name": "Python 3 (ipykernel)",
   "language": "python",
   "name": "python3"
  },
  "language_info": {
   "codemirror_mode": {
    "name": "ipython",
    "version": 3
   },
   "file_extension": ".py",
   "mimetype": "text/x-python",
   "name": "python",
   "nbconvert_exporter": "python",
   "pygments_lexer": "ipython3",
   "version": "3.8.10"
  }
 },
 "nbformat": 4,
 "nbformat_minor": 5
}
